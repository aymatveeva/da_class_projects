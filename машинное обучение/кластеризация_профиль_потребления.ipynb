{
 "cells": [
  {
   "cell_type": "markdown",
   "metadata": {
    "toc": true
   },
   "source": [
    "<h1>Содержание<span class=\"tocSkip\"></span></h1>\n",
    "<div class=\"toc\"><ul class=\"toc-item\"><li><span><a href=\"#Загрузка-данных\" data-toc-modified-id=\"Загрузка-данных-1\"><span class=\"toc-item-num\">1&nbsp;&nbsp;</span>Загрузка данных</a></span></li><li><span><a href=\"#Изучение-данных\" data-toc-modified-id=\"Изучение-данных-2\"><span class=\"toc-item-num\">2&nbsp;&nbsp;</span>Изучение данных</a></span><ul class=\"toc-item\"><li><span><a href=\"#Первый-взгляд\" data-toc-modified-id=\"Первый-взгляд-2.1\"><span class=\"toc-item-num\">2.1&nbsp;&nbsp;</span>Первый взгляд</a></span></li><li><span><a href=\"#Подробное-изучение\" data-toc-modified-id=\"Подробное-изучение-2.2\"><span class=\"toc-item-num\">2.2&nbsp;&nbsp;</span>Подробное изучение</a></span></li></ul></li><li><span><a href=\"#Предобработка-данных\" data-toc-modified-id=\"Предобработка-данных-3\"><span class=\"toc-item-num\">3&nbsp;&nbsp;</span>Предобработка данных</a></span></li><li><span><a href=\"#Исследовательский-анализ-данных\" data-toc-modified-id=\"Исследовательский-анализ-данных-4\"><span class=\"toc-item-num\">4&nbsp;&nbsp;</span>Исследовательский анализ данных</a></span><ul class=\"toc-item\"><li><span><a href=\"#Выделение-товарных-категорий\" data-toc-modified-id=\"Выделение-товарных-категорий-4.1\"><span class=\"toc-item-num\">4.1&nbsp;&nbsp;</span>Выделение товарных категорий</a></span></li><li><span><a href=\"#Расчёт-характеристик-заказов\" data-toc-modified-id=\"Расчёт-характеристик-заказов-4.2\"><span class=\"toc-item-num\">4.2&nbsp;&nbsp;</span>Расчёт характеристик заказов</a></span></li><li><span><a href=\"#Расчёт-характеристик-покупателей\" data-toc-modified-id=\"Расчёт-характеристик-покупателей-4.3\"><span class=\"toc-item-num\">4.3&nbsp;&nbsp;</span>Расчёт характеристик покупателей</a></span></li><li><span><a href=\"#Исследование-характеристк-покупателей\" data-toc-modified-id=\"Исследование-характеристк-покупателей-4.4\"><span class=\"toc-item-num\">4.4&nbsp;&nbsp;</span>Исследование характеристк покупателей</a></span></li></ul></li><li><span><a href=\"#Кластеризация-покупателей\" data-toc-modified-id=\"Кластеризация-покупателей-5\"><span class=\"toc-item-num\">5&nbsp;&nbsp;</span>Кластеризация покупателей</a></span><ul class=\"toc-item\"><li><span><a href=\"#Выбор-оптимального-числа-кластеров\" data-toc-modified-id=\"Выбор-оптимального-числа-кластеров-5.1\"><span class=\"toc-item-num\">5.1&nbsp;&nbsp;</span>Выбор оптимального числа кластеров</a></span></li><li><span><a href=\"#Кластеризация\" data-toc-modified-id=\"Кластеризация-5.2\"><span class=\"toc-item-num\">5.2&nbsp;&nbsp;</span>Кластеризация</a></span></li><li><span><a href=\"#Проверка-стат.значимости-кластеризации\" data-toc-modified-id=\"Проверка-стат.значимости-кластеризации-5.3\"><span class=\"toc-item-num\">5.3&nbsp;&nbsp;</span>Проверка стат.значимости кластеризации</a></span></li></ul></li><li><span><a href=\"#Рекомендации\" data-toc-modified-id=\"Рекомендации-6\"><span class=\"toc-item-num\">6&nbsp;&nbsp;</span>Рекомендации</a></span></li></ul></div>"
   ]
  },
  {
   "cell_type": "markdown",
   "metadata": {},
   "source": [
    "# Сегментация покупателей по профилю потребления"
   ]
  },
  {
   "cell_type": "markdown",
   "metadata": {},
   "source": [
    "**Материалы**:\n",
    "* [Презентация](https://drive.google.com/file/d/1BsIhczYmvlCiKUxFA4mB3Tdsv2yl1tP8/view?usp=sharing)\n",
    "* [Дашборд](https://public.tableau.com/views/__16318899266440/sheet2?:language=en-US&publish=yes&:display_count=n&:origin=viz_share_link) (вариант 2)"
   ]
  },
  {
   "cell_type": "markdown",
   "metadata": {},
   "source": [
    "## Загрузка данных"
   ]
  },
  {
   "cell_type": "code",
   "execution_count": 1,
   "metadata": {},
   "outputs": [],
   "source": [
    "# Основные\n",
    "import pandas as pd\n",
    "import numpy as np\n",
    "import datetime as dt\n",
    "import warnings \n",
    "# Визуализация\n",
    "import seaborn as sns\n",
    "import matplotlib.pyplot as plt\n",
    "import plotly.express as px\n",
    "from plotly.subplots import make_subplots\n",
    "from plotly import graph_objects as go \n",
    "# Машинное обучение\n",
    "from scipy import stats as st\n",
    "from sklearn.preprocessing import StandardScaler\n",
    "from sklearn.cluster import KMeans\n",
    "from scipy.cluster.hierarchy import dendrogram, linkage"
   ]
  },
  {
   "cell_type": "code",
   "execution_count": 2,
   "metadata": {},
   "outputs": [],
   "source": [
    "warnings.filterwarnings('ignore')"
   ]
  },
  {
   "cell_type": "code",
   "execution_count": 3,
   "metadata": {},
   "outputs": [],
   "source": [
    "pd.set_option('display.max_colwidth', None) \n",
    "pd.set_option('display.max_rows', None) "
   ]
  },
  {
   "cell_type": "code",
   "execution_count": 4,
   "metadata": {},
   "outputs": [],
   "source": [
    "data = pd.read_csv('/datasets/ecommerce_dataset.csv')"
   ]
  },
  {
   "cell_type": "markdown",
   "metadata": {},
   "source": [
    "## Изучение данных"
   ]
  },
  {
   "cell_type": "markdown",
   "metadata": {},
   "source": [
    "### Первый взгляд"
   ]
  },
  {
   "cell_type": "code",
   "execution_count": 5,
   "metadata": {},
   "outputs": [
    {
     "name": "stdout",
     "output_type": "stream",
     "text": [
      "<class 'pandas.core.frame.DataFrame'>\n",
      "RangeIndex: 6737 entries, 0 to 6736\n",
      "Data columns (total 6 columns):\n",
      " #   Column       Non-Null Count  Dtype  \n",
      "---  ------       --------------  -----  \n",
      " 0   date         6737 non-null   int64  \n",
      " 1   customer_id  6737 non-null   object \n",
      " 2   order_id     6737 non-null   int64  \n",
      " 3   product      6737 non-null   object \n",
      " 4   quantity     6737 non-null   int64  \n",
      " 5   price        6737 non-null   float64\n",
      "dtypes: float64(1), int64(3), object(2)\n",
      "memory usage: 315.9+ KB\n",
      "\n",
      "Количество повторяющихся строк — 0\n"
     ]
    },
    {
     "data": {
      "text/html": [
       "<div>\n",
       "<style scoped>\n",
       "    .dataframe tbody tr th:only-of-type {\n",
       "        vertical-align: middle;\n",
       "    }\n",
       "\n",
       "    .dataframe tbody tr th {\n",
       "        vertical-align: top;\n",
       "    }\n",
       "\n",
       "    .dataframe thead th {\n",
       "        text-align: right;\n",
       "    }\n",
       "</style>\n",
       "<table border=\"1\" class=\"dataframe\">\n",
       "  <thead>\n",
       "    <tr style=\"text-align: right;\">\n",
       "      <th></th>\n",
       "      <th>date</th>\n",
       "      <th>customer_id</th>\n",
       "      <th>order_id</th>\n",
       "      <th>product</th>\n",
       "      <th>quantity</th>\n",
       "      <th>price</th>\n",
       "    </tr>\n",
       "  </thead>\n",
       "  <tbody>\n",
       "    <tr>\n",
       "      <th>0</th>\n",
       "      <td>2018100100</td>\n",
       "      <td>ee47d746-6d2f-4d3c-9622-c31412542920</td>\n",
       "      <td>68477</td>\n",
       "      <td>Комнатное растение в горшке Алое Вера, d12, h30</td>\n",
       "      <td>1</td>\n",
       "      <td>142.0</td>\n",
       "    </tr>\n",
       "    <tr>\n",
       "      <th>1</th>\n",
       "      <td>2018100100</td>\n",
       "      <td>ee47d746-6d2f-4d3c-9622-c31412542920</td>\n",
       "      <td>68477</td>\n",
       "      <td>Комнатное растение в горшке Кофе Арабика, d12, h25</td>\n",
       "      <td>1</td>\n",
       "      <td>194.0</td>\n",
       "    </tr>\n",
       "    <tr>\n",
       "      <th>2</th>\n",
       "      <td>2018100100</td>\n",
       "      <td>ee47d746-6d2f-4d3c-9622-c31412542920</td>\n",
       "      <td>68477</td>\n",
       "      <td>Радермахера d-12 см h-20 см</td>\n",
       "      <td>1</td>\n",
       "      <td>112.0</td>\n",
       "    </tr>\n",
       "    <tr>\n",
       "      <th>3</th>\n",
       "      <td>2018100100</td>\n",
       "      <td>ee47d746-6d2f-4d3c-9622-c31412542920</td>\n",
       "      <td>68477</td>\n",
       "      <td>Хризолидокарпус Лутесценс d-9 см</td>\n",
       "      <td>1</td>\n",
       "      <td>179.0</td>\n",
       "    </tr>\n",
       "    <tr>\n",
       "      <th>4</th>\n",
       "      <td>2018100100</td>\n",
       "      <td>ee47d746-6d2f-4d3c-9622-c31412542920</td>\n",
       "      <td>68477</td>\n",
       "      <td>Циперус Зумула d-12 см h-25 см</td>\n",
       "      <td>1</td>\n",
       "      <td>112.0</td>\n",
       "    </tr>\n",
       "  </tbody>\n",
       "</table>\n",
       "</div>"
      ],
      "text/plain": [
       "         date                           customer_id  order_id  \\\n",
       "0  2018100100  ee47d746-6d2f-4d3c-9622-c31412542920     68477   \n",
       "1  2018100100  ee47d746-6d2f-4d3c-9622-c31412542920     68477   \n",
       "2  2018100100  ee47d746-6d2f-4d3c-9622-c31412542920     68477   \n",
       "3  2018100100  ee47d746-6d2f-4d3c-9622-c31412542920     68477   \n",
       "4  2018100100  ee47d746-6d2f-4d3c-9622-c31412542920     68477   \n",
       "\n",
       "                                              product  quantity  price  \n",
       "0     Комнатное растение в горшке Алое Вера, d12, h30         1  142.0  \n",
       "1  Комнатное растение в горшке Кофе Арабика, d12, h25         1  194.0  \n",
       "2                         Радермахера d-12 см h-20 см         1  112.0  \n",
       "3                    Хризолидокарпус Лутесценс d-9 см         1  179.0  \n",
       "4                      Циперус Зумула d-12 см h-25 см         1  112.0  "
      ]
     },
     "metadata": {},
     "output_type": "display_data"
    }
   ],
   "source": [
    "data.info() \n",
    "print('\\nКоличество повторяющихся строк —', data.duplicated().sum())\n",
    "display(data.head())"
   ]
  },
  {
   "cell_type": "markdown",
   "metadata": {},
   "source": [
    "<div style=\"border-radius: 15px; border: 3px solid indigo; padding: 15px;\">\n",
    "<b>Вывод</b><br>\n",
    "<li>дубликатов не обнаружено</li>\n",
    "<li>пропусков не обнаружено</li>\n",
    "<li>привести поле <b>date</b> к типу <b>datetime</b></li>\n",
    "</div>"
   ]
  },
  {
   "cell_type": "markdown",
   "metadata": {},
   "source": [
    "### Подробное изучение"
   ]
  },
  {
   "cell_type": "code",
   "execution_count": 6,
   "metadata": {},
   "outputs": [
    {
     "data": {
      "text/html": [
       "<div>\n",
       "<style scoped>\n",
       "    .dataframe tbody tr th:only-of-type {\n",
       "        vertical-align: middle;\n",
       "    }\n",
       "\n",
       "    .dataframe tbody tr th {\n",
       "        vertical-align: top;\n",
       "    }\n",
       "\n",
       "    .dataframe thead th {\n",
       "        text-align: right;\n",
       "    }\n",
       "</style>\n",
       "<table border=\"1\" class=\"dataframe\">\n",
       "  <thead>\n",
       "    <tr style=\"text-align: right;\">\n",
       "      <th></th>\n",
       "      <th>order_id</th>\n",
       "      <th>dates_cnt</th>\n",
       "    </tr>\n",
       "  </thead>\n",
       "  <tbody>\n",
       "    <tr>\n",
       "      <th>0</th>\n",
       "      <td>14833</td>\n",
       "      <td>74</td>\n",
       "    </tr>\n",
       "    <tr>\n",
       "      <th>1</th>\n",
       "      <td>70960</td>\n",
       "      <td>60</td>\n",
       "    </tr>\n",
       "    <tr>\n",
       "      <th>2</th>\n",
       "      <td>69162</td>\n",
       "      <td>23</td>\n",
       "    </tr>\n",
       "    <tr>\n",
       "      <th>3</th>\n",
       "      <td>71148</td>\n",
       "      <td>16</td>\n",
       "    </tr>\n",
       "    <tr>\n",
       "      <th>4</th>\n",
       "      <td>69531</td>\n",
       "      <td>12</td>\n",
       "    </tr>\n",
       "  </tbody>\n",
       "</table>\n",
       "</div>"
      ],
      "text/plain": [
       "   order_id  dates_cnt\n",
       "0     14833         74\n",
       "1     70960         60\n",
       "2     69162         23\n",
       "3     71148         16\n",
       "4     69531         12"
      ]
     },
     "execution_count": 6,
     "metadata": {},
     "output_type": "execute_result"
    }
   ],
   "source": [
    "data.groupby('order_id').agg(dates_cnt=('date','nunique')).reset_index()\\\n",
    "                        .query('dates_cnt >1').sort_values(by='dates_cnt', ascending=False).reset_index(drop=True).head()"
   ]
  },
  {
   "cell_type": "code",
   "execution_count": 7,
   "metadata": {},
   "outputs": [
    {
     "data": {
      "text/plain": [
       "dates_cnt    284\n",
       "dtype: int64"
      ]
     },
     "execution_count": 7,
     "metadata": {},
     "output_type": "execute_result"
    }
   ],
   "source": [
    "data.groupby('order_id').agg(dates_cnt=('date','nunique')).query('dates_cnt >1').count()"
   ]
  },
  {
   "cell_type": "markdown",
   "metadata": {},
   "source": [
    "<div style=\"border-radius: 15px; border: 3px solid indigo; padding: 15px;\">\n",
    "<b>Вывод</b><br>\n",
    "<li>у некоторых записей совпадают значения основных полей (<b>order_id</b>, <b>customer_id</b>, <b>product</b>), но не совпадает время заказа</li>\n",
    "<li>вероятно, поле <b>date</b> на самом деле хранит дату и время изменения записи </li>\n",
    "<li>поэтому для каждого заказа следует оставить только запись, относящуюся к его последнему состоянию</li>\n",
    "</div>"
   ]
  },
  {
   "cell_type": "code",
   "execution_count": 8,
   "metadata": {},
   "outputs": [
    {
     "data": {
      "text/html": [
       "<div>\n",
       "<style scoped>\n",
       "    .dataframe tbody tr th:only-of-type {\n",
       "        vertical-align: middle;\n",
       "    }\n",
       "\n",
       "    .dataframe tbody tr th {\n",
       "        vertical-align: top;\n",
       "    }\n",
       "\n",
       "    .dataframe thead th {\n",
       "        text-align: right;\n",
       "    }\n",
       "</style>\n",
       "<table border=\"1\" class=\"dataframe\">\n",
       "  <thead>\n",
       "    <tr style=\"text-align: right;\">\n",
       "      <th></th>\n",
       "      <th>order_id</th>\n",
       "      <th>customers_cnt</th>\n",
       "    </tr>\n",
       "  </thead>\n",
       "  <tbody>\n",
       "    <tr>\n",
       "      <th>0</th>\n",
       "      <td>72845</td>\n",
       "      <td>4</td>\n",
       "    </tr>\n",
       "    <tr>\n",
       "      <th>1</th>\n",
       "      <td>69485</td>\n",
       "      <td>3</td>\n",
       "    </tr>\n",
       "    <tr>\n",
       "      <th>2</th>\n",
       "      <td>71480</td>\n",
       "      <td>3</td>\n",
       "    </tr>\n",
       "    <tr>\n",
       "      <th>3</th>\n",
       "      <td>14872</td>\n",
       "      <td>2</td>\n",
       "    </tr>\n",
       "    <tr>\n",
       "      <th>4</th>\n",
       "      <td>70946</td>\n",
       "      <td>2</td>\n",
       "    </tr>\n",
       "  </tbody>\n",
       "</table>\n",
       "</div>"
      ],
      "text/plain": [
       "   order_id  customers_cnt\n",
       "0     72845              4\n",
       "1     69485              3\n",
       "2     71480              3\n",
       "3     14872              2\n",
       "4     70946              2"
      ]
     },
     "execution_count": 8,
     "metadata": {},
     "output_type": "execute_result"
    }
   ],
   "source": [
    "data.groupby('order_id').agg(customers_cnt=('customer_id','nunique')).reset_index()\\\n",
    "                    .query('customers_cnt>1').sort_values(by='customers_cnt', ascending=False).reset_index(drop=True).head()"
   ]
  },
  {
   "cell_type": "code",
   "execution_count": 9,
   "metadata": {},
   "outputs": [
    {
     "data": {
      "text/plain": [
       "customers_cnt    29\n",
       "dtype: int64"
      ]
     },
     "execution_count": 9,
     "metadata": {},
     "output_type": "execute_result"
    }
   ],
   "source": [
    "data.groupby('order_id').agg(customers_cnt=('customer_id','nunique')).query('customers_cnt>1').count()"
   ]
  },
  {
   "cell_type": "code",
   "execution_count": 10,
   "metadata": {},
   "outputs": [
    {
     "data": {
      "text/html": [
       "<div>\n",
       "<style scoped>\n",
       "    .dataframe tbody tr th:only-of-type {\n",
       "        vertical-align: middle;\n",
       "    }\n",
       "\n",
       "    .dataframe tbody tr th {\n",
       "        vertical-align: top;\n",
       "    }\n",
       "\n",
       "    .dataframe thead th {\n",
       "        text-align: right;\n",
       "    }\n",
       "</style>\n",
       "<table border=\"1\" class=\"dataframe\">\n",
       "  <thead>\n",
       "    <tr style=\"text-align: right;\">\n",
       "      <th></th>\n",
       "      <th>date</th>\n",
       "      <th>customer_id</th>\n",
       "      <th>order_id</th>\n",
       "      <th>product</th>\n",
       "      <th>quantity</th>\n",
       "      <th>price</th>\n",
       "    </tr>\n",
       "  </thead>\n",
       "  <tbody>\n",
       "    <tr>\n",
       "      <th>2579</th>\n",
       "      <td>2019040109</td>\n",
       "      <td>6a4d397b-8f89-4382-89b3-9ef535eee80d</td>\n",
       "      <td>70946</td>\n",
       "      <td>Пеларгония розебудная Prins Nikolai укорененный черенок</td>\n",
       "      <td>1</td>\n",
       "      <td>134.0</td>\n",
       "    </tr>\n",
       "    <tr>\n",
       "      <th>3467</th>\n",
       "      <td>2019050816</td>\n",
       "      <td>753660bf-a1ea-4447-853d-622e47c1c6ac</td>\n",
       "      <td>70946</td>\n",
       "      <td>Пеларгония розебудная Prins Nikolai укорененный черенок</td>\n",
       "      <td>1</td>\n",
       "      <td>134.0</td>\n",
       "    </tr>\n",
       "  </tbody>\n",
       "</table>\n",
       "</div>"
      ],
      "text/plain": [
       "            date                           customer_id  order_id  \\\n",
       "2579  2019040109  6a4d397b-8f89-4382-89b3-9ef535eee80d     70946   \n",
       "3467  2019050816  753660bf-a1ea-4447-853d-622e47c1c6ac     70946   \n",
       "\n",
       "                                                      product  quantity  price  \n",
       "2579  Пеларгония розебудная Prins Nikolai укорененный черенок         1  134.0  \n",
       "3467  Пеларгония розебудная Prins Nikolai укорененный черенок         1  134.0  "
      ]
     },
     "execution_count": 10,
     "metadata": {},
     "output_type": "execute_result"
    }
   ],
   "source": [
    "data.query('order_id == 70946')"
   ]
  },
  {
   "cell_type": "markdown",
   "metadata": {},
   "source": [
    "<div style=\"border-radius: 15px; border: 3px solid indigo; padding: 15px;\">\n",
    "<b>Вывод</b><br>\n",
    "<li>как разные пользователи ухитрились в разное время сделать одинаковые по составу заказы с одинаковыми индентификаторами — загадка</li>\n",
    "<li>такие заказы лучше удалить, к счастью, их немного</li>\n",
    "</div>"
   ]
  },
  {
   "cell_type": "markdown",
   "metadata": {},
   "source": [
    "## Предобработка данных"
   ]
  },
  {
   "cell_type": "code",
   "execution_count": 11,
   "metadata": {},
   "outputs": [],
   "source": [
    "data['date'] = data['date'].apply((lambda x : dt.datetime.strptime(str(x), '%Y%m%d%H').strftime('%Y-%m-%d %H')))"
   ]
  },
  {
   "cell_type": "code",
   "execution_count": 12,
   "metadata": {},
   "outputs": [
    {
     "data": {
      "text/html": [
       "<div>\n",
       "<style scoped>\n",
       "    .dataframe tbody tr th:only-of-type {\n",
       "        vertical-align: middle;\n",
       "    }\n",
       "\n",
       "    .dataframe tbody tr th {\n",
       "        vertical-align: top;\n",
       "    }\n",
       "\n",
       "    .dataframe thead th {\n",
       "        text-align: right;\n",
       "    }\n",
       "</style>\n",
       "<table border=\"1\" class=\"dataframe\">\n",
       "  <thead>\n",
       "    <tr style=\"text-align: right;\">\n",
       "      <th></th>\n",
       "      <th>date</th>\n",
       "      <th>customer_id</th>\n",
       "      <th>order_id</th>\n",
       "      <th>product</th>\n",
       "      <th>quantity</th>\n",
       "      <th>price</th>\n",
       "    </tr>\n",
       "  </thead>\n",
       "  <tbody>\n",
       "    <tr>\n",
       "      <th>0</th>\n",
       "      <td>2018-10-01 00</td>\n",
       "      <td>ee47d746-6d2f-4d3c-9622-c31412542920</td>\n",
       "      <td>68477</td>\n",
       "      <td>Комнатное растение в горшке Алое Вера, d12, h30</td>\n",
       "      <td>1</td>\n",
       "      <td>142.0</td>\n",
       "    </tr>\n",
       "    <tr>\n",
       "      <th>1</th>\n",
       "      <td>2018-10-01 00</td>\n",
       "      <td>ee47d746-6d2f-4d3c-9622-c31412542920</td>\n",
       "      <td>68477</td>\n",
       "      <td>Комнатное растение в горшке Кофе Арабика, d12, h25</td>\n",
       "      <td>1</td>\n",
       "      <td>194.0</td>\n",
       "    </tr>\n",
       "    <tr>\n",
       "      <th>2</th>\n",
       "      <td>2018-10-01 00</td>\n",
       "      <td>ee47d746-6d2f-4d3c-9622-c31412542920</td>\n",
       "      <td>68477</td>\n",
       "      <td>Радермахера d-12 см h-20 см</td>\n",
       "      <td>1</td>\n",
       "      <td>112.0</td>\n",
       "    </tr>\n",
       "    <tr>\n",
       "      <th>3</th>\n",
       "      <td>2018-10-01 00</td>\n",
       "      <td>ee47d746-6d2f-4d3c-9622-c31412542920</td>\n",
       "      <td>68477</td>\n",
       "      <td>Хризолидокарпус Лутесценс d-9 см</td>\n",
       "      <td>1</td>\n",
       "      <td>179.0</td>\n",
       "    </tr>\n",
       "    <tr>\n",
       "      <th>4</th>\n",
       "      <td>2018-10-01 00</td>\n",
       "      <td>ee47d746-6d2f-4d3c-9622-c31412542920</td>\n",
       "      <td>68477</td>\n",
       "      <td>Циперус Зумула d-12 см h-25 см</td>\n",
       "      <td>1</td>\n",
       "      <td>112.0</td>\n",
       "    </tr>\n",
       "  </tbody>\n",
       "</table>\n",
       "</div>"
      ],
      "text/plain": [
       "            date                           customer_id  order_id  \\\n",
       "0  2018-10-01 00  ee47d746-6d2f-4d3c-9622-c31412542920     68477   \n",
       "1  2018-10-01 00  ee47d746-6d2f-4d3c-9622-c31412542920     68477   \n",
       "2  2018-10-01 00  ee47d746-6d2f-4d3c-9622-c31412542920     68477   \n",
       "3  2018-10-01 00  ee47d746-6d2f-4d3c-9622-c31412542920     68477   \n",
       "4  2018-10-01 00  ee47d746-6d2f-4d3c-9622-c31412542920     68477   \n",
       "\n",
       "                                              product  quantity  price  \n",
       "0     Комнатное растение в горшке Алое Вера, d12, h30         1  142.0  \n",
       "1  Комнатное растение в горшке Кофе Арабика, d12, h25         1  194.0  \n",
       "2                         Радермахера d-12 см h-20 см         1  112.0  \n",
       "3                    Хризолидокарпус Лутесценс d-9 см         1  179.0  \n",
       "4                      Циперус Зумула d-12 см h-25 см         1  112.0  "
      ]
     },
     "execution_count": 12,
     "metadata": {},
     "output_type": "execute_result"
    }
   ],
   "source": [
    "data.head()"
   ]
  },
  {
   "cell_type": "code",
   "execution_count": 13,
   "metadata": {},
   "outputs": [],
   "source": [
    "data = data.sort_values(by=['order_id', 'date'])\\\n",
    "                .drop_duplicates(subset=['order_id', 'customer_id', 'product'], keep='last').copy()"
   ]
  },
  {
   "cell_type": "code",
   "execution_count": 14,
   "metadata": {},
   "outputs": [],
   "source": [
    "data = data[~(data.order_id.isin(data.groupby('order_id').agg(customers_cnt=('customer_id','nunique')).reset_index()\\\n",
    "                     .query('customers_cnt>1')['order_id']))].copy()"
   ]
  },
  {
   "cell_type": "code",
   "execution_count": 15,
   "metadata": {},
   "outputs": [
    {
     "data": {
      "text/plain": [
       "4785"
      ]
     },
     "execution_count": 15,
     "metadata": {},
     "output_type": "execute_result"
    }
   ],
   "source": [
    "len(data)"
   ]
  },
  {
   "cell_type": "markdown",
   "metadata": {},
   "source": [
    "<div style=\"border-radius: 15px; border: 3px solid indigo; padding: 15px;\">\n",
    "<b>Вывод</b><br>\n",
    "<li>поле <b>date</b> приведено к типу <b>datetime</b></li>\n",
    "<li>исключены неактуальные состояния записей</li> \n",
    "<li>исключены заказы, сделанные несколькими пользователями</li> \n",
    "</div>"
   ]
  },
  {
   "cell_type": "markdown",
   "metadata": {},
   "source": [
    "## Исследовательский анализ данных"
   ]
  },
  {
   "cell_type": "code",
   "execution_count": 16,
   "metadata": {},
   "outputs": [],
   "source": [
    "# Построение графиков\n",
    "def draw_chart(data, kind, data_y=None, data_x=None, title=None, xlabel=None, ylabel = None\n",
    "               , height=None, width=None\n",
    "               , vmax=None, fmt=None, color = None, color_name=None):\n",
    "        # Гистограмма\n",
    "    if kind == 'hist':\n",
    "        # Количество корзин\n",
    "        def calc_bins (data, data_y):\n",
    "            if data[data_y].max() < 20:\n",
    "                return 100\n",
    "            else: return 50\n",
    "        # График\n",
    "        calculated_bins = calc_bins(data, data_y)\n",
    "        fig = px.histogram(data, x = data_y, nbins=calculated_bins, color=color)        \n",
    "    # Тепловая карта     \n",
    "    elif kind == 'heatmap':\n",
    "        sns.set(style='white')\n",
    "        plt.figure(figsize=(13, 9)) \n",
    "        plt.title(title, fontsize=16)\n",
    "        fig = sns.heatmap(data, annot=True, linewidths=1, linecolor='gray', fmt=fmt)\n",
    "        plt.xticks(rotation=45) \n",
    "        plt.yticks(rotation=45) \n",
    "        plt.gcf().autofmt_xdate()\n",
    "    # Точечный\n",
    "    elif kind == 'scatter':\n",
    "        fig = px.scatter(data_frame =data, x = data_x, y=data_y)\n",
    "    # Столбцовый\n",
    "    elif kind == 'bar':\n",
    "        fig = px.bar(data, x=data_x, y=data_y, color=color, labels={color:color_name}#, text=data_y              \n",
    "                    )\n",
    "        #fig.layout.yaxis.showticklabels=False\n",
    "    # Линейный\n",
    "    elif kind == 'line':\n",
    "        fig = px.line(data, x=data_x, y=data_y)\n",
    "    # Бокс \n",
    "    elif kind == 'box':\n",
    "        plt.figure(figsize=(15, 10)) \n",
    "        fig = px.box(data, x=data_x, y=data_y)\n",
    "        plt.show() \n",
    "    # Дендрограмма\n",
    "    elif kind == 'dendrogram':\n",
    "        plt.figure(figsize=(15, 10))\n",
    "        fig=dendrogram(data, orientation='top',no_labels=True)\n",
    "        plt.title(title)\n",
    "        \n",
    "    if kind !='hist' and kind !='heatmap' and kind !='dendrogram':\n",
    "        fig.update_layout(\n",
    "        height=height, width=width,\n",
    "        title='<b>%s</b>'%(title), title_x=0.5, title_font_color = 'black',\n",
    "        xaxis_title='%s'%(xlabel), xaxis_title_font_color = 'black',\n",
    "        yaxis_title='%s'%(ylabel), yaxis_title_font_color = 'black',\n",
    "        font=dict(family='Calibri, monospace', size=16, color='#7f7f7f'))\n",
    "    elif kind =='hist':\n",
    "        fig.update_layout(\n",
    "        height=height, width=width,\n",
    "        title='<b>Распределение по %s</b>'%(data_y), title_x=0.5, title_font_color = 'black',\n",
    "        xaxis_title='Значение', xaxis_title_font_color = 'black',\n",
    "        yaxis_title='Частота', yaxis_title_font_color = 'black',\n",
    "        font=dict(family='Calibri, monospace', size=16, color='#7f7f7f'))\n",
    "    if kind !='dendrogram':\n",
    "        return fig  "
   ]
  },
  {
   "cell_type": "markdown",
   "metadata": {},
   "source": [
    "### Выделение товарных категорий\n",
    "* растения (комнатные, садовые, семена)\n",
    "* товары для дома (посуда, техника, сумки, искусственные цветы)"
   ]
  },
  {
   "cell_type": "code",
   "execution_count": 17,
   "metadata": {},
   "outputs": [],
   "source": [
    "pot_plants = ['комнатн', 'в горшке', 'горшок', 'горшка', 'кашпо', 'домашн', 'd-', 'растение', 'пеларгония', 'объем',\n",
    "             'петуния', 'лобелия', 'примула', 'цикломен', 'фуксия', 'калибрахоа', 'бегония', 'вербена', 'вербейник',\n",
    "             'бакопа','роза', 'калла', 'тюльпан', 'осина', 'гвоздика']\n",
    "sprouts = ['рассада', 'черенок', 'томат', 'огурец', 'тыква', 'дыня', 'арбуз', 'клубника', 'сельдерей', 'кассет'\n",
    "           , 'баклажан', 'патисcон', 'базилик', 'земляника', 'виноград']\n",
    "house = ['щетка', 'щётка', 'таз', 'вантуз', 'этажерка', 'веревка', 'сумка', 'тележка', 'скатерть', 'посуд']\n",
    "dummies = ['муляж','искусственный цветок', 'цветок искусственный', 'искуственных цветов', 'искусственная лиана']\n",
    "seeds = [' г ', '46500', '4660']"
   ]
  },
  {
   "cell_type": "code",
   "execution_count": 18,
   "metadata": {},
   "outputs": [],
   "source": [
    "def class_product(data, column, new_column, category, good_words, bad_words=None):\n",
    "    gw = '|'.join(good_words)\n",
    "    if bad_words is not None:\n",
    "        bw = '|'.join(bad_words)\n",
    "        data.loc[(data[column].str.lower().str.contains(gw))&(~(data[column].str.lower().str.contains(bw))), new_column] =\\\n",
    "        category\n",
    "    else:\n",
    "        data.loc[(data[column].str.lower().str.contains(gw)), new_column] =\\\n",
    "        category"
   ]
  },
  {
   "cell_type": "code",
   "execution_count": 19,
   "metadata": {},
   "outputs": [],
   "source": [
    "class_product(data, 'product', 'product_type', 'растения', pot_plants+sprouts+seeds, house+dummies)"
   ]
  },
  {
   "cell_type": "code",
   "execution_count": 20,
   "metadata": {},
   "outputs": [],
   "source": [
    "data.product_type = data.product_type.fillna('хозтовары')"
   ]
  },
  {
   "cell_type": "markdown",
   "metadata": {},
   "source": [
    "### Расчёт характеристик заказов\n",
    "* количество позиций (**sku_cnt**)\n",
    "* количество предметов (**items_cnt**)\n",
    "* общая сумма (**order_sum**)\n",
    "* количество категорий товара (**types_cnt**)\n",
    "* основная категория — по числу товаров, относящихся к категории — (**mayor_type**)"
   ]
  },
  {
   "cell_type": "code",
   "execution_count": 21,
   "metadata": {},
   "outputs": [],
   "source": [
    "orders = data.groupby(['order_id', 'date', 'customer_id']).agg(sku_cnt =('product','nunique')\n",
    "                                                               , items_cnt =('quantity','sum')\n",
    "                                                               , types_cnt = ('product_type','nunique')\n",
    "                                                               , mayor_type = ('product_type',list)).reset_index()"
   ]
  },
  {
   "cell_type": "code",
   "execution_count": 22,
   "metadata": {},
   "outputs": [],
   "source": [
    "orders.mayor_type = orders.mayor_type.apply(lambda x: max(set(x)))"
   ]
  },
  {
   "cell_type": "code",
   "execution_count": 23,
   "metadata": {},
   "outputs": [],
   "source": [
    "orders = orders.merge((data.price * data.quantity).groupby(data['order_id']).sum().reset_index(name='order_sum')\n",
    "                                                                                  , on ='order_id', how='left').copy()"
   ]
  },
  {
   "cell_type": "code",
   "execution_count": 24,
   "metadata": {},
   "outputs": [],
   "source": [
    "orders['date'] = orders['date'].transform(lambda x : x.astype('datetime64[D]'))\n",
    "orders['month'] = orders['date'].transform(lambda x : x.astype('datetime64[M]'))"
   ]
  },
  {
   "cell_type": "code",
   "execution_count": 25,
   "metadata": {},
   "outputs": [
    {
     "data": {
      "text/html": [
       "<div>\n",
       "<style scoped>\n",
       "    .dataframe tbody tr th:only-of-type {\n",
       "        vertical-align: middle;\n",
       "    }\n",
       "\n",
       "    .dataframe tbody tr th {\n",
       "        vertical-align: top;\n",
       "    }\n",
       "\n",
       "    .dataframe thead th {\n",
       "        text-align: right;\n",
       "    }\n",
       "</style>\n",
       "<table border=\"1\" class=\"dataframe\">\n",
       "  <thead>\n",
       "    <tr style=\"text-align: right;\">\n",
       "      <th></th>\n",
       "      <th>order_id</th>\n",
       "      <th>date</th>\n",
       "      <th>customer_id</th>\n",
       "      <th>sku_cnt</th>\n",
       "      <th>items_cnt</th>\n",
       "      <th>types_cnt</th>\n",
       "      <th>mayor_type</th>\n",
       "      <th>order_sum</th>\n",
       "      <th>month</th>\n",
       "    </tr>\n",
       "  </thead>\n",
       "  <tbody>\n",
       "    <tr>\n",
       "      <th>0</th>\n",
       "      <td>12624</td>\n",
       "      <td>2019-06-02</td>\n",
       "      <td>d17861fa-db5f-4de4-93fd-dc5e60d24d3e</td>\n",
       "      <td>2</td>\n",
       "      <td>2</td>\n",
       "      <td>1</td>\n",
       "      <td>растения</td>\n",
       "      <td>375.0</td>\n",
       "      <td>2019-06-02</td>\n",
       "    </tr>\n",
       "    <tr>\n",
       "      <th>1</th>\n",
       "      <td>13547</td>\n",
       "      <td>2018-11-16</td>\n",
       "      <td>b80e4826-7218-4bf9-ac08-eb2c81ab3f62</td>\n",
       "      <td>3</td>\n",
       "      <td>3</td>\n",
       "      <td>1</td>\n",
       "      <td>растения</td>\n",
       "      <td>684.0</td>\n",
       "      <td>2018-11-16</td>\n",
       "    </tr>\n",
       "    <tr>\n",
       "      <th>2</th>\n",
       "      <td>14480</td>\n",
       "      <td>2018-10-02</td>\n",
       "      <td>f08d9018-438e-4e96-b519-f74c0302a433</td>\n",
       "      <td>3</td>\n",
       "      <td>3</td>\n",
       "      <td>1</td>\n",
       "      <td>растения</td>\n",
       "      <td>359.0</td>\n",
       "      <td>2018-10-02</td>\n",
       "    </tr>\n",
       "    <tr>\n",
       "      <th>3</th>\n",
       "      <td>14481</td>\n",
       "      <td>2018-10-02</td>\n",
       "      <td>49b9c587-c19e-4481-bace-967aeac357fa</td>\n",
       "      <td>4</td>\n",
       "      <td>4</td>\n",
       "      <td>1</td>\n",
       "      <td>растения</td>\n",
       "      <td>600.0</td>\n",
       "      <td>2018-10-02</td>\n",
       "    </tr>\n",
       "    <tr>\n",
       "      <th>4</th>\n",
       "      <td>14482</td>\n",
       "      <td>2018-10-07</td>\n",
       "      <td>43993fd2-20c9-44f7-8634-cf0aee26df4f</td>\n",
       "      <td>2</td>\n",
       "      <td>2</td>\n",
       "      <td>1</td>\n",
       "      <td>растения</td>\n",
       "      <td>376.0</td>\n",
       "      <td>2018-10-07</td>\n",
       "    </tr>\n",
       "  </tbody>\n",
       "</table>\n",
       "</div>"
      ],
      "text/plain": [
       "   order_id       date                           customer_id  sku_cnt  \\\n",
       "0     12624 2019-06-02  d17861fa-db5f-4de4-93fd-dc5e60d24d3e        2   \n",
       "1     13547 2018-11-16  b80e4826-7218-4bf9-ac08-eb2c81ab3f62        3   \n",
       "2     14480 2018-10-02  f08d9018-438e-4e96-b519-f74c0302a433        3   \n",
       "3     14481 2018-10-02  49b9c587-c19e-4481-bace-967aeac357fa        4   \n",
       "4     14482 2018-10-07  43993fd2-20c9-44f7-8634-cf0aee26df4f        2   \n",
       "\n",
       "   items_cnt  types_cnt mayor_type  order_sum      month  \n",
       "0          2          1   растения      375.0 2019-06-02  \n",
       "1          3          1   растения      684.0 2018-11-16  \n",
       "2          3          1   растения      359.0 2018-10-02  \n",
       "3          4          1   растения      600.0 2018-10-02  \n",
       "4          2          1   растения      376.0 2018-10-07  "
      ]
     },
     "execution_count": 25,
     "metadata": {},
     "output_type": "execute_result"
    }
   ],
   "source": [
    "orders.head()"
   ]
  },
  {
   "cell_type": "code",
   "execution_count": 26,
   "metadata": {},
   "outputs": [
    {
     "data": {
      "text/plain": [
       "хозтовары    2027\n",
       "растения      744\n",
       "Name: mayor_type, dtype: int64"
      ]
     },
     "execution_count": 26,
     "metadata": {},
     "output_type": "execute_result"
    }
   ],
   "source": [
    "orders.mayor_type.value_counts()"
   ]
  },
  {
   "cell_type": "code",
   "execution_count": 27,
   "metadata": {},
   "outputs": [
    {
     "data": {
      "text/plain": [
       "хозтовары    18\n",
       "Name: mayor_type, dtype: int64"
      ]
     },
     "execution_count": 27,
     "metadata": {},
     "output_type": "execute_result"
    }
   ],
   "source": [
    "orders.query('types_cnt >1').mayor_type.value_counts()"
   ]
  },
  {
   "cell_type": "code",
   "execution_count": 28,
   "metadata": {},
   "outputs": [
    {
     "data": {
      "image/png": "[encoded data removed]"
     },
     "metadata": {},
     "output_type": "display_data"
    }
   ],
   "source": [
    "fig = draw_chart(orders.groupby(['month', 'mayor_type']).agg(orders_cnt=('order_id','count')).reset_index()\n",
    "           , kind ='hist', data_y='orders_cnt', color='mayor_type')\n",
    "fig.show('png')"
   ]
  },
  {
   "cell_type": "code",
   "execution_count": 29,
   "metadata": {},
   "outputs": [
    {
     "data": {
      "image/png": "[encoded data removed]"
     },
     "metadata": {},
     "output_type": "display_data"
    }
   ],
   "source": [
    "fig = draw_chart(orders.query('mayor_type==\"хозтовары\"').groupby('month').agg(orders_cnt=('order_id','count')).reset_index()\n",
    "           , kind ='line', data_x='month', data_y='orders_cnt'\n",
    "           , title='Динамика заказов на хозтовары', xlabel = 'Месяц', ylabel = 'Заказы, шт.')\n",
    "fig.show('png')"
   ]
  },
  {
   "cell_type": "code",
   "execution_count": 30,
   "metadata": {},
   "outputs": [
    {
     "data": {
      "image/png": "[encoded data removed]"
     },
     "metadata": {},
     "output_type": "display_data"
    }
   ],
   "source": [
    "fig = draw_chart(orders.query('mayor_type==\"растения\"').groupby('month').agg(orders_cnt=('order_id','count')).reset_index()\n",
    "           , kind ='line', data_x='month', data_y='orders_cnt'\n",
    "           , title='Динамика заказов на растения', xlabel = 'Месяц', ylabel = 'Заказы, шт.')\n",
    "fig.show('png')"
   ]
  },
  {
   "cell_type": "code",
   "execution_count": 31,
   "metadata": {},
   "outputs": [],
   "source": [
    "orders.to_csv('orders.csv')"
   ]
  },
  {
   "cell_type": "markdown",
   "metadata": {},
   "source": [
    "<div style=\"border-radius: 15px; border: 3px solid indigo; padding: 15px;\">\n",
    "<b>Вывод</b><br>\n",
    "<li>в заказе почти всегда товары из одной категории, всего 18 заказов содержат и растения, и хозтовары (преобладают хозтовары)</li>\n",
    "<li>да и в целом хозтовары — более популярная категория, опережает растения почти в 3 раза</li>    \n",
    "<li>больше всего заказов в декабре и с февраля по май (вероятно, праздники и рассада)</li> \n",
    "<li>а меньше всего — в июне и январе (подарки куплены, огород засажен)</li> \n",
    "</div>"
   ]
  },
  {
   "cell_type": "markdown",
   "metadata": {},
   "source": [
    "### Расчёт характеристик покупателей\n",
    "По месяцам:\n",
    "* общее количество количество заказов (**orders_cnt**)\n",
    "* среднее количество позиций в заказе (**sku_avg**)\n",
    "* среднее количество товаров в заказе (**items_avg**)\n",
    "* средняя сумма заказа (**sum_avg**)\n",
    "* время с превого заказа пользователя до самого позднего заказа — в месяцах (**lifetime_mo**)\n",
    "* среднее время между заказами — в месяцах (**mean_order_gap_mo**)\n",
    "* любимая товарная группа — по числу товаров из этой группы в заказах (**fav_type**)"
   ]
  },
  {
   "cell_type": "code",
   "execution_count": 32,
   "metadata": {},
   "outputs": [],
   "source": [
    "users = orders.groupby('customer_id').agg(orders_cnt =('order_id','count')\n",
    "                                          , sku_avg =('sku_cnt','mean')\n",
    "                                          , items_avg =('items_cnt','mean')\n",
    "                                          , sum_avg = ('order_sum', 'mean')\n",
    "                                          , fav_type = ('mayor_type', list)\n",
    "                                         ).reset_index()"
   ]
  },
  {
   "cell_type": "code",
   "execution_count": 33,
   "metadata": {},
   "outputs": [],
   "source": [
    "users['lifetime_mo'] =\\\n",
    "                ((max(orders.date.astype('datetime64[D]')) \n",
    "                - orders.groupby('customer_id').agg(first_order_date = ('date', 'min')).reset_index()['first_order_date']\\\n",
    "                        .transform(lambda x : x.astype('datetime64[D]')))/ np.timedelta64(1, 'M')).round(2)"
   ]
  },
  {
   "cell_type": "code",
   "execution_count": 34,
   "metadata": {},
   "outputs": [],
   "source": [
    "users.fav_type = users.fav_type.apply(lambda x: max(set(x)))"
   ]
  },
  {
   "cell_type": "code",
   "execution_count": 35,
   "metadata": {},
   "outputs": [],
   "source": [
    "orders_dates = orders.groupby('customer_id')['date'].apply(set).apply(list).reset_index(name='orders_dates')\n",
    "orders_dates['orders_dates'] = orders_dates['orders_dates'].apply(lambda x :np.sort(x))\n",
    "orders_dates['orders_dates_cnt'] = orders_dates['orders_dates'].apply(lambda x: np.array(x)).apply(lambda x: x.size)"
   ]
  },
  {
   "cell_type": "code",
   "execution_count": 36,
   "metadata": {},
   "outputs": [],
   "source": [
    "def time_diff(data, column_cnt, column_array, new_column_array, new_column_array_mean):    \n",
    "    data[new_column_array] = np.empty((len(data), 0)).tolist()\n",
    "    data[new_column_array_mean] = np.empty((len(data), 0)).tolist()\n",
    "    for i in range(len(data)):\n",
    "        j = data[column_cnt][i] -1\n",
    "        while j >0:\n",
    "            data[new_column_array][i].append(((data[column_array][i][j] \\\n",
    "                                              - data[column_array][i][j-1])/np.timedelta64(1, 'M')))\n",
    "            j = j -1\n",
    "        data[new_column_array_mean][i] =\\\n",
    "        (np.sum(data[new_column_array][i])/len(data[new_column_array][i]))"
   ]
  },
  {
   "cell_type": "code",
   "execution_count": 37,
   "metadata": {},
   "outputs": [],
   "source": [
    "time_diff(orders_dates, 'orders_dates_cnt', 'orders_dates', 'date_diff', 'mean_order_gap_mo');"
   ]
  },
  {
   "cell_type": "code",
   "execution_count": 38,
   "metadata": {},
   "outputs": [],
   "source": [
    "users = users.merge(orders_dates[['customer_id', 'mean_order_gap_mo']], on = 'customer_id', how='left').fillna(-1).copy()"
   ]
  },
  {
   "cell_type": "code",
   "execution_count": 39,
   "metadata": {},
   "outputs": [
    {
     "data": {
      "text/html": [
       "<div>\n",
       "<style scoped>\n",
       "    .dataframe tbody tr th:only-of-type {\n",
       "        vertical-align: middle;\n",
       "    }\n",
       "\n",
       "    .dataframe tbody tr th {\n",
       "        vertical-align: top;\n",
       "    }\n",
       "\n",
       "    .dataframe thead th {\n",
       "        text-align: right;\n",
       "    }\n",
       "</style>\n",
       "<table border=\"1\" class=\"dataframe\">\n",
       "  <thead>\n",
       "    <tr style=\"text-align: right;\">\n",
       "      <th></th>\n",
       "      <th>customer_id</th>\n",
       "      <th>orders_cnt</th>\n",
       "      <th>sku_avg</th>\n",
       "      <th>items_avg</th>\n",
       "      <th>sum_avg</th>\n",
       "      <th>fav_type</th>\n",
       "      <th>lifetime_mo</th>\n",
       "      <th>mean_order_gap_mo</th>\n",
       "    </tr>\n",
       "  </thead>\n",
       "  <tbody>\n",
       "    <tr>\n",
       "      <th>0</th>\n",
       "      <td>000d6849-084e-4d9f-ac03-37174eaf60c4</td>\n",
       "      <td>1</td>\n",
       "      <td>4.0</td>\n",
       "      <td>4.0</td>\n",
       "      <td>555.0</td>\n",
       "      <td>растения</td>\n",
       "      <td>0.49</td>\n",
       "      <td>-1.0</td>\n",
       "    </tr>\n",
       "    <tr>\n",
       "      <th>1</th>\n",
       "      <td>001cee7f-0b29-4716-b202-0042213ab038</td>\n",
       "      <td>1</td>\n",
       "      <td>1.0</td>\n",
       "      <td>1.0</td>\n",
       "      <td>442.0</td>\n",
       "      <td>хозтовары</td>\n",
       "      <td>8.44</td>\n",
       "      <td>-1.0</td>\n",
       "    </tr>\n",
       "    <tr>\n",
       "      <th>2</th>\n",
       "      <td>00299f34-5385-4d13-9aea-c80b81658e1b</td>\n",
       "      <td>1</td>\n",
       "      <td>1.0</td>\n",
       "      <td>2.0</td>\n",
       "      <td>914.0</td>\n",
       "      <td>хозтовары</td>\n",
       "      <td>0.56</td>\n",
       "      <td>-1.0</td>\n",
       "    </tr>\n",
       "    <tr>\n",
       "      <th>3</th>\n",
       "      <td>002d4d3a-4a59-406b-86ec-c3314357e498</td>\n",
       "      <td>1</td>\n",
       "      <td>1.0</td>\n",
       "      <td>1.0</td>\n",
       "      <td>1649.0</td>\n",
       "      <td>хозтовары</td>\n",
       "      <td>9.10</td>\n",
       "      <td>-1.0</td>\n",
       "    </tr>\n",
       "    <tr>\n",
       "      <th>4</th>\n",
       "      <td>003bbd39-0000-41ff-b7f9-2ddaec152037</td>\n",
       "      <td>1</td>\n",
       "      <td>1.0</td>\n",
       "      <td>2.0</td>\n",
       "      <td>2324.0</td>\n",
       "      <td>хозтовары</td>\n",
       "      <td>1.05</td>\n",
       "      <td>-1.0</td>\n",
       "    </tr>\n",
       "  </tbody>\n",
       "</table>\n",
       "</div>"
      ],
      "text/plain": [
       "                            customer_id  orders_cnt  sku_avg  items_avg  \\\n",
       "0  000d6849-084e-4d9f-ac03-37174eaf60c4           1      4.0        4.0   \n",
       "1  001cee7f-0b29-4716-b202-0042213ab038           1      1.0        1.0   \n",
       "2  00299f34-5385-4d13-9aea-c80b81658e1b           1      1.0        2.0   \n",
       "3  002d4d3a-4a59-406b-86ec-c3314357e498           1      1.0        1.0   \n",
       "4  003bbd39-0000-41ff-b7f9-2ddaec152037           1      1.0        2.0   \n",
       "\n",
       "   sum_avg   fav_type  lifetime_mo  mean_order_gap_mo  \n",
       "0    555.0   растения         0.49               -1.0  \n",
       "1    442.0  хозтовары         8.44               -1.0  \n",
       "2    914.0  хозтовары         0.56               -1.0  \n",
       "3   1649.0  хозтовары         9.10               -1.0  \n",
       "4   2324.0  хозтовары         1.05               -1.0  "
      ]
     },
     "execution_count": 39,
     "metadata": {},
     "output_type": "execute_result"
    }
   ],
   "source": [
    "users.head()"
   ]
  },
  {
   "cell_type": "code",
   "execution_count": 40,
   "metadata": {},
   "outputs": [
    {
     "data": {
      "text/plain": [
       "2394"
      ]
     },
     "execution_count": 40,
     "metadata": {},
     "output_type": "execute_result"
    }
   ],
   "source": [
    "len(users)"
   ]
  },
  {
   "cell_type": "markdown",
   "metadata": {},
   "source": [
    "<div style=\"border-radius: 15px; border: 3px solid indigo; padding: 15px;\">\n",
    "<b>Вывод</b><br>\n",
    "Получена витрина пользователей на 7 признаков — ура! Теперь посмотрим на эти признаки.\n",
    "</div>"
   ]
  },
  {
   "cell_type": "markdown",
   "metadata": {},
   "source": [
    "### Исследование характеристк покупателей"
   ]
  },
  {
   "cell_type": "code",
   "execution_count": 41,
   "metadata": {},
   "outputs": [],
   "source": [
    "users_corr = users.corr()"
   ]
  },
  {
   "cell_type": "code",
   "execution_count": 42,
   "metadata": {},
   "outputs": [
    {
     "data": {
      "image/png": "[encoded data removed]",
      "text/plain": [
       "<Figure size 1300x900 with 2 Axes>"
      ]
     },
     "metadata": {},
     "output_type": "display_data"
    }
   ],
   "source": [
    "draw_chart(users_corr, kind='heatmap',title='Корреляция признаков', fmt='.2f');"
   ]
  },
  {
   "cell_type": "markdown",
   "metadata": {},
   "source": [
    "<div style=\"border-radius: 15px; border: 3px solid indigo; padding: 15px;\">\n",
    "<b>Вывод</b><br>\n",
    "<li>Высокую положительную корреляцию демострируют <b>среднее количество товаров в заказе</b> и <b>средняя сумма заказа</b></li>\n",
    "<li>Небольшая положительная корреляция наблюдается между <b>средним количеством SKU</b> и <b>средним количеством товаров</b> в заказе, а также между <b>количеством заказов</b> и <b>средним промежутком между заказами</b></li>\n",
    "</div>"
   ]
  },
  {
   "cell_type": "code",
   "execution_count": 43,
   "metadata": {},
   "outputs": [],
   "source": [
    "users['fav_type_code'] = users['fav_type'].map({'растения':0,'хозтовары':1})"
   ]
  },
  {
   "cell_type": "code",
   "execution_count": 44,
   "metadata": {},
   "outputs": [
    {
     "data": {
      "image/png": "[encoded data removed]"
     },
     "metadata": {},
     "output_type": "display_data"
    },
    {
     "data": {
      "image/png": "[encoded data removed]"
     },
     "metadata": {},
     "output_type": "display_data"
    },
    {
     "data": {
      "image/png": "[encoded data removed]"
     },
     "metadata": {},
     "output_type": "display_data"
    },
    {
     "data": {
      "image/png": "[encoded data removed]"
     },
     "metadata": {},
     "output_type": "display_data"
    },
    {
     "data": {
      "image/png": "[encoded data removed]"
     },
     "metadata": {},
     "output_type": "display_data"
    },
    {
     "data": {
      "image/png": "[encoded data removed]"
     },
     "metadata": {},
     "output_type": "display_data"
    },
    {
     "data": {
      "image/png": "[encoded data removed]"
     },
     "metadata": {},
     "output_type": "display_data"
    }
   ],
   "source": [
    "for column in users.columns[(users.columns !='fav_type')&(users.columns !='customer_id')]:\n",
    "#     if len(data[column].value_counts()) >2:\n",
    "        fig =draw_chart(users, kind='hist', data_y=column, height=300, width=600)\n",
    "        fig.show('png')"
   ]
  },
  {
   "cell_type": "code",
   "execution_count": 45,
   "metadata": {},
   "outputs": [],
   "source": [
    "users = users[(users.orders_cnt < users.orders_cnt.quantile(.95))&(users.sku_avg < users.sku_avg.quantile(.95))\\\n",
    "     &(users.items_avg < users.items_avg.quantile(.95))&(users.sum_avg < users.sum_avg.quantile(.95))].copy()"
   ]
  },
  {
   "cell_type": "markdown",
   "metadata": {},
   "source": [
    "<div style=\"border-radius: 15px; border: 3px solid indigo; padding: 15px;\">\n",
    "<b>Вывод</b><br>\n",
    "Обнаружены и убраны выбросы по полям <b>orders_cnt</b>, <b>sku_avg</b>, <b>items_avg</b>, <b>sum_avg</b> (выход за 95-й квантиль).\n",
    "</div>"
   ]
  },
  {
   "cell_type": "markdown",
   "metadata": {},
   "source": [
    "## Кластеризация покупателей"
   ]
  },
  {
   "cell_type": "markdown",
   "metadata": {},
   "source": [
    "### Выбор оптимального числа кластеров"
   ]
  },
  {
   "cell_type": "code",
   "execution_count": 46,
   "metadata": {},
   "outputs": [],
   "source": [
    "X = users.drop(['customer_id', 'fav_type'], axis=1)"
   ]
  },
  {
   "cell_type": "code",
   "execution_count": 47,
   "metadata": {},
   "outputs": [],
   "source": [
    "scaler = StandardScaler()\n",
    "X_st = scaler.fit_transform(X)"
   ]
  },
  {
   "cell_type": "code",
   "execution_count": 48,
   "metadata": {},
   "outputs": [],
   "source": [
    "linked = linkage(X_st, method = 'ward')"
   ]
  },
  {
   "cell_type": "code",
   "execution_count": 49,
   "metadata": {},
   "outputs": [
    {
     "data": {
      "image/png": "[encoded data removed]",
      "text/plain": [
       "<Figure size 1500x1000 with 1 Axes>"
      ]
     },
     "metadata": {},
     "output_type": "display_data"
    }
   ],
   "source": [
    "draw_chart(data=linked, kind='dendrogram', title='Дендрограмма')"
   ]
  },
  {
   "cell_type": "markdown",
   "metadata": {},
   "source": [
    "<div style=\"border-radius: 15px; border: 3px solid indigo; padding: 15px;\">\n",
    "<b>Вывод</b><br>\n",
    "Оптимальное число кластеров — 4 (по числу цветов на дендрограмме).\n",
    "</div>"
   ]
  },
  {
   "cell_type": "markdown",
   "metadata": {},
   "source": [
    "### Кластеризация"
   ]
  },
  {
   "cell_type": "code",
   "execution_count": 50,
   "metadata": {},
   "outputs": [],
   "source": [
    "km = KMeans(n_clusters = 4, random_state=0)"
   ]
  },
  {
   "cell_type": "code",
   "execution_count": 51,
   "metadata": {},
   "outputs": [],
   "source": [
    "labels = km.fit_predict(X_st)"
   ]
  },
  {
   "cell_type": "code",
   "execution_count": 52,
   "metadata": {},
   "outputs": [],
   "source": [
    "users['cluster_km'] = labels"
   ]
  },
  {
   "cell_type": "code",
   "execution_count": 53,
   "metadata": {},
   "outputs": [
    {
     "data": {
      "text/html": [
       "<div>\n",
       "<style scoped>\n",
       "    .dataframe tbody tr th:only-of-type {\n",
       "        vertical-align: middle;\n",
       "    }\n",
       "\n",
       "    .dataframe tbody tr th {\n",
       "        vertical-align: top;\n",
       "    }\n",
       "\n",
       "    .dataframe thead th {\n",
       "        text-align: right;\n",
       "    }\n",
       "</style>\n",
       "<table border=\"1\" class=\"dataframe\">\n",
       "  <thead>\n",
       "    <tr style=\"text-align: right;\">\n",
       "      <th></th>\n",
       "      <th>cluster_km</th>\n",
       "      <th>orders_cnt</th>\n",
       "      <th>sku_avg</th>\n",
       "      <th>items_avg</th>\n",
       "      <th>sum_avg</th>\n",
       "      <th>lifetime_mo</th>\n",
       "      <th>mean_order_gap_mo</th>\n",
       "      <th>fav_type_code</th>\n",
       "    </tr>\n",
       "  </thead>\n",
       "  <tbody>\n",
       "    <tr>\n",
       "      <th>0</th>\n",
       "      <td>0</td>\n",
       "      <td>1.0</td>\n",
       "      <td>1.022545</td>\n",
       "      <td>1.307636</td>\n",
       "      <td>994.234182</td>\n",
       "      <td>6.778960</td>\n",
       "      <td>-1.0</td>\n",
       "      <td>0.999273</td>\n",
       "    </tr>\n",
       "    <tr>\n",
       "      <th>1</th>\n",
       "      <td>1</td>\n",
       "      <td>1.0</td>\n",
       "      <td>3.757282</td>\n",
       "      <td>4.553398</td>\n",
       "      <td>788.815534</td>\n",
       "      <td>8.274078</td>\n",
       "      <td>-1.0</td>\n",
       "      <td>0.223301</td>\n",
       "    </tr>\n",
       "    <tr>\n",
       "      <th>2</th>\n",
       "      <td>2</td>\n",
       "      <td>1.0</td>\n",
       "      <td>1.086351</td>\n",
       "      <td>1.481894</td>\n",
       "      <td>331.169916</td>\n",
       "      <td>5.894624</td>\n",
       "      <td>-1.0</td>\n",
       "      <td>0.000000</td>\n",
       "    </tr>\n",
       "    <tr>\n",
       "      <th>3</th>\n",
       "      <td>3</td>\n",
       "      <td>1.0</td>\n",
       "      <td>1.079646</td>\n",
       "      <td>10.026549</td>\n",
       "      <td>997.247788</td>\n",
       "      <td>7.439027</td>\n",
       "      <td>-1.0</td>\n",
       "      <td>0.876106</td>\n",
       "    </tr>\n",
       "  </tbody>\n",
       "</table>\n",
       "</div>"
      ],
      "text/plain": [
       "   cluster_km  orders_cnt   sku_avg  items_avg     sum_avg  lifetime_mo  \\\n",
       "0           0         1.0  1.022545   1.307636  994.234182     6.778960   \n",
       "1           1         1.0  3.757282   4.553398  788.815534     8.274078   \n",
       "2           2         1.0  1.086351   1.481894  331.169916     5.894624   \n",
       "3           3         1.0  1.079646  10.026549  997.247788     7.439027   \n",
       "\n",
       "   mean_order_gap_mo  fav_type_code  \n",
       "0               -1.0       0.999273  \n",
       "1               -1.0       0.223301  \n",
       "2               -1.0       0.000000  \n",
       "3               -1.0       0.876106  "
      ]
     },
     "execution_count": 53,
     "metadata": {},
     "output_type": "execute_result"
    }
   ],
   "source": [
    "users.groupby('cluster_km', as_index=False).mean()"
   ]
  },
  {
   "cell_type": "code",
   "execution_count": 54,
   "metadata": {},
   "outputs": [
    {
     "data": {
      "text/html": [
       "<div>\n",
       "<style scoped>\n",
       "    .dataframe tbody tr th:only-of-type {\n",
       "        vertical-align: middle;\n",
       "    }\n",
       "\n",
       "    .dataframe tbody tr th {\n",
       "        vertical-align: top;\n",
       "    }\n",
       "\n",
       "    .dataframe thead th {\n",
       "        text-align: right;\n",
       "    }\n",
       "</style>\n",
       "<table border=\"1\" class=\"dataframe\">\n",
       "  <thead>\n",
       "    <tr style=\"text-align: right;\">\n",
       "      <th></th>\n",
       "      <th>cluster_km</th>\n",
       "      <th>users_cnt</th>\n",
       "    </tr>\n",
       "  </thead>\n",
       "  <tbody>\n",
       "    <tr>\n",
       "      <th>0</th>\n",
       "      <td>0</td>\n",
       "      <td>1375</td>\n",
       "    </tr>\n",
       "    <tr>\n",
       "      <th>1</th>\n",
       "      <td>1</td>\n",
       "      <td>103</td>\n",
       "    </tr>\n",
       "    <tr>\n",
       "      <th>2</th>\n",
       "      <td>2</td>\n",
       "      <td>359</td>\n",
       "    </tr>\n",
       "    <tr>\n",
       "      <th>3</th>\n",
       "      <td>3</td>\n",
       "      <td>113</td>\n",
       "    </tr>\n",
       "  </tbody>\n",
       "</table>\n",
       "</div>"
      ],
      "text/plain": [
       "   cluster_km  users_cnt\n",
       "0           0       1375\n",
       "1           1        103\n",
       "2           2        359\n",
       "3           3        113"
      ]
     },
     "execution_count": 54,
     "metadata": {},
     "output_type": "execute_result"
    }
   ],
   "source": [
    "users.groupby('cluster_km').agg(users_cnt=('customer_id','count')).reset_index()"
   ]
  },
  {
   "cell_type": "markdown",
   "metadata": {},
   "source": [
    "<div style=\"border-radius: 15px; border: 3px solid indigo; padding: 15px;\">\n",
    "<b>Вывод</b><br>\n",
    "Алгоритм к-средних разделил пользователей на 4 кластера.<br> \n",
    "Больше половины оказались в одном (кластер 0), остальные попали в 3 других.\n",
    "\n",
    "<i>Характеристики кластеров</i>\n",
    "<li>кластер 0 — типичный клиент: 1 покупка, 1 SKU, 1 товар (из хозтоваров), высокий чек</li>\n",
    "<li>кластер 1 — редкий клиент: 1 покупка, несколько SKU, несколько товаров (как правило, из растений), средний чек</li>\n",
    "<li>кластер 2 — нетипичный клиент: 1 покупка, 1 SKU, 1 товар (из растений), низкий чек</li>\n",
    "<li>кластер 3 — редкий клиент: 1 покупка, 1 SKU, несколько товаров (как правило, из хозтоваров), высокий чек</li>\n",
    "</div>"
   ]
  },
  {
   "cell_type": "markdown",
   "metadata": {},
   "source": [
    "### Проверка стат.значимости кластеризации"
   ]
  },
  {
   "cell_type": "code",
   "execution_count": 55,
   "metadata": {},
   "outputs": [],
   "source": [
    "alpha = 1-(1-0.05)**(1/6)"
   ]
  },
  {
   "cell_type": "code",
   "execution_count": 56,
   "metadata": {},
   "outputs": [],
   "source": [
    "users = users.fillna(0)"
   ]
  },
  {
   "cell_type": "code",
   "execution_count": 57,
   "metadata": {},
   "outputs": [
    {
     "name": "stdout",
     "output_type": "stream",
     "text": [
      "Пара 0-1 — p-value = 2.2515732972647116e-102 — между кластерами есть значимая разница\n",
      "Пара 0-2 — p-value = 2.2550192404240858e-05 — между кластерами есть значимая разница\n",
      "Пара 0-3 — p-value = 7.538889139087411e-124 — между кластерами есть значимая разница\n",
      "Пара 1-2 — p-value = 2.1897588892434045e-54 — между кластерами есть значимая разница\n",
      "Пара 1-3 — p-value = 9.952537475386599e-31 — между кластерами есть значимая разница\n",
      "Пара 2-3 — p-value = 4.1497422620391224e-69 — между кластерами есть значимая разница\n"
     ]
    }
   ],
   "source": [
    "for i in (range(0,4)):\n",
    "    for j in (range(i+1,4)):\n",
    "            data_1 = users[users['cluster_km']==i]['items_avg'].to_list()\n",
    "            data_2 = users[users['cluster_km']==j]['items_avg'].to_list()    \n",
    "            results = st.mannwhitneyu(data_1, data_2)\n",
    "            p_value = results.pvalue\n",
    "            if p_value < alpha:\n",
    "                print('Пара {}-{} — p-value = {} — между кластерами есть значимая разница'.format(i, j, p_value))\n",
    "            else:\n",
    "                print('Пара {}-{} — p-value = {} — нет оснований считать кластеры разными'.format(i, j, p_value)) "
   ]
  },
  {
   "cell_type": "code",
   "execution_count": 58,
   "metadata": {},
   "outputs": [
    {
     "name": "stdout",
     "output_type": "stream",
     "text": [
      "Пара 0-1 — p-value = 4.763923203815581e-244 — между кластерами есть значимая разница\n",
      "Пара 0-2 — p-value = 0.0 — между кластерами есть значимая разница\n",
      "Пара 0-3 — p-value = 2.2737866834788374e-36 — между кластерами есть значимая разница\n",
      "Пара 1-2 — p-value = 4.5583899254614066e-20 — между кластерами есть значимая разница\n",
      "Пара 1-3 — p-value = 5.32280102854571e-22 — между кластерами есть значимая разница\n",
      "Пара 2-3 — p-value = 2.314626474052908e-88 — между кластерами есть значимая разница\n"
     ]
    }
   ],
   "source": [
    "for i in (range(0,4)):\n",
    "    for j in (range(i+1,4)):\n",
    "        if i != j:\n",
    "            data_1 = users[users['cluster_km']==i]['fav_type_code'].to_list()\n",
    "            data_2 = users[users['cluster_km']==j]['fav_type_code'].to_list()    \n",
    "            results = st.mannwhitneyu(data_1, data_2)\n",
    "            p_value = results.pvalue\n",
    "            if p_value < alpha:\n",
    "                print('Пара {}-{} — p-value = {} — между кластерами есть значимая разница'.format(i, j, p_value))\n",
    "            else:\n",
    "                print('Пара {}-{} — p-value = {} — нет оснований считать кластеры разными'.format(i, j, p_value)) "
   ]
  },
  {
   "cell_type": "markdown",
   "metadata": {},
   "source": [
    "<div style=\"border-radius: 15px; border: 3px solid indigo; padding: 15px;\">\n",
    "<b>Вывод</b><br>\n",
    "<li>кластеризация статистически значима: нашлись 2 признака, для которых это подтвердил критерий Манна-Уитни </li>\n",
    "<li>алгоритм в основном руководствовался средним количеством товаров в заказе и любимой категорией пользователя</li>\n",
    "</div>"
   ]
  },
  {
   "cell_type": "markdown",
   "metadata": {},
   "source": [
    "## Рекомендации"
   ]
  },
  {
   "cell_type": "markdown",
   "metadata": {},
   "source": [
    "* всем клиентам напомнить о себе — они не возвращаются, приходят на 1 раз\n",
    "* клиентам из кластеров 1 и 2 — с февраля по май предлагать скидки на товары из растений\n",
    "  - при этом клиентам из кластера 2 — акции вида \"купи N штук и получи ещё 1 в подарок\", т.к. в основном покупают по 1 вещи\n",
    "* клиентам из кластеров 0 и 3 — предлагать скидки на хозтовары осенью и в феврале \n",
    "  - при этом клиентам из кластера 0 — акции вида \"купи N штук и получи ещё 1 в подарок\", т.к. в основном покупают по 1 вещи\n",
    "  - а клиентам из кластера 3 — ещё и скидки на товары из растений"
   ]
  },
  {
   "cell_type": "markdown",
   "metadata": {},
   "source": [
    "Дополнительные материалы:\n",
    "* [дашборд](https://public.tableau.com/views/__16318899266440/sheet2?:language=en-US&:display_count=n&:origin=viz_share_link) в Tableau\n",
    "* [презентация](https://drive.google.com/file/d/1BsIhczYmvlCiKUxFA4mB3Tdsv2yl1tP8/view?usp=sharing) в PowerPoint"
   ]
  }
 ],
 "metadata": {
  "ExecuteTimeLog": [
   {
    "duration": 2040,
    "start_time": "2021-09-09T10:58:24.635Z"
   },
   {
    "duration": 241,
    "start_time": "2021-09-09T10:58:31.853Z"
   },
   {
    "duration": 32,
    "start_time": "2021-09-09T10:58:48.366Z"
   },
   {
    "duration": 3,
    "start_time": "2021-09-09T11:01:09.385Z"
   },
   {
    "duration": 122,
    "start_time": "2021-09-09T11:52:27.747Z"
   },
   {
    "duration": 1802,
    "start_time": "2021-09-09T11:52:33.299Z"
   },
   {
    "duration": 1590,
    "start_time": "2021-09-09T11:52:54.354Z"
   },
   {
    "duration": 1386,
    "start_time": "2021-09-09T11:53:07.946Z"
   },
   {
    "duration": 2454,
    "start_time": "2021-09-09T11:53:58.985Z"
   },
   {
    "duration": 1884,
    "start_time": "2021-09-09T11:54:39.689Z"
   },
   {
    "duration": 2219,
    "start_time": "2021-09-09T11:56:55.719Z"
   },
   {
    "duration": 1600,
    "start_time": "2021-09-09T11:57:22.264Z"
   },
   {
    "duration": 1641,
    "start_time": "2021-09-09T11:57:42.136Z"
   },
   {
    "duration": 11,
    "start_time": "2021-09-09T11:58:26.974Z"
   },
   {
    "duration": 1987,
    "start_time": "2021-09-09T11:58:32.736Z"
   },
   {
    "duration": 1736,
    "start_time": "2021-09-09T12:04:24.433Z"
   },
   {
    "duration": 1729,
    "start_time": "2021-09-09T12:05:02.077Z"
   },
   {
    "duration": 6,
    "start_time": "2021-09-09T12:05:16.294Z"
   },
   {
    "duration": 203,
    "start_time": "2021-09-09T12:05:16.485Z"
   },
   {
    "duration": 27,
    "start_time": "2021-09-09T12:05:16.909Z"
   },
   {
    "duration": 2084,
    "start_time": "2021-09-09T12:05:18.757Z"
   },
   {
    "duration": 1675,
    "start_time": "2021-09-09T12:06:59.948Z"
   },
   {
    "duration": 2142,
    "start_time": "2021-09-09T12:07:15.660Z"
   },
   {
    "duration": 2833,
    "start_time": "2021-09-09T12:07:56.547Z"
   },
   {
    "duration": 86,
    "start_time": "2021-09-09T12:08:21.405Z"
   },
   {
    "duration": 868,
    "start_time": "2021-09-09T12:09:04.803Z"
   },
   {
    "duration": 114,
    "start_time": "2021-09-09T12:09:17.012Z"
   },
   {
    "duration": 14,
    "start_time": "2021-09-09T12:09:25.027Z"
   },
   {
    "duration": 347,
    "start_time": "2021-09-09T13:07:52.621Z"
   },
   {
    "duration": 6,
    "start_time": "2021-09-09T13:09:35.684Z"
   },
   {
    "duration": 453,
    "start_time": "2021-09-09T14:13:35.853Z"
   },
   {
    "duration": 115,
    "start_time": "2021-09-09T14:13:46.453Z"
   },
   {
    "duration": 15,
    "start_time": "2021-09-09T14:13:49.648Z"
   },
   {
    "duration": 114,
    "start_time": "2021-09-09T14:13:58.429Z"
   },
   {
    "duration": 120,
    "start_time": "2021-09-09T14:14:07.645Z"
   },
   {
    "duration": 15,
    "start_time": "2021-09-09T14:14:10.590Z"
   },
   {
    "duration": 2553,
    "start_time": "2021-09-09T14:14:19.034Z"
   },
   {
    "duration": 218,
    "start_time": "2021-09-09T14:14:21.590Z"
   },
   {
    "duration": 31,
    "start_time": "2021-09-09T14:14:21.814Z"
   },
   {
    "duration": 126,
    "start_time": "2021-09-09T14:14:21.848Z"
   },
   {
    "duration": 16,
    "start_time": "2021-09-09T14:14:21.977Z"
   },
   {
    "duration": 6,
    "start_time": "2021-09-09T14:14:52.760Z"
   },
   {
    "duration": 13579,
    "start_time": "2021-09-09T14:14:53.592Z"
   },
   {
    "duration": 4917,
    "start_time": "2021-09-09T14:15:07.174Z"
   },
   {
    "duration": 1979,
    "start_time": "2021-09-09T14:21:22.445Z"
   },
   {
    "duration": 11289,
    "start_time": "2021-09-09T14:21:57.143Z"
   },
   {
    "duration": 12,
    "start_time": "2021-09-09T14:22:08.435Z"
   },
   {
    "duration": 11004,
    "start_time": "2021-09-09T14:23:12.548Z"
   },
   {
    "duration": 11794,
    "start_time": "2021-09-09T14:24:02.012Z"
   },
   {
    "duration": 14122,
    "start_time": "2021-09-09T14:25:08.845Z"
   },
   {
    "duration": 2371,
    "start_time": "2021-09-09T14:27:15.810Z"
   },
   {
    "duration": 200,
    "start_time": "2021-09-09T14:27:18.184Z"
   },
   {
    "duration": 32,
    "start_time": "2021-09-09T14:27:18.387Z"
   },
   {
    "duration": 134,
    "start_time": "2021-09-09T14:27:18.422Z"
   },
   {
    "duration": 14,
    "start_time": "2021-09-09T14:27:18.558Z"
   },
   {
    "duration": 8,
    "start_time": "2021-09-09T14:27:18.574Z"
   },
   {
    "duration": 13602,
    "start_time": "2021-09-09T14:27:18.584Z"
   },
   {
    "duration": 2050,
    "start_time": "2021-09-09T14:27:32.191Z"
   },
   {
    "duration": 39151,
    "start_time": "2021-09-09T14:27:34.243Z"
   },
   {
    "duration": 12,
    "start_time": "2021-09-09T14:28:46.229Z"
   },
   {
    "duration": 1941,
    "start_time": "2021-09-09T14:29:13.724Z"
   },
   {
    "duration": 39738,
    "start_time": "2021-09-09T14:29:15.667Z"
   },
   {
    "duration": 11,
    "start_time": "2021-09-09T14:29:55.409Z"
   },
   {
    "duration": 10,
    "start_time": "2021-09-09T14:30:12.801Z"
   },
   {
    "duration": 565,
    "start_time": "2021-09-09T14:30:54.713Z"
   },
   {
    "duration": 511,
    "start_time": "2021-09-09T14:31:04.579Z"
   },
   {
    "duration": 8838,
    "start_time": "2021-09-09T14:31:12.083Z"
   },
   {
    "duration": 6863,
    "start_time": "2021-09-09T14:31:35.609Z"
   },
   {
    "duration": 10,
    "start_time": "2021-09-09T14:31:46.462Z"
   },
   {
    "duration": 5,
    "start_time": "2021-09-09T14:32:11.785Z"
   },
   {
    "duration": 123,
    "start_time": "2021-09-09T14:41:37.032Z"
   },
   {
    "duration": 2020,
    "start_time": "2021-09-09T14:41:54.904Z"
   },
   {
    "duration": 66455,
    "start_time": "2021-09-09T14:41:56.926Z"
   },
   {
    "duration": 8263,
    "start_time": "2021-09-09T14:43:03.384Z"
   },
   {
    "duration": 8,
    "start_time": "2021-09-09T14:43:11.649Z"
   },
   {
    "duration": 42,
    "start_time": "2021-09-09T14:43:11.660Z"
   },
   {
    "duration": 1982,
    "start_time": "2021-09-09T14:47:54.851Z"
   },
   {
    "duration": 298,
    "start_time": "2021-09-09T14:48:47.451Z"
   },
   {
    "duration": 364,
    "start_time": "2021-09-09T14:48:54.323Z"
   },
   {
    "duration": 2608,
    "start_time": "2021-09-09T14:49:02.952Z"
   },
   {
    "duration": 205,
    "start_time": "2021-09-09T14:49:05.566Z"
   },
   {
    "duration": 31,
    "start_time": "2021-09-09T14:49:05.774Z"
   },
   {
    "duration": 123,
    "start_time": "2021-09-09T14:49:05.807Z"
   },
   {
    "duration": 25,
    "start_time": "2021-09-09T14:49:05.933Z"
   },
   {
    "duration": 9,
    "start_time": "2021-09-09T14:49:05.960Z"
   },
   {
    "duration": 13423,
    "start_time": "2021-09-09T14:49:05.972Z"
   },
   {
    "duration": 1949,
    "start_time": "2021-09-09T14:49:19.398Z"
   },
   {
    "duration": 37730,
    "start_time": "2021-09-09T14:49:21.349Z"
   },
   {
    "duration": 16679,
    "start_time": "2021-09-09T14:49:59.082Z"
   },
   {
    "duration": 5,
    "start_time": "2021-09-09T14:50:15.764Z"
   },
   {
    "duration": 14,
    "start_time": "2021-09-09T14:50:15.772Z"
   },
   {
    "duration": 24,
    "start_time": "2021-09-09T14:51:31.194Z"
   },
   {
    "duration": 8,
    "start_time": "2021-09-09T14:51:35.342Z"
   },
   {
    "duration": 5,
    "start_time": "2021-09-09T14:51:36.142Z"
   },
   {
    "duration": 10,
    "start_time": "2021-09-09T14:51:43.134Z"
   },
   {
    "duration": 11,
    "start_time": "2021-09-09T14:52:44.486Z"
   },
   {
    "duration": 22,
    "start_time": "2021-09-09T14:53:24.422Z"
   },
   {
    "duration": 11,
    "start_time": "2021-09-09T14:53:25.173Z"
   },
   {
    "duration": 5,
    "start_time": "2021-09-09T14:53:29.014Z"
   },
   {
    "duration": 166,
    "start_time": "2021-09-09T14:58:31.452Z"
   },
   {
    "duration": 28,
    "start_time": "2021-09-09T14:58:32.523Z"
   },
   {
    "duration": 6,
    "start_time": "2021-09-09T14:58:50.990Z"
   },
   {
    "duration": 3320,
    "start_time": "2021-09-09T14:59:55.879Z"
   },
   {
    "duration": 145,
    "start_time": "2021-09-09T15:00:11.245Z"
   },
   {
    "duration": 14,
    "start_time": "2021-09-09T15:00:12.371Z"
   },
   {
    "duration": 7,
    "start_time": "2021-09-09T15:00:17.059Z"
   },
   {
    "duration": 12809,
    "start_time": "2021-09-09T15:00:17.748Z"
   },
   {
    "duration": 2011,
    "start_time": "2021-09-09T15:00:30.561Z"
   },
   {
    "duration": 421,
    "start_time": "2021-09-13T17:41:11.482Z"
   },
   {
    "duration": 2293,
    "start_time": "2021-09-13T17:41:20.453Z"
   },
   {
    "duration": 199,
    "start_time": "2021-09-13T17:41:22.749Z"
   },
   {
    "duration": 31,
    "start_time": "2021-09-13T17:41:22.951Z"
   },
   {
    "duration": 16,
    "start_time": "2021-09-13T17:41:22.985Z"
   },
   {
    "duration": 186,
    "start_time": "2021-09-13T17:42:17.427Z"
   },
   {
    "duration": 32,
    "start_time": "2021-09-13T17:42:17.950Z"
   },
   {
    "duration": 18,
    "start_time": "2021-09-13T17:42:24.642Z"
   },
   {
    "duration": 572,
    "start_time": "2021-09-13T17:47:43.423Z"
   },
   {
    "duration": 26,
    "start_time": "2021-09-13T17:47:57.978Z"
   },
   {
    "duration": 30,
    "start_time": "2021-09-13T17:48:32.322Z"
   },
   {
    "duration": 25,
    "start_time": "2021-09-13T17:48:50.379Z"
   },
   {
    "duration": 36,
    "start_time": "2021-09-13T18:08:13.449Z"
   },
   {
    "duration": 6,
    "start_time": "2021-09-13T18:08:38.211Z"
   },
   {
    "duration": 23,
    "start_time": "2021-09-13T18:10:25.510Z"
   },
   {
    "duration": 27,
    "start_time": "2021-09-13T18:10:40.937Z"
   },
   {
    "duration": 413,
    "start_time": "2021-09-13T18:11:02.348Z"
   },
   {
    "duration": 2539,
    "start_time": "2021-09-13T18:11:11.327Z"
   },
   {
    "duration": 257,
    "start_time": "2021-09-13T18:11:13.869Z"
   },
   {
    "duration": 33,
    "start_time": "2021-09-13T18:11:14.129Z"
   },
   {
    "duration": 29,
    "start_time": "2021-09-13T18:11:18.069Z"
   },
   {
    "duration": 662,
    "start_time": "2021-09-13T18:11:18.947Z"
   },
   {
    "duration": 33,
    "start_time": "2021-09-13T18:11:28.339Z"
   },
   {
    "duration": 25,
    "start_time": "2021-09-13T18:11:35.016Z"
   },
   {
    "duration": 33,
    "start_time": "2021-09-13T18:11:49.451Z"
   },
   {
    "duration": 15,
    "start_time": "2021-09-13T18:12:19.684Z"
   },
   {
    "duration": 42,
    "start_time": "2021-09-13T18:13:11.520Z"
   },
   {
    "duration": 31,
    "start_time": "2021-09-13T18:13:43.027Z"
   },
   {
    "duration": 28,
    "start_time": "2021-09-13T18:13:55.482Z"
   },
   {
    "duration": 14,
    "start_time": "2021-09-13T18:14:36.149Z"
   },
   {
    "duration": 34,
    "start_time": "2021-09-13T18:14:40.731Z"
   },
   {
    "duration": 17,
    "start_time": "2021-09-13T18:15:05.555Z"
   },
   {
    "duration": 27,
    "start_time": "2021-09-13T18:18:54.983Z"
   },
   {
    "duration": 17,
    "start_time": "2021-09-13T22:32:35.321Z"
   },
   {
    "duration": 2529,
    "start_time": "2021-09-13T22:32:49.952Z"
   },
   {
    "duration": 218,
    "start_time": "2021-09-13T22:32:52.484Z"
   },
   {
    "duration": 34,
    "start_time": "2021-09-13T22:32:54.763Z"
   },
   {
    "duration": 33,
    "start_time": "2021-09-13T22:32:58.989Z"
   },
   {
    "duration": 17,
    "start_time": "2021-09-13T22:33:05.422Z"
   },
   {
    "duration": 5,
    "start_time": "2021-09-13T22:33:06.199Z"
   },
   {
    "duration": 5,
    "start_time": "2021-09-13T22:33:47.889Z"
   },
   {
    "duration": 2319,
    "start_time": "2021-09-13T22:41:59.561Z"
   },
   {
    "duration": 183,
    "start_time": "2021-09-13T22:42:01.883Z"
   },
   {
    "duration": 32,
    "start_time": "2021-09-13T22:42:02.069Z"
   },
   {
    "duration": 31,
    "start_time": "2021-09-13T22:42:05.420Z"
   },
   {
    "duration": 571,
    "start_time": "2021-09-13T22:43:53.141Z"
   },
   {
    "duration": 345,
    "start_time": "2021-09-13T22:44:13.742Z"
   },
   {
    "duration": 21,
    "start_time": "2021-09-13T22:44:28.539Z"
   },
   {
    "duration": 23,
    "start_time": "2021-09-13T22:44:40.930Z"
   },
   {
    "duration": 24,
    "start_time": "2021-09-13T22:45:09.209Z"
   },
   {
    "duration": 25,
    "start_time": "2021-09-13T22:45:45.654Z"
   },
   {
    "duration": 26,
    "start_time": "2021-09-13T22:45:59.889Z"
   },
   {
    "duration": 24,
    "start_time": "2021-09-13T22:46:22.996Z"
   },
   {
    "duration": 22,
    "start_time": "2021-09-13T22:46:50.432Z"
   },
   {
    "duration": 24,
    "start_time": "2021-09-13T22:46:57.487Z"
   },
   {
    "duration": 23,
    "start_time": "2021-09-13T22:47:03.532Z"
   },
   {
    "duration": 20,
    "start_time": "2021-09-13T22:47:17.940Z"
   },
   {
    "duration": 25,
    "start_time": "2021-09-13T22:47:25.533Z"
   },
   {
    "duration": 23,
    "start_time": "2021-09-13T22:47:37.570Z"
   },
   {
    "duration": 20,
    "start_time": "2021-09-13T22:48:25.429Z"
   },
   {
    "duration": 125,
    "start_time": "2021-09-13T22:53:22.847Z"
   },
   {
    "duration": 13,
    "start_time": "2021-09-13T22:53:24.417Z"
   },
   {
    "duration": 19,
    "start_time": "2021-09-13T22:53:45.758Z"
   },
   {
    "duration": 6,
    "start_time": "2021-09-13T22:57:04.419Z"
   },
   {
    "duration": 12572,
    "start_time": "2021-09-13T22:57:05.036Z"
   },
   {
    "duration": 1892,
    "start_time": "2021-09-13T22:57:17.612Z"
   },
   {
    "duration": 64950,
    "start_time": "2021-09-13T22:57:19.508Z"
   },
   {
    "duration": 16923,
    "start_time": "2021-09-13T22:58:24.460Z"
   },
   {
    "duration": 5,
    "start_time": "2021-09-13T22:58:41.385Z"
   },
   {
    "duration": 13,
    "start_time": "2021-09-13T22:58:41.393Z"
   },
   {
    "duration": 13,
    "start_time": "2021-09-13T22:59:24.255Z"
   },
   {
    "duration": 5,
    "start_time": "2021-09-13T23:00:08.277Z"
   },
   {
    "duration": 4531,
    "start_time": "2021-09-13T23:00:21.938Z"
   },
   {
    "duration": 430,
    "start_time": "2021-09-13T23:10:55.512Z"
   },
   {
    "duration": 33,
    "start_time": "2021-09-13T23:11:05.537Z"
   },
   {
    "duration": 32,
    "start_time": "2021-09-13T23:11:11.996Z"
   },
   {
    "duration": 33,
    "start_time": "2021-09-13T23:11:39.224Z"
   },
   {
    "duration": 23,
    "start_time": "2021-09-13T23:13:01.821Z"
   },
   {
    "duration": 23,
    "start_time": "2021-09-13T23:16:25.262Z"
   },
   {
    "duration": 17160,
    "start_time": "2021-09-13T23:16:33.882Z"
   },
   {
    "duration": 14,
    "start_time": "2021-09-13T23:17:44.812Z"
   },
   {
    "duration": 30,
    "start_time": "2021-09-13T23:19:37.004Z"
   },
   {
    "duration": 11,
    "start_time": "2021-09-13T23:19:37.705Z"
   },
   {
    "duration": 8,
    "start_time": "2021-09-13T23:20:10.327Z"
   },
   {
    "duration": 20,
    "start_time": "2021-09-13T23:20:18.019Z"
   },
   {
    "duration": 27,
    "start_time": "2021-09-13T23:20:35.892Z"
   },
   {
    "duration": 10,
    "start_time": "2021-09-13T23:25:40.387Z"
   },
   {
    "duration": 364,
    "start_time": "2021-09-13T23:25:58.108Z"
   },
   {
    "duration": 23,
    "start_time": "2021-09-13T23:25:58.694Z"
   },
   {
    "duration": 109,
    "start_time": "2021-09-13T23:27:46.471Z"
   },
   {
    "duration": 17089,
    "start_time": "2021-09-13T23:27:52.707Z"
   },
   {
    "duration": 10,
    "start_time": "2021-09-13T23:32:08.820Z"
   },
   {
    "duration": 20,
    "start_time": "2021-09-13T23:32:12.885Z"
   },
   {
    "duration": 18,
    "start_time": "2021-09-13T23:33:24.582Z"
   },
   {
    "duration": 27,
    "start_time": "2021-09-13T23:34:01.859Z"
   },
   {
    "duration": 19,
    "start_time": "2021-09-13T23:34:05.024Z"
   },
   {
    "duration": 13,
    "start_time": "2021-09-13T23:34:21.332Z"
   },
   {
    "duration": 21,
    "start_time": "2021-09-13T23:34:24.638Z"
   },
   {
    "duration": 16,
    "start_time": "2021-09-13T23:34:50.733Z"
   },
   {
    "duration": 14,
    "start_time": "2021-09-13T23:35:19.043Z"
   },
   {
    "duration": 15,
    "start_time": "2021-09-13T23:35:33.771Z"
   },
   {
    "duration": 31,
    "start_time": "2021-09-13T23:40:10.422Z"
   },
   {
    "duration": 30,
    "start_time": "2021-09-13T23:40:21.613Z"
   },
   {
    "duration": 30,
    "start_time": "2021-09-13T23:40:22.831Z"
   },
   {
    "duration": 15,
    "start_time": "2021-09-13T23:40:52.042Z"
   },
   {
    "duration": 30,
    "start_time": "2021-09-13T23:41:54.493Z"
   },
   {
    "duration": 30,
    "start_time": "2021-09-13T23:41:54.726Z"
   },
   {
    "duration": 324,
    "start_time": "2021-09-13T23:42:16.921Z"
   },
   {
    "duration": 15,
    "start_time": "2021-09-13T23:42:24.931Z"
   },
   {
    "duration": 12,
    "start_time": "2021-09-13T23:42:35.109Z"
   },
   {
    "duration": 30,
    "start_time": "2021-09-13T23:46:05.431Z"
   },
   {
    "duration": 16,
    "start_time": "2021-09-13T23:46:05.930Z"
   },
   {
    "duration": 14,
    "start_time": "2021-09-13T23:46:06.608Z"
   },
   {
    "duration": 20,
    "start_time": "2021-09-13T23:49:31.521Z"
   },
   {
    "duration": 15,
    "start_time": "2021-09-13T23:49:36.898Z"
   },
   {
    "duration": 22,
    "start_time": "2021-09-13T23:51:41.541Z"
   },
   {
    "duration": 16,
    "start_time": "2021-09-13T23:51:43.659Z"
   },
   {
    "duration": 26,
    "start_time": "2021-09-13T23:52:48.942Z"
   },
   {
    "duration": 17,
    "start_time": "2021-09-13T23:52:50.109Z"
   },
   {
    "duration": 20,
    "start_time": "2021-09-13T23:53:18.929Z"
   },
   {
    "duration": 30,
    "start_time": "2021-09-13T23:54:04.468Z"
   },
   {
    "duration": 21,
    "start_time": "2021-09-13T23:54:04.986Z"
   },
   {
    "duration": 13,
    "start_time": "2021-09-13T23:54:11.705Z"
   },
   {
    "duration": 31,
    "start_time": "2021-09-13T23:54:34.063Z"
   },
   {
    "duration": 14,
    "start_time": "2021-09-13T23:54:34.257Z"
   },
   {
    "duration": 28,
    "start_time": "2021-09-13T23:54:45.682Z"
   },
   {
    "duration": 13,
    "start_time": "2021-09-13T23:54:45.920Z"
   },
   {
    "duration": 336,
    "start_time": "2021-09-13T23:55:13.096Z"
   },
   {
    "duration": 12,
    "start_time": "2021-09-13T23:55:13.636Z"
   },
   {
    "duration": 29,
    "start_time": "2021-09-13T23:55:29.685Z"
   },
   {
    "duration": 13,
    "start_time": "2021-09-13T23:55:32.116Z"
   },
   {
    "duration": 5,
    "start_time": "2021-09-13T23:56:07.369Z"
   },
   {
    "duration": 11,
    "start_time": "2021-09-13T23:57:28.621Z"
   },
   {
    "duration": 4912,
    "start_time": "2021-09-13T23:58:03.631Z"
   },
   {
    "duration": 4550,
    "start_time": "2021-09-13T23:58:32.878Z"
   },
   {
    "duration": 9,
    "start_time": "2021-09-13T23:59:57.785Z"
   },
   {
    "duration": 23,
    "start_time": "2021-09-14T00:00:31.010Z"
   },
   {
    "duration": 27,
    "start_time": "2021-09-14T00:00:53.120Z"
   },
   {
    "duration": 18,
    "start_time": "2021-09-14T07:49:12.084Z"
   },
   {
    "duration": 25,
    "start_time": "2021-09-14T07:49:51.917Z"
   },
   {
    "duration": 34,
    "start_time": "2021-09-14T07:50:17.450Z"
   },
   {
    "duration": 24,
    "start_time": "2021-09-14T07:50:29.069Z"
   },
   {
    "duration": 22,
    "start_time": "2021-09-14T07:50:43.525Z"
   },
   {
    "duration": 25,
    "start_time": "2021-09-14T07:57:12.642Z"
   },
   {
    "duration": 16,
    "start_time": "2021-09-14T07:57:49.334Z"
   },
   {
    "duration": 129,
    "start_time": "2021-09-14T08:10:34.568Z"
   },
   {
    "duration": 117,
    "start_time": "2021-09-14T08:10:45.995Z"
   },
   {
    "duration": 26,
    "start_time": "2021-09-14T08:10:52.626Z"
   },
   {
    "duration": 16,
    "start_time": "2021-09-14T08:11:27.961Z"
   },
   {
    "duration": 4,
    "start_time": "2021-09-14T08:12:39.804Z"
   },
   {
    "duration": 17,
    "start_time": "2021-09-14T08:12:43.875Z"
   },
   {
    "duration": 14,
    "start_time": "2021-09-14T08:12:50.323Z"
   },
   {
    "duration": 2299,
    "start_time": "2021-09-14T08:13:06.341Z"
   },
   {
    "duration": 5,
    "start_time": "2021-09-14T08:13:08.643Z"
   },
   {
    "duration": 256,
    "start_time": "2021-09-14T08:13:08.665Z"
   },
   {
    "duration": 34,
    "start_time": "2021-09-14T08:13:11.941Z"
   },
   {
    "duration": 28,
    "start_time": "2021-09-14T08:13:19.216Z"
   },
   {
    "duration": 20,
    "start_time": "2021-09-14T08:13:21.398Z"
   },
   {
    "duration": 34,
    "start_time": "2021-09-14T08:14:07.218Z"
   },
   {
    "duration": 24,
    "start_time": "2021-09-14T08:15:11.482Z"
   },
   {
    "duration": 33,
    "start_time": "2021-09-14T08:16:12.782Z"
   },
   {
    "duration": 16,
    "start_time": "2021-09-14T08:20:43.180Z"
   },
   {
    "duration": 25,
    "start_time": "2021-09-14T08:22:05.289Z"
   },
   {
    "duration": 17,
    "start_time": "2021-09-14T08:22:12.932Z"
   },
   {
    "duration": 2496,
    "start_time": "2021-09-14T08:22:53.903Z"
   },
   {
    "duration": 3,
    "start_time": "2021-09-14T08:22:56.402Z"
   },
   {
    "duration": 194,
    "start_time": "2021-09-14T08:22:56.414Z"
   },
   {
    "duration": 36,
    "start_time": "2021-09-14T08:22:57.086Z"
   },
   {
    "duration": 31,
    "start_time": "2021-09-14T08:23:00.455Z"
   },
   {
    "duration": 19,
    "start_time": "2021-09-14T08:23:02.324Z"
   },
   {
    "duration": 30,
    "start_time": "2021-09-14T08:23:07.167Z"
   },
   {
    "duration": 26,
    "start_time": "2021-09-14T08:23:32.143Z"
   },
   {
    "duration": 17,
    "start_time": "2021-09-14T08:23:34.147Z"
   },
   {
    "duration": 15,
    "start_time": "2021-09-14T08:23:51.007Z"
   },
   {
    "duration": 122,
    "start_time": "2021-09-14T08:32:58.321Z"
   },
   {
    "duration": 13,
    "start_time": "2021-09-14T08:32:59.383Z"
   },
   {
    "duration": 22,
    "start_time": "2021-09-14T08:33:15.109Z"
   },
   {
    "duration": 26,
    "start_time": "2021-09-14T08:33:22.415Z"
   },
   {
    "duration": 22,
    "start_time": "2021-09-14T08:33:23.238Z"
   },
   {
    "duration": 979,
    "start_time": "2021-09-14T08:35:37.264Z"
   },
   {
    "duration": 11184,
    "start_time": "2021-09-14T08:36:33.964Z"
   },
   {
    "duration": 535,
    "start_time": "2021-09-14T08:37:22.005Z"
   },
   {
    "duration": 390,
    "start_time": "2021-09-14T08:38:22.233Z"
   },
   {
    "duration": 22,
    "start_time": "2021-09-14T08:42:45.817Z"
   },
   {
    "duration": 22,
    "start_time": "2021-09-14T08:43:03.594Z"
   },
   {
    "duration": 2452,
    "start_time": "2021-09-14T08:43:28.604Z"
   },
   {
    "duration": 4,
    "start_time": "2021-09-14T08:43:31.058Z"
   },
   {
    "duration": 223,
    "start_time": "2021-09-14T08:43:31.065Z"
   },
   {
    "duration": 33,
    "start_time": "2021-09-14T08:43:31.290Z"
   },
   {
    "duration": 38,
    "start_time": "2021-09-14T08:43:31.325Z"
   },
   {
    "duration": 20,
    "start_time": "2021-09-14T08:43:31.365Z"
   },
   {
    "duration": 28,
    "start_time": "2021-09-14T08:43:36.093Z"
   },
   {
    "duration": 23,
    "start_time": "2021-09-14T08:43:37.726Z"
   },
   {
    "duration": 16,
    "start_time": "2021-09-14T08:43:40.223Z"
   },
   {
    "duration": 126,
    "start_time": "2021-09-14T08:43:55.303Z"
   },
   {
    "duration": 14,
    "start_time": "2021-09-14T08:43:56.330Z"
   },
   {
    "duration": 19,
    "start_time": "2021-09-14T08:43:57.352Z"
   },
   {
    "duration": 23,
    "start_time": "2021-09-14T08:44:16.063Z"
   },
   {
    "duration": 22,
    "start_time": "2021-09-14T08:44:17.767Z"
   },
   {
    "duration": 6,
    "start_time": "2021-09-14T08:44:32.647Z"
   },
   {
    "duration": 578,
    "start_time": "2021-09-14T08:49:36.063Z"
   },
   {
    "duration": 32,
    "start_time": "2021-09-14T08:49:58.389Z"
   },
   {
    "duration": 2379,
    "start_time": "2021-09-14T08:50:12.762Z"
   },
   {
    "duration": 4,
    "start_time": "2021-09-14T08:50:15.143Z"
   },
   {
    "duration": 182,
    "start_time": "2021-09-14T08:50:15.156Z"
   },
   {
    "duration": 31,
    "start_time": "2021-09-14T08:50:15.341Z"
   },
   {
    "duration": 26,
    "start_time": "2021-09-14T08:50:15.374Z"
   },
   {
    "duration": 19,
    "start_time": "2021-09-14T08:50:15.402Z"
   },
   {
    "duration": 28,
    "start_time": "2021-09-14T08:50:15.456Z"
   },
   {
    "duration": 22,
    "start_time": "2021-09-14T08:50:15.487Z"
   },
   {
    "duration": 15,
    "start_time": "2021-09-14T08:50:18.741Z"
   },
   {
    "duration": 130,
    "start_time": "2021-09-14T08:50:23.249Z"
   },
   {
    "duration": 15,
    "start_time": "2021-09-14T08:50:23.472Z"
   },
   {
    "duration": 19,
    "start_time": "2021-09-14T08:50:23.658Z"
   },
   {
    "duration": 24,
    "start_time": "2021-09-14T08:50:23.858Z"
   },
   {
    "duration": 6,
    "start_time": "2021-09-14T08:50:24.095Z"
   },
   {
    "duration": 32,
    "start_time": "2021-09-14T08:50:46.279Z"
   },
   {
    "duration": 17,
    "start_time": "2021-09-14T08:50:46.815Z"
   },
   {
    "duration": 13,
    "start_time": "2021-09-14T08:50:47.339Z"
   },
   {
    "duration": 561,
    "start_time": "2021-09-14T08:58:50.768Z"
   },
   {
    "duration": 401,
    "start_time": "2021-09-14T08:59:36.341Z"
   },
   {
    "duration": 14,
    "start_time": "2021-09-14T08:59:37.990Z"
   },
   {
    "duration": 405,
    "start_time": "2021-09-14T09:01:23.926Z"
   },
   {
    "duration": 386,
    "start_time": "2021-09-14T09:02:16.496Z"
   },
   {
    "duration": 9,
    "start_time": "2021-09-14T09:02:46.691Z"
   },
   {
    "duration": 14,
    "start_time": "2021-09-14T09:02:48.808Z"
   },
   {
    "duration": 400,
    "start_time": "2021-09-14T09:05:32.822Z"
   },
   {
    "duration": 7,
    "start_time": "2021-09-14T09:05:47.334Z"
   },
   {
    "duration": 14,
    "start_time": "2021-09-14T09:05:47.827Z"
   },
   {
    "duration": 130,
    "start_time": "2021-09-14T09:07:15.203Z"
   },
   {
    "duration": 128,
    "start_time": "2021-09-14T09:07:15.207Z"
   },
   {
    "duration": 755,
    "start_time": "2021-09-14T09:07:24.955Z"
   },
   {
    "duration": 14,
    "start_time": "2021-09-14T09:07:25.771Z"
   },
   {
    "duration": 16,
    "start_time": "2021-09-14T09:07:28.448Z"
   },
   {
    "duration": 6,
    "start_time": "2021-09-14T09:08:25.852Z"
   },
   {
    "duration": 17,
    "start_time": "2021-09-14T09:08:38.780Z"
   },
   {
    "duration": 7,
    "start_time": "2021-09-14T09:09:05.088Z"
   },
   {
    "duration": 18,
    "start_time": "2021-09-14T09:09:05.869Z"
   },
   {
    "duration": 361,
    "start_time": "2021-09-14T09:09:21.274Z"
   },
   {
    "duration": 7,
    "start_time": "2021-09-14T09:09:32.566Z"
   },
   {
    "duration": 18,
    "start_time": "2021-09-14T09:09:33.374Z"
   },
   {
    "duration": 31,
    "start_time": "2021-09-14T09:34:51.277Z"
   },
   {
    "duration": 15073,
    "start_time": "2021-09-14T09:34:53.278Z"
   },
   {
    "duration": 854,
    "start_time": "2021-09-14T09:35:13.906Z"
   },
   {
    "duration": 3028,
    "start_time": "2021-09-14T09:36:53.992Z"
   },
   {
    "duration": 890,
    "start_time": "2021-09-14T09:37:31.140Z"
   },
   {
    "duration": 735,
    "start_time": "2021-09-14T09:38:00.931Z"
   },
   {
    "duration": 746,
    "start_time": "2021-09-14T09:38:27.138Z"
   },
   {
    "duration": 1468,
    "start_time": "2021-09-14T09:38:46.410Z"
   },
   {
    "duration": 1703,
    "start_time": "2021-09-14T09:38:58.972Z"
   },
   {
    "duration": 765,
    "start_time": "2021-09-14T09:39:38.578Z"
   },
   {
    "duration": 138,
    "start_time": "2021-09-14T09:41:33.402Z"
   },
   {
    "duration": 1375,
    "start_time": "2021-09-14T09:41:44.600Z"
   },
   {
    "duration": 1558,
    "start_time": "2021-09-14T09:42:27.580Z"
   },
   {
    "duration": 780,
    "start_time": "2021-09-14T09:43:02.321Z"
   },
   {
    "duration": 145,
    "start_time": "2021-09-14T09:43:52.058Z"
   },
   {
    "duration": 474,
    "start_time": "2021-09-14T09:44:06.820Z"
   },
   {
    "duration": 7,
    "start_time": "2021-09-14T09:44:27.723Z"
   },
   {
    "duration": 14,
    "start_time": "2021-09-14T09:44:33.896Z"
   },
   {
    "duration": 398,
    "start_time": "2021-09-14T09:46:28.675Z"
   },
   {
    "duration": 9858,
    "start_time": "2021-09-14T09:46:37.541Z"
   },
   {
    "duration": 7,
    "start_time": "2021-09-14T09:47:05.334Z"
   },
   {
    "duration": 356,
    "start_time": "2021-09-14T10:10:05.016Z"
   },
   {
    "duration": 493,
    "start_time": "2021-09-14T10:10:43.916Z"
   },
   {
    "duration": 7,
    "start_time": "2021-09-14T10:10:56.354Z"
   },
   {
    "duration": 24,
    "start_time": "2021-09-14T10:11:11.508Z"
   },
   {
    "duration": 25,
    "start_time": "2021-09-14T10:11:34.454Z"
   },
   {
    "duration": 18,
    "start_time": "2021-09-14T10:11:37.266Z"
   },
   {
    "duration": 20,
    "start_time": "2021-09-14T10:11:55.429Z"
   },
   {
    "duration": 21,
    "start_time": "2021-09-14T10:11:56.061Z"
   },
   {
    "duration": 16,
    "start_time": "2021-09-14T10:12:04.528Z"
   },
   {
    "duration": 16,
    "start_time": "2021-09-14T10:12:12.333Z"
   },
   {
    "duration": 22,
    "start_time": "2021-09-14T10:12:13.365Z"
   },
   {
    "duration": 17,
    "start_time": "2021-09-14T10:12:56.291Z"
   },
   {
    "duration": 17,
    "start_time": "2021-09-14T10:12:56.901Z"
   },
   {
    "duration": 17,
    "start_time": "2021-09-14T10:13:37.795Z"
   },
   {
    "duration": 18,
    "start_time": "2021-09-14T10:13:38.373Z"
   },
   {
    "duration": 496,
    "start_time": "2021-09-14T10:13:46.049Z"
   },
   {
    "duration": 12,
    "start_time": "2021-09-14T10:13:46.548Z"
   },
   {
    "duration": 22,
    "start_time": "2021-09-14T10:13:46.563Z"
   },
   {
    "duration": 16,
    "start_time": "2021-09-14T10:13:49.191Z"
   },
   {
    "duration": 446,
    "start_time": "2021-09-14T11:15:36.346Z"
   },
   {
    "duration": 2426,
    "start_time": "2021-09-14T11:16:20.797Z"
   },
   {
    "duration": 10615,
    "start_time": "2021-09-14T11:16:58.630Z"
   },
   {
    "duration": 1184,
    "start_time": "2021-09-14T11:25:03.162Z"
   },
   {
    "duration": 2666,
    "start_time": "2021-09-14T11:25:44.726Z"
   },
   {
    "duration": 831,
    "start_time": "2021-09-14T11:26:00.657Z"
   },
   {
    "duration": 564,
    "start_time": "2021-09-14T11:26:38.547Z"
   },
   {
    "duration": 2414,
    "start_time": "2021-09-14T11:26:51.031Z"
   },
   {
    "duration": 463,
    "start_time": "2021-09-14T11:28:15.836Z"
   },
   {
    "duration": 449,
    "start_time": "2021-09-14T11:29:02.908Z"
   },
   {
    "duration": 372,
    "start_time": "2021-09-14T11:29:22.725Z"
   },
   {
    "duration": 389,
    "start_time": "2021-09-14T11:30:14.973Z"
   },
   {
    "duration": 19,
    "start_time": "2021-09-14T11:30:17.307Z"
   },
   {
    "duration": 30,
    "start_time": "2021-09-14T11:30:33.236Z"
   },
   {
    "duration": 430,
    "start_time": "2021-09-14T11:30:33.705Z"
   },
   {
    "duration": 19,
    "start_time": "2021-09-14T11:30:34.154Z"
   },
   {
    "duration": 26,
    "start_time": "2021-09-14T11:30:59.980Z"
   },
   {
    "duration": 431,
    "start_time": "2021-09-14T11:31:00.499Z"
   },
   {
    "duration": 24,
    "start_time": "2021-09-14T11:31:00.933Z"
   },
   {
    "duration": 431,
    "start_time": "2021-09-14T11:31:25.921Z"
   },
   {
    "duration": 14,
    "start_time": "2021-09-14T11:31:26.478Z"
   },
   {
    "duration": 5,
    "start_time": "2021-09-14T11:31:35.270Z"
   },
   {
    "duration": 21,
    "start_time": "2021-09-14T11:32:41.316Z"
   },
   {
    "duration": 863,
    "start_time": "2021-09-14T11:33:11.105Z"
   },
   {
    "duration": 427,
    "start_time": "2021-09-14T11:33:20.101Z"
   },
   {
    "duration": 16,
    "start_time": "2021-09-14T11:33:31.502Z"
   },
   {
    "duration": 415,
    "start_time": "2021-09-14T11:34:06.581Z"
   },
   {
    "duration": 19,
    "start_time": "2021-09-14T11:34:07.622Z"
   },
   {
    "duration": 420,
    "start_time": "2021-09-14T11:34:26.524Z"
   },
   {
    "duration": 541,
    "start_time": "2021-09-14T11:34:55.937Z"
   },
   {
    "duration": 470,
    "start_time": "2021-09-14T11:35:15.434Z"
   },
   {
    "duration": 32,
    "start_time": "2021-09-14T11:44:38.357Z"
   },
   {
    "duration": 423,
    "start_time": "2021-09-14T11:44:38.542Z"
   },
   {
    "duration": 20,
    "start_time": "2021-09-14T11:44:41.285Z"
   },
   {
    "duration": 336,
    "start_time": "2021-09-14T11:50:03.021Z"
   },
   {
    "duration": 21,
    "start_time": "2021-09-14T11:50:10.718Z"
   },
   {
    "duration": 161,
    "start_time": "2021-09-14T11:50:37.022Z"
   },
   {
    "duration": 4279,
    "start_time": "2021-09-14T11:50:46.407Z"
   },
   {
    "duration": 4702,
    "start_time": "2021-09-14T11:52:53.445Z"
   },
   {
    "duration": 2763,
    "start_time": "2021-09-14T11:53:19.829Z"
   },
   {
    "duration": 8,
    "start_time": "2021-09-14T11:53:37.792Z"
   },
   {
    "duration": 2023,
    "start_time": "2021-09-14T11:53:48.856Z"
   },
   {
    "duration": 8,
    "start_time": "2021-09-14T11:55:56.670Z"
   },
   {
    "duration": 13,
    "start_time": "2021-09-14T11:55:57.321Z"
   },
   {
    "duration": 27,
    "start_time": "2021-09-14T11:56:07.298Z"
   },
   {
    "duration": 42,
    "start_time": "2021-09-14T11:56:07.869Z"
   },
   {
    "duration": 1230,
    "start_time": "2021-09-14T11:56:08.377Z"
   },
   {
    "duration": 340,
    "start_time": "2021-09-14T11:56:26.236Z"
   },
   {
    "duration": 17,
    "start_time": "2021-09-14T11:56:34.187Z"
   },
   {
    "duration": 2307,
    "start_time": "2021-09-14T11:57:20.242Z"
   },
   {
    "duration": 17,
    "start_time": "2021-09-14T11:57:45.208Z"
   },
   {
    "duration": 13,
    "start_time": "2021-09-14T11:57:46.372Z"
   },
   {
    "duration": 325,
    "start_time": "2021-09-14T11:58:12.996Z"
   },
   {
    "duration": 18,
    "start_time": "2021-09-14T11:58:13.324Z"
   },
   {
    "duration": 19,
    "start_time": "2021-09-14T11:58:14.386Z"
   },
   {
    "duration": 23,
    "start_time": "2021-09-14T11:58:41.945Z"
   },
   {
    "duration": 9,
    "start_time": "2021-09-14T11:59:22.238Z"
   },
   {
    "duration": 811,
    "start_time": "2021-09-14T11:59:42.041Z"
   },
   {
    "duration": 38,
    "start_time": "2021-09-14T11:59:50.949Z"
   },
   {
    "duration": 7,
    "start_time": "2021-09-14T12:03:18.704Z"
   },
   {
    "duration": 709,
    "start_time": "2021-09-14T12:03:19.335Z"
   },
   {
    "duration": 29,
    "start_time": "2021-09-14T12:03:28.023Z"
   },
   {
    "duration": 8,
    "start_time": "2021-09-14T12:04:12.651Z"
   },
   {
    "duration": 746,
    "start_time": "2021-09-14T12:04:13.390Z"
   },
   {
    "duration": 7,
    "start_time": "2021-09-14T12:04:26.012Z"
   },
   {
    "duration": 998,
    "start_time": "2021-09-14T12:04:26.929Z"
   },
   {
    "duration": 30,
    "start_time": "2021-09-14T12:04:29.158Z"
   },
   {
    "duration": 27,
    "start_time": "2021-09-14T12:26:34.024Z"
   },
   {
    "duration": 7,
    "start_time": "2021-09-14T12:26:47.001Z"
   },
   {
    "duration": 933,
    "start_time": "2021-09-14T12:26:47.425Z"
   },
   {
    "duration": 29,
    "start_time": "2021-09-14T12:26:49.676Z"
   },
   {
    "duration": 24,
    "start_time": "2021-09-14T12:27:18.203Z"
   },
   {
    "duration": 7,
    "start_time": "2021-09-14T12:27:19.221Z"
   },
   {
    "duration": 892,
    "start_time": "2021-09-14T12:27:22.282Z"
   },
   {
    "duration": 27,
    "start_time": "2021-09-14T12:27:24.316Z"
   },
   {
    "duration": 2509,
    "start_time": "2021-09-14T12:28:02.762Z"
   },
   {
    "duration": 5,
    "start_time": "2021-09-14T12:28:05.274Z"
   },
   {
    "duration": 211,
    "start_time": "2021-09-14T12:28:05.293Z"
   },
   {
    "duration": 34,
    "start_time": "2021-09-14T12:28:05.507Z"
   },
   {
    "duration": 34,
    "start_time": "2021-09-14T12:28:05.544Z"
   },
   {
    "duration": 29,
    "start_time": "2021-09-14T12:28:11.566Z"
   },
   {
    "duration": 21,
    "start_time": "2021-09-14T12:28:12.112Z"
   },
   {
    "duration": 34,
    "start_time": "2021-09-14T12:28:13.262Z"
   },
   {
    "duration": 29,
    "start_time": "2021-09-14T12:28:16.760Z"
   },
   {
    "duration": 15,
    "start_time": "2021-09-14T12:28:17.099Z"
   },
   {
    "duration": 130,
    "start_time": "2021-09-14T12:28:18.981Z"
   },
   {
    "duration": 2535,
    "start_time": "2021-09-14T12:28:57.112Z"
   },
   {
    "duration": 9,
    "start_time": "2021-09-14T12:28:59.650Z"
   },
   {
    "duration": 177,
    "start_time": "2021-09-14T12:28:59.663Z"
   },
   {
    "duration": 34,
    "start_time": "2021-09-14T12:28:59.843Z"
   },
   {
    "duration": 26,
    "start_time": "2021-09-14T12:28:59.880Z"
   },
   {
    "duration": 47,
    "start_time": "2021-09-14T12:28:59.909Z"
   },
   {
    "duration": 36,
    "start_time": "2021-09-14T12:28:59.959Z"
   },
   {
    "duration": 66,
    "start_time": "2021-09-14T12:29:00.000Z"
   },
   {
    "duration": 18,
    "start_time": "2021-09-14T12:29:00.068Z"
   },
   {
    "duration": 140,
    "start_time": "2021-09-14T12:29:00.286Z"
   },
   {
    "duration": 13,
    "start_time": "2021-09-14T12:29:00.522Z"
   },
   {
    "duration": 20,
    "start_time": "2021-09-14T12:29:04.453Z"
   },
   {
    "duration": 23,
    "start_time": "2021-09-14T12:29:04.639Z"
   },
   {
    "duration": 5,
    "start_time": "2021-09-14T12:29:04.832Z"
   },
   {
    "duration": 95,
    "start_time": "2021-09-14T12:29:24.492Z"
   },
   {
    "duration": 14,
    "start_time": "2021-09-14T12:29:28.640Z"
   },
   {
    "duration": 94,
    "start_time": "2021-09-14T12:29:38.280Z"
   },
   {
    "duration": 13,
    "start_time": "2021-09-14T12:29:39.735Z"
   },
   {
    "duration": 174,
    "start_time": "2021-09-14T12:32:25.209Z"
   },
   {
    "duration": 14,
    "start_time": "2021-09-14T12:32:26.227Z"
   },
   {
    "duration": 2957,
    "start_time": "2021-09-14T12:32:44.892Z"
   },
   {
    "duration": 5,
    "start_time": "2021-09-14T12:32:47.851Z"
   },
   {
    "duration": 196,
    "start_time": "2021-09-14T12:32:47.860Z"
   },
   {
    "duration": 34,
    "start_time": "2021-09-14T12:32:48.061Z"
   },
   {
    "duration": 60,
    "start_time": "2021-09-14T12:32:48.098Z"
   },
   {
    "duration": 33,
    "start_time": "2021-09-14T12:32:48.161Z"
   },
   {
    "duration": 74,
    "start_time": "2021-09-14T12:32:48.200Z"
   },
   {
    "duration": 28,
    "start_time": "2021-09-14T12:32:48.276Z"
   },
   {
    "duration": 16,
    "start_time": "2021-09-14T12:32:48.307Z"
   },
   {
    "duration": 122,
    "start_time": "2021-09-14T12:32:52.119Z"
   },
   {
    "duration": 15,
    "start_time": "2021-09-14T12:32:52.565Z"
   },
   {
    "duration": 19,
    "start_time": "2021-09-14T12:32:53.238Z"
   },
   {
    "duration": 31,
    "start_time": "2021-09-14T12:32:55.332Z"
   },
   {
    "duration": 7,
    "start_time": "2021-09-14T12:32:55.934Z"
   },
   {
    "duration": 33,
    "start_time": "2021-09-14T12:32:58.991Z"
   },
   {
    "duration": 26,
    "start_time": "2021-09-14T12:32:59.169Z"
   },
   {
    "duration": 8,
    "start_time": "2021-09-14T12:32:59.370Z"
   },
   {
    "duration": 16,
    "start_time": "2021-09-14T12:33:00.179Z"
   },
   {
    "duration": 25,
    "start_time": "2021-09-14T12:33:05.396Z"
   },
   {
    "duration": 39,
    "start_time": "2021-09-14T12:33:06.228Z"
   },
   {
    "duration": 887,
    "start_time": "2021-09-14T12:33:27.833Z"
   },
   {
    "duration": 350,
    "start_time": "2021-09-14T12:33:33.250Z"
   },
   {
    "duration": 24,
    "start_time": "2021-09-14T12:33:33.728Z"
   },
   {
    "duration": 6,
    "start_time": "2021-09-14T12:33:35.230Z"
   },
   {
    "duration": 12568,
    "start_time": "2021-09-14T12:33:36.040Z"
   },
   {
    "duration": 449,
    "start_time": "2021-09-14T12:33:48.611Z"
   },
   {
    "duration": 10,
    "start_time": "2021-09-14T12:34:48.439Z"
   },
   {
    "duration": 8852,
    "start_time": "2021-09-14T12:34:49.138Z"
   },
   {
    "duration": 237,
    "start_time": "2021-09-14T12:34:57.756Z"
   },
   {
    "duration": 237,
    "start_time": "2021-09-14T12:34:57.758Z"
   },
   {
    "duration": 343,
    "start_time": "2021-09-14T12:35:16.444Z"
   },
   {
    "duration": 23,
    "start_time": "2021-09-14T12:35:17.530Z"
   },
   {
    "duration": 29,
    "start_time": "2021-09-14T12:35:18.273Z"
   },
   {
    "duration": 7,
    "start_time": "2021-09-14T12:35:19.248Z"
   },
   {
    "duration": 920,
    "start_time": "2021-09-14T12:35:20.096Z"
   },
   {
    "duration": 33,
    "start_time": "2021-09-14T12:35:25.318Z"
   },
   {
    "duration": 24,
    "start_time": "2021-09-14T12:35:59.665Z"
   },
   {
    "duration": 967,
    "start_time": "2021-09-14T12:36:11.793Z"
   },
   {
    "duration": 395,
    "start_time": "2021-09-14T12:38:46.471Z"
   },
   {
    "duration": 2315,
    "start_time": "2021-09-14T12:38:53.580Z"
   },
   {
    "duration": 5,
    "start_time": "2021-09-14T12:38:55.899Z"
   },
   {
    "duration": 7,
    "start_time": "2021-09-14T12:38:55.908Z"
   },
   {
    "duration": 203,
    "start_time": "2021-09-14T12:38:55.918Z"
   },
   {
    "duration": 37,
    "start_time": "2021-09-14T12:38:56.124Z"
   },
   {
    "duration": 31,
    "start_time": "2021-09-14T12:38:56.164Z"
   },
   {
    "duration": 65,
    "start_time": "2021-09-14T12:38:56.199Z"
   },
   {
    "duration": 31,
    "start_time": "2021-09-14T12:38:56.269Z"
   },
   {
    "duration": 67,
    "start_time": "2021-09-14T12:38:56.304Z"
   },
   {
    "duration": 16,
    "start_time": "2021-09-14T12:38:56.374Z"
   },
   {
    "duration": 162,
    "start_time": "2021-09-14T12:38:56.394Z"
   },
   {
    "duration": 14,
    "start_time": "2021-09-14T12:38:56.559Z"
   },
   {
    "duration": 18,
    "start_time": "2021-09-14T12:38:56.697Z"
   },
   {
    "duration": 23,
    "start_time": "2021-09-14T12:38:57.506Z"
   },
   {
    "duration": 5,
    "start_time": "2021-09-14T12:38:57.822Z"
   },
   {
    "duration": 34,
    "start_time": "2021-09-14T12:39:00.095Z"
   },
   {
    "duration": 17,
    "start_time": "2021-09-14T12:39:00.319Z"
   },
   {
    "duration": 8,
    "start_time": "2021-09-14T12:39:00.550Z"
   },
   {
    "duration": 13,
    "start_time": "2021-09-14T12:39:01.199Z"
   },
   {
    "duration": 27,
    "start_time": "2021-09-14T12:39:02.290Z"
   },
   {
    "duration": 38,
    "start_time": "2021-09-14T12:39:03.472Z"
   },
   {
    "duration": 318,
    "start_time": "2021-09-14T12:39:15.162Z"
   },
   {
    "duration": 18,
    "start_time": "2021-09-14T12:39:16.085Z"
   },
   {
    "duration": 26,
    "start_time": "2021-09-14T12:39:25.542Z"
   },
   {
    "duration": 7,
    "start_time": "2021-09-14T12:39:27.821Z"
   },
   {
    "duration": 795,
    "start_time": "2021-09-14T12:39:29.440Z"
   },
   {
    "duration": 23,
    "start_time": "2021-09-14T12:39:31.877Z"
   },
   {
    "duration": 176,
    "start_time": "2021-09-14T12:40:21.820Z"
   },
   {
    "duration": 33,
    "start_time": "2021-09-14T12:40:41.572Z"
   },
   {
    "duration": 17,
    "start_time": "2021-09-14T12:41:12.028Z"
   },
   {
    "duration": 21,
    "start_time": "2021-09-14T12:41:14.708Z"
   },
   {
    "duration": 26,
    "start_time": "2021-09-14T12:42:44.803Z"
   },
   {
    "duration": 15,
    "start_time": "2021-09-14T12:43:24.113Z"
   },
   {
    "duration": 697,
    "start_time": "2021-09-14T12:43:25.637Z"
   },
   {
    "duration": 22,
    "start_time": "2021-09-14T12:43:42.149Z"
   },
   {
    "duration": 23,
    "start_time": "2021-09-14T12:43:42.958Z"
   },
   {
    "duration": 7,
    "start_time": "2021-09-14T12:43:56.911Z"
   },
   {
    "duration": 789,
    "start_time": "2021-09-14T12:43:57.327Z"
   },
   {
    "duration": 15,
    "start_time": "2021-09-14T12:43:59.253Z"
   },
   {
    "duration": 416,
    "start_time": "2021-09-14T12:44:01.711Z"
   },
   {
    "duration": 15,
    "start_time": "2021-09-14T12:44:06.682Z"
   },
   {
    "duration": 28,
    "start_time": "2021-09-14T12:44:07.059Z"
   },
   {
    "duration": 25,
    "start_time": "2021-09-14T12:44:22.215Z"
   },
   {
    "duration": 41,
    "start_time": "2021-09-14T12:44:22.422Z"
   },
   {
    "duration": 319,
    "start_time": "2021-09-14T12:44:22.623Z"
   },
   {
    "duration": 27,
    "start_time": "2021-09-14T12:44:22.944Z"
   },
   {
    "duration": 23,
    "start_time": "2021-09-14T12:44:23.084Z"
   },
   {
    "duration": 7,
    "start_time": "2021-09-14T12:44:23.309Z"
   },
   {
    "duration": 702,
    "start_time": "2021-09-14T12:44:23.525Z"
   },
   {
    "duration": 31,
    "start_time": "2021-09-14T12:44:24.230Z"
   },
   {
    "duration": 22,
    "start_time": "2021-09-14T12:44:28.571Z"
   },
   {
    "duration": 15,
    "start_time": "2021-09-14T12:47:34.558Z"
   },
   {
    "duration": 2363,
    "start_time": "2021-09-14T12:50:54.899Z"
   },
   {
    "duration": 4,
    "start_time": "2021-09-14T12:50:57.266Z"
   },
   {
    "duration": 5,
    "start_time": "2021-09-14T12:50:57.275Z"
   },
   {
    "duration": 254,
    "start_time": "2021-09-14T12:50:57.283Z"
   },
   {
    "duration": 35,
    "start_time": "2021-09-14T12:50:57.540Z"
   },
   {
    "duration": 25,
    "start_time": "2021-09-14T12:50:57.577Z"
   },
   {
    "duration": 64,
    "start_time": "2021-09-14T12:50:57.604Z"
   },
   {
    "duration": 26,
    "start_time": "2021-09-14T12:50:57.672Z"
   },
   {
    "duration": 23,
    "start_time": "2021-09-14T12:50:57.701Z"
   },
   {
    "duration": 15,
    "start_time": "2021-09-14T12:50:57.756Z"
   },
   {
    "duration": 119,
    "start_time": "2021-09-14T12:50:58.209Z"
   },
   {
    "duration": 14,
    "start_time": "2021-09-14T12:50:58.425Z"
   },
   {
    "duration": 26,
    "start_time": "2021-09-14T12:50:58.649Z"
   },
   {
    "duration": 24,
    "start_time": "2021-09-14T12:50:58.880Z"
   },
   {
    "duration": 6,
    "start_time": "2021-09-14T12:50:59.110Z"
   },
   {
    "duration": 37,
    "start_time": "2021-09-14T12:51:00.005Z"
   },
   {
    "duration": 18,
    "start_time": "2021-09-14T12:51:00.198Z"
   },
   {
    "duration": 7,
    "start_time": "2021-09-14T12:51:00.675Z"
   },
   {
    "duration": 14,
    "start_time": "2021-09-14T12:51:00.876Z"
   },
   {
    "duration": 27,
    "start_time": "2021-09-14T12:51:01.331Z"
   },
   {
    "duration": 39,
    "start_time": "2021-09-14T12:51:01.570Z"
   },
   {
    "duration": 336,
    "start_time": "2021-09-14T12:51:04.552Z"
   },
   {
    "duration": 11,
    "start_time": "2021-09-14T12:51:05.039Z"
   },
   {
    "duration": 7,
    "start_time": "2021-09-14T12:51:05.367Z"
   },
   {
    "duration": 781,
    "start_time": "2021-09-14T12:51:05.675Z"
   },
   {
    "duration": 591,
    "start_time": "2021-09-14T12:51:06.459Z"
   },
   {
    "duration": 729,
    "start_time": "2021-09-14T12:52:00.534Z"
   },
   {
    "duration": 22,
    "start_time": "2021-09-14T12:52:12.162Z"
   },
   {
    "duration": 15,
    "start_time": "2021-09-14T12:52:14.033Z"
   },
   {
    "duration": 5,
    "start_time": "2021-09-14T12:52:22.922Z"
   },
   {
    "duration": 4032,
    "start_time": "2021-09-14T12:55:09.088Z"
   },
   {
    "duration": 3,
    "start_time": "2021-09-14T12:55:13.123Z"
   },
   {
    "duration": 12,
    "start_time": "2021-09-14T12:55:13.129Z"
   },
   {
    "duration": 192,
    "start_time": "2021-09-14T12:55:13.144Z"
   },
   {
    "duration": 33,
    "start_time": "2021-09-14T12:55:13.339Z"
   },
   {
    "duration": 26,
    "start_time": "2021-09-14T12:55:13.375Z"
   },
   {
    "duration": 20,
    "start_time": "2021-09-14T12:55:13.404Z"
   },
   {
    "duration": 30,
    "start_time": "2021-09-14T12:55:13.455Z"
   },
   {
    "duration": 24,
    "start_time": "2021-09-14T12:55:13.487Z"
   },
   {
    "duration": 51,
    "start_time": "2021-09-14T12:55:13.513Z"
   },
   {
    "duration": 134,
    "start_time": "2021-09-14T12:55:13.566Z"
   },
   {
    "duration": 13,
    "start_time": "2021-09-14T12:55:13.702Z"
   },
   {
    "duration": 44,
    "start_time": "2021-09-14T12:55:13.717Z"
   },
   {
    "duration": 26,
    "start_time": "2021-09-14T12:55:13.763Z"
   },
   {
    "duration": 5,
    "start_time": "2021-09-14T12:55:13.791Z"
   },
   {
    "duration": 33,
    "start_time": "2021-09-14T12:55:14.527Z"
   },
   {
    "duration": 17,
    "start_time": "2021-09-14T12:55:14.735Z"
   },
   {
    "duration": 7,
    "start_time": "2021-09-14T12:55:14.951Z"
   },
   {
    "duration": 14,
    "start_time": "2021-09-14T12:55:15.197Z"
   },
   {
    "duration": 28,
    "start_time": "2021-09-14T12:55:16.602Z"
   },
   {
    "duration": 41,
    "start_time": "2021-09-14T12:55:16.801Z"
   },
   {
    "duration": 356,
    "start_time": "2021-09-14T12:55:17.001Z"
   },
   {
    "duration": 7,
    "start_time": "2021-09-14T12:55:17.359Z"
   },
   {
    "duration": 793,
    "start_time": "2021-09-14T12:55:17.871Z"
   },
   {
    "duration": 14,
    "start_time": "2021-09-14T12:55:18.666Z"
   },
   {
    "duration": 14,
    "start_time": "2021-09-14T12:55:19.367Z"
   },
   {
    "duration": 5,
    "start_time": "2021-09-14T12:55:20.885Z"
   },
   {
    "duration": 5,
    "start_time": "2021-09-14T12:56:31.476Z"
   },
   {
    "duration": 13631,
    "start_time": "2021-09-14T12:56:31.754Z"
   },
   {
    "duration": 1857,
    "start_time": "2021-09-14T12:56:45.389Z"
   },
   {
    "duration": 66792,
    "start_time": "2021-09-14T12:56:47.250Z"
   },
   {
    "duration": 18568,
    "start_time": "2021-09-14T12:57:54.045Z"
   },
   {
    "duration": 5,
    "start_time": "2021-09-14T12:58:12.615Z"
   },
   {
    "duration": 31,
    "start_time": "2021-09-14T13:06:06.672Z"
   },
   {
    "duration": 1134,
    "start_time": "2021-09-14T13:10:33.410Z"
   },
   {
    "duration": 13,
    "start_time": "2021-09-14T13:10:41.599Z"
   },
   {
    "duration": 40,
    "start_time": "2021-09-14T13:10:48.497Z"
   },
   {
    "duration": 139,
    "start_time": "2021-09-14T13:14:28.889Z"
   },
   {
    "duration": 680,
    "start_time": "2021-09-14T13:15:31.626Z"
   },
   {
    "duration": 2428,
    "start_time": "2021-09-14T13:15:46.241Z"
   },
   {
    "duration": 1850,
    "start_time": "2021-09-14T13:59:17.473Z"
   },
   {
    "duration": 3454,
    "start_time": "2021-09-14T13:59:49.365Z"
   },
   {
    "duration": 6,
    "start_time": "2021-09-14T14:00:40.132Z"
   },
   {
    "duration": 26,
    "start_time": "2021-09-14T14:00:48.431Z"
   },
   {
    "duration": 18,
    "start_time": "2021-09-14T14:01:23.410Z"
   },
   {
    "duration": 2223,
    "start_time": "2021-09-14T14:04:39.586Z"
   },
   {
    "duration": 6,
    "start_time": "2021-09-14T14:05:12.746Z"
   },
   {
    "duration": 28,
    "start_time": "2021-09-14T14:05:14.356Z"
   },
   {
    "duration": 9,
    "start_time": "2021-09-14T14:05:57.959Z"
   },
   {
    "duration": 27,
    "start_time": "2021-09-14T14:05:58.715Z"
   },
   {
    "duration": 6,
    "start_time": "2021-09-14T14:06:37.817Z"
   },
   {
    "duration": 16,
    "start_time": "2021-09-14T14:06:38.429Z"
   },
   {
    "duration": 4,
    "start_time": "2021-09-14T14:09:30.377Z"
   },
   {
    "duration": 321,
    "start_time": "2021-09-14T14:12:29.230Z"
   },
   {
    "duration": 5,
    "start_time": "2021-09-14T14:12:42.868Z"
   },
   {
    "duration": 2204,
    "start_time": "2021-09-14T14:14:33.205Z"
   },
   {
    "duration": 5,
    "start_time": "2021-09-14T14:15:34.456Z"
   },
   {
    "duration": 2297,
    "start_time": "2021-09-14T14:15:35.210Z"
   },
   {
    "duration": 4,
    "start_time": "2021-09-14T14:15:45.466Z"
   },
   {
    "duration": 2221,
    "start_time": "2021-09-14T14:15:45.988Z"
   },
   {
    "duration": 4,
    "start_time": "2021-09-14T14:24:36.398Z"
   },
   {
    "duration": 14,
    "start_time": "2021-09-14T14:24:40.117Z"
   },
   {
    "duration": 28,
    "start_time": "2021-09-14T14:24:47.572Z"
   },
   {
    "duration": 5,
    "start_time": "2021-09-14T14:30:31.315Z"
   },
   {
    "duration": 487,
    "start_time": "2021-09-14T14:32:18.464Z"
   },
   {
    "duration": 4,
    "start_time": "2021-09-14T14:32:22.523Z"
   },
   {
    "duration": 5,
    "start_time": "2021-09-14T14:32:24.874Z"
   },
   {
    "duration": 458,
    "start_time": "2021-09-14T14:32:25.311Z"
   },
   {
    "duration": 1032,
    "start_time": "2021-09-14T14:32:32.061Z"
   },
   {
    "duration": 30,
    "start_time": "2021-09-14T14:33:19.857Z"
   },
   {
    "duration": 35,
    "start_time": "2021-09-14T14:33:49.370Z"
   },
   {
    "duration": 1119,
    "start_time": "2021-09-14T14:35:19.155Z"
   },
   {
    "duration": 3,
    "start_time": "2021-09-14T14:35:29.116Z"
   },
   {
    "duration": 999,
    "start_time": "2021-09-14T14:35:31.522Z"
   },
   {
    "duration": 5,
    "start_time": "2021-09-14T14:36:15.020Z"
   },
   {
    "duration": 5,
    "start_time": "2021-09-14T14:36:15.452Z"
   },
   {
    "duration": 826,
    "start_time": "2021-09-14T14:36:16.408Z"
   },
   {
    "duration": 4,
    "start_time": "2021-09-14T14:41:21.583Z"
   },
   {
    "duration": 5,
    "start_time": "2021-09-14T14:41:22.459Z"
   },
   {
    "duration": 886,
    "start_time": "2021-09-14T14:41:23.222Z"
   },
   {
    "duration": 5,
    "start_time": "2021-09-14T14:41:59.008Z"
   },
   {
    "duration": 18,
    "start_time": "2021-09-14T14:41:59.679Z"
   },
   {
    "duration": 33,
    "start_time": "2021-09-14T14:42:03.936Z"
   },
   {
    "duration": 4,
    "start_time": "2021-09-14T14:42:16.397Z"
   },
   {
    "duration": 5,
    "start_time": "2021-09-14T14:42:16.893Z"
   },
   {
    "duration": 18,
    "start_time": "2021-09-14T14:42:17.386Z"
   },
   {
    "duration": 35,
    "start_time": "2021-09-14T14:42:17.848Z"
   },
   {
    "duration": 19,
    "start_time": "2021-09-14T14:43:05.444Z"
   },
   {
    "duration": 35,
    "start_time": "2021-09-14T14:43:10.219Z"
   },
   {
    "duration": 27,
    "start_time": "2021-09-14T14:43:21.902Z"
   },
   {
    "duration": 2354,
    "start_time": "2021-09-14T14:43:36.602Z"
   },
   {
    "duration": 4,
    "start_time": "2021-09-14T14:43:38.960Z"
   },
   {
    "duration": 6,
    "start_time": "2021-09-14T14:43:38.967Z"
   },
   {
    "duration": 185,
    "start_time": "2021-09-14T14:43:38.975Z"
   },
   {
    "duration": 32,
    "start_time": "2021-09-14T14:43:39.165Z"
   },
   {
    "duration": 56,
    "start_time": "2021-09-14T14:43:39.199Z"
   },
   {
    "duration": 19,
    "start_time": "2021-09-14T14:43:39.259Z"
   },
   {
    "duration": 27,
    "start_time": "2021-09-14T14:43:39.280Z"
   },
   {
    "duration": 57,
    "start_time": "2021-09-14T14:43:39.309Z"
   },
   {
    "duration": 17,
    "start_time": "2021-09-14T14:43:39.368Z"
   },
   {
    "duration": 166,
    "start_time": "2021-09-14T14:43:39.389Z"
   },
   {
    "duration": 16,
    "start_time": "2021-09-14T14:43:39.558Z"
   },
   {
    "duration": 18,
    "start_time": "2021-09-14T14:43:41.885Z"
   },
   {
    "duration": 24,
    "start_time": "2021-09-14T14:43:42.092Z"
   },
   {
    "duration": 5,
    "start_time": "2021-09-14T14:43:42.301Z"
   },
   {
    "duration": 4,
    "start_time": "2021-09-14T14:43:43.594Z"
   },
   {
    "duration": 5,
    "start_time": "2021-09-14T14:43:44.033Z"
   },
   {
    "duration": 22,
    "start_time": "2021-09-14T14:43:44.302Z"
   },
   {
    "duration": 28,
    "start_time": "2021-09-14T14:43:44.565Z"
   },
   {
    "duration": 6,
    "start_time": "2021-09-14T14:45:46.011Z"
   },
   {
    "duration": 29,
    "start_time": "2021-09-14T14:45:47.180Z"
   },
   {
    "duration": 27,
    "start_time": "2021-09-14T14:45:47.830Z"
   },
   {
    "duration": 2395,
    "start_time": "2021-09-14T14:45:57.570Z"
   },
   {
    "duration": 3,
    "start_time": "2021-09-14T14:45:59.968Z"
   },
   {
    "duration": 10,
    "start_time": "2021-09-14T14:45:59.974Z"
   },
   {
    "duration": 236,
    "start_time": "2021-09-14T14:45:59.986Z"
   },
   {
    "duration": 35,
    "start_time": "2021-09-14T14:46:00.225Z"
   },
   {
    "duration": 30,
    "start_time": "2021-09-14T14:46:00.262Z"
   },
   {
    "duration": 32,
    "start_time": "2021-09-14T14:46:00.296Z"
   },
   {
    "duration": 49,
    "start_time": "2021-09-14T14:46:00.331Z"
   },
   {
    "duration": 24,
    "start_time": "2021-09-14T14:46:00.382Z"
   },
   {
    "duration": 53,
    "start_time": "2021-09-14T14:46:00.408Z"
   },
   {
    "duration": 127,
    "start_time": "2021-09-14T14:46:01.315Z"
   },
   {
    "duration": 14,
    "start_time": "2021-09-14T14:46:01.575Z"
   },
   {
    "duration": 18,
    "start_time": "2021-09-14T14:46:01.831Z"
   },
   {
    "duration": 23,
    "start_time": "2021-09-14T14:46:02.052Z"
   },
   {
    "duration": 5,
    "start_time": "2021-09-14T14:46:02.248Z"
   },
   {
    "duration": 4,
    "start_time": "2021-09-14T14:46:03.437Z"
   },
   {
    "duration": 6,
    "start_time": "2021-09-14T14:46:03.920Z"
   },
   {
    "duration": 31,
    "start_time": "2021-09-14T14:46:04.527Z"
   },
   {
    "duration": 28,
    "start_time": "2021-09-14T14:46:07.432Z"
   },
   {
    "duration": 28,
    "start_time": "2021-09-14T14:46:34.486Z"
   },
   {
    "duration": 5,
    "start_time": "2021-09-14T14:46:56.490Z"
   },
   {
    "duration": 28,
    "start_time": "2021-09-14T14:47:02.016Z"
   },
   {
    "duration": 28,
    "start_time": "2021-09-14T14:49:01.966Z"
   },
   {
    "duration": 35,
    "start_time": "2021-09-14T14:49:07.676Z"
   },
   {
    "duration": 31,
    "start_time": "2021-09-14T14:49:31.901Z"
   },
   {
    "duration": 5,
    "start_time": "2021-09-14T14:50:37.985Z"
   },
   {
    "duration": 67,
    "start_time": "2021-09-14T14:50:49.300Z"
   },
   {
    "duration": 79,
    "start_time": "2021-09-14T14:50:58.556Z"
   },
   {
    "duration": 2324,
    "start_time": "2021-09-14T14:51:37.215Z"
   },
   {
    "duration": 4,
    "start_time": "2021-09-14T14:51:39.541Z"
   },
   {
    "duration": 4,
    "start_time": "2021-09-14T14:51:39.556Z"
   },
   {
    "duration": 159,
    "start_time": "2021-09-14T14:51:39.562Z"
   },
   {
    "duration": 32,
    "start_time": "2021-09-14T14:51:39.725Z"
   },
   {
    "duration": 26,
    "start_time": "2021-09-14T14:51:39.760Z"
   },
   {
    "duration": 18,
    "start_time": "2021-09-14T14:51:39.789Z"
   },
   {
    "duration": 69,
    "start_time": "2021-09-14T14:51:39.809Z"
   },
   {
    "duration": 24,
    "start_time": "2021-09-14T14:51:39.881Z"
   },
   {
    "duration": 15,
    "start_time": "2021-09-14T14:51:39.907Z"
   },
   {
    "duration": 124,
    "start_time": "2021-09-14T14:51:40.288Z"
   },
   {
    "duration": 14,
    "start_time": "2021-09-14T14:51:40.503Z"
   },
   {
    "duration": 22,
    "start_time": "2021-09-14T14:51:40.696Z"
   },
   {
    "duration": 23,
    "start_time": "2021-09-14T14:51:40.935Z"
   },
   {
    "duration": 5,
    "start_time": "2021-09-14T14:51:41.149Z"
   },
   {
    "duration": 3,
    "start_time": "2021-09-14T14:51:42.013Z"
   },
   {
    "duration": 6,
    "start_time": "2021-09-14T14:51:42.246Z"
   },
   {
    "duration": 31,
    "start_time": "2021-09-14T14:51:42.461Z"
   },
   {
    "duration": 30,
    "start_time": "2021-09-14T14:51:42.677Z"
   },
   {
    "duration": 17,
    "start_time": "2021-09-14T14:51:42.916Z"
   },
   {
    "duration": 23,
    "start_time": "2021-09-14T14:51:43.108Z"
   },
   {
    "duration": 3161,
    "start_time": "2021-09-14T14:52:29.970Z"
   },
   {
    "duration": 3,
    "start_time": "2021-09-14T14:52:33.134Z"
   },
   {
    "duration": 17,
    "start_time": "2021-09-14T14:52:33.140Z"
   },
   {
    "duration": 200,
    "start_time": "2021-09-14T14:52:33.160Z"
   },
   {
    "duration": 32,
    "start_time": "2021-09-14T14:52:33.363Z"
   },
   {
    "duration": 27,
    "start_time": "2021-09-14T14:52:33.397Z"
   },
   {
    "duration": 45,
    "start_time": "2021-09-14T14:52:33.426Z"
   },
   {
    "duration": 26,
    "start_time": "2021-09-14T14:52:33.474Z"
   },
   {
    "duration": 56,
    "start_time": "2021-09-14T14:52:33.503Z"
   },
   {
    "duration": 16,
    "start_time": "2021-09-14T14:52:33.561Z"
   },
   {
    "duration": 147,
    "start_time": "2021-09-14T14:52:33.585Z"
   },
   {
    "duration": 14,
    "start_time": "2021-09-14T14:52:33.816Z"
   },
   {
    "duration": 20,
    "start_time": "2021-09-14T14:52:34.415Z"
   },
   {
    "duration": 25,
    "start_time": "2021-09-14T14:52:34.863Z"
   },
   {
    "duration": 6,
    "start_time": "2021-09-14T14:52:35.071Z"
   },
   {
    "duration": 3,
    "start_time": "2021-09-14T14:52:35.965Z"
   },
   {
    "duration": 5,
    "start_time": "2021-09-14T14:52:36.227Z"
   },
   {
    "duration": 89,
    "start_time": "2021-09-14T14:52:36.444Z"
   },
   {
    "duration": 1228,
    "start_time": "2021-09-14T14:52:36.681Z"
   },
   {
    "duration": 47,
    "start_time": "2021-09-14T14:52:37.913Z"
   },
   {
    "duration": 1256,
    "start_time": "2021-09-14T14:53:00.017Z"
   },
   {
    "duration": 14,
    "start_time": "2021-09-14T14:54:44.096Z"
   },
   {
    "duration": 17,
    "start_time": "2021-09-14T14:55:12.522Z"
   },
   {
    "duration": 3144,
    "start_time": "2021-09-14T14:55:20.661Z"
   },
   {
    "duration": 5,
    "start_time": "2021-09-14T14:55:23.808Z"
   },
   {
    "duration": 15,
    "start_time": "2021-09-14T14:55:23.816Z"
   },
   {
    "duration": 216,
    "start_time": "2021-09-14T14:55:23.833Z"
   },
   {
    "duration": 33,
    "start_time": "2021-09-14T14:55:24.051Z"
   },
   {
    "duration": 30,
    "start_time": "2021-09-14T14:55:24.087Z"
   },
   {
    "duration": 54,
    "start_time": "2021-09-14T14:55:24.122Z"
   },
   {
    "duration": 40,
    "start_time": "2021-09-14T14:55:24.179Z"
   },
   {
    "duration": 34,
    "start_time": "2021-09-14T14:55:24.256Z"
   },
   {
    "duration": 20,
    "start_time": "2021-09-14T14:55:24.293Z"
   },
   {
    "duration": 216,
    "start_time": "2021-09-14T14:55:24.450Z"
   },
   {
    "duration": 18,
    "start_time": "2021-09-14T14:55:24.669Z"
   },
   {
    "duration": 21,
    "start_time": "2021-09-14T14:55:25.451Z"
   },
   {
    "duration": 26,
    "start_time": "2021-09-14T14:55:25.966Z"
   },
   {
    "duration": 6,
    "start_time": "2021-09-14T14:55:26.236Z"
   },
   {
    "duration": 4,
    "start_time": "2021-09-14T14:55:28.621Z"
   },
   {
    "duration": 5,
    "start_time": "2021-09-14T14:55:29.070Z"
   },
   {
    "duration": 91,
    "start_time": "2021-09-14T14:55:29.635Z"
   },
   {
    "duration": 46,
    "start_time": "2021-09-14T14:55:30.181Z"
   },
   {
    "duration": 716,
    "start_time": "2021-09-14T14:56:10.748Z"
   },
   {
    "duration": 9,
    "start_time": "2021-09-14T14:56:22.676Z"
   },
   {
    "duration": 941,
    "start_time": "2021-09-14T14:57:47.583Z"
   },
   {
    "duration": 6,
    "start_time": "2021-09-14T14:59:05.397Z"
   },
   {
    "duration": 91,
    "start_time": "2021-09-14T14:59:05.998Z"
   },
   {
    "duration": 1109,
    "start_time": "2021-09-14T14:59:06.931Z"
   },
   {
    "duration": 6,
    "start_time": "2021-09-14T14:59:29.925Z"
   },
   {
    "duration": 1036,
    "start_time": "2021-09-14T14:59:30.503Z"
   },
   {
    "duration": 326,
    "start_time": "2021-09-14T14:59:31.216Z"
   },
   {
    "duration": 7,
    "start_time": "2021-09-14T15:00:42.024Z"
   },
   {
    "duration": 89,
    "start_time": "2021-09-14T15:00:42.470Z"
   },
   {
    "duration": 928,
    "start_time": "2021-09-14T15:00:43.209Z"
   },
   {
    "duration": 6,
    "start_time": "2021-09-14T15:01:11.169Z"
   },
   {
    "duration": 86,
    "start_time": "2021-09-14T15:01:11.499Z"
   },
   {
    "duration": 76,
    "start_time": "2021-09-14T15:01:11.946Z"
   },
   {
    "duration": 9,
    "start_time": "2021-09-14T15:01:14.121Z"
   },
   {
    "duration": 178,
    "start_time": "2021-09-14T15:01:14.681Z"
   },
   {
    "duration": 9,
    "start_time": "2021-09-14T15:01:26.307Z"
   },
   {
    "duration": 12,
    "start_time": "2021-09-14T15:01:53.210Z"
   },
   {
    "duration": 441,
    "start_time": "2021-09-14T15:02:21.146Z"
   },
   {
    "duration": 1112,
    "start_time": "2021-09-14T15:02:47.630Z"
   },
   {
    "duration": 2040,
    "start_time": "2021-09-14T15:03:05.755Z"
   },
   {
    "duration": 7,
    "start_time": "2021-09-14T15:03:14.607Z"
   },
   {
    "duration": 2406,
    "start_time": "2021-09-14T15:04:00.985Z"
   },
   {
    "duration": 4,
    "start_time": "2021-09-14T15:04:03.394Z"
   },
   {
    "duration": 29,
    "start_time": "2021-09-14T15:04:03.400Z"
   },
   {
    "duration": 193,
    "start_time": "2021-09-14T15:04:03.432Z"
   },
   {
    "duration": 32,
    "start_time": "2021-09-14T15:04:03.630Z"
   },
   {
    "duration": 24,
    "start_time": "2021-09-14T15:04:03.664Z"
   },
   {
    "duration": 21,
    "start_time": "2021-09-14T15:04:03.691Z"
   },
   {
    "duration": 57,
    "start_time": "2021-09-14T15:04:03.714Z"
   },
   {
    "duration": 23,
    "start_time": "2021-09-14T15:04:03.774Z"
   },
   {
    "duration": 15,
    "start_time": "2021-09-14T15:04:03.800Z"
   },
   {
    "duration": 135,
    "start_time": "2021-09-14T15:04:03.856Z"
   },
   {
    "duration": 16,
    "start_time": "2021-09-14T15:04:03.994Z"
   },
   {
    "duration": 46,
    "start_time": "2021-09-14T15:04:04.013Z"
   },
   {
    "duration": 24,
    "start_time": "2021-09-14T15:04:04.164Z"
   },
   {
    "duration": 5,
    "start_time": "2021-09-14T15:04:04.356Z"
   },
   {
    "duration": 3,
    "start_time": "2021-09-14T15:04:05.134Z"
   },
   {
    "duration": 6,
    "start_time": "2021-09-14T15:04:05.358Z"
   },
   {
    "duration": 98,
    "start_time": "2021-09-14T15:04:05.558Z"
   },
   {
    "duration": 77,
    "start_time": "2021-09-14T15:04:05.761Z"
   },
   {
    "duration": 10,
    "start_time": "2021-09-14T15:04:05.952Z"
   },
   {
    "duration": 8,
    "start_time": "2021-09-14T15:04:06.161Z"
   },
   {
    "duration": 13,
    "start_time": "2021-09-14T15:04:06.398Z"
   },
   {
    "duration": 6,
    "start_time": "2021-09-14T15:05:05.419Z"
   },
   {
    "duration": 88,
    "start_time": "2021-09-14T15:05:05.873Z"
   },
   {
    "duration": 75,
    "start_time": "2021-09-14T15:05:06.127Z"
   },
   {
    "duration": 9,
    "start_time": "2021-09-14T15:05:06.597Z"
   },
   {
    "duration": 10,
    "start_time": "2021-09-14T15:05:07.390Z"
   },
   {
    "duration": 12,
    "start_time": "2021-09-14T15:05:07.969Z"
   },
   {
    "duration": 9,
    "start_time": "2021-09-14T15:05:41.484Z"
   },
   {
    "duration": 219,
    "start_time": "2021-09-14T15:05:44.442Z"
   },
   {
    "duration": 14,
    "start_time": "2021-09-14T15:06:02.430Z"
   },
   {
    "duration": 1129,
    "start_time": "2021-09-14T15:06:57.054Z"
   },
   {
    "duration": 3,
    "start_time": "2021-09-14T15:09:54.027Z"
   },
   {
    "duration": 7,
    "start_time": "2021-09-14T15:09:56.513Z"
   },
   {
    "duration": 86,
    "start_time": "2021-09-14T15:09:58.625Z"
   },
   {
    "duration": 76,
    "start_time": "2021-09-14T15:10:02.638Z"
   },
   {
    "duration": 9,
    "start_time": "2021-09-14T15:10:11.264Z"
   },
   {
    "duration": 9,
    "start_time": "2021-09-14T15:10:16.942Z"
   },
   {
    "duration": 74,
    "start_time": "2021-09-14T15:10:47.861Z"
   },
   {
    "duration": 9,
    "start_time": "2021-09-14T15:11:09.271Z"
   },
   {
    "duration": 3,
    "start_time": "2021-09-14T15:11:54.770Z"
   },
   {
    "duration": 6,
    "start_time": "2021-09-14T15:11:55.099Z"
   },
   {
    "duration": 88,
    "start_time": "2021-09-14T15:11:55.393Z"
   },
   {
    "duration": 9,
    "start_time": "2021-09-14T15:11:55.615Z"
   },
   {
    "duration": 77,
    "start_time": "2021-09-14T15:11:55.839Z"
   },
   {
    "duration": 9,
    "start_time": "2021-09-14T15:11:56.117Z"
   },
   {
    "duration": 83,
    "start_time": "2021-09-14T15:11:56.379Z"
   },
   {
    "duration": 9,
    "start_time": "2021-09-14T15:11:57.017Z"
   },
   {
    "duration": 132,
    "start_time": "2021-09-14T15:12:23.138Z"
   },
   {
    "duration": 16,
    "start_time": "2021-09-14T15:12:27.791Z"
   },
   {
    "duration": 1025,
    "start_time": "2021-09-14T15:12:43.359Z"
   },
   {
    "duration": 5,
    "start_time": "2021-09-14T15:24:52.715Z"
   },
   {
    "duration": 7,
    "start_time": "2021-09-14T15:24:53.279Z"
   },
   {
    "duration": 87,
    "start_time": "2021-09-14T15:24:53.765Z"
   },
   {
    "duration": 9,
    "start_time": "2021-09-14T15:24:54.375Z"
   },
   {
    "duration": 74,
    "start_time": "2021-09-14T15:24:54.929Z"
   },
   {
    "duration": 11,
    "start_time": "2021-09-14T15:24:57.279Z"
   },
   {
    "duration": 95,
    "start_time": "2021-09-14T15:24:58.398Z"
   },
   {
    "duration": 12,
    "start_time": "2021-09-14T15:24:59.012Z"
   },
   {
    "duration": 26,
    "start_time": "2021-09-14T15:25:00.585Z"
   },
   {
    "duration": 10,
    "start_time": "2021-09-14T15:25:17.539Z"
   },
   {
    "duration": 9,
    "start_time": "2021-09-14T15:25:37.739Z"
   },
   {
    "duration": 10,
    "start_time": "2021-09-14T15:26:04.372Z"
   },
   {
    "duration": 977,
    "start_time": "2021-09-14T15:26:12.239Z"
   },
   {
    "duration": 3,
    "start_time": "2021-09-14T15:30:26.991Z"
   },
   {
    "duration": 6,
    "start_time": "2021-09-14T15:30:27.446Z"
   },
   {
    "duration": 89,
    "start_time": "2021-09-14T15:30:27.717Z"
   },
   {
    "duration": 9,
    "start_time": "2021-09-14T15:30:28.201Z"
   },
   {
    "duration": 76,
    "start_time": "2021-09-14T15:30:28.832Z"
   },
   {
    "duration": 11,
    "start_time": "2021-09-14T15:30:30.183Z"
   },
   {
    "duration": 76,
    "start_time": "2021-09-14T15:30:33.064Z"
   },
   {
    "duration": 9,
    "start_time": "2021-09-14T15:30:33.604Z"
   },
   {
    "duration": 15,
    "start_time": "2021-09-14T15:30:34.874Z"
   },
   {
    "duration": 6,
    "start_time": "2021-09-14T15:30:36.232Z"
   },
   {
    "duration": 10,
    "start_time": "2021-09-14T15:30:38.082Z"
   },
   {
    "duration": 957,
    "start_time": "2021-09-14T15:30:43.275Z"
   },
   {
    "duration": 4,
    "start_time": "2021-09-14T15:33:46.912Z"
   },
   {
    "duration": 6,
    "start_time": "2021-09-14T15:33:47.668Z"
   },
   {
    "duration": 87,
    "start_time": "2021-09-14T15:33:48.032Z"
   },
   {
    "duration": 9,
    "start_time": "2021-09-14T15:33:48.278Z"
   },
   {
    "duration": 74,
    "start_time": "2021-09-14T15:33:48.486Z"
   },
   {
    "duration": 10,
    "start_time": "2021-09-14T15:33:48.702Z"
   },
   {
    "duration": 72,
    "start_time": "2021-09-14T15:33:49.650Z"
   },
   {
    "duration": 9,
    "start_time": "2021-09-14T15:33:50.121Z"
   },
   {
    "duration": 15,
    "start_time": "2021-09-14T15:33:50.767Z"
   },
   {
    "duration": 7,
    "start_time": "2021-09-14T15:33:53.504Z"
   },
   {
    "duration": 10,
    "start_time": "2021-09-14T15:33:55.147Z"
   },
   {
    "duration": 930,
    "start_time": "2021-09-14T15:33:58.970Z"
   },
   {
    "duration": 5,
    "start_time": "2021-09-14T15:36:17.553Z"
   },
   {
    "duration": 7,
    "start_time": "2021-09-14T15:36:18.223Z"
   },
   {
    "duration": 89,
    "start_time": "2021-09-14T15:36:18.616Z"
   },
   {
    "duration": 9,
    "start_time": "2021-09-14T15:36:18.864Z"
   },
   {
    "duration": 76,
    "start_time": "2021-09-14T15:36:19.095Z"
   },
   {
    "duration": 9,
    "start_time": "2021-09-14T15:36:19.658Z"
   },
   {
    "duration": 71,
    "start_time": "2021-09-14T15:36:20.182Z"
   },
   {
    "duration": 8,
    "start_time": "2021-09-14T15:36:20.668Z"
   },
   {
    "duration": 17,
    "start_time": "2021-09-14T15:36:21.307Z"
   },
   {
    "duration": 9,
    "start_time": "2021-09-14T15:36:22.239Z"
   },
   {
    "duration": 12,
    "start_time": "2021-09-14T15:36:23.343Z"
   },
   {
    "duration": 909,
    "start_time": "2021-09-14T15:36:25.349Z"
   },
   {
    "duration": 628,
    "start_time": "2021-09-14T15:38:42.432Z"
   },
   {
    "duration": 18,
    "start_time": "2021-09-14T15:39:07.323Z"
   },
   {
    "duration": 4,
    "start_time": "2021-09-14T15:41:11.972Z"
   },
   {
    "duration": 6,
    "start_time": "2021-09-14T15:41:12.404Z"
   },
   {
    "duration": 88,
    "start_time": "2021-09-14T15:41:12.641Z"
   },
   {
    "duration": 9,
    "start_time": "2021-09-14T15:41:12.858Z"
   },
   {
    "duration": 84,
    "start_time": "2021-09-14T15:41:13.098Z"
   },
   {
    "duration": 11,
    "start_time": "2021-09-14T15:41:13.298Z"
   },
   {
    "duration": 74,
    "start_time": "2021-09-14T15:41:13.776Z"
   },
   {
    "duration": 9,
    "start_time": "2021-09-14T15:41:14.438Z"
   },
   {
    "duration": 17,
    "start_time": "2021-09-14T15:41:14.986Z"
   },
   {
    "duration": 8,
    "start_time": "2021-09-14T15:41:15.642Z"
   },
   {
    "duration": 11,
    "start_time": "2021-09-14T15:41:16.767Z"
   },
   {
    "duration": 1080,
    "start_time": "2021-09-14T15:41:26.983Z"
   },
   {
    "duration": 4,
    "start_time": "2021-09-14T15:47:18.147Z"
   },
   {
    "duration": 6,
    "start_time": "2021-09-14T15:47:18.681Z"
   },
   {
    "duration": 93,
    "start_time": "2021-09-14T15:47:19.251Z"
   },
   {
    "duration": 9,
    "start_time": "2021-09-14T15:47:19.713Z"
   },
   {
    "duration": 86,
    "start_time": "2021-09-14T15:47:22.976Z"
   },
   {
    "duration": 10,
    "start_time": "2021-09-14T15:47:23.708Z"
   },
   {
    "duration": 75,
    "start_time": "2021-09-14T15:47:25.457Z"
   },
   {
    "duration": 11,
    "start_time": "2021-09-14T15:47:43.773Z"
   },
   {
    "duration": 11,
    "start_time": "2021-09-14T15:47:53.009Z"
   },
   {
    "duration": 11,
    "start_time": "2021-09-14T15:48:01.196Z"
   },
   {
    "duration": 18,
    "start_time": "2021-09-14T15:48:04.326Z"
   },
   {
    "duration": 7,
    "start_time": "2021-09-14T15:48:05.505Z"
   },
   {
    "duration": 12,
    "start_time": "2021-09-14T15:48:07.896Z"
   },
   {
    "duration": 847,
    "start_time": "2021-09-14T15:48:10.584Z"
   },
   {
    "duration": 5,
    "start_time": "2021-09-14T15:51:28.022Z"
   },
   {
    "duration": 6,
    "start_time": "2021-09-14T15:51:29.186Z"
   },
   {
    "duration": 87,
    "start_time": "2021-09-14T15:51:31.832Z"
   },
   {
    "duration": 10,
    "start_time": "2021-09-14T15:51:33.489Z"
   },
   {
    "duration": 92,
    "start_time": "2021-09-14T15:51:54.141Z"
   },
   {
    "duration": 10,
    "start_time": "2021-09-14T15:51:55.159Z"
   },
   {
    "duration": 74,
    "start_time": "2021-09-14T15:52:18.309Z"
   },
   {
    "duration": 9,
    "start_time": "2021-09-14T15:52:23.014Z"
   },
   {
    "duration": 16,
    "start_time": "2021-09-14T15:52:25.233Z"
   },
   {
    "duration": 75,
    "start_time": "2021-09-14T15:52:51.984Z"
   },
   {
    "duration": 11,
    "start_time": "2021-09-14T15:53:05.543Z"
   },
   {
    "duration": 20,
    "start_time": "2021-09-14T15:53:42.324Z"
   },
   {
    "duration": 9,
    "start_time": "2021-09-14T15:53:51.290Z"
   },
   {
    "duration": 86,
    "start_time": "2021-09-14T15:54:05.565Z"
   },
   {
    "duration": 303,
    "start_time": "2021-09-14T15:55:40.959Z"
   },
   {
    "duration": 5,
    "start_time": "2021-09-15T08:53:44.641Z"
   },
   {
    "duration": 8,
    "start_time": "2021-09-15T08:53:46.917Z"
   },
   {
    "duration": 101,
    "start_time": "2021-09-15T08:53:47.474Z"
   },
   {
    "duration": 11,
    "start_time": "2021-09-15T08:53:48.174Z"
   },
   {
    "duration": 95,
    "start_time": "2021-09-15T08:53:50.442Z"
   },
   {
    "duration": 11,
    "start_time": "2021-09-15T08:53:51.120Z"
   },
   {
    "duration": 76,
    "start_time": "2021-09-15T08:53:51.736Z"
   },
   {
    "duration": 12,
    "start_time": "2021-09-15T08:54:14.060Z"
   },
   {
    "duration": 80,
    "start_time": "2021-09-15T08:54:15.193Z"
   },
   {
    "duration": 10,
    "start_time": "2021-09-15T08:54:16.234Z"
   },
   {
    "duration": 20,
    "start_time": "2021-09-15T08:54:17.914Z"
   },
   {
    "duration": 322,
    "start_time": "2021-09-15T08:54:20.292Z"
   },
   {
    "duration": 8,
    "start_time": "2021-09-15T08:54:27.797Z"
   },
   {
    "duration": 9,
    "start_time": "2021-09-15T08:54:28.375Z"
   },
   {
    "duration": 753,
    "start_time": "2021-09-15T08:54:30.092Z"
   },
   {
    "duration": 5,
    "start_time": "2021-09-15T08:55:10.932Z"
   },
   {
    "duration": 6,
    "start_time": "2021-09-15T08:58:22.103Z"
   },
   {
    "duration": 6,
    "start_time": "2021-09-15T08:58:22.297Z"
   },
   {
    "duration": 138,
    "start_time": "2021-09-15T08:58:22.497Z"
   },
   {
    "duration": 10,
    "start_time": "2021-09-15T08:58:22.702Z"
   },
   {
    "duration": 128,
    "start_time": "2021-09-15T08:58:25.420Z"
   },
   {
    "duration": 28,
    "start_time": "2021-09-15T08:58:25.944Z"
   },
   {
    "duration": 87,
    "start_time": "2021-09-15T08:58:26.660Z"
   },
   {
    "duration": 13,
    "start_time": "2021-09-15T08:58:27.123Z"
   },
   {
    "duration": 85,
    "start_time": "2021-09-15T08:58:27.700Z"
   },
   {
    "duration": 10,
    "start_time": "2021-09-15T08:58:28.196Z"
   },
   {
    "duration": 20,
    "start_time": "2021-09-15T08:58:29.025Z"
   },
   {
    "duration": 362,
    "start_time": "2021-09-15T08:58:30.564Z"
   },
   {
    "duration": 8,
    "start_time": "2021-09-15T08:58:37.123Z"
   },
   {
    "duration": 10,
    "start_time": "2021-09-15T08:58:37.338Z"
   },
   {
    "duration": 645,
    "start_time": "2021-09-15T08:58:39.671Z"
   },
   {
    "duration": 5,
    "start_time": "2021-09-15T08:59:34.033Z"
   },
   {
    "duration": 6,
    "start_time": "2021-09-15T08:59:34.225Z"
   },
   {
    "duration": 96,
    "start_time": "2021-09-15T08:59:34.424Z"
   },
   {
    "duration": 12,
    "start_time": "2021-09-15T08:59:34.610Z"
   },
   {
    "duration": 98,
    "start_time": "2021-09-15T08:59:34.818Z"
   },
   {
    "duration": 11,
    "start_time": "2021-09-15T08:59:35.042Z"
   },
   {
    "duration": 80,
    "start_time": "2021-09-15T08:59:35.249Z"
   },
   {
    "duration": 9,
    "start_time": "2021-09-15T08:59:36.314Z"
   },
   {
    "duration": 110,
    "start_time": "2021-09-15T08:59:42.693Z"
   },
   {
    "duration": 19,
    "start_time": "2021-09-15T08:59:43.563Z"
   },
   {
    "duration": 26,
    "start_time": "2021-09-15T08:59:44.945Z"
   },
   {
    "duration": 339,
    "start_time": "2021-09-15T08:59:46.146Z"
   },
   {
    "duration": 7,
    "start_time": "2021-09-15T08:59:53.812Z"
   },
   {
    "duration": 9,
    "start_time": "2021-09-15T08:59:54.675Z"
   },
   {
    "duration": 640,
    "start_time": "2021-09-15T08:59:56.149Z"
   },
   {
    "duration": 5,
    "start_time": "2021-09-15T09:02:53.101Z"
   },
   {
    "duration": 6,
    "start_time": "2021-09-15T09:02:53.948Z"
   },
   {
    "duration": 105,
    "start_time": "2021-09-15T09:02:54.401Z"
   },
   {
    "duration": 10,
    "start_time": "2021-09-15T09:02:54.889Z"
   },
   {
    "duration": 99,
    "start_time": "2021-09-15T09:02:59.105Z"
   },
   {
    "duration": 11,
    "start_time": "2021-09-15T09:02:59.584Z"
   },
   {
    "duration": 86,
    "start_time": "2021-09-15T09:03:01.004Z"
   },
   {
    "duration": 15,
    "start_time": "2021-09-15T09:03:01.459Z"
   },
   {
    "duration": 85,
    "start_time": "2021-09-15T09:03:01.990Z"
   },
   {
    "duration": 14,
    "start_time": "2021-09-15T09:03:02.755Z"
   },
   {
    "duration": 22,
    "start_time": "2021-09-15T09:03:03.896Z"
   },
   {
    "duration": 345,
    "start_time": "2021-09-15T09:03:08.821Z"
   },
   {
    "duration": 9,
    "start_time": "2021-09-15T09:03:09.170Z"
   },
   {
    "duration": 10,
    "start_time": "2021-09-15T09:03:09.182Z"
   },
   {
    "duration": 615,
    "start_time": "2021-09-15T09:03:12.176Z"
   },
   {
    "duration": 5,
    "start_time": "2021-09-15T09:04:34.605Z"
   },
   {
    "duration": 5,
    "start_time": "2021-09-15T09:04:34.805Z"
   },
   {
    "duration": 99,
    "start_time": "2021-09-15T09:04:35.005Z"
   },
   {
    "duration": 12,
    "start_time": "2021-09-15T09:04:35.220Z"
   },
   {
    "duration": 111,
    "start_time": "2021-09-15T09:04:35.445Z"
   },
   {
    "duration": 14,
    "start_time": "2021-09-15T09:04:35.653Z"
   },
   {
    "duration": 76,
    "start_time": "2021-09-15T09:04:35.862Z"
   },
   {
    "duration": 11,
    "start_time": "2021-09-15T09:04:36.857Z"
   },
   {
    "duration": 78,
    "start_time": "2021-09-15T09:04:39.925Z"
   },
   {
    "duration": 10,
    "start_time": "2021-09-15T09:04:40.496Z"
   },
   {
    "duration": 32,
    "start_time": "2021-09-15T09:04:41.051Z"
   },
   {
    "duration": 346,
    "start_time": "2021-09-15T09:04:42.810Z"
   },
   {
    "duration": 8,
    "start_time": "2021-09-15T09:04:43.814Z"
   },
   {
    "duration": 9,
    "start_time": "2021-09-15T09:04:44.882Z"
   },
   {
    "duration": 630,
    "start_time": "2021-09-15T09:04:46.457Z"
   },
   {
    "duration": 352,
    "start_time": "2021-09-15T09:07:42.972Z"
   },
   {
    "duration": 6,
    "start_time": "2021-09-15T09:11:26.153Z"
   },
   {
    "duration": 6,
    "start_time": "2021-09-15T09:11:26.616Z"
   },
   {
    "duration": 98,
    "start_time": "2021-09-15T09:11:26.846Z"
   },
   {
    "duration": 16,
    "start_time": "2021-09-15T09:11:27.064Z"
   },
   {
    "duration": 117,
    "start_time": "2021-09-15T09:11:27.254Z"
   },
   {
    "duration": 12,
    "start_time": "2021-09-15T09:11:27.765Z"
   },
   {
    "duration": 81,
    "start_time": "2021-09-15T09:11:28.326Z"
   },
   {
    "duration": 9,
    "start_time": "2021-09-15T09:11:28.937Z"
   },
   {
    "duration": 82,
    "start_time": "2021-09-15T09:11:29.985Z"
   },
   {
    "duration": 13,
    "start_time": "2021-09-15T09:11:30.232Z"
   },
   {
    "duration": 23,
    "start_time": "2021-09-15T09:11:31.027Z"
   },
   {
    "duration": 344,
    "start_time": "2021-09-15T09:11:31.500Z"
   },
   {
    "duration": 89,
    "start_time": "2021-09-15T09:11:41.569Z"
   },
   {
    "duration": 5,
    "start_time": "2021-09-15T09:12:30.480Z"
   },
   {
    "duration": 6,
    "start_time": "2021-09-15T09:12:30.950Z"
   },
   {
    "duration": 99,
    "start_time": "2021-09-15T09:12:31.427Z"
   },
   {
    "duration": 10,
    "start_time": "2021-09-15T09:12:32.013Z"
   },
   {
    "duration": 120,
    "start_time": "2021-09-15T09:12:32.553Z"
   },
   {
    "duration": 16,
    "start_time": "2021-09-15T09:12:32.961Z"
   },
   {
    "duration": 80,
    "start_time": "2021-09-15T09:12:33.496Z"
   },
   {
    "duration": 10,
    "start_time": "2021-09-15T09:12:33.971Z"
   },
   {
    "duration": 81,
    "start_time": "2021-09-15T09:12:37.031Z"
   },
   {
    "duration": 11,
    "start_time": "2021-09-15T09:12:37.447Z"
   },
   {
    "duration": 21,
    "start_time": "2021-09-15T09:12:39.415Z"
   },
   {
    "duration": 94,
    "start_time": "2021-09-15T09:12:40.938Z"
   },
   {
    "duration": 2438,
    "start_time": "2021-09-15T09:13:25.042Z"
   },
   {
    "duration": 4,
    "start_time": "2021-09-15T09:13:27.482Z"
   },
   {
    "duration": 9,
    "start_time": "2021-09-15T09:13:27.489Z"
   },
   {
    "duration": 217,
    "start_time": "2021-09-15T09:13:27.501Z"
   },
   {
    "duration": 31,
    "start_time": "2021-09-15T09:13:27.720Z"
   },
   {
    "duration": 29,
    "start_time": "2021-09-15T09:13:27.754Z"
   },
   {
    "duration": 20,
    "start_time": "2021-09-15T09:13:27.786Z"
   },
   {
    "duration": 69,
    "start_time": "2021-09-15T09:13:27.809Z"
   },
   {
    "duration": 26,
    "start_time": "2021-09-15T09:13:27.931Z"
   },
   {
    "duration": 15,
    "start_time": "2021-09-15T09:13:28.115Z"
   },
   {
    "duration": 139,
    "start_time": "2021-09-15T09:13:28.735Z"
   },
   {
    "duration": 16,
    "start_time": "2021-09-15T09:13:29.073Z"
   },
   {
    "duration": 20,
    "start_time": "2021-09-15T09:13:29.274Z"
   },
   {
    "duration": 26,
    "start_time": "2021-09-15T09:13:29.483Z"
   },
   {
    "duration": 6,
    "start_time": "2021-09-15T09:13:29.713Z"
   },
   {
    "duration": 5,
    "start_time": "2021-09-15T09:13:30.553Z"
   },
   {
    "duration": 7,
    "start_time": "2021-09-15T09:13:30.755Z"
   },
   {
    "duration": 107,
    "start_time": "2021-09-15T09:13:30.956Z"
   },
   {
    "duration": 12,
    "start_time": "2021-09-15T09:13:31.171Z"
   },
   {
    "duration": 102,
    "start_time": "2021-09-15T09:13:31.363Z"
   },
   {
    "duration": 11,
    "start_time": "2021-09-15T09:13:31.610Z"
   },
   {
    "duration": 83,
    "start_time": "2021-09-15T09:13:31.826Z"
   },
   {
    "duration": 11,
    "start_time": "2021-09-15T09:13:32.049Z"
   },
   {
    "duration": 85,
    "start_time": "2021-09-15T09:13:32.289Z"
   },
   {
    "duration": 10,
    "start_time": "2021-09-15T09:13:33.167Z"
   },
   {
    "duration": 21,
    "start_time": "2021-09-15T09:13:34.825Z"
   },
   {
    "duration": 85,
    "start_time": "2021-09-15T09:13:47.168Z"
   },
   {
    "duration": 8,
    "start_time": "2021-09-15T09:14:25.229Z"
   },
   {
    "duration": 11,
    "start_time": "2021-09-15T09:14:25.823Z"
   },
   {
    "duration": 638,
    "start_time": "2021-09-15T09:14:27.379Z"
   },
   {
    "duration": 304,
    "start_time": "2021-09-15T09:15:30.132Z"
   },
   {
    "duration": 4,
    "start_time": "2021-09-15T09:16:57.041Z"
   },
   {
    "duration": 8,
    "start_time": "2021-09-15T09:16:57.264Z"
   },
   {
    "duration": 100,
    "start_time": "2021-09-15T09:16:57.493Z"
   },
   {
    "duration": 11,
    "start_time": "2021-09-15T09:16:57.708Z"
   },
   {
    "duration": 100,
    "start_time": "2021-09-15T09:16:58.395Z"
   },
   {
    "duration": 10,
    "start_time": "2021-09-15T09:16:59.021Z"
   },
   {
    "duration": 87,
    "start_time": "2021-09-15T09:17:09.043Z"
   },
   {
    "duration": 10,
    "start_time": "2021-09-15T09:17:09.600Z"
   },
   {
    "duration": 85,
    "start_time": "2021-09-15T09:17:10.240Z"
   },
   {
    "duration": 13,
    "start_time": "2021-09-15T09:17:10.764Z"
   },
   {
    "duration": 20,
    "start_time": "2021-09-15T09:17:11.197Z"
   },
   {
    "duration": 327,
    "start_time": "2021-09-15T09:17:11.946Z"
   },
   {
    "duration": 2357,
    "start_time": "2021-09-15T09:17:28.370Z"
   },
   {
    "duration": 4,
    "start_time": "2021-09-15T09:17:30.729Z"
   },
   {
    "duration": 34,
    "start_time": "2021-09-15T09:17:30.735Z"
   },
   {
    "duration": 208,
    "start_time": "2021-09-15T09:17:30.772Z"
   },
   {
    "duration": 32,
    "start_time": "2021-09-15T09:17:30.982Z"
   },
   {
    "duration": 50,
    "start_time": "2021-09-15T09:17:31.017Z"
   },
   {
    "duration": 28,
    "start_time": "2021-09-15T09:17:31.071Z"
   },
   {
    "duration": 54,
    "start_time": "2021-09-15T09:17:31.102Z"
   },
   {
    "duration": 23,
    "start_time": "2021-09-15T09:17:31.222Z"
   },
   {
    "duration": 24,
    "start_time": "2021-09-15T09:17:31.448Z"
   },
   {
    "duration": 140,
    "start_time": "2021-09-15T09:17:32.056Z"
   },
   {
    "duration": 13,
    "start_time": "2021-09-15T09:17:32.305Z"
   },
   {
    "duration": 18,
    "start_time": "2021-09-15T09:17:32.534Z"
   },
   {
    "duration": 26,
    "start_time": "2021-09-15T09:17:32.742Z"
   },
   {
    "duration": 6,
    "start_time": "2021-09-15T09:17:32.959Z"
   },
   {
    "duration": 5,
    "start_time": "2021-09-15T09:17:33.831Z"
   },
   {
    "duration": 6,
    "start_time": "2021-09-15T09:17:34.031Z"
   },
   {
    "duration": 112,
    "start_time": "2021-09-15T09:17:34.256Z"
   },
   {
    "duration": 23,
    "start_time": "2021-09-15T09:17:34.455Z"
   },
   {
    "duration": 102,
    "start_time": "2021-09-15T09:17:34.695Z"
   },
   {
    "duration": 9,
    "start_time": "2021-09-15T09:17:34.911Z"
   },
   {
    "duration": 85,
    "start_time": "2021-09-15T09:17:35.126Z"
   },
   {
    "duration": 10,
    "start_time": "2021-09-15T09:17:35.327Z"
   },
   {
    "duration": 87,
    "start_time": "2021-09-15T09:17:36.851Z"
   },
   {
    "duration": 10,
    "start_time": "2021-09-15T09:17:37.391Z"
   },
   {
    "duration": 21,
    "start_time": "2021-09-15T09:17:38.521Z"
   },
   {
    "duration": 283,
    "start_time": "2021-09-15T09:17:39.949Z"
   },
   {
    "duration": 11,
    "start_time": "2021-09-15T09:17:40.865Z"
   },
   {
    "duration": 9,
    "start_time": "2021-09-15T09:17:42.035Z"
   },
   {
    "duration": 666,
    "start_time": "2021-09-15T09:17:43.240Z"
   },
   {
    "duration": 5,
    "start_time": "2021-09-15T09:18:30.292Z"
   },
   {
    "duration": 7,
    "start_time": "2021-09-15T09:18:30.615Z"
   },
   {
    "duration": 208,
    "start_time": "2021-09-15T09:18:30.831Z"
   },
   {
    "duration": 18,
    "start_time": "2021-09-15T09:18:31.348Z"
   },
   {
    "duration": 116,
    "start_time": "2021-09-15T09:18:32.080Z"
   },
   {
    "duration": 17,
    "start_time": "2021-09-15T09:18:32.575Z"
   },
   {
    "duration": 91,
    "start_time": "2021-09-15T09:18:33.247Z"
   },
   {
    "duration": 10,
    "start_time": "2021-09-15T09:18:33.901Z"
   },
   {
    "duration": 89,
    "start_time": "2021-09-15T09:18:34.441Z"
   },
   {
    "duration": 10,
    "start_time": "2021-09-15T09:18:34.887Z"
   },
   {
    "duration": 28,
    "start_time": "2021-09-15T09:18:35.273Z"
   },
   {
    "duration": 350,
    "start_time": "2021-09-15T09:18:36.369Z"
   },
   {
    "duration": 7,
    "start_time": "2021-09-15T09:18:37.347Z"
   },
   {
    "duration": 10,
    "start_time": "2021-09-15T09:18:40.108Z"
   },
   {
    "duration": 104,
    "start_time": "2021-09-15T09:24:11.139Z"
   },
   {
    "duration": 5,
    "start_time": "2021-09-15T09:24:23.281Z"
   },
   {
    "duration": 7,
    "start_time": "2021-09-15T09:24:25.177Z"
   },
   {
    "duration": 151,
    "start_time": "2021-09-15T09:24:25.794Z"
   },
   {
    "duration": 17,
    "start_time": "2021-09-15T09:24:26.348Z"
   },
   {
    "duration": 905,
    "start_time": "2021-09-15T09:24:42.004Z"
   },
   {
    "duration": 87,
    "start_time": "2021-09-15T09:25:01.562Z"
   },
   {
    "duration": 11,
    "start_time": "2021-09-15T09:25:02.611Z"
   },
   {
    "duration": 752,
    "start_time": "2021-09-15T09:25:13.970Z"
   },
   {
    "duration": 230,
    "start_time": "2021-09-15T09:25:14.495Z"
   },
   {
    "duration": 5,
    "start_time": "2021-09-15T09:26:35.132Z"
   },
   {
    "duration": 5,
    "start_time": "2021-09-15T09:31:49.941Z"
   },
   {
    "duration": 6,
    "start_time": "2021-09-15T09:31:50.118Z"
   },
   {
    "duration": 111,
    "start_time": "2021-09-15T09:32:00.397Z"
   },
   {
    "duration": 10,
    "start_time": "2021-09-15T09:32:01.195Z"
   },
   {
    "duration": 5,
    "start_time": "2021-09-15T09:32:02.212Z"
   },
   {
    "duration": 1451,
    "start_time": "2021-09-15T09:32:03.994Z"
   },
   {
    "duration": 113,
    "start_time": "2021-09-15T09:32:33.387Z"
   },
   {
    "duration": 10,
    "start_time": "2021-09-15T09:32:35.844Z"
   },
   {
    "duration": 83,
    "start_time": "2021-09-15T09:32:36.762Z"
   },
   {
    "duration": 11,
    "start_time": "2021-09-15T09:32:37.487Z"
   },
   {
    "duration": 82,
    "start_time": "2021-09-15T09:32:38.074Z"
   },
   {
    "duration": 10,
    "start_time": "2021-09-15T09:32:38.519Z"
   },
   {
    "duration": 27,
    "start_time": "2021-09-15T09:32:39.237Z"
   },
   {
    "duration": 374,
    "start_time": "2021-09-15T09:32:40.531Z"
   },
   {
    "duration": 8,
    "start_time": "2021-09-15T09:32:41.506Z"
   },
   {
    "duration": 10,
    "start_time": "2021-09-15T09:32:42.507Z"
   },
   {
    "duration": 659,
    "start_time": "2021-09-15T09:32:43.335Z"
   },
   {
    "duration": 5,
    "start_time": "2021-09-15T09:34:08.597Z"
   },
   {
    "duration": 9,
    "start_time": "2021-09-15T09:34:08.967Z"
   },
   {
    "duration": 112,
    "start_time": "2021-09-15T09:34:09.407Z"
   },
   {
    "duration": 10,
    "start_time": "2021-09-15T09:34:09.886Z"
   },
   {
    "duration": 6,
    "start_time": "2021-09-15T09:34:10.817Z"
   },
   {
    "duration": 108,
    "start_time": "2021-09-15T09:34:11.395Z"
   },
   {
    "duration": 10,
    "start_time": "2021-09-15T09:34:11.636Z"
   },
   {
    "duration": 94,
    "start_time": "2021-09-15T09:34:11.859Z"
   },
   {
    "duration": 10,
    "start_time": "2021-09-15T09:34:12.437Z"
   },
   {
    "duration": 92,
    "start_time": "2021-09-15T09:34:12.947Z"
   },
   {
    "duration": 10,
    "start_time": "2021-09-15T09:34:13.626Z"
   },
   {
    "duration": 22,
    "start_time": "2021-09-15T09:34:13.896Z"
   },
   {
    "duration": 346,
    "start_time": "2021-09-15T09:34:14.113Z"
   },
   {
    "duration": 9,
    "start_time": "2021-09-15T09:34:14.852Z"
   },
   {
    "duration": 8,
    "start_time": "2021-09-15T09:34:27.732Z"
   },
   {
    "duration": 14,
    "start_time": "2021-09-15T09:34:27.955Z"
   },
   {
    "duration": 673,
    "start_time": "2021-09-15T09:34:29.832Z"
   },
   {
    "duration": 344,
    "start_time": "2021-09-15T09:34:37.305Z"
   },
   {
    "duration": 5,
    "start_time": "2021-09-15T09:35:26.011Z"
   },
   {
    "duration": 6,
    "start_time": "2021-09-15T09:35:26.505Z"
   },
   {
    "duration": 149,
    "start_time": "2021-09-15T09:35:27.159Z"
   },
   {
    "duration": 12,
    "start_time": "2021-09-15T09:35:27.815Z"
   },
   {
    "duration": 5,
    "start_time": "2021-09-15T09:35:28.425Z"
   },
   {
    "duration": 102,
    "start_time": "2021-09-15T09:35:33.169Z"
   },
   {
    "duration": 18,
    "start_time": "2021-09-15T09:35:35.970Z"
   },
   {
    "duration": 2438,
    "start_time": "2021-09-15T09:35:44.764Z"
   },
   {
    "duration": 4,
    "start_time": "2021-09-15T09:35:47.204Z"
   },
   {
    "duration": 11,
    "start_time": "2021-09-15T09:35:47.212Z"
   },
   {
    "duration": 206,
    "start_time": "2021-09-15T09:35:47.227Z"
   },
   {
    "duration": 49,
    "start_time": "2021-09-15T09:35:47.436Z"
   },
   {
    "duration": 31,
    "start_time": "2021-09-15T09:35:47.489Z"
   },
   {
    "duration": 67,
    "start_time": "2021-09-15T09:35:47.523Z"
   },
   {
    "duration": 31,
    "start_time": "2021-09-15T09:35:47.593Z"
   },
   {
    "duration": 62,
    "start_time": "2021-09-15T09:35:47.627Z"
   },
   {
    "duration": 19,
    "start_time": "2021-09-15T09:35:47.693Z"
   },
   {
    "duration": 159,
    "start_time": "2021-09-15T09:35:48.250Z"
   },
   {
    "duration": 18,
    "start_time": "2021-09-15T09:35:48.443Z"
   },
   {
    "duration": 30,
    "start_time": "2021-09-15T09:35:48.651Z"
   },
   {
    "duration": 24,
    "start_time": "2021-09-15T09:35:48.897Z"
   },
   {
    "duration": 6,
    "start_time": "2021-09-15T09:35:49.145Z"
   },
   {
    "duration": 6,
    "start_time": "2021-09-15T09:35:50.926Z"
   },
   {
    "duration": 12,
    "start_time": "2021-09-15T09:35:51.166Z"
   },
   {
    "duration": 113,
    "start_time": "2021-09-15T09:35:51.365Z"
   },
   {
    "duration": 21,
    "start_time": "2021-09-15T09:35:51.559Z"
   },
   {
    "duration": 5,
    "start_time": "2021-09-15T09:35:52.578Z"
   },
   {
    "duration": 109,
    "start_time": "2021-09-15T09:35:52.823Z"
   },
   {
    "duration": 10,
    "start_time": "2021-09-15T09:35:53.039Z"
   },
   {
    "duration": 88,
    "start_time": "2021-09-15T09:35:53.264Z"
   },
   {
    "duration": 10,
    "start_time": "2021-09-15T09:35:53.487Z"
   },
   {
    "duration": 91,
    "start_time": "2021-09-15T09:35:54.103Z"
   },
   {
    "duration": 11,
    "start_time": "2021-09-15T09:35:54.683Z"
   },
   {
    "duration": 27,
    "start_time": "2021-09-15T09:35:55.152Z"
   },
   {
    "duration": 352,
    "start_time": "2021-09-15T09:35:56.198Z"
   },
   {
    "duration": 8,
    "start_time": "2021-09-15T09:35:57.307Z"
   },
   {
    "duration": 12,
    "start_time": "2021-09-15T09:35:58.278Z"
   },
   {
    "duration": 668,
    "start_time": "2021-09-15T09:35:59.453Z"
   },
   {
    "duration": 11,
    "start_time": "2021-09-15T09:36:25.188Z"
   },
   {
    "duration": 74,
    "start_time": "2021-09-15T09:36:53.453Z"
   },
   {
    "duration": 35,
    "start_time": "2021-09-15T09:37:10.510Z"
   },
   {
    "duration": 6,
    "start_time": "2021-09-15T09:38:52.978Z"
   },
   {
    "duration": 6,
    "start_time": "2021-09-15T09:38:53.233Z"
   },
   {
    "duration": 109,
    "start_time": "2021-09-15T09:38:53.494Z"
   },
   {
    "duration": 21,
    "start_time": "2021-09-15T09:38:54.068Z"
   },
   {
    "duration": 7,
    "start_time": "2021-09-15T09:39:19.282Z"
   },
   {
    "duration": 4,
    "start_time": "2021-09-15T09:39:19.521Z"
   },
   {
    "duration": 3,
    "start_time": "2021-09-15T09:39:19.751Z"
   },
   {
    "duration": 187,
    "start_time": "2021-09-15T09:39:19.982Z"
   },
   {
    "duration": 2550,
    "start_time": "2021-09-15T09:39:27.743Z"
   },
   {
    "duration": 6,
    "start_time": "2021-09-15T09:39:30.297Z"
   },
   {
    "duration": 43,
    "start_time": "2021-09-15T09:39:30.314Z"
   },
   {
    "duration": 228,
    "start_time": "2021-09-15T09:39:30.360Z"
   },
   {
    "duration": 33,
    "start_time": "2021-09-15T09:39:30.590Z"
   },
   {
    "duration": 51,
    "start_time": "2021-09-15T09:39:30.626Z"
   },
   {
    "duration": 20,
    "start_time": "2021-09-15T09:39:30.680Z"
   },
   {
    "duration": 60,
    "start_time": "2021-09-15T09:39:30.703Z"
   },
   {
    "duration": 36,
    "start_time": "2021-09-15T09:39:30.766Z"
   },
   {
    "duration": 15,
    "start_time": "2021-09-15T09:39:30.804Z"
   },
   {
    "duration": 134,
    "start_time": "2021-09-15T09:39:31.093Z"
   },
   {
    "duration": 19,
    "start_time": "2021-09-15T09:39:31.448Z"
   },
   {
    "duration": 25,
    "start_time": "2021-09-15T09:39:31.655Z"
   },
   {
    "duration": 25,
    "start_time": "2021-09-15T09:39:31.874Z"
   },
   {
    "duration": 5,
    "start_time": "2021-09-15T09:39:32.126Z"
   },
   {
    "duration": 5,
    "start_time": "2021-09-15T09:39:33.182Z"
   },
   {
    "duration": 7,
    "start_time": "2021-09-15T09:39:33.405Z"
   },
   {
    "duration": 109,
    "start_time": "2021-09-15T09:39:33.916Z"
   },
   {
    "duration": 12,
    "start_time": "2021-09-15T09:39:34.394Z"
   },
   {
    "duration": 6,
    "start_time": "2021-09-15T09:39:36.637Z"
   },
   {
    "duration": 126,
    "start_time": "2021-09-15T09:39:37.156Z"
   },
   {
    "duration": 12,
    "start_time": "2021-09-15T09:39:37.643Z"
   },
   {
    "duration": 87,
    "start_time": "2021-09-15T09:39:37.959Z"
   },
   {
    "duration": 10,
    "start_time": "2021-09-15T09:39:38.219Z"
   },
   {
    "duration": 90,
    "start_time": "2021-09-15T09:39:38.605Z"
   },
   {
    "duration": 9,
    "start_time": "2021-09-15T09:39:39.015Z"
   },
   {
    "duration": 20,
    "start_time": "2021-09-15T09:39:39.300Z"
   },
   {
    "duration": 49,
    "start_time": "2021-09-15T09:39:39.960Z"
   },
   {
    "duration": 5,
    "start_time": "2021-09-15T09:41:02.488Z"
   },
   {
    "duration": 12,
    "start_time": "2021-09-15T09:41:03.061Z"
   },
   {
    "duration": 145,
    "start_time": "2021-09-15T09:41:12.084Z"
   },
   {
    "duration": 16,
    "start_time": "2021-09-15T09:41:12.562Z"
   },
   {
    "duration": 7,
    "start_time": "2021-09-15T09:41:13.274Z"
   },
   {
    "duration": 1312,
    "start_time": "2021-09-15T09:41:43.901Z"
   },
   {
    "duration": 107,
    "start_time": "2021-09-15T09:41:54.114Z"
   },
   {
    "duration": 11,
    "start_time": "2021-09-15T09:41:54.585Z"
   },
   {
    "duration": 7,
    "start_time": "2021-09-15T09:41:55.456Z"
   },
   {
    "duration": 8,
    "start_time": "2021-09-15T09:42:04.354Z"
   },
   {
    "duration": 112,
    "start_time": "2021-09-15T09:42:05.230Z"
   },
   {
    "duration": 15,
    "start_time": "2021-09-15T09:42:05.920Z"
   },
   {
    "duration": 6,
    "start_time": "2021-09-15T09:42:06.702Z"
   },
   {
    "duration": 137,
    "start_time": "2021-09-15T09:42:07.266Z"
   },
   {
    "duration": 10,
    "start_time": "2021-09-15T09:42:07.797Z"
   },
   {
    "duration": 103,
    "start_time": "2021-09-15T09:42:08.353Z"
   },
   {
    "duration": 13,
    "start_time": "2021-09-15T09:42:08.954Z"
   },
   {
    "duration": 86,
    "start_time": "2021-09-15T09:42:11.699Z"
   },
   {
    "duration": 13,
    "start_time": "2021-09-15T09:42:12.093Z"
   },
   {
    "duration": 24,
    "start_time": "2021-09-15T09:42:13.081Z"
   },
   {
    "duration": 37,
    "start_time": "2021-09-15T09:42:14.879Z"
   },
   {
    "duration": 5,
    "start_time": "2021-09-15T09:42:42.684Z"
   },
   {
    "duration": 6,
    "start_time": "2021-09-15T09:42:43.195Z"
   },
   {
    "duration": 7,
    "start_time": "2021-09-15T09:42:51.013Z"
   },
   {
    "duration": 119,
    "start_time": "2021-09-15T09:42:51.246Z"
   },
   {
    "duration": 14,
    "start_time": "2021-09-15T09:42:51.477Z"
   },
   {
    "duration": 5,
    "start_time": "2021-09-15T09:42:51.715Z"
   },
   {
    "duration": 95,
    "start_time": "2021-09-15T09:42:51.940Z"
   },
   {
    "duration": 10,
    "start_time": "2021-09-15T09:42:52.171Z"
   },
   {
    "duration": 80,
    "start_time": "2021-09-15T09:42:52.779Z"
   },
   {
    "duration": 10,
    "start_time": "2021-09-15T09:42:53.066Z"
   },
   {
    "duration": 82,
    "start_time": "2021-09-15T09:42:53.296Z"
   },
   {
    "duration": 9,
    "start_time": "2021-09-15T09:42:53.544Z"
   },
   {
    "duration": 20,
    "start_time": "2021-09-15T09:42:54.869Z"
   },
   {
    "duration": 40,
    "start_time": "2021-09-15T09:42:56.168Z"
   },
   {
    "duration": 7,
    "start_time": "2021-09-15T09:44:15.863Z"
   },
   {
    "duration": 8,
    "start_time": "2021-09-15T09:44:20.018Z"
   },
   {
    "duration": 6,
    "start_time": "2021-09-15T09:44:20.242Z"
   },
   {
    "duration": 114,
    "start_time": "2021-09-15T09:44:20.688Z"
   },
   {
    "duration": 14,
    "start_time": "2021-09-15T09:44:20.921Z"
   },
   {
    "duration": 7,
    "start_time": "2021-09-15T09:44:21.183Z"
   },
   {
    "duration": 120,
    "start_time": "2021-09-15T09:44:21.391Z"
   },
   {
    "duration": 11,
    "start_time": "2021-09-15T09:44:21.692Z"
   },
   {
    "duration": 134,
    "start_time": "2021-09-15T09:44:22.278Z"
   },
   {
    "duration": 17,
    "start_time": "2021-09-15T09:44:22.574Z"
   },
   {
    "duration": 90,
    "start_time": "2021-09-15T09:44:22.802Z"
   },
   {
    "duration": 9,
    "start_time": "2021-09-15T09:44:23.135Z"
   },
   {
    "duration": 19,
    "start_time": "2021-09-15T09:44:23.413Z"
   },
   {
    "duration": 53,
    "start_time": "2021-09-15T09:44:23.645Z"
   },
   {
    "duration": 7,
    "start_time": "2021-09-15T09:44:24.932Z"
   },
   {
    "duration": 12,
    "start_time": "2021-09-15T09:44:25.927Z"
   },
   {
    "duration": 76,
    "start_time": "2021-09-15T09:44:26.994Z"
   },
   {
    "duration": 5,
    "start_time": "2021-09-15T09:46:57.817Z"
   },
   {
    "duration": 8,
    "start_time": "2021-09-15T09:46:58.022Z"
   },
   {
    "duration": 7,
    "start_time": "2021-09-15T09:46:58.252Z"
   },
   {
    "duration": 116,
    "start_time": "2021-09-15T09:46:58.472Z"
   },
   {
    "duration": 14,
    "start_time": "2021-09-15T09:46:58.680Z"
   },
   {
    "duration": 6,
    "start_time": "2021-09-15T09:46:58.933Z"
   },
   {
    "duration": 114,
    "start_time": "2021-09-15T09:46:59.179Z"
   },
   {
    "duration": 10,
    "start_time": "2021-09-15T09:47:00.035Z"
   },
   {
    "duration": 86,
    "start_time": "2021-09-15T09:47:00.560Z"
   },
   {
    "duration": 10,
    "start_time": "2021-09-15T09:47:01.030Z"
   },
   {
    "duration": 94,
    "start_time": "2021-09-15T09:47:01.555Z"
   },
   {
    "duration": 11,
    "start_time": "2021-09-15T09:47:02.010Z"
   },
   {
    "duration": 36,
    "start_time": "2021-09-15T09:47:02.960Z"
   },
   {
    "duration": 54,
    "start_time": "2021-09-15T09:47:03.645Z"
   },
   {
    "duration": 8,
    "start_time": "2021-09-15T09:47:08.936Z"
   },
   {
    "duration": 12,
    "start_time": "2021-09-15T09:47:09.591Z"
   },
   {
    "duration": 106,
    "start_time": "2021-09-15T09:47:10.682Z"
   },
   {
    "duration": 6,
    "start_time": "2021-09-15T09:49:14.847Z"
   },
   {
    "duration": 11,
    "start_time": "2021-09-15T09:49:15.055Z"
   },
   {
    "duration": 6,
    "start_time": "2021-09-15T09:49:15.310Z"
   },
   {
    "duration": 104,
    "start_time": "2021-09-15T09:49:15.517Z"
   },
   {
    "duration": 12,
    "start_time": "2021-09-15T09:49:15.774Z"
   },
   {
    "duration": 6,
    "start_time": "2021-09-15T09:49:16.051Z"
   },
   {
    "duration": 94,
    "start_time": "2021-09-15T09:49:16.660Z"
   },
   {
    "duration": 12,
    "start_time": "2021-09-15T09:49:17.779Z"
   },
   {
    "duration": 84,
    "start_time": "2021-09-15T09:49:19.430Z"
   },
   {
    "duration": 10,
    "start_time": "2021-09-15T09:49:19.931Z"
   },
   {
    "duration": 85,
    "start_time": "2021-09-15T09:49:21.342Z"
   },
   {
    "duration": 11,
    "start_time": "2021-09-15T09:49:21.797Z"
   },
   {
    "duration": 22,
    "start_time": "2021-09-15T09:49:22.367Z"
   },
   {
    "duration": 45,
    "start_time": "2021-09-15T09:49:24.328Z"
   },
   {
    "duration": 7,
    "start_time": "2021-09-15T09:49:29.549Z"
   },
   {
    "duration": 9,
    "start_time": "2021-09-15T09:49:30.236Z"
   },
   {
    "duration": 69,
    "start_time": "2021-09-15T09:49:33.569Z"
   },
   {
    "duration": 6,
    "start_time": "2021-09-15T09:51:11.253Z"
   },
   {
    "duration": 11,
    "start_time": "2021-09-15T09:51:11.468Z"
   },
   {
    "duration": 6,
    "start_time": "2021-09-15T09:51:11.743Z"
   },
   {
    "duration": 110,
    "start_time": "2021-09-15T09:51:11.983Z"
   },
   {
    "duration": 11,
    "start_time": "2021-09-15T09:51:12.230Z"
   },
   {
    "duration": 6,
    "start_time": "2021-09-15T09:51:12.500Z"
   },
   {
    "duration": 100,
    "start_time": "2021-09-15T09:51:13.464Z"
   },
   {
    "duration": 11,
    "start_time": "2021-09-15T09:51:14.228Z"
   },
   {
    "duration": 90,
    "start_time": "2021-09-15T09:51:14.813Z"
   },
   {
    "duration": 9,
    "start_time": "2021-09-15T09:51:15.084Z"
   },
   {
    "duration": 86,
    "start_time": "2021-09-15T09:51:15.300Z"
   },
   {
    "duration": 15,
    "start_time": "2021-09-15T09:51:15.571Z"
   },
   {
    "duration": 20,
    "start_time": "2021-09-15T09:51:16.119Z"
   },
   {
    "duration": 50,
    "start_time": "2021-09-15T09:51:17.615Z"
   },
   {
    "duration": 7,
    "start_time": "2021-09-15T09:51:22.426Z"
   },
   {
    "duration": 10,
    "start_time": "2021-09-15T09:51:22.913Z"
   },
   {
    "duration": 74,
    "start_time": "2021-09-15T09:51:24.265Z"
   },
   {
    "duration": 5,
    "start_time": "2021-09-15T09:52:19.498Z"
   },
   {
    "duration": 8,
    "start_time": "2021-09-15T09:52:25.441Z"
   },
   {
    "duration": 8,
    "start_time": "2021-09-15T09:52:25.782Z"
   },
   {
    "duration": 109,
    "start_time": "2021-09-15T09:52:26.011Z"
   },
   {
    "duration": 13,
    "start_time": "2021-09-15T09:52:26.229Z"
   },
   {
    "duration": 5,
    "start_time": "2021-09-15T09:52:27.115Z"
   },
   {
    "duration": 104,
    "start_time": "2021-09-15T09:52:27.763Z"
   },
   {
    "duration": 26,
    "start_time": "2021-09-15T09:52:28.358Z"
   },
   {
    "duration": 88,
    "start_time": "2021-09-15T09:52:28.919Z"
   },
   {
    "duration": 9,
    "start_time": "2021-09-15T09:52:29.242Z"
   },
   {
    "duration": 89,
    "start_time": "2021-09-15T09:52:30.007Z"
   },
   {
    "duration": 10,
    "start_time": "2021-09-15T09:52:30.515Z"
   },
   {
    "duration": 26,
    "start_time": "2021-09-15T09:52:31.039Z"
   },
   {
    "duration": 42,
    "start_time": "2021-09-15T09:52:32.099Z"
   },
   {
    "duration": 8,
    "start_time": "2021-09-15T09:52:42.939Z"
   },
   {
    "duration": 10,
    "start_time": "2021-09-15T09:52:43.603Z"
   },
   {
    "duration": 76,
    "start_time": "2021-09-15T09:52:44.215Z"
   },
   {
    "duration": 5,
    "start_time": "2021-09-15T09:54:19.104Z"
   },
   {
    "duration": 7,
    "start_time": "2021-09-15T09:54:19.837Z"
   },
   {
    "duration": 6,
    "start_time": "2021-09-15T09:54:20.745Z"
   },
   {
    "duration": 118,
    "start_time": "2021-09-15T09:54:21.241Z"
   },
   {
    "duration": 14,
    "start_time": "2021-09-15T09:54:21.680Z"
   },
   {
    "duration": 6,
    "start_time": "2021-09-15T09:54:33.433Z"
   },
   {
    "duration": 6,
    "start_time": "2021-09-15T09:54:33.637Z"
   },
   {
    "duration": 6,
    "start_time": "2021-09-15T09:54:33.835Z"
   },
   {
    "duration": 104,
    "start_time": "2021-09-15T09:54:34.052Z"
   },
   {
    "duration": 13,
    "start_time": "2021-09-15T09:54:34.462Z"
   },
   {
    "duration": 6,
    "start_time": "2021-09-15T09:54:40.446Z"
   },
   {
    "duration": 98,
    "start_time": "2021-09-15T09:54:43.214Z"
   },
   {
    "duration": 11,
    "start_time": "2021-09-15T09:54:43.662Z"
   },
   {
    "duration": 82,
    "start_time": "2021-09-15T09:54:44.447Z"
   },
   {
    "duration": 11,
    "start_time": "2021-09-15T09:54:44.866Z"
   },
   {
    "duration": 80,
    "start_time": "2021-09-15T09:54:45.166Z"
   },
   {
    "duration": 10,
    "start_time": "2021-09-15T09:54:45.606Z"
   },
   {
    "duration": 25,
    "start_time": "2021-09-15T09:54:46.162Z"
   },
   {
    "duration": 33,
    "start_time": "2021-09-15T09:54:47.095Z"
   },
   {
    "duration": 8,
    "start_time": "2021-09-15T09:54:50.897Z"
   },
   {
    "duration": 10,
    "start_time": "2021-09-15T09:54:51.081Z"
   },
   {
    "duration": 69,
    "start_time": "2021-09-15T09:54:53.196Z"
   },
   {
    "duration": 6,
    "start_time": "2021-09-15T09:55:59.217Z"
   },
   {
    "duration": 6,
    "start_time": "2021-09-15T09:56:00.135Z"
   },
   {
    "duration": 6,
    "start_time": "2021-09-15T09:56:00.582Z"
   },
   {
    "duration": 105,
    "start_time": "2021-09-15T09:56:00.843Z"
   },
   {
    "duration": 15,
    "start_time": "2021-09-15T09:56:01.066Z"
   },
   {
    "duration": 6,
    "start_time": "2021-09-15T09:56:01.284Z"
   },
   {
    "duration": 105,
    "start_time": "2021-09-15T09:56:02.234Z"
   },
   {
    "duration": 12,
    "start_time": "2021-09-15T09:56:03.090Z"
   },
   {
    "duration": 84,
    "start_time": "2021-09-15T09:56:03.643Z"
   },
   {
    "duration": 11,
    "start_time": "2021-09-15T09:56:03.913Z"
   },
   {
    "duration": 82,
    "start_time": "2021-09-15T09:56:04.154Z"
   },
   {
    "duration": 10,
    "start_time": "2021-09-15T09:56:04.398Z"
   },
   {
    "duration": 24,
    "start_time": "2021-09-15T09:56:04.694Z"
   },
   {
    "duration": 42,
    "start_time": "2021-09-15T09:56:06.164Z"
   },
   {
    "duration": 7,
    "start_time": "2021-09-15T09:56:10.346Z"
   },
   {
    "duration": 9,
    "start_time": "2021-09-15T09:56:10.839Z"
   },
   {
    "duration": 63,
    "start_time": "2021-09-15T09:56:11.659Z"
   },
   {
    "duration": 6,
    "start_time": "2021-09-15T09:57:21.437Z"
   },
   {
    "duration": 5,
    "start_time": "2021-09-15T09:57:22.217Z"
   },
   {
    "duration": 6,
    "start_time": "2021-09-15T09:57:22.780Z"
   },
   {
    "duration": 108,
    "start_time": "2021-09-15T09:57:23.257Z"
   },
   {
    "duration": 11,
    "start_time": "2021-09-15T09:57:23.721Z"
   },
   {
    "duration": 5,
    "start_time": "2021-09-15T09:57:24.367Z"
   },
   {
    "duration": 99,
    "start_time": "2021-09-15T09:57:27.029Z"
   },
   {
    "duration": 12,
    "start_time": "2021-09-15T09:57:27.237Z"
   },
   {
    "duration": 87,
    "start_time": "2021-09-15T09:57:27.444Z"
   },
   {
    "duration": 13,
    "start_time": "2021-09-15T09:57:27.662Z"
   },
   {
    "duration": 87,
    "start_time": "2021-09-15T09:57:27.894Z"
   },
   {
    "duration": 11,
    "start_time": "2021-09-15T09:57:28.093Z"
   },
   {
    "duration": 22,
    "start_time": "2021-09-15T09:57:28.617Z"
   },
   {
    "duration": 39,
    "start_time": "2021-09-15T09:57:29.558Z"
   },
   {
    "duration": 7,
    "start_time": "2021-09-15T09:57:37.332Z"
   },
   {
    "duration": 11,
    "start_time": "2021-09-15T09:57:37.833Z"
   },
   {
    "duration": 6,
    "start_time": "2021-09-15T09:58:02.817Z"
   },
   {
    "duration": 12,
    "start_time": "2021-09-15T09:58:03.556Z"
   },
   {
    "duration": 6,
    "start_time": "2021-09-15T09:58:04.025Z"
   },
   {
    "duration": 107,
    "start_time": "2021-09-15T09:58:04.449Z"
   },
   {
    "duration": 13,
    "start_time": "2021-09-15T09:58:04.845Z"
   },
   {
    "duration": 6,
    "start_time": "2021-09-15T09:58:34.596Z"
   },
   {
    "duration": 6,
    "start_time": "2021-09-15T09:58:34.828Z"
   },
   {
    "duration": 6,
    "start_time": "2021-09-15T09:58:35.074Z"
   },
   {
    "duration": 98,
    "start_time": "2021-09-15T09:58:35.468Z"
   },
   {
    "duration": 11,
    "start_time": "2021-09-15T09:58:35.784Z"
   },
   {
    "duration": 4,
    "start_time": "2021-09-15T09:58:36.679Z"
   },
   {
    "duration": 110,
    "start_time": "2021-09-15T09:58:37.126Z"
   },
   {
    "duration": 11,
    "start_time": "2021-09-15T09:58:37.327Z"
   },
   {
    "duration": 86,
    "start_time": "2021-09-15T09:58:37.550Z"
   },
   {
    "duration": 10,
    "start_time": "2021-09-15T09:58:37.767Z"
   },
   {
    "duration": 82,
    "start_time": "2021-09-15T09:58:37.974Z"
   },
   {
    "duration": 11,
    "start_time": "2021-09-15T09:58:38.183Z"
   },
   {
    "duration": 23,
    "start_time": "2021-09-15T09:58:38.392Z"
   },
   {
    "duration": 39,
    "start_time": "2021-09-15T09:58:38.614Z"
   },
   {
    "duration": 8,
    "start_time": "2021-09-15T09:58:38.875Z"
   },
   {
    "duration": 10,
    "start_time": "2021-09-15T09:58:39.533Z"
   },
   {
    "duration": 61,
    "start_time": "2021-09-15T09:58:39.773Z"
   },
   {
    "duration": 6,
    "start_time": "2021-09-15T10:02:10.085Z"
   },
   {
    "duration": 6,
    "start_time": "2021-09-15T10:02:10.640Z"
   },
   {
    "duration": 6,
    "start_time": "2021-09-15T10:02:11.442Z"
   },
   {
    "duration": 102,
    "start_time": "2021-09-15T10:02:15.228Z"
   },
   {
    "duration": 11,
    "start_time": "2021-09-15T10:02:15.461Z"
   },
   {
    "duration": 5,
    "start_time": "2021-09-15T10:02:15.638Z"
   },
   {
    "duration": 92,
    "start_time": "2021-09-15T10:02:16.386Z"
   },
   {
    "duration": 11,
    "start_time": "2021-09-15T10:02:16.956Z"
   },
   {
    "duration": 104,
    "start_time": "2021-09-15T10:02:17.496Z"
   },
   {
    "duration": 10,
    "start_time": "2021-09-15T10:02:17.775Z"
   },
   {
    "duration": 75,
    "start_time": "2021-09-15T10:02:18.044Z"
   },
   {
    "duration": 10,
    "start_time": "2021-09-15T10:02:18.322Z"
   },
   {
    "duration": 21,
    "start_time": "2021-09-15T10:02:18.600Z"
   },
   {
    "duration": 40,
    "start_time": "2021-09-15T10:02:19.449Z"
   },
   {
    "duration": 7,
    "start_time": "2021-09-15T10:02:20.211Z"
   },
   {
    "duration": 11,
    "start_time": "2021-09-15T10:02:21.144Z"
   },
   {
    "duration": 66,
    "start_time": "2021-09-15T10:02:22.936Z"
   },
   {
    "duration": 8,
    "start_time": "2021-09-15T10:04:58.537Z"
   },
   {
    "duration": 8,
    "start_time": "2021-09-15T10:04:58.999Z"
   },
   {
    "duration": 7,
    "start_time": "2021-09-15T10:04:59.484Z"
   },
   {
    "duration": 104,
    "start_time": "2021-09-15T10:04:59.917Z"
   },
   {
    "duration": 12,
    "start_time": "2021-09-15T10:05:00.362Z"
   },
   {
    "duration": 5,
    "start_time": "2021-09-15T10:05:01.465Z"
   },
   {
    "duration": 100,
    "start_time": "2021-09-15T10:05:29.668Z"
   },
   {
    "duration": 11,
    "start_time": "2021-09-15T10:05:30.292Z"
   },
   {
    "duration": 5,
    "start_time": "2021-09-15T10:05:53.213Z"
   },
   {
    "duration": 99,
    "start_time": "2021-09-15T10:05:53.482Z"
   },
   {
    "duration": 11,
    "start_time": "2021-09-15T10:05:53.712Z"
   },
   {
    "duration": 6,
    "start_time": "2021-09-15T10:05:53.960Z"
   },
   {
    "duration": 93,
    "start_time": "2021-09-15T10:05:54.189Z"
   },
   {
    "duration": 11,
    "start_time": "2021-09-15T10:05:55.033Z"
   },
   {
    "duration": 78,
    "start_time": "2021-09-15T10:05:55.856Z"
   },
   {
    "duration": 10,
    "start_time": "2021-09-15T10:05:56.350Z"
   },
   {
    "duration": 83,
    "start_time": "2021-09-15T10:05:56.858Z"
   },
   {
    "duration": 11,
    "start_time": "2021-09-15T10:05:57.390Z"
   },
   {
    "duration": 22,
    "start_time": "2021-09-15T10:05:58.795Z"
   },
   {
    "duration": 38,
    "start_time": "2021-09-15T10:05:59.867Z"
   },
   {
    "duration": 7,
    "start_time": "2021-09-15T10:06:04.509Z"
   },
   {
    "duration": 10,
    "start_time": "2021-09-15T10:06:05.202Z"
   },
   {
    "duration": 62,
    "start_time": "2021-09-15T10:06:08.065Z"
   },
   {
    "duration": 6,
    "start_time": "2021-09-15T10:08:26.595Z"
   },
   {
    "duration": 8,
    "start_time": "2021-09-15T10:08:27.162Z"
   },
   {
    "duration": 7,
    "start_time": "2021-09-15T10:08:27.642Z"
   },
   {
    "duration": 108,
    "start_time": "2021-09-15T10:08:28.136Z"
   },
   {
    "duration": 11,
    "start_time": "2021-09-15T10:08:28.609Z"
   },
   {
    "duration": 6,
    "start_time": "2021-09-15T10:08:29.585Z"
   },
   {
    "duration": 92,
    "start_time": "2021-09-15T10:08:32.495Z"
   },
   {
    "duration": 11,
    "start_time": "2021-09-15T10:08:32.719Z"
   },
   {
    "duration": 75,
    "start_time": "2021-09-15T10:08:32.941Z"
   },
   {
    "duration": 10,
    "start_time": "2021-09-15T10:08:33.171Z"
   },
   {
    "duration": 76,
    "start_time": "2021-09-15T10:08:33.388Z"
   },
   {
    "duration": 10,
    "start_time": "2021-09-15T10:08:33.706Z"
   },
   {
    "duration": 21,
    "start_time": "2021-09-15T10:08:33.936Z"
   },
   {
    "duration": 39,
    "start_time": "2021-09-15T10:08:34.847Z"
   },
   {
    "duration": 7,
    "start_time": "2021-09-15T10:08:38.325Z"
   },
   {
    "duration": 9,
    "start_time": "2021-09-15T10:08:38.841Z"
   },
   {
    "duration": 58,
    "start_time": "2021-09-15T10:08:39.620Z"
   },
   {
    "duration": 6,
    "start_time": "2021-09-15T10:10:56.461Z"
   },
   {
    "duration": 6,
    "start_time": "2021-09-15T10:10:57.725Z"
   },
   {
    "duration": 111,
    "start_time": "2021-09-15T10:16:18.960Z"
   },
   {
    "duration": 84,
    "start_time": "2021-09-15T10:16:54.008Z"
   },
   {
    "duration": 5,
    "start_time": "2021-09-15T10:17:06.558Z"
   },
   {
    "duration": 8,
    "start_time": "2021-09-15T10:17:23.079Z"
   },
   {
    "duration": 9,
    "start_time": "2021-09-15T10:17:24.284Z"
   },
   {
    "duration": 2412,
    "start_time": "2021-09-15T10:17:47.166Z"
   },
   {
    "duration": 4,
    "start_time": "2021-09-15T10:17:49.581Z"
   },
   {
    "duration": 12,
    "start_time": "2021-09-15T10:17:49.588Z"
   },
   {
    "duration": 189,
    "start_time": "2021-09-15T10:17:49.603Z"
   },
   {
    "duration": 35,
    "start_time": "2021-09-15T10:17:49.795Z"
   },
   {
    "duration": 34,
    "start_time": "2021-09-15T10:17:49.832Z"
   },
   {
    "duration": 19,
    "start_time": "2021-09-15T10:17:49.869Z"
   },
   {
    "duration": 26,
    "start_time": "2021-09-15T10:17:49.891Z"
   },
   {
    "duration": 25,
    "start_time": "2021-09-15T10:17:49.956Z"
   },
   {
    "duration": 15,
    "start_time": "2021-09-15T10:17:50.118Z"
   },
   {
    "duration": 120,
    "start_time": "2021-09-15T10:17:50.789Z"
   },
   {
    "duration": 14,
    "start_time": "2021-09-15T10:17:51.003Z"
   },
   {
    "duration": 19,
    "start_time": "2021-09-15T10:17:51.231Z"
   },
   {
    "duration": 26,
    "start_time": "2021-09-15T10:17:51.446Z"
   },
   {
    "duration": 6,
    "start_time": "2021-09-15T10:17:51.667Z"
   },
   {
    "duration": 6,
    "start_time": "2021-09-15T10:17:52.547Z"
   },
   {
    "duration": 6,
    "start_time": "2021-09-15T10:17:52.786Z"
   },
   {
    "duration": 118,
    "start_time": "2021-09-15T10:17:53.040Z"
   },
   {
    "duration": 5,
    "start_time": "2021-09-15T10:17:53.825Z"
   },
   {
    "duration": 3,
    "start_time": "2021-09-15T10:17:54.267Z"
   },
   {
    "duration": 37,
    "start_time": "2021-09-15T10:18:48.850Z"
   },
   {
    "duration": 48,
    "start_time": "2021-09-15T10:18:49.360Z"
   },
   {
    "duration": 8,
    "start_time": "2021-09-15T10:18:49.810Z"
   },
   {
    "duration": 15,
    "start_time": "2021-09-15T10:18:50.408Z"
   },
   {
    "duration": 559,
    "start_time": "2021-09-15T10:21:45.159Z"
   },
   {
    "duration": 1184,
    "start_time": "2021-09-15T10:21:55.636Z"
   },
   {
    "duration": 452,
    "start_time": "2021-09-15T10:23:17.424Z"
   },
   {
    "duration": 1264,
    "start_time": "2021-09-15T10:23:40.955Z"
   },
   {
    "duration": 456,
    "start_time": "2021-09-15T10:24:04.534Z"
   },
   {
    "duration": 534,
    "start_time": "2021-09-15T10:24:32.914Z"
   },
   {
    "duration": 357,
    "start_time": "2021-09-15T10:24:54.526Z"
   },
   {
    "duration": 407,
    "start_time": "2021-09-15T10:25:02.539Z"
   },
   {
    "duration": 379,
    "start_time": "2021-09-15T10:25:15.785Z"
   },
   {
    "duration": 373,
    "start_time": "2021-09-15T10:25:40.235Z"
   },
   {
    "duration": 560,
    "start_time": "2021-09-15T10:26:09.050Z"
   },
   {
    "duration": 394,
    "start_time": "2021-09-15T10:26:56.391Z"
   },
   {
    "duration": 367,
    "start_time": "2021-09-15T10:27:07.548Z"
   },
   {
    "duration": 63,
    "start_time": "2021-09-15T10:27:25.702Z"
   },
   {
    "duration": 399,
    "start_time": "2021-09-15T10:27:36.879Z"
   },
   {
    "duration": 576,
    "start_time": "2021-09-15T10:28:33.540Z"
   },
   {
    "duration": 380,
    "start_time": "2021-09-15T10:29:17.589Z"
   },
   {
    "duration": 411,
    "start_time": "2021-09-15T10:29:25.951Z"
   },
   {
    "duration": 30,
    "start_time": "2021-09-15T10:30:41.732Z"
   },
   {
    "duration": 16,
    "start_time": "2021-09-15T10:30:42.518Z"
   },
   {
    "duration": 46,
    "start_time": "2021-09-15T10:30:58.407Z"
   },
   {
    "duration": 29,
    "start_time": "2021-09-15T10:30:58.629Z"
   },
   {
    "duration": 20,
    "start_time": "2021-09-15T10:30:58.871Z"
   },
   {
    "duration": 2392,
    "start_time": "2021-09-15T10:31:07.740Z"
   },
   {
    "duration": 4,
    "start_time": "2021-09-15T10:31:10.135Z"
   },
   {
    "duration": 13,
    "start_time": "2021-09-15T10:31:10.144Z"
   },
   {
    "duration": 221,
    "start_time": "2021-09-15T10:31:10.159Z"
   },
   {
    "duration": 33,
    "start_time": "2021-09-15T10:31:10.383Z"
   },
   {
    "duration": 40,
    "start_time": "2021-09-15T10:31:10.418Z"
   },
   {
    "duration": 18,
    "start_time": "2021-09-15T10:31:10.462Z"
   },
   {
    "duration": 28,
    "start_time": "2021-09-15T10:31:10.482Z"
   },
   {
    "duration": 59,
    "start_time": "2021-09-15T10:31:10.512Z"
   },
   {
    "duration": 14,
    "start_time": "2021-09-15T10:31:10.574Z"
   },
   {
    "duration": 151,
    "start_time": "2021-09-15T10:31:10.590Z"
   },
   {
    "duration": 20,
    "start_time": "2021-09-15T10:31:10.744Z"
   },
   {
    "duration": 20,
    "start_time": "2021-09-15T10:31:10.860Z"
   },
   {
    "duration": 24,
    "start_time": "2021-09-15T10:31:11.075Z"
   },
   {
    "duration": 5,
    "start_time": "2021-09-15T10:31:11.314Z"
   },
   {
    "duration": 6,
    "start_time": "2021-09-15T10:31:12.534Z"
   },
   {
    "duration": 6,
    "start_time": "2021-09-15T10:31:12.766Z"
   },
   {
    "duration": 107,
    "start_time": "2021-09-15T10:31:13.004Z"
   },
   {
    "duration": 5,
    "start_time": "2021-09-15T10:31:13.236Z"
   },
   {
    "duration": 3,
    "start_time": "2021-09-15T10:31:13.436Z"
   },
   {
    "duration": 37,
    "start_time": "2021-09-15T10:31:14.454Z"
   },
   {
    "duration": 46,
    "start_time": "2021-09-15T10:31:14.670Z"
   },
   {
    "duration": 20,
    "start_time": "2021-09-15T10:31:14.864Z"
   },
   {
    "duration": 16,
    "start_time": "2021-09-15T10:31:15.074Z"
   },
   {
    "duration": 597,
    "start_time": "2021-09-15T10:31:17.502Z"
   },
   {
    "duration": 974,
    "start_time": "2021-09-15T10:31:29.904Z"
   },
   {
    "duration": 15,
    "start_time": "2021-09-15T10:33:03.016Z"
   },
   {
    "duration": 551,
    "start_time": "2021-09-15T10:34:28.862Z"
   },
   {
    "duration": 397,
    "start_time": "2021-09-15T10:36:07.837Z"
   },
   {
    "duration": 12,
    "start_time": "2021-09-15T10:36:58.064Z"
   },
   {
    "duration": 9,
    "start_time": "2021-09-15T10:37:09.698Z"
   },
   {
    "duration": 6,
    "start_time": "2021-09-15T10:37:57.300Z"
   },
   {
    "duration": 419,
    "start_time": "2021-09-15T10:47:02.826Z"
   },
   {
    "duration": 448,
    "start_time": "2021-09-15T10:50:23.650Z"
   },
   {
    "duration": 48,
    "start_time": "2021-09-15T10:50:24.169Z"
   },
   {
    "duration": 194,
    "start_time": "2021-09-15T10:50:24.775Z"
   },
   {
    "duration": 16,
    "start_time": "2021-09-15T10:50:25.256Z"
   },
   {
    "duration": 23,
    "start_time": "2021-09-15T10:50:38.427Z"
   },
   {
    "duration": 437,
    "start_time": "2021-09-15T10:51:09.688Z"
   },
   {
    "duration": 45,
    "start_time": "2021-09-15T10:51:10.128Z"
   },
   {
    "duration": 29,
    "start_time": "2021-09-15T10:51:10.175Z"
   },
   {
    "duration": 19,
    "start_time": "2021-09-15T10:51:10.289Z"
   },
   {
    "duration": 29,
    "start_time": "2021-09-15T10:51:10.488Z"
   },
   {
    "duration": 11,
    "start_time": "2021-09-15T10:53:59.698Z"
   },
   {
    "duration": 2401,
    "start_time": "2021-09-15T10:54:10.819Z"
   },
   {
    "duration": 3,
    "start_time": "2021-09-15T10:54:13.223Z"
   },
   {
    "duration": 7,
    "start_time": "2021-09-15T10:54:13.229Z"
   },
   {
    "duration": 212,
    "start_time": "2021-09-15T10:54:13.257Z"
   },
   {
    "duration": 33,
    "start_time": "2021-09-15T10:54:13.471Z"
   },
   {
    "duration": 55,
    "start_time": "2021-09-15T10:54:13.506Z"
   },
   {
    "duration": 20,
    "start_time": "2021-09-15T10:54:13.563Z"
   },
   {
    "duration": 29,
    "start_time": "2021-09-15T10:54:17.108Z"
   },
   {
    "duration": 35,
    "start_time": "2021-09-15T10:54:17.307Z"
   },
   {
    "duration": 16,
    "start_time": "2021-09-15T10:54:17.500Z"
   },
   {
    "duration": 133,
    "start_time": "2021-09-15T10:54:18.139Z"
   },
   {
    "duration": 14,
    "start_time": "2021-09-15T10:54:18.364Z"
   },
   {
    "duration": 19,
    "start_time": "2021-09-15T10:54:18.563Z"
   },
   {
    "duration": 23,
    "start_time": "2021-09-15T10:54:18.804Z"
   },
   {
    "duration": 4,
    "start_time": "2021-09-15T10:54:19.020Z"
   },
   {
    "duration": 15,
    "start_time": "2021-09-15T10:54:20.016Z"
   },
   {
    "duration": 9,
    "start_time": "2021-09-15T10:54:20.417Z"
   },
   {
    "duration": 6,
    "start_time": "2021-09-15T10:54:20.609Z"
   },
   {
    "duration": 107,
    "start_time": "2021-09-15T10:54:20.832Z"
   },
   {
    "duration": 5,
    "start_time": "2021-09-15T10:54:21.047Z"
   },
   {
    "duration": 3,
    "start_time": "2021-09-15T10:54:21.255Z"
   },
   {
    "duration": 387,
    "start_time": "2021-09-15T10:54:30.563Z"
   },
   {
    "duration": 11,
    "start_time": "2021-09-15T10:54:31.031Z"
   },
   {
    "duration": 46,
    "start_time": "2021-09-15T10:54:31.525Z"
   },
   {
    "duration": 22,
    "start_time": "2021-09-15T10:54:32.041Z"
   },
   {
    "duration": 17,
    "start_time": "2021-09-15T10:54:32.718Z"
   },
   {
    "duration": 25,
    "start_time": "2021-09-15T10:54:45.919Z"
   },
   {
    "duration": 2292,
    "start_time": "2021-09-15T10:55:36.564Z"
   },
   {
    "duration": 4,
    "start_time": "2021-09-15T10:55:38.858Z"
   },
   {
    "duration": 17,
    "start_time": "2021-09-15T10:55:38.865Z"
   },
   {
    "duration": 177,
    "start_time": "2021-09-15T10:55:38.884Z"
   },
   {
    "duration": 35,
    "start_time": "2021-09-15T10:55:39.064Z"
   },
   {
    "duration": 28,
    "start_time": "2021-09-15T10:55:39.101Z"
   },
   {
    "duration": 42,
    "start_time": "2021-09-15T10:55:39.131Z"
   },
   {
    "duration": 29,
    "start_time": "2021-09-15T10:55:39.301Z"
   },
   {
    "duration": 23,
    "start_time": "2021-09-15T10:55:39.525Z"
   },
   {
    "duration": 16,
    "start_time": "2021-09-15T10:55:39.702Z"
   },
   {
    "duration": 138,
    "start_time": "2021-09-15T10:55:40.343Z"
   },
   {
    "duration": 13,
    "start_time": "2021-09-15T10:55:40.567Z"
   },
   {
    "duration": 22,
    "start_time": "2021-09-15T10:55:40.774Z"
   },
   {
    "duration": 23,
    "start_time": "2021-09-15T10:55:41.014Z"
   },
   {
    "duration": 5,
    "start_time": "2021-09-15T10:55:41.237Z"
   },
   {
    "duration": 16,
    "start_time": "2021-09-15T10:55:41.912Z"
   },
   {
    "duration": 6,
    "start_time": "2021-09-15T10:55:42.395Z"
   },
   {
    "duration": 6,
    "start_time": "2021-09-15T10:55:42.635Z"
   },
   {
    "duration": 118,
    "start_time": "2021-09-15T10:55:42.851Z"
   },
   {
    "duration": 6,
    "start_time": "2021-09-15T10:55:43.096Z"
   },
   {
    "duration": 4,
    "start_time": "2021-09-15T10:55:43.336Z"
   },
   {
    "duration": 405,
    "start_time": "2021-09-15T10:55:43.799Z"
   },
   {
    "duration": 597,
    "start_time": "2021-09-15T10:55:44.238Z"
   },
   {
    "duration": 301,
    "start_time": "2021-09-15T10:55:44.538Z"
   },
   {
    "duration": 300,
    "start_time": "2021-09-15T10:55:44.541Z"
   },
   {
    "duration": 1671,
    "start_time": "2021-09-15T10:55:51.459Z"
   },
   {
    "duration": 1655,
    "start_time": "2021-09-15T10:56:08.368Z"
   },
   {
    "duration": 6,
    "start_time": "2021-09-15T10:57:07.728Z"
   },
   {
    "duration": 60,
    "start_time": "2021-09-15T10:57:10.655Z"
   },
   {
    "duration": 22,
    "start_time": "2021-09-15T10:57:11.672Z"
   },
   {
    "duration": 26,
    "start_time": "2021-09-15T10:57:12.452Z"
   },
   {
    "duration": 26,
    "start_time": "2021-09-15T10:57:21.308Z"
   },
   {
    "duration": 445,
    "start_time": "2021-09-15T11:01:07.393Z"
   },
   {
    "duration": 9,
    "start_time": "2021-09-15T11:01:20.218Z"
   },
   {
    "duration": 10,
    "start_time": "2021-09-15T11:01:52.800Z"
   },
   {
    "duration": 8,
    "start_time": "2021-09-15T11:02:36.202Z"
   },
   {
    "duration": 2441,
    "start_time": "2021-09-15T11:02:54.231Z"
   },
   {
    "duration": 4,
    "start_time": "2021-09-15T11:02:56.676Z"
   },
   {
    "duration": 3,
    "start_time": "2021-09-15T11:02:56.687Z"
   },
   {
    "duration": 247,
    "start_time": "2021-09-15T11:02:56.693Z"
   },
   {
    "duration": 57,
    "start_time": "2021-09-15T11:02:56.943Z"
   },
   {
    "duration": 75,
    "start_time": "2021-09-15T11:02:57.004Z"
   },
   {
    "duration": 31,
    "start_time": "2021-09-15T11:02:57.084Z"
   },
   {
    "duration": 96,
    "start_time": "2021-09-15T11:02:57.119Z"
   },
   {
    "duration": 38,
    "start_time": "2021-09-15T11:02:57.218Z"
   },
   {
    "duration": 21,
    "start_time": "2021-09-15T11:02:57.258Z"
   },
   {
    "duration": 138,
    "start_time": "2021-09-15T11:02:57.368Z"
   },
   {
    "duration": 20,
    "start_time": "2021-09-15T11:02:57.552Z"
   },
   {
    "duration": 19,
    "start_time": "2021-09-15T11:02:57.784Z"
   },
   {
    "duration": 23,
    "start_time": "2021-09-15T11:02:57.999Z"
   },
   {
    "duration": 6,
    "start_time": "2021-09-15T11:02:58.200Z"
   },
   {
    "duration": 26,
    "start_time": "2021-09-15T11:02:58.863Z"
   },
   {
    "duration": 6,
    "start_time": "2021-09-15T11:02:59.297Z"
   },
   {
    "duration": 5,
    "start_time": "2021-09-15T11:02:59.504Z"
   },
   {
    "duration": 173,
    "start_time": "2021-09-15T11:02:59.742Z"
   },
   {
    "duration": 7,
    "start_time": "2021-09-15T11:02:59.951Z"
   },
   {
    "duration": 5,
    "start_time": "2021-09-15T11:03:00.158Z"
   },
   {
    "duration": 407,
    "start_time": "2021-09-15T11:03:00.585Z"
   },
   {
    "duration": 9,
    "start_time": "2021-09-15T11:03:00.995Z"
   },
   {
    "duration": 52,
    "start_time": "2021-09-15T11:03:02.397Z"
   },
   {
    "duration": 24,
    "start_time": "2021-09-15T11:03:02.900Z"
   },
   {
    "duration": 16,
    "start_time": "2021-09-15T11:03:03.933Z"
   },
   {
    "duration": 8,
    "start_time": "2021-09-15T11:03:07.040Z"
   },
   {
    "duration": 17,
    "start_time": "2021-09-15T11:03:07.760Z"
   },
   {
    "duration": 1057,
    "start_time": "2021-09-15T11:03:09.147Z"
   },
   {
    "duration": 398,
    "start_time": "2021-09-15T13:28:25.181Z"
   },
   {
    "duration": 45,
    "start_time": "2021-09-15T13:28:26.219Z"
   },
   {
    "duration": 9,
    "start_time": "2021-09-15T13:28:28.855Z"
   },
   {
    "duration": 368,
    "start_time": "2021-09-15T13:28:30.713Z"
   },
   {
    "duration": 7,
    "start_time": "2021-09-15T13:28:31.337Z"
   },
   {
    "duration": 871,
    "start_time": "2021-09-15T13:28:32.025Z"
   },
   {
    "duration": 17,
    "start_time": "2021-09-15T13:28:33.426Z"
   },
   {
    "duration": 16,
    "start_time": "2021-09-15T13:28:35.037Z"
   },
   {
    "duration": 5,
    "start_time": "2021-09-15T13:36:07.085Z"
   },
   {
    "duration": 928,
    "start_time": "2021-09-15T13:36:14.092Z"
   },
   {
    "duration": 1679,
    "start_time": "2021-09-15T13:37:27.882Z"
   },
   {
    "duration": 792,
    "start_time": "2021-09-15T13:37:42.554Z"
   },
   {
    "duration": 17,
    "start_time": "2021-09-15T13:38:11.798Z"
   },
   {
    "duration": 803,
    "start_time": "2021-09-15T13:38:15.542Z"
   },
   {
    "duration": 988,
    "start_time": "2021-09-15T13:39:02.535Z"
   },
   {
    "duration": 10247,
    "start_time": "2021-09-15T13:39:28.807Z"
   },
   {
    "duration": 1024,
    "start_time": "2021-09-15T13:40:25.147Z"
   },
   {
    "duration": 447,
    "start_time": "2021-09-15T13:43:35.455Z"
   },
   {
    "duration": 124,
    "start_time": "2021-09-15T13:45:08.645Z"
   },
   {
    "duration": 365,
    "start_time": "2021-09-15T13:45:59.828Z"
   },
   {
    "duration": 15184,
    "start_time": "2021-09-15T13:46:35.426Z"
   },
   {
    "duration": 19,
    "start_time": "2021-09-15T13:47:07.684Z"
   },
   {
    "duration": 4,
    "start_time": "2021-09-15T13:47:08.583Z"
   },
   {
    "duration": 5,
    "start_time": "2021-09-15T13:47:09.791Z"
   },
   {
    "duration": 207,
    "start_time": "2021-09-15T13:47:10.024Z"
   },
   {
    "duration": 38,
    "start_time": "2021-09-15T13:47:10.758Z"
   },
   {
    "duration": 25,
    "start_time": "2021-09-15T13:47:11.367Z"
   },
   {
    "duration": 22,
    "start_time": "2021-09-15T13:47:11.662Z"
   },
   {
    "duration": 29,
    "start_time": "2021-09-15T13:47:12.113Z"
   },
   {
    "duration": 30,
    "start_time": "2021-09-15T13:47:12.345Z"
   },
   {
    "duration": 16,
    "start_time": "2021-09-15T13:47:12.569Z"
   },
   {
    "duration": 129,
    "start_time": "2021-09-15T13:47:13.224Z"
   },
   {
    "duration": 14,
    "start_time": "2021-09-15T13:47:13.430Z"
   },
   {
    "duration": 25,
    "start_time": "2021-09-15T13:47:13.646Z"
   },
   {
    "duration": 26,
    "start_time": "2021-09-15T13:47:13.863Z"
   },
   {
    "duration": 7,
    "start_time": "2021-09-15T13:47:14.154Z"
   },
   {
    "duration": 17,
    "start_time": "2021-09-15T13:47:15.019Z"
   },
   {
    "duration": 5,
    "start_time": "2021-09-15T13:47:15.489Z"
   },
   {
    "duration": 6,
    "start_time": "2021-09-15T13:47:15.712Z"
   },
   {
    "duration": 125,
    "start_time": "2021-09-15T13:47:15.921Z"
   },
   {
    "duration": 5,
    "start_time": "2021-09-15T13:47:16.136Z"
   },
   {
    "duration": 3,
    "start_time": "2021-09-15T13:47:16.383Z"
   },
   {
    "duration": 450,
    "start_time": "2021-09-15T13:47:16.815Z"
   },
   {
    "duration": 12,
    "start_time": "2021-09-15T13:47:17.268Z"
   },
   {
    "duration": 85,
    "start_time": "2021-09-15T13:47:17.284Z"
   },
   {
    "duration": 26,
    "start_time": "2021-09-15T13:47:17.477Z"
   },
   {
    "duration": 18,
    "start_time": "2021-09-15T13:47:17.692Z"
   },
   {
    "duration": 8,
    "start_time": "2021-09-15T13:47:17.909Z"
   },
   {
    "duration": 13,
    "start_time": "2021-09-15T13:47:18.139Z"
   },
   {
    "duration": 442,
    "start_time": "2021-09-15T13:47:18.364Z"
   },
   {
    "duration": 375,
    "start_time": "2021-09-15T13:47:19.350Z"
   },
   {
    "duration": 55,
    "start_time": "2021-09-15T13:47:19.728Z"
   },
   {
    "duration": 7,
    "start_time": "2021-09-15T13:47:19.785Z"
   },
   {
    "duration": 387,
    "start_time": "2021-09-15T13:47:19.989Z"
   },
   {
    "duration": 7,
    "start_time": "2021-09-15T13:47:20.379Z"
   },
   {
    "duration": 748,
    "start_time": "2021-09-15T13:47:20.420Z"
   },
   {
    "duration": 16,
    "start_time": "2021-09-15T13:47:21.172Z"
   },
   {
    "duration": 20,
    "start_time": "2021-09-15T13:47:21.191Z"
   },
   {
    "duration": 6,
    "start_time": "2021-09-15T13:47:23.573Z"
   },
   {
    "duration": 5,
    "start_time": "2021-09-15T13:47:25.477Z"
   },
   {
    "duration": 969,
    "start_time": "2021-09-15T13:47:25.956Z"
   },
   {
    "duration": 1840,
    "start_time": "2021-09-15T13:47:35.520Z"
   },
   {
    "duration": 991,
    "start_time": "2021-09-15T13:47:37.364Z"
   },
   {
    "duration": 1109,
    "start_time": "2021-09-15T13:47:55.364Z"
   },
   {
    "duration": 2706,
    "start_time": "2021-09-15T13:51:33.813Z"
   },
   {
    "duration": 4,
    "start_time": "2021-09-15T13:51:36.522Z"
   },
   {
    "duration": 23,
    "start_time": "2021-09-15T13:51:36.532Z"
   },
   {
    "duration": 173,
    "start_time": "2021-09-15T13:51:36.560Z"
   },
   {
    "duration": 36,
    "start_time": "2021-09-15T13:51:36.739Z"
   },
   {
    "duration": 26,
    "start_time": "2021-09-15T13:51:36.779Z"
   },
   {
    "duration": 47,
    "start_time": "2021-09-15T13:51:36.808Z"
   },
   {
    "duration": 34,
    "start_time": "2021-09-15T13:51:36.859Z"
   },
   {
    "duration": 22,
    "start_time": "2021-09-15T13:51:36.895Z"
   },
   {
    "duration": 50,
    "start_time": "2021-09-15T13:51:36.919Z"
   },
   {
    "duration": 149,
    "start_time": "2021-09-15T13:51:36.972Z"
   },
   {
    "duration": 13,
    "start_time": "2021-09-15T13:51:37.123Z"
   },
   {
    "duration": 33,
    "start_time": "2021-09-15T13:51:37.140Z"
   },
   {
    "duration": 24,
    "start_time": "2021-09-15T13:51:37.177Z"
   },
   {
    "duration": 5,
    "start_time": "2021-09-15T13:51:37.242Z"
   },
   {
    "duration": 16,
    "start_time": "2021-09-15T13:51:37.798Z"
   },
   {
    "duration": 6,
    "start_time": "2021-09-15T13:51:38.381Z"
   },
   {
    "duration": 6,
    "start_time": "2021-09-15T13:51:38.598Z"
   },
   {
    "duration": 112,
    "start_time": "2021-09-15T13:51:38.806Z"
   },
   {
    "duration": 6,
    "start_time": "2021-09-15T13:51:38.998Z"
   },
   {
    "duration": 4,
    "start_time": "2021-09-15T13:51:39.198Z"
   },
   {
    "duration": 429,
    "start_time": "2021-09-15T13:51:39.610Z"
   },
   {
    "duration": 20,
    "start_time": "2021-09-15T13:51:40.041Z"
   },
   {
    "duration": 49,
    "start_time": "2021-09-15T13:51:40.178Z"
   },
   {
    "duration": 21,
    "start_time": "2021-09-15T13:51:40.408Z"
   },
   {
    "duration": 17,
    "start_time": "2021-09-15T13:51:40.603Z"
   },
   {
    "duration": 8,
    "start_time": "2021-09-15T13:51:40.816Z"
   },
   {
    "duration": 12,
    "start_time": "2021-09-15T13:51:41.024Z"
   },
   {
    "duration": 1312,
    "start_time": "2021-09-15T13:51:41.644Z"
   },
   {
    "duration": 779,
    "start_time": "2021-09-15T13:51:42.959Z"
   },
   {
    "duration": 48,
    "start_time": "2021-09-15T13:51:43.741Z"
   },
   {
    "duration": 6,
    "start_time": "2021-09-15T13:51:43.792Z"
   },
   {
    "duration": 397,
    "start_time": "2021-09-15T13:51:43.800Z"
   },
   {
    "duration": 7,
    "start_time": "2021-09-15T13:51:44.199Z"
   },
   {
    "duration": 802,
    "start_time": "2021-09-15T13:51:44.209Z"
   },
   {
    "duration": 16,
    "start_time": "2021-09-15T13:51:45.014Z"
   },
   {
    "duration": 42,
    "start_time": "2021-09-15T13:51:45.032Z"
   },
   {
    "duration": 4,
    "start_time": "2021-09-15T13:51:45.077Z"
   },
   {
    "duration": 6,
    "start_time": "2021-09-15T13:51:46.659Z"
   },
   {
    "duration": 1059,
    "start_time": "2021-09-15T13:51:47.512Z"
   },
   {
    "duration": 1342,
    "start_time": "2021-09-15T14:02:34.553Z"
   },
   {
    "duration": 9913,
    "start_time": "2021-09-15T14:06:37.821Z"
   },
   {
    "duration": 7,
    "start_time": "2021-09-15T14:07:19.184Z"
   },
   {
    "duration": 406,
    "start_time": "2021-09-15T14:08:30.473Z"
   },
   {
    "duration": 1056,
    "start_time": "2021-09-15T14:08:39.799Z"
   },
   {
    "duration": 15,
    "start_time": "2021-09-15T14:09:26.481Z"
   },
   {
    "duration": 3627,
    "start_time": "2021-09-15T14:10:29.630Z"
   },
   {
    "duration": 2144,
    "start_time": "2021-09-15T14:11:57.230Z"
   },
   {
    "duration": 4,
    "start_time": "2021-09-15T14:11:59.377Z"
   },
   {
    "duration": 4,
    "start_time": "2021-09-15T14:11:59.389Z"
   },
   {
    "duration": 281,
    "start_time": "2021-09-15T14:11:59.395Z"
   },
   {
    "duration": 35,
    "start_time": "2021-09-15T14:11:59.679Z"
   },
   {
    "duration": 62,
    "start_time": "2021-09-15T14:11:59.719Z"
   },
   {
    "duration": 23,
    "start_time": "2021-09-15T14:11:59.784Z"
   },
   {
    "duration": 71,
    "start_time": "2021-09-15T14:11:59.810Z"
   },
   {
    "duration": 28,
    "start_time": "2021-09-15T14:11:59.884Z"
   },
   {
    "duration": 55,
    "start_time": "2021-09-15T14:11:59.916Z"
   },
   {
    "duration": 127,
    "start_time": "2021-09-15T14:12:00.484Z"
   },
   {
    "duration": 19,
    "start_time": "2021-09-15T14:12:00.670Z"
   },
   {
    "duration": 25,
    "start_time": "2021-09-15T14:12:00.855Z"
   },
   {
    "duration": 23,
    "start_time": "2021-09-15T14:12:01.077Z"
   },
   {
    "duration": 5,
    "start_time": "2021-09-15T14:12:01.280Z"
   },
   {
    "duration": 17,
    "start_time": "2021-09-15T14:12:01.895Z"
   },
   {
    "duration": 10,
    "start_time": "2021-09-15T14:12:02.457Z"
   },
   {
    "duration": 6,
    "start_time": "2021-09-15T14:12:02.665Z"
   },
   {
    "duration": 118,
    "start_time": "2021-09-15T14:12:02.872Z"
   },
   {
    "duration": 5,
    "start_time": "2021-09-15T14:12:03.089Z"
   },
   {
    "duration": 3,
    "start_time": "2021-09-15T14:12:03.290Z"
   },
   {
    "duration": 416,
    "start_time": "2021-09-15T14:12:03.705Z"
   },
   {
    "duration": 7,
    "start_time": "2021-09-15T14:12:04.124Z"
   },
   {
    "duration": 46,
    "start_time": "2021-09-15T14:12:04.167Z"
   },
   {
    "duration": 21,
    "start_time": "2021-09-15T14:12:04.375Z"
   },
   {
    "duration": 16,
    "start_time": "2021-09-15T14:12:04.579Z"
   },
   {
    "duration": 9,
    "start_time": "2021-09-15T14:12:04.776Z"
   },
   {
    "duration": 12,
    "start_time": "2021-09-15T14:12:04.985Z"
   },
   {
    "duration": 1159,
    "start_time": "2021-09-15T14:12:05.178Z"
   },
   {
    "duration": 655,
    "start_time": "2021-09-15T14:12:06.342Z"
   },
   {
    "duration": 38,
    "start_time": "2021-09-15T14:12:07.001Z"
   },
   {
    "duration": 22,
    "start_time": "2021-09-15T14:12:07.041Z"
   },
   {
    "duration": 381,
    "start_time": "2021-09-15T14:12:07.067Z"
   },
   {
    "duration": 14,
    "start_time": "2021-09-15T14:12:07.450Z"
   },
   {
    "duration": 762,
    "start_time": "2021-09-15T14:12:07.468Z"
   },
   {
    "duration": 30,
    "start_time": "2021-09-15T14:12:08.233Z"
   },
   {
    "duration": 18,
    "start_time": "2021-09-15T14:12:08.266Z"
   },
   {
    "duration": 10,
    "start_time": "2021-09-15T14:12:08.286Z"
   },
   {
    "duration": 21,
    "start_time": "2021-09-15T14:12:08.298Z"
   },
   {
    "duration": 818,
    "start_time": "2021-09-15T14:12:08.333Z"
   },
   {
    "duration": 4,
    "start_time": "2021-09-15T14:14:19.960Z"
   },
   {
    "duration": 630,
    "start_time": "2021-09-15T14:14:20.576Z"
   },
   {
    "duration": 5,
    "start_time": "2021-09-15T14:15:10.256Z"
   },
   {
    "duration": 404,
    "start_time": "2021-09-15T14:15:10.756Z"
   },
   {
    "duration": 7,
    "start_time": "2021-09-15T14:15:57.254Z"
   },
   {
    "duration": 4,
    "start_time": "2021-09-15T14:15:57.710Z"
   },
   {
    "duration": 1323,
    "start_time": "2021-09-15T14:15:58.247Z"
   },
   {
    "duration": 4,
    "start_time": "2021-09-15T14:16:19.609Z"
   },
   {
    "duration": 428,
    "start_time": "2021-09-15T14:28:59.900Z"
   },
   {
    "duration": 7,
    "start_time": "2021-09-15T14:29:05.606Z"
   },
   {
    "duration": 6,
    "start_time": "2021-09-15T14:29:42.583Z"
   },
   {
    "duration": 4,
    "start_time": "2021-09-15T14:29:43.324Z"
   },
   {
    "duration": 8,
    "start_time": "2021-09-15T14:29:43.995Z"
   },
   {
    "duration": 252,
    "start_time": "2021-09-15T14:29:45.974Z"
   },
   {
    "duration": 670,
    "start_time": "2021-09-15T14:29:46.962Z"
   },
   {
    "duration": 15,
    "start_time": "2021-09-15T14:33:58.690Z"
   },
   {
    "duration": 1312,
    "start_time": "2021-09-15T14:34:04.165Z"
   },
   {
    "duration": 16,
    "start_time": "2021-09-15T14:35:07.776Z"
   },
   {
    "duration": 600,
    "start_time": "2021-09-15T14:35:11.624Z"
   },
   {
    "duration": 635,
    "start_time": "2021-09-15T14:36:12.076Z"
   },
   {
    "duration": 625,
    "start_time": "2021-09-15T14:36:25.323Z"
   },
   {
    "duration": 5,
    "start_time": "2021-09-15T14:37:22.432Z"
   },
   {
    "duration": 8,
    "start_time": "2021-09-15T14:37:22.923Z"
   },
   {
    "duration": 241,
    "start_time": "2021-09-15T14:37:23.309Z"
   },
   {
    "duration": 649,
    "start_time": "2021-09-15T14:37:23.880Z"
   },
   {
    "duration": 6,
    "start_time": "2021-09-15T14:38:18.352Z"
   },
   {
    "duration": 15,
    "start_time": "2021-09-15T14:38:18.560Z"
   },
   {
    "duration": 256,
    "start_time": "2021-09-15T14:38:18.775Z"
   },
   {
    "duration": 611,
    "start_time": "2021-09-15T14:38:19.724Z"
   },
   {
    "duration": 4,
    "start_time": "2021-09-15T14:45:29.271Z"
   },
   {
    "duration": 538,
    "start_time": "2021-09-15T14:45:39.827Z"
   },
   {
    "duration": 4,
    "start_time": "2021-09-15T14:46:43.941Z"
   },
   {
    "duration": 704,
    "start_time": "2021-09-15T14:46:46.459Z"
   },
   {
    "duration": 7,
    "start_time": "2021-09-15T14:46:48.056Z"
   },
   {
    "duration": 21,
    "start_time": "2021-09-15T14:47:33.084Z"
   },
   {
    "duration": 24,
    "start_time": "2021-09-15T14:48:02.347Z"
   },
   {
    "duration": 30,
    "start_time": "2021-09-15T14:51:16.045Z"
   },
   {
    "duration": 23,
    "start_time": "2021-09-15T14:51:26.350Z"
   },
   {
    "duration": 24,
    "start_time": "2021-09-15T14:51:36.265Z"
   },
   {
    "duration": 18,
    "start_time": "2021-09-15T14:54:39.245Z"
   },
   {
    "duration": 792,
    "start_time": "2021-09-15T14:54:46.506Z"
   },
   {
    "duration": 4,
    "start_time": "2021-09-15T14:55:14.701Z"
   },
   {
    "duration": 495,
    "start_time": "2021-09-15T14:55:14.876Z"
   },
   {
    "duration": 19,
    "start_time": "2021-09-15T14:55:15.463Z"
   },
   {
    "duration": 36,
    "start_time": "2021-09-15T14:55:15.559Z"
   },
   {
    "duration": 20,
    "start_time": "2021-09-15T14:55:18.969Z"
   },
   {
    "duration": 4,
    "start_time": "2021-09-15T14:56:08.569Z"
   },
   {
    "duration": 344,
    "start_time": "2021-09-15T14:56:08.822Z"
   },
   {
    "duration": 85,
    "start_time": "2021-09-15T14:56:09.171Z"
   },
   {
    "duration": 27,
    "start_time": "2021-09-15T14:56:09.292Z"
   },
   {
    "duration": 20,
    "start_time": "2021-09-15T14:56:12.598Z"
   },
   {
    "duration": 26,
    "start_time": "2021-09-15T15:04:49.151Z"
   },
   {
    "duration": 223,
    "start_time": "2021-09-15T15:06:32.853Z"
   },
   {
    "duration": 3,
    "start_time": "2021-09-15T15:09:45.409Z"
   },
   {
    "duration": 644,
    "start_time": "2021-09-15T15:09:45.611Z"
   },
   {
    "duration": 10,
    "start_time": "2021-09-15T15:09:46.260Z"
   },
   {
    "duration": 21,
    "start_time": "2021-09-15T15:09:46.274Z"
   },
   {
    "duration": 18,
    "start_time": "2021-09-15T15:09:46.298Z"
   },
   {
    "duration": 217,
    "start_time": "2021-09-15T15:09:47.814Z"
   },
   {
    "duration": 25,
    "start_time": "2021-09-15T15:10:04.849Z"
   },
   {
    "duration": 12,
    "start_time": "2021-09-15T15:13:09.012Z"
   },
   {
    "duration": 19,
    "start_time": "2021-09-15T15:13:38.575Z"
   },
   {
    "duration": 393,
    "start_time": "2021-09-15T15:14:03.789Z"
   },
   {
    "duration": 16,
    "start_time": "2021-09-15T15:14:09.575Z"
   },
   {
    "duration": 2263,
    "start_time": "2021-09-15T15:15:13.478Z"
   },
   {
    "duration": 3,
    "start_time": "2021-09-15T15:15:15.744Z"
   },
   {
    "duration": 6,
    "start_time": "2021-09-15T15:15:15.761Z"
   },
   {
    "duration": 309,
    "start_time": "2021-09-15T15:15:15.771Z"
   },
   {
    "duration": 2222,
    "start_time": "2021-09-15T15:15:31.723Z"
   },
   {
    "duration": 8,
    "start_time": "2021-09-15T15:15:33.947Z"
   },
   {
    "duration": 20,
    "start_time": "2021-09-15T15:15:33.958Z"
   },
   {
    "duration": 189,
    "start_time": "2021-09-15T15:15:33.981Z"
   },
   {
    "duration": 36,
    "start_time": "2021-09-15T15:15:35.031Z"
   },
   {
    "duration": 29,
    "start_time": "2021-09-15T15:15:35.621Z"
   },
   {
    "duration": 21,
    "start_time": "2021-09-15T15:15:35.823Z"
   },
   {
    "duration": 28,
    "start_time": "2021-09-15T15:15:36.224Z"
   },
   {
    "duration": 23,
    "start_time": "2021-09-15T15:15:36.425Z"
   },
   {
    "duration": 16,
    "start_time": "2021-09-15T15:15:36.621Z"
   },
   {
    "duration": 126,
    "start_time": "2021-09-15T15:15:37.187Z"
   },
   {
    "duration": 13,
    "start_time": "2021-09-15T15:15:37.411Z"
   },
   {
    "duration": 21,
    "start_time": "2021-09-15T15:15:37.642Z"
   },
   {
    "duration": 25,
    "start_time": "2021-09-15T15:15:37.879Z"
   },
   {
    "duration": 6,
    "start_time": "2021-09-15T15:15:38.102Z"
   },
   {
    "duration": 16,
    "start_time": "2021-09-15T15:15:38.889Z"
   },
   {
    "duration": 6,
    "start_time": "2021-09-15T15:15:39.383Z"
   },
   {
    "duration": 6,
    "start_time": "2021-09-15T15:15:39.591Z"
   },
   {
    "duration": 114,
    "start_time": "2021-09-15T15:15:39.815Z"
   },
   {
    "duration": 6,
    "start_time": "2021-09-15T15:15:40.036Z"
   },
   {
    "duration": 3,
    "start_time": "2021-09-15T15:15:40.246Z"
   },
   {
    "duration": 448,
    "start_time": "2021-09-15T15:15:40.655Z"
   },
   {
    "duration": 6,
    "start_time": "2021-09-15T15:15:41.106Z"
   },
   {
    "duration": 74,
    "start_time": "2021-09-15T15:15:41.115Z"
   },
   {
    "duration": 23,
    "start_time": "2021-09-15T15:15:41.264Z"
   },
   {
    "duration": 17,
    "start_time": "2021-09-15T15:15:41.487Z"
   },
   {
    "duration": 10,
    "start_time": "2021-09-15T15:15:41.664Z"
   },
   {
    "duration": 12,
    "start_time": "2021-09-15T15:15:41.842Z"
   },
   {
    "duration": 1167,
    "start_time": "2021-09-15T15:15:42.080Z"
   },
   {
    "duration": 609,
    "start_time": "2021-09-15T15:15:43.257Z"
   },
   {
    "duration": 39,
    "start_time": "2021-09-15T15:15:43.869Z"
   },
   {
    "duration": 6,
    "start_time": "2021-09-15T15:15:43.911Z"
   },
   {
    "duration": 364,
    "start_time": "2021-09-15T15:15:44.042Z"
   },
   {
    "duration": 6,
    "start_time": "2021-09-15T15:15:44.409Z"
   },
   {
    "duration": 760,
    "start_time": "2021-09-15T15:15:44.418Z"
   },
   {
    "duration": 17,
    "start_time": "2021-09-15T15:15:45.181Z"
   },
   {
    "duration": 16,
    "start_time": "2021-09-15T15:15:45.201Z"
   },
   {
    "duration": 40,
    "start_time": "2021-09-15T15:15:45.219Z"
   },
   {
    "duration": 6,
    "start_time": "2021-09-15T15:15:46.349Z"
   },
   {
    "duration": 858,
    "start_time": "2021-09-15T15:15:46.582Z"
   },
   {
    "duration": 17,
    "start_time": "2021-09-15T15:15:47.444Z"
   },
   {
    "duration": 7,
    "start_time": "2021-09-15T15:15:47.704Z"
   },
   {
    "duration": 8,
    "start_time": "2021-09-15T15:15:48.129Z"
   },
   {
    "duration": 256,
    "start_time": "2021-09-15T15:15:48.382Z"
   },
   {
    "duration": 639,
    "start_time": "2021-09-15T15:15:57.995Z"
   },
   {
    "duration": 4,
    "start_time": "2021-09-15T15:16:47.517Z"
   },
   {
    "duration": 540,
    "start_time": "2021-09-15T15:16:48.317Z"
   },
   {
    "duration": 5,
    "start_time": "2021-09-15T15:16:50.091Z"
   },
   {
    "duration": 20,
    "start_time": "2021-09-15T15:16:50.617Z"
   },
   {
    "duration": 19,
    "start_time": "2021-09-15T15:17:30.305Z"
   },
   {
    "duration": 3,
    "start_time": "2021-09-15T15:18:06.105Z"
   },
   {
    "duration": 836,
    "start_time": "2021-09-15T15:18:06.321Z"
   },
   {
    "duration": 6,
    "start_time": "2021-09-15T15:18:07.161Z"
   },
   {
    "duration": 122,
    "start_time": "2021-09-15T15:18:07.171Z"
   },
   {
    "duration": 24,
    "start_time": "2021-09-15T15:18:07.296Z"
   },
   {
    "duration": 4,
    "start_time": "2021-09-15T15:18:17.118Z"
   },
   {
    "duration": 656,
    "start_time": "2021-09-15T15:18:17.309Z"
   },
   {
    "duration": 88,
    "start_time": "2021-09-15T15:18:17.969Z"
   },
   {
    "duration": 27,
    "start_time": "2021-09-15T15:18:18.062Z"
   },
   {
    "duration": 22,
    "start_time": "2021-09-15T15:18:18.092Z"
   },
   {
    "duration": 2089,
    "start_time": "2021-09-15T15:19:50.701Z"
   },
   {
    "duration": 4,
    "start_time": "2021-09-15T15:19:52.792Z"
   },
   {
    "duration": 20,
    "start_time": "2021-09-15T15:19:52.799Z"
   },
   {
    "duration": 266,
    "start_time": "2021-09-15T15:19:52.822Z"
   },
   {
    "duration": 32,
    "start_time": "2021-09-15T15:19:53.091Z"
   },
   {
    "duration": 46,
    "start_time": "2021-09-15T15:19:53.125Z"
   },
   {
    "duration": 19,
    "start_time": "2021-09-15T15:19:53.173Z"
   },
   {
    "duration": 27,
    "start_time": "2021-09-15T15:19:53.195Z"
   },
   {
    "duration": 28,
    "start_time": "2021-09-15T15:19:53.342Z"
   },
   {
    "duration": 15,
    "start_time": "2021-09-15T15:19:53.568Z"
   },
   {
    "duration": 132,
    "start_time": "2021-09-15T15:19:54.192Z"
   },
   {
    "duration": 15,
    "start_time": "2021-09-15T15:19:54.407Z"
   },
   {
    "duration": 20,
    "start_time": "2021-09-15T15:19:54.625Z"
   },
   {
    "duration": 28,
    "start_time": "2021-09-15T15:19:54.847Z"
   },
   {
    "duration": 5,
    "start_time": "2021-09-15T15:19:55.172Z"
   },
   {
    "duration": 19,
    "start_time": "2021-09-15T15:19:55.865Z"
   },
   {
    "duration": 7,
    "start_time": "2021-09-15T15:19:56.241Z"
   },
   {
    "duration": 8,
    "start_time": "2021-09-15T15:19:56.804Z"
   },
   {
    "duration": 136,
    "start_time": "2021-09-15T15:19:57.451Z"
   },
   {
    "duration": 5,
    "start_time": "2021-09-15T15:19:58.005Z"
   },
   {
    "duration": 3,
    "start_time": "2021-09-15T15:19:58.576Z"
   },
   {
    "duration": 2072,
    "start_time": "2021-09-15T15:20:14.507Z"
   },
   {
    "duration": 3,
    "start_time": "2021-09-15T15:20:16.582Z"
   },
   {
    "duration": 13,
    "start_time": "2021-09-15T15:20:16.591Z"
   },
   {
    "duration": 305,
    "start_time": "2021-09-15T15:20:16.606Z"
   },
   {
    "duration": 36,
    "start_time": "2021-09-15T15:20:16.914Z"
   },
   {
    "duration": 34,
    "start_time": "2021-09-15T15:20:16.952Z"
   },
   {
    "duration": 20,
    "start_time": "2021-09-15T15:20:16.991Z"
   },
   {
    "duration": 66,
    "start_time": "2021-09-15T15:20:17.016Z"
   },
   {
    "duration": 28,
    "start_time": "2021-09-15T15:20:17.085Z"
   },
   {
    "duration": 54,
    "start_time": "2021-09-15T15:20:17.117Z"
   },
   {
    "duration": 162,
    "start_time": "2021-09-15T15:20:17.174Z"
   },
   {
    "duration": 20,
    "start_time": "2021-09-15T15:20:17.338Z"
   },
   {
    "duration": 39,
    "start_time": "2021-09-15T15:20:17.361Z"
   },
   {
    "duration": 27,
    "start_time": "2021-09-15T15:20:17.403Z"
   },
   {
    "duration": 28,
    "start_time": "2021-09-15T15:20:17.433Z"
   },
   {
    "duration": 16,
    "start_time": "2021-09-15T15:20:19.720Z"
   },
   {
    "duration": 6,
    "start_time": "2021-09-15T15:20:20.606Z"
   },
   {
    "duration": 5,
    "start_time": "2021-09-15T15:20:21.097Z"
   },
   {
    "duration": 160,
    "start_time": "2021-09-15T15:20:22.045Z"
   },
   {
    "duration": 7,
    "start_time": "2021-09-15T15:20:22.293Z"
   },
   {
    "duration": 431,
    "start_time": "2021-09-15T15:20:22.772Z"
   },
   {
    "duration": 7,
    "start_time": "2021-09-15T15:20:23.264Z"
   },
   {
    "duration": 45,
    "start_time": "2021-09-15T15:20:23.495Z"
   },
   {
    "duration": 21,
    "start_time": "2021-09-15T15:20:23.725Z"
   },
   {
    "duration": 17,
    "start_time": "2021-09-15T15:20:23.942Z"
   },
   {
    "duration": 8,
    "start_time": "2021-09-15T15:20:24.819Z"
   },
   {
    "duration": 13,
    "start_time": "2021-09-15T15:20:26.146Z"
   },
   {
    "duration": 1107,
    "start_time": "2021-09-15T15:20:28.221Z"
   },
   {
    "duration": 379,
    "start_time": "2021-09-15T15:20:34.154Z"
   },
   {
    "duration": 46,
    "start_time": "2021-09-15T15:20:34.535Z"
   },
   {
    "duration": 6,
    "start_time": "2021-09-15T15:20:34.584Z"
   },
   {
    "duration": 363,
    "start_time": "2021-09-15T15:20:34.793Z"
   },
   {
    "duration": 8,
    "start_time": "2021-09-15T15:20:35.159Z"
   },
   {
    "duration": 767,
    "start_time": "2021-09-15T15:20:35.256Z"
   },
   {
    "duration": 39,
    "start_time": "2021-09-15T15:20:36.026Z"
   },
   {
    "duration": 21,
    "start_time": "2021-09-15T15:20:36.559Z"
   },
   {
    "duration": 5,
    "start_time": "2021-09-15T15:20:39.794Z"
   },
   {
    "duration": 7,
    "start_time": "2021-09-15T15:20:43.757Z"
   },
   {
    "duration": 949,
    "start_time": "2021-09-15T15:20:45.382Z"
   },
   {
    "duration": 8,
    "start_time": "2021-09-15T15:21:58.364Z"
   },
   {
    "duration": 1246,
    "start_time": "2021-09-15T15:22:28.450Z"
   },
   {
    "duration": 1475,
    "start_time": "2021-09-15T15:22:48.092Z"
   },
   {
    "duration": 4133,
    "start_time": "2021-09-15T15:23:29.939Z"
   },
   {
    "duration": 794,
    "start_time": "2021-09-15T15:26:06.110Z"
   },
   {
    "duration": 30,
    "start_time": "2021-09-15T15:29:15.497Z"
   },
   {
    "duration": 8,
    "start_time": "2021-09-15T15:29:20.935Z"
   },
   {
    "duration": 10,
    "start_time": "2021-09-15T15:29:21.363Z"
   },
   {
    "duration": 227,
    "start_time": "2021-09-15T15:29:22.066Z"
   },
   {
    "duration": 636,
    "start_time": "2021-09-15T15:29:23.553Z"
   },
   {
    "duration": 4,
    "start_time": "2021-09-15T15:29:41.011Z"
   },
   {
    "duration": 1141,
    "start_time": "2021-09-15T15:29:41.419Z"
   },
   {
    "duration": 7,
    "start_time": "2021-09-15T15:29:42.573Z"
   },
   {
    "duration": 23,
    "start_time": "2021-09-15T15:29:43.808Z"
   },
   {
    "duration": 4,
    "start_time": "2021-09-15T15:29:53.084Z"
   },
   {
    "duration": 846,
    "start_time": "2021-09-15T15:29:53.325Z"
   },
   {
    "duration": 3056,
    "start_time": "2021-09-15T15:30:05.811Z"
   },
   {
    "duration": 4,
    "start_time": "2021-09-15T15:30:08.870Z"
   },
   {
    "duration": 13,
    "start_time": "2021-09-15T15:30:08.877Z"
   },
   {
    "duration": 207,
    "start_time": "2021-09-15T15:30:08.892Z"
   },
   {
    "duration": 35,
    "start_time": "2021-09-15T15:30:09.105Z"
   },
   {
    "duration": 37,
    "start_time": "2021-09-15T15:30:09.143Z"
   },
   {
    "duration": 23,
    "start_time": "2021-09-15T15:30:09.183Z"
   },
   {
    "duration": 80,
    "start_time": "2021-09-15T15:30:09.209Z"
   },
   {
    "duration": 27,
    "start_time": "2021-09-15T15:30:09.292Z"
   },
   {
    "duration": 54,
    "start_time": "2021-09-15T15:30:09.323Z"
   },
   {
    "duration": 159,
    "start_time": "2021-09-15T15:30:09.380Z"
   },
   {
    "duration": 20,
    "start_time": "2021-09-15T15:30:09.541Z"
   },
   {
    "duration": 25,
    "start_time": "2021-09-15T15:30:09.564Z"
   },
   {
    "duration": 23,
    "start_time": "2021-09-15T15:30:09.592Z"
   },
   {
    "duration": 43,
    "start_time": "2021-09-15T15:30:09.618Z"
   },
   {
    "duration": 18,
    "start_time": "2021-09-15T15:30:09.673Z"
   },
   {
    "duration": 6,
    "start_time": "2021-09-15T15:30:10.092Z"
   },
   {
    "duration": 6,
    "start_time": "2021-09-15T15:30:10.291Z"
   },
   {
    "duration": 121,
    "start_time": "2021-09-15T15:30:10.491Z"
   },
   {
    "duration": 6,
    "start_time": "2021-09-15T15:30:10.692Z"
   },
   {
    "duration": 436,
    "start_time": "2021-09-15T15:30:11.077Z"
   },
   {
    "duration": 7,
    "start_time": "2021-09-15T15:30:11.516Z"
   },
   {
    "duration": 54,
    "start_time": "2021-09-15T15:30:11.763Z"
   },
   {
    "duration": 23,
    "start_time": "2021-09-15T15:30:11.985Z"
   },
   {
    "duration": 17,
    "start_time": "2021-09-15T15:30:12.187Z"
   },
   {
    "duration": 8,
    "start_time": "2021-09-15T15:30:12.381Z"
   },
   {
    "duration": 18,
    "start_time": "2021-09-15T15:30:12.618Z"
   },
   {
    "duration": 1168,
    "start_time": "2021-09-15T15:30:12.843Z"
   },
   {
    "duration": 654,
    "start_time": "2021-09-15T15:30:14.014Z"
   },
   {
    "duration": 43,
    "start_time": "2021-09-15T15:30:14.673Z"
   },
   {
    "duration": 8,
    "start_time": "2021-09-15T15:30:14.719Z"
   },
   {
    "duration": 427,
    "start_time": "2021-09-15T15:30:14.730Z"
   },
   {
    "duration": 9,
    "start_time": "2021-09-15T15:30:15.165Z"
   },
   {
    "duration": 811,
    "start_time": "2021-09-15T15:30:15.178Z"
   },
   {
    "duration": 16,
    "start_time": "2021-09-15T15:30:15.993Z"
   },
   {
    "duration": 16,
    "start_time": "2021-09-15T15:30:16.012Z"
   },
   {
    "duration": 30,
    "start_time": "2021-09-15T15:30:16.030Z"
   },
   {
    "duration": 6,
    "start_time": "2021-09-15T15:30:19.762Z"
   },
   {
    "duration": 1174,
    "start_time": "2021-09-15T15:30:19.945Z"
   },
   {
    "duration": 8,
    "start_time": "2021-09-15T15:30:21.123Z"
   },
   {
    "duration": 5148,
    "start_time": "2021-09-15T15:30:21.136Z"
   },
   {
    "duration": 16,
    "start_time": "2021-09-15T15:30:26.287Z"
   },
   {
    "duration": 6,
    "start_time": "2021-09-15T15:33:52.730Z"
   },
   {
    "duration": 10,
    "start_time": "2021-09-15T15:33:52.943Z"
   },
   {
    "duration": 202,
    "start_time": "2021-09-15T15:33:53.158Z"
   },
   {
    "duration": 788,
    "start_time": "2021-09-15T15:33:53.368Z"
   },
   {
    "duration": 4,
    "start_time": "2021-09-15T15:33:59.493Z"
   },
   {
    "duration": 903,
    "start_time": "2021-09-15T15:34:00.055Z"
   },
   {
    "duration": 5,
    "start_time": "2021-09-15T15:34:02.412Z"
   },
   {
    "duration": 22,
    "start_time": "2021-09-15T15:34:03.608Z"
   },
   {
    "duration": 22,
    "start_time": "2021-09-15T15:34:11.669Z"
   },
   {
    "duration": 3,
    "start_time": "2021-09-15T15:39:09.725Z"
   },
   {
    "duration": 5,
    "start_time": "2021-09-15T15:39:53.934Z"
   },
   {
    "duration": 7,
    "start_time": "2021-09-15T17:03:45.754Z"
   },
   {
    "duration": 6,
    "start_time": "2021-09-15T17:09:57.726Z"
   },
   {
    "duration": 6,
    "start_time": "2021-09-15T17:17:49.536Z"
   },
   {
    "duration": 5,
    "start_time": "2021-09-15T17:18:58.157Z"
   },
   {
    "duration": 5,
    "start_time": "2021-09-15T17:19:08.896Z"
   },
   {
    "duration": 123,
    "start_time": "2021-09-15T17:22:31.317Z"
   },
   {
    "duration": 619,
    "start_time": "2021-09-15T17:22:41.603Z"
   },
   {
    "duration": 436,
    "start_time": "2021-09-15T17:23:17.370Z"
   },
   {
    "duration": 32,
    "start_time": "2021-09-15T17:23:48.341Z"
   },
   {
    "duration": 14,
    "start_time": "2021-09-15T17:24:52.843Z"
   },
   {
    "duration": 14,
    "start_time": "2021-09-15T17:24:59.352Z"
   },
   {
    "duration": 14,
    "start_time": "2021-09-15T17:25:03.203Z"
   },
   {
    "duration": 13,
    "start_time": "2021-09-15T17:25:09.685Z"
   },
   {
    "duration": 6,
    "start_time": "2021-09-15T17:27:04.090Z"
   },
   {
    "duration": 360,
    "start_time": "2021-09-15T17:27:09.543Z"
   },
   {
    "duration": 357,
    "start_time": "2021-09-15T17:32:42.466Z"
   },
   {
    "duration": 365,
    "start_time": "2021-09-15T17:33:12.807Z"
   },
   {
    "duration": 362,
    "start_time": "2021-09-15T17:33:24.576Z"
   },
   {
    "duration": 512,
    "start_time": "2021-09-15T17:33:58.937Z"
   },
   {
    "duration": 380,
    "start_time": "2021-09-15T17:34:07.959Z"
   },
   {
    "duration": 402,
    "start_time": "2021-09-15T17:35:28.138Z"
   },
   {
    "duration": 386,
    "start_time": "2021-09-15T17:35:38.071Z"
   },
   {
    "duration": 378,
    "start_time": "2021-09-15T17:36:36.348Z"
   },
   {
    "duration": 553,
    "start_time": "2021-09-15T17:36:44.707Z"
   },
   {
    "duration": 23,
    "start_time": "2021-09-15T17:42:22.177Z"
   },
   {
    "duration": 25,
    "start_time": "2021-09-15T17:42:36.154Z"
   },
   {
    "duration": 428,
    "start_time": "2021-09-15T17:43:07.600Z"
   },
   {
    "duration": 383,
    "start_time": "2021-09-15T17:43:38.009Z"
   },
   {
    "duration": 480,
    "start_time": "2021-09-15T17:46:09.825Z"
   },
   {
    "duration": 26,
    "start_time": "2021-09-15T17:46:26.350Z"
   },
   {
    "duration": 28,
    "start_time": "2021-09-15T17:46:51.652Z"
   },
   {
    "duration": 129,
    "start_time": "2021-09-15T17:47:55.863Z"
   },
   {
    "duration": 79,
    "start_time": "2021-09-15T17:48:09.986Z"
   },
   {
    "duration": 77,
    "start_time": "2021-09-15T17:49:15.789Z"
   },
   {
    "duration": 76,
    "start_time": "2021-09-15T17:49:56.705Z"
   },
   {
    "duration": 76,
    "start_time": "2021-09-15T17:51:04.651Z"
   },
   {
    "duration": 80,
    "start_time": "2021-09-15T17:51:20.462Z"
   },
   {
    "duration": 6,
    "start_time": "2021-09-15T17:55:43.785Z"
   },
   {
    "duration": 6,
    "start_time": "2021-09-15T17:55:48.476Z"
   },
   {
    "duration": 80,
    "start_time": "2021-09-15T17:55:49.324Z"
   },
   {
    "duration": 6,
    "start_time": "2021-09-15T17:56:44.231Z"
   },
   {
    "duration": 6,
    "start_time": "2021-09-15T17:56:49.367Z"
   },
   {
    "duration": 65,
    "start_time": "2021-09-15T17:57:53.434Z"
   },
   {
    "duration": 432,
    "start_time": "2021-09-15T17:59:10.524Z"
   },
   {
    "duration": 77,
    "start_time": "2021-09-15T18:00:26.959Z"
   },
   {
    "duration": 53,
    "start_time": "2021-09-15T18:04:23.041Z"
   },
   {
    "duration": 54,
    "start_time": "2021-09-15T18:05:30.284Z"
   },
   {
    "duration": 53,
    "start_time": "2021-09-15T18:06:18.525Z"
   },
   {
    "duration": 52,
    "start_time": "2021-09-15T18:06:54.712Z"
   },
   {
    "duration": 52,
    "start_time": "2021-09-15T18:08:17.538Z"
   },
   {
    "duration": 51,
    "start_time": "2021-09-15T18:12:29.101Z"
   },
   {
    "duration": 62,
    "start_time": "2021-09-15T18:13:09.930Z"
   },
   {
    "duration": 53,
    "start_time": "2021-09-15T18:14:41.305Z"
   },
   {
    "duration": 51,
    "start_time": "2021-09-15T18:15:09.947Z"
   },
   {
    "duration": 4,
    "start_time": "2021-09-15T18:21:52.210Z"
   },
   {
    "duration": 7,
    "start_time": "2021-09-15T18:21:56.470Z"
   },
   {
    "duration": 50,
    "start_time": "2021-09-15T18:21:57.719Z"
   },
   {
    "duration": 51,
    "start_time": "2021-09-15T18:21:59.707Z"
   },
   {
    "duration": 51,
    "start_time": "2021-09-15T18:22:35.782Z"
   },
   {
    "duration": 52,
    "start_time": "2021-09-15T18:23:12.719Z"
   },
   {
    "duration": 5,
    "start_time": "2021-09-15T18:23:33.443Z"
   },
   {
    "duration": 6,
    "start_time": "2021-09-15T18:23:35.732Z"
   },
   {
    "duration": 53,
    "start_time": "2021-09-15T18:23:36.255Z"
   },
   {
    "duration": 4,
    "start_time": "2021-09-15T18:24:19.392Z"
   },
   {
    "duration": 7,
    "start_time": "2021-09-15T18:24:21.408Z"
   },
   {
    "duration": 57,
    "start_time": "2021-09-15T18:24:22.383Z"
   },
   {
    "duration": 594,
    "start_time": "2021-09-15T18:50:18.062Z"
   },
   {
    "duration": 679,
    "start_time": "2021-09-15T18:50:43.616Z"
   },
   {
    "duration": 2138,
    "start_time": "2021-09-15T18:56:28.244Z"
   },
   {
    "duration": 4,
    "start_time": "2021-09-15T18:56:30.384Z"
   },
   {
    "duration": 19,
    "start_time": "2021-09-15T18:56:30.390Z"
   },
   {
    "duration": 203,
    "start_time": "2021-09-15T18:56:30.412Z"
   },
   {
    "duration": 34,
    "start_time": "2021-09-15T18:56:30.618Z"
   },
   {
    "duration": 27,
    "start_time": "2021-09-15T18:56:30.936Z"
   },
   {
    "duration": 20,
    "start_time": "2021-09-15T18:56:31.296Z"
   },
   {
    "duration": 26,
    "start_time": "2021-09-15T18:56:31.712Z"
   },
   {
    "duration": 24,
    "start_time": "2021-09-15T18:56:31.908Z"
   },
   {
    "duration": 16,
    "start_time": "2021-09-15T18:56:32.098Z"
   },
   {
    "duration": 130,
    "start_time": "2021-09-15T18:56:32.696Z"
   },
   {
    "duration": 14,
    "start_time": "2021-09-15T18:56:32.890Z"
   },
   {
    "duration": 20,
    "start_time": "2021-09-15T18:56:33.089Z"
   },
   {
    "duration": 24,
    "start_time": "2021-09-15T18:56:33.300Z"
   },
   {
    "duration": 6,
    "start_time": "2021-09-15T18:56:33.484Z"
   },
   {
    "duration": 16,
    "start_time": "2021-09-15T18:56:34.092Z"
   },
   {
    "duration": 7,
    "start_time": "2021-09-15T18:56:34.509Z"
   },
   {
    "duration": 6,
    "start_time": "2021-09-15T18:56:34.716Z"
   },
   {
    "duration": 111,
    "start_time": "2021-09-15T18:56:34.909Z"
   },
   {
    "duration": 5,
    "start_time": "2021-09-15T18:56:35.110Z"
   },
   {
    "duration": 414,
    "start_time": "2021-09-15T18:56:35.548Z"
   },
   {
    "duration": 7,
    "start_time": "2021-09-15T18:56:35.964Z"
   },
   {
    "duration": 53,
    "start_time": "2021-09-15T18:56:35.973Z"
   },
   {
    "duration": 22,
    "start_time": "2021-09-15T18:56:36.158Z"
   },
   {
    "duration": 17,
    "start_time": "2021-09-15T18:56:36.358Z"
   },
   {
    "duration": 8,
    "start_time": "2021-09-15T18:56:36.550Z"
   },
   {
    "duration": 13,
    "start_time": "2021-09-15T18:56:36.781Z"
   },
   {
    "duration": 1064,
    "start_time": "2021-09-15T18:56:36.998Z"
   },
   {
    "duration": 611,
    "start_time": "2021-09-15T18:56:38.065Z"
   },
   {
    "duration": 544,
    "start_time": "2021-09-15T18:56:52.816Z"
   },
   {
    "duration": 345,
    "start_time": "2021-09-15T18:57:07.742Z"
   },
   {
    "duration": 38,
    "start_time": "2021-09-15T18:57:08.090Z"
   },
   {
    "duration": 6,
    "start_time": "2021-09-15T18:57:08.132Z"
   },
   {
    "duration": 373,
    "start_time": "2021-09-15T18:57:08.157Z"
   },
   {
    "duration": 7,
    "start_time": "2021-09-15T18:57:08.532Z"
   },
   {
    "duration": 835,
    "start_time": "2021-09-15T18:57:08.542Z"
   },
   {
    "duration": 16,
    "start_time": "2021-09-15T18:57:09.380Z"
   },
   {
    "duration": 15,
    "start_time": "2021-09-15T18:57:09.398Z"
   },
   {
    "duration": 42,
    "start_time": "2021-09-15T18:57:09.418Z"
   },
   {
    "duration": 7,
    "start_time": "2021-09-15T18:57:09.462Z"
   },
   {
    "duration": 904,
    "start_time": "2021-09-15T18:57:09.471Z"
   },
   {
    "duration": 7,
    "start_time": "2021-09-15T18:57:10.377Z"
   },
   {
    "duration": 4149,
    "start_time": "2021-09-15T18:57:10.388Z"
   },
   {
    "duration": 28,
    "start_time": "2021-09-15T18:57:14.540Z"
   },
   {
    "duration": 5,
    "start_time": "2021-09-15T18:57:14.572Z"
   },
   {
    "duration": 10,
    "start_time": "2021-09-15T18:57:14.580Z"
   },
   {
    "duration": 183,
    "start_time": "2021-09-15T18:57:14.592Z"
   },
   {
    "duration": 653,
    "start_time": "2021-09-15T18:57:14.778Z"
   },
   {
    "duration": 4,
    "start_time": "2021-09-15T18:57:15.433Z"
   },
   {
    "duration": 727,
    "start_time": "2021-09-15T18:57:15.439Z"
   },
   {
    "duration": 90,
    "start_time": "2021-09-15T18:57:16.169Z"
   },
   {
    "duration": 24,
    "start_time": "2021-09-15T18:57:16.261Z"
   },
   {
    "duration": 19,
    "start_time": "2021-09-15T18:57:16.287Z"
   },
   {
    "duration": 6,
    "start_time": "2021-09-15T18:57:16.308Z"
   },
   {
    "duration": 39,
    "start_time": "2021-09-15T18:57:16.318Z"
   },
   {
    "duration": 50,
    "start_time": "2021-09-15T18:57:16.360Z"
   },
   {
    "duration": 8,
    "start_time": "2021-09-15T18:57:27.754Z"
   },
   {
    "duration": 75,
    "start_time": "2021-09-15T18:57:30.801Z"
   },
   {
    "duration": 65,
    "start_time": "2021-09-15T18:57:32.023Z"
   },
   {
    "duration": 2102,
    "start_time": "2021-09-15T18:57:45.425Z"
   },
   {
    "duration": 4,
    "start_time": "2021-09-15T18:57:47.529Z"
   },
   {
    "duration": 11,
    "start_time": "2021-09-15T18:57:47.539Z"
   },
   {
    "duration": 156,
    "start_time": "2021-09-15T18:57:47.553Z"
   },
   {
    "duration": 33,
    "start_time": "2021-09-15T18:57:48.819Z"
   },
   {
    "duration": 35,
    "start_time": "2021-09-15T18:57:48.856Z"
   },
   {
    "duration": 22,
    "start_time": "2021-09-15T18:57:48.895Z"
   },
   {
    "duration": 31,
    "start_time": "2021-09-15T18:57:48.955Z"
   },
   {
    "duration": 27,
    "start_time": "2021-09-15T18:57:48.989Z"
   },
   {
    "duration": 52,
    "start_time": "2021-09-15T18:57:49.019Z"
   },
   {
    "duration": 164,
    "start_time": "2021-09-15T18:57:49.074Z"
   },
   {
    "duration": 26,
    "start_time": "2021-09-15T18:57:49.242Z"
   },
   {
    "duration": 23,
    "start_time": "2021-09-15T18:57:49.271Z"
   },
   {
    "duration": 62,
    "start_time": "2021-09-15T18:57:49.297Z"
   },
   {
    "duration": 6,
    "start_time": "2021-09-15T18:57:49.362Z"
   },
   {
    "duration": 17,
    "start_time": "2021-09-15T18:57:49.782Z"
   },
   {
    "duration": 7,
    "start_time": "2021-09-15T18:57:50.269Z"
   },
   {
    "duration": 6,
    "start_time": "2021-09-15T18:57:50.484Z"
   },
   {
    "duration": 113,
    "start_time": "2021-09-15T18:57:50.699Z"
   },
   {
    "duration": 6,
    "start_time": "2021-09-15T18:57:50.914Z"
   },
   {
    "duration": 407,
    "start_time": "2021-09-15T18:57:51.355Z"
   },
   {
    "duration": 8,
    "start_time": "2021-09-15T18:57:51.765Z"
   },
   {
    "duration": 48,
    "start_time": "2021-09-15T18:57:51.795Z"
   },
   {
    "duration": 22,
    "start_time": "2021-09-15T18:57:52.003Z"
   },
   {
    "duration": 16,
    "start_time": "2021-09-15T18:57:52.194Z"
   },
   {
    "duration": 10,
    "start_time": "2021-09-15T18:57:52.957Z"
   },
   {
    "duration": 13,
    "start_time": "2021-09-15T18:57:53.488Z"
   },
   {
    "duration": 1068,
    "start_time": "2021-09-15T18:57:53.759Z"
   },
   {
    "duration": 405,
    "start_time": "2021-09-15T18:57:58.335Z"
   },
   {
    "duration": 344,
    "start_time": "2021-09-15T18:58:02.126Z"
   },
   {
    "duration": 38,
    "start_time": "2021-09-15T18:58:02.720Z"
   },
   {
    "duration": 6,
    "start_time": "2021-09-15T18:58:03.305Z"
   },
   {
    "duration": 497,
    "start_time": "2021-09-15T18:58:03.852Z"
   },
   {
    "duration": 7,
    "start_time": "2021-09-15T18:58:04.484Z"
   },
   {
    "duration": 800,
    "start_time": "2021-09-15T18:58:05.008Z"
   },
   {
    "duration": 16,
    "start_time": "2021-09-15T18:58:05.810Z"
   },
   {
    "duration": 16,
    "start_time": "2021-09-15T18:58:05.924Z"
   },
   {
    "duration": 5,
    "start_time": "2021-09-15T18:58:09.684Z"
   },
   {
    "duration": 5,
    "start_time": "2021-09-15T18:58:11.310Z"
   },
   {
    "duration": 797,
    "start_time": "2021-09-15T18:58:12.043Z"
   },
   {
    "duration": 15,
    "start_time": "2021-09-15T18:58:12.843Z"
   },
   {
    "duration": 3247,
    "start_time": "2021-09-15T18:58:12.870Z"
   },
   {
    "duration": 37,
    "start_time": "2021-09-15T18:58:16.119Z"
   },
   {
    "duration": 5,
    "start_time": "2021-09-15T18:58:16.159Z"
   },
   {
    "duration": 10,
    "start_time": "2021-09-15T18:58:16.166Z"
   },
   {
    "duration": 187,
    "start_time": "2021-09-15T18:58:16.178Z"
   },
   {
    "duration": 1040,
    "start_time": "2021-09-15T18:58:16.367Z"
   },
   {
    "duration": 5,
    "start_time": "2021-09-15T18:58:17.410Z"
   },
   {
    "duration": 810,
    "start_time": "2021-09-15T18:58:17.557Z"
   },
   {
    "duration": 5,
    "start_time": "2021-09-15T18:58:18.455Z"
   },
   {
    "duration": 25,
    "start_time": "2021-09-15T18:58:18.463Z"
   },
   {
    "duration": 19,
    "start_time": "2021-09-15T18:58:18.591Z"
   },
   {
    "duration": 5,
    "start_time": "2021-09-15T18:58:22.174Z"
   },
   {
    "duration": 7,
    "start_time": "2021-09-15T18:58:22.766Z"
   },
   {
    "duration": 55,
    "start_time": "2021-09-15T18:58:23.061Z"
   },
   {
    "duration": 53,
    "start_time": "2021-09-15T18:58:24.238Z"
   },
   {
    "duration": 407,
    "start_time": "2021-09-15T19:24:51.750Z"
   },
   {
    "duration": 408,
    "start_time": "2021-09-15T19:25:13.484Z"
   },
   {
    "duration": 607,
    "start_time": "2021-09-15T19:50:20.746Z"
   },
   {
    "duration": 568,
    "start_time": "2021-09-15T19:50:38.255Z"
   },
   {
    "duration": 411,
    "start_time": "2021-09-15T19:51:37.464Z"
   },
   {
    "duration": 605,
    "start_time": "2021-09-15T19:52:21.310Z"
   },
   {
    "duration": 3449,
    "start_time": "2021-09-15T19:54:33.687Z"
   },
   {
    "duration": 3901,
    "start_time": "2021-09-15T19:54:48.206Z"
   },
   {
    "duration": 2078,
    "start_time": "2021-09-15T19:55:23.358Z"
   },
   {
    "duration": 5,
    "start_time": "2021-09-15T19:55:25.457Z"
   },
   {
    "duration": 14,
    "start_time": "2021-09-15T19:55:25.465Z"
   },
   {
    "duration": 206,
    "start_time": "2021-09-15T19:55:25.482Z"
   },
   {
    "duration": 37,
    "start_time": "2021-09-15T19:55:25.691Z"
   },
   {
    "duration": 47,
    "start_time": "2021-09-15T19:55:25.731Z"
   },
   {
    "duration": 23,
    "start_time": "2021-09-15T19:55:25.781Z"
   },
   {
    "duration": 67,
    "start_time": "2021-09-15T19:55:25.807Z"
   },
   {
    "duration": 24,
    "start_time": "2021-09-15T19:55:25.917Z"
   },
   {
    "duration": 16,
    "start_time": "2021-09-15T19:55:26.103Z"
   },
   {
    "duration": 117,
    "start_time": "2021-09-15T19:55:26.716Z"
   },
   {
    "duration": 13,
    "start_time": "2021-09-15T19:55:26.907Z"
   },
   {
    "duration": 19,
    "start_time": "2021-09-15T19:55:27.110Z"
   },
   {
    "duration": 23,
    "start_time": "2021-09-15T19:55:27.326Z"
   },
   {
    "duration": 5,
    "start_time": "2021-09-15T19:55:27.526Z"
   },
   {
    "duration": 15,
    "start_time": "2021-09-15T19:55:28.091Z"
   },
   {
    "duration": 6,
    "start_time": "2021-09-15T19:55:28.458Z"
   },
   {
    "duration": 6,
    "start_time": "2021-09-15T19:55:28.821Z"
   },
   {
    "duration": 108,
    "start_time": "2021-09-15T19:55:29.066Z"
   },
   {
    "duration": 5,
    "start_time": "2021-09-15T19:55:29.799Z"
   },
   {
    "duration": 390,
    "start_time": "2021-09-15T19:55:30.575Z"
   },
   {
    "duration": 7,
    "start_time": "2021-09-15T19:55:31.020Z"
   },
   {
    "duration": 50,
    "start_time": "2021-09-15T19:55:31.262Z"
   },
   {
    "duration": 23,
    "start_time": "2021-09-15T19:55:31.455Z"
   },
   {
    "duration": 16,
    "start_time": "2021-09-15T19:55:32.595Z"
   },
   {
    "duration": 9,
    "start_time": "2021-09-15T19:55:32.894Z"
   },
   {
    "duration": 14,
    "start_time": "2021-09-15T19:55:33.311Z"
   },
   {
    "duration": 1118,
    "start_time": "2021-09-15T19:55:36.140Z"
   },
   {
    "duration": 404,
    "start_time": "2021-09-15T19:55:41.631Z"
   },
   {
    "duration": 550,
    "start_time": "2021-09-15T19:55:44.281Z"
   },
   {
    "duration": 416,
    "start_time": "2021-09-15T19:56:17.855Z"
   },
   {
    "duration": 1208,
    "start_time": "2021-09-15T19:56:51.461Z"
   },
   {
    "duration": 410,
    "start_time": "2021-09-15T19:57:04.233Z"
   },
   {
    "duration": 567,
    "start_time": "2021-09-15T19:57:45.968Z"
   },
   {
    "duration": 132,
    "start_time": "2021-09-15T19:58:37.289Z"
   },
   {
    "duration": 25,
    "start_time": "2021-09-15T19:58:45.784Z"
   },
   {
    "duration": 405,
    "start_time": "2021-09-15T19:59:36.018Z"
   },
   {
    "duration": 2105,
    "start_time": "2021-09-15T20:00:23.048Z"
   },
   {
    "duration": 5,
    "start_time": "2021-09-15T20:00:25.156Z"
   },
   {
    "duration": 11,
    "start_time": "2021-09-15T20:00:25.166Z"
   },
   {
    "duration": 182,
    "start_time": "2021-09-15T20:00:25.181Z"
   },
   {
    "duration": 33,
    "start_time": "2021-09-15T20:00:25.366Z"
   },
   {
    "duration": 25,
    "start_time": "2021-09-15T20:00:25.402Z"
   },
   {
    "duration": 21,
    "start_time": "2021-09-15T20:00:25.456Z"
   },
   {
    "duration": 29,
    "start_time": "2021-09-15T20:00:25.484Z"
   },
   {
    "duration": 62,
    "start_time": "2021-09-15T20:00:25.515Z"
   },
   {
    "duration": 14,
    "start_time": "2021-09-15T20:00:25.579Z"
   },
   {
    "duration": 166,
    "start_time": "2021-09-15T20:00:25.595Z"
   },
   {
    "duration": 17,
    "start_time": "2021-09-15T20:00:25.764Z"
   },
   {
    "duration": 31,
    "start_time": "2021-09-15T20:00:25.784Z"
   },
   {
    "duration": 68,
    "start_time": "2021-09-15T20:00:25.817Z"
   },
   {
    "duration": 4,
    "start_time": "2021-09-15T20:00:25.888Z"
   },
   {
    "duration": 15,
    "start_time": "2021-09-15T20:00:25.895Z"
   },
   {
    "duration": 6,
    "start_time": "2021-09-15T20:00:26.223Z"
   },
   {
    "duration": 6,
    "start_time": "2021-09-15T20:00:26.444Z"
   },
   {
    "duration": 113,
    "start_time": "2021-09-15T20:00:26.660Z"
   },
   {
    "duration": 5,
    "start_time": "2021-09-15T20:00:26.859Z"
   },
   {
    "duration": 397,
    "start_time": "2021-09-15T20:00:27.268Z"
   },
   {
    "duration": 7,
    "start_time": "2021-09-15T20:00:27.667Z"
   },
   {
    "duration": 51,
    "start_time": "2021-09-15T20:00:27.679Z"
   },
   {
    "duration": 21,
    "start_time": "2021-09-15T20:00:27.892Z"
   },
   {
    "duration": 17,
    "start_time": "2021-09-15T20:00:28.130Z"
   },
   {
    "duration": 9,
    "start_time": "2021-09-15T20:00:28.360Z"
   },
   {
    "duration": 12,
    "start_time": "2021-09-15T20:00:28.569Z"
   },
   {
    "duration": 1064,
    "start_time": "2021-09-15T20:00:28.778Z"
   },
   {
    "duration": 612,
    "start_time": "2021-09-15T20:00:29.857Z"
   },
   {
    "duration": 581,
    "start_time": "2021-09-15T20:00:30.472Z"
   },
   {
    "duration": 351,
    "start_time": "2021-09-15T20:00:31.057Z"
   },
   {
    "duration": 48,
    "start_time": "2021-09-15T20:00:31.410Z"
   },
   {
    "duration": 6,
    "start_time": "2021-09-15T20:00:31.460Z"
   },
   {
    "duration": 367,
    "start_time": "2021-09-15T20:00:31.469Z"
   },
   {
    "duration": 7,
    "start_time": "2021-09-15T20:00:31.838Z"
   },
   {
    "duration": 792,
    "start_time": "2021-09-15T20:00:31.847Z"
   },
   {
    "duration": 22,
    "start_time": "2021-09-15T20:00:32.642Z"
   },
   {
    "duration": 19,
    "start_time": "2021-09-15T20:00:32.666Z"
   },
   {
    "duration": 19,
    "start_time": "2021-09-15T20:00:32.689Z"
   },
   {
    "duration": 12,
    "start_time": "2021-09-15T20:00:32.710Z"
   },
   {
    "duration": 851,
    "start_time": "2021-09-15T20:00:32.724Z"
   },
   {
    "duration": 6,
    "start_time": "2021-09-15T20:00:33.578Z"
   },
   {
    "duration": 3419,
    "start_time": "2021-09-15T20:00:33.587Z"
   },
   {
    "duration": 16,
    "start_time": "2021-09-15T20:00:37.009Z"
   },
   {
    "duration": 29,
    "start_time": "2021-09-15T20:00:37.027Z"
   },
   {
    "duration": 10,
    "start_time": "2021-09-15T20:00:37.058Z"
   },
   {
    "duration": 167,
    "start_time": "2021-09-15T20:00:37.070Z"
   },
   {
    "duration": 594,
    "start_time": "2021-09-15T20:00:37.240Z"
   },
   {
    "duration": 4,
    "start_time": "2021-09-15T20:00:37.836Z"
   },
   {
    "duration": 1014,
    "start_time": "2021-09-15T20:00:37.842Z"
   },
   {
    "duration": 96,
    "start_time": "2021-09-15T20:00:38.860Z"
   },
   {
    "duration": 30,
    "start_time": "2021-09-15T20:00:38.959Z"
   },
   {
    "duration": 20,
    "start_time": "2021-09-15T20:00:38.992Z"
   },
   {
    "duration": 40,
    "start_time": "2021-09-15T20:00:39.016Z"
   },
   {
    "duration": 14,
    "start_time": "2021-09-15T20:00:39.058Z"
   },
   {
    "duration": 52,
    "start_time": "2021-09-15T20:00:39.075Z"
   },
   {
    "duration": 72,
    "start_time": "2021-09-15T20:00:39.130Z"
   },
   {
    "duration": 2138,
    "start_time": "2021-09-15T20:24:34.383Z"
   },
   {
    "duration": 3,
    "start_time": "2021-09-15T20:24:36.524Z"
   },
   {
    "duration": 6,
    "start_time": "2021-09-15T20:24:36.530Z"
   },
   {
    "duration": 185,
    "start_time": "2021-09-15T20:24:36.555Z"
   },
   {
    "duration": 33,
    "start_time": "2021-09-15T20:24:36.742Z"
   },
   {
    "duration": 25,
    "start_time": "2021-09-15T20:24:36.777Z"
   },
   {
    "duration": 19,
    "start_time": "2021-09-15T20:24:36.804Z"
   },
   {
    "duration": 29,
    "start_time": "2021-09-15T20:24:37.092Z"
   },
   {
    "duration": 24,
    "start_time": "2021-09-15T20:24:37.283Z"
   },
   {
    "duration": 15,
    "start_time": "2021-09-15T20:24:37.468Z"
   },
   {
    "duration": 126,
    "start_time": "2021-09-15T20:24:38.054Z"
   },
   {
    "duration": 14,
    "start_time": "2021-09-15T20:24:38.262Z"
   },
   {
    "duration": 19,
    "start_time": "2021-09-15T20:24:38.469Z"
   },
   {
    "duration": 23,
    "start_time": "2021-09-15T20:24:38.677Z"
   },
   {
    "duration": 5,
    "start_time": "2021-09-15T20:24:38.877Z"
   },
   {
    "duration": 16,
    "start_time": "2021-09-15T20:24:39.519Z"
   },
   {
    "duration": 6,
    "start_time": "2021-09-15T20:24:39.967Z"
   },
   {
    "duration": 6,
    "start_time": "2021-09-15T20:24:40.171Z"
   },
   {
    "duration": 168,
    "start_time": "2021-09-15T20:24:40.377Z"
   },
   {
    "duration": 7,
    "start_time": "2021-09-15T20:24:40.578Z"
   },
   {
    "duration": 708,
    "start_time": "2021-09-15T20:24:41.025Z"
   },
   {
    "duration": 10,
    "start_time": "2021-09-15T20:24:41.736Z"
   },
   {
    "duration": 79,
    "start_time": "2021-09-15T20:24:41.749Z"
   },
   {
    "duration": 51,
    "start_time": "2021-09-15T20:24:41.832Z"
   },
   {
    "duration": 24,
    "start_time": "2021-09-15T20:24:41.886Z"
   },
   {
    "duration": 10,
    "start_time": "2021-09-15T20:24:42.058Z"
   },
   {
    "duration": 13,
    "start_time": "2021-09-15T20:24:42.257Z"
   },
   {
    "duration": 1071,
    "start_time": "2021-09-15T20:24:42.475Z"
   },
   {
    "duration": 727,
    "start_time": "2021-09-15T20:24:43.557Z"
   },
   {
    "duration": 591,
    "start_time": "2021-09-15T20:24:44.287Z"
   },
   {
    "duration": 366,
    "start_time": "2021-09-15T20:24:44.881Z"
   },
   {
    "duration": 43,
    "start_time": "2021-09-15T20:24:45.249Z"
   },
   {
    "duration": 18,
    "start_time": "2021-09-15T20:24:45.294Z"
   },
   {
    "duration": 366,
    "start_time": "2021-09-15T20:24:45.314Z"
   },
   {
    "duration": 6,
    "start_time": "2021-09-15T20:24:45.683Z"
   },
   {
    "duration": 725,
    "start_time": "2021-09-15T20:24:45.692Z"
   },
   {
    "duration": 15,
    "start_time": "2021-09-15T20:24:46.420Z"
   },
   {
    "duration": 33,
    "start_time": "2021-09-15T20:24:46.438Z"
   },
   {
    "duration": 22,
    "start_time": "2021-09-15T20:24:46.473Z"
   },
   {
    "duration": 27,
    "start_time": "2021-09-15T20:24:46.498Z"
   },
   {
    "duration": 886,
    "start_time": "2021-09-15T20:24:46.527Z"
   },
   {
    "duration": 6,
    "start_time": "2021-09-15T20:24:47.416Z"
   },
   {
    "duration": 3471,
    "start_time": "2021-09-15T20:24:47.424Z"
   },
   {
    "duration": 16,
    "start_time": "2021-09-15T20:24:50.898Z"
   },
   {
    "duration": 7,
    "start_time": "2021-09-15T20:24:50.917Z"
   },
   {
    "duration": 34,
    "start_time": "2021-09-15T20:24:50.927Z"
   },
   {
    "duration": 175,
    "start_time": "2021-09-15T20:24:50.964Z"
   },
   {
    "duration": 588,
    "start_time": "2021-09-15T20:24:51.142Z"
   },
   {
    "duration": 3,
    "start_time": "2021-09-15T20:24:51.733Z"
   },
   {
    "duration": 926,
    "start_time": "2021-09-15T20:24:51.738Z"
   },
   {
    "duration": 4,
    "start_time": "2021-09-15T20:24:52.757Z"
   },
   {
    "duration": 29,
    "start_time": "2021-09-15T20:24:52.763Z"
   },
   {
    "duration": 20,
    "start_time": "2021-09-15T20:24:52.794Z"
   },
   {
    "duration": 4,
    "start_time": "2021-09-15T20:24:52.859Z"
   },
   {
    "duration": 11,
    "start_time": "2021-09-15T20:24:52.866Z"
   },
   {
    "duration": 94,
    "start_time": "2021-09-15T20:24:52.879Z"
   },
   {
    "duration": 81,
    "start_time": "2021-09-15T20:24:52.976Z"
   },
   {
    "duration": 2052,
    "start_time": "2021-09-17T09:41:52.873Z"
   },
   {
    "duration": 3,
    "start_time": "2021-09-17T09:41:54.928Z"
   },
   {
    "duration": 11,
    "start_time": "2021-09-17T09:41:54.934Z"
   },
   {
    "duration": 39,
    "start_time": "2021-09-17T09:41:54.948Z"
   },
   {
    "duration": 34,
    "start_time": "2021-09-17T09:41:54.989Z"
   },
   {
    "duration": 27,
    "start_time": "2021-09-17T09:41:55.026Z"
   },
   {
    "duration": 20,
    "start_time": "2021-09-17T09:41:55.084Z"
   },
   {
    "duration": 31,
    "start_time": "2021-09-17T09:41:55.106Z"
   },
   {
    "duration": 51,
    "start_time": "2021-09-17T09:41:55.141Z"
   },
   {
    "duration": 14,
    "start_time": "2021-09-17T09:41:55.195Z"
   },
   {
    "duration": 142,
    "start_time": "2021-09-17T09:41:55.211Z"
   },
   {
    "duration": 13,
    "start_time": "2021-09-17T09:41:55.355Z"
   },
   {
    "duration": 20,
    "start_time": "2021-09-17T09:41:55.382Z"
   },
   {
    "duration": 22,
    "start_time": "2021-09-17T09:41:55.404Z"
   },
   {
    "duration": 4,
    "start_time": "2021-09-17T09:41:55.429Z"
   },
   {
    "duration": 49,
    "start_time": "2021-09-17T09:41:55.435Z"
   },
   {
    "duration": 14,
    "start_time": "2021-09-17T09:41:55.486Z"
   },
   {
    "duration": 11,
    "start_time": "2021-09-17T09:41:55.502Z"
   },
   {
    "duration": 126,
    "start_time": "2021-09-17T09:41:55.516Z"
   },
   {
    "duration": 5,
    "start_time": "2021-09-17T09:41:55.644Z"
   },
   {
    "duration": 423,
    "start_time": "2021-09-17T09:41:55.651Z"
   },
   {
    "duration": 8,
    "start_time": "2021-09-17T09:41:56.076Z"
   },
   {
    "duration": 57,
    "start_time": "2021-09-17T09:41:56.087Z"
   },
   {
    "duration": 40,
    "start_time": "2021-09-17T09:41:56.146Z"
   },
   {
    "duration": 18,
    "start_time": "2021-09-17T09:41:56.189Z"
   },
   {
    "duration": 14,
    "start_time": "2021-09-17T09:41:56.209Z"
   },
   {
    "duration": 20,
    "start_time": "2021-09-17T09:41:56.228Z"
   },
   {
    "duration": 1083,
    "start_time": "2021-09-17T09:41:56.252Z"
   },
   {
    "duration": 690,
    "start_time": "2021-09-17T09:41:57.338Z"
   },
   {
    "duration": 546,
    "start_time": "2021-09-17T09:41:58.030Z"
   },
   {
    "duration": 360,
    "start_time": "2021-09-17T09:41:58.578Z"
   },
   {
    "duration": 45,
    "start_time": "2021-09-17T09:41:58.941Z"
   },
   {
    "duration": 6,
    "start_time": "2021-09-17T09:41:58.988Z"
   },
   {
    "duration": 358,
    "start_time": "2021-09-17T09:41:58.996Z"
   },
   {
    "duration": 7,
    "start_time": "2021-09-17T09:41:59.356Z"
   },
   {
    "duration": 777,
    "start_time": "2021-09-17T09:41:59.365Z"
   },
   {
    "duration": 15,
    "start_time": "2021-09-17T09:42:00.145Z"
   },
   {
    "duration": 42,
    "start_time": "2021-09-17T09:42:00.163Z"
   },
   {
    "duration": 28,
    "start_time": "2021-09-17T09:42:00.207Z"
   },
   {
    "duration": 28,
    "start_time": "2021-09-17T09:42:00.238Z"
   },
   {
    "duration": 850,
    "start_time": "2021-09-17T09:42:00.268Z"
   },
   {
    "duration": 6,
    "start_time": "2021-09-17T09:42:01.121Z"
   },
   {
    "duration": 3449,
    "start_time": "2021-09-17T09:42:01.129Z"
   },
   {
    "duration": 21,
    "start_time": "2021-09-17T09:42:04.583Z"
   },
   {
    "duration": 10,
    "start_time": "2021-09-17T09:42:04.606Z"
   },
   {
    "duration": 20,
    "start_time": "2021-09-17T09:42:04.618Z"
   },
   {
    "duration": 141,
    "start_time": "2021-09-17T09:42:04.641Z"
   },
   {
    "duration": 619,
    "start_time": "2021-09-17T09:42:04.784Z"
   },
   {
    "duration": 4,
    "start_time": "2021-09-17T09:42:05.405Z"
   },
   {
    "duration": 974,
    "start_time": "2021-09-17T09:42:05.411Z"
   },
   {
    "duration": 94,
    "start_time": "2021-09-17T09:42:06.388Z"
   },
   {
    "duration": 24,
    "start_time": "2021-09-17T09:42:06.485Z"
   },
   {
    "duration": 19,
    "start_time": "2021-09-17T09:42:06.512Z"
   },
   {
    "duration": 7,
    "start_time": "2021-09-17T09:42:06.534Z"
   },
   {
    "duration": 38,
    "start_time": "2021-09-17T09:42:06.544Z"
   },
   {
    "duration": 45,
    "start_time": "2021-09-17T09:42:06.584Z"
   },
   {
    "duration": 644,
    "start_time": "2021-09-17T09:42:06.631Z"
   },
   {
    "duration": 17,
    "start_time": "2021-09-17T09:46:39.948Z"
   },
   {
    "duration": 18,
    "start_time": "2021-09-17T09:46:55.470Z"
   },
   {
    "duration": 2147,
    "start_time": "2021-09-17T10:01:05.134Z"
   },
   {
    "duration": 5,
    "start_time": "2021-09-17T10:01:07.284Z"
   },
   {
    "duration": 23,
    "start_time": "2021-09-17T10:01:07.293Z"
   },
   {
    "duration": 61,
    "start_time": "2021-09-17T10:01:07.319Z"
   },
   {
    "duration": 31,
    "start_time": "2021-09-17T10:01:07.383Z"
   },
   {
    "duration": 55,
    "start_time": "2021-09-17T10:01:07.416Z"
   },
   {
    "duration": 18,
    "start_time": "2021-09-17T10:01:07.508Z"
   },
   {
    "duration": 28,
    "start_time": "2021-09-17T10:01:07.892Z"
   },
   {
    "duration": 25,
    "start_time": "2021-09-17T10:01:08.097Z"
   },
   {
    "duration": 14,
    "start_time": "2021-09-17T10:01:08.314Z"
   },
   {
    "duration": 128,
    "start_time": "2021-09-17T10:01:09.108Z"
   },
   {
    "duration": 14,
    "start_time": "2021-09-17T10:01:09.309Z"
   },
   {
    "duration": 19,
    "start_time": "2021-09-17T10:01:09.533Z"
   },
   {
    "duration": 23,
    "start_time": "2021-09-17T10:01:09.717Z"
   },
   {
    "duration": 6,
    "start_time": "2021-09-17T10:01:09.949Z"
   },
   {
    "duration": 20,
    "start_time": "2021-09-17T10:01:10.545Z"
   },
   {
    "duration": 6,
    "start_time": "2021-09-17T10:01:10.951Z"
   },
   {
    "duration": 6,
    "start_time": "2021-09-17T10:01:11.337Z"
   },
   {
    "duration": 122,
    "start_time": "2021-09-17T10:01:11.561Z"
   },
   {
    "duration": 5,
    "start_time": "2021-09-17T10:01:11.768Z"
   },
   {
    "duration": 426,
    "start_time": "2021-09-17T10:01:12.186Z"
   },
   {
    "duration": 6,
    "start_time": "2021-09-17T10:01:12.615Z"
   },
   {
    "duration": 52,
    "start_time": "2021-09-17T10:01:12.648Z"
   },
   {
    "duration": 22,
    "start_time": "2021-09-17T10:01:12.866Z"
   },
   {
    "duration": 21,
    "start_time": "2021-09-17T10:01:13.058Z"
   },
   {
    "duration": 9,
    "start_time": "2021-09-17T10:01:13.267Z"
   },
   {
    "duration": 12,
    "start_time": "2021-09-17T10:01:13.481Z"
   },
   {
    "duration": 1129,
    "start_time": "2021-09-17T10:01:13.698Z"
   },
   {
    "duration": 723,
    "start_time": "2021-09-17T10:01:14.830Z"
   },
   {
    "duration": 588,
    "start_time": "2021-09-17T10:01:15.556Z"
   },
   {
    "duration": 377,
    "start_time": "2021-09-17T10:01:16.156Z"
   },
   {
    "duration": 52,
    "start_time": "2021-09-17T10:01:16.535Z"
   },
   {
    "duration": 6,
    "start_time": "2021-09-17T10:01:16.589Z"
   },
   {
    "duration": 400,
    "start_time": "2021-09-17T10:01:16.598Z"
   },
   {
    "duration": 6,
    "start_time": "2021-09-17T10:01:17.002Z"
   },
   {
    "duration": 800,
    "start_time": "2021-09-17T10:01:17.011Z"
   },
   {
    "duration": 16,
    "start_time": "2021-09-17T10:01:17.814Z"
   },
   {
    "duration": 41,
    "start_time": "2021-09-17T10:01:17.833Z"
   },
   {
    "duration": 4,
    "start_time": "2021-09-17T10:01:17.877Z"
   },
   {
    "duration": 25,
    "start_time": "2021-09-17T10:01:17.884Z"
   },
   {
    "duration": 873,
    "start_time": "2021-09-17T10:01:17.911Z"
   },
   {
    "duration": 6,
    "start_time": "2021-09-17T10:01:18.786Z"
   },
   {
    "duration": 3716,
    "start_time": "2021-09-17T10:01:18.795Z"
   },
   {
    "duration": 21,
    "start_time": "2021-09-17T10:01:22.514Z"
   },
   {
    "duration": 34,
    "start_time": "2021-09-17T10:01:22.538Z"
   },
   {
    "duration": 7,
    "start_time": "2021-09-17T10:01:25.508Z"
   },
   {
    "duration": 143,
    "start_time": "2021-09-17T10:01:25.902Z"
   },
   {
    "duration": 611,
    "start_time": "2021-09-17T10:01:26.726Z"
   },
   {
    "duration": 4,
    "start_time": "2021-09-17T10:01:33.516Z"
   },
   {
    "duration": 816,
    "start_time": "2021-09-17T10:01:33.747Z"
   },
   {
    "duration": 6,
    "start_time": "2021-09-17T10:01:34.566Z"
   },
   {
    "duration": 98,
    "start_time": "2021-09-17T10:01:34.577Z"
   },
   {
    "duration": 19,
    "start_time": "2021-09-17T10:01:34.677Z"
   },
   {
    "duration": 4,
    "start_time": "2021-09-17T10:01:43.113Z"
   },
   {
    "duration": 6,
    "start_time": "2021-09-17T10:01:43.339Z"
   },
   {
    "duration": 61,
    "start_time": "2021-09-17T10:01:43.537Z"
   },
   {
    "duration": 56,
    "start_time": "2021-09-17T10:01:43.753Z"
   },
   {
    "duration": 57,
    "start_time": "2021-09-17T10:13:17.657Z"
   },
   {
    "duration": 57,
    "start_time": "2021-09-17T10:13:20.874Z"
   },
   {
    "duration": 2205,
    "start_time": "2021-09-17T10:13:39.475Z"
   },
   {
    "duration": 3,
    "start_time": "2021-09-17T10:13:41.683Z"
   },
   {
    "duration": 7,
    "start_time": "2021-09-17T10:13:41.689Z"
   },
   {
    "duration": 35,
    "start_time": "2021-09-17T10:13:41.699Z"
   },
   {
    "duration": 52,
    "start_time": "2021-09-17T10:13:41.736Z"
   },
   {
    "duration": 29,
    "start_time": "2021-09-17T10:13:41.791Z"
   },
   {
    "duration": 24,
    "start_time": "2021-09-17T10:13:41.861Z"
   },
   {
    "duration": 29,
    "start_time": "2021-09-17T10:13:41.994Z"
   },
   {
    "duration": 26,
    "start_time": "2021-09-17T10:13:42.202Z"
   },
   {
    "duration": 14,
    "start_time": "2021-09-17T10:13:42.436Z"
   },
   {
    "duration": 137,
    "start_time": "2021-09-17T10:13:43.050Z"
   },
   {
    "duration": 14,
    "start_time": "2021-09-17T10:13:43.258Z"
   },
   {
    "duration": 27,
    "start_time": "2021-09-17T10:13:43.458Z"
   },
   {
    "duration": 26,
    "start_time": "2021-09-17T10:13:43.668Z"
   },
   {
    "duration": 6,
    "start_time": "2021-09-17T10:13:43.876Z"
   },
   {
    "duration": 22,
    "start_time": "2021-09-17T10:13:44.556Z"
   },
   {
    "duration": 8,
    "start_time": "2021-09-17T10:13:44.988Z"
   },
   {
    "duration": 6,
    "start_time": "2021-09-17T10:13:45.418Z"
   },
   {
    "duration": 110,
    "start_time": "2021-09-17T10:13:45.666Z"
   },
   {
    "duration": 5,
    "start_time": "2021-09-17T10:13:45.880Z"
   },
   {
    "duration": 445,
    "start_time": "2021-09-17T10:13:46.297Z"
   },
   {
    "duration": 12,
    "start_time": "2021-09-17T10:13:46.744Z"
   },
   {
    "duration": 57,
    "start_time": "2021-09-17T10:13:46.763Z"
   },
   {
    "duration": 23,
    "start_time": "2021-09-17T10:13:46.923Z"
   },
   {
    "duration": 17,
    "start_time": "2021-09-17T10:13:47.124Z"
   },
   {
    "duration": 8,
    "start_time": "2021-09-17T10:13:47.330Z"
   },
   {
    "duration": 15,
    "start_time": "2021-09-17T10:13:47.564Z"
   },
   {
    "duration": 1275,
    "start_time": "2021-09-17T10:13:47.764Z"
   },
   {
    "duration": 659,
    "start_time": "2021-09-17T10:13:49.041Z"
   },
   {
    "duration": 674,
    "start_time": "2021-09-17T10:13:49.704Z"
   },
   {
    "duration": 390,
    "start_time": "2021-09-17T10:13:50.381Z"
   },
   {
    "duration": 38,
    "start_time": "2021-09-17T10:13:50.773Z"
   },
   {
    "duration": 6,
    "start_time": "2021-09-17T10:13:50.813Z"
   },
   {
    "duration": 528,
    "start_time": "2021-09-17T10:13:50.821Z"
   },
   {
    "duration": 14,
    "start_time": "2021-09-17T10:13:51.353Z"
   },
   {
    "duration": 947,
    "start_time": "2021-09-17T10:13:51.371Z"
   },
   {
    "duration": 16,
    "start_time": "2021-09-17T10:13:52.320Z"
   },
   {
    "duration": 39,
    "start_time": "2021-09-17T10:13:52.338Z"
   },
   {
    "duration": 6,
    "start_time": "2021-09-17T10:13:52.380Z"
   },
   {
    "duration": 11,
    "start_time": "2021-09-17T10:13:52.388Z"
   },
   {
    "duration": 931,
    "start_time": "2021-09-17T10:13:52.402Z"
   },
   {
    "duration": 30,
    "start_time": "2021-09-17T10:13:53.337Z"
   },
   {
    "duration": 3709,
    "start_time": "2021-09-17T10:13:53.371Z"
   },
   {
    "duration": 21,
    "start_time": "2021-09-17T10:13:57.084Z"
   },
   {
    "duration": 6,
    "start_time": "2021-09-17T10:13:57.108Z"
   },
   {
    "duration": 41,
    "start_time": "2021-09-17T10:13:57.118Z"
   },
   {
    "duration": 175,
    "start_time": "2021-09-17T10:13:57.165Z"
   },
   {
    "duration": 605,
    "start_time": "2021-09-17T10:13:57.342Z"
   },
   {
    "duration": 6,
    "start_time": "2021-09-17T10:13:57.956Z"
   },
   {
    "duration": 795,
    "start_time": "2021-09-17T10:13:57.965Z"
   },
   {
    "duration": 8,
    "start_time": "2021-09-17T10:13:58.763Z"
   },
   {
    "duration": 110,
    "start_time": "2021-09-17T10:13:58.774Z"
   },
   {
    "duration": 20,
    "start_time": "2021-09-17T10:13:58.887Z"
   },
   {
    "duration": 4,
    "start_time": "2021-09-17T10:13:58.909Z"
   },
   {
    "duration": 54,
    "start_time": "2021-09-17T10:13:58.915Z"
   },
   {
    "duration": 52,
    "start_time": "2021-09-17T10:13:58.971Z"
   },
   {
    "duration": 86,
    "start_time": "2021-09-17T10:13:59.025Z"
   },
   {
    "duration": 2233,
    "start_time": "2021-09-17T10:34:01.467Z"
   },
   {
    "duration": 5,
    "start_time": "2021-09-17T10:34:03.703Z"
   },
   {
    "duration": 34,
    "start_time": "2021-09-17T10:34:03.712Z"
   },
   {
    "duration": 65,
    "start_time": "2021-09-17T10:34:03.749Z"
   },
   {
    "duration": 34,
    "start_time": "2021-09-17T10:34:03.816Z"
   },
   {
    "duration": 37,
    "start_time": "2021-09-17T10:34:03.852Z"
   },
   {
    "duration": 19,
    "start_time": "2021-09-17T10:34:03.892Z"
   },
   {
    "duration": 64,
    "start_time": "2021-09-17T10:34:03.914Z"
   },
   {
    "duration": 23,
    "start_time": "2021-09-17T10:34:03.992Z"
   },
   {
    "duration": 16,
    "start_time": "2021-09-17T10:34:04.235Z"
   },
   {
    "duration": 143,
    "start_time": "2021-09-17T10:34:04.851Z"
   },
   {
    "duration": 18,
    "start_time": "2021-09-17T10:34:05.060Z"
   },
   {
    "duration": 20,
    "start_time": "2021-09-17T10:34:05.251Z"
   },
   {
    "duration": 24,
    "start_time": "2021-09-17T10:34:05.483Z"
   },
   {
    "duration": 5,
    "start_time": "2021-09-17T10:34:05.713Z"
   },
   {
    "duration": 24,
    "start_time": "2021-09-17T10:34:06.346Z"
   },
   {
    "duration": 9,
    "start_time": "2021-09-17T10:34:06.766Z"
   },
   {
    "duration": 6,
    "start_time": "2021-09-17T10:34:06.979Z"
   },
   {
    "duration": 116,
    "start_time": "2021-09-17T10:34:07.193Z"
   },
   {
    "duration": 5,
    "start_time": "2021-09-17T10:34:07.394Z"
   },
   {
    "duration": 422,
    "start_time": "2021-09-17T10:34:07.802Z"
   },
   {
    "duration": 8,
    "start_time": "2021-09-17T10:34:08.227Z"
   },
   {
    "duration": 52,
    "start_time": "2021-09-17T10:34:08.256Z"
   },
   {
    "duration": 28,
    "start_time": "2021-09-17T10:34:08.450Z"
   },
   {
    "duration": 26,
    "start_time": "2021-09-17T10:34:08.652Z"
   },
   {
    "duration": 9,
    "start_time": "2021-09-17T10:34:08.843Z"
   },
   {
    "duration": 19,
    "start_time": "2021-09-17T10:34:09.051Z"
   },
   {
    "duration": 1198,
    "start_time": "2021-09-17T10:34:09.269Z"
   },
   {
    "duration": 716,
    "start_time": "2021-09-17T10:34:10.469Z"
   },
   {
    "duration": 623,
    "start_time": "2021-09-17T10:34:11.189Z"
   },
   {
    "duration": 400,
    "start_time": "2021-09-17T10:34:11.816Z"
   },
   {
    "duration": 51,
    "start_time": "2021-09-17T10:34:12.219Z"
   },
   {
    "duration": 6,
    "start_time": "2021-09-17T10:34:12.273Z"
   },
   {
    "duration": 398,
    "start_time": "2021-09-17T10:34:12.282Z"
   },
   {
    "duration": 7,
    "start_time": "2021-09-17T10:34:12.683Z"
   },
   {
    "duration": 935,
    "start_time": "2021-09-17T10:34:12.693Z"
   },
   {
    "duration": 16,
    "start_time": "2021-09-17T10:34:13.630Z"
   },
   {
    "duration": 22,
    "start_time": "2021-09-17T10:34:13.657Z"
   },
   {
    "duration": 19,
    "start_time": "2021-09-17T10:34:13.682Z"
   },
   {
    "duration": 30,
    "start_time": "2021-09-17T10:34:13.705Z"
   },
   {
    "duration": 895,
    "start_time": "2021-09-17T10:34:13.738Z"
   },
   {
    "duration": 7,
    "start_time": "2021-09-17T10:34:14.636Z"
   },
   {
    "duration": 3847,
    "start_time": "2021-09-17T10:34:14.659Z"
   },
   {
    "duration": 16,
    "start_time": "2021-09-17T10:34:18.508Z"
   },
   {
    "duration": 34,
    "start_time": "2021-09-17T10:34:18.526Z"
   },
   {
    "duration": 25,
    "start_time": "2021-09-17T10:34:18.564Z"
   },
   {
    "duration": 139,
    "start_time": "2021-09-17T10:34:18.592Z"
   },
   {
    "duration": 612,
    "start_time": "2021-09-17T10:34:18.733Z"
   },
   {
    "duration": 14,
    "start_time": "2021-09-17T10:34:19.347Z"
   },
   {
    "duration": 1003,
    "start_time": "2021-09-17T10:34:19.364Z"
   },
   {
    "duration": 87,
    "start_time": "2021-09-17T10:34:20.370Z"
   },
   {
    "duration": 31,
    "start_time": "2021-09-17T10:34:20.461Z"
   },
   {
    "duration": 33,
    "start_time": "2021-09-17T10:34:20.495Z"
   },
   {
    "duration": 4,
    "start_time": "2021-09-17T10:34:20.531Z"
   },
   {
    "duration": 8,
    "start_time": "2021-09-17T10:34:20.563Z"
   },
   {
    "duration": 40,
    "start_time": "2021-09-17T10:34:20.573Z"
   },
   {
    "duration": 150,
    "start_time": "2021-09-17T10:34:20.615Z"
   },
   {
    "duration": 2356,
    "start_time": "2021-09-17T10:35:03.630Z"
   },
   {
    "duration": 4,
    "start_time": "2021-09-17T10:35:05.989Z"
   },
   {
    "duration": 8,
    "start_time": "2021-09-17T10:35:05.998Z"
   },
   {
    "duration": 68,
    "start_time": "2021-09-17T10:35:06.009Z"
   },
   {
    "duration": 43,
    "start_time": "2021-09-17T10:35:06.079Z"
   },
   {
    "duration": 57,
    "start_time": "2021-09-17T10:35:06.125Z"
   },
   {
    "duration": 20,
    "start_time": "2021-09-17T10:35:06.185Z"
   },
   {
    "duration": 66,
    "start_time": "2021-09-17T10:35:06.208Z"
   },
   {
    "duration": 23,
    "start_time": "2021-09-17T10:35:06.277Z"
   },
   {
    "duration": 22,
    "start_time": "2021-09-17T10:35:06.355Z"
   },
   {
    "duration": 128,
    "start_time": "2021-09-17T10:35:06.905Z"
   },
   {
    "duration": 14,
    "start_time": "2021-09-17T10:35:07.113Z"
   },
   {
    "duration": 19,
    "start_time": "2021-09-17T10:35:07.308Z"
   },
   {
    "duration": 22,
    "start_time": "2021-09-17T10:35:07.525Z"
   },
   {
    "duration": 7,
    "start_time": "2021-09-17T10:35:07.715Z"
   },
   {
    "duration": 23,
    "start_time": "2021-09-17T10:35:08.356Z"
   },
   {
    "duration": 5,
    "start_time": "2021-09-17T10:35:08.804Z"
   },
   {
    "duration": 6,
    "start_time": "2021-09-17T10:35:09.036Z"
   },
   {
    "duration": 124,
    "start_time": "2021-09-17T10:35:09.258Z"
   },
   {
    "duration": 6,
    "start_time": "2021-09-17T10:35:09.483Z"
   },
   {
    "duration": 451,
    "start_time": "2021-09-17T10:35:09.909Z"
   },
   {
    "duration": 11,
    "start_time": "2021-09-17T10:35:10.363Z"
   },
   {
    "duration": 50,
    "start_time": "2021-09-17T10:35:10.377Z"
   },
   {
    "duration": 21,
    "start_time": "2021-09-17T10:35:10.529Z"
   },
   {
    "duration": 28,
    "start_time": "2021-09-17T10:35:10.739Z"
   },
   {
    "duration": 8,
    "start_time": "2021-09-17T10:35:10.938Z"
   },
   {
    "duration": 17,
    "start_time": "2021-09-17T10:35:11.153Z"
   },
   {
    "duration": 1388,
    "start_time": "2021-09-17T10:35:11.372Z"
   },
   {
    "duration": 825,
    "start_time": "2021-09-17T10:35:12.764Z"
   },
   {
    "duration": 598,
    "start_time": "2021-09-17T10:35:13.592Z"
   },
   {
    "duration": 383,
    "start_time": "2021-09-17T10:35:14.193Z"
   },
   {
    "duration": 42,
    "start_time": "2021-09-17T10:35:14.579Z"
   },
   {
    "duration": 7,
    "start_time": "2021-09-17T10:35:14.624Z"
   },
   {
    "duration": 417,
    "start_time": "2021-09-17T10:35:14.634Z"
   },
   {
    "duration": 11,
    "start_time": "2021-09-17T10:35:15.059Z"
   },
   {
    "duration": 777,
    "start_time": "2021-09-17T10:35:15.073Z"
   },
   {
    "duration": 21,
    "start_time": "2021-09-17T10:35:15.852Z"
   },
   {
    "duration": 22,
    "start_time": "2021-09-17T10:35:15.876Z"
   },
   {
    "duration": 9,
    "start_time": "2021-09-17T10:35:15.901Z"
   },
   {
    "duration": 5,
    "start_time": "2021-09-17T10:35:19.048Z"
   },
   {
    "duration": 910,
    "start_time": "2021-09-17T10:35:19.257Z"
   },
   {
    "duration": 10,
    "start_time": "2021-09-17T10:35:20.170Z"
   },
   {
    "duration": 3607,
    "start_time": "2021-09-17T10:35:20.299Z"
   },
   {
    "duration": 16,
    "start_time": "2021-09-17T10:35:23.909Z"
   },
   {
    "duration": 42,
    "start_time": "2021-09-17T10:35:23.929Z"
   },
   {
    "duration": 13,
    "start_time": "2021-09-17T10:35:23.974Z"
   },
   {
    "duration": 160,
    "start_time": "2021-09-17T10:35:23.989Z"
   },
   {
    "duration": 661,
    "start_time": "2021-09-17T10:35:26.686Z"
   },
   {
    "duration": 10,
    "start_time": "2021-09-17T10:35:27.350Z"
   },
   {
    "duration": 643,
    "start_time": "2021-09-17T10:35:27.519Z"
   },
   {
    "duration": 11,
    "start_time": "2021-09-17T10:35:28.166Z"
   },
   {
    "duration": 24,
    "start_time": "2021-09-17T10:35:28.265Z"
   },
   {
    "duration": 20,
    "start_time": "2021-09-17T10:35:28.291Z"
   },
   {
    "duration": 5,
    "start_time": "2021-09-17T10:35:28.961Z"
   },
   {
    "duration": 6,
    "start_time": "2021-09-17T10:35:29.199Z"
   },
   {
    "duration": 35,
    "start_time": "2021-09-17T10:35:29.399Z"
   },
   {
    "duration": 38,
    "start_time": "2021-09-17T10:35:29.590Z"
   },
   {
    "duration": 678,
    "start_time": "2021-09-17T10:50:05.017Z"
   },
   {
    "duration": 1185,
    "start_time": "2021-09-17T11:26:55.671Z"
   },
   {
    "duration": -23,
    "start_time": "2021-09-17T11:26:56.882Z"
   },
   {
    "duration": -23,
    "start_time": "2021-09-17T11:26:56.886Z"
   },
   {
    "duration": -23,
    "start_time": "2021-09-17T11:26:56.888Z"
   },
   {
    "duration": -25,
    "start_time": "2021-09-17T11:26:56.891Z"
   },
   {
    "duration": 338,
    "start_time": "2021-09-17T11:26:57.971Z"
   },
   {
    "duration": -4,
    "start_time": "2021-09-17T11:26:58.316Z"
   },
   {
    "duration": 355,
    "start_time": "2021-09-17T11:26:58.593Z"
   },
   {
    "duration": 21,
    "start_time": "2021-09-17T11:26:58.930Z"
   },
   {
    "duration": 360,
    "start_time": "2021-09-17T11:26:59.057Z"
   },
   {
    "duration": 2058,
    "start_time": "2021-09-17T11:27:38.797Z"
   },
   {
    "duration": 5,
    "start_time": "2021-09-17T11:27:40.859Z"
   },
   {
    "duration": 15,
    "start_time": "2021-09-17T11:27:40.875Z"
   },
   {
    "duration": 48,
    "start_time": "2021-09-17T11:27:40.893Z"
   },
   {
    "duration": 42,
    "start_time": "2021-09-17T11:27:40.943Z"
   },
   {
    "duration": 26,
    "start_time": "2021-09-17T11:27:41.059Z"
   },
   {
    "duration": 19,
    "start_time": "2021-09-17T11:27:41.257Z"
   },
   {
    "duration": 28,
    "start_time": "2021-09-17T11:27:41.668Z"
   },
   {
    "duration": 24,
    "start_time": "2021-09-17T11:27:42.430Z"
   },
   {
    "duration": 15,
    "start_time": "2021-09-17T11:27:42.894Z"
   },
   {
    "duration": 121,
    "start_time": "2021-09-17T11:27:43.635Z"
   },
   {
    "duration": 24,
    "start_time": "2021-09-17T11:27:43.851Z"
   },
   {
    "duration": 31,
    "start_time": "2021-09-17T11:27:44.068Z"
   },
   {
    "duration": 23,
    "start_time": "2021-09-17T11:27:44.274Z"
   },
   {
    "duration": 5,
    "start_time": "2021-09-17T11:27:44.498Z"
   },
   {
    "duration": 16,
    "start_time": "2021-09-17T11:27:45.162Z"
   },
   {
    "duration": 6,
    "start_time": "2021-09-17T11:27:45.643Z"
   },
   {
    "duration": 6,
    "start_time": "2021-09-17T11:27:45.880Z"
   },
   {
    "duration": 105,
    "start_time": "2021-09-17T11:27:46.063Z"
   },
   {
    "duration": 6,
    "start_time": "2021-09-17T11:27:46.272Z"
   },
   {
    "duration": 401,
    "start_time": "2021-09-17T11:27:46.726Z"
   },
   {
    "duration": 7,
    "start_time": "2021-09-17T11:27:47.130Z"
   },
   {
    "duration": 47,
    "start_time": "2021-09-17T11:27:47.266Z"
   },
   {
    "duration": 21,
    "start_time": "2021-09-17T11:27:47.498Z"
   },
   {
    "duration": 16,
    "start_time": "2021-09-17T11:27:47.730Z"
   },
   {
    "duration": 8,
    "start_time": "2021-09-17T11:27:52.317Z"
   },
   {
    "duration": 12,
    "start_time": "2021-09-17T11:27:52.551Z"
   },
   {
    "duration": 1077,
    "start_time": "2021-09-17T11:27:52.759Z"
   },
   {
    "duration": 602,
    "start_time": "2021-09-17T11:27:53.855Z"
   },
   {
    "duration": 552,
    "start_time": "2021-09-17T11:27:55.226Z"
   },
   {
    "duration": 493,
    "start_time": "2021-09-17T11:28:59.905Z"
   },
   {
    "duration": 350,
    "start_time": "2021-09-17T11:29:06.220Z"
   },
   {
    "duration": 36,
    "start_time": "2021-09-17T11:29:06.572Z"
   },
   {
    "duration": 7,
    "start_time": "2021-09-17T11:29:06.611Z"
   },
   {
    "duration": 363,
    "start_time": "2021-09-17T11:29:06.782Z"
   },
   {
    "duration": 11,
    "start_time": "2021-09-17T11:29:07.148Z"
   },
   {
    "duration": 735,
    "start_time": "2021-09-17T11:29:07.212Z"
   },
   {
    "duration": 19,
    "start_time": "2021-09-17T11:29:07.957Z"
   },
   {
    "duration": 19,
    "start_time": "2021-09-17T11:29:07.980Z"
   },
   {
    "duration": 6,
    "start_time": "2021-09-17T11:29:08.003Z"
   },
   {
    "duration": 5,
    "start_time": "2021-09-17T11:29:08.525Z"
   },
   {
    "duration": 826,
    "start_time": "2021-09-17T11:29:08.725Z"
   },
   {
    "duration": 9,
    "start_time": "2021-09-17T11:29:09.554Z"
   },
   {
    "duration": 3499,
    "start_time": "2021-09-17T11:29:09.567Z"
   },
   {
    "duration": 22,
    "start_time": "2021-09-17T11:29:13.069Z"
   },
   {
    "duration": 6,
    "start_time": "2021-09-17T11:29:13.095Z"
   },
   {
    "duration": 54,
    "start_time": "2021-09-17T11:29:13.103Z"
   },
   {
    "duration": 148,
    "start_time": "2021-09-17T11:29:13.160Z"
   },
   {
    "duration": 715,
    "start_time": "2021-09-17T11:29:13.310Z"
   },
   {
    "duration": 4,
    "start_time": "2021-09-17T11:29:14.027Z"
   },
   {
    "duration": 1022,
    "start_time": "2021-09-17T11:29:14.035Z"
   },
   {
    "duration": 7,
    "start_time": "2021-09-17T11:29:15.061Z"
   },
   {
    "duration": 113,
    "start_time": "2021-09-17T11:29:15.070Z"
   },
   {
    "duration": 19,
    "start_time": "2021-09-17T11:29:15.185Z"
   },
   {
    "duration": 3,
    "start_time": "2021-09-17T11:29:15.207Z"
   },
   {
    "duration": 50,
    "start_time": "2021-09-17T11:29:15.212Z"
   },
   {
    "duration": 44,
    "start_time": "2021-09-17T11:29:15.264Z"
   },
   {
    "duration": 68,
    "start_time": "2021-09-17T11:29:15.310Z"
   },
   {
    "duration": 7,
    "start_time": "2021-09-17T15:25:10.199Z"
   },
   {
    "duration": 24,
    "start_time": "2021-09-17T15:25:10.210Z"
   },
   {
    "duration": 15,
    "start_time": "2021-09-17T15:25:10.238Z"
   },
   {
    "duration": 42,
    "start_time": "2021-09-17T15:25:10.257Z"
   },
   {
    "duration": 27,
    "start_time": "2021-09-17T15:25:10.301Z"
   },
   {
    "duration": 60,
    "start_time": "2021-09-17T15:25:10.331Z"
   },
   {
    "duration": 19,
    "start_time": "2021-09-17T15:25:10.393Z"
   },
   {
    "duration": 34,
    "start_time": "2021-09-17T15:25:10.414Z"
   },
   {
    "duration": 26,
    "start_time": "2021-09-17T15:25:10.484Z"
   },
   {
    "duration": 15,
    "start_time": "2021-09-17T15:25:10.514Z"
   },
   {
    "duration": 181,
    "start_time": "2021-09-17T15:25:10.532Z"
   },
   {
    "duration": 14,
    "start_time": "2021-09-17T15:25:10.715Z"
   },
   {
    "duration": 24,
    "start_time": "2021-09-17T15:25:10.731Z"
   },
   {
    "duration": 45,
    "start_time": "2021-09-17T15:25:10.757Z"
   },
   {
    "duration": 5,
    "start_time": "2021-09-17T15:25:10.805Z"
   },
   {
    "duration": 15,
    "start_time": "2021-09-17T15:25:10.813Z"
   },
   {
    "duration": 14,
    "start_time": "2021-09-17T15:25:10.830Z"
   },
   {
    "duration": 6,
    "start_time": "2021-09-17T15:25:10.883Z"
   },
   {
    "duration": 133,
    "start_time": "2021-09-17T15:25:10.892Z"
   },
   {
    "duration": 5,
    "start_time": "2021-09-17T15:25:11.027Z"
   },
   {
    "duration": 432,
    "start_time": "2021-09-17T15:25:11.034Z"
   },
   {
    "duration": 16,
    "start_time": "2021-09-17T15:25:11.468Z"
   },
   {
    "duration": 51,
    "start_time": "2021-09-17T15:25:11.486Z"
   },
   {
    "duration": 41,
    "start_time": "2021-09-17T15:25:11.540Z"
   },
   {
    "duration": 18,
    "start_time": "2021-09-17T15:25:11.583Z"
   },
   {
    "duration": 9,
    "start_time": "2021-09-17T15:25:11.603Z"
   },
   {
    "duration": 13,
    "start_time": "2021-09-17T15:25:11.619Z"
   },
   {
    "duration": 481,
    "start_time": "2021-09-17T15:25:11.635Z"
   },
   {
    "duration": 645,
    "start_time": "2021-09-17T15:25:12.118Z"
   },
   {
    "duration": 434,
    "start_time": "2021-09-17T15:25:12.766Z"
   },
   {
    "duration": 430,
    "start_time": "2021-09-17T15:25:13.203Z"
   },
   {
    "duration": 359,
    "start_time": "2021-09-17T15:25:13.636Z"
   },
   {
    "duration": 42,
    "start_time": "2021-09-17T15:25:13.998Z"
   },
   {
    "duration": 6,
    "start_time": "2021-09-17T15:25:14.042Z"
   },
   {
    "duration": 386,
    "start_time": "2021-09-17T15:25:14.051Z"
   },
   {
    "duration": 6,
    "start_time": "2021-09-17T15:25:14.440Z"
   },
   {
    "duration": 733,
    "start_time": "2021-09-17T15:25:14.449Z"
   },
   {
    "duration": 16,
    "start_time": "2021-09-17T15:25:15.184Z"
   },
   {
    "duration": 49,
    "start_time": "2021-09-17T15:25:15.202Z"
   },
   {
    "duration": 27,
    "start_time": "2021-09-17T15:25:15.253Z"
   },
   {
    "duration": 15,
    "start_time": "2021-09-17T15:25:15.283Z"
   },
   {
    "duration": 794,
    "start_time": "2021-09-17T15:25:15.300Z"
   },
   {
    "duration": 9,
    "start_time": "2021-09-17T15:25:16.097Z"
   },
   {
    "duration": 3577,
    "start_time": "2021-09-17T15:25:16.109Z"
   },
   {
    "duration": 15,
    "start_time": "2021-09-17T15:25:19.689Z"
   },
   {
    "duration": 5,
    "start_time": "2021-09-17T15:25:19.706Z"
   },
   {
    "duration": 12,
    "start_time": "2021-09-17T15:25:19.713Z"
   },
   {
    "duration": 178,
    "start_time": "2021-09-17T15:25:19.727Z"
   },
   {
    "duration": 662,
    "start_time": "2021-09-17T15:25:19.908Z"
   },
   {
    "duration": 12,
    "start_time": "2021-09-17T15:25:20.573Z"
   },
   {
    "duration": 895,
    "start_time": "2021-09-17T15:25:20.588Z"
   },
   {
    "duration": 4,
    "start_time": "2021-09-17T15:25:21.486Z"
   },
   {
    "duration": 34,
    "start_time": "2021-09-17T15:25:21.493Z"
   },
   {
    "duration": 69,
    "start_time": "2021-09-17T15:25:21.530Z"
   },
   {
    "duration": 17,
    "start_time": "2021-09-17T15:25:21.602Z"
   },
   {
    "duration": 20,
    "start_time": "2021-09-17T15:25:21.621Z"
   },
   {
    "duration": 46,
    "start_time": "2021-09-17T15:25:21.643Z"
   },
   {
    "duration": 30,
    "start_time": "2021-09-17T15:25:21.692Z"
   },
   {
    "duration": 4,
    "start_time": "2021-09-28T10:15:19.638Z"
   },
   {
    "duration": 200,
    "start_time": "2021-09-28T10:15:25.204Z"
   },
   {
    "duration": 57,
    "start_time": "2021-09-28T10:16:06.846Z"
   },
   {
    "duration": 58,
    "start_time": "2021-09-28T10:16:19.013Z"
   },
   {
    "duration": 164,
    "start_time": "2021-09-28T10:16:23.708Z"
   },
   {
    "duration": 1414,
    "start_time": "2021-09-28T10:16:29.317Z"
   },
   {
    "duration": 261,
    "start_time": "2021-09-28T10:16:33.531Z"
   },
   {
    "duration": 187,
    "start_time": "2021-09-28T10:16:46.438Z"
   },
   {
    "duration": 174,
    "start_time": "2021-09-28T10:16:59.742Z"
   },
   {
    "duration": 183,
    "start_time": "2021-09-28T10:17:28.157Z"
   },
   {
    "duration": 182,
    "start_time": "2021-09-28T10:17:48.533Z"
   },
   {
    "duration": 6,
    "start_time": "2021-09-28T10:18:08.933Z"
   }
  ],
  "kernelspec": {
   "display_name": "Python 3 (ipykernel)",
   "language": "python",
   "name": "python3"
  },
  "language_info": {
   "codemirror_mode": {
    "name": "ipython",
    "version": 3
   },
   "file_extension": ".py",
   "mimetype": "text/x-python",
   "name": "python",
   "nbconvert_exporter": "python",
   "pygments_lexer": "ipython3",
   "version": "3.11.1"
  },
  "toc": {
   "base_numbering": 1,
   "nav_menu": {},
   "number_sections": true,
   "sideBar": true,
   "skip_h1_title": true,
   "title_cell": "Содержание",
   "title_sidebar": "Содержание",
   "toc_cell": true,
   "toc_position": {
    "height": "calc(100% - 180px)",
    "left": "10px",
    "top": "150px",
    "width": "302.344px"
   },
   "toc_section_display": true,
   "toc_window_display": true
  }
 },
 "nbformat": 4,
 "nbformat_minor": 4
}
