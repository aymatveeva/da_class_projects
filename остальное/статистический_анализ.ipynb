{
 "cells": [
  {
   "cell_type": "markdown",
   "metadata": {
    "toc": true
   },
   "source": [
    "<h1>Содержание<span class=\"tocSkip\"></span></h1>\n",
    "<div class=\"toc\"><ul class=\"toc-item\"><li><span><a href=\"#Загрузка-данных\" data-toc-modified-id=\"Загрузка-данных-1\"><span class=\"toc-item-num\">1&nbsp;&nbsp;</span>Загрузка данных</a></span></li><li><span><a href=\"#Изучение-данных\" data-toc-modified-id=\"Изучение-данных-2\"><span class=\"toc-item-num\">2&nbsp;&nbsp;</span>Изучение данных</a></span></li><li><span><a href=\"#Предобработка-данных\" data-toc-modified-id=\"Предобработка-данных-3\"><span class=\"toc-item-num\">3&nbsp;&nbsp;</span>Предобработка данных</a></span><ul class=\"toc-item\"><li><span><a href=\"#Переименование-столбцов\" data-toc-modified-id=\"Переименование-столбцов-3.1\"><span class=\"toc-item-num\">3.1&nbsp;&nbsp;</span>Переименование столбцов</a></span></li><li><span><a href=\"#Удаление-пропусков\" data-toc-modified-id=\"Удаление-пропусков-3.2\"><span class=\"toc-item-num\">3.2&nbsp;&nbsp;</span>Удаление пропусков</a></span></li><li><span><a href=\"#Изменение-типов-данных\" data-toc-modified-id=\"Изменение-типов-данных-3.3\"><span class=\"toc-item-num\">3.3&nbsp;&nbsp;</span>Изменение типов данных</a></span></li><li><span><a href=\"#Дополнительные-расчёты\" data-toc-modified-id=\"Дополнительные-расчёты-3.4\"><span class=\"toc-item-num\">3.4&nbsp;&nbsp;</span>Дополнительные расчёты</a></span></li></ul></li><li><span><a href=\"#Исследовательский-анализ\" data-toc-modified-id=\"Исследовательский-анализ-4\"><span class=\"toc-item-num\">4&nbsp;&nbsp;</span>Исследовательский анализ</a></span><ul class=\"toc-item\"><li><span><a href=\"#Выпущенные-игры\" data-toc-modified-id=\"Выпущенные-игры-4.1\"><span class=\"toc-item-num\">4.1&nbsp;&nbsp;</span>Выпущенные игры</a></span></li><li><span><a href=\"#Среднее-время-жизни-платформы\" data-toc-modified-id=\"Среднее-время-жизни-платформы-4.2\"><span class=\"toc-item-num\">4.2&nbsp;&nbsp;</span>Среднее время жизни платформы</a></span></li><li><span><a href=\"#Актуальный-период\" data-toc-modified-id=\"Актуальный-период-4.3\"><span class=\"toc-item-num\">4.3&nbsp;&nbsp;</span>Актуальный период</a></span></li><li><span><a href=\"#Потенциально-прибыльные-платформы\" data-toc-modified-id=\"Потенциально-прибыльные-платформы-4.4\"><span class=\"toc-item-num\">4.4&nbsp;&nbsp;</span>Потенциально прибыльные платформы</a></span></li><li><span><a href=\"#Влияние-отзывов-на-продажи\" data-toc-modified-id=\"Влияние-отзывов-на-продажи-4.5\"><span class=\"toc-item-num\">4.5&nbsp;&nbsp;</span>Влияние отзывов на продажи</a></span></li><li><span><a href=\"#Игры-по-жанрам\" data-toc-modified-id=\"Игры-по-жанрам-4.6\"><span class=\"toc-item-num\">4.6&nbsp;&nbsp;</span>Игры по жанрам</a></span></li><li><span><a href=\"#Пользователи-по-регионам\" data-toc-modified-id=\"Пользователи-по-регионам-4.7\"><span class=\"toc-item-num\">4.7&nbsp;&nbsp;</span>Пользователи по регионам</a></span></li></ul></li><li><span><a href=\"#Статистический-анализ\" data-toc-modified-id=\"Статистический-анализ-5\"><span class=\"toc-item-num\">5&nbsp;&nbsp;</span>Статистический анализ</a></span><ul class=\"toc-item\"><li><span><a href=\"#Предположение-1\" data-toc-modified-id=\"Предположение-1-5.1\"><span class=\"toc-item-num\">5.1&nbsp;&nbsp;</span>Предположение 1</a></span></li><li><span><a href=\"#Предположение-2\" data-toc-modified-id=\"Предположение-2-5.2\"><span class=\"toc-item-num\">5.2&nbsp;&nbsp;</span>Предположение 2</a></span></li></ul></li><li><span><a href=\"#Общий-вывод\" data-toc-modified-id=\"Общий-вывод-6\"><span class=\"toc-item-num\">6&nbsp;&nbsp;</span>Общий вывод</a></span></li></ul></div>"
   ]
  },
  {
   "cell_type": "markdown",
   "metadata": {},
   "source": [
    "# Признаки привлекательности компьютерных игр\n",
    "Интернет-магазин «Стримчик» продаёт по всему миру компьютерные игры. Из открытых источников доступны исторические данные о продажах игр, оценки пользователей и экспертов, жанры и платформы (например, Xbox или PlayStation). Вам нужно выявить определяющие успешность игры закономерности. Это позволит сделать ставку на потенциально популярный продукт и спланировать рекламные кампании."
   ]
  },
  {
   "cell_type": "markdown",
   "metadata": {},
   "source": [
    "## Загрузка данных"
   ]
  },
  {
   "cell_type": "code",
   "execution_count": 1,
   "metadata": {},
   "outputs": [],
   "source": [
    "import pandas as pd\n",
    "import numpy as np\n",
    "import matplotlib.pyplot as plt\n",
    "import plotly.express as px\n",
    "from scipy import stats as st\n",
    "import warnings \n",
    "warnings.filterwarnings('ignore')"
   ]
  },
  {
   "cell_type": "code",
   "execution_count": 2,
   "metadata": {},
   "outputs": [],
   "source": [
    "data = pd.read_csv('/datasets/games.csv')"
   ]
  },
  {
   "cell_type": "markdown",
   "metadata": {},
   "source": [
    "## Изучение данных"
   ]
  },
  {
   "cell_type": "code",
   "execution_count": 3,
   "metadata": {},
   "outputs": [],
   "source": [
    "# Количество и процент пропусков в столбцах таблицы\n",
    "def spaces_stat(data):\n",
    "    spaces_column_names =[]\n",
    "    spaces_cnt =[]\n",
    "    spaces_data =[]\n",
    "    for i in data.columns:\n",
    "        spaces_column_names.append(i)\n",
    "    spaces_column_names = pd.DataFrame(spaces_column_names)\n",
    "    spaces_column_names.columns = ['column_name']\n",
    "    for j in data.columns:\n",
    "        spaces_cnt.append(data[j].isna().sum())\n",
    "    spaces_cnt = pd.DataFrame(spaces_cnt)\n",
    "    spaces_cnt.columns = ['spaces_cnt']\n",
    "    spaces_data = pd.concat([spaces_column_names, spaces_cnt], axis=1)\n",
    "    spaces_data = spaces_data[spaces_data['spaces_cnt']>0].reset_index(drop=True)\n",
    "    spaces_data['spaces_pct'] =round(spaces_data['spaces_cnt']/len(data)*100,2)\n",
    "    spaces_data = spaces_data.sort_values('spaces_pct', ascending=False).reset_index(drop=True)\n",
    "    return spaces_data"
   ]
  },
  {
   "cell_type": "code",
   "execution_count": 4,
   "metadata": {},
   "outputs": [],
   "source": [
    "# минимальные и максимальные значения числовых столбцов и \n",
    "# частота их появления в столбцах — абсолютная и в процентах\n",
    "def columns_stat(data):\n",
    "    selected_columns = data.select_dtypes(exclude=['object','bool']).columns\n",
    "    columns_stat = []\n",
    "    min_cnt=[]\n",
    "    max_cnt=[]\n",
    "    \n",
    "    for column in selected_columns:\n",
    "        columns_stat.append(column)\n",
    "    columns_stat = pd.DataFrame(columns_stat)\n",
    "    columns_stat.columns = ['column_name']\n",
    "    columns_stat = columns_stat.reindex(columns = columns_stat.columns.tolist() + ['column_min','min_cnt','column_max','max_cnt'])\n",
    "    columns_stat['column_min'] = columns_stat['column_min'].fillna((columns_stat['column_name'].map(data.min().to_dict())))\n",
    "    columns_stat['column_max'] = columns_stat['column_max'].fillna((columns_stat['column_name'].map(data.max().to_dict()))) \n",
    "    \n",
    "    for column in selected_columns:\n",
    "        min_cnt.append(data[data[column] == data[column].min()][column].count())\n",
    "        max_cnt.append(data[data[column] == data[column].max()][column].count())\n",
    "    min_cnt = pd.Series(min_cnt).astype('int')\n",
    "    min_cnt.index = selected_columns\n",
    "    min_cnt.to_dict()\n",
    "    max_cnt = pd.Series(max_cnt).astype('int')\n",
    "    max_cnt.index = selected_columns\n",
    "    max_cnt.to_dict()    \n",
    "    columns_stat['min_cnt'] = columns_stat['min_cnt'].fillna(columns_stat['column_name'].map(min_cnt)).astype('int')\n",
    "    columns_stat['min_cnt_pct'] = round(columns_stat['min_cnt']/len(data)*100,2)\n",
    "    columns_stat['max_cnt'] = columns_stat['max_cnt'].fillna(columns_stat['column_name'].map(max_cnt)).astype('int')\n",
    "    columns_stat['max_cnt_pct'] = round(columns_stat['max_cnt']/len(data)*100,2)\n",
    "    columns_stat_columns_titles = ['column_name', 'column_min', 'min_cnt', 'min_cnt_pct', 'column_max', 'max_cnt', 'max_cnt_pct']\n",
    "    columns_stat = columns_stat.reindex(columns=columns_stat_columns_titles)\n",
    "    return columns_stat"
   ]
  },
  {
   "cell_type": "code",
   "execution_count": 5,
   "metadata": {},
   "outputs": [
    {
     "data": {
      "text/html": [
       "<div>\n",
       "<style scoped>\n",
       "    .dataframe tbody tr th:only-of-type {\n",
       "        vertical-align: middle;\n",
       "    }\n",
       "\n",
       "    .dataframe tbody tr th {\n",
       "        vertical-align: top;\n",
       "    }\n",
       "\n",
       "    .dataframe thead th {\n",
       "        text-align: right;\n",
       "    }\n",
       "</style>\n",
       "<table border=\"1\" class=\"dataframe\">\n",
       "  <thead>\n",
       "    <tr style=\"text-align: right;\">\n",
       "      <th></th>\n",
       "      <th>Unnamed: 0</th>\n",
       "      <th>Name</th>\n",
       "      <th>Platform</th>\n",
       "      <th>Year_of_Release</th>\n",
       "      <th>Genre</th>\n",
       "      <th>NA_sales</th>\n",
       "      <th>EU_sales</th>\n",
       "      <th>JP_sales</th>\n",
       "      <th>Other_sales</th>\n",
       "      <th>Critic_Score</th>\n",
       "      <th>User_Score</th>\n",
       "      <th>Rating</th>\n",
       "    </tr>\n",
       "  </thead>\n",
       "  <tbody>\n",
       "    <tr>\n",
       "      <th>0</th>\n",
       "      <td>0</td>\n",
       "      <td>Wii Sports</td>\n",
       "      <td>Wii</td>\n",
       "      <td>2006.0</td>\n",
       "      <td>Sports</td>\n",
       "      <td>41.36</td>\n",
       "      <td>28.96</td>\n",
       "      <td>3.77</td>\n",
       "      <td>8.45</td>\n",
       "      <td>76.0</td>\n",
       "      <td>8</td>\n",
       "      <td>E</td>\n",
       "    </tr>\n",
       "    <tr>\n",
       "      <th>1</th>\n",
       "      <td>1</td>\n",
       "      <td>Super Mario Bros.</td>\n",
       "      <td>NES</td>\n",
       "      <td>1985.0</td>\n",
       "      <td>Platform</td>\n",
       "      <td>29.08</td>\n",
       "      <td>3.58</td>\n",
       "      <td>6.81</td>\n",
       "      <td>0.77</td>\n",
       "      <td>NaN</td>\n",
       "      <td>NaN</td>\n",
       "      <td>NaN</td>\n",
       "    </tr>\n",
       "    <tr>\n",
       "      <th>2</th>\n",
       "      <td>2</td>\n",
       "      <td>Mario Kart Wii</td>\n",
       "      <td>Wii</td>\n",
       "      <td>2008.0</td>\n",
       "      <td>Racing</td>\n",
       "      <td>15.68</td>\n",
       "      <td>12.76</td>\n",
       "      <td>3.79</td>\n",
       "      <td>3.29</td>\n",
       "      <td>82.0</td>\n",
       "      <td>8.3</td>\n",
       "      <td>E</td>\n",
       "    </tr>\n",
       "    <tr>\n",
       "      <th>3</th>\n",
       "      <td>3</td>\n",
       "      <td>Wii Sports Resort</td>\n",
       "      <td>Wii</td>\n",
       "      <td>2009.0</td>\n",
       "      <td>Sports</td>\n",
       "      <td>15.61</td>\n",
       "      <td>10.93</td>\n",
       "      <td>3.28</td>\n",
       "      <td>2.95</td>\n",
       "      <td>80.0</td>\n",
       "      <td>8</td>\n",
       "      <td>E</td>\n",
       "    </tr>\n",
       "    <tr>\n",
       "      <th>4</th>\n",
       "      <td>4</td>\n",
       "      <td>Pokemon Red/Pokemon Blue</td>\n",
       "      <td>GB</td>\n",
       "      <td>1996.0</td>\n",
       "      <td>Role-Playing</td>\n",
       "      <td>11.27</td>\n",
       "      <td>8.89</td>\n",
       "      <td>10.22</td>\n",
       "      <td>1.00</td>\n",
       "      <td>NaN</td>\n",
       "      <td>NaN</td>\n",
       "      <td>NaN</td>\n",
       "    </tr>\n",
       "  </tbody>\n",
       "</table>\n",
       "</div>"
      ],
      "text/plain": [
       "   Unnamed: 0                      Name Platform  Year_of_Release  \\\n",
       "0           0                Wii Sports      Wii           2006.0   \n",
       "1           1         Super Mario Bros.      NES           1985.0   \n",
       "2           2            Mario Kart Wii      Wii           2008.0   \n",
       "3           3         Wii Sports Resort      Wii           2009.0   \n",
       "4           4  Pokemon Red/Pokemon Blue       GB           1996.0   \n",
       "\n",
       "          Genre  NA_sales  EU_sales  JP_sales  Other_sales  Critic_Score  \\\n",
       "0        Sports     41.36     28.96      3.77         8.45          76.0   \n",
       "1      Platform     29.08      3.58      6.81         0.77           NaN   \n",
       "2        Racing     15.68     12.76      3.79         3.29          82.0   \n",
       "3        Sports     15.61     10.93      3.28         2.95          80.0   \n",
       "4  Role-Playing     11.27      8.89     10.22         1.00           NaN   \n",
       "\n",
       "  User_Score Rating  \n",
       "0          8      E  \n",
       "1        NaN    NaN  \n",
       "2        8.3      E  \n",
       "3          8      E  \n",
       "4        NaN    NaN  "
      ]
     },
     "execution_count": 5,
     "metadata": {},
     "output_type": "execute_result"
    }
   ],
   "source": [
    "data.head()"
   ]
  },
  {
   "cell_type": "code",
   "execution_count": 6,
   "metadata": {},
   "outputs": [
    {
     "name": "stdout",
     "output_type": "stream",
     "text": [
      "<class 'pandas.core.frame.DataFrame'>\n",
      "RangeIndex: 16715 entries, 0 to 16714\n",
      "Data columns (total 12 columns):\n",
      " #   Column           Non-Null Count  Dtype  \n",
      "---  ------           --------------  -----  \n",
      " 0   Unnamed: 0       16715 non-null  int64  \n",
      " 1   Name             16713 non-null  object \n",
      " 2   Platform         16715 non-null  object \n",
      " 3   Year_of_Release  16446 non-null  float64\n",
      " 4   Genre            16713 non-null  object \n",
      " 5   NA_sales         16715 non-null  float64\n",
      " 6   EU_sales         16715 non-null  float64\n",
      " 7   JP_sales         16715 non-null  float64\n",
      " 8   Other_sales      16715 non-null  float64\n",
      " 9   Critic_Score     8137 non-null   float64\n",
      " 10  User_Score       10014 non-null  object \n",
      " 11  Rating           9949 non-null   object \n",
      "dtypes: float64(6), int64(1), object(5)\n",
      "memory usage: 1.5+ MB\n"
     ]
    }
   ],
   "source": [
    "data.info()"
   ]
  },
  {
   "cell_type": "code",
   "execution_count": 7,
   "metadata": {},
   "outputs": [
    {
     "name": "stdout",
     "output_type": "stream",
     "text": [
      "CPU times: total: 62.5 ms\n",
      "Wall time: 63.5 ms\n"
     ]
    },
    {
     "data": {
      "text/html": [
       "<style type=\"text/css\">\n",
       "#T_4664e_row0_col1, #T_4664e_row0_col2 {\n",
       "  background-color: #b40426;\n",
       "  color: #f1f1f1;\n",
       "}\n",
       "#T_4664e_row1_col1, #T_4664e_row1_col2 {\n",
       "  background-color: #f08a6c;\n",
       "  color: #f1f1f1;\n",
       "}\n",
       "#T_4664e_row2_col1, #T_4664e_row2_col2 {\n",
       "  background-color: #f18d6f;\n",
       "  color: #f1f1f1;\n",
       "}\n",
       "#T_4664e_row3_col1, #T_4664e_row3_col2 {\n",
       "  background-color: #4358cb;\n",
       "  color: #f1f1f1;\n",
       "}\n",
       "#T_4664e_row4_col1, #T_4664e_row4_col2, #T_4664e_row5_col1, #T_4664e_row5_col2 {\n",
       "  background-color: #3b4cc0;\n",
       "  color: #f1f1f1;\n",
       "}\n",
       "</style>\n",
       "<table id=\"T_4664e\">\n",
       "  <thead>\n",
       "    <tr>\n",
       "      <th class=\"blank level0\" >&nbsp;</th>\n",
       "      <th id=\"T_4664e_level0_col0\" class=\"col_heading level0 col0\" >column_name</th>\n",
       "      <th id=\"T_4664e_level0_col1\" class=\"col_heading level0 col1\" >spaces_cnt</th>\n",
       "      <th id=\"T_4664e_level0_col2\" class=\"col_heading level0 col2\" >spaces_pct</th>\n",
       "    </tr>\n",
       "  </thead>\n",
       "  <tbody>\n",
       "    <tr>\n",
       "      <th id=\"T_4664e_level0_row0\" class=\"row_heading level0 row0\" >0</th>\n",
       "      <td id=\"T_4664e_row0_col0\" class=\"data row0 col0\" >Critic_Score</td>\n",
       "      <td id=\"T_4664e_row0_col1\" class=\"data row0 col1\" >8578</td>\n",
       "      <td id=\"T_4664e_row0_col2\" class=\"data row0 col2\" >51.320000</td>\n",
       "    </tr>\n",
       "    <tr>\n",
       "      <th id=\"T_4664e_level0_row1\" class=\"row_heading level0 row1\" >1</th>\n",
       "      <td id=\"T_4664e_row1_col0\" class=\"data row1 col0\" >Rating</td>\n",
       "      <td id=\"T_4664e_row1_col1\" class=\"data row1 col1\" >6766</td>\n",
       "      <td id=\"T_4664e_row1_col2\" class=\"data row1 col2\" >40.480000</td>\n",
       "    </tr>\n",
       "    <tr>\n",
       "      <th id=\"T_4664e_level0_row2\" class=\"row_heading level0 row2\" >2</th>\n",
       "      <td id=\"T_4664e_row2_col0\" class=\"data row2 col0\" >User_Score</td>\n",
       "      <td id=\"T_4664e_row2_col1\" class=\"data row2 col1\" >6701</td>\n",
       "      <td id=\"T_4664e_row2_col2\" class=\"data row2 col2\" >40.090000</td>\n",
       "    </tr>\n",
       "    <tr>\n",
       "      <th id=\"T_4664e_level0_row3\" class=\"row_heading level0 row3\" >3</th>\n",
       "      <td id=\"T_4664e_row3_col0\" class=\"data row3 col0\" >Year_of_Release</td>\n",
       "      <td id=\"T_4664e_row3_col1\" class=\"data row3 col1\" >269</td>\n",
       "      <td id=\"T_4664e_row3_col2\" class=\"data row3 col2\" >1.610000</td>\n",
       "    </tr>\n",
       "    <tr>\n",
       "      <th id=\"T_4664e_level0_row4\" class=\"row_heading level0 row4\" >4</th>\n",
       "      <td id=\"T_4664e_row4_col0\" class=\"data row4 col0\" >Name</td>\n",
       "      <td id=\"T_4664e_row4_col1\" class=\"data row4 col1\" >2</td>\n",
       "      <td id=\"T_4664e_row4_col2\" class=\"data row4 col2\" >0.010000</td>\n",
       "    </tr>\n",
       "    <tr>\n",
       "      <th id=\"T_4664e_level0_row5\" class=\"row_heading level0 row5\" >5</th>\n",
       "      <td id=\"T_4664e_row5_col0\" class=\"data row5 col0\" >Genre</td>\n",
       "      <td id=\"T_4664e_row5_col1\" class=\"data row5 col1\" >2</td>\n",
       "      <td id=\"T_4664e_row5_col2\" class=\"data row5 col2\" >0.010000</td>\n",
       "    </tr>\n",
       "  </tbody>\n",
       "</table>\n"
      ],
      "text/plain": [
       "<pandas.io.formats.style.Styler at 0x17832f76290>"
      ]
     },
     "execution_count": 7,
     "metadata": {},
     "output_type": "execute_result"
    }
   ],
   "source": [
    "%%time\n",
    "spaces_data = spaces_stat(data)\n",
    "spaces_data.style.background_gradient('coolwarm')"
   ]
  },
  {
   "cell_type": "code",
   "execution_count": 8,
   "metadata": {},
   "outputs": [
    {
     "data": {
      "text/html": [
       "<div>\n",
       "<style scoped>\n",
       "    .dataframe tbody tr th:only-of-type {\n",
       "        vertical-align: middle;\n",
       "    }\n",
       "\n",
       "    .dataframe tbody tr th {\n",
       "        vertical-align: top;\n",
       "    }\n",
       "\n",
       "    .dataframe thead th {\n",
       "        text-align: right;\n",
       "    }\n",
       "</style>\n",
       "<table border=\"1\" class=\"dataframe\">\n",
       "  <thead>\n",
       "    <tr style=\"text-align: right;\">\n",
       "      <th></th>\n",
       "      <th>Unnamed: 0</th>\n",
       "      <th>Name</th>\n",
       "      <th>Platform</th>\n",
       "      <th>Year_of_Release</th>\n",
       "      <th>Genre</th>\n",
       "      <th>NA_sales</th>\n",
       "      <th>EU_sales</th>\n",
       "      <th>JP_sales</th>\n",
       "      <th>Other_sales</th>\n",
       "      <th>Critic_Score</th>\n",
       "      <th>User_Score</th>\n",
       "      <th>Rating</th>\n",
       "    </tr>\n",
       "  </thead>\n",
       "  <tbody>\n",
       "    <tr>\n",
       "      <th>659</th>\n",
       "      <td>659</td>\n",
       "      <td>NaN</td>\n",
       "      <td>GEN</td>\n",
       "      <td>1993.0</td>\n",
       "      <td>NaN</td>\n",
       "      <td>1.78</td>\n",
       "      <td>0.53</td>\n",
       "      <td>0.00</td>\n",
       "      <td>0.08</td>\n",
       "      <td>NaN</td>\n",
       "      <td>NaN</td>\n",
       "      <td>NaN</td>\n",
       "    </tr>\n",
       "    <tr>\n",
       "      <th>14244</th>\n",
       "      <td>14244</td>\n",
       "      <td>NaN</td>\n",
       "      <td>GEN</td>\n",
       "      <td>1993.0</td>\n",
       "      <td>NaN</td>\n",
       "      <td>0.00</td>\n",
       "      <td>0.00</td>\n",
       "      <td>0.03</td>\n",
       "      <td>0.00</td>\n",
       "      <td>NaN</td>\n",
       "      <td>NaN</td>\n",
       "      <td>NaN</td>\n",
       "    </tr>\n",
       "  </tbody>\n",
       "</table>\n",
       "</div>"
      ],
      "text/plain": [
       "       Unnamed: 0 Name Platform  Year_of_Release Genre  NA_sales  EU_sales  \\\n",
       "659           659  NaN      GEN           1993.0   NaN      1.78      0.53   \n",
       "14244       14244  NaN      GEN           1993.0   NaN      0.00      0.00   \n",
       "\n",
       "       JP_sales  Other_sales  Critic_Score User_Score Rating  \n",
       "659        0.00         0.08           NaN        NaN    NaN  \n",
       "14244      0.03         0.00           NaN        NaN    NaN  "
      ]
     },
     "execution_count": 8,
     "metadata": {},
     "output_type": "execute_result"
    }
   ],
   "source": [
    "data[data['Name'].isna()==True]"
   ]
  },
  {
   "cell_type": "code",
   "execution_count": 9,
   "metadata": {},
   "outputs": [
    {
     "name": "stdout",
     "output_type": "stream",
     "text": [
      "CPU times: total: 31.2 ms\n",
      "Wall time: 29.2 ms\n"
     ]
    },
    {
     "data": {
      "text/html": [
       "<div>\n",
       "<style scoped>\n",
       "    .dataframe tbody tr th:only-of-type {\n",
       "        vertical-align: middle;\n",
       "    }\n",
       "\n",
       "    .dataframe tbody tr th {\n",
       "        vertical-align: top;\n",
       "    }\n",
       "\n",
       "    .dataframe thead th {\n",
       "        text-align: right;\n",
       "    }\n",
       "</style>\n",
       "<table border=\"1\" class=\"dataframe\">\n",
       "  <thead>\n",
       "    <tr style=\"text-align: right;\">\n",
       "      <th></th>\n",
       "      <th>column_name</th>\n",
       "      <th>column_min</th>\n",
       "      <th>min_cnt</th>\n",
       "      <th>min_cnt_pct</th>\n",
       "      <th>column_max</th>\n",
       "      <th>max_cnt</th>\n",
       "      <th>max_cnt_pct</th>\n",
       "    </tr>\n",
       "  </thead>\n",
       "  <tbody>\n",
       "    <tr>\n",
       "      <th>0</th>\n",
       "      <td>Unnamed: 0</td>\n",
       "      <td>0.0</td>\n",
       "      <td>1</td>\n",
       "      <td>0.01</td>\n",
       "      <td>16714.00</td>\n",
       "      <td>1</td>\n",
       "      <td>0.01</td>\n",
       "    </tr>\n",
       "    <tr>\n",
       "      <th>1</th>\n",
       "      <td>Year_of_Release</td>\n",
       "      <td>1980.0</td>\n",
       "      <td>9</td>\n",
       "      <td>0.05</td>\n",
       "      <td>2016.00</td>\n",
       "      <td>502</td>\n",
       "      <td>3.00</td>\n",
       "    </tr>\n",
       "    <tr>\n",
       "      <th>2</th>\n",
       "      <td>NA_sales</td>\n",
       "      <td>0.0</td>\n",
       "      <td>4508</td>\n",
       "      <td>26.97</td>\n",
       "      <td>41.36</td>\n",
       "      <td>1</td>\n",
       "      <td>0.01</td>\n",
       "    </tr>\n",
       "    <tr>\n",
       "      <th>3</th>\n",
       "      <td>EU_sales</td>\n",
       "      <td>0.0</td>\n",
       "      <td>5870</td>\n",
       "      <td>35.12</td>\n",
       "      <td>28.96</td>\n",
       "      <td>1</td>\n",
       "      <td>0.01</td>\n",
       "    </tr>\n",
       "    <tr>\n",
       "      <th>4</th>\n",
       "      <td>JP_sales</td>\n",
       "      <td>0.0</td>\n",
       "      <td>10514</td>\n",
       "      <td>62.90</td>\n",
       "      <td>10.22</td>\n",
       "      <td>1</td>\n",
       "      <td>0.01</td>\n",
       "    </tr>\n",
       "    <tr>\n",
       "      <th>5</th>\n",
       "      <td>Other_sales</td>\n",
       "      <td>0.0</td>\n",
       "      <td>6601</td>\n",
       "      <td>39.49</td>\n",
       "      <td>10.57</td>\n",
       "      <td>1</td>\n",
       "      <td>0.01</td>\n",
       "    </tr>\n",
       "    <tr>\n",
       "      <th>6</th>\n",
       "      <td>Critic_Score</td>\n",
       "      <td>13.0</td>\n",
       "      <td>1</td>\n",
       "      <td>0.01</td>\n",
       "      <td>98.00</td>\n",
       "      <td>4</td>\n",
       "      <td>0.02</td>\n",
       "    </tr>\n",
       "  </tbody>\n",
       "</table>\n",
       "</div>"
      ],
      "text/plain": [
       "       column_name  column_min  min_cnt  min_cnt_pct  column_max  max_cnt  \\\n",
       "0       Unnamed: 0         0.0        1         0.01    16714.00        1   \n",
       "1  Year_of_Release      1980.0        9         0.05     2016.00      502   \n",
       "2         NA_sales         0.0     4508        26.97       41.36        1   \n",
       "3         EU_sales         0.0     5870        35.12       28.96        1   \n",
       "4         JP_sales         0.0    10514        62.90       10.22        1   \n",
       "5      Other_sales         0.0     6601        39.49       10.57        1   \n",
       "6     Critic_Score        13.0        1         0.01       98.00        4   \n",
       "\n",
       "   max_cnt_pct  \n",
       "0         0.01  \n",
       "1         3.00  \n",
       "2         0.01  \n",
       "3         0.01  \n",
       "4         0.01  \n",
       "5         0.01  \n",
       "6         0.02  "
      ]
     },
     "execution_count": 9,
     "metadata": {},
     "output_type": "execute_result"
    }
   ],
   "source": [
    "%%time\n",
    "columns_data = columns_stat(data)\n",
    "columns_data"
   ]
  },
  {
   "cell_type": "code",
   "execution_count": 10,
   "metadata": {},
   "outputs": [
    {
     "name": "stdout",
     "output_type": "stream",
     "text": [
      "Need for Speed: Most Wanted    12\n",
      "Haitaka no Psychedelica         1\n",
      "Name: Name, dtype: int64\n",
      "_______________________________________________\n",
      "PS2     2161\n",
      "PCFX       1\n",
      "Name: Platform, dtype: int64\n",
      "_______________________________________________\n",
      "Action    3369\n",
      "Puzzle     580\n",
      "Name: Genre, dtype: int64\n",
      "_______________________________________________\n",
      "tbd    2424\n",
      "9.7       1\n",
      "Name: User_Score, dtype: int64\n",
      "_______________________________________________\n",
      "E     3990\n",
      "AO       1\n",
      "Name: Rating, dtype: int64\n",
      "_______________________________________________\n"
     ]
    }
   ],
   "source": [
    "for column in data.select_dtypes(include=['object']):\n",
    "    print(data[column].value_counts().iloc[[0, -1]])\n",
    "    print('_______________________________________________')"
   ]
  },
  {
   "cell_type": "code",
   "execution_count": 11,
   "metadata": {},
   "outputs": [
    {
     "data": {
      "text/plain": [
       "0"
      ]
     },
     "execution_count": 11,
     "metadata": {},
     "output_type": "execute_result"
    }
   ],
   "source": [
    "data.duplicated().sum()"
   ]
  },
  {
   "cell_type": "markdown",
   "metadata": {},
   "source": [
    "**Вывод**\n",
    "\n",
    "В рамках предобработки данных следует:\n",
    "1. Названия столбцов привести к нижнему регистру — для удобства.\n",
    "2. Поле **Year_of_Release** привести к типу **datetime**, т.к. это год выпуска игры.\n",
    "    + пустые значения удалить, т.к. они составляют незначительную часть от всего набора данных (менее 2%).\n",
    "    \n",
    "    \n",
    "3. Поле **User_Score** привести к типу **float**, т.к. пользовательская оценка по смыслу должна быть числом и, судям по значениям, может быть нецелой:\n",
    "    + пустые значения заменить на -1, т.к. других отрицательных значений в поле нет\n",
    "    + значения \"tbd\" заменить на -1, т.к. данная аббревиатура означает, что оценка не определена.\n",
    "\n",
    "\n",
    "4. Строки с неуказанными игрой (**Name**) и жанром (**Genre**) удалить, т.к. данные строки неинформативны и составляют незначительную часть от всего набора данных (менее 1%).\n",
    "5. В поле **Critic_Score** пустые значения заменить на -1, т.к. других отрицательных значений в поле нет.\n",
    "6. В поле **Rating** пустые значения заменить на **undefined**."
   ]
  },
  {
   "cell_type": "markdown",
   "metadata": {},
   "source": [
    "## Предобработка данных"
   ]
  },
  {
   "cell_type": "markdown",
   "metadata": {},
   "source": [
    "### Переименование столбцов"
   ]
  },
  {
   "cell_type": "code",
   "execution_count": 12,
   "metadata": {},
   "outputs": [
    {
     "data": {
      "text/plain": [
       "Index(['unnamed: 0', 'name', 'platform', 'year_of_release', 'genre',\n",
       "       'na_sales', 'eu_sales', 'jp_sales', 'other_sales', 'critic_score',\n",
       "       'user_score', 'rating'],\n",
       "      dtype='object')"
      ]
     },
     "execution_count": 12,
     "metadata": {},
     "output_type": "execute_result"
    }
   ],
   "source": [
    "data.columns = data.columns.str.lower()\n",
    "data.columns    "
   ]
  },
  {
   "cell_type": "markdown",
   "metadata": {},
   "source": [
    "### Удаление пропусков"
   ]
  },
  {
   "cell_type": "code",
   "execution_count": 13,
   "metadata": {},
   "outputs": [],
   "source": [
    "data.dropna(subset=['name', 'genre', 'year_of_release'], inplace=True)"
   ]
  },
  {
   "cell_type": "code",
   "execution_count": 14,
   "metadata": {},
   "outputs": [],
   "source": [
    "data['user_score'] = data['user_score'].fillna(-1)\n",
    "data.loc[data['user_score'] =='tbd', 'user_score'] = -1"
   ]
  },
  {
   "cell_type": "code",
   "execution_count": 15,
   "metadata": {},
   "outputs": [],
   "source": [
    "data['critic_score'] = data['critic_score'].fillna(-1)"
   ]
  },
  {
   "cell_type": "code",
   "execution_count": 16,
   "metadata": {},
   "outputs": [],
   "source": [
    "data['rating'] = data['rating'].fillna('undefined')"
   ]
  },
  {
   "cell_type": "markdown",
   "metadata": {},
   "source": [
    "### Изменение типов данных"
   ]
  },
  {
   "cell_type": "code",
   "execution_count": 17,
   "metadata": {},
   "outputs": [
    {
     "name": "stdout",
     "output_type": "stream",
     "text": [
      "year_of_release — datetime64[ns]\n"
     ]
    }
   ],
   "source": [
    "data['year_of_release'] = pd.to_datetime(data['year_of_release'], yearfirst = True,  format ='%Y')\n",
    "print('year_of_release','—', data['year_of_release'].dtype)"
   ]
  },
  {
   "cell_type": "code",
   "execution_count": 18,
   "metadata": {},
   "outputs": [],
   "source": [
    "data['year_of_release'] = data['year_of_release'].dt.year"
   ]
  },
  {
   "cell_type": "code",
   "execution_count": 19,
   "metadata": {},
   "outputs": [
    {
     "name": "stdout",
     "output_type": "stream",
     "text": [
      "user_score — float64\n"
     ]
    }
   ],
   "source": [
    "data['user_score'] = data['user_score'].astype('float')\n",
    "print('user_score','—', data['user_score'].dtype)"
   ]
  },
  {
   "cell_type": "markdown",
   "metadata": {},
   "source": [
    "### Дополнительные расчёты\n",
    "Суммарные продажи во всех регионах"
   ]
  },
  {
   "cell_type": "code",
   "execution_count": 20,
   "metadata": {},
   "outputs": [],
   "source": [
    "data['ttl_sales'] = data['na_sales'] + data['eu_sales'] + data['jp_sales'] + data['other_sales']"
   ]
  },
  {
   "cell_type": "markdown",
   "metadata": {},
   "source": [
    "## Исследовательский анализ"
   ]
  },
  {
   "cell_type": "markdown",
   "metadata": {},
   "source": [
    "### Выпущенные игры \n",
    "* по годам"
   ]
  },
  {
   "cell_type": "code",
   "execution_count": 21,
   "metadata": {},
   "outputs": [
    {
     "data": {
      "text/html": [
       "<div>\n",
       "<style scoped>\n",
       "    .dataframe tbody tr th:only-of-type {\n",
       "        vertical-align: middle;\n",
       "    }\n",
       "\n",
       "    .dataframe tbody tr th {\n",
       "        vertical-align: top;\n",
       "    }\n",
       "\n",
       "    .dataframe thead th {\n",
       "        text-align: right;\n",
       "    }\n",
       "</style>\n",
       "<table border=\"1\" class=\"dataframe\">\n",
       "  <thead>\n",
       "    <tr style=\"text-align: right;\">\n",
       "      <th></th>\n",
       "      <th>year_of_release</th>\n",
       "      <th>games_released_cnt</th>\n",
       "      <th>games_released_pct</th>\n",
       "    </tr>\n",
       "  </thead>\n",
       "  <tbody>\n",
       "    <tr>\n",
       "      <th>0</th>\n",
       "      <td>2008</td>\n",
       "      <td>1427</td>\n",
       "      <td>8.68</td>\n",
       "    </tr>\n",
       "    <tr>\n",
       "      <th>1</th>\n",
       "      <td>2009</td>\n",
       "      <td>1426</td>\n",
       "      <td>8.67</td>\n",
       "    </tr>\n",
       "    <tr>\n",
       "      <th>2</th>\n",
       "      <td>2010</td>\n",
       "      <td>1255</td>\n",
       "      <td>7.63</td>\n",
       "    </tr>\n",
       "    <tr>\n",
       "      <th>3</th>\n",
       "      <td>2007</td>\n",
       "      <td>1197</td>\n",
       "      <td>7.28</td>\n",
       "    </tr>\n",
       "    <tr>\n",
       "      <th>4</th>\n",
       "      <td>2011</td>\n",
       "      <td>1136</td>\n",
       "      <td>6.91</td>\n",
       "    </tr>\n",
       "    <tr>\n",
       "      <th>5</th>\n",
       "      <td>2006</td>\n",
       "      <td>1006</td>\n",
       "      <td>6.12</td>\n",
       "    </tr>\n",
       "    <tr>\n",
       "      <th>6</th>\n",
       "      <td>2005</td>\n",
       "      <td>939</td>\n",
       "      <td>5.71</td>\n",
       "    </tr>\n",
       "    <tr>\n",
       "      <th>7</th>\n",
       "      <td>2002</td>\n",
       "      <td>829</td>\n",
       "      <td>5.04</td>\n",
       "    </tr>\n",
       "    <tr>\n",
       "      <th>8</th>\n",
       "      <td>2003</td>\n",
       "      <td>775</td>\n",
       "      <td>4.71</td>\n",
       "    </tr>\n",
       "    <tr>\n",
       "      <th>9</th>\n",
       "      <td>2004</td>\n",
       "      <td>762</td>\n",
       "      <td>4.63</td>\n",
       "    </tr>\n",
       "    <tr>\n",
       "      <th>10</th>\n",
       "      <td>2012</td>\n",
       "      <td>653</td>\n",
       "      <td>3.97</td>\n",
       "    </tr>\n",
       "    <tr>\n",
       "      <th>11</th>\n",
       "      <td>2015</td>\n",
       "      <td>606</td>\n",
       "      <td>3.69</td>\n",
       "    </tr>\n",
       "    <tr>\n",
       "      <th>12</th>\n",
       "      <td>2014</td>\n",
       "      <td>581</td>\n",
       "      <td>3.53</td>\n",
       "    </tr>\n",
       "    <tr>\n",
       "      <th>13</th>\n",
       "      <td>2013</td>\n",
       "      <td>544</td>\n",
       "      <td>3.31</td>\n",
       "    </tr>\n",
       "    <tr>\n",
       "      <th>14</th>\n",
       "      <td>2016</td>\n",
       "      <td>502</td>\n",
       "      <td>3.05</td>\n",
       "    </tr>\n",
       "  </tbody>\n",
       "</table>\n",
       "</div>"
      ],
      "text/plain": [
       "    year_of_release  games_released_cnt  games_released_pct\n",
       "0              2008                1427                8.68\n",
       "1              2009                1426                8.67\n",
       "2              2010                1255                7.63\n",
       "3              2007                1197                7.28\n",
       "4              2011                1136                6.91\n",
       "5              2006                1006                6.12\n",
       "6              2005                 939                5.71\n",
       "7              2002                 829                5.04\n",
       "8              2003                 775                4.71\n",
       "9              2004                 762                4.63\n",
       "10             2012                 653                3.97\n",
       "11             2015                 606                3.69\n",
       "12             2014                 581                3.53\n",
       "13             2013                 544                3.31\n",
       "14             2016                 502                3.05"
      ]
     },
     "execution_count": 21,
     "metadata": {},
     "output_type": "execute_result"
    }
   ],
   "source": [
    "years = data.groupby('year_of_release')['name'].count().reset_index()\n",
    "years = years.rename(columns={'name':'games_released_cnt'})\n",
    "years['games_released_pct'] = round(years['games_released_cnt']/years['games_released_cnt'].sum()*100,2)\n",
    "years.sort_values(by='games_released_cnt', ascending = False).reset_index(drop=True).head(15)"
   ]
  },
  {
   "cell_type": "code",
   "execution_count": 22,
   "metadata": {},
   "outputs": [
    {
     "data": {
      "image/png": "[encoded data removed]",
      "text/plain": [
       "<Figure size 1500x600 with 1 Axes>"
      ]
     },
     "metadata": {},
     "output_type": "display_data"
    }
   ],
   "source": [
    "fig1 = years.plot('year_of_release','games_released_cnt', kind = 'line', grid = True, figsize =(15, 6)\n",
    "                  , legend = False)\n",
    "fig1.set_title('Выпущенные игры', fontsize=16)\n",
    "fig1.set_ylabel('Игры, шт.')\n",
    "fig1.set_xlabel('Год выпуска');"
   ]
  },
  {
   "cell_type": "code",
   "execution_count": 23,
   "metadata": {},
   "outputs": [],
   "source": [
    "platform_year_max = data.groupby('platform')['year_of_release'].max()\n",
    "platforms_not_actual = platform_year_max[platform_year_max <2002].reset_index()\n",
    "platforms_not_actual = platforms_not_actual['platform'].array"
   ]
  },
  {
   "cell_type": "code",
   "execution_count": 24,
   "metadata": {},
   "outputs": [
    {
     "data": {
      "text/plain": [
       "array(['Wii', 'DS', 'X360', 'PS3', 'PS2', 'GBA', 'PS4', '3DS', 'N64',\n",
       "       'PS', 'XB', 'PC', 'PSP', 'XOne', 'WiiU', 'GC', 'DC', 'PSV'],\n",
       "      dtype=object)"
      ]
     },
     "execution_count": 24,
     "metadata": {},
     "output_type": "execute_result"
    }
   ],
   "source": [
    "data = data[~data['platform'].isin(platforms_not_actual)].reset_index(drop=True)\n",
    "data['platform'].unique()"
   ]
  },
  {
   "cell_type": "code",
   "execution_count": 25,
   "metadata": {},
   "outputs": [
    {
     "data": {
      "text/plain": [
       "18"
      ]
     },
     "execution_count": 25,
     "metadata": {},
     "output_type": "execute_result"
    }
   ],
   "source": [
    "len(data['platform'].unique())"
   ]
  },
  {
   "cell_type": "markdown",
   "metadata": {},
   "source": [
    "**Вывод**\n",
    "* Больше всего игр вышло в период с 2002 по 2016. \n",
    "* Пик индустрии пришёлся на конец нулевых: 2008-2010. \n",
    "* Имеет смысл исключить из рассмотрения платформы, последние игры для которых вышли до 2002.\n",
    "* Итого остаются 18 предположительно актуальных на 2017 платформ, среди которых вечный десктоп (**PC**)."
   ]
  },
  {
   "cell_type": "markdown",
   "metadata": {},
   "source": [
    "### Среднее время жизни платформы\n",
    "* продажи на самых доходных платформах по годам\n",
    "* характерный срок, за который появляются новые и исчезают старые платформы"
   ]
  },
  {
   "cell_type": "code",
   "execution_count": 26,
   "metadata": {},
   "outputs": [],
   "source": [
    "sales_years = data.groupby(['platform','year_of_release'])['ttl_sales'].sum().reset_index()"
   ]
  },
  {
   "cell_type": "code",
   "execution_count": 27,
   "metadata": {},
   "outputs": [
    {
     "data": {
      "text/html": [
       "<div>\n",
       "<style scoped>\n",
       "    .dataframe tbody tr th:only-of-type {\n",
       "        vertical-align: middle;\n",
       "    }\n",
       "\n",
       "    .dataframe tbody tr th {\n",
       "        vertical-align: top;\n",
       "    }\n",
       "\n",
       "    .dataframe thead th {\n",
       "        text-align: right;\n",
       "    }\n",
       "</style>\n",
       "<table border=\"1\" class=\"dataframe\">\n",
       "  <thead>\n",
       "    <tr style=\"text-align: right;\">\n",
       "      <th></th>\n",
       "      <th>platform</th>\n",
       "      <th>year_of_release</th>\n",
       "      <th>ttl_sales</th>\n",
       "    </tr>\n",
       "  </thead>\n",
       "  <tbody>\n",
       "    <tr>\n",
       "      <th>0</th>\n",
       "      <td>3DS</td>\n",
       "      <td>2011</td>\n",
       "      <td>63.20</td>\n",
       "    </tr>\n",
       "    <tr>\n",
       "      <th>1</th>\n",
       "      <td>3DS</td>\n",
       "      <td>2012</td>\n",
       "      <td>51.36</td>\n",
       "    </tr>\n",
       "    <tr>\n",
       "      <th>2</th>\n",
       "      <td>3DS</td>\n",
       "      <td>2013</td>\n",
       "      <td>56.57</td>\n",
       "    </tr>\n",
       "    <tr>\n",
       "      <th>3</th>\n",
       "      <td>3DS</td>\n",
       "      <td>2014</td>\n",
       "      <td>43.76</td>\n",
       "    </tr>\n",
       "    <tr>\n",
       "      <th>4</th>\n",
       "      <td>3DS</td>\n",
       "      <td>2015</td>\n",
       "      <td>27.78</td>\n",
       "    </tr>\n",
       "    <tr>\n",
       "      <th>...</th>\n",
       "      <td>...</td>\n",
       "      <td>...</td>\n",
       "      <td>...</td>\n",
       "    </tr>\n",
       "    <tr>\n",
       "      <th>163</th>\n",
       "      <td>XB</td>\n",
       "      <td>2008</td>\n",
       "      <td>0.18</td>\n",
       "    </tr>\n",
       "    <tr>\n",
       "      <th>164</th>\n",
       "      <td>XOne</td>\n",
       "      <td>2013</td>\n",
       "      <td>18.96</td>\n",
       "    </tr>\n",
       "    <tr>\n",
       "      <th>165</th>\n",
       "      <td>XOne</td>\n",
       "      <td>2014</td>\n",
       "      <td>54.07</td>\n",
       "    </tr>\n",
       "    <tr>\n",
       "      <th>166</th>\n",
       "      <td>XOne</td>\n",
       "      <td>2015</td>\n",
       "      <td>60.14</td>\n",
       "    </tr>\n",
       "    <tr>\n",
       "      <th>167</th>\n",
       "      <td>XOne</td>\n",
       "      <td>2016</td>\n",
       "      <td>26.15</td>\n",
       "    </tr>\n",
       "  </tbody>\n",
       "</table>\n",
       "<p>168 rows × 3 columns</p>\n",
       "</div>"
      ],
      "text/plain": [
       "    platform  year_of_release  ttl_sales\n",
       "0        3DS             2011      63.20\n",
       "1        3DS             2012      51.36\n",
       "2        3DS             2013      56.57\n",
       "3        3DS             2014      43.76\n",
       "4        3DS             2015      27.78\n",
       "..       ...              ...        ...\n",
       "163       XB             2008       0.18\n",
       "164     XOne             2013      18.96\n",
       "165     XOne             2014      54.07\n",
       "166     XOne             2015      60.14\n",
       "167     XOne             2016      26.15\n",
       "\n",
       "[168 rows x 3 columns]"
      ]
     },
     "execution_count": 27,
     "metadata": {},
     "output_type": "execute_result"
    }
   ],
   "source": [
    "sales_years"
   ]
  },
  {
   "cell_type": "code",
   "execution_count": 28,
   "metadata": {},
   "outputs": [],
   "source": [
    "sales = sales_years.groupby('platform')['ttl_sales'].sum().reset_index()\n",
    "sales_top = sales.sort_values(by = 'ttl_sales', ascending = False).reset_index(drop=True).head(9)"
   ]
  },
  {
   "cell_type": "code",
   "execution_count": 29,
   "metadata": {},
   "outputs": [],
   "source": [
    "platforms_top =[]\n",
    "for i in range(len(sales_top)):\n",
    "    platforms_top.append(sales_top['platform'][i])"
   ]
  },
  {
   "cell_type": "code",
   "execution_count": 30,
   "metadata": {},
   "outputs": [],
   "source": [
    "sales_years_top = sales_years[sales_years['platform'].isin(platforms_top)].reset_index(drop=True)"
   ]
  },
  {
   "cell_type": "code",
   "execution_count": 31,
   "metadata": {},
   "outputs": [
    {
     "data": {
      "text/plain": [
       "10.11"
      ]
     },
     "execution_count": 31,
     "metadata": {},
     "output_type": "execute_result"
    }
   ],
   "source": [
    "sales_years_top.groupby('platform')['year_of_release'].count().mean().round(2)"
   ]
  },
  {
   "cell_type": "code",
   "execution_count": 32,
   "metadata": {},
   "outputs": [],
   "source": [
    "sales_years_top_pivot = sales_years_top.pivot_table(index = 'year_of_release'\n",
    "                                                    , columns = 'platform', values = 'ttl_sales').fillna(0)\n",
    "sales_years_top_pivot['year_of_release'] = sales_years_top_pivot.index\n",
    "sales_years_top_pivot = sales_years_top_pivot.reset_index(drop=True)"
   ]
  },
  {
   "cell_type": "code",
   "execution_count": 33,
   "metadata": {},
   "outputs": [
    {
     "data": {
      "image/png": "[encoded data removed]",
      "text/plain": [
       "<Figure size 1500x600 with 1 Axes>"
      ]
     },
     "metadata": {},
     "output_type": "display_data"
    }
   ],
   "source": [
    "fig2 = sales_years_top_pivot.plot(x='year_of_release', kind='bar', figsize =(15, 6)\n",
    "                                  , title = 'Проданные игры')\n",
    "fig2.set_xlabel('Год выпуска')\n",
    "fig2.set_ylabel('Продажи, млн копий')\n",
    "fig2.legend(sales_years_top_pivot.columns);"
   ]
  },
  {
   "cell_type": "markdown",
   "metadata": {},
   "source": [
    "**Вывод**\n",
    "1. В среднем платформа живёт около 10 лет, далее игры под неё перестают выпускать.\n",
    "2. Пик популярности платформы приходится примерно на середину её жизненного цикла.\n",
    "3. Соответственно, в рамках прогноза на 2017 интересны платформы и игры не старше 2011 и бессмертный **PC**."
   ]
  },
  {
   "cell_type": "markdown",
   "metadata": {},
   "source": [
    "### Актуальный период \n",
    "* для построения прогноза на 2017 год"
   ]
  },
  {
   "cell_type": "code",
   "execution_count": 34,
   "metadata": {},
   "outputs": [],
   "source": [
    "platforms_not_actual_2 = sales_years[(sales_years['year_of_release']<2011)\n",
    "                                     &(sales_years['platform']!='PC')]['platform'].unique()\n",
    "data_actual = data[~data['platform'].isin(platforms_not_actual_2)].reset_index(drop=True)"
   ]
  },
  {
   "cell_type": "code",
   "execution_count": 35,
   "metadata": {},
   "outputs": [],
   "source": [
    "data_actual = data_actual[data_actual['year_of_release']>=2011]"
   ]
  },
  {
   "cell_type": "markdown",
   "metadata": {},
   "source": [
    "### Потенциально прибыльные платформы\n",
    "* ящик с усами в разбивке по продажам"
   ]
  },
  {
   "cell_type": "code",
   "execution_count": 36,
   "metadata": {},
   "outputs": [
    {
     "data": {
      "text/html": [
       "<div>\n",
       "<style scoped>\n",
       "    .dataframe tbody tr th:only-of-type {\n",
       "        vertical-align: middle;\n",
       "    }\n",
       "\n",
       "    .dataframe tbody tr th {\n",
       "        vertical-align: top;\n",
       "    }\n",
       "\n",
       "    .dataframe thead th {\n",
       "        text-align: right;\n",
       "    }\n",
       "</style>\n",
       "<table border=\"1\" class=\"dataframe\">\n",
       "  <thead>\n",
       "    <tr style=\"text-align: right;\">\n",
       "      <th></th>\n",
       "      <th>platform</th>\n",
       "      <th>ttl_sales</th>\n",
       "    </tr>\n",
       "  </thead>\n",
       "  <tbody>\n",
       "    <tr>\n",
       "      <th>0</th>\n",
       "      <td>PS4</td>\n",
       "      <td>314.14</td>\n",
       "    </tr>\n",
       "    <tr>\n",
       "      <th>1</th>\n",
       "      <td>3DS</td>\n",
       "      <td>257.81</td>\n",
       "    </tr>\n",
       "    <tr>\n",
       "      <th>2</th>\n",
       "      <td>XOne</td>\n",
       "      <td>159.32</td>\n",
       "    </tr>\n",
       "    <tr>\n",
       "      <th>3</th>\n",
       "      <td>PC</td>\n",
       "      <td>97.68</td>\n",
       "    </tr>\n",
       "    <tr>\n",
       "      <th>4</th>\n",
       "      <td>WiiU</td>\n",
       "      <td>82.19</td>\n",
       "    </tr>\n",
       "    <tr>\n",
       "      <th>5</th>\n",
       "      <td>PSV</td>\n",
       "      <td>53.81</td>\n",
       "    </tr>\n",
       "  </tbody>\n",
       "</table>\n",
       "</div>"
      ],
      "text/plain": [
       "  platform  ttl_sales\n",
       "0      PS4     314.14\n",
       "1      3DS     257.81\n",
       "2     XOne     159.32\n",
       "3       PC      97.68\n",
       "4     WiiU      82.19\n",
       "5      PSV      53.81"
      ]
     },
     "execution_count": 36,
     "metadata": {},
     "output_type": "execute_result"
    }
   ],
   "source": [
    "data_actual_sales_years = data_actual.groupby(['platform','year_of_release'])['ttl_sales'].sum().reset_index()\n",
    "data_actual_sales = data_actual_sales_years.groupby(['platform'])['ttl_sales'].sum().reset_index()\n",
    "data_actual_sales = data_actual_sales.sort_values(by='ttl_sales',ascending=False).reset_index(drop=True)\n",
    "data_actual_sales"
   ]
  },
  {
   "cell_type": "code",
   "execution_count": 37,
   "metadata": {},
   "outputs": [],
   "source": [
    "data_actual_sales_pivot = data_actual_sales_years.pivot_table(index = 'year_of_release', columns = 'platform', values = 'ttl_sales').fillna(0)\n",
    "data_actual_sales_pivot['year_of_release'] = data_actual_sales_pivot.index\n",
    "data_actual_sales_pivot = data_actual_sales_pivot.reset_index(drop=True)"
   ]
  },
  {
   "cell_type": "code",
   "execution_count": 38,
   "metadata": {},
   "outputs": [
    {
     "data": {
      "image/png": "[encoded data removed]",
      "text/plain": [
       "<Figure size 1500x600 with 1 Axes>"
      ]
     },
     "metadata": {},
     "output_type": "display_data"
    }
   ],
   "source": [
    "fig3 = data_actual_sales_pivot.plot(x='year_of_release', kind='line', figsize =(15, 6)\n",
    "                                  , grid = True\n",
    "                                  , title = 'Проданные игры'\n",
    "                                  , xlim = (2011,2016))\n",
    "fig3.set_xlabel('Год выпуска')\n",
    "fig3.legend(data_actual_sales_pivot.columns);"
   ]
  },
  {
   "cell_type": "code",
   "execution_count": 39,
   "metadata": {},
   "outputs": [
    {
     "data": {
      "image/png": "[encoded data removed]",
      "text/plain": [
       "<Figure size 1500x800 with 1 Axes>"
      ]
     },
     "metadata": {},
     "output_type": "display_data"
    }
   ],
   "source": [
    "fig4 = data_actual_sales_years.boxplot(by='platform', column = 'ttl_sales', figsize =(15, 8), vert = False)\n",
    "fig4.set_ylabel('Платформа')\n",
    "fig4.set_xlabel('Продажи')\n",
    "fig4.set_title('Ящики');"
   ]
  },
  {
   "cell_type": "code",
   "execution_count": 40,
   "metadata": {},
   "outputs": [
    {
     "data": {
      "image/png": "[encoded data removed]",
      "text/plain": [
       "<Figure size 1500x800 with 1 Axes>"
      ]
     },
     "metadata": {},
     "output_type": "display_data"
    }
   ],
   "source": [
    "perspective = ['3DS', 'PC', 'XOne', 'PS4']\n",
    "fig5 = data_actual.query('platform in @perspective and ttl_sales < 5').boxplot(by = 'platform', column = 'ttl_sales'\n",
    "                                                                               , figsize =(15, 8), vert = False)\n",
    "fig5.set_ylabel('Платформа')\n",
    "fig5.set_xlabel('Продажи')\n",
    "fig5.set_title('Ящики');"
   ]
  },
  {
   "cell_type": "markdown",
   "metadata": {},
   "source": [
    "**Вывод**\n",
    "1. Для прогноза на 2017 актуальны 4 платформы, в т.ч. **XOne** и **PC**.\n",
    "2. Наиболее прибыльные из этих платформ — **PS4**, **3DS** и **XOne**.\n",
    "3. Однако доходность всех платформ после 2015 года снижается.\n",
    "4. Самые нестабльные продажи на **PS4** (большой разброс значений на диаграмме размаха).\n",
    "5. Самые стабильные — на **WiiU** и **PSV**, они же самые низкие."
   ]
  },
  {
   "cell_type": "markdown",
   "metadata": {},
   "source": [
    "### Влияние отзывов на продажи\n",
    "* корреляция между отзывами и продажами\n",
    "* диаграмма рассеяния"
   ]
  },
  {
   "cell_type": "code",
   "execution_count": 41,
   "metadata": {},
   "outputs": [],
   "source": [
    "data_actual_platform_max = data_actual[(data_actual['platform']==data_actual_sales['platform'][0])&\n",
    "                                      (data_actual['critic_score']>=0)&\n",
    "                                      (data_actual['user_score']>=0)]"
   ]
  },
  {
   "cell_type": "code",
   "execution_count": 42,
   "metadata": {},
   "outputs": [
    {
     "name": "stdout",
     "output_type": "stream",
     "text": [
      "critic_score\n",
      "ttl_sales:  0.41\n",
      "____________________________________________\n",
      "user_score\n",
      "ttl_sales:  -0.03\n",
      "____________________________________________\n"
     ]
    }
   ],
   "source": [
    "for column in ['critic_score', 'user_score']:\n",
    "    print (column)\n",
    "    print('ttl_sales: ', round(data_actual_platform_max['ttl_sales'].corr(data_actual_platform_max[column]),2))    \n",
    "    print('____________________________________________')"
   ]
  },
  {
   "cell_type": "code",
   "execution_count": 43,
   "metadata": {},
   "outputs": [
    {
     "data": {
      "image/png": "[encoded data removed]",
      "text/plain": [
       "<Figure size 640x480 with 1 Axes>"
      ]
     },
     "metadata": {},
     "output_type": "display_data"
    },
    {
     "data": {
      "image/png": "[encoded data removed]",
      "text/plain": [
       "<Figure size 640x480 with 1 Axes>"
      ]
     },
     "metadata": {},
     "output_type": "display_data"
    }
   ],
   "source": [
    "for column in ('critic_score','user_score'):\n",
    "    fig5 = data_actual_platform_max.plot(x=column, y='ttl_sales', kind='scatter') \n",
    "    fig5.set_ylabel('Продажи')\n",
    "    fig5.set_xlabel('Оценки')\n",
    "    fig5.set_title('Диаграмма рассеяния {}'.format(column))"
   ]
  },
  {
   "cell_type": "code",
   "execution_count": 44,
   "metadata": {},
   "outputs": [
    {
     "name": "stdout",
     "output_type": "stream",
     "text": [
      "critic_score\n",
      "ttl_sales:  0.31\n",
      "____________________________________________\n",
      "user_score\n",
      "ttl_sales:  0.04\n",
      "____________________________________________\n"
     ]
    }
   ],
   "source": [
    "for column in ['critic_score', 'user_score']:\n",
    "    print (column)\n",
    "    print('ttl_sales: ', round(data_actual[(data_actual['critic_score']>=0)\n",
    "                            &(data_actual['user_score']>=0)]['ttl_sales'].corr(data_actual[(data_actual['critic_score']>=0)\n",
    "                                                                           &(data_actual['user_score']>=0)][column]),2))    \n",
    "    print('____________________________________________')"
   ]
  },
  {
   "cell_type": "code",
   "execution_count": 45,
   "metadata": {},
   "outputs": [
    {
     "data": {
      "image/png": "[encoded data removed]",
      "text/plain": [
       "<Figure size 640x480 with 1 Axes>"
      ]
     },
     "metadata": {},
     "output_type": "display_data"
    },
    {
     "data": {
      "image/png": "[encoded data removed]",
      "text/plain": [
       "<Figure size 640x480 with 1 Axes>"
      ]
     },
     "metadata": {},
     "output_type": "display_data"
    }
   ],
   "source": [
    "for column in ('critic_score','user_score'):\n",
    "    fig6 = data_actual[(data_actual['critic_score']>=0)&(data_actual['user_score']>=0)].plot(x=column\n",
    "                                                                                             , y='ttl_sales'\n",
    "                                                                                             , kind='scatter') \n",
    "    fig6.set_ylabel('Продажи')\n",
    "    fig6.set_xlabel('Оценки')\n",
    "    fig6.set_title('Диаграмма рассеяния {}'.format(column))"
   ]
  },
  {
   "cell_type": "markdown",
   "metadata": {},
   "source": [
    "**Вывод**\n",
    "1. Продажи игр на самой прибыльной платформе **PS4**:\n",
    "   * зависят от оценок критиков — прямопропорционально: чем выше оценки, тем больше продажи\n",
    "   * не зависят от оценок пользователей \n",
    "2. Те же закономерности наблюдаются в индустрии в целом, т.е. если смотреть по всем актуальным платформам сразу."
   ]
  },
  {
   "cell_type": "markdown",
   "metadata": {},
   "source": [
    "### Игры по жанрам"
   ]
  },
  {
   "cell_type": "code",
   "execution_count": 46,
   "metadata": {},
   "outputs": [
    {
     "data": {
      "text/html": [
       "<div>\n",
       "<style scoped>\n",
       "    .dataframe tbody tr th:only-of-type {\n",
       "        vertical-align: middle;\n",
       "    }\n",
       "\n",
       "    .dataframe tbody tr th {\n",
       "        vertical-align: top;\n",
       "    }\n",
       "\n",
       "    .dataframe thead th {\n",
       "        text-align: right;\n",
       "    }\n",
       "</style>\n",
       "<table border=\"1\" class=\"dataframe\">\n",
       "  <thead>\n",
       "    <tr style=\"text-align: right;\">\n",
       "      <th></th>\n",
       "      <th>genre</th>\n",
       "      <th>ttl_sales</th>\n",
       "      <th>games_cnt</th>\n",
       "      <th>sales_per_game</th>\n",
       "    </tr>\n",
       "  </thead>\n",
       "  <tbody>\n",
       "    <tr>\n",
       "      <th>0</th>\n",
       "      <td>Action</td>\n",
       "      <td>246.88</td>\n",
       "      <td>717</td>\n",
       "      <td>0.34</td>\n",
       "    </tr>\n",
       "    <tr>\n",
       "      <th>1</th>\n",
       "      <td>Shooter</td>\n",
       "      <td>182.92</td>\n",
       "      <td>162</td>\n",
       "      <td>1.13</td>\n",
       "    </tr>\n",
       "    <tr>\n",
       "      <th>2</th>\n",
       "      <td>Role-Playing</td>\n",
       "      <td>161.46</td>\n",
       "      <td>284</td>\n",
       "      <td>0.57</td>\n",
       "    </tr>\n",
       "    <tr>\n",
       "      <th>3</th>\n",
       "      <td>Sports</td>\n",
       "      <td>101.46</td>\n",
       "      <td>164</td>\n",
       "      <td>0.62</td>\n",
       "    </tr>\n",
       "    <tr>\n",
       "      <th>4</th>\n",
       "      <td>Platform</td>\n",
       "      <td>65.56</td>\n",
       "      <td>77</td>\n",
       "      <td>0.85</td>\n",
       "    </tr>\n",
       "    <tr>\n",
       "      <th>5</th>\n",
       "      <td>Racing</td>\n",
       "      <td>49.34</td>\n",
       "      <td>92</td>\n",
       "      <td>0.54</td>\n",
       "    </tr>\n",
       "    <tr>\n",
       "      <th>6</th>\n",
       "      <td>Misc</td>\n",
       "      <td>44.27</td>\n",
       "      <td>146</td>\n",
       "      <td>0.30</td>\n",
       "    </tr>\n",
       "    <tr>\n",
       "      <th>7</th>\n",
       "      <td>Simulation</td>\n",
       "      <td>41.26</td>\n",
       "      <td>87</td>\n",
       "      <td>0.47</td>\n",
       "    </tr>\n",
       "    <tr>\n",
       "      <th>8</th>\n",
       "      <td>Fighting</td>\n",
       "      <td>30.67</td>\n",
       "      <td>63</td>\n",
       "      <td>0.49</td>\n",
       "    </tr>\n",
       "    <tr>\n",
       "      <th>9</th>\n",
       "      <td>Adventure</td>\n",
       "      <td>19.64</td>\n",
       "      <td>204</td>\n",
       "      <td>0.10</td>\n",
       "    </tr>\n",
       "    <tr>\n",
       "      <th>10</th>\n",
       "      <td>Strategy</td>\n",
       "      <td>13.86</td>\n",
       "      <td>80</td>\n",
       "      <td>0.17</td>\n",
       "    </tr>\n",
       "    <tr>\n",
       "      <th>11</th>\n",
       "      <td>Puzzle</td>\n",
       "      <td>7.63</td>\n",
       "      <td>40</td>\n",
       "      <td>0.19</td>\n",
       "    </tr>\n",
       "  </tbody>\n",
       "</table>\n",
       "</div>"
      ],
      "text/plain": [
       "           genre  ttl_sales  games_cnt  sales_per_game\n",
       "0         Action     246.88        717            0.34\n",
       "1        Shooter     182.92        162            1.13\n",
       "2   Role-Playing     161.46        284            0.57\n",
       "3         Sports     101.46        164            0.62\n",
       "4       Platform      65.56         77            0.85\n",
       "5         Racing      49.34         92            0.54\n",
       "6           Misc      44.27        146            0.30\n",
       "7     Simulation      41.26         87            0.47\n",
       "8       Fighting      30.67         63            0.49\n",
       "9      Adventure      19.64        204            0.10\n",
       "10      Strategy      13.86         80            0.17\n",
       "11        Puzzle       7.63         40            0.19"
      ]
     },
     "execution_count": 46,
     "metadata": {},
     "output_type": "execute_result"
    }
   ],
   "source": [
    "data_actual_genres = data_actual.groupby('genre').agg({'ttl_sales':'sum', 'name':'count'}).reset_index()\n",
    "data_actual_genres = data_actual_genres.rename(columns={'name':'games_cnt'})\n",
    "data_actual_genres['sales_per_game'] = (data_actual_genres['ttl_sales']/data_actual_genres['games_cnt']).round(2)\n",
    "data_actual_genres.sort_values(by='ttl_sales', ascending = False).reset_index(drop=True)"
   ]
  },
  {
   "cell_type": "code",
   "execution_count": 47,
   "metadata": {},
   "outputs": [
    {
     "data": {
      "image/png": "[encoded data removed]",
      "text/plain": [
       "<Figure size 1000x600 with 1 Axes>"
      ]
     },
     "metadata": {},
     "output_type": "display_data"
    }
   ],
   "source": [
    "fig6 = data_actual_genres.plot(kind='bar', x='genre', y='ttl_sales', figsize =(10, 6), legend = False, grid = True)\n",
    "fig6.set_ylabel('Продажи')\n",
    "fig6.set_xlabel('Жанры')\n",
    "fig6.set_title('Распределение продаж по жанрам');"
   ]
  },
  {
   "cell_type": "markdown",
   "metadata": {},
   "source": [
    "**Вывод**\n",
    "1. Наиболее прибыльный игровой жанр — **Action**. В этом жанре выпускают больше всего игр.\n",
    "2. На втором месте — шутеры, эти игры самые дорогие.\n",
    "3. Меньше всего покупают игры в жанре **Puzzle**, причём отставание от ближайшего конкурента значительное: более, чем в 3 раза.\n",
    "3. Жанр **Sports** на четвёртом месте по доходности и уступает лидеру более, чем в 2 раза."
   ]
  },
  {
   "cell_type": "markdown",
   "metadata": {},
   "source": [
    "### Пользователи по регионам\n",
    "Для каждого региона:\n",
    "* Топ-5 платформ\n",
    "* Топ-5 жанров\n",
    "* Влияет ли рейтинг **ESRB** на продажи"
   ]
  },
  {
   "cell_type": "code",
   "execution_count": 48,
   "metadata": {},
   "outputs": [],
   "source": [
    "data_actual_region_platform_all = pd.DataFrame()\n",
    "for region in ('na_sales','eu_sales','jp_sales','other_sales'):\n",
    "    data_actual_region_platform = pd.DataFrame(data_actual.groupby('platform')[region].sum()).reset_index()\n",
    "    data_actual_region_platform = data_actual_region_platform.sort_values(by=region, ascending = False).reset_index(drop=True)\n",
    "    data_actual_region_platform[region] = round(data_actual_region_platform[region]/data_actual[region].sum()*100,2)\n",
    "    data_actual_region_platform_all = pd.concat([data_actual_region_platform_all, data_actual_region_platform]\n",
    "                                                , axis=1).head()\n",
    "data_actual_region_platform_all = data_actual_region_platform_all.T.drop_duplicates().T"
   ]
  },
  {
   "cell_type": "code",
   "execution_count": 49,
   "metadata": {},
   "outputs": [
    {
     "data": {
      "text/html": [
       "<div>\n",
       "<style scoped>\n",
       "    .dataframe tbody tr th:only-of-type {\n",
       "        vertical-align: middle;\n",
       "    }\n",
       "\n",
       "    .dataframe tbody tr th {\n",
       "        vertical-align: top;\n",
       "    }\n",
       "\n",
       "    .dataframe thead th {\n",
       "        text-align: right;\n",
       "    }\n",
       "</style>\n",
       "<table border=\"1\" class=\"dataframe\">\n",
       "  <thead>\n",
       "    <tr style=\"text-align: right;\">\n",
       "      <th></th>\n",
       "      <th>platform</th>\n",
       "      <th>na_sales</th>\n",
       "      <th>platform</th>\n",
       "      <th>eu_sales</th>\n",
       "      <th>platform</th>\n",
       "      <th>jp_sales</th>\n",
       "      <th>platform</th>\n",
       "      <th>other_sales</th>\n",
       "    </tr>\n",
       "  </thead>\n",
       "  <tbody>\n",
       "    <tr>\n",
       "      <th>0</th>\n",
       "      <td>PS4</td>\n",
       "      <td>29.8</td>\n",
       "      <td>PS4</td>\n",
       "      <td>40.44</td>\n",
       "      <td>3DS</td>\n",
       "      <td>66.3</td>\n",
       "      <td>PS4</td>\n",
       "      <td>48.66</td>\n",
       "    </tr>\n",
       "    <tr>\n",
       "      <th>1</th>\n",
       "      <td>XOne</td>\n",
       "      <td>25.52</td>\n",
       "      <td>3DS</td>\n",
       "      <td>17.56</td>\n",
       "      <td>PSV</td>\n",
       "      <td>14.39</td>\n",
       "      <td>XOne</td>\n",
       "      <td>14.36</td>\n",
       "    </tr>\n",
       "    <tr>\n",
       "      <th>2</th>\n",
       "      <td>3DS</td>\n",
       "      <td>22.65</td>\n",
       "      <td>PC</td>\n",
       "      <td>16.25</td>\n",
       "      <td>PS4</td>\n",
       "      <td>10.52</td>\n",
       "      <td>3DS</td>\n",
       "      <td>13.35</td>\n",
       "    </tr>\n",
       "    <tr>\n",
       "      <th>3</th>\n",
       "      <td>WiiU</td>\n",
       "      <td>10.44</td>\n",
       "      <td>XOne</td>\n",
       "      <td>14.79</td>\n",
       "      <td>WiiU</td>\n",
       "      <td>8.57</td>\n",
       "      <td>PC</td>\n",
       "      <td>11.17</td>\n",
       "    </tr>\n",
       "    <tr>\n",
       "      <th>4</th>\n",
       "      <td>PC</td>\n",
       "      <td>8.19</td>\n",
       "      <td>WiiU</td>\n",
       "      <td>7.2</td>\n",
       "      <td>XOne</td>\n",
       "      <td>0.22</td>\n",
       "      <td>PSV</td>\n",
       "      <td>6.47</td>\n",
       "    </tr>\n",
       "  </tbody>\n",
       "</table>\n",
       "</div>"
      ],
      "text/plain": [
       "  platform na_sales platform eu_sales platform jp_sales platform other_sales\n",
       "0      PS4     29.8      PS4    40.44      3DS     66.3      PS4       48.66\n",
       "1     XOne    25.52      3DS    17.56      PSV    14.39     XOne       14.36\n",
       "2      3DS    22.65       PC    16.25      PS4    10.52      3DS       13.35\n",
       "3     WiiU    10.44     XOne    14.79     WiiU     8.57       PC       11.17\n",
       "4       PC     8.19     WiiU      7.2     XOne     0.22      PSV        6.47"
      ]
     },
     "execution_count": 49,
     "metadata": {},
     "output_type": "execute_result"
    }
   ],
   "source": [
    "data_actual_region_platform_all"
   ]
  },
  {
   "cell_type": "code",
   "execution_count": 50,
   "metadata": {},
   "outputs": [],
   "source": [
    "data_actual_region_genre_all = pd.DataFrame()\n",
    "for region in ('na_sales','eu_sales','jp_sales','other_sales'):\n",
    "    data_actual_region_genre = pd.DataFrame(data_actual.groupby('genre')[region].sum()).reset_index()\n",
    "    data_actual_region_genre = data_actual_region_genre.sort_values(by=region, ascending = False).reset_index(drop=True)\n",
    "    data_actual_region_genre[region] = round(data_actual_region_genre[region]/data_actual[region].sum()*100,2)\n",
    "    data_actual_region_genre_all = pd.concat([data_actual_region_genre_all, data_actual_region_genre]\n",
    "                                             , axis=1).head()\n",
    "data_actual_region_genre_all = data_actual_region_genre_all.T.drop_duplicates().T"
   ]
  },
  {
   "cell_type": "code",
   "execution_count": 51,
   "metadata": {},
   "outputs": [
    {
     "data": {
      "text/html": [
       "<div>\n",
       "<style scoped>\n",
       "    .dataframe tbody tr th:only-of-type {\n",
       "        vertical-align: middle;\n",
       "    }\n",
       "\n",
       "    .dataframe tbody tr th {\n",
       "        vertical-align: top;\n",
       "    }\n",
       "\n",
       "    .dataframe thead th {\n",
       "        text-align: right;\n",
       "    }\n",
       "</style>\n",
       "<table border=\"1\" class=\"dataframe\">\n",
       "  <thead>\n",
       "    <tr style=\"text-align: right;\">\n",
       "      <th></th>\n",
       "      <th>genre</th>\n",
       "      <th>na_sales</th>\n",
       "      <th>genre</th>\n",
       "      <th>eu_sales</th>\n",
       "      <th>genre</th>\n",
       "      <th>jp_sales</th>\n",
       "      <th>other_sales</th>\n",
       "    </tr>\n",
       "  </thead>\n",
       "  <tbody>\n",
       "    <tr>\n",
       "      <th>0</th>\n",
       "      <td>Action</td>\n",
       "      <td>25.59</td>\n",
       "      <td>Action</td>\n",
       "      <td>25.86</td>\n",
       "      <td>Role-Playing</td>\n",
       "      <td>35.71</td>\n",
       "      <td>26.89</td>\n",
       "    </tr>\n",
       "    <tr>\n",
       "      <th>1</th>\n",
       "      <td>Shooter</td>\n",
       "      <td>22.42</td>\n",
       "      <td>Shooter</td>\n",
       "      <td>20.9</td>\n",
       "      <td>Action</td>\n",
       "      <td>24.08</td>\n",
       "      <td>23.38</td>\n",
       "    </tr>\n",
       "    <tr>\n",
       "      <th>2</th>\n",
       "      <td>Role-Playing</td>\n",
       "      <td>14.25</td>\n",
       "      <td>Sports</td>\n",
       "      <td>12.52</td>\n",
       "      <td>Platform</td>\n",
       "      <td>7.06</td>\n",
       "      <td>13.3</td>\n",
       "    </tr>\n",
       "    <tr>\n",
       "      <th>3</th>\n",
       "      <td>Sports</td>\n",
       "      <td>10.97</td>\n",
       "      <td>Role-Playing</td>\n",
       "      <td>12.3</td>\n",
       "      <td>Misc</td>\n",
       "      <td>7.05</td>\n",
       "      <td>12.44</td>\n",
       "    </tr>\n",
       "    <tr>\n",
       "      <th>4</th>\n",
       "      <td>Platform</td>\n",
       "      <td>7.39</td>\n",
       "      <td>Platform</td>\n",
       "      <td>6.39</td>\n",
       "      <td>Simulation</td>\n",
       "      <td>7.01</td>\n",
       "      <td>5.62</td>\n",
       "    </tr>\n",
       "  </tbody>\n",
       "</table>\n",
       "</div>"
      ],
      "text/plain": [
       "          genre na_sales         genre eu_sales         genre jp_sales  \\\n",
       "0        Action    25.59        Action    25.86  Role-Playing    35.71   \n",
       "1       Shooter    22.42       Shooter     20.9        Action    24.08   \n",
       "2  Role-Playing    14.25        Sports    12.52      Platform     7.06   \n",
       "3        Sports    10.97  Role-Playing     12.3          Misc     7.05   \n",
       "4      Platform     7.39      Platform     6.39    Simulation     7.01   \n",
       "\n",
       "  other_sales  \n",
       "0       26.89  \n",
       "1       23.38  \n",
       "2        13.3  \n",
       "3       12.44  \n",
       "4        5.62  "
      ]
     },
     "execution_count": 51,
     "metadata": {},
     "output_type": "execute_result"
    }
   ],
   "source": [
    "data_actual_region_genre_all"
   ]
  },
  {
   "cell_type": "code",
   "execution_count": 52,
   "metadata": {},
   "outputs": [],
   "source": [
    "data_actual_region_rating_all = pd.DataFrame()\n",
    "for region in ('na_sales','eu_sales','jp_sales','other_sales'):\n",
    "    data_actual_region_rating = pd.DataFrame(data_actual.groupby(['rating'])[region].sum()).reset_index()\n",
    "    data_actual_region_rating = data_actual_region_rating.sort_values(by=region, ascending = False).reset_index(drop=True)\n",
    "    data_actual_region_rating[region] = round(data_actual_region_rating[region]/data_actual[region].sum()*100,2)\n",
    "    data_actual_region_rating_all = pd.concat([data_actual_region_rating_all, data_actual_region_rating]\n",
    "                                              , axis=1)\n",
    "data_actual_region_rating_all = data_actual_region_rating_all.T.drop_duplicates().T"
   ]
  },
  {
   "cell_type": "code",
   "execution_count": 53,
   "metadata": {},
   "outputs": [
    {
     "data": {
      "text/html": [
       "<div>\n",
       "<style scoped>\n",
       "    .dataframe tbody tr th:only-of-type {\n",
       "        vertical-align: middle;\n",
       "    }\n",
       "\n",
       "    .dataframe tbody tr th {\n",
       "        vertical-align: top;\n",
       "    }\n",
       "\n",
       "    .dataframe thead th {\n",
       "        text-align: right;\n",
       "    }\n",
       "</style>\n",
       "<table border=\"1\" class=\"dataframe\">\n",
       "  <thead>\n",
       "    <tr style=\"text-align: right;\">\n",
       "      <th></th>\n",
       "      <th>rating</th>\n",
       "      <th>na_sales</th>\n",
       "      <th>eu_sales</th>\n",
       "      <th>rating</th>\n",
       "      <th>jp_sales</th>\n",
       "      <th>rating</th>\n",
       "      <th>other_sales</th>\n",
       "    </tr>\n",
       "  </thead>\n",
       "  <tbody>\n",
       "    <tr>\n",
       "      <th>0</th>\n",
       "      <td>M</td>\n",
       "      <td>30.75</td>\n",
       "      <td>32.44</td>\n",
       "      <td>undefined</td>\n",
       "      <td>57.92</td>\n",
       "      <td>M</td>\n",
       "      <td>34.34</td>\n",
       "    </tr>\n",
       "    <tr>\n",
       "      <th>1</th>\n",
       "      <td>E</td>\n",
       "      <td>22.23</td>\n",
       "      <td>23.41</td>\n",
       "      <td>E</td>\n",
       "      <td>19.61</td>\n",
       "      <td>undefined</td>\n",
       "      <td>21.05</td>\n",
       "    </tr>\n",
       "    <tr>\n",
       "      <th>2</th>\n",
       "      <td>undefined</td>\n",
       "      <td>21.61</td>\n",
       "      <td>21.69</td>\n",
       "      <td>T</td>\n",
       "      <td>10.87</td>\n",
       "      <td>E</td>\n",
       "      <td>20.65</td>\n",
       "    </tr>\n",
       "    <tr>\n",
       "      <th>3</th>\n",
       "      <td>T</td>\n",
       "      <td>13.11</td>\n",
       "      <td>12.79</td>\n",
       "      <td>M</td>\n",
       "      <td>6.11</td>\n",
       "      <td>T</td>\n",
       "      <td>14.07</td>\n",
       "    </tr>\n",
       "    <tr>\n",
       "      <th>4</th>\n",
       "      <td>E10+</td>\n",
       "      <td>12.3</td>\n",
       "      <td>9.67</td>\n",
       "      <td>E10+</td>\n",
       "      <td>5.48</td>\n",
       "      <td>E10+</td>\n",
       "      <td>9.88</td>\n",
       "    </tr>\n",
       "    <tr>\n",
       "      <th>5</th>\n",
       "      <td>RP</td>\n",
       "      <td>0.0</td>\n",
       "      <td>0.01</td>\n",
       "      <td>RP</td>\n",
       "      <td>0.0</td>\n",
       "      <td>RP</td>\n",
       "      <td>0.01</td>\n",
       "    </tr>\n",
       "  </tbody>\n",
       "</table>\n",
       "</div>"
      ],
      "text/plain": [
       "      rating na_sales eu_sales     rating jp_sales     rating other_sales\n",
       "0          M    30.75    32.44  undefined    57.92          M       34.34\n",
       "1          E    22.23    23.41          E    19.61  undefined       21.05\n",
       "2  undefined    21.61    21.69          T    10.87          E       20.65\n",
       "3          T    13.11    12.79          M     6.11          T       14.07\n",
       "4       E10+     12.3     9.67       E10+     5.48       E10+        9.88\n",
       "5         RP      0.0     0.01         RP      0.0         RP        0.01"
      ]
     },
     "execution_count": 53,
     "metadata": {},
     "output_type": "execute_result"
    }
   ],
   "source": [
    "data_actual_region_rating_all"
   ]
  },
  {
   "cell_type": "markdown",
   "metadata": {},
   "source": [
    "**Вывод**\n",
    "1. Платформы\n",
    "   * самой популярной платформой в мире является **PS4** — не на первом месте по продажам только в Японии\n",
    "   * японцы же предпочитают **3DS** и **PSV**.\n",
    "2. Жанры\n",
    "   * топ-5 жанров в Северной Америке и Европе почти совпадают. Популярнее всего экшен-игры и шутеры, в Европе тройку замыкает спорт, а в Северной Америке — РПГ.\n",
    "   * в странах остального мира и Японии на первом месте ролевые игры и, в отличие от Америки и Европы, не популярны спортивные.\n",
    "3. Рейтинг\n",
    "   * топ-5 ESRB по продажам совпадает в Северной Америке и Европе, на первом месте игры рейтинга **M**\n",
    "   * Япония предпочитает игры рейтинга **E**\n",
    "   * большая часть продаж во всём мире приходится на игры рейтингов **M**, **E** и **T**."
   ]
  },
  {
   "cell_type": "markdown",
   "metadata": {},
   "source": [
    "## Статистический анализ\n",
    "* Предположение 1 — Средние пользовательские рейтинги платформ **Xbox One** и **PC** одинаковые\n",
    "* Предположение 2 — Средние пользовательские рейтинги жанров **Action** и **Sports** разные"
   ]
  },
  {
   "cell_type": "code",
   "execution_count": 54,
   "metadata": {},
   "outputs": [],
   "source": [
    "alpha = 0.05"
   ]
  },
  {
   "cell_type": "markdown",
   "metadata": {},
   "source": [
    "### Предположение 1\n",
    "* H0 — Средние пользовательские рейтинги платформ **Xbox One** и **PC** равны\n",
    "* H1 — Средние пользовательские рейтинги платформ **Xbox One** и **PC** отличаются"
   ]
  },
  {
   "cell_type": "code",
   "execution_count": 55,
   "metadata": {},
   "outputs": [],
   "source": [
    "XOne = data_actual[(data_actual['platform']=='XOne')&(data_actual['user_score']>=0)]['user_score']\n",
    "PC = data_actual[(data_actual['platform']=='PC')&(data_actual['user_score']>=0)]['user_score']"
   ]
  },
  {
   "cell_type": "code",
   "execution_count": 56,
   "metadata": {},
   "outputs": [],
   "source": [
    "results_1 = st.ttest_ind(XOne, PC)"
   ]
  },
  {
   "cell_type": "code",
   "execution_count": 57,
   "metadata": {},
   "outputs": [
    {
     "name": "stdout",
     "output_type": "stream",
     "text": [
      "p-значение: 0.6267602271422398\n"
     ]
    }
   ],
   "source": [
    "print('p-значение:', results_1.pvalue)"
   ]
  },
  {
   "cell_type": "code",
   "execution_count": 58,
   "metadata": {},
   "outputs": [
    {
     "name": "stdout",
     "output_type": "stream",
     "text": [
      "Не получилось отвергнуть нулевую гипотезу\n"
     ]
    }
   ],
   "source": [
    "if results_1.pvalue < alpha:\n",
    "    print(\"Отвергаем нулевую гипотезу\")\n",
    "else:\n",
    "    print(\"Не получилось отвергнуть нулевую гипотезу\")"
   ]
  },
  {
   "cell_type": "markdown",
   "metadata": {},
   "source": [
    "### Предположение 2\n",
    "* H0 — Средние пользовательские рейтинги жанров **Action** и **Sports** равны\n",
    "* H1 — Средние пользовательские рейтинги жанров **Action** и **Sports** отличаются"
   ]
  },
  {
   "cell_type": "code",
   "execution_count": 59,
   "metadata": {},
   "outputs": [],
   "source": [
    "action = data_actual[(data_actual['genre']=='Action')&(data_actual['user_score']>=0)]['user_score']\n",
    "sports = data_actual[(data_actual['genre']=='Sports')&(data_actual['user_score']>=0)]['user_score']"
   ]
  },
  {
   "cell_type": "code",
   "execution_count": 60,
   "metadata": {},
   "outputs": [],
   "source": [
    "results_2 = st.ttest_ind(action, sports)"
   ]
  },
  {
   "cell_type": "code",
   "execution_count": 61,
   "metadata": {},
   "outputs": [
    {
     "name": "stdout",
     "output_type": "stream",
     "text": [
      "p-значение: 3.7279566072817166e-13\n"
     ]
    }
   ],
   "source": [
    "print('p-значение:', results_2.pvalue)"
   ]
  },
  {
   "cell_type": "code",
   "execution_count": 62,
   "metadata": {},
   "outputs": [
    {
     "name": "stdout",
     "output_type": "stream",
     "text": [
      "Отвергаем нулевую гипотезу\n"
     ]
    }
   ],
   "source": [
    "if results_2.pvalue < alpha:\n",
    "    print(\"Отвергаем нулевую гипотезу\")\n",
    "else:\n",
    "    print(\"Не получилось отвергнуть нулевую гипотезу\")"
   ]
  },
  {
   "cell_type": "code",
   "execution_count": 63,
   "metadata": {},
   "outputs": [
    {
     "data": {
      "text/plain": [
       "6.83"
      ]
     },
     "execution_count": 63,
     "metadata": {},
     "output_type": "execute_result"
    }
   ],
   "source": [
    "action.mean().round(2)"
   ]
  },
  {
   "cell_type": "code",
   "execution_count": 64,
   "metadata": {},
   "outputs": [
    {
     "data": {
      "text/plain": [
       "5.72"
      ]
     },
     "execution_count": 64,
     "metadata": {},
     "output_type": "execute_result"
    }
   ],
   "source": [
    "sports.mean().round(2)"
   ]
  },
  {
   "cell_type": "markdown",
   "metadata": {},
   "source": [
    "* H0 — Средние пользовательские рейтинги жанров **Action** и **Sports** равны\n",
    "* H1 — Средние пользовательские рейтинги жанра **Action** больше, чем у жанра **Sports** "
   ]
  },
  {
   "cell_type": "code",
   "execution_count": 65,
   "metadata": {},
   "outputs": [],
   "source": [
    "results_3 = st.ttest_1samp(action, sports.mean())"
   ]
  },
  {
   "cell_type": "code",
   "execution_count": 66,
   "metadata": {},
   "outputs": [
    {
     "name": "stdout",
     "output_type": "stream",
     "text": [
      "p-значение:  1.044574583730869e-44\n"
     ]
    }
   ],
   "source": [
    "print('p-значение: ', results_3.pvalue / 2)"
   ]
  },
  {
   "cell_type": "code",
   "execution_count": 67,
   "metadata": {},
   "outputs": [
    {
     "name": "stdout",
     "output_type": "stream",
     "text": [
      "Отвергаем нулевую гипотезу\n"
     ]
    }
   ],
   "source": [
    "if (results_3.pvalue / 2 < alpha) and (action.mean() > sports.mean()):\n",
    "    print(\"Отвергаем нулевую гипотезу\")\n",
    "else:\n",
    "    print(\"Не получилось отвергнуть нулевую гипотезу\") "
   ]
  },
  {
   "cell_type": "markdown",
   "metadata": {},
   "source": [
    "**Вывод**\n",
    "1. Предположение 1 подтвердилось:\n",
    "   * средние пользовательские рейтинги платформ **Xbox One** и **PC** не различаются.\n",
    "2. Предположение 2 подтвердилось:\n",
    "   * пользователи по-разному оценивают игры жанра экшен и спортивные игры\n",
    "   * жанр **Action** пользователи оценивают выше."
   ]
  },
  {
   "cell_type": "markdown",
   "metadata": {},
   "source": [
    "## Общий вывод"
   ]
  },
  {
   "cell_type": "markdown",
   "metadata": {},
   "source": [
    "1. Самые популярные в мире игры — экшен и шутеры.\n",
    "2. А играют чаще всего на **PS4**.\n",
    "3. В Европе и Америке любимые жанры у людей в основном совпадают. \n",
    "4. Японцы же предпочитают РПГ и **3DS**.\n",
    "6. Самые ходовые игры во всём мире имеют возрастной рейтинг **M**, **E** или **T**.\n",
    "7. Покупатели больше ориентируются на отзывы критиков, чем отзывы других покупателей.\n",
    "8. Пользовательский рейтинг **Xbox One** такой же, как у **PC**, но в целом платформа **Xbox One** более доходна.\n",
    "9. После 2015 продажи игр на всех платформах падают.\n",
    "10. Платформа в среднем живёт около 10 лет, а ПК бессмертен."
   ]
  }
 ],
 "metadata": {
  "ExecuteTimeLog": [
   {
    "duration": 1951,
    "start_time": "2021-10-21T12:27:35.204Z"
   },
   {
    "duration": 44,
    "start_time": "2021-10-21T12:27:37.158Z"
   },
   {
    "duration": 7,
    "start_time": "2021-10-21T12:27:37.204Z"
   },
   {
    "duration": 10,
    "start_time": "2021-10-21T12:27:37.214Z"
   },
   {
    "duration": 23,
    "start_time": "2021-10-21T12:27:37.464Z"
   },
   {
    "duration": 14,
    "start_time": "2021-10-21T12:27:38.446Z"
   },
   {
    "duration": 796,
    "start_time": "2021-10-21T12:27:41.999Z"
   }
  ],
  "celltoolbar": "Raw Cell Format",
  "kernelspec": {
   "display_name": "Python 3 (ipykernel)",
   "language": "python",
   "name": "python3"
  },
  "language_info": {
   "codemirror_mode": {
    "name": "ipython",
    "version": 3
   },
   "file_extension": ".py",
   "mimetype": "text/x-python",
   "name": "python",
   "nbconvert_exporter": "python",
   "pygments_lexer": "ipython3",
   "version": "3.11.1"
  },
  "toc": {
   "base_numbering": 1,
   "nav_menu": {},
   "number_sections": true,
   "sideBar": true,
   "skip_h1_title": true,
   "title_cell": "Содержание",
   "title_sidebar": "Содержание",
   "toc_cell": true,
   "toc_position": {
    "height": "calc(100% - 180px)",
    "left": "10px",
    "top": "150px",
    "width": "164.988px"
   },
   "toc_section_display": true,
   "toc_window_display": true
  }
 },
 "nbformat": 4,
 "nbformat_minor": 4
}
