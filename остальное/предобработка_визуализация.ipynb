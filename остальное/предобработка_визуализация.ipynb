{
 "cells": [
  {
   "cell_type": "markdown",
   "metadata": {},
   "source": [
    "# Исследование рынка общественного питания\n",
    "Определить:\n",
    "* перспективный вид заведения\n",
    "* выгодный район расположения\n",
    "* оптимальное количество посадочных мест\n",
    "* возможности развития"
   ]
  },
  {
   "cell_type": "markdown",
   "metadata": {
    "toc": true
   },
   "source": [
    "<h1>Содержание<span class=\"tocSkip\"></span></h1>\n",
    "<div class=\"toc\"><ul class=\"toc-item\"><li><span><a href=\"#Загрузка-данных\" data-toc-modified-id=\"Загрузка-данных-1\"><span class=\"toc-item-num\">1&nbsp;&nbsp;</span>Загрузка данных</a></span></li><li><span><a href=\"#Изучение-данных\" data-toc-modified-id=\"Изучение-данных-2\"><span class=\"toc-item-num\">2&nbsp;&nbsp;</span>Изучение данных</a></span></li><li><span><a href=\"#Предобработка-данных\" data-toc-modified-id=\"Предобработка-данных-3\"><span class=\"toc-item-num\">3&nbsp;&nbsp;</span>Предобработка данных</a></span><ul class=\"toc-item\"><li><span><a href=\"#data.chain\" data-toc-modified-id=\"data.chain-3.1\"><span class=\"toc-item-num\">3.1&nbsp;&nbsp;</span>data.chain</a></span></li><li><span><a href=\"#data.object_name\" data-toc-modified-id=\"data.object_name-3.2\"><span class=\"toc-item-num\">3.2&nbsp;&nbsp;</span>data.object_name</a></span></li><li><span><a href=\"#data.address->-data.street_name\" data-toc-modified-id=\"data.address->-data.street_name-3.3\"><span class=\"toc-item-num\">3.3&nbsp;&nbsp;</span>data.address &gt; data.street_name</a></span></li><li><span><a href=\"#streets.district_id,-U\" data-toc-modified-id=\"streets.district_id,-U-3.4\"><span class=\"toc-item-num\">3.4&nbsp;&nbsp;</span>streets.district_id, U</a></span></li></ul></li><li><span><a href=\"#Анализ-данных\" data-toc-modified-id=\"Анализ-данных-4\"><span class=\"toc-item-num\">4&nbsp;&nbsp;</span>Анализ данных</a></span><ul class=\"toc-item\"><li><span><a href=\"#Виды\" data-toc-modified-id=\"Виды-4.1\"><span class=\"toc-item-num\">4.1&nbsp;&nbsp;</span>Виды</a></span></li><li><span><a href=\"#Сетевые-и-несетевые\" data-toc-modified-id=\"Сетевые-и-несетевые-4.2\"><span class=\"toc-item-num\">4.2&nbsp;&nbsp;</span>Сетевые и несетевые</a></span></li><li><span><a href=\"#Посадочные-места-в-сетевых\" data-toc-modified-id=\"Посадочные-места-в-сетевых-4.3\"><span class=\"toc-item-num\">4.3&nbsp;&nbsp;</span>Посадочные места в сетевых</a></span></li><li><span><a href=\"#Посадочные-места-по-видам\" data-toc-modified-id=\"Посадочные-места-по-видам-4.4\"><span class=\"toc-item-num\">4.4&nbsp;&nbsp;</span>Посадочные места по видам</a></span></li><li><span><a href=\"#Топ-10-улиц-по-количеству-общепитов\" data-toc-modified-id=\"Топ-10-улиц-по-количеству-общепитов-4.5\"><span class=\"toc-item-num\">4.5&nbsp;&nbsp;</span>Топ-10 улиц по количеству общепитов</a></span></li><li><span><a href=\"#Улицы-с-1-общепитом\" data-toc-modified-id=\"Улицы-с-1-общепитом-4.6\"><span class=\"toc-item-num\">4.6&nbsp;&nbsp;</span>Улицы с 1 общепитом</a></span></li><li><span><a href=\"#Посадочные-места-улицах-c-большим-количеством-заведений\" data-toc-modified-id=\"Посадочные-места-улицах-c-большим-количеством-заведений-4.7\"><span class=\"toc-item-num\">4.7&nbsp;&nbsp;</span>Посадочные места улицах c большим количеством заведений</a></span></li></ul></li><li><span><a href=\"#Общий-вывод\" data-toc-modified-id=\"Общий-вывод-5\"><span class=\"toc-item-num\">5&nbsp;&nbsp;</span>Общий вывод</a></span></li></ul></div>"
   ]
  },
  {
   "cell_type": "markdown",
   "metadata": {},
   "source": [
    "## Загрузка данных"
   ]
  },
  {
   "cell_type": "code",
   "execution_count": 1,
   "metadata": {},
   "outputs": [],
   "source": [
    "import pandas as pd\n",
    "import numpy as np\n",
    "import datetime as dt\n",
    "import seaborn as sns\n",
    "import matplotlib.pyplot as plt\n",
    "import plotly.express as px\n",
    "\n",
    "from scipy import stats as st\n",
    "from io import StringIO \n",
    "from plotly.subplots import make_subplots\n",
    "\n",
    "import plotly\n",
    "import re\n",
    "import requests\n",
    "import warnings \n",
    "import openpyxl"
   ]
  },
  {
   "cell_type": "code",
   "execution_count": 2,
   "metadata": {},
   "outputs": [],
   "source": [
    "pd.set_option('chained_assignment', None)\n",
    "pd.set_option('display.max_colwidth', None)"
   ]
  },
  {
   "cell_type": "code",
   "execution_count": 3,
   "metadata": {},
   "outputs": [],
   "source": [
    "# Рестораны\n",
    "data = pd.read_csv('/datasets/rest_data.csv')"
   ]
  },
  {
   "cell_type": "code",
   "execution_count": 4,
   "metadata": {},
   "outputs": [],
   "source": [
    "# Улицы с сайта\n",
    "spreadsheet_id = '1v_7sT5sz66zxXdT9JlxCX2B_1-8TYjxSk8E4aMYDf5w'\n",
    "file_name = 'https://docs.google.com/spreadsheets/d/{}/export?format=csv'.format(spreadsheet_id)\n",
    "response = requests.get(file_name)\n",
    "response = response.content.decode('utf-8')\n",
    "streets = pd.read_csv(StringIO(response))"
   ]
  },
  {
   "cell_type": "code",
   "execution_count": 5,
   "metadata": {},
   "outputs": [],
   "source": [
    "# Районы\n",
    "spreadsheet_id = '1A3xFHevHtUz3Ycc01Bl6YvpOT0rL-gpX-RWudtb9cjo'\n",
    "file_name = 'https://docs.google.com/spreadsheets/d/{}/export?format=csv'.format(spreadsheet_id)\n",
    "response = requests.get(file_name)\n",
    "response = response.content.decode('utf-8')\n",
    "districts = pd.read_csv(StringIO(response), dtype={'district_id': 'str'})"
   ]
  },
  {
   "cell_type": "code",
   "execution_count": 6,
   "metadata": {},
   "outputs": [],
   "source": [
    "data.name = 'data'\n",
    "streets.name = 'streets'\n",
    "districts.name = 'districts'"
   ]
  },
  {
   "cell_type": "markdown",
   "metadata": {},
   "source": [
    "## Изучение данных"
   ]
  },
  {
   "cell_type": "code",
   "execution_count": 7,
   "metadata": {},
   "outputs": [
    {
     "name": "stdout",
     "output_type": "stream",
     "text": [
      "data\n",
      "----------------------------------------\n",
      "<class 'pandas.core.frame.DataFrame'>\n",
      "RangeIndex: 15366 entries, 0 to 15365\n",
      "Data columns (total 6 columns):\n",
      " #   Column       Non-Null Count  Dtype \n",
      "---  ------       --------------  ----- \n",
      " 0   id           15366 non-null  int64 \n",
      " 1   object_name  15366 non-null  object\n",
      " 2   chain        15366 non-null  object\n",
      " 3   object_type  15366 non-null  object\n",
      " 4   address      15366 non-null  object\n",
      " 5   number       15366 non-null  int64 \n",
      "dtypes: int64(2), object(4)\n",
      "memory usage: 720.4+ KB\n",
      "\n",
      "Количество повторяющихся строк в data — 82\n"
     ]
    },
    {
     "data": {
      "text/html": [
       "<div>\n",
       "<style scoped>\n",
       "    .dataframe tbody tr th:only-of-type {\n",
       "        vertical-align: middle;\n",
       "    }\n",
       "\n",
       "    .dataframe tbody tr th {\n",
       "        vertical-align: top;\n",
       "    }\n",
       "\n",
       "    .dataframe thead th {\n",
       "        text-align: right;\n",
       "    }\n",
       "</style>\n",
       "<table border=\"1\" class=\"dataframe\">\n",
       "  <thead>\n",
       "    <tr style=\"text-align: right;\">\n",
       "      <th></th>\n",
       "      <th>id</th>\n",
       "      <th>object_name</th>\n",
       "      <th>chain</th>\n",
       "      <th>object_type</th>\n",
       "      <th>address</th>\n",
       "      <th>number</th>\n",
       "    </tr>\n",
       "  </thead>\n",
       "  <tbody>\n",
       "    <tr>\n",
       "      <th>0</th>\n",
       "      <td>151635</td>\n",
       "      <td>СМЕТАНА</td>\n",
       "      <td>нет</td>\n",
       "      <td>кафе</td>\n",
       "      <td>город Москва, улица Егора Абакумова, дом 9</td>\n",
       "      <td>48</td>\n",
       "    </tr>\n",
       "    <tr>\n",
       "      <th>1</th>\n",
       "      <td>77874</td>\n",
       "      <td>Родник</td>\n",
       "      <td>нет</td>\n",
       "      <td>кафе</td>\n",
       "      <td>город Москва, улица Талалихина, дом 2/1, корпус 1</td>\n",
       "      <td>35</td>\n",
       "    </tr>\n",
       "    <tr>\n",
       "      <th>2</th>\n",
       "      <td>24309</td>\n",
       "      <td>Кафе «Академия»</td>\n",
       "      <td>нет</td>\n",
       "      <td>кафе</td>\n",
       "      <td>город Москва, Абельмановская улица, дом 6</td>\n",
       "      <td>95</td>\n",
       "    </tr>\n",
       "    <tr>\n",
       "      <th>3</th>\n",
       "      <td>21894</td>\n",
       "      <td>ПИЦЦЕТОРИЯ</td>\n",
       "      <td>да</td>\n",
       "      <td>кафе</td>\n",
       "      <td>город Москва, Абрамцевская улица, дом 1</td>\n",
       "      <td>40</td>\n",
       "    </tr>\n",
       "    <tr>\n",
       "      <th>4</th>\n",
       "      <td>119365</td>\n",
       "      <td>Кафе «Вишневая метель»</td>\n",
       "      <td>нет</td>\n",
       "      <td>кафе</td>\n",
       "      <td>город Москва, Абрамцевская улица, дом 9, корпус 1</td>\n",
       "      <td>50</td>\n",
       "    </tr>\n",
       "  </tbody>\n",
       "</table>\n",
       "</div>"
      ],
      "text/plain": [
       "       id             object_name chain object_type  \\\n",
       "0  151635                 СМЕТАНА   нет        кафе   \n",
       "1   77874                  Родник   нет        кафе   \n",
       "2   24309         Кафе «Академия»   нет        кафе   \n",
       "3   21894              ПИЦЦЕТОРИЯ    да        кафе   \n",
       "4  119365  Кафе «Вишневая метель»   нет        кафе   \n",
       "\n",
       "                                             address  number  \n",
       "0         город Москва, улица Егора Абакумова, дом 9      48  \n",
       "1  город Москва, улица Талалихина, дом 2/1, корпус 1      35  \n",
       "2          город Москва, Абельмановская улица, дом 6      95  \n",
       "3            город Москва, Абрамцевская улица, дом 1      40  \n",
       "4  город Москва, Абрамцевская улица, дом 9, корпус 1      50  "
      ]
     },
     "metadata": {},
     "output_type": "display_data"
    },
    {
     "name": "stdout",
     "output_type": "stream",
     "text": [
      "streets\n",
      "----------------------------------------\n",
      "<class 'pandas.core.frame.DataFrame'>\n",
      "RangeIndex: 5297 entries, 0 to 5296\n",
      "Data columns (total 3 columns):\n",
      " #   Column       Non-Null Count  Dtype \n",
      "---  ------       --------------  ----- \n",
      " 0   street_id    5297 non-null   int64 \n",
      " 1   street_name  5297 non-null   object\n",
      " 2   district_id  5297 non-null   object\n",
      "dtypes: int64(1), object(2)\n",
      "memory usage: 124.3+ KB\n",
      "\n",
      "Количество повторяющихся строк в streets — 208\n"
     ]
    },
    {
     "data": {
      "text/html": [
       "<div>\n",
       "<style scoped>\n",
       "    .dataframe tbody tr th:only-of-type {\n",
       "        vertical-align: middle;\n",
       "    }\n",
       "\n",
       "    .dataframe tbody tr th {\n",
       "        vertical-align: top;\n",
       "    }\n",
       "\n",
       "    .dataframe thead th {\n",
       "        text-align: right;\n",
       "    }\n",
       "</style>\n",
       "<table border=\"1\" class=\"dataframe\">\n",
       "  <thead>\n",
       "    <tr style=\"text-align: right;\">\n",
       "      <th></th>\n",
       "      <th>street_id</th>\n",
       "      <th>street_name</th>\n",
       "      <th>district_id</th>\n",
       "    </tr>\n",
       "  </thead>\n",
       "  <tbody>\n",
       "    <tr>\n",
       "      <th>0</th>\n",
       "      <td>8880</td>\n",
       "      <td>1-й Ирининский переулок</td>\n",
       "      <td>0102</td>\n",
       "    </tr>\n",
       "    <tr>\n",
       "      <th>1</th>\n",
       "      <td>8890</td>\n",
       "      <td>2-й Ирининский переулок</td>\n",
       "      <td>0102</td>\n",
       "    </tr>\n",
       "    <tr>\n",
       "      <th>2</th>\n",
       "      <td>8891</td>\n",
       "      <td>3-й Ирининский переулок</td>\n",
       "      <td>0102</td>\n",
       "    </tr>\n",
       "    <tr>\n",
       "      <th>3</th>\n",
       "      <td>8910</td>\n",
       "      <td>Иркутская улица</td>\n",
       "      <td>0406</td>\n",
       "    </tr>\n",
       "    <tr>\n",
       "      <th>4</th>\n",
       "      <td>8920</td>\n",
       "      <td>1-й Иртышский проезд</td>\n",
       "      <td>0406</td>\n",
       "    </tr>\n",
       "  </tbody>\n",
       "</table>\n",
       "</div>"
      ],
      "text/plain": [
       "   street_id              street_name district_id\n",
       "0       8880  1-й Ирининский переулок        0102\n",
       "1       8890  2-й Ирининский переулок        0102\n",
       "2       8891  3-й Ирининский переулок        0102\n",
       "3       8910          Иркутская улица        0406\n",
       "4       8920     1-й Иртышский проезд        0406"
      ]
     },
     "metadata": {},
     "output_type": "display_data"
    },
    {
     "name": "stdout",
     "output_type": "stream",
     "text": [
      "districts\n",
      "----------------------------------------\n",
      "<class 'pandas.core.frame.DataFrame'>\n",
      "RangeIndex: 158 entries, 0 to 157\n",
      "Data columns (total 2 columns):\n",
      " #   Column         Non-Null Count  Dtype \n",
      "---  ------         --------------  ----- \n",
      " 0   district_id    158 non-null    object\n",
      " 1   district_name  158 non-null    object\n",
      "dtypes: object(2)\n",
      "memory usage: 2.6+ KB\n",
      "\n",
      "Количество повторяющихся строк в districts — 0\n"
     ]
    },
    {
     "data": {
      "text/html": [
       "<div>\n",
       "<style scoped>\n",
       "    .dataframe tbody tr th:only-of-type {\n",
       "        vertical-align: middle;\n",
       "    }\n",
       "\n",
       "    .dataframe tbody tr th {\n",
       "        vertical-align: top;\n",
       "    }\n",
       "\n",
       "    .dataframe thead th {\n",
       "        text-align: right;\n",
       "    }\n",
       "</style>\n",
       "<table border=\"1\" class=\"dataframe\">\n",
       "  <thead>\n",
       "    <tr style=\"text-align: right;\">\n",
       "      <th></th>\n",
       "      <th>district_id</th>\n",
       "      <th>district_name</th>\n",
       "    </tr>\n",
       "  </thead>\n",
       "  <tbody>\n",
       "    <tr>\n",
       "      <th>0</th>\n",
       "      <td>0100</td>\n",
       "      <td>Центральный административный округ</td>\n",
       "    </tr>\n",
       "    <tr>\n",
       "      <th>1</th>\n",
       "      <td>0101</td>\n",
       "      <td>район Арбат</td>\n",
       "    </tr>\n",
       "    <tr>\n",
       "      <th>2</th>\n",
       "      <td>0102</td>\n",
       "      <td>Басманный район</td>\n",
       "    </tr>\n",
       "    <tr>\n",
       "      <th>3</th>\n",
       "      <td>0103</td>\n",
       "      <td>район Замоскворечье</td>\n",
       "    </tr>\n",
       "    <tr>\n",
       "      <th>4</th>\n",
       "      <td>0104</td>\n",
       "      <td>Красносельский район</td>\n",
       "    </tr>\n",
       "  </tbody>\n",
       "</table>\n",
       "</div>"
      ],
      "text/plain": [
       "  district_id                       district_name\n",
       "0        0100  Центральный административный округ\n",
       "1        0101                         район Арбат\n",
       "2        0102                     Басманный район\n",
       "3        0103                 район Замоскворечье\n",
       "4        0104                Красносельский район"
      ]
     },
     "metadata": {},
     "output_type": "display_data"
    }
   ],
   "source": [
    "for df in (data, streets, districts):\n",
    "    print(df.name)\n",
    "    print('----------------------------------------')\n",
    "    df.info() \n",
    "    print('\\nКоличество повторяющихся строк в', df.name, '—', df.loc[:, df.columns != df.columns[0]].duplicated().sum())\n",
    "    display(df.head())"
   ]
  },
  {
   "cell_type": "markdown",
   "metadata": {},
   "source": [
    "<div style=\"border-radius: 15px; border: 3px solid indigo; padding: 15px;\">\n",
    "<b>Вывод</b><br>\n",
    "<li>пропусков не обнаружено</li>\n",
    "<li>обнаружены дубликаты по значимым столбцам в таблицах <b>data</b> и <b>streets</b></li>\n",
    "<li>заменить на сетевой/одиночный значения да/нет в поле <b>chain</b> таблицы <b>data</b></li>\n",
    "<li>в поле <b>object_name</b> таблицы <b>data</b>: привести слова к нижнему регистру, убрать кавычки и виды заведений</li>\n",
    "<li>вынести улицу в отдельный столбец из столбца <b>address</b> таблицы <b>data</b></li>\n",
    "<li>добавить в таблицу <b>streets</b> строки с улицами, входящими в более, чем в 1 район</li>\n",
    "<li>объединить таблицы <b>streets</b> и <b>districts</b></li>\n",
    "</div>"
   ]
  },
  {
   "cell_type": "markdown",
   "metadata": {},
   "source": [
    "## Предобработка данных"
   ]
  },
  {
   "cell_type": "code",
   "execution_count": 8,
   "metadata": {},
   "outputs": [
    {
     "name": "stdout",
     "output_type": "stream",
     "text": [
      "0\n",
      "0\n"
     ]
    }
   ],
   "source": [
    "for df in (data, streets):\n",
    "     df = df.drop_duplicates(df.columns[1:], keep = 'last')\n",
    "     df = df.reset_index(drop=True)\n",
    "     print(df.loc[:, df.columns != df.columns[0]].duplicated().sum())"
   ]
  },
  {
   "cell_type": "markdown",
   "metadata": {},
   "source": [
    "### data.chain"
   ]
  },
  {
   "cell_type": "code",
   "execution_count": 9,
   "metadata": {},
   "outputs": [],
   "source": [
    "data['chain'] = data['chain'].map({'да':'сетевой','нет':'одиночный'})"
   ]
  },
  {
   "cell_type": "code",
   "execution_count": 10,
   "metadata": {},
   "outputs": [
    {
     "data": {
      "text/plain": [
       "одиночный    12398\n",
       "сетевой       2968\n",
       "Name: chain, dtype: int64"
      ]
     },
     "execution_count": 10,
     "metadata": {},
     "output_type": "execute_result"
    }
   ],
   "source": [
    "data['chain'].value_counts()"
   ]
  },
  {
   "cell_type": "code",
   "execution_count": 11,
   "metadata": {},
   "outputs": [
    {
     "data": {
      "text/plain": [
       "15366"
      ]
     },
     "execution_count": 11,
     "metadata": {},
     "output_type": "execute_result"
    }
   ],
   "source": [
    "12398+2968"
   ]
  },
  {
   "cell_type": "markdown",
   "metadata": {},
   "source": [
    "### data.object_name"
   ]
  },
  {
   "cell_type": "code",
   "execution_count": 12,
   "metadata": {},
   "outputs": [],
   "source": [
    "data.object_name = data.object_name.str.lower().str.strip()"
   ]
  },
  {
   "cell_type": "code",
   "execution_count": 13,
   "metadata": {},
   "outputs": [],
   "source": [
    "characters_to_remove = '«»!?()№'\n",
    "pattern = '[' + characters_to_remove + ']'\n",
    "data['object_name'] = data['object_name'].str.replace(pattern,'', regex='True')"
   ]
  },
  {
   "cell_type": "code",
   "execution_count": 14,
   "metadata": {},
   "outputs": [],
   "source": [
    "stop_words =\\\n",
    "list(data[data['chain']=='сетевой'].groupby('chain')['object_type'].apply(set).reset_index(name='all_types')['all_types'][0])\n",
    "original_string = data['object_name']\n",
    "replacement =''\n",
    "for pattern in stop_words:\n",
    "    data['object_name']= data['object_name'].apply(lambda x: re.sub(pattern, replacement, x))"
   ]
  },
  {
   "cell_type": "code",
   "execution_count": 15,
   "metadata": {},
   "outputs": [
    {
     "data": {
      "text/html": [
       "<div>\n",
       "<style scoped>\n",
       "    .dataframe tbody tr th:only-of-type {\n",
       "        vertical-align: middle;\n",
       "    }\n",
       "\n",
       "    .dataframe tbody tr th {\n",
       "        vertical-align: top;\n",
       "    }\n",
       "\n",
       "    .dataframe thead th {\n",
       "        text-align: right;\n",
       "    }\n",
       "</style>\n",
       "<table border=\"1\" class=\"dataframe\">\n",
       "  <thead>\n",
       "    <tr style=\"text-align: right;\">\n",
       "      <th></th>\n",
       "      <th>id</th>\n",
       "      <th>object_name</th>\n",
       "      <th>chain</th>\n",
       "      <th>object_type</th>\n",
       "      <th>address</th>\n",
       "      <th>number</th>\n",
       "    </tr>\n",
       "  </thead>\n",
       "  <tbody>\n",
       "    <tr>\n",
       "      <th>0</th>\n",
       "      <td>151635</td>\n",
       "      <td>сметана</td>\n",
       "      <td>одиночный</td>\n",
       "      <td>кафе</td>\n",
       "      <td>город Москва, улица Егора Абакумова, дом 9</td>\n",
       "      <td>48</td>\n",
       "    </tr>\n",
       "    <tr>\n",
       "      <th>1</th>\n",
       "      <td>77874</td>\n",
       "      <td>родник</td>\n",
       "      <td>одиночный</td>\n",
       "      <td>кафе</td>\n",
       "      <td>город Москва, улица Талалихина, дом 2/1, корпус 1</td>\n",
       "      <td>35</td>\n",
       "    </tr>\n",
       "    <tr>\n",
       "      <th>2</th>\n",
       "      <td>24309</td>\n",
       "      <td>академия</td>\n",
       "      <td>одиночный</td>\n",
       "      <td>кафе</td>\n",
       "      <td>город Москва, Абельмановская улица, дом 6</td>\n",
       "      <td>95</td>\n",
       "    </tr>\n",
       "    <tr>\n",
       "      <th>3</th>\n",
       "      <td>21894</td>\n",
       "      <td>пиццетория</td>\n",
       "      <td>сетевой</td>\n",
       "      <td>кафе</td>\n",
       "      <td>город Москва, Абрамцевская улица, дом 1</td>\n",
       "      <td>40</td>\n",
       "    </tr>\n",
       "    <tr>\n",
       "      <th>4</th>\n",
       "      <td>119365</td>\n",
       "      <td>вишневая метель</td>\n",
       "      <td>одиночный</td>\n",
       "      <td>кафе</td>\n",
       "      <td>город Москва, Абрамцевская улица, дом 9, корпус 1</td>\n",
       "      <td>50</td>\n",
       "    </tr>\n",
       "  </tbody>\n",
       "</table>\n",
       "</div>"
      ],
      "text/plain": [
       "       id       object_name      chain object_type  \\\n",
       "0  151635           сметана  одиночный        кафе   \n",
       "1   77874            родник  одиночный        кафе   \n",
       "2   24309          академия  одиночный        кафе   \n",
       "3   21894        пиццетория    сетевой        кафе   \n",
       "4  119365   вишневая метель  одиночный        кафе   \n",
       "\n",
       "                                             address  number  \n",
       "0         город Москва, улица Егора Абакумова, дом 9      48  \n",
       "1  город Москва, улица Талалихина, дом 2/1, корпус 1      35  \n",
       "2          город Москва, Абельмановская улица, дом 6      95  \n",
       "3            город Москва, Абрамцевская улица, дом 1      40  \n",
       "4  город Москва, Абрамцевская улица, дом 9, корпус 1      50  "
      ]
     },
     "execution_count": 15,
     "metadata": {},
     "output_type": "execute_result"
    }
   ],
   "source": [
    "data.head()"
   ]
  },
  {
   "cell_type": "markdown",
   "metadata": {},
   "source": [
    "### data.address > data.street_name"
   ]
  },
  {
   "cell_type": "code",
   "execution_count": 16,
   "metadata": {},
   "outputs": [],
   "source": [
    "def get_address(data, new_column):\n",
    "    address = data.address.str.split(',', expand=True)\n",
    "    data[new_column] = np.nan\n",
    "    for i in range(len(data)):\n",
    "        if 'Москва' in address.loc[i,0]:\n",
    "            data.loc[i, new_column]= address.loc[i,1]\n",
    "        else:\n",
    "            data.loc[i, new_column] = address.loc[i,0]   \n",
    "    data[new_column] = data[new_column].apply(lambda x: x.strip())"
   ]
  },
  {
   "cell_type": "code",
   "execution_count": 17,
   "metadata": {},
   "outputs": [],
   "source": [
    "get_address(data, 'street_name')"
   ]
  },
  {
   "cell_type": "code",
   "execution_count": 18,
   "metadata": {},
   "outputs": [
    {
     "name": "stdout",
     "output_type": "stream",
     "text": [
      "<class 'pandas.core.frame.DataFrame'>\n",
      "RangeIndex: 15366 entries, 0 to 15365\n",
      "Data columns (total 7 columns):\n",
      " #   Column       Non-Null Count  Dtype \n",
      "---  ------       --------------  ----- \n",
      " 0   id           15366 non-null  int64 \n",
      " 1   object_name  15366 non-null  object\n",
      " 2   chain        15366 non-null  object\n",
      " 3   object_type  15366 non-null  object\n",
      " 4   address      15366 non-null  object\n",
      " 5   number       15366 non-null  int64 \n",
      " 6   street_name  15366 non-null  object\n",
      "dtypes: int64(2), object(5)\n",
      "memory usage: 840.5+ KB\n"
     ]
    }
   ],
   "source": [
    "data.info()"
   ]
  },
  {
   "cell_type": "code",
   "execution_count": 19,
   "metadata": {},
   "outputs": [
    {
     "data": {
      "text/html": [
       "<div>\n",
       "<style scoped>\n",
       "    .dataframe tbody tr th:only-of-type {\n",
       "        vertical-align: middle;\n",
       "    }\n",
       "\n",
       "    .dataframe tbody tr th {\n",
       "        vertical-align: top;\n",
       "    }\n",
       "\n",
       "    .dataframe thead th {\n",
       "        text-align: right;\n",
       "    }\n",
       "</style>\n",
       "<table border=\"1\" class=\"dataframe\">\n",
       "  <thead>\n",
       "    <tr style=\"text-align: right;\">\n",
       "      <th></th>\n",
       "      <th>id</th>\n",
       "      <th>object_name</th>\n",
       "      <th>chain</th>\n",
       "      <th>object_type</th>\n",
       "      <th>address</th>\n",
       "      <th>number</th>\n",
       "      <th>street_name</th>\n",
       "    </tr>\n",
       "  </thead>\n",
       "  <tbody>\n",
       "    <tr>\n",
       "      <th>0</th>\n",
       "      <td>151635</td>\n",
       "      <td>сметана</td>\n",
       "      <td>одиночный</td>\n",
       "      <td>кафе</td>\n",
       "      <td>город Москва, улица Егора Абакумова, дом 9</td>\n",
       "      <td>48</td>\n",
       "      <td>улица Егора Абакумова</td>\n",
       "    </tr>\n",
       "    <tr>\n",
       "      <th>1</th>\n",
       "      <td>77874</td>\n",
       "      <td>родник</td>\n",
       "      <td>одиночный</td>\n",
       "      <td>кафе</td>\n",
       "      <td>город Москва, улица Талалихина, дом 2/1, корпус 1</td>\n",
       "      <td>35</td>\n",
       "      <td>улица Талалихина</td>\n",
       "    </tr>\n",
       "    <tr>\n",
       "      <th>2</th>\n",
       "      <td>24309</td>\n",
       "      <td>академия</td>\n",
       "      <td>одиночный</td>\n",
       "      <td>кафе</td>\n",
       "      <td>город Москва, Абельмановская улица, дом 6</td>\n",
       "      <td>95</td>\n",
       "      <td>Абельмановская улица</td>\n",
       "    </tr>\n",
       "    <tr>\n",
       "      <th>3</th>\n",
       "      <td>21894</td>\n",
       "      <td>пиццетория</td>\n",
       "      <td>сетевой</td>\n",
       "      <td>кафе</td>\n",
       "      <td>город Москва, Абрамцевская улица, дом 1</td>\n",
       "      <td>40</td>\n",
       "      <td>Абрамцевская улица</td>\n",
       "    </tr>\n",
       "    <tr>\n",
       "      <th>4</th>\n",
       "      <td>119365</td>\n",
       "      <td>вишневая метель</td>\n",
       "      <td>одиночный</td>\n",
       "      <td>кафе</td>\n",
       "      <td>город Москва, Абрамцевская улица, дом 9, корпус 1</td>\n",
       "      <td>50</td>\n",
       "      <td>Абрамцевская улица</td>\n",
       "    </tr>\n",
       "  </tbody>\n",
       "</table>\n",
       "</div>"
      ],
      "text/plain": [
       "       id       object_name      chain object_type  \\\n",
       "0  151635           сметана  одиночный        кафе   \n",
       "1   77874            родник  одиночный        кафе   \n",
       "2   24309          академия  одиночный        кафе   \n",
       "3   21894        пиццетория    сетевой        кафе   \n",
       "4  119365   вишневая метель  одиночный        кафе   \n",
       "\n",
       "                                             address  number  \\\n",
       "0         город Москва, улица Егора Абакумова, дом 9      48   \n",
       "1  город Москва, улица Талалихина, дом 2/1, корпус 1      35   \n",
       "2          город Москва, Абельмановская улица, дом 6      95   \n",
       "3            город Москва, Абрамцевская улица, дом 1      40   \n",
       "4  город Москва, Абрамцевская улица, дом 9, корпус 1      50   \n",
       "\n",
       "             street_name  \n",
       "0  улица Егора Абакумова  \n",
       "1       улица Талалихина  \n",
       "2   Абельмановская улица  \n",
       "3     Абрамцевская улица  \n",
       "4     Абрамцевская улица  "
      ]
     },
     "execution_count": 19,
     "metadata": {},
     "output_type": "execute_result"
    }
   ],
   "source": [
    "data.head()"
   ]
  },
  {
   "cell_type": "markdown",
   "metadata": {},
   "source": [
    "### streets.district_id, U"
   ]
  },
  {
   "cell_type": "code",
   "execution_count": 20,
   "metadata": {},
   "outputs": [
    {
     "data": {
      "text/html": [
       "<div>\n",
       "<style scoped>\n",
       "    .dataframe tbody tr th:only-of-type {\n",
       "        vertical-align: middle;\n",
       "    }\n",
       "\n",
       "    .dataframe tbody tr th {\n",
       "        vertical-align: top;\n",
       "    }\n",
       "\n",
       "    .dataframe thead th {\n",
       "        text-align: right;\n",
       "    }\n",
       "</style>\n",
       "<table border=\"1\" class=\"dataframe\">\n",
       "  <thead>\n",
       "    <tr style=\"text-align: right;\">\n",
       "      <th></th>\n",
       "      <th>street_id</th>\n",
       "      <th>street_name</th>\n",
       "      <th>district_id</th>\n",
       "    </tr>\n",
       "  </thead>\n",
       "  <tbody>\n",
       "    <tr>\n",
       "      <th>0</th>\n",
       "      <td>8880</td>\n",
       "      <td>1-й Ирининский переулок</td>\n",
       "      <td>0102</td>\n",
       "    </tr>\n",
       "    <tr>\n",
       "      <th>1</th>\n",
       "      <td>8890</td>\n",
       "      <td>2-й Ирининский переулок</td>\n",
       "      <td>0102</td>\n",
       "    </tr>\n",
       "    <tr>\n",
       "      <th>2</th>\n",
       "      <td>8891</td>\n",
       "      <td>3-й Ирининский переулок</td>\n",
       "      <td>0102</td>\n",
       "    </tr>\n",
       "    <tr>\n",
       "      <th>3</th>\n",
       "      <td>8910</td>\n",
       "      <td>Иркутская улица</td>\n",
       "      <td>0406</td>\n",
       "    </tr>\n",
       "    <tr>\n",
       "      <th>4</th>\n",
       "      <td>8920</td>\n",
       "      <td>1-й Иртышский проезд</td>\n",
       "      <td>0406</td>\n",
       "    </tr>\n",
       "  </tbody>\n",
       "</table>\n",
       "</div>"
      ],
      "text/plain": [
       "   street_id              street_name district_id\n",
       "0       8880  1-й Ирининский переулок        0102\n",
       "1       8890  2-й Ирининский переулок        0102\n",
       "2       8891  3-й Ирининский переулок        0102\n",
       "3       8910          Иркутская улица        0406\n",
       "4       8920     1-й Иртышский проезд        0406"
      ]
     },
     "execution_count": 20,
     "metadata": {},
     "output_type": "execute_result"
    }
   ],
   "source": [
    "streets.head()"
   ]
  },
  {
   "cell_type": "code",
   "execution_count": 21,
   "metadata": {},
   "outputs": [],
   "source": [
    "streets = streets.set_index(['street_id', 'street_name']).apply(lambda x: x.str.split(';').explode()).reset_index() "
   ]
  },
  {
   "cell_type": "code",
   "execution_count": 22,
   "metadata": {},
   "outputs": [],
   "source": [
    "streets['district_id'] = streets['district_id'].apply(lambda x: x.strip())"
   ]
  },
  {
   "cell_type": "code",
   "execution_count": 23,
   "metadata": {},
   "outputs": [],
   "source": [
    "streets_districts = streets.merge(districts, on = 'district_id', how='left')"
   ]
  },
  {
   "cell_type": "code",
   "execution_count": 24,
   "metadata": {},
   "outputs": [
    {
     "name": "stdout",
     "output_type": "stream",
     "text": [
      "<class 'pandas.core.frame.DataFrame'>\n",
      "Int64Index: 5976 entries, 0 to 5975\n",
      "Data columns (total 4 columns):\n",
      " #   Column         Non-Null Count  Dtype \n",
      "---  ------         --------------  ----- \n",
      " 0   street_id      5976 non-null   int64 \n",
      " 1   street_name    5976 non-null   object\n",
      " 2   district_id    5976 non-null   object\n",
      " 3   district_name  5976 non-null   object\n",
      "dtypes: int64(1), object(3)\n",
      "memory usage: 233.4+ KB\n"
     ]
    }
   ],
   "source": [
    "streets_districts.info()"
   ]
  },
  {
   "cell_type": "markdown",
   "metadata": {},
   "source": [
    "<div style=\"border-radius: 15px; border: 3px solid indigo; padding: 15px;\">\n",
    "<b>Вывод</b><br>\n",
    "<li> значения да/нет в поле <b>chain</b> таблицы <b>data</b> заменены на сетевой/одиночный для удобства построения графиков</li>\n",
    "<li>удалены дубликаты из таблиц <b>data</b> и <b>streets</b></li>\n",
    "<li>поле <b>object_name</b> таблицы <b>data</b> приведено к более-менее однотипному формату написания</li>\n",
    "<li>улица вынесена в отдельный столбец <b>street_name</b>из столбца <b>address</b> таблицы <b>data</b></li>\n",
    "<li>в таблицу <b>streets</b> добавлены дополнительные строки с улицами, входящими в более, чем в 1 район</li>\n",
    "<li>таблицы <b>streets</b> и <b>districts</b> объединены.</li>\n",
    "</div>"
   ]
  },
  {
   "cell_type": "markdown",
   "metadata": {},
   "source": [
    "## Анализ данных"
   ]
  },
  {
   "cell_type": "code",
   "execution_count": 25,
   "metadata": {},
   "outputs": [],
   "source": [
    "# Построение графиков\n",
    "def draw_chart(data, kind, data_y=None, data_x=None, title=None, xlabel=None, ylabel = None\n",
    "               , height=None, width=None\n",
    "               , vmax=None, fmt=None, color = None, color_name=None):\n",
    "        # Гистограмма\n",
    "    if kind == 'hist':\n",
    "        # Количество корзин\n",
    "        def calc_bins (data, data_y):\n",
    "            if data[data_y].max() < 20:\n",
    "                return 100\n",
    "            else: return 50\n",
    "        # График\n",
    "        calculated_bins = calc_bins(data, data_y)\n",
    "        fig = px.histogram(data, x = data_y, nbins=calculated_bins)\n",
    "    # Тепловая карта     \n",
    "    elif kind == 'heatmap':\n",
    "        sns.set(style='white')\n",
    "        plt.figure(figsize=(13, 9))\n",
    "        sns.heatmap(data, annot=True, linewidths=1, linecolor='gray', fmt=fmt).set_yticklabels(data.index.date)\n",
    "    # Точечный\n",
    "    elif kind == 'scatter':\n",
    "        fig = px.scatter(data_frame =data, x = data_x, y=data_y)\n",
    "    # Столбцовый\n",
    "    elif kind == 'bar':\n",
    "        fig = px.bar(data, x=data_x, y=data_y, color=color, labels={color:color_name}#, text=data_y\n",
    "                    )\n",
    "        #fig.layout.yaxis.showticklabels=False\n",
    "    # Линейный\n",
    "    elif kind == 'line':\n",
    "        fig = px.line(data, x=data_x, y=data_y)\n",
    "    # Бокс \n",
    "    elif kind == 'box':\n",
    "        fig = px.box(data, x=data_x, y=data_y)\n",
    "    if kind !='hist':\n",
    "        fig.update_layout(\n",
    "        height=height, width=width,\n",
    "        title='<b>%s</b>'%(title), title_x=0.5, title_font_color = 'black',\n",
    "        xaxis_title='%s'%(xlabel), xaxis_title_font_color = 'black',\n",
    "        yaxis_title='%s'%(ylabel), yaxis_title_font_color = 'black',\n",
    "        font=dict(family='Calibri, monospace', size=16, color='#7f7f7f'))\n",
    "    else:\n",
    "        fig.update_layout(\n",
    "        title='<b>Распределение по %s</b>'%(data_y), title_x=0.5, title_font_color = 'black',\n",
    "        xaxis_title='Значение', xaxis_title_font_color = 'black',\n",
    "        yaxis_title='Частота', yaxis_title_font_color = 'black',\n",
    "        font=dict(family='Calibri, monospace', size=16, color='#7f7f7f'))\n",
    "    return fig"
   ]
  },
  {
   "cell_type": "markdown",
   "metadata": {},
   "source": [
    "### Виды \n",
    "* по количеству, график"
   ]
  },
  {
   "cell_type": "code",
   "execution_count": 26,
   "metadata": {},
   "outputs": [
    {
     "data": {
      "image/png": "[encoded data removed]"
     },
     "metadata": {},
     "output_type": "display_data"
    }
   ],
   "source": [
    "fig = draw_chart(data = data.groupby('object_type', as_index=False).agg({'id':'nunique'}).rename(columns={'id':'restaurants_cnt'})\n",
    "           , kind='bar', data_x ='object_type', xlabel = 'Вид',  data_y='restaurants_cnt'\n",
    "           , ylabel = 'Количество', title = 'Распредление заведений по видам')\n",
    "fig.show('png')"
   ]
  },
  {
   "cell_type": "markdown",
   "metadata": {},
   "source": [
    "<div style=\"border-radius: 15px; border: 3px solid indigo; padding: 15px;\">\n",
    "<b>Вывод</b><br>\n",
    "<li>больше всего в Москве распостранены кафе.</li>\n",
    "<li>далее в порядке убывания распространённости идут столовые, рестораны и фастфуды.</li>\n",
    "<li>реже всего встречаются кулинарии и закусочные.</li>\n",
    "</div>"
   ]
  },
  {
   "cell_type": "markdown",
   "metadata": {},
   "source": [
    "### Сетевые и несетевые\n",
    "* по количеству, график\n",
    "* виды, для которых характерно сетевое распространение"
   ]
  },
  {
   "cell_type": "code",
   "execution_count": 27,
   "metadata": {},
   "outputs": [
    {
     "data": {
      "image/png": "[encoded data removed]"
     },
     "metadata": {},
     "output_type": "display_data"
    }
   ],
   "source": [
    "fig = draw_chart(data = data.groupby('chain', as_index=False).agg({'id':'nunique'}).rename(columns={'id':'restaurants_cnt'})\n",
    "           , kind='bar', height =500, width=500, data_x ='chain', xlabel = 'Тип',  data_y='restaurants_cnt'           \n",
    "           , ylabel = 'Количество', title = 'Распредление заведений по типам')\n",
    "fig.show('png')"
   ]
  },
  {
   "cell_type": "markdown",
   "metadata": {},
   "source": [
    "<div style=\"border-radius: 15px; border: 3px solid indigo; padding: 15px;\">\n",
    "<b>Вывод</b><br>\n",
    "<li>по большей части заведения общественного питания в Москве — одиночные</li>\n",
    "<li>сетевых почти в 6 раз меньше.</li>\n",
    "</div>"
   ]
  },
  {
   "cell_type": "code",
   "execution_count": 28,
   "metadata": {},
   "outputs": [
    {
     "data": {
      "text/plain": [
       "array(['одиночный', 'сетевой'], dtype=object)"
      ]
     },
     "execution_count": 28,
     "metadata": {},
     "output_type": "execute_result"
    }
   ],
   "source": [
    "data['chain'].unique()"
   ]
  },
  {
   "cell_type": "code",
   "execution_count": 29,
   "metadata": {},
   "outputs": [
    {
     "data": {
      "image/png": "[encoded data removed]"
     },
     "metadata": {},
     "output_type": "display_data"
    }
   ],
   "source": [
    "fig = draw_chart(data = data.groupby(['object_type', 'chain'], as_index=False).agg({'id':'nunique'}).\\\n",
    "           rename(columns={'id':'restaurants_cnt'})\n",
    "           , kind='bar', data_x ='object_type', xlabel = 'Вид',  data_y='restaurants_cnt', color = 'chain'\n",
    "           , color_name = 'Тип', ylabel = 'Количество', title = 'Типы и виды заведений')\n",
    "fig.show('png')"
   ]
  },
  {
   "cell_type": "markdown",
   "metadata": {},
   "source": [
    "<div style=\"border-radius: 15px; border: 3px solid indigo; padding: 15px;\">\n",
    "<b>Вывод</b><br>\n",
    "<li>к сетевым заведениям в основном отсятся кафе, фастфуды и рестораны</li>\n",
    "<li>реже кулинарии, кафетерии, закусочные и бары</li>    \n",
    "<li>не бывают сетевыми столовые и буфеты (т.к. скорее всего относятся к определённым организациям: школам, заводам, театрам)</li>\n",
    "</div>"
   ]
  },
  {
   "cell_type": "markdown",
   "metadata": {},
   "source": [
    "### Посадочные места в сетевых\n",
    "* много заведений на мало мест VS мало заведений на много мест"
   ]
  },
  {
   "cell_type": "code",
   "execution_count": 30,
   "metadata": {},
   "outputs": [
    {
     "data": {
      "text/plain": [
       "restaurants_cnt_mean     5.653333\n",
       "seats_mean_mean         59.381169\n",
       "dtype: float64"
      ]
     },
     "execution_count": 30,
     "metadata": {},
     "output_type": "execute_result"
    }
   ],
   "source": [
    "data.query('chain ==\"сетевой\"').groupby('object_name', as_index=False).agg({'id':'nunique', 'number':'mean'}).\\\n",
    "                rename(columns={'id':'restaurants_cnt', 'number':'seats_mean'}).\\\n",
    "                sort_values(by='restaurants_cnt', ascending=False).reset_index(drop=True).\\\n",
    "                agg({'restaurants_cnt':'mean','seats_mean':'mean'}).\\\n",
    "                rename(index={'restaurants_cnt':'restaurants_cnt_mean', 'seats_mean':'seats_mean_mean'})"
   ]
  },
  {
   "cell_type": "code",
   "execution_count": 31,
   "metadata": {},
   "outputs": [
    {
     "data": {
      "image/png": "[encoded data removed]"
     },
     "metadata": {},
     "output_type": "display_data"
    }
   ],
   "source": [
    "fig = draw_chart(data=\\\n",
    "           data.query('chain ==\"сетевой\"').groupby('object_name', as_index=False).agg({'id':'nunique', 'number':'mean'}).\\\n",
    "                rename(columns={'id':'restaurants_cnt', 'number':'seats_mean'}).\\\n",
    "                sort_values(by='restaurants_cnt', ascending=False).reset_index(drop=True).query('restaurants_cnt >1')\n",
    "           , kind='scatter', data_x ='restaurants_cnt', xlabel = 'Количество заведений',  data_y='seats_mean'\n",
    "           , ylabel = 'Среднее число мест в заведении', title = 'Сети: количество заведений и количество мест')\n",
    "fig.show('png')"
   ]
  },
  {
   "cell_type": "markdown",
   "metadata": {},
   "source": [
    "<div style=\"border-radius: 15px; border: 3px solid indigo; padding: 15px;\">\n",
    "<b>Вывод</b><br>\n",
    "<li>с ростом количества заведений (примерно от 20) среднее число мест в заведении стремится к 50</li>\n",
    "<li>видимо, с расширением сети становится сложнее поддерживать крупные заведения</li>\n",
    "<li>маленькие сети состоят как из вместительных, так и из небольших заведений: разброс среднего числа мест довольно большой</li>    \n",
    "</div>"
   ]
  },
  {
   "cell_type": "markdown",
   "metadata": {},
   "source": [
    "### Посадочные места по видам\n",
    "* среднее количество посадочных мест по видам\n",
    "* вид с самым большим средним количеством посадочных мест"
   ]
  },
  {
   "cell_type": "code",
   "execution_count": 32,
   "metadata": {},
   "outputs": [
    {
     "data": {
      "image/png": "[encoded data removed]"
     },
     "metadata": {},
     "output_type": "display_data"
    }
   ],
   "source": [
    "fig = draw_chart(data=data.groupby('object_type', as_index=False).agg({'number':'mean'}).rename(columns={'number':'seats_mean'})\n",
    "           , kind='bar', data_x ='object_type', xlabel = 'Количество заведений',  data_y='seats_mean'\n",
    "           , ylabel = 'Среднее число мест в заведении', title = 'Cреднее количество посадочных мест по видам')\n",
    "fig.show('png')"
   ]
  },
  {
   "cell_type": "markdown",
   "metadata": {},
   "source": [
    "<div style=\"border-radius: 15px; border: 3px solid indigo; padding: 15px;\">\n",
    "<b>Вывод</b><br>\n",
    "<li>самые вместительные заведения — столовые (больше 120 мест)</li>\n",
    "<li>далее идут рестораны (около 90 мест)</li>\n",
    "<li>ну а меньше всего мест — в кулинариях, кафетериях и закусочных</li>    \n",
    "</div>"
   ]
  },
  {
   "cell_type": "markdown",
   "metadata": {},
   "source": [
    "### Топ-10 улиц по количеству общепитов\n",
    "* соотнесение улиц и районов\n",
    "* районы — из внешнего файла"
   ]
  },
  {
   "cell_type": "code",
   "execution_count": 33,
   "metadata": {},
   "outputs": [],
   "source": [
    "streets_top = data.groupby('street_name', as_index=False).agg({'id':'nunique','number':'mean'}).\\\n",
    "              rename(columns={'id':'restaurants_cnt', 'number':'seats_mean'}).sort_values(by='restaurants_cnt'\n",
    "                                                                        , ascending=False).reset_index(drop=True).head(10)"
   ]
  },
  {
   "cell_type": "code",
   "execution_count": 34,
   "metadata": {},
   "outputs": [
    {
     "data": {
      "image/png": "[encoded data removed]"
     },
     "metadata": {},
     "output_type": "display_data"
    }
   ],
   "source": [
    "fig = draw_chart(data=streets_top, kind='bar', data_x ='street_name', xlabel = 'Улица',  data_y='restaurants_cnt'\n",
    "           , ylabel = 'Количество заведений', title = 'Топ-10 улиц по количеству заведений')\n",
    "fig.show('png')"
   ]
  },
  {
   "cell_type": "markdown",
   "metadata": {},
   "source": [
    "<div style=\"border-radius: 15px; border: 3px solid indigo; padding: 15px;\">\n",
    "<b>Вывод</b><br>\n",
    "<li>в топ-10 по количеству заведений попали протяжённые улицы — в т.ч. 5 проспектов, шоссе и набережная</li>\n",
    "<li>а также территории новой Москвы — Зеленоград и Сосенское, эти территории можно считать районами</li>\n",
    "<li>можно отметить, что шаг в топе небольшой, да и разброс тоже</li>\n",
    "</div>"
   ]
  },
  {
   "cell_type": "code",
   "execution_count": 35,
   "metadata": {},
   "outputs": [],
   "source": [
    "streets_top_districts = streets_top.merge(streets_districts[['street_name', 'district_name']], on='street_name', how='left')\n",
    "streets_top_districts['district_name'] = streets_top_districts['district_name'].fillna(streets_top_districts['street_name'])"
   ]
  },
  {
   "cell_type": "code",
   "execution_count": 36,
   "metadata": {},
   "outputs": [],
   "source": [
    "streets_top_districts =\\\n",
    "                pd.DataFrame(streets_top_districts.groupby(['street_name', 'restaurants_cnt'])['district_name'].apply(list).\\\n",
    "                reset_index().sort_values(by='restaurants_cnt', ascending=False)).reset_index(drop=True)\n",
    "streets_top_districts['districts_cnt'] = streets_top_districts['district_name'].apply(lambda x: len(x))"
   ]
  },
  {
   "cell_type": "code",
   "execution_count": 37,
   "metadata": {},
   "outputs": [
    {
     "data": {
      "text/html": [
       "<div>\n",
       "<style scoped>\n",
       "    .dataframe tbody tr th:only-of-type {\n",
       "        vertical-align: middle;\n",
       "    }\n",
       "\n",
       "    .dataframe tbody tr th {\n",
       "        vertical-align: top;\n",
       "    }\n",
       "\n",
       "    .dataframe thead th {\n",
       "        text-align: right;\n",
       "    }\n",
       "</style>\n",
       "<table border=\"1\" class=\"dataframe\">\n",
       "  <thead>\n",
       "    <tr style=\"text-align: right;\">\n",
       "      <th></th>\n",
       "      <th>street_name</th>\n",
       "      <th>restaurants_cnt</th>\n",
       "      <th>district_name</th>\n",
       "      <th>districts_cnt</th>\n",
       "    </tr>\n",
       "  </thead>\n",
       "  <tbody>\n",
       "    <tr>\n",
       "      <th>0</th>\n",
       "      <td>город Зеленоград</td>\n",
       "      <td>232</td>\n",
       "      <td>[город Зеленоград]</td>\n",
       "      <td>1</td>\n",
       "    </tr>\n",
       "    <tr>\n",
       "      <th>1</th>\n",
       "      <td>проспект Мира</td>\n",
       "      <td>204</td>\n",
       "      <td>[Мещанский район, Алексеевский район, район Марьина Роща, Останкинский район, район Ростокино, район Свиблово, Ярославский район]</td>\n",
       "      <td>7</td>\n",
       "    </tr>\n",
       "    <tr>\n",
       "      <th>2</th>\n",
       "      <td>Профсоюзная улица</td>\n",
       "      <td>183</td>\n",
       "      <td>[Академический район, район Коньково, Обручевский район, район Тёплый Стан, район Черёмушки, район Ясенево]</td>\n",
       "      <td>6</td>\n",
       "    </tr>\n",
       "    <tr>\n",
       "      <th>3</th>\n",
       "      <td>Ленинградский проспект</td>\n",
       "      <td>173</td>\n",
       "      <td>[район Аэропорт, район Беговой, район Сокол, Хорошёвский район]</td>\n",
       "      <td>4</td>\n",
       "    </tr>\n",
       "    <tr>\n",
       "      <th>4</th>\n",
       "      <td>Пресненская набережная</td>\n",
       "      <td>167</td>\n",
       "      <td>[Пресненский район]</td>\n",
       "      <td>1</td>\n",
       "    </tr>\n",
       "    <tr>\n",
       "      <th>5</th>\n",
       "      <td>Варшавское шоссе</td>\n",
       "      <td>162</td>\n",
       "      <td>[Донской район, район Нагатино-Садовники, Нагорный район, район Чертаново Северное, район Чертаново Центральное, район Чертаново Южное, район Северное Бутово, район Южное Бутово, поселение Щербинка]</td>\n",
       "      <td>9</td>\n",
       "    </tr>\n",
       "    <tr>\n",
       "      <th>6</th>\n",
       "      <td>Ленинский проспект</td>\n",
       "      <td>148</td>\n",
       "      <td>[район Якиманка, Донской район, Гагаринский район, Ломоносовский район, Обручевский район, район Тёплый Стан, район Проспект Вернадского, район Тропарёво-Никулино]</td>\n",
       "      <td>8</td>\n",
       "    </tr>\n",
       "    <tr>\n",
       "      <th>7</th>\n",
       "      <td>поселение Сосенское</td>\n",
       "      <td>139</td>\n",
       "      <td>[поселение Сосенское]</td>\n",
       "      <td>1</td>\n",
       "    </tr>\n",
       "    <tr>\n",
       "      <th>8</th>\n",
       "      <td>проспект Вернадского</td>\n",
       "      <td>132</td>\n",
       "      <td>[Гагаринский район, Ломоносовский район, район Проспект Вернадского, район Раменки, район Тропарёво-Никулино]</td>\n",
       "      <td>5</td>\n",
       "    </tr>\n",
       "    <tr>\n",
       "      <th>9</th>\n",
       "      <td>Кутузовский проспект</td>\n",
       "      <td>114</td>\n",
       "      <td>[район Дорогомилово, район Фили-Давыдково]</td>\n",
       "      <td>2</td>\n",
       "    </tr>\n",
       "  </tbody>\n",
       "</table>\n",
       "</div>"
      ],
      "text/plain": [
       "              street_name  restaurants_cnt  \\\n",
       "0        город Зеленоград              232   \n",
       "1           проспект Мира              204   \n",
       "2       Профсоюзная улица              183   \n",
       "3  Ленинградский проспект              173   \n",
       "4  Пресненская набережная              167   \n",
       "5        Варшавское шоссе              162   \n",
       "6      Ленинский проспект              148   \n",
       "7     поселение Сосенское              139   \n",
       "8    проспект Вернадского              132   \n",
       "9    Кутузовский проспект              114   \n",
       "\n",
       "                                                                                                                                                                                            district_name  \\\n",
       "0                                                                                                                                                                                      [город Зеленоград]   \n",
       "1                                                                       [Мещанский район, Алексеевский район, район Марьина Роща, Останкинский район, район Ростокино, район Свиблово, Ярославский район]   \n",
       "2                                                                                             [Академический район, район Коньково, Обручевский район, район Тёплый Стан, район Черёмушки, район Ясенево]   \n",
       "3                                                                                                                                         [район Аэропорт, район Беговой, район Сокол, Хорошёвский район]   \n",
       "4                                                                                                                                                                                     [Пресненский район]   \n",
       "5  [Донской район, район Нагатино-Садовники, Нагорный район, район Чертаново Северное, район Чертаново Центральное, район Чертаново Южное, район Северное Бутово, район Южное Бутово, поселение Щербинка]   \n",
       "6                                     [район Якиманка, Донской район, Гагаринский район, Ломоносовский район, Обручевский район, район Тёплый Стан, район Проспект Вернадского, район Тропарёво-Никулино]   \n",
       "7                                                                                                                                                                                   [поселение Сосенское]   \n",
       "8                                                                                           [Гагаринский район, Ломоносовский район, район Проспект Вернадского, район Раменки, район Тропарёво-Никулино]   \n",
       "9                                                                                                                                                              [район Дорогомилово, район Фили-Давыдково]   \n",
       "\n",
       "   districts_cnt  \n",
       "0              1  \n",
       "1              7  \n",
       "2              6  \n",
       "3              4  \n",
       "4              1  \n",
       "5              9  \n",
       "6              8  \n",
       "7              1  \n",
       "8              5  \n",
       "9              2  "
      ]
     },
     "execution_count": 37,
     "metadata": {},
     "output_type": "execute_result"
    }
   ],
   "source": [
    "streets_top_districts"
   ]
  },
  {
   "cell_type": "markdown",
   "metadata": {},
   "source": [
    "### Улицы с 1 общепитом\n",
    "* общее количество\n",
    "* районы — из внешнего файла"
   ]
  },
  {
   "cell_type": "code",
   "execution_count": 38,
   "metadata": {},
   "outputs": [],
   "source": [
    "streets_1 = data.groupby('street_name', as_index=False).agg({'id':'nunique'}).rename(columns={'id':'restaurants_cnt'}).\\\n",
    "                                    query('restaurants_cnt ==1')"
   ]
  },
  {
   "cell_type": "code",
   "execution_count": 39,
   "metadata": {},
   "outputs": [
    {
     "data": {
      "text/plain": [
       "541"
      ]
     },
     "execution_count": 39,
     "metadata": {},
     "output_type": "execute_result"
    }
   ],
   "source": [
    "# Число улиц c 1 заведением\n",
    "len(streets_1)"
   ]
  },
  {
   "cell_type": "code",
   "execution_count": 40,
   "metadata": {},
   "outputs": [],
   "source": [
    "streets_1_districts = streets_1.merge(streets_districts[['street_name', 'district_name']], on='street_name', how='left')\n",
    "streets_1_districts = pd.DataFrame(streets_1_districts.groupby('district_name')['street_name'].apply(list).reset_index())\n",
    "streets_1_districts['streets_cnt'] = streets_1_districts['street_name'].apply(lambda x: len(x))                            "
   ]
  },
  {
   "cell_type": "code",
   "execution_count": 41,
   "metadata": {},
   "outputs": [
    {
     "data": {
      "text/plain": [
       "121"
      ]
     },
     "execution_count": 41,
     "metadata": {},
     "output_type": "execute_result"
    }
   ],
   "source": [
    "# Число районов, где есть улицы с 1 заведением\n",
    "len(streets_1_districts)"
   ]
  },
  {
   "cell_type": "code",
   "execution_count": 42,
   "metadata": {
    "scrolled": true
   },
   "outputs": [],
   "source": [
    "streets_1_districts = streets_1_districts[['district_name', 'streets_cnt']].sort_values(by='streets_cnt', ascending=False).\\\n",
    "                                                                                        reset_index(drop=True).head(10)"
   ]
  },
  {
   "cell_type": "markdown",
   "metadata": {},
   "source": [
    "<div style=\"border-radius: 15px; border: 3px solid indigo; padding: 15px;\">\n",
    "<b>Вывод</b><br>\n",
    "<li>в Москве 541 улица с 1 общепитом</li>\n",
    "<li>в 121 районе</li>\n",
    "<li>в топе-3 по количеству улиц с 1 заведением: Таганский, Хамовники и Басманный</li>\n",
    "<li>а на пятом месте — Пресненский район, куда входит Пресненская улица из топа-10 самых загруженных улиц</li>\n",
    "</div>"
   ]
  },
  {
   "cell_type": "markdown",
   "metadata": {},
   "source": [
    "### Посадочные места улицах c большим количеством заведений\n",
    "* распределение количества мест\n",
    "* закономерности"
   ]
  },
  {
   "cell_type": "code",
   "execution_count": 43,
   "metadata": {},
   "outputs": [
    {
     "data": {
      "image/png": "[encoded data removed]"
     },
     "metadata": {},
     "output_type": "display_data"
    }
   ],
   "source": [
    "fig = draw_chart(data[data['street_name'].isin(streets_top['street_name'])].query('number <=600')\n",
    "           , kind='box', data_x ='street_name', xlabel = '',  data_y='number'\n",
    "           , ylabel = 'Число мест в заведении', title = 'Топ-10 улиц по количеству заведений: число мест')\n",
    "fig.show('png')"
   ]
  },
  {
   "cell_type": "markdown",
   "metadata": {},
   "source": [
    "<div style=\"border-radius: 15px; border: 3px solid indigo; padding: 15px;\">\n",
    "<b>Вывод</b><br>\n",
    "<li>на улицах с большим количеством общепитов в половине заведений около 40 мест </li>\n",
    "<li>а в самых крупных заведениях 150-200 мест</li>\n",
    "</div>"
   ]
  },
  {
   "cell_type": "markdown",
   "metadata": {},
   "source": [
    "## Общий вывод"
   ]
  },
  {
   "cell_type": "markdown",
   "metadata": {},
   "source": [
    "* **перспективный вид заведения**: кафе — самый популярный в Москве\n",
    "* **выгодный район расположения**: Пресненский район, Пресненская набережная — в топе-10 по количеству заведений, но не первая, а сам район в топе-5 по количеству улиц с 1 заведением, жители которых могут ходить на набережную\n",
    "* **оптимальное количество посадочных мест**: 40 — среднее по городу для кафе и для заведений на улицах из топа-10, а также сетевых заведений\n",
    "* **возможности развития**: открытие до 20 новых точек также на 40 мест в том же районе на улицах с 1 заведением"
   ]
  },
  {
   "cell_type": "markdown",
   "metadata": {},
   "source": [
    "[Презентация](https://drive.google.com/file/d/100xrp1OE3EwpXLWWOflUrYPcBjyWb0EO/view?usp=sharing)"
   ]
  },
  {
   "cell_type": "code",
   "execution_count": 44,
   "metadata": {},
   "outputs": [],
   "source": [
    "# Выгрузка в Excel\n",
    "with pd.ExcelWriter(dt.datetime.strftime(dt.datetime.now(),'%Y%m%d_%H-%M') +'_Общепиты.xlsx') as wr:\n",
    "    streets_top.to_excel(wr, sheet_name = 'streets', index = False)\n",
    "    streets_1_districts.to_excel(wr, sheet_name = 'districts', index = False)"
   ]
  },
  {
   "cell_type": "markdown",
   "metadata": {},
   "source": [
    "___"
   ]
  }
 ],
 "metadata": {
  "ExecuteTimeLog": [
   {
    "duration": 1941,
    "start_time": "2021-07-13T14:46:40.656Z"
   },
   {
    "duration": 57,
    "start_time": "2021-07-13T14:52:26.166Z"
   },
   {
    "duration": 12,
    "start_time": "2021-07-13T18:08:28.639Z"
   },
   {
    "duration": 18,
    "start_time": "2021-07-13T18:08:54.016Z"
   },
   {
    "duration": 146,
    "start_time": "2021-07-14T18:56:08.632Z"
   },
   {
    "duration": 118,
    "start_time": "2021-07-14T18:56:14.102Z"
   },
   {
    "duration": 509,
    "start_time": "2021-07-14T18:56:33.983Z"
   },
   {
    "duration": 2906,
    "start_time": "2021-07-14T18:58:28.983Z"
   },
   {
    "duration": 350,
    "start_time": "2021-07-14T18:59:44.390Z"
   },
   {
    "duration": 384,
    "start_time": "2021-07-14T19:00:50.213Z"
   },
   {
    "duration": 322,
    "start_time": "2021-07-14T19:01:13.813Z"
   },
   {
    "duration": 154,
    "start_time": "2021-07-14T20:17:51.228Z"
   },
   {
    "duration": 59,
    "start_time": "2021-07-14T20:17:53.168Z"
   },
   {
    "duration": 1672,
    "start_time": "2021-07-14T20:17:53.816Z"
   },
   {
    "duration": 1605,
    "start_time": "2021-07-14T20:18:03.376Z"
   },
   {
    "duration": 1651,
    "start_time": "2021-07-14T20:22:36.574Z"
   },
   {
    "duration": 1525,
    "start_time": "2021-07-14T20:24:05.189Z"
   },
   {
    "duration": 2061,
    "start_time": "2021-07-14T20:26:33.823Z"
   },
   {
    "duration": 52,
    "start_time": "2021-07-14T20:26:35.887Z"
   },
   {
    "duration": 1719,
    "start_time": "2021-07-14T20:26:35.942Z"
   },
   {
    "duration": 1553,
    "start_time": "2021-07-14T20:27:10.327Z"
   },
   {
    "duration": 1426,
    "start_time": "2021-07-14T20:27:28.671Z"
   },
   {
    "duration": 1600,
    "start_time": "2021-07-14T20:30:56.003Z"
   },
   {
    "duration": 1672,
    "start_time": "2021-07-14T20:31:10.284Z"
   },
   {
    "duration": 422,
    "start_time": "2021-07-14T20:35:58.150Z"
   },
   {
    "duration": 1780,
    "start_time": "2021-07-14T20:38:24.139Z"
   },
   {
    "duration": 1403,
    "start_time": "2021-07-14T20:38:32.350Z"
   },
   {
    "duration": 1701,
    "start_time": "2021-07-14T20:41:56.755Z"
   },
   {
    "duration": 1223,
    "start_time": "2021-07-14T20:44:03.041Z"
   },
   {
    "duration": 1173,
    "start_time": "2021-07-14T20:45:13.209Z"
   },
   {
    "duration": 1158,
    "start_time": "2021-07-14T20:45:41.168Z"
   },
   {
    "duration": 1049,
    "start_time": "2021-07-14T20:45:48.144Z"
   },
   {
    "duration": 1284,
    "start_time": "2021-07-14T20:46:20.518Z"
   },
   {
    "duration": 2054,
    "start_time": "2021-07-14T20:47:18.373Z"
   },
   {
    "duration": 1264,
    "start_time": "2021-07-14T20:47:26.327Z"
   },
   {
    "duration": 1410,
    "start_time": "2021-07-14T20:49:21.278Z"
   },
   {
    "duration": 1961,
    "start_time": "2021-07-14T20:49:30.811Z"
   },
   {
    "duration": 54,
    "start_time": "2021-07-14T20:49:32.774Z"
   },
   {
    "duration": 1306,
    "start_time": "2021-07-14T20:49:32.830Z"
   },
   {
    "duration": 574,
    "start_time": "2021-07-14T21:00:55.082Z"
   },
   {
    "duration": 503,
    "start_time": "2021-07-14T21:02:00.857Z"
   },
   {
    "duration": 349,
    "start_time": "2021-07-14T21:02:09.192Z"
   },
   {
    "duration": 28,
    "start_time": "2021-07-14T21:02:21.296Z"
   },
   {
    "duration": 12,
    "start_time": "2021-07-14T21:03:25.079Z"
   },
   {
    "duration": 8,
    "start_time": "2021-07-14T21:05:03.117Z"
   },
   {
    "duration": 1976,
    "start_time": "2021-07-14T21:10:11.876Z"
   },
   {
    "duration": 54,
    "start_time": "2021-07-14T21:10:13.855Z"
   },
   {
    "duration": 1064,
    "start_time": "2021-07-14T21:10:14.588Z"
   },
   {
    "duration": 522,
    "start_time": "2021-07-14T21:10:23.220Z"
   },
   {
    "duration": 14,
    "start_time": "2021-07-14T21:10:27.420Z"
   },
   {
    "duration": 17,
    "start_time": "2021-07-14T21:10:28.764Z"
   },
   {
    "duration": 24,
    "start_time": "2021-07-14T21:10:32.548Z"
   },
   {
    "duration": 9,
    "start_time": "2021-07-14T21:10:35.508Z"
   },
   {
    "duration": 10,
    "start_time": "2021-07-14T21:11:01.276Z"
   },
   {
    "duration": 8,
    "start_time": "2021-07-14T21:11:18.652Z"
   },
   {
    "duration": 10,
    "start_time": "2021-07-14T21:11:33.227Z"
   },
   {
    "duration": 583,
    "start_time": "2021-07-14T21:14:52.023Z"
   },
   {
    "duration": 2013,
    "start_time": "2021-07-14T21:20:27.073Z"
   },
   {
    "duration": 52,
    "start_time": "2021-07-14T21:20:29.089Z"
   },
   {
    "duration": 1219,
    "start_time": "2021-07-14T21:20:29.144Z"
   },
   {
    "duration": 669,
    "start_time": "2021-07-14T21:20:30.366Z"
   },
   {
    "duration": 3,
    "start_time": "2021-07-14T21:20:31.037Z"
   },
   {
    "duration": 19,
    "start_time": "2021-07-14T21:20:31.043Z"
   },
   {
    "duration": 18,
    "start_time": "2021-07-14T21:20:31.920Z"
   },
   {
    "duration": 21,
    "start_time": "2021-07-14T21:21:27.289Z"
   },
   {
    "duration": 17,
    "start_time": "2021-07-14T21:21:49.535Z"
   },
   {
    "duration": 1968,
    "start_time": "2021-07-14T21:22:51.806Z"
   },
   {
    "duration": 55,
    "start_time": "2021-07-14T21:22:53.776Z"
   },
   {
    "duration": 1169,
    "start_time": "2021-07-14T21:22:53.834Z"
   },
   {
    "duration": 590,
    "start_time": "2021-07-14T21:22:55.006Z"
   },
   {
    "duration": 4,
    "start_time": "2021-07-14T21:22:55.598Z"
   },
   {
    "duration": 23,
    "start_time": "2021-07-14T21:22:57.197Z"
   },
   {
    "duration": 18,
    "start_time": "2021-07-14T21:25:05.685Z"
   },
   {
    "duration": 494,
    "start_time": "2021-07-14T21:26:03.165Z"
   },
   {
    "duration": 24,
    "start_time": "2021-07-14T21:26:17.316Z"
   },
   {
    "duration": 25,
    "start_time": "2021-07-14T21:27:42.819Z"
   },
   {
    "duration": 26,
    "start_time": "2021-07-14T21:28:12.283Z"
   },
   {
    "duration": 25,
    "start_time": "2021-07-14T21:28:18.587Z"
   },
   {
    "duration": 25,
    "start_time": "2021-07-14T21:28:28.211Z"
   },
   {
    "duration": 24,
    "start_time": "2021-07-14T21:28:35.250Z"
   },
   {
    "duration": 25,
    "start_time": "2021-07-14T21:28:58.514Z"
   },
   {
    "duration": 25,
    "start_time": "2021-07-14T21:29:29.361Z"
   },
   {
    "duration": 1931,
    "start_time": "2021-07-14T21:29:39.831Z"
   },
   {
    "duration": 57,
    "start_time": "2021-07-14T21:29:41.765Z"
   },
   {
    "duration": 1059,
    "start_time": "2021-07-14T21:29:41.825Z"
   },
   {
    "duration": 564,
    "start_time": "2021-07-14T21:29:42.887Z"
   },
   {
    "duration": 8,
    "start_time": "2021-07-14T21:29:43.455Z"
   },
   {
    "duration": 60,
    "start_time": "2021-07-14T21:29:43.467Z"
   },
   {
    "duration": 12,
    "start_time": "2021-07-14T21:29:43.530Z"
   },
   {
    "duration": 45,
    "start_time": "2021-07-14T21:31:39.134Z"
   },
   {
    "duration": 44,
    "start_time": "2021-07-14T21:31:46.037Z"
   },
   {
    "duration": 45,
    "start_time": "2021-07-14T21:32:09.700Z"
   },
   {
    "duration": 44,
    "start_time": "2021-07-14T21:32:15.853Z"
   },
   {
    "duration": 43,
    "start_time": "2021-07-14T21:32:24.933Z"
   },
   {
    "duration": 41,
    "start_time": "2021-07-14T21:32:32.388Z"
   },
   {
    "duration": 46,
    "start_time": "2021-07-14T21:32:38.756Z"
   },
   {
    "duration": 43,
    "start_time": "2021-07-14T21:32:43.492Z"
   },
   {
    "duration": 43,
    "start_time": "2021-07-14T21:32:47.677Z"
   },
   {
    "duration": 125,
    "start_time": "2021-07-14T21:33:11.911Z"
   },
   {
    "duration": 84,
    "start_time": "2021-07-14T21:34:13.939Z"
   },
   {
    "duration": 85,
    "start_time": "2021-07-14T21:34:20.275Z"
   },
   {
    "duration": 100,
    "start_time": "2021-07-14T21:34:39.987Z"
   },
   {
    "duration": 735,
    "start_time": "2021-07-14T21:49:39.036Z"
   },
   {
    "duration": 1132,
    "start_time": "2021-07-14T21:49:45.040Z"
   },
   {
    "duration": 4,
    "start_time": "2021-07-14T21:49:56.255Z"
   },
   {
    "duration": 86,
    "start_time": "2021-07-14T21:49:56.599Z"
   },
   {
    "duration": 5,
    "start_time": "2021-07-14T22:15:08.542Z"
   },
   {
    "duration": 1203,
    "start_time": "2021-07-14T22:15:57.261Z"
   },
   {
    "duration": 1611,
    "start_time": "2021-07-14T22:16:07.765Z"
   },
   {
    "duration": 4,
    "start_time": "2021-07-14T22:16:25.227Z"
   },
   {
    "duration": 16,
    "start_time": "2021-07-14T22:16:25.428Z"
   },
   {
    "duration": 14,
    "start_time": "2021-07-14T22:16:35.804Z"
   },
   {
    "duration": 6,
    "start_time": "2021-07-14T22:17:06.404Z"
   },
   {
    "duration": 5,
    "start_time": "2021-07-14T22:17:13.508Z"
   },
   {
    "duration": 6,
    "start_time": "2021-07-14T22:17:31.043Z"
   },
   {
    "duration": 12,
    "start_time": "2021-07-14T22:17:51.675Z"
   },
   {
    "duration": 2005,
    "start_time": "2021-07-14T22:18:12.250Z"
   },
   {
    "duration": 52,
    "start_time": "2021-07-14T22:18:14.258Z"
   },
   {
    "duration": 1564,
    "start_time": "2021-07-14T22:18:14.313Z"
   },
   {
    "duration": 1018,
    "start_time": "2021-07-14T22:18:15.879Z"
   },
   {
    "duration": 3,
    "start_time": "2021-07-14T22:18:16.899Z"
   },
   {
    "duration": 107,
    "start_time": "2021-07-14T22:18:16.905Z"
   },
   {
    "duration": 4,
    "start_time": "2021-07-14T22:18:17.014Z"
   },
   {
    "duration": 18,
    "start_time": "2021-07-14T22:18:17.021Z"
   },
   {
    "duration": 9,
    "start_time": "2021-07-14T22:23:36.068Z"
   },
   {
    "duration": 10,
    "start_time": "2021-07-14T22:23:52.927Z"
   },
   {
    "duration": 65,
    "start_time": "2021-07-14T22:27:19.349Z"
   },
   {
    "duration": 64,
    "start_time": "2021-07-14T22:27:31.490Z"
   },
   {
    "duration": 682,
    "start_time": "2021-07-14T22:27:43.180Z"
   },
   {
    "duration": 59,
    "start_time": "2021-07-14T22:28:12.770Z"
   },
   {
    "duration": 15,
    "start_time": "2021-07-14T22:28:22.851Z"
   },
   {
    "duration": 15,
    "start_time": "2021-07-14T22:28:35.771Z"
   },
   {
    "duration": 8,
    "start_time": "2021-07-14T22:29:01.978Z"
   },
   {
    "duration": 1916,
    "start_time": "2021-07-14T22:29:13.545Z"
   },
   {
    "duration": 57,
    "start_time": "2021-07-14T22:29:15.464Z"
   },
   {
    "duration": 1385,
    "start_time": "2021-07-14T22:29:15.524Z"
   },
   {
    "duration": 951,
    "start_time": "2021-07-14T22:29:16.912Z"
   },
   {
    "duration": 4,
    "start_time": "2021-07-14T22:29:17.865Z"
   },
   {
    "duration": 113,
    "start_time": "2021-07-14T22:29:17.871Z"
   },
   {
    "duration": 5,
    "start_time": "2021-07-14T22:29:17.986Z"
   },
   {
    "duration": 21,
    "start_time": "2021-07-14T22:29:17.994Z"
   },
   {
    "duration": 80,
    "start_time": "2021-07-14T22:29:18.018Z"
   },
   {
    "duration": 6,
    "start_time": "2021-07-14T22:29:18.100Z"
   },
   {
    "duration": 14,
    "start_time": "2021-07-14T22:29:18.109Z"
   },
   {
    "duration": 10,
    "start_time": "2021-07-14T22:29:18.125Z"
   },
   {
    "duration": 7,
    "start_time": "2021-07-14T22:29:40.153Z"
   },
   {
    "duration": 14,
    "start_time": "2021-07-14T22:30:20.240Z"
   },
   {
    "duration": 547,
    "start_time": "2021-07-14T22:30:57.416Z"
   },
   {
    "duration": 1980,
    "start_time": "2021-07-14T22:31:14.892Z"
   },
   {
    "duration": 53,
    "start_time": "2021-07-14T22:31:16.874Z"
   },
   {
    "duration": 775,
    "start_time": "2021-07-14T22:31:16.930Z"
   },
   {
    "duration": 946,
    "start_time": "2021-07-14T22:31:17.708Z"
   },
   {
    "duration": 4,
    "start_time": "2021-07-14T22:31:18.656Z"
   },
   {
    "duration": 101,
    "start_time": "2021-07-14T22:31:18.662Z"
   },
   {
    "duration": 4,
    "start_time": "2021-07-14T22:31:18.783Z"
   },
   {
    "duration": 19,
    "start_time": "2021-07-14T22:31:18.790Z"
   },
   {
    "duration": 74,
    "start_time": "2021-07-14T22:31:18.811Z"
   },
   {
    "duration": 14,
    "start_time": "2021-07-14T22:31:18.887Z"
   },
   {
    "duration": 8,
    "start_time": "2021-07-14T22:31:18.904Z"
   },
   {
    "duration": 16,
    "start_time": "2021-07-14T22:31:18.914Z"
   },
   {
    "duration": 15,
    "start_time": "2021-07-14T22:31:55.387Z"
   },
   {
    "duration": 14,
    "start_time": "2021-07-14T22:32:34.850Z"
   },
   {
    "duration": 14,
    "start_time": "2021-07-14T22:33:57.331Z"
   },
   {
    "duration": 10,
    "start_time": "2021-07-14T22:34:02.306Z"
   },
   {
    "duration": 135,
    "start_time": "2021-07-14T22:34:48.538Z"
   },
   {
    "duration": 14,
    "start_time": "2021-07-14T22:34:49.042Z"
   },
   {
    "duration": 4,
    "start_time": "2021-07-14T22:34:58.514Z"
   },
   {
    "duration": 13,
    "start_time": "2021-07-14T22:34:59.192Z"
   },
   {
    "duration": 11,
    "start_time": "2021-07-14T22:35:05.386Z"
   },
   {
    "duration": 1900,
    "start_time": "2021-07-14T22:35:25.905Z"
   },
   {
    "duration": 54,
    "start_time": "2021-07-14T22:35:27.807Z"
   },
   {
    "duration": 98358,
    "start_time": "2021-07-14T22:35:27.865Z"
   },
   {
    "duration": -157,
    "start_time": "2021-07-14T22:37:06.383Z"
   },
   {
    "duration": -158,
    "start_time": "2021-07-14T22:37:06.386Z"
   },
   {
    "duration": -158,
    "start_time": "2021-07-14T22:37:06.387Z"
   },
   {
    "duration": -158,
    "start_time": "2021-07-14T22:37:06.389Z"
   },
   {
    "duration": -159,
    "start_time": "2021-07-14T22:37:06.391Z"
   },
   {
    "duration": -159,
    "start_time": "2021-07-14T22:37:06.392Z"
   },
   {
    "duration": -160,
    "start_time": "2021-07-14T22:37:06.394Z"
   },
   {
    "duration": -162,
    "start_time": "2021-07-14T22:37:06.397Z"
   },
   {
    "duration": 4,
    "start_time": "2021-07-14T22:37:22.791Z"
   },
   {
    "duration": 54,
    "start_time": "2021-07-14T22:37:23.310Z"
   },
   {
    "duration": 800,
    "start_time": "2021-07-14T22:37:24.862Z"
   },
   {
    "duration": 962,
    "start_time": "2021-07-14T22:37:32.262Z"
   },
   {
    "duration": 4,
    "start_time": "2021-07-14T22:37:33.227Z"
   },
   {
    "duration": 93,
    "start_time": "2021-07-14T22:37:34.925Z"
   },
   {
    "duration": 4,
    "start_time": "2021-07-14T22:37:36.310Z"
   },
   {
    "duration": 19,
    "start_time": "2021-07-14T22:37:36.782Z"
   },
   {
    "duration": 6,
    "start_time": "2021-07-14T22:38:13.244Z"
   },
   {
    "duration": 62,
    "start_time": "2021-07-14T22:38:20.692Z"
   },
   {
    "duration": 15,
    "start_time": "2021-07-14T22:38:20.909Z"
   },
   {
    "duration": 26,
    "start_time": "2021-07-14T22:38:21.094Z"
   },
   {
    "duration": 11,
    "start_time": "2021-07-14T22:38:49.045Z"
   },
   {
    "duration": 12,
    "start_time": "2021-07-14T22:38:50.253Z"
   },
   {
    "duration": 16,
    "start_time": "2021-07-14T22:39:21.725Z"
   },
   {
    "duration": 331,
    "start_time": "2021-07-14T22:44:58.071Z"
   },
   {
    "duration": 13,
    "start_time": "2021-07-14T22:45:05.768Z"
   },
   {
    "duration": 303,
    "start_time": "2021-07-14T22:46:04.297Z"
   },
   {
    "duration": 60,
    "start_time": "2021-07-14T22:46:11.160Z"
   },
   {
    "duration": 131,
    "start_time": "2021-07-14T22:46:48.920Z"
   },
   {
    "duration": 11,
    "start_time": "2021-07-14T22:46:51.086Z"
   },
   {
    "duration": 11,
    "start_time": "2021-07-14T22:46:52.742Z"
   },
   {
    "duration": 12,
    "start_time": "2021-07-14T22:47:05.895Z"
   },
   {
    "duration": 15,
    "start_time": "2021-07-14T22:51:51.172Z"
   },
   {
    "duration": 11,
    "start_time": "2021-07-14T22:52:28.155Z"
   },
   {
    "duration": 14,
    "start_time": "2021-07-14T22:53:40.115Z"
   },
   {
    "duration": 11,
    "start_time": "2021-07-14T22:54:30.244Z"
   },
   {
    "duration": 10,
    "start_time": "2021-07-14T22:54:30.747Z"
   },
   {
    "duration": 13,
    "start_time": "2021-07-14T22:54:45.187Z"
   },
   {
    "duration": 10,
    "start_time": "2021-07-14T22:55:01.802Z"
   },
   {
    "duration": 10,
    "start_time": "2021-07-14T22:55:02.331Z"
   },
   {
    "duration": 13,
    "start_time": "2021-07-14T22:55:04.347Z"
   },
   {
    "duration": 9,
    "start_time": "2021-07-14T22:55:28.481Z"
   },
   {
    "duration": 25,
    "start_time": "2021-07-14T22:56:04.747Z"
   },
   {
    "duration": 12,
    "start_time": "2021-07-14T22:57:33.490Z"
   },
   {
    "duration": 17,
    "start_time": "2021-07-14T22:57:57.641Z"
   },
   {
    "duration": 4,
    "start_time": "2021-07-15T10:00:58.546Z"
   },
   {
    "duration": 2073,
    "start_time": "2021-07-15T10:01:05.240Z"
   },
   {
    "duration": 54,
    "start_time": "2021-07-15T10:01:07.316Z"
   },
   {
    "duration": 1443,
    "start_time": "2021-07-15T10:01:07.373Z"
   },
   {
    "duration": 1333,
    "start_time": "2021-07-15T10:01:08.819Z"
   },
   {
    "duration": 4,
    "start_time": "2021-07-15T10:01:10.155Z"
   },
   {
    "duration": 110,
    "start_time": "2021-07-15T10:01:17.074Z"
   },
   {
    "duration": 5,
    "start_time": "2021-07-15T10:01:26.640Z"
   },
   {
    "duration": 19,
    "start_time": "2021-07-15T10:01:27.369Z"
   },
   {
    "duration": 6,
    "start_time": "2021-07-15T10:01:29.968Z"
   },
   {
    "duration": 58,
    "start_time": "2021-07-15T10:01:32.408Z"
   },
   {
    "duration": 14,
    "start_time": "2021-07-15T10:01:33.279Z"
   },
   {
    "duration": 51,
    "start_time": "2021-07-15T10:02:26.888Z"
   },
   {
    "duration": 17,
    "start_time": "2021-07-15T10:02:34.682Z"
   },
   {
    "duration": 10,
    "start_time": "2021-07-15T10:03:24.441Z"
   },
   {
    "duration": 11,
    "start_time": "2021-07-15T10:03:28.071Z"
   },
   {
    "duration": 11,
    "start_time": "2021-07-15T10:03:29.135Z"
   },
   {
    "duration": 12,
    "start_time": "2021-07-15T10:04:35.399Z"
   },
   {
    "duration": 13,
    "start_time": "2021-07-15T10:05:39.568Z"
   },
   {
    "duration": 18,
    "start_time": "2021-07-15T10:12:57.553Z"
   },
   {
    "duration": 12,
    "start_time": "2021-07-15T10:13:10.158Z"
   },
   {
    "duration": 14,
    "start_time": "2021-07-15T10:17:46.386Z"
   },
   {
    "duration": 117,
    "start_time": "2021-07-15T10:18:34.331Z"
   },
   {
    "duration": 9,
    "start_time": "2021-07-15T10:18:39.322Z"
   },
   {
    "duration": 134,
    "start_time": "2021-07-15T10:19:21.050Z"
   },
   {
    "duration": 6,
    "start_time": "2021-07-15T10:19:21.730Z"
   },
   {
    "duration": 12,
    "start_time": "2021-07-15T10:19:23.065Z"
   },
   {
    "duration": 18,
    "start_time": "2021-07-15T10:19:28.457Z"
   },
   {
    "duration": 12,
    "start_time": "2021-07-15T10:19:42.210Z"
   },
   {
    "duration": 11,
    "start_time": "2021-07-15T10:19:52.289Z"
   },
   {
    "duration": 12,
    "start_time": "2021-07-15T10:19:53.737Z"
   },
   {
    "duration": 13,
    "start_time": "2021-07-15T10:19:59.066Z"
   },
   {
    "duration": 23,
    "start_time": "2021-07-15T10:21:32.288Z"
   },
   {
    "duration": 23,
    "start_time": "2021-07-15T10:22:52.652Z"
   },
   {
    "duration": 13,
    "start_time": "2021-07-15T10:25:23.575Z"
   },
   {
    "duration": 13,
    "start_time": "2021-07-15T10:25:52.759Z"
   },
   {
    "duration": 14,
    "start_time": "2021-07-15T10:26:23.136Z"
   },
   {
    "duration": 11,
    "start_time": "2021-07-15T10:26:37.788Z"
   },
   {
    "duration": 10,
    "start_time": "2021-07-15T10:26:44.423Z"
   },
   {
    "duration": 11,
    "start_time": "2021-07-15T10:27:03.342Z"
   },
   {
    "duration": 15,
    "start_time": "2021-07-15T10:27:23.342Z"
   },
   {
    "duration": 13,
    "start_time": "2021-07-15T10:27:57.527Z"
   },
   {
    "duration": 16,
    "start_time": "2021-07-15T10:28:29.527Z"
   },
   {
    "duration": 12,
    "start_time": "2021-07-15T10:28:34.070Z"
   },
   {
    "duration": 11,
    "start_time": "2021-07-15T10:28:38.246Z"
   },
   {
    "duration": 12,
    "start_time": "2021-07-15T10:28:41.246Z"
   },
   {
    "duration": 11,
    "start_time": "2021-07-15T10:31:43.917Z"
   },
   {
    "duration": 13,
    "start_time": "2021-07-15T10:31:44.924Z"
   },
   {
    "duration": 80,
    "start_time": "2021-07-15T10:31:46.693Z"
   },
   {
    "duration": 6,
    "start_time": "2021-07-15T10:31:46.925Z"
   },
   {
    "duration": 9,
    "start_time": "2021-07-15T10:31:47.149Z"
   },
   {
    "duration": 10,
    "start_time": "2021-07-15T10:31:47.317Z"
   },
   {
    "duration": 12,
    "start_time": "2021-07-15T10:31:52.005Z"
   },
   {
    "duration": 14,
    "start_time": "2021-07-15T10:31:55.853Z"
   },
   {
    "duration": 18,
    "start_time": "2021-07-15T10:31:58.013Z"
   },
   {
    "duration": 30,
    "start_time": "2021-07-15T10:32:05.148Z"
   },
   {
    "duration": 28,
    "start_time": "2021-07-15T10:32:05.813Z"
   },
   {
    "duration": 31,
    "start_time": "2021-07-15T10:32:37.609Z"
   },
   {
    "duration": 69,
    "start_time": "2021-07-15T11:54:12.064Z"
   },
   {
    "duration": 62,
    "start_time": "2021-07-15T11:57:12.789Z"
   },
   {
    "duration": 90,
    "start_time": "2021-07-15T11:57:32.801Z"
   },
   {
    "duration": 60,
    "start_time": "2021-07-15T11:57:43.799Z"
   },
   {
    "duration": 17,
    "start_time": "2021-07-15T11:58:17.062Z"
   },
   {
    "duration": 166,
    "start_time": "2021-07-15T12:03:09.941Z"
   },
   {
    "duration": 102,
    "start_time": "2021-07-15T12:03:23.915Z"
   },
   {
    "duration": 4,
    "start_time": "2021-07-15T12:03:32.644Z"
   },
   {
    "duration": 6,
    "start_time": "2021-07-15T12:04:15.605Z"
   },
   {
    "duration": 1060,
    "start_time": "2021-07-15T12:06:22.995Z"
   },
   {
    "duration": 1810,
    "start_time": "2021-07-15T12:08:19.883Z"
   },
   {
    "duration": 5,
    "start_time": "2021-07-15T12:08:31.538Z"
   },
   {
    "duration": 1548,
    "start_time": "2021-07-15T12:08:32.155Z"
   },
   {
    "duration": 5,
    "start_time": "2021-07-15T12:09:35.585Z"
   },
   {
    "duration": 1261,
    "start_time": "2021-07-15T12:09:39.977Z"
   },
   {
    "duration": 5,
    "start_time": "2021-07-15T12:11:18.729Z"
   },
   {
    "duration": 673,
    "start_time": "2021-07-15T12:11:19.512Z"
   },
   {
    "duration": 638,
    "start_time": "2021-07-15T12:11:41.017Z"
   },
   {
    "duration": 5,
    "start_time": "2021-07-15T12:12:09.177Z"
   },
   {
    "duration": 368,
    "start_time": "2021-07-15T12:12:10.311Z"
   },
   {
    "duration": 739,
    "start_time": "2021-07-15T12:12:19.320Z"
   },
   {
    "duration": 5,
    "start_time": "2021-07-15T12:12:40.520Z"
   },
   {
    "duration": 140,
    "start_time": "2021-07-15T12:12:40.961Z"
   },
   {
    "duration": 5,
    "start_time": "2021-07-15T12:18:25.481Z"
   },
   {
    "duration": 364,
    "start_time": "2021-07-15T12:18:26.966Z"
   },
   {
    "duration": 5269,
    "start_time": "2021-07-15T12:18:41.088Z"
   },
   {
    "duration": 2006,
    "start_time": "2021-07-15T12:19:02.340Z"
   },
   {
    "duration": 55,
    "start_time": "2021-07-15T12:19:04.349Z"
   },
   {
    "duration": 1139,
    "start_time": "2021-07-15T12:19:04.407Z"
   },
   {
    "duration": 980,
    "start_time": "2021-07-15T12:19:05.549Z"
   },
   {
    "duration": 4,
    "start_time": "2021-07-15T12:19:06.531Z"
   },
   {
    "duration": 107,
    "start_time": "2021-07-15T12:19:06.537Z"
   },
   {
    "duration": 4,
    "start_time": "2021-07-15T12:19:08.589Z"
   },
   {
    "duration": 18,
    "start_time": "2021-07-15T12:19:08.885Z"
   },
   {
    "duration": 5,
    "start_time": "2021-07-15T12:19:09.133Z"
   },
   {
    "duration": 5,
    "start_time": "2021-07-15T12:19:17.541Z"
   },
   {
    "duration": 5326,
    "start_time": "2021-07-15T12:19:23.156Z"
   },
   {
    "duration": 16,
    "start_time": "2021-07-15T12:19:32.084Z"
   },
   {
    "duration": 14,
    "start_time": "2021-07-15T12:19:46.312Z"
   },
   {
    "duration": 23,
    "start_time": "2021-07-15T12:20:17.317Z"
   },
   {
    "duration": 5,
    "start_time": "2021-07-15T12:20:31.060Z"
   },
   {
    "duration": 4203,
    "start_time": "2021-07-15T12:20:31.316Z"
   },
   {
    "duration": 13,
    "start_time": "2021-07-15T12:20:35.521Z"
   },
   {
    "duration": 23,
    "start_time": "2021-07-15T12:20:39.076Z"
   },
   {
    "duration": 6,
    "start_time": "2021-07-15T12:21:13.477Z"
   },
   {
    "duration": 4861,
    "start_time": "2021-07-15T12:21:16.292Z"
   },
   {
    "duration": 2047,
    "start_time": "2021-07-15T12:24:58.257Z"
   },
   {
    "duration": 55,
    "start_time": "2021-07-15T12:25:00.307Z"
   },
   {
    "duration": 807,
    "start_time": "2021-07-15T12:25:00.366Z"
   },
   {
    "duration": 944,
    "start_time": "2021-07-15T12:25:01.176Z"
   },
   {
    "duration": 4,
    "start_time": "2021-07-15T12:25:02.123Z"
   },
   {
    "duration": 130,
    "start_time": "2021-07-15T12:25:02.129Z"
   },
   {
    "duration": 22,
    "start_time": "2021-07-15T12:25:02.261Z"
   },
   {
    "duration": 29,
    "start_time": "2021-07-15T12:25:02.287Z"
   },
   {
    "duration": 6,
    "start_time": "2021-07-15T12:25:02.319Z"
   },
   {
    "duration": 16,
    "start_time": "2021-07-15T12:25:02.327Z"
   },
   {
    "duration": 4120,
    "start_time": "2021-07-15T12:25:02.346Z"
   },
   {
    "duration": 20,
    "start_time": "2021-07-15T12:25:06.468Z"
   },
   {
    "duration": 27,
    "start_time": "2021-07-15T12:25:06.491Z"
   },
   {
    "duration": 21,
    "start_time": "2021-07-15T12:25:06.520Z"
   },
   {
    "duration": 63,
    "start_time": "2021-07-15T12:25:31.643Z"
   },
   {
    "duration": 7,
    "start_time": "2021-07-15T12:25:32.154Z"
   },
   {
    "duration": 13,
    "start_time": "2021-07-15T12:25:32.754Z"
   },
   {
    "duration": 10,
    "start_time": "2021-07-15T12:25:33.730Z"
   },
   {
    "duration": 14,
    "start_time": "2021-07-15T12:25:36.082Z"
   },
   {
    "duration": 14,
    "start_time": "2021-07-15T12:25:38.922Z"
   },
   {
    "duration": 17,
    "start_time": "2021-07-15T12:25:41.225Z"
   },
   {
    "duration": 29,
    "start_time": "2021-07-15T12:25:45.050Z"
   },
   {
    "duration": 27,
    "start_time": "2021-07-15T12:25:45.786Z"
   },
   {
    "duration": 34,
    "start_time": "2021-07-15T12:25:54.106Z"
   },
   {
    "duration": 4,
    "start_time": "2021-07-15T12:52:33.385Z"
   },
   {
    "duration": 33,
    "start_time": "2021-07-15T12:52:41.305Z"
   },
   {
    "duration": 15,
    "start_time": "2021-07-15T13:17:34.591Z"
   },
   {
    "duration": 11,
    "start_time": "2021-07-15T13:21:43.030Z"
   },
   {
    "duration": 10,
    "start_time": "2021-07-15T13:21:49.845Z"
   },
   {
    "duration": 10,
    "start_time": "2021-07-15T13:22:07.629Z"
   },
   {
    "duration": 2077,
    "start_time": "2021-07-15T13:39:32.154Z"
   },
   {
    "duration": 4,
    "start_time": "2021-07-15T13:39:34.233Z"
   },
   {
    "duration": 68,
    "start_time": "2021-07-15T13:39:34.240Z"
   },
   {
    "duration": 1620,
    "start_time": "2021-07-15T13:39:34.311Z"
   },
   {
    "duration": 825,
    "start_time": "2021-07-15T13:39:35.933Z"
   },
   {
    "duration": 5,
    "start_time": "2021-07-15T13:39:36.760Z"
   },
   {
    "duration": 128,
    "start_time": "2021-07-15T13:39:36.768Z"
   },
   {
    "duration": 6,
    "start_time": "2021-07-15T13:39:36.901Z"
   },
   {
    "duration": 27,
    "start_time": "2021-07-15T13:39:36.910Z"
   },
   {
    "duration": 6,
    "start_time": "2021-07-15T13:39:36.940Z"
   },
   {
    "duration": 7,
    "start_time": "2021-07-15T13:39:36.984Z"
   },
   {
    "duration": 4114,
    "start_time": "2021-07-15T13:39:36.994Z"
   },
   {
    "duration": 13,
    "start_time": "2021-07-15T13:39:41.111Z"
   },
   {
    "duration": 16,
    "start_time": "2021-07-15T13:39:41.126Z"
   },
   {
    "duration": 1960,
    "start_time": "2021-07-15T13:40:23.825Z"
   },
   {
    "duration": 3,
    "start_time": "2021-07-15T13:40:25.788Z"
   },
   {
    "duration": 68,
    "start_time": "2021-07-15T13:40:25.794Z"
   },
   {
    "duration": 840,
    "start_time": "2021-07-15T13:40:25.865Z"
   },
   {
    "duration": 570,
    "start_time": "2021-07-15T13:40:26.708Z"
   },
   {
    "duration": 4,
    "start_time": "2021-07-15T13:40:27.281Z"
   },
   {
    "duration": 121,
    "start_time": "2021-07-15T13:40:27.287Z"
   },
   {
    "duration": 5,
    "start_time": "2021-07-15T13:40:27.413Z"
   },
   {
    "duration": 29,
    "start_time": "2021-07-15T13:40:27.422Z"
   },
   {
    "duration": 6,
    "start_time": "2021-07-15T13:40:27.483Z"
   },
   {
    "duration": 15,
    "start_time": "2021-07-15T13:40:27.492Z"
   },
   {
    "duration": 4198,
    "start_time": "2021-07-15T13:40:27.510Z"
   },
   {
    "duration": 16,
    "start_time": "2021-07-15T13:40:31.710Z"
   },
   {
    "duration": 48,
    "start_time": "2021-07-15T13:40:31.730Z"
   },
   {
    "duration": 15,
    "start_time": "2021-07-15T13:52:53.538Z"
   },
   {
    "duration": 14,
    "start_time": "2021-07-15T13:53:34.060Z"
   },
   {
    "duration": 8966,
    "start_time": "2021-07-15T13:54:03.428Z"
   },
   {
    "duration": 105,
    "start_time": "2021-07-15T13:57:40.448Z"
   },
   {
    "duration": 335,
    "start_time": "2021-07-15T13:57:51.698Z"
   },
   {
    "duration": 16,
    "start_time": "2021-07-15T13:58:07.580Z"
   },
   {
    "duration": 691,
    "start_time": "2021-07-15T13:58:23.940Z"
   },
   {
    "duration": 15,
    "start_time": "2021-07-15T13:59:18.339Z"
   },
   {
    "duration": 1341,
    "start_time": "2021-07-15T13:59:21.539Z"
   },
   {
    "duration": 718,
    "start_time": "2021-07-15T14:03:10.722Z"
   },
   {
    "duration": 11,
    "start_time": "2021-07-15T14:03:30.849Z"
   },
   {
    "duration": 708,
    "start_time": "2021-07-15T14:03:45.410Z"
   },
   {
    "duration": 125,
    "start_time": "2021-07-15T14:10:12.574Z"
   },
   {
    "duration": 11,
    "start_time": "2021-07-15T14:10:16.614Z"
   },
   {
    "duration": 915,
    "start_time": "2021-07-15T14:10:17.166Z"
   },
   {
    "duration": 14,
    "start_time": "2021-07-15T14:11:03.583Z"
   },
   {
    "duration": 10,
    "start_time": "2021-07-15T14:11:04.436Z"
   },
   {
    "duration": 1000,
    "start_time": "2021-07-15T14:11:04.646Z"
   },
   {
    "duration": 15,
    "start_time": "2021-07-15T14:11:59.798Z"
   },
   {
    "duration": 11,
    "start_time": "2021-07-15T14:12:00.685Z"
   },
   {
    "duration": 1218,
    "start_time": "2021-07-15T14:12:01.165Z"
   },
   {
    "duration": 14,
    "start_time": "2021-07-15T14:12:47.422Z"
   },
   {
    "duration": 12,
    "start_time": "2021-07-15T14:12:51.149Z"
   },
   {
    "duration": 1092,
    "start_time": "2021-07-15T14:12:51.613Z"
   },
   {
    "duration": 16,
    "start_time": "2021-07-15T14:13:24.430Z"
   },
   {
    "duration": 11,
    "start_time": "2021-07-15T14:13:26.229Z"
   },
   {
    "duration": 989,
    "start_time": "2021-07-15T14:13:26.613Z"
   },
   {
    "duration": 15,
    "start_time": "2021-07-15T14:16:53.055Z"
   },
   {
    "duration": 12,
    "start_time": "2021-07-15T14:16:55.947Z"
   },
   {
    "duration": 1132,
    "start_time": "2021-07-15T14:16:56.428Z"
   },
   {
    "duration": 15,
    "start_time": "2021-07-15T14:18:40.065Z"
   },
   {
    "duration": 12,
    "start_time": "2021-07-15T14:18:41.243Z"
   },
   {
    "duration": 607,
    "start_time": "2021-07-15T14:18:41.684Z"
   },
   {
    "duration": 1122,
    "start_time": "2021-07-15T14:18:58.931Z"
   },
   {
    "duration": 14,
    "start_time": "2021-07-15T14:19:26.852Z"
   },
   {
    "duration": 10,
    "start_time": "2021-07-15T14:19:27.459Z"
   },
   {
    "duration": 1175,
    "start_time": "2021-07-15T14:19:27.644Z"
   },
   {
    "duration": 146,
    "start_time": "2021-07-15T14:20:10.643Z"
   },
   {
    "duration": 17,
    "start_time": "2021-07-15T14:20:16.852Z"
   },
   {
    "duration": 11,
    "start_time": "2021-07-15T14:20:18.123Z"
   },
   {
    "duration": 1133,
    "start_time": "2021-07-15T14:20:18.675Z"
   },
   {
    "duration": 15,
    "start_time": "2021-07-15T14:21:15.819Z"
   },
   {
    "duration": 12,
    "start_time": "2021-07-15T14:21:16.242Z"
   },
   {
    "duration": 513,
    "start_time": "2021-07-15T14:21:16.451Z"
   },
   {
    "duration": 17,
    "start_time": "2021-07-15T14:21:31.251Z"
   },
   {
    "duration": 12,
    "start_time": "2021-07-15T14:21:31.866Z"
   },
   {
    "duration": 408,
    "start_time": "2021-07-15T14:21:32.074Z"
   },
   {
    "duration": 226,
    "start_time": "2021-07-15T14:22:18.985Z"
   },
   {
    "duration": 15,
    "start_time": "2021-07-15T14:22:28.499Z"
   },
   {
    "duration": 10,
    "start_time": "2021-07-15T14:22:30.033Z"
   },
   {
    "duration": 525,
    "start_time": "2021-07-15T14:22:30.522Z"
   },
   {
    "duration": 877,
    "start_time": "2021-07-15T14:25:06.721Z"
   },
   {
    "duration": 365,
    "start_time": "2021-07-15T14:26:18.008Z"
   },
   {
    "duration": -31,
    "start_time": "2021-07-15T14:27:27.631Z"
   },
   {
    "duration": -37,
    "start_time": "2021-07-15T14:27:27.639Z"
   },
   {
    "duration": 13,
    "start_time": "2021-07-15T14:27:33.599Z"
   },
   {
    "duration": 9117,
    "start_time": "2021-07-15T14:27:33.808Z"
   },
   {
    "duration": 376,
    "start_time": "2021-07-15T14:27:51.856Z"
   },
   {
    "duration": 706,
    "start_time": "2021-07-15T14:30:16.193Z"
   },
   {
    "duration": 16,
    "start_time": "2021-07-15T14:30:48.087Z"
   },
   {
    "duration": 13,
    "start_time": "2021-07-15T14:30:51.407Z"
   },
   {
    "duration": 661,
    "start_time": "2021-07-15T14:30:51.887Z"
   },
   {
    "duration": 130,
    "start_time": "2021-07-15T14:32:38.014Z"
   },
   {
    "duration": 192,
    "start_time": "2021-07-15T14:33:28.550Z"
   },
   {
    "duration": 13,
    "start_time": "2021-07-15T14:33:31.238Z"
   },
   {
    "duration": 1013,
    "start_time": "2021-07-15T14:33:33.078Z"
   },
   {
    "duration": 13,
    "start_time": "2021-07-15T14:35:02.150Z"
   },
   {
    "duration": 11,
    "start_time": "2021-07-15T14:35:03.141Z"
   },
   {
    "duration": 480,
    "start_time": "2021-07-15T14:35:03.862Z"
   },
   {
    "duration": 103,
    "start_time": "2021-07-15T14:35:27.462Z"
   },
   {
    "duration": 362,
    "start_time": "2021-07-15T14:35:32.381Z"
   },
   {
    "duration": 357,
    "start_time": "2021-07-15T14:36:30.870Z"
   },
   {
    "duration": 557,
    "start_time": "2021-07-15T14:38:40.549Z"
   },
   {
    "duration": 132,
    "start_time": "2021-07-15T14:40:13.668Z"
   },
   {
    "duration": 13,
    "start_time": "2021-07-15T14:40:19.197Z"
   },
   {
    "duration": 14,
    "start_time": "2021-07-15T14:40:23.331Z"
   },
   {
    "duration": 355,
    "start_time": "2021-07-15T14:40:23.979Z"
   },
   {
    "duration": 139,
    "start_time": "2021-07-15T14:40:51.676Z"
   },
   {
    "duration": 14,
    "start_time": "2021-07-15T14:40:56.725Z"
   },
   {
    "duration": 11,
    "start_time": "2021-07-15T14:40:57.643Z"
   },
   {
    "duration": 1214,
    "start_time": "2021-07-15T14:40:58.243Z"
   },
   {
    "duration": 123,
    "start_time": "2021-07-15T14:42:27.203Z"
   },
   {
    "duration": 14,
    "start_time": "2021-07-15T14:42:34.170Z"
   },
   {
    "duration": 12,
    "start_time": "2021-07-15T14:42:35.082Z"
   },
   {
    "duration": 363,
    "start_time": "2021-07-15T14:42:35.619Z"
   },
   {
    "duration": 15,
    "start_time": "2021-07-15T14:43:08.428Z"
   },
   {
    "duration": 12,
    "start_time": "2021-07-15T14:43:09.536Z"
   },
   {
    "duration": 1144,
    "start_time": "2021-07-15T14:43:10.138Z"
   },
   {
    "duration": 14,
    "start_time": "2021-07-15T14:43:28.627Z"
   },
   {
    "duration": 11,
    "start_time": "2021-07-15T14:43:29.121Z"
   },
   {
    "duration": 347,
    "start_time": "2021-07-15T14:43:29.363Z"
   },
   {
    "duration": 15,
    "start_time": "2021-07-15T14:50:27.248Z"
   },
   {
    "duration": 13,
    "start_time": "2021-07-15T14:50:28.471Z"
   },
   {
    "duration": 547,
    "start_time": "2021-07-15T14:50:30.598Z"
   },
   {
    "duration": 897,
    "start_time": "2021-07-15T14:50:58.240Z"
   },
   {
    "duration": 15,
    "start_time": "2021-07-15T14:52:31.552Z"
   },
   {
    "duration": 11,
    "start_time": "2021-07-15T14:52:32.783Z"
   },
   {
    "duration": 1123,
    "start_time": "2021-07-15T14:52:33.288Z"
   },
   {
    "duration": 15,
    "start_time": "2021-07-15T14:54:17.248Z"
   },
   {
    "duration": 11,
    "start_time": "2021-07-15T14:54:19.198Z"
   },
   {
    "duration": 1102,
    "start_time": "2021-07-15T14:54:19.840Z"
   },
   {
    "duration": 926,
    "start_time": "2021-07-15T14:55:20.894Z"
   },
   {
    "duration": 16,
    "start_time": "2021-07-15T14:55:35.215Z"
   },
   {
    "duration": 12,
    "start_time": "2021-07-15T14:55:36.068Z"
   },
   {
    "duration": 1200,
    "start_time": "2021-07-15T14:55:36.638Z"
   },
   {
    "duration": 112,
    "start_time": "2021-07-15T14:59:15.702Z"
   },
   {
    "duration": 15,
    "start_time": "2021-07-15T14:59:19.557Z"
   },
   {
    "duration": 12,
    "start_time": "2021-07-15T14:59:20.996Z"
   },
   {
    "duration": 1088,
    "start_time": "2021-07-15T14:59:21.428Z"
   },
   {
    "duration": 868,
    "start_time": "2021-07-15T14:59:47.493Z"
   },
   {
    "duration": -56,
    "start_time": "2021-07-15T14:59:48.419Z"
   },
   {
    "duration": 1179,
    "start_time": "2021-07-15T14:59:48.407Z"
   },
   {
    "duration": 16,
    "start_time": "2021-07-15T15:02:20.492Z"
   },
   {
    "duration": 12,
    "start_time": "2021-07-15T15:02:21.779Z"
   },
   {
    "duration": 1002,
    "start_time": "2021-07-15T15:02:22.228Z"
   },
   {
    "duration": 15,
    "start_time": "2021-07-15T15:02:50.492Z"
   },
   {
    "duration": 13,
    "start_time": "2021-07-15T15:02:51.810Z"
   },
   {
    "duration": 1222,
    "start_time": "2021-07-15T15:02:52.276Z"
   },
   {
    "duration": 113,
    "start_time": "2021-07-15T15:03:34.348Z"
   },
   {
    "duration": 15,
    "start_time": "2021-07-15T15:03:40.899Z"
   },
   {
    "duration": 12,
    "start_time": "2021-07-15T15:03:41.635Z"
   },
   {
    "duration": 365,
    "start_time": "2021-07-15T15:03:41.843Z"
   },
   {
    "duration": 530,
    "start_time": "2021-07-15T15:06:00.756Z"
   },
   {
    "duration": 14,
    "start_time": "2021-07-15T15:06:36.506Z"
   },
   {
    "duration": 12,
    "start_time": "2021-07-15T15:06:37.298Z"
   },
   {
    "duration": 371,
    "start_time": "2021-07-15T15:06:37.835Z"
   },
   {
    "duration": 523,
    "start_time": "2021-07-15T15:07:15.171Z"
   },
   {
    "duration": 24,
    "start_time": "2021-07-15T15:09:25.058Z"
   },
   {
    "duration": 355,
    "start_time": "2021-07-15T15:09:26.323Z"
   },
   {
    "duration": 16,
    "start_time": "2021-07-15T15:10:04.826Z"
   },
   {
    "duration": 531,
    "start_time": "2021-07-15T15:10:05.912Z"
   },
   {
    "duration": 16,
    "start_time": "2021-07-15T15:10:18.175Z"
   },
   {
    "duration": 364,
    "start_time": "2021-07-15T15:10:19.522Z"
   },
   {
    "duration": 15,
    "start_time": "2021-07-15T15:10:32.617Z"
   },
   {
    "duration": 375,
    "start_time": "2021-07-15T15:10:33.031Z"
   },
   {
    "duration": 182,
    "start_time": "2021-07-15T15:10:40.721Z"
   },
   {
    "duration": 359,
    "start_time": "2021-07-15T15:10:41.488Z"
   },
   {
    "duration": 15,
    "start_time": "2021-07-15T15:11:02.943Z"
   },
   {
    "duration": 364,
    "start_time": "2021-07-15T15:11:03.400Z"
   },
   {
    "duration": 15,
    "start_time": "2021-07-15T15:11:27.543Z"
   },
   {
    "duration": 519,
    "start_time": "2021-07-15T15:11:27.968Z"
   },
   {
    "duration": 143,
    "start_time": "2021-07-15T15:13:16.370Z"
   },
   {
    "duration": 16,
    "start_time": "2021-07-15T15:13:21.080Z"
   },
   {
    "duration": 374,
    "start_time": "2021-07-15T15:13:22.200Z"
   },
   {
    "duration": 18,
    "start_time": "2021-07-15T15:14:12.484Z"
   },
   {
    "duration": 544,
    "start_time": "2021-07-15T15:14:13.368Z"
   },
   {
    "duration": 15,
    "start_time": "2021-07-15T15:14:33.088Z"
   },
   {
    "duration": 379,
    "start_time": "2021-07-15T15:14:34.432Z"
   },
   {
    "duration": 139,
    "start_time": "2021-07-15T15:15:22.775Z"
   },
   {
    "duration": 16,
    "start_time": "2021-07-15T15:15:29.407Z"
   },
   {
    "duration": 1190,
    "start_time": "2021-07-15T15:15:30.903Z"
   },
   {
    "duration": 17,
    "start_time": "2021-07-15T15:17:06.647Z"
   },
   {
    "duration": 373,
    "start_time": "2021-07-15T15:17:07.838Z"
   },
   {
    "duration": 17,
    "start_time": "2021-07-15T15:17:32.807Z"
   },
   {
    "duration": 528,
    "start_time": "2021-07-15T15:17:33.958Z"
   },
   {
    "duration": 14,
    "start_time": "2021-07-15T15:17:47.166Z"
   },
   {
    "duration": 377,
    "start_time": "2021-07-15T15:17:47.591Z"
   },
   {
    "duration": 15,
    "start_time": "2021-07-15T15:18:08.519Z"
   },
   {
    "duration": 529,
    "start_time": "2021-07-15T15:18:09.686Z"
   },
   {
    "duration": 519,
    "start_time": "2021-07-15T15:19:43.064Z"
   },
   {
    "duration": 890,
    "start_time": "2021-07-15T15:20:25.054Z"
   },
   {
    "duration": 16,
    "start_time": "2021-07-15T15:20:47.006Z"
   },
   {
    "duration": 368,
    "start_time": "2021-07-15T15:20:48.790Z"
   },
   {
    "duration": 525,
    "start_time": "2021-07-15T15:24:18.276Z"
   },
   {
    "duration": 16,
    "start_time": "2021-07-15T15:25:58.268Z"
   },
   {
    "duration": 1069,
    "start_time": "2021-07-15T15:26:00.021Z"
   },
   {
    "duration": 17,
    "start_time": "2021-07-15T15:26:11.547Z"
   },
   {
    "duration": 1068,
    "start_time": "2021-07-15T15:26:11.948Z"
   },
   {
    "duration": 18,
    "start_time": "2021-07-15T15:26:19.170Z"
   },
   {
    "duration": 535,
    "start_time": "2021-07-15T15:26:19.922Z"
   },
   {
    "duration": 17,
    "start_time": "2021-07-15T15:26:51.099Z"
   },
   {
    "duration": 1042,
    "start_time": "2021-07-15T15:26:52.147Z"
   },
   {
    "duration": 167,
    "start_time": "2021-07-15T15:28:08.017Z"
   },
   {
    "duration": 17,
    "start_time": "2021-07-15T15:28:13.156Z"
   },
   {
    "duration": 527,
    "start_time": "2021-07-15T15:28:15.946Z"
   },
   {
    "duration": 15,
    "start_time": "2021-07-15T15:28:37.835Z"
   },
   {
    "duration": 379,
    "start_time": "2021-07-15T15:28:39.012Z"
   },
   {
    "duration": 16,
    "start_time": "2021-07-15T15:28:51.674Z"
   },
   {
    "duration": 524,
    "start_time": "2021-07-15T15:28:52.602Z"
   },
   {
    "duration": 286,
    "start_time": "2021-07-15T15:29:32.306Z"
   },
   {
    "duration": 16,
    "start_time": "2021-07-15T15:29:37.034Z"
   },
   {
    "duration": 381,
    "start_time": "2021-07-15T15:29:38.505Z"
   },
   {
    "duration": 15,
    "start_time": "2021-07-15T15:29:46.883Z"
   },
   {
    "duration": 519,
    "start_time": "2021-07-15T15:29:47.881Z"
   },
   {
    "duration": 4,
    "start_time": "2021-07-15T15:33:27.104Z"
   },
   {
    "duration": 15,
    "start_time": "2021-07-15T15:33:35.808Z"
   },
   {
    "duration": 2226,
    "start_time": "2021-07-15T15:33:49.614Z"
   },
   {
    "duration": 5,
    "start_time": "2021-07-15T15:33:51.844Z"
   },
   {
    "duration": 75,
    "start_time": "2021-07-15T15:33:51.853Z"
   },
   {
    "duration": 1042,
    "start_time": "2021-07-15T15:33:51.931Z"
   },
   {
    "duration": 872,
    "start_time": "2021-07-15T15:33:52.976Z"
   },
   {
    "duration": 4,
    "start_time": "2021-07-15T15:33:53.850Z"
   },
   {
    "duration": 105,
    "start_time": "2021-07-15T15:33:53.856Z"
   },
   {
    "duration": 20,
    "start_time": "2021-07-15T15:33:53.964Z"
   },
   {
    "duration": 21,
    "start_time": "2021-07-15T15:33:53.987Z"
   },
   {
    "duration": 10,
    "start_time": "2021-07-15T15:33:54.011Z"
   },
   {
    "duration": 8,
    "start_time": "2021-07-15T15:33:54.024Z"
   },
   {
    "duration": 4210,
    "start_time": "2021-07-15T15:33:54.035Z"
   },
   {
    "duration": 13,
    "start_time": "2021-07-15T15:33:58.247Z"
   },
   {
    "duration": 26,
    "start_time": "2021-07-15T15:33:58.263Z"
   },
   {
    "duration": 49,
    "start_time": "2021-07-15T15:33:58.291Z"
   },
   {
    "duration": 6,
    "start_time": "2021-07-15T15:33:58.342Z"
   },
   {
    "duration": 36,
    "start_time": "2021-07-15T15:33:58.350Z"
   },
   {
    "duration": 11,
    "start_time": "2021-07-15T15:34:05.470Z"
   },
   {
    "duration": 16,
    "start_time": "2021-07-15T15:34:05.951Z"
   },
   {
    "duration": 1008,
    "start_time": "2021-07-15T15:34:07.101Z"
   },
   {
    "duration": 515,
    "start_time": "2021-07-15T15:34:12.398Z"
   },
   {
    "duration": 17,
    "start_time": "2021-07-15T15:37:12.551Z"
   },
   {
    "duration": 384,
    "start_time": "2021-07-15T15:37:30.717Z"
   },
   {
    "duration": 16,
    "start_time": "2021-07-15T15:38:10.726Z"
   },
   {
    "duration": 376,
    "start_time": "2021-07-15T15:38:11.853Z"
   },
   {
    "duration": 535,
    "start_time": "2021-07-15T15:38:15.221Z"
   },
   {
    "duration": 933,
    "start_time": "2021-07-15T15:38:16.805Z"
   },
   {
    "duration": 102,
    "start_time": "2021-07-15T15:39:52.428Z"
   },
   {
    "duration": 733,
    "start_time": "2021-07-15T15:40:05.524Z"
   },
   {
    "duration": 431,
    "start_time": "2021-07-15T15:41:24.117Z"
   },
   {
    "duration": 519,
    "start_time": "2021-07-15T15:43:54.341Z"
   },
   {
    "duration": 377,
    "start_time": "2021-07-15T15:44:12.011Z"
   },
   {
    "duration": 123,
    "start_time": "2021-07-15T15:53:39.684Z"
   },
   {
    "duration": 555,
    "start_time": "2021-07-15T15:57:05.206Z"
   },
   {
    "duration": 2353,
    "start_time": "2021-07-15T15:57:16.174Z"
   },
   {
    "duration": 4,
    "start_time": "2021-07-15T15:57:18.531Z"
   },
   {
    "duration": 80,
    "start_time": "2021-07-15T15:57:18.539Z"
   },
   {
    "duration": 1227,
    "start_time": "2021-07-15T15:57:18.622Z"
   },
   {
    "duration": 916,
    "start_time": "2021-07-15T15:57:19.851Z"
   },
   {
    "duration": 3,
    "start_time": "2021-07-15T15:57:20.770Z"
   },
   {
    "duration": 121,
    "start_time": "2021-07-15T15:57:20.776Z"
   },
   {
    "duration": 4,
    "start_time": "2021-07-15T15:57:20.900Z"
   },
   {
    "duration": 22,
    "start_time": "2021-07-15T15:57:20.906Z"
   },
   {
    "duration": 9,
    "start_time": "2021-07-15T15:57:20.931Z"
   },
   {
    "duration": 40,
    "start_time": "2021-07-15T15:57:20.943Z"
   },
   {
    "duration": 4223,
    "start_time": "2021-07-15T15:57:20.985Z"
   },
   {
    "duration": 16,
    "start_time": "2021-07-15T15:57:25.211Z"
   },
   {
    "duration": 14,
    "start_time": "2021-07-15T15:57:25.230Z"
   },
   {
    "duration": 79,
    "start_time": "2021-07-15T15:57:25.247Z"
   },
   {
    "duration": 6,
    "start_time": "2021-07-15T15:57:25.329Z"
   },
   {
    "duration": 15,
    "start_time": "2021-07-15T15:57:25.338Z"
   },
   {
    "duration": 30,
    "start_time": "2021-07-15T15:57:25.355Z"
   },
   {
    "duration": 20,
    "start_time": "2021-07-15T15:57:28.974Z"
   },
   {
    "duration": 1076,
    "start_time": "2021-07-15T15:57:31.310Z"
   },
   {
    "duration": 617,
    "start_time": "2021-07-15T15:57:40.038Z"
   },
   {
    "duration": 474,
    "start_time": "2021-07-15T15:57:41.335Z"
   },
   {
    "duration": 120,
    "start_time": "2021-07-15T16:00:54.927Z"
   },
   {
    "duration": 16,
    "start_time": "2021-07-15T16:01:00.541Z"
   },
   {
    "duration": 528,
    "start_time": "2021-07-15T16:01:01.973Z"
   },
   {
    "duration": 375,
    "start_time": "2021-07-15T16:01:39.461Z"
   },
   {
    "duration": 541,
    "start_time": "2021-07-15T16:02:41.941Z"
   },
   {
    "duration": 30,
    "start_time": "2021-07-15T16:07:14.503Z"
   },
   {
    "duration": 26,
    "start_time": "2021-07-15T16:11:37.879Z"
   },
   {
    "duration": 27,
    "start_time": "2021-07-15T16:13:55.968Z"
   },
   {
    "duration": 21,
    "start_time": "2021-07-15T16:18:28.486Z"
   },
   {
    "duration": 16,
    "start_time": "2021-07-15T16:26:29.376Z"
   },
   {
    "duration": 16,
    "start_time": "2021-07-15T16:26:39.075Z"
   },
   {
    "duration": 13,
    "start_time": "2021-07-15T16:28:01.164Z"
   },
   {
    "duration": 15,
    "start_time": "2021-07-15T16:28:02.802Z"
   },
   {
    "duration": 15,
    "start_time": "2021-07-15T16:28:11.635Z"
   },
   {
    "duration": 14,
    "start_time": "2021-07-15T16:28:12.228Z"
   },
   {
    "duration": 605,
    "start_time": "2021-07-15T16:28:28.083Z"
   },
   {
    "duration": 367,
    "start_time": "2021-07-15T16:29:10.283Z"
   },
   {
    "duration": 21,
    "start_time": "2021-07-15T16:31:48.635Z"
   },
   {
    "duration": 440,
    "start_time": "2021-07-15T16:32:49.402Z"
   },
   {
    "duration": 449,
    "start_time": "2021-07-15T16:35:08.299Z"
   },
   {
    "duration": 2080,
    "start_time": "2021-07-15T16:39:21.319Z"
   },
   {
    "duration": 3,
    "start_time": "2021-07-15T16:39:23.402Z"
   },
   {
    "duration": 56,
    "start_time": "2021-07-15T16:39:23.409Z"
   },
   {
    "duration": 2063,
    "start_time": "2021-07-15T16:39:23.468Z"
   },
   {
    "duration": 1056,
    "start_time": "2021-07-15T16:39:25.533Z"
   },
   {
    "duration": 4,
    "start_time": "2021-07-15T16:39:26.591Z"
   },
   {
    "duration": 118,
    "start_time": "2021-07-15T16:39:26.597Z"
   },
   {
    "duration": 4,
    "start_time": "2021-07-15T16:39:26.719Z"
   },
   {
    "duration": 18,
    "start_time": "2021-07-15T16:39:26.726Z"
   },
   {
    "duration": 38,
    "start_time": "2021-07-15T16:39:26.746Z"
   },
   {
    "duration": 19,
    "start_time": "2021-07-15T16:39:26.787Z"
   },
   {
    "duration": 638,
    "start_time": "2021-07-15T16:39:26.809Z"
   },
   {
    "duration": 13,
    "start_time": "2021-07-15T16:41:37.182Z"
   },
   {
    "duration": 19,
    "start_time": "2021-07-15T16:41:45.895Z"
   },
   {
    "duration": 352,
    "start_time": "2021-07-15T16:42:09.766Z"
   },
   {
    "duration": 19,
    "start_time": "2021-07-15T16:42:10.663Z"
   },
   {
    "duration": 14,
    "start_time": "2021-07-15T16:42:24.406Z"
   },
   {
    "duration": 19,
    "start_time": "2021-07-15T16:42:25.136Z"
   },
   {
    "duration": 15,
    "start_time": "2021-07-15T16:42:47.085Z"
   },
   {
    "duration": 18,
    "start_time": "2021-07-15T16:42:47.895Z"
   },
   {
    "duration": 14,
    "start_time": "2021-07-15T16:43:34.046Z"
   },
   {
    "duration": 17,
    "start_time": "2021-07-15T16:43:34.710Z"
   },
   {
    "duration": 391,
    "start_time": "2021-07-15T16:44:42.757Z"
   },
   {
    "duration": 365,
    "start_time": "2021-07-15T16:50:11.280Z"
   },
   {
    "duration": 408,
    "start_time": "2021-07-15T16:50:36.419Z"
   },
   {
    "duration": 5,
    "start_time": "2021-07-15T16:51:34.467Z"
   },
   {
    "duration": 3975,
    "start_time": "2021-07-15T16:51:38.891Z"
   },
   {
    "duration": 18,
    "start_time": "2021-07-15T16:51:49.596Z"
   },
   {
    "duration": 29,
    "start_time": "2021-07-15T16:53:06.595Z"
   },
   {
    "duration": 19,
    "start_time": "2021-07-15T16:53:40.955Z"
   },
   {
    "duration": 20,
    "start_time": "2021-07-15T16:57:13.249Z"
   },
   {
    "duration": 1970,
    "start_time": "2021-07-15T16:57:20.003Z"
   },
   {
    "duration": 3,
    "start_time": "2021-07-15T16:57:21.976Z"
   },
   {
    "duration": 56,
    "start_time": "2021-07-15T16:57:21.983Z"
   },
   {
    "duration": 1252,
    "start_time": "2021-07-15T16:57:22.042Z"
   },
   {
    "duration": 1051,
    "start_time": "2021-07-15T16:57:23.296Z"
   },
   {
    "duration": 4,
    "start_time": "2021-07-15T16:57:24.349Z"
   },
   {
    "duration": 105,
    "start_time": "2021-07-15T16:57:24.355Z"
   },
   {
    "duration": 4,
    "start_time": "2021-07-15T16:57:28.945Z"
   },
   {
    "duration": 15,
    "start_time": "2021-07-15T16:57:29.155Z"
   },
   {
    "duration": 5,
    "start_time": "2021-07-15T16:57:29.346Z"
   },
   {
    "duration": 30,
    "start_time": "2021-07-15T16:57:32.292Z"
   },
   {
    "duration": 4377,
    "start_time": "2021-07-15T16:57:32.553Z"
   },
   {
    "duration": 1909,
    "start_time": "2021-07-15T16:57:46.751Z"
   },
   {
    "duration": 3,
    "start_time": "2021-07-15T16:57:48.663Z"
   },
   {
    "duration": 62,
    "start_time": "2021-07-15T16:57:48.669Z"
   },
   {
    "duration": 874,
    "start_time": "2021-07-15T16:57:48.733Z"
   },
   {
    "duration": 542,
    "start_time": "2021-07-15T16:57:49.610Z"
   },
   {
    "duration": 3,
    "start_time": "2021-07-15T16:57:50.155Z"
   },
   {
    "duration": 105,
    "start_time": "2021-07-15T16:57:50.160Z"
   },
   {
    "duration": 4,
    "start_time": "2021-07-15T16:57:50.283Z"
   },
   {
    "duration": 20,
    "start_time": "2021-07-15T16:57:50.289Z"
   },
   {
    "duration": 12,
    "start_time": "2021-07-15T16:57:50.311Z"
   },
   {
    "duration": 22,
    "start_time": "2021-07-15T16:57:51.664Z"
   },
   {
    "duration": 3871,
    "start_time": "2021-07-15T16:57:52.928Z"
   },
   {
    "duration": 31,
    "start_time": "2021-07-15T17:02:24.839Z"
   },
   {
    "duration": 25,
    "start_time": "2021-07-15T17:03:31.191Z"
   },
   {
    "duration": 21,
    "start_time": "2021-07-15T17:04:06.838Z"
   },
   {
    "duration": 16,
    "start_time": "2021-07-15T17:04:34.846Z"
   },
   {
    "duration": 20,
    "start_time": "2021-07-15T17:05:02.861Z"
   },
   {
    "duration": 8750,
    "start_time": "2021-07-15T17:05:30.502Z"
   },
   {
    "duration": 8904,
    "start_time": "2021-07-15T17:05:52.054Z"
   },
   {
    "duration": 8205,
    "start_time": "2021-07-15T17:06:03.205Z"
   },
   {
    "duration": 2371,
    "start_time": "2021-07-15T17:06:23.318Z"
   },
   {
    "duration": 18,
    "start_time": "2021-07-15T17:06:45.285Z"
   },
   {
    "duration": 16,
    "start_time": "2021-07-15T17:07:00.701Z"
   },
   {
    "duration": 14,
    "start_time": "2021-07-15T17:07:13.557Z"
   },
   {
    "duration": 370,
    "start_time": "2021-07-15T17:07:24.012Z"
   },
   {
    "duration": 14,
    "start_time": "2021-07-15T17:07:31.477Z"
   },
   {
    "duration": 14,
    "start_time": "2021-07-15T17:07:57.988Z"
   },
   {
    "duration": 13,
    "start_time": "2021-07-15T17:08:09.620Z"
   },
   {
    "duration": 411,
    "start_time": "2021-07-15T17:08:20.581Z"
   },
   {
    "duration": 389,
    "start_time": "2021-07-15T17:08:36.588Z"
   },
   {
    "duration": 13,
    "start_time": "2021-07-15T17:09:17.197Z"
   },
   {
    "duration": 34,
    "start_time": "2021-07-15T17:12:49.522Z"
   },
   {
    "duration": 24,
    "start_time": "2021-07-15T17:13:15.860Z"
   },
   {
    "duration": 344,
    "start_time": "2021-07-15T17:15:05.306Z"
   },
   {
    "duration": 25,
    "start_time": "2021-07-15T17:15:16.842Z"
   },
   {
    "duration": 12,
    "start_time": "2021-07-15T17:23:29.849Z"
   },
   {
    "duration": 554,
    "start_time": "2021-07-15T17:23:37.896Z"
   },
   {
    "duration": 2076,
    "start_time": "2021-07-15T17:24:21.166Z"
   },
   {
    "duration": 4,
    "start_time": "2021-07-15T17:24:23.245Z"
   },
   {
    "duration": 59,
    "start_time": "2021-07-15T17:24:23.252Z"
   },
   {
    "duration": 1215,
    "start_time": "2021-07-15T17:24:23.314Z"
   },
   {
    "duration": 974,
    "start_time": "2021-07-15T17:24:24.531Z"
   },
   {
    "duration": 3,
    "start_time": "2021-07-15T17:24:25.507Z"
   },
   {
    "duration": 107,
    "start_time": "2021-07-15T17:24:25.513Z"
   },
   {
    "duration": 5,
    "start_time": "2021-07-15T17:24:25.624Z"
   },
   {
    "duration": 22,
    "start_time": "2021-07-15T17:24:25.633Z"
   },
   {
    "duration": 6,
    "start_time": "2021-07-15T17:24:25.683Z"
   },
   {
    "duration": 25,
    "start_time": "2021-07-15T17:24:25.693Z"
   },
   {
    "duration": 3843,
    "start_time": "2021-07-15T17:24:25.720Z"
   },
   {
    "duration": 26,
    "start_time": "2021-07-15T17:24:29.566Z"
   },
   {
    "duration": 784,
    "start_time": "2021-07-15T17:24:29.631Z"
   },
   {
    "duration": 2411,
    "start_time": "2021-07-15T17:25:03.829Z"
   },
   {
    "duration": 5,
    "start_time": "2021-07-15T17:25:06.243Z"
   },
   {
    "duration": 83,
    "start_time": "2021-07-15T17:25:06.251Z"
   },
   {
    "duration": 831,
    "start_time": "2021-07-15T17:25:06.337Z"
   },
   {
    "duration": 578,
    "start_time": "2021-07-15T17:25:07.170Z"
   },
   {
    "duration": 6,
    "start_time": "2021-07-15T17:25:07.751Z"
   },
   {
    "duration": 125,
    "start_time": "2021-07-15T17:25:07.760Z"
   },
   {
    "duration": 4,
    "start_time": "2021-07-15T17:25:07.889Z"
   },
   {
    "duration": 21,
    "start_time": "2021-07-15T17:25:07.895Z"
   },
   {
    "duration": 10,
    "start_time": "2021-07-15T17:25:07.918Z"
   },
   {
    "duration": 24,
    "start_time": "2021-07-15T17:25:07.930Z"
   },
   {
    "duration": 4656,
    "start_time": "2021-07-15T17:25:07.982Z"
   },
   {
    "duration": 14,
    "start_time": "2021-07-15T17:25:12.641Z"
   },
   {
    "duration": 1350,
    "start_time": "2021-07-15T17:25:12.658Z"
   },
   {
    "duration": 13,
    "start_time": "2021-07-15T17:25:31.153Z"
   },
   {
    "duration": 13,
    "start_time": "2021-07-15T17:27:38.883Z"
   },
   {
    "duration": 266,
    "start_time": "2021-07-15T17:31:21.826Z"
   },
   {
    "duration": 4022,
    "start_time": "2021-07-15T17:31:39.473Z"
   },
   {
    "duration": 20,
    "start_time": "2021-07-15T17:32:04.001Z"
   },
   {
    "duration": 4155,
    "start_time": "2021-07-15T17:33:05.537Z"
   },
   {
    "duration": 19,
    "start_time": "2021-07-15T17:33:11.537Z"
   },
   {
    "duration": 2007,
    "start_time": "2021-07-15T17:34:03.371Z"
   },
   {
    "duration": 4,
    "start_time": "2021-07-15T17:34:05.380Z"
   },
   {
    "duration": 60,
    "start_time": "2021-07-15T17:34:05.388Z"
   },
   {
    "duration": 1107,
    "start_time": "2021-07-15T17:34:05.451Z"
   },
   {
    "duration": 849,
    "start_time": "2021-07-15T17:34:06.560Z"
   },
   {
    "duration": 5,
    "start_time": "2021-07-15T17:34:07.412Z"
   },
   {
    "duration": 102,
    "start_time": "2021-07-15T17:34:07.420Z"
   },
   {
    "duration": 5,
    "start_time": "2021-07-15T17:34:07.527Z"
   },
   {
    "duration": 51,
    "start_time": "2021-07-15T17:34:07.535Z"
   },
   {
    "duration": 5,
    "start_time": "2021-07-15T17:34:07.589Z"
   },
   {
    "duration": 24,
    "start_time": "2021-07-15T17:34:07.597Z"
   },
   {
    "duration": 3903,
    "start_time": "2021-07-15T17:34:07.623Z"
   },
   {
    "duration": 3989,
    "start_time": "2021-07-15T17:34:11.529Z"
   },
   {
    "duration": 18,
    "start_time": "2021-07-15T17:34:15.521Z"
   },
   {
    "duration": 2064,
    "start_time": "2021-07-15T17:34:31.641Z"
   },
   {
    "duration": 5,
    "start_time": "2021-07-15T17:34:33.707Z"
   },
   {
    "duration": 64,
    "start_time": "2021-07-15T17:34:33.715Z"
   },
   {
    "duration": 963,
    "start_time": "2021-07-15T17:34:33.782Z"
   },
   {
    "duration": 704,
    "start_time": "2021-07-15T17:34:34.747Z"
   },
   {
    "duration": 3,
    "start_time": "2021-07-15T17:34:35.453Z"
   },
   {
    "duration": 101,
    "start_time": "2021-07-15T17:34:35.459Z"
   },
   {
    "duration": 21,
    "start_time": "2021-07-15T17:34:35.565Z"
   },
   {
    "duration": 27,
    "start_time": "2021-07-15T17:34:35.589Z"
   },
   {
    "duration": 18,
    "start_time": "2021-07-15T17:34:35.619Z"
   },
   {
    "duration": 22,
    "start_time": "2021-07-15T17:34:41.624Z"
   },
   {
    "duration": 4305,
    "start_time": "2021-07-15T17:34:42.177Z"
   },
   {
    "duration": 14,
    "start_time": "2021-07-15T17:36:58.464Z"
   },
   {
    "duration": 3793,
    "start_time": "2021-07-15T17:37:30.249Z"
   },
   {
    "duration": 19,
    "start_time": "2021-07-15T17:37:36.784Z"
   },
   {
    "duration": 2365,
    "start_time": "2021-07-15T17:39:18.722Z"
   },
   {
    "duration": 5,
    "start_time": "2021-07-15T17:39:21.090Z"
   },
   {
    "duration": 68,
    "start_time": "2021-07-15T17:39:21.098Z"
   },
   {
    "duration": 988,
    "start_time": "2021-07-15T17:39:21.169Z"
   },
   {
    "duration": 850,
    "start_time": "2021-07-15T17:39:22.160Z"
   },
   {
    "duration": 5,
    "start_time": "2021-07-15T17:39:23.013Z"
   },
   {
    "duration": 168,
    "start_time": "2021-07-15T17:39:23.021Z"
   },
   {
    "duration": 5,
    "start_time": "2021-07-15T17:39:23.193Z"
   },
   {
    "duration": 31,
    "start_time": "2021-07-15T17:39:23.201Z"
   },
   {
    "duration": 6,
    "start_time": "2021-07-15T17:39:23.235Z"
   },
   {
    "duration": 56,
    "start_time": "2021-07-15T17:39:23.243Z"
   },
   {
    "duration": 4462,
    "start_time": "2021-07-15T17:39:23.302Z"
   },
   {
    "duration": 23,
    "start_time": "2021-07-15T17:39:27.767Z"
   },
   {
    "duration": 285,
    "start_time": "2021-07-15T17:39:27.792Z"
   },
   {
    "duration": 4332,
    "start_time": "2021-07-15T17:39:36.643Z"
   },
   {
    "duration": 27,
    "start_time": "2021-07-15T17:39:47.502Z"
   },
   {
    "duration": 2079,
    "start_time": "2021-07-15T17:40:49.264Z"
   },
   {
    "duration": 4,
    "start_time": "2021-07-15T17:40:51.346Z"
   },
   {
    "duration": 74,
    "start_time": "2021-07-15T17:40:51.353Z"
   },
   {
    "duration": 792,
    "start_time": "2021-07-15T17:40:51.430Z"
   },
   {
    "duration": 732,
    "start_time": "2021-07-15T17:40:52.225Z"
   },
   {
    "duration": 5,
    "start_time": "2021-07-15T17:40:52.960Z"
   },
   {
    "duration": 117,
    "start_time": "2021-07-15T17:40:52.967Z"
   },
   {
    "duration": 4,
    "start_time": "2021-07-15T17:40:53.087Z"
   },
   {
    "duration": 20,
    "start_time": "2021-07-15T17:40:53.095Z"
   },
   {
    "duration": 9,
    "start_time": "2021-07-15T17:40:53.118Z"
   },
   {
    "duration": 57,
    "start_time": "2021-07-15T17:40:53.129Z"
   },
   {
    "duration": 3929,
    "start_time": "2021-07-15T17:40:53.188Z"
   },
   {
    "duration": 3853,
    "start_time": "2021-07-15T17:40:57.120Z"
   },
   {
    "duration": 21,
    "start_time": "2021-07-15T17:41:00.982Z"
   },
   {
    "duration": 15,
    "start_time": "2021-07-15T17:41:01.007Z"
   },
   {
    "duration": 4189,
    "start_time": "2021-07-15T17:41:41.160Z"
   },
   {
    "duration": 29,
    "start_time": "2021-07-15T17:41:45.353Z"
   },
   {
    "duration": 2432,
    "start_time": "2021-07-15T17:42:42.911Z"
   },
   {
    "duration": 3,
    "start_time": "2021-07-15T17:42:45.346Z"
   },
   {
    "duration": 53,
    "start_time": "2021-07-15T17:42:45.461Z"
   },
   {
    "duration": 792,
    "start_time": "2021-07-15T17:42:45.516Z"
   },
   {
    "duration": 722,
    "start_time": "2021-07-15T17:42:46.311Z"
   },
   {
    "duration": 3,
    "start_time": "2021-07-15T17:42:47.036Z"
   },
   {
    "duration": 103,
    "start_time": "2021-07-15T17:42:47.042Z"
   },
   {
    "duration": 5,
    "start_time": "2021-07-15T17:42:47.147Z"
   },
   {
    "duration": 41,
    "start_time": "2021-07-15T17:42:47.154Z"
   },
   {
    "duration": 11,
    "start_time": "2021-07-15T17:42:47.198Z"
   },
   {
    "duration": 30,
    "start_time": "2021-07-15T17:42:47.212Z"
   },
   {
    "duration": 3851,
    "start_time": "2021-07-15T17:42:47.245Z"
   },
   {
    "duration": 8944,
    "start_time": "2021-07-15T17:42:51.099Z"
   },
   {
    "duration": 1890,
    "start_time": "2021-07-15T17:44:15.792Z"
   },
   {
    "duration": 5,
    "start_time": "2021-07-15T17:44:17.685Z"
   },
   {
    "duration": 65,
    "start_time": "2021-07-15T17:44:17.693Z"
   },
   {
    "duration": 863,
    "start_time": "2021-07-15T17:44:17.761Z"
   },
   {
    "duration": 749,
    "start_time": "2021-07-15T17:44:18.627Z"
   },
   {
    "duration": 3,
    "start_time": "2021-07-15T17:44:19.379Z"
   },
   {
    "duration": 110,
    "start_time": "2021-07-15T17:44:19.384Z"
   },
   {
    "duration": 4,
    "start_time": "2021-07-15T17:44:19.496Z"
   },
   {
    "duration": 18,
    "start_time": "2021-07-15T17:44:19.503Z"
   },
   {
    "duration": 9,
    "start_time": "2021-07-15T17:44:19.524Z"
   },
   {
    "duration": 20,
    "start_time": "2021-07-15T17:44:21.344Z"
   },
   {
    "duration": 3999,
    "start_time": "2021-07-15T17:44:22.952Z"
   },
   {
    "duration": 4007,
    "start_time": "2021-07-15T17:44:26.953Z"
   },
   {
    "duration": 20,
    "start_time": "2021-07-15T17:44:33.210Z"
   },
   {
    "duration": 13,
    "start_time": "2021-07-15T17:45:04.522Z"
   },
   {
    "duration": 6,
    "start_time": "2021-07-15T17:45:11.256Z"
   },
   {
    "duration": 4068,
    "start_time": "2021-07-15T17:45:12.079Z"
   },
   {
    "duration": 12,
    "start_time": "2021-07-15T17:45:16.150Z"
   },
   {
    "duration": 25,
    "start_time": "2021-07-15T17:45:16.165Z"
   },
   {
    "duration": 49,
    "start_time": "2021-07-15T17:45:19.984Z"
   },
   {
    "duration": 7,
    "start_time": "2021-07-15T17:45:20.207Z"
   },
   {
    "duration": 10,
    "start_time": "2021-07-15T17:45:20.511Z"
   },
   {
    "duration": 10,
    "start_time": "2021-07-15T17:45:20.735Z"
   },
   {
    "duration": 16,
    "start_time": "2021-07-15T17:45:23.057Z"
   },
   {
    "duration": 1058,
    "start_time": "2021-07-15T17:45:24.280Z"
   },
   {
    "duration": 648,
    "start_time": "2021-07-15T17:45:25.341Z"
   },
   {
    "duration": 396,
    "start_time": "2021-07-15T17:45:25.992Z"
   },
   {
    "duration": 21,
    "start_time": "2021-07-15T17:45:32.832Z"
   },
   {
    "duration": 30,
    "start_time": "2021-07-15T17:45:34.032Z"
   },
   {
    "duration": 30,
    "start_time": "2021-07-15T17:45:44.160Z"
   },
   {
    "duration": 29,
    "start_time": "2021-07-15T17:47:00.615Z"
   },
   {
    "duration": 123,
    "start_time": "2021-07-15T17:52:21.404Z"
   },
   {
    "duration": 749,
    "start_time": "2021-07-15T17:52:30.502Z"
   },
   {
    "duration": 30,
    "start_time": "2021-07-15T17:52:37.030Z"
   },
   {
    "duration": 27,
    "start_time": "2021-07-15T17:52:45.965Z"
   },
   {
    "duration": 32,
    "start_time": "2021-07-15T17:53:20.229Z"
   },
   {
    "duration": 17,
    "start_time": "2021-07-17T20:44:00.621Z"
   },
   {
    "duration": 558,
    "start_time": "2021-07-17T20:44:03.355Z"
   },
   {
    "duration": 380,
    "start_time": "2021-07-17T20:44:11.596Z"
   },
   {
    "duration": 572,
    "start_time": "2021-07-17T20:44:26.339Z"
   },
   {
    "duration": 17,
    "start_time": "2021-07-17T20:48:05.794Z"
   },
   {
    "duration": 667,
    "start_time": "2021-07-17T20:48:14.921Z"
   },
   {
    "duration": 7,
    "start_time": "2021-07-17T20:49:26.703Z"
   },
   {
    "duration": 7,
    "start_time": "2021-07-17T20:49:47.334Z"
   },
   {
    "duration": 7,
    "start_time": "2021-07-17T20:49:56.030Z"
   },
   {
    "duration": 22,
    "start_time": "2021-07-17T20:53:18.880Z"
   },
   {
    "duration": 436,
    "start_time": "2021-07-17T20:53:23.957Z"
   },
   {
    "duration": 400,
    "start_time": "2021-07-17T20:54:24.644Z"
   },
   {
    "duration": 136,
    "start_time": "2021-07-17T20:57:33.195Z"
   },
   {
    "duration": 594,
    "start_time": "2021-07-17T20:57:41.082Z"
   },
   {
    "duration": 17,
    "start_time": "2021-07-17T20:58:12.458Z"
   },
   {
    "duration": 387,
    "start_time": "2021-07-17T20:58:16.754Z"
   },
   {
    "duration": 18,
    "start_time": "2021-07-17T20:58:45.306Z"
   },
   {
    "duration": 542,
    "start_time": "2021-07-17T20:58:50.809Z"
   },
   {
    "duration": 16,
    "start_time": "2021-07-17T21:01:26.736Z"
   },
   {
    "duration": 588,
    "start_time": "2021-07-17T21:02:02.669Z"
   },
   {
    "duration": 137,
    "start_time": "2021-07-17T21:06:37.662Z"
   },
   {
    "duration": 680,
    "start_time": "2021-07-17T21:06:49.322Z"
   },
   {
    "duration": 710,
    "start_time": "2021-07-17T21:07:12.411Z"
   },
   {
    "duration": 405,
    "start_time": "2021-07-17T21:07:21.580Z"
   },
   {
    "duration": 23,
    "start_time": "2021-07-17T21:07:41.980Z"
   },
   {
    "duration": 387,
    "start_time": "2021-07-17T21:07:47.371Z"
   },
   {
    "duration": 16,
    "start_time": "2021-07-17T21:08:58.459Z"
   },
   {
    "duration": 760,
    "start_time": "2021-07-17T21:09:12.354Z"
   },
   {
    "duration": 31,
    "start_time": "2021-07-17T21:09:53.203Z"
   },
   {
    "duration": 21,
    "start_time": "2021-07-17T21:10:38.179Z"
   },
   {
    "duration": 557,
    "start_time": "2021-07-17T21:10:48.499Z"
   },
   {
    "duration": 435,
    "start_time": "2021-07-17T21:27:03.758Z"
   },
   {
    "duration": 586,
    "start_time": "2021-07-17T21:27:26.143Z"
   },
   {
    "duration": 438,
    "start_time": "2021-07-17T21:28:37.491Z"
   },
   {
    "duration": 564,
    "start_time": "2021-07-17T21:29:23.557Z"
   },
   {
    "duration": 410,
    "start_time": "2021-07-17T21:29:55.598Z"
   },
   {
    "duration": 600,
    "start_time": "2021-07-17T21:30:11.909Z"
   },
   {
    "duration": 430,
    "start_time": "2021-07-17T21:30:38.614Z"
   },
   {
    "duration": 419,
    "start_time": "2021-07-17T21:33:08.690Z"
   },
   {
    "duration": 902,
    "start_time": "2021-07-17T21:49:59.814Z"
   },
   {
    "duration": 367,
    "start_time": "2021-07-17T21:50:21.719Z"
   },
   {
    "duration": 955,
    "start_time": "2021-07-17T21:53:24.461Z"
   },
   {
    "duration": 746,
    "start_time": "2021-07-17T21:54:02.014Z"
   },
   {
    "duration": 529,
    "start_time": "2021-07-17T21:54:14.437Z"
   },
   {
    "duration": 366,
    "start_time": "2021-07-17T21:55:05.533Z"
   },
   {
    "duration": 15,
    "start_time": "2021-07-17T21:55:35.205Z"
   },
   {
    "duration": 706,
    "start_time": "2021-07-17T21:55:38.588Z"
   },
   {
    "duration": 21,
    "start_time": "2021-07-17T21:56:06.476Z"
   },
   {
    "duration": 898,
    "start_time": "2021-07-17T21:56:08.242Z"
   },
   {
    "duration": 25,
    "start_time": "2021-07-17T21:56:43.932Z"
   },
   {
    "duration": 579,
    "start_time": "2021-07-17T21:56:45.291Z"
   },
   {
    "duration": 709,
    "start_time": "2021-07-17T21:58:35.610Z"
   },
   {
    "duration": 19,
    "start_time": "2021-07-17T21:59:01.241Z"
   },
   {
    "duration": 569,
    "start_time": "2021-07-17T21:59:04.873Z"
   },
   {
    "duration": 21,
    "start_time": "2021-07-17T22:00:34.665Z"
   },
   {
    "duration": 396,
    "start_time": "2021-07-17T22:00:36.648Z"
   },
   {
    "duration": 393,
    "start_time": "2021-07-17T22:01:21.305Z"
   },
   {
    "duration": 577,
    "start_time": "2021-07-17T22:01:51.616Z"
   },
   {
    "duration": 389,
    "start_time": "2021-07-17T22:01:59.400Z"
   },
   {
    "duration": 16,
    "start_time": "2021-07-17T22:02:47.465Z"
   },
   {
    "duration": 555,
    "start_time": "2021-07-17T22:02:56.678Z"
   },
   {
    "duration": 398,
    "start_time": "2021-07-17T22:03:12.391Z"
   },
   {
    "duration": 563,
    "start_time": "2021-07-17T22:03:25.294Z"
   },
   {
    "duration": 397,
    "start_time": "2021-07-17T22:03:38.031Z"
   },
   {
    "duration": 413,
    "start_time": "2021-07-17T22:03:59.150Z"
   },
   {
    "duration": 15,
    "start_time": "2021-07-17T22:04:59.806Z"
   },
   {
    "duration": 600,
    "start_time": "2021-07-17T22:05:01.054Z"
   },
   {
    "duration": 460,
    "start_time": "2021-07-17T22:05:11.366Z"
   },
   {
    "duration": 7,
    "start_time": "2021-07-17T22:05:13.045Z"
   },
   {
    "duration": 566,
    "start_time": "2021-07-17T22:05:14.142Z"
   },
   {
    "duration": 411,
    "start_time": "2021-07-17T22:05:22.461Z"
   },
   {
    "duration": 421,
    "start_time": "2021-07-17T22:07:50.098Z"
   },
   {
    "duration": 28,
    "start_time": "2021-07-17T22:08:11.643Z"
   },
   {
    "duration": 21,
    "start_time": "2021-07-17T22:08:23.729Z"
   },
   {
    "duration": 50,
    "start_time": "2021-07-17T22:10:16.866Z"
   },
   {
    "duration": 418,
    "start_time": "2021-07-17T22:11:08.684Z"
   },
   {
    "duration": 36,
    "start_time": "2021-07-17T22:11:18.835Z"
   },
   {
    "duration": 118,
    "start_time": "2021-07-17T22:12:13.788Z"
   },
   {
    "duration": 104,
    "start_time": "2021-07-17T22:12:22.024Z"
   },
   {
    "duration": 26,
    "start_time": "2021-07-17T22:12:29.201Z"
   },
   {
    "duration": 18,
    "start_time": "2021-07-17T22:13:11.097Z"
   },
   {
    "duration": 27,
    "start_time": "2021-07-17T22:13:20.663Z"
   },
   {
    "duration": 25,
    "start_time": "2021-07-17T22:13:37.960Z"
   },
   {
    "duration": 23,
    "start_time": "2021-07-17T22:14:40.975Z"
   },
   {
    "duration": 578,
    "start_time": "2021-07-17T22:16:56.115Z"
   },
   {
    "duration": 15,
    "start_time": "2021-07-17T22:24:07.751Z"
   },
   {
    "duration": 327,
    "start_time": "2021-07-17T22:25:02.006Z"
   },
   {
    "duration": 14,
    "start_time": "2021-07-17T22:25:30.528Z"
   },
   {
    "duration": 320,
    "start_time": "2021-07-17T22:25:54.734Z"
   },
   {
    "duration": 410,
    "start_time": "2021-07-17T22:28:12.711Z"
   },
   {
    "duration": 384,
    "start_time": "2021-07-17T22:28:29.230Z"
   },
   {
    "duration": 16,
    "start_time": "2021-07-17T22:28:43.894Z"
   },
   {
    "duration": 23,
    "start_time": "2021-07-17T22:29:11.124Z"
   },
   {
    "duration": 127,
    "start_time": "2021-07-17T22:47:02.194Z"
   },
   {
    "duration": 567,
    "start_time": "2021-07-17T22:47:11.682Z"
   },
   {
    "duration": 651,
    "start_time": "2021-07-17T22:49:38.352Z"
   },
   {
    "duration": 988,
    "start_time": "2021-07-17T22:50:10.238Z"
   },
   {
    "duration": 26,
    "start_time": "2021-07-17T22:54:36.741Z"
   },
   {
    "duration": 16,
    "start_time": "2021-07-17T22:55:09.541Z"
   },
   {
    "duration": 13,
    "start_time": "2021-07-17T22:55:26.643Z"
   },
   {
    "duration": 26,
    "start_time": "2021-07-17T22:55:44.891Z"
   },
   {
    "duration": 16,
    "start_time": "2021-07-17T22:56:08.700Z"
   },
   {
    "duration": 19,
    "start_time": "2021-07-17T22:58:11.530Z"
   },
   {
    "duration": 94,
    "start_time": "2021-07-17T23:02:46.086Z"
   },
   {
    "duration": 169,
    "start_time": "2021-07-17T23:03:15.686Z"
   },
   {
    "duration": 106,
    "start_time": "2021-07-17T23:03:28.101Z"
   },
   {
    "duration": 103,
    "start_time": "2021-07-17T23:04:03.422Z"
   },
   {
    "duration": 22,
    "start_time": "2021-07-17T23:06:15.277Z"
   },
   {
    "duration": 17,
    "start_time": "2021-07-17T23:06:35.596Z"
   },
   {
    "duration": 341,
    "start_time": "2021-07-17T23:07:07.669Z"
   },
   {
    "duration": 11,
    "start_time": "2021-07-17T23:08:32.530Z"
   },
   {
    "duration": 15,
    "start_time": "2021-07-17T23:08:42.043Z"
   },
   {
    "duration": 9,
    "start_time": "2021-07-17T23:09:10.939Z"
   },
   {
    "duration": 16,
    "start_time": "2021-07-17T23:09:11.561Z"
   },
   {
    "duration": 356,
    "start_time": "2021-07-17T23:09:37.867Z"
   },
   {
    "duration": 13,
    "start_time": "2021-07-17T23:09:52.938Z"
   },
   {
    "duration": 13,
    "start_time": "2021-07-17T23:09:53.386Z"
   },
   {
    "duration": 15,
    "start_time": "2021-07-17T23:09:55.066Z"
   },
   {
    "duration": 8856,
    "start_time": "2021-07-17T23:10:40.202Z"
   },
   {
    "duration": -185,
    "start_time": "2021-07-17T23:10:49.247Z"
   },
   {
    "duration": 15,
    "start_time": "2021-07-17T23:11:04.482Z"
   },
   {
    "duration": 22,
    "start_time": "2021-07-17T23:11:05.097Z"
   },
   {
    "duration": 16,
    "start_time": "2021-07-17T23:12:40.432Z"
   },
   {
    "duration": 20,
    "start_time": "2021-07-17T23:12:41.497Z"
   },
   {
    "duration": 12,
    "start_time": "2021-07-17T23:13:01.540Z"
   },
   {
    "duration": 15,
    "start_time": "2021-07-17T23:13:02.096Z"
   },
   {
    "duration": 22,
    "start_time": "2021-07-17T23:13:02.688Z"
   },
   {
    "duration": 355,
    "start_time": "2021-07-17T23:14:31.831Z"
   },
   {
    "duration": 12,
    "start_time": "2021-07-17T23:14:49.048Z"
   },
   {
    "duration": 16,
    "start_time": "2021-07-17T23:14:49.271Z"
   },
   {
    "duration": 15,
    "start_time": "2021-07-17T23:14:50.647Z"
   },
   {
    "duration": 4,
    "start_time": "2021-07-17T23:16:20.247Z"
   },
   {
    "duration": 349,
    "start_time": "2021-07-17T23:16:28.060Z"
   },
   {
    "duration": 345,
    "start_time": "2021-07-17T23:16:44.250Z"
   },
   {
    "duration": 12,
    "start_time": "2021-07-17T23:16:46.398Z"
   },
   {
    "duration": 19,
    "start_time": "2021-07-17T23:16:46.630Z"
   },
   {
    "duration": 14,
    "start_time": "2021-07-17T23:17:05.734Z"
   },
   {
    "duration": 13,
    "start_time": "2021-07-17T23:20:00.779Z"
   },
   {
    "duration": 14,
    "start_time": "2021-07-17T23:20:03.276Z"
   },
   {
    "duration": 14,
    "start_time": "2021-07-17T23:20:03.900Z"
   },
   {
    "duration": 13,
    "start_time": "2021-07-17T23:20:46.851Z"
   },
   {
    "duration": 19,
    "start_time": "2021-07-17T23:20:47.306Z"
   },
   {
    "duration": 99,
    "start_time": "2021-07-17T23:20:48.075Z"
   },
   {
    "duration": 16,
    "start_time": "2021-07-17T23:20:54.419Z"
   },
   {
    "duration": 376,
    "start_time": "2021-07-17T23:24:53.207Z"
   },
   {
    "duration": 12,
    "start_time": "2021-07-17T23:24:59.704Z"
   },
   {
    "duration": 27,
    "start_time": "2021-07-17T23:25:00.242Z"
   },
   {
    "duration": 15,
    "start_time": "2021-07-17T23:25:01.472Z"
   },
   {
    "duration": 14,
    "start_time": "2021-07-17T23:25:23.424Z"
   },
   {
    "duration": 21,
    "start_time": "2021-07-17T23:25:23.615Z"
   },
   {
    "duration": 12,
    "start_time": "2021-07-17T23:25:23.800Z"
   },
   {
    "duration": 14,
    "start_time": "2021-07-17T23:25:50.080Z"
   },
   {
    "duration": 18,
    "start_time": "2021-07-17T23:25:50.295Z"
   },
   {
    "duration": 15,
    "start_time": "2021-07-17T23:25:50.840Z"
   },
   {
    "duration": 19,
    "start_time": "2021-07-17T23:27:43.167Z"
   },
   {
    "duration": 13,
    "start_time": "2021-07-17T23:27:54.285Z"
   },
   {
    "duration": 6,
    "start_time": "2021-07-17T23:31:01.581Z"
   },
   {
    "duration": 12,
    "start_time": "2021-07-17T23:32:02.899Z"
   },
   {
    "duration": 128,
    "start_time": "2021-07-17T23:34:06.583Z"
   },
   {
    "duration": 114,
    "start_time": "2021-07-17T23:34:52.010Z"
   },
   {
    "duration": 77,
    "start_time": "2021-07-17T23:35:03.198Z"
   },
   {
    "duration": 6168,
    "start_time": "2021-07-17T23:35:34.577Z"
   },
   {
    "duration": 7880,
    "start_time": "2021-07-17T23:35:54.867Z"
   },
   {
    "duration": 12,
    "start_time": "2021-07-17T23:36:16.745Z"
   },
   {
    "duration": 27,
    "start_time": "2021-07-17T23:36:17.155Z"
   },
   {
    "duration": 22,
    "start_time": "2021-07-17T23:36:27.376Z"
   },
   {
    "duration": 388,
    "start_time": "2021-07-17T23:38:56.588Z"
   },
   {
    "duration": 19,
    "start_time": "2021-07-17T23:39:04.823Z"
   },
   {
    "duration": 20,
    "start_time": "2021-07-17T23:39:21.015Z"
   },
   {
    "duration": 19,
    "start_time": "2021-07-17T23:39:31.447Z"
   },
   {
    "duration": 6,
    "start_time": "2021-07-17T23:40:31.109Z"
   },
   {
    "duration": 333,
    "start_time": "2021-07-17T23:42:33.291Z"
   },
   {
    "duration": 367,
    "start_time": "2021-07-17T23:42:43.832Z"
   },
   {
    "duration": 13,
    "start_time": "2021-07-17T23:42:50.477Z"
   },
   {
    "duration": 1366,
    "start_time": "2021-07-17T23:42:50.720Z"
   },
   {
    "duration": 19,
    "start_time": "2021-07-17T23:43:00.920Z"
   },
   {
    "duration": 18,
    "start_time": "2021-07-17T23:43:02.797Z"
   },
   {
    "duration": 19,
    "start_time": "2021-07-17T23:43:27.076Z"
   },
   {
    "duration": 20,
    "start_time": "2021-07-17T23:43:27.836Z"
   },
   {
    "duration": 12,
    "start_time": "2021-07-17T23:43:36.604Z"
   },
   {
    "duration": 18,
    "start_time": "2021-07-17T23:43:36.787Z"
   },
   {
    "duration": 15,
    "start_time": "2021-07-17T23:43:37.004Z"
   },
   {
    "duration": 379,
    "start_time": "2021-07-17T23:50:05.457Z"
   },
   {
    "duration": 8,
    "start_time": "2021-07-17T23:54:25.495Z"
   },
   {
    "duration": 16,
    "start_time": "2021-07-17T23:54:54.381Z"
   },
   {
    "duration": 884,
    "start_time": "2021-07-17T23:56:37.445Z"
   },
   {
    "duration": 773,
    "start_time": "2021-07-17T23:56:47.552Z"
   },
   {
    "duration": 568,
    "start_time": "2021-07-17T23:56:58.131Z"
   },
   {
    "duration": 357,
    "start_time": "2021-07-17T23:58:00.714Z"
   },
   {
    "duration": 123,
    "start_time": "2021-07-17T23:58:20.243Z"
   },
   {
    "duration": 317,
    "start_time": "2021-07-17T23:58:27.857Z"
   },
   {
    "duration": 10,
    "start_time": "2021-07-18T00:08:04.480Z"
   },
   {
    "duration": 13,
    "start_time": "2021-07-18T00:08:11.316Z"
   },
   {
    "duration": 2053,
    "start_time": "2021-07-18T00:09:17.690Z"
   },
   {
    "duration": 4,
    "start_time": "2021-07-18T00:09:19.745Z"
   },
   {
    "duration": 66,
    "start_time": "2021-07-18T00:09:19.752Z"
   },
   {
    "duration": 1140,
    "start_time": "2021-07-18T00:09:19.821Z"
   },
   {
    "duration": 1112,
    "start_time": "2021-07-18T00:09:20.964Z"
   },
   {
    "duration": 3,
    "start_time": "2021-07-18T00:09:22.079Z"
   },
   {
    "duration": 119,
    "start_time": "2021-07-18T00:09:22.084Z"
   },
   {
    "duration": 5,
    "start_time": "2021-07-18T00:09:22.206Z"
   },
   {
    "duration": 39,
    "start_time": "2021-07-18T00:09:22.213Z"
   },
   {
    "duration": 5,
    "start_time": "2021-07-18T00:09:22.254Z"
   },
   {
    "duration": 45,
    "start_time": "2021-07-18T00:09:22.262Z"
   },
   {
    "duration": 3991,
    "start_time": "2021-07-18T00:09:22.310Z"
   },
   {
    "duration": 4048,
    "start_time": "2021-07-18T00:09:26.305Z"
   },
   {
    "duration": 13,
    "start_time": "2021-07-18T00:09:30.355Z"
   },
   {
    "duration": 10,
    "start_time": "2021-07-18T00:09:30.382Z"
   },
   {
    "duration": 4350,
    "start_time": "2021-07-18T00:09:30.396Z"
   },
   {
    "duration": 14,
    "start_time": "2021-07-18T00:09:34.750Z"
   },
   {
    "duration": 33,
    "start_time": "2021-07-18T00:09:34.766Z"
   },
   {
    "duration": 50,
    "start_time": "2021-07-18T00:09:34.802Z"
   },
   {
    "duration": 28,
    "start_time": "2021-07-18T00:09:34.855Z"
   },
   {
    "duration": 16,
    "start_time": "2021-07-18T00:09:34.886Z"
   },
   {
    "duration": 10,
    "start_time": "2021-07-18T00:09:34.904Z"
   },
   {
    "duration": 12,
    "start_time": "2021-07-18T00:09:34.917Z"
   },
   {
    "duration": 1102,
    "start_time": "2021-07-18T00:09:34.931Z"
   },
   {
    "duration": 782,
    "start_time": "2021-07-18T00:09:36.036Z"
   },
   {
    "duration": 6,
    "start_time": "2021-07-18T00:09:36.820Z"
   },
   {
    "duration": 434,
    "start_time": "2021-07-18T00:09:36.828Z"
   },
   {
    "duration": 599,
    "start_time": "2021-07-18T00:09:37.264Z"
   },
   {
    "duration": 404,
    "start_time": "2021-07-18T00:09:37.867Z"
   },
   {
    "duration": 29,
    "start_time": "2021-07-18T00:09:38.273Z"
   },
   {
    "duration": 421,
    "start_time": "2021-07-18T00:09:38.305Z"
   },
   {
    "duration": 12,
    "start_time": "2021-07-18T00:09:38.728Z"
   },
   {
    "duration": 39,
    "start_time": "2021-07-18T00:09:38.743Z"
   },
   {
    "duration": 20,
    "start_time": "2021-07-18T00:09:38.785Z"
   },
   {
    "duration": 21,
    "start_time": "2021-07-18T00:09:38.807Z"
   },
   {
    "duration": 5,
    "start_time": "2021-07-18T00:09:38.830Z"
   },
   {
    "duration": 73,
    "start_time": "2021-07-18T00:09:38.838Z"
   },
   {
    "duration": 7,
    "start_time": "2021-07-18T00:09:38.914Z"
   },
   {
    "duration": 15,
    "start_time": "2021-07-18T00:09:38.924Z"
   },
   {
    "duration": 12,
    "start_time": "2021-07-18T00:10:09.490Z"
   },
   {
    "duration": 1921,
    "start_time": "2021-07-18T09:10:32.100Z"
   },
   {
    "duration": 4,
    "start_time": "2021-07-18T09:10:37.851Z"
   },
   {
    "duration": 79,
    "start_time": "2021-07-18T09:10:38.491Z"
   },
   {
    "duration": 1203,
    "start_time": "2021-07-18T09:10:38.748Z"
   },
   {
    "duration": 1122,
    "start_time": "2021-07-18T09:10:39.954Z"
   },
   {
    "duration": 3,
    "start_time": "2021-07-18T09:10:41.079Z"
   },
   {
    "duration": 121,
    "start_time": "2021-07-18T09:10:41.085Z"
   },
   {
    "duration": 6,
    "start_time": "2021-07-18T09:10:41.209Z"
   },
   {
    "duration": 19,
    "start_time": "2021-07-18T09:10:41.218Z"
   },
   {
    "duration": 5,
    "start_time": "2021-07-18T09:10:41.330Z"
   },
   {
    "duration": 23,
    "start_time": "2021-07-18T09:10:41.771Z"
   },
   {
    "duration": 4458,
    "start_time": "2021-07-18T09:10:42.011Z"
   },
   {
    "duration": 4115,
    "start_time": "2021-07-18T09:10:46.472Z"
   },
   {
    "duration": 12,
    "start_time": "2021-07-18T09:10:50.591Z"
   },
   {
    "duration": 7,
    "start_time": "2021-07-18T09:10:50.606Z"
   },
   {
    "duration": 4655,
    "start_time": "2021-07-18T09:10:50.616Z"
   },
   {
    "duration": 17,
    "start_time": "2021-07-18T09:10:55.274Z"
   },
   {
    "duration": 13,
    "start_time": "2021-07-18T09:10:55.294Z"
   },
   {
    "duration": 77,
    "start_time": "2021-07-18T09:10:55.311Z"
   },
   {
    "duration": 7,
    "start_time": "2021-07-18T09:10:55.392Z"
   },
   {
    "duration": 19,
    "start_time": "2021-07-18T09:10:55.402Z"
   },
   {
    "duration": 10,
    "start_time": "2021-07-18T09:10:55.423Z"
   },
   {
    "duration": 13,
    "start_time": "2021-07-18T09:10:55.435Z"
   },
   {
    "duration": 1064,
    "start_time": "2021-07-18T09:10:55.450Z"
   },
   {
    "duration": 658,
    "start_time": "2021-07-18T09:10:56.516Z"
   },
   {
    "duration": 10,
    "start_time": "2021-07-18T09:10:57.177Z"
   },
   {
    "duration": 403,
    "start_time": "2021-07-18T09:10:57.190Z"
   },
   {
    "duration": 395,
    "start_time": "2021-07-18T09:10:58.228Z"
   },
   {
    "duration": 374,
    "start_time": "2021-07-18T09:11:03.948Z"
   },
   {
    "duration": 19,
    "start_time": "2021-07-18T09:11:10.418Z"
   },
   {
    "duration": 548,
    "start_time": "2021-07-18T09:11:11.220Z"
   },
   {
    "duration": 13,
    "start_time": "2021-07-18T09:11:23.971Z"
   },
   {
    "duration": 19,
    "start_time": "2021-07-18T09:11:24.674Z"
   },
   {
    "duration": 15,
    "start_time": "2021-07-18T09:11:37.258Z"
   },
   {
    "duration": 19,
    "start_time": "2021-07-18T09:11:44.073Z"
   },
   {
    "duration": 5,
    "start_time": "2021-07-18T09:11:44.737Z"
   },
   {
    "duration": 34,
    "start_time": "2021-07-18T09:11:45.635Z"
   },
   {
    "duration": 5,
    "start_time": "2021-07-18T09:11:46.252Z"
   },
   {
    "duration": 15,
    "start_time": "2021-07-18T09:11:46.850Z"
   },
   {
    "duration": 613,
    "start_time": "2021-07-18T09:11:58.786Z"
   },
   {
    "duration": 114,
    "start_time": "2021-07-18T09:23:25.152Z"
   },
   {
    "duration": 28,
    "start_time": "2021-07-18T09:23:45.578Z"
   },
   {
    "duration": 19,
    "start_time": "2021-07-18T09:25:41.611Z"
   },
   {
    "duration": 21,
    "start_time": "2021-07-18T09:30:40.853Z"
   },
   {
    "duration": 522,
    "start_time": "2021-07-18T09:31:56.264Z"
   },
   {
    "duration": 22,
    "start_time": "2021-07-18T09:42:22.365Z"
   },
   {
    "duration": 364,
    "start_time": "2021-07-18T09:44:18.825Z"
   },
   {
    "duration": 396,
    "start_time": "2021-07-18T09:45:01.213Z"
   },
   {
    "duration": 518,
    "start_time": "2021-07-18T09:45:19.396Z"
   },
   {
    "duration": 25,
    "start_time": "2021-07-18T09:46:02.731Z"
   },
   {
    "duration": 23,
    "start_time": "2021-07-18T09:46:13.603Z"
   },
   {
    "duration": 111,
    "start_time": "2021-07-18T09:51:24.529Z"
   },
   {
    "duration": 20,
    "start_time": "2021-07-18T09:51:40.160Z"
   },
   {
    "duration": 370,
    "start_time": "2021-07-18T09:51:41.142Z"
   },
   {
    "duration": 13,
    "start_time": "2021-07-18T09:51:45.823Z"
   },
   {
    "duration": 17,
    "start_time": "2021-07-18T09:51:46.431Z"
   },
   {
    "duration": 15,
    "start_time": "2021-07-18T09:51:47.471Z"
   },
   {
    "duration": 18,
    "start_time": "2021-07-18T09:51:49.583Z"
   },
   {
    "duration": 5,
    "start_time": "2021-07-18T09:51:49.831Z"
   },
   {
    "duration": 34,
    "start_time": "2021-07-18T09:51:50.071Z"
   },
   {
    "duration": 5,
    "start_time": "2021-07-18T09:51:50.591Z"
   },
   {
    "duration": 13,
    "start_time": "2021-07-18T09:51:50.856Z"
   },
   {
    "duration": 22,
    "start_time": "2021-07-18T09:51:53.111Z"
   },
   {
    "duration": 537,
    "start_time": "2021-07-18T09:51:53.337Z"
   },
   {
    "duration": 377,
    "start_time": "2021-07-18T09:53:27.711Z"
   },
   {
    "duration": 159,
    "start_time": "2021-07-18T12:27:26.231Z"
   },
   {
    "duration": 711,
    "start_time": "2021-07-18T12:27:52.655Z"
   },
   {
    "duration": 13,
    "start_time": "2021-07-18T12:28:58.937Z"
   },
   {
    "duration": 12,
    "start_time": "2021-07-18T12:30:02.447Z"
   },
   {
    "duration": 372,
    "start_time": "2021-07-18T12:30:17.111Z"
   },
   {
    "duration": 13,
    "start_time": "2021-07-18T12:36:44.978Z"
   },
   {
    "duration": 515,
    "start_time": "2021-07-18T12:36:54.620Z"
   },
   {
    "duration": 358,
    "start_time": "2021-07-18T12:38:44.819Z"
   },
   {
    "duration": 391,
    "start_time": "2021-07-18T12:45:42.109Z"
   },
   {
    "duration": 571,
    "start_time": "2021-07-18T12:52:25.602Z"
   },
   {
    "duration": 451,
    "start_time": "2021-07-18T12:53:07.649Z"
   },
   {
    "duration": 557,
    "start_time": "2021-07-18T13:14:44.700Z"
   },
   {
    "duration": 397,
    "start_time": "2021-07-18T13:15:24.304Z"
   },
   {
    "duration": 13,
    "start_time": "2021-07-18T13:15:53.682Z"
   },
   {
    "duration": 541,
    "start_time": "2021-07-18T13:16:01.012Z"
   },
   {
    "duration": 105,
    "start_time": "2021-07-18T13:28:57.103Z"
   },
   {
    "duration": 378,
    "start_time": "2021-07-18T14:06:41.426Z"
   },
   {
    "duration": 10,
    "start_time": "2021-07-18T14:52:17.114Z"
   },
   {
    "duration": 14,
    "start_time": "2021-07-18T14:53:16.415Z"
   },
   {
    "duration": 334,
    "start_time": "2021-07-18T14:55:59.519Z"
   },
   {
    "duration": 4932,
    "start_time": "2021-07-18T14:56:20.861Z"
   },
   {
    "duration": 209,
    "start_time": "2021-07-18T14:56:29.711Z"
   },
   {
    "duration": 400,
    "start_time": "2021-07-18T14:57:56.370Z"
   },
   {
    "duration": 5,
    "start_time": "2021-07-18T14:58:52.310Z"
   },
   {
    "duration": 387,
    "start_time": "2021-07-18T14:59:06.125Z"
   },
   {
    "duration": 558,
    "start_time": "2021-07-18T15:16:47.531Z"
   },
   {
    "duration": 365,
    "start_time": "2021-07-18T15:22:55.702Z"
   },
   {
    "duration": 535,
    "start_time": "2021-07-18T15:34:09.454Z"
   },
   {
    "duration": 389,
    "start_time": "2021-07-18T15:34:37.341Z"
   },
   {
    "duration": 529,
    "start_time": "2021-07-18T15:35:55.686Z"
   },
   {
    "duration": 378,
    "start_time": "2021-07-18T15:37:17.798Z"
   },
   {
    "duration": 524,
    "start_time": "2021-07-18T15:38:37.707Z"
   },
   {
    "duration": 387,
    "start_time": "2021-07-18T15:39:14.260Z"
   },
   {
    "duration": 558,
    "start_time": "2021-07-18T15:39:49.706Z"
   },
   {
    "duration": 415,
    "start_time": "2021-07-18T15:40:06.331Z"
   },
   {
    "duration": 385,
    "start_time": "2021-07-18T15:41:37.633Z"
   },
   {
    "duration": 554,
    "start_time": "2021-07-18T15:41:56.224Z"
   },
   {
    "duration": 392,
    "start_time": "2021-07-18T15:43:22.321Z"
   },
   {
    "duration": 543,
    "start_time": "2021-07-18T15:43:44.822Z"
   },
   {
    "duration": 384,
    "start_time": "2021-07-18T15:49:06.292Z"
   },
   {
    "duration": 3206,
    "start_time": "2021-07-18T16:01:43.884Z"
   },
   {
    "duration": 2193,
    "start_time": "2021-07-18T16:01:47.092Z"
   },
   {
    "duration": 3,
    "start_time": "2021-07-18T16:01:49.288Z"
   },
   {
    "duration": 56,
    "start_time": "2021-07-18T16:01:49.294Z"
   },
   {
    "duration": 1246,
    "start_time": "2021-07-18T16:01:49.353Z"
   },
   {
    "duration": 1161,
    "start_time": "2021-07-18T16:01:50.601Z"
   },
   {
    "duration": 5,
    "start_time": "2021-07-18T16:01:51.764Z"
   },
   {
    "duration": 122,
    "start_time": "2021-07-18T16:01:51.776Z"
   },
   {
    "duration": 5,
    "start_time": "2021-07-18T16:01:51.902Z"
   },
   {
    "duration": 20,
    "start_time": "2021-07-18T16:01:51.910Z"
   },
   {
    "duration": 13,
    "start_time": "2021-07-18T16:01:51.932Z"
   },
   {
    "duration": 53,
    "start_time": "2021-07-18T16:01:51.948Z"
   },
   {
    "duration": 4061,
    "start_time": "2021-07-18T16:01:52.003Z"
   },
   {
    "duration": 4081,
    "start_time": "2021-07-18T16:01:56.067Z"
   },
   {
    "duration": 13,
    "start_time": "2021-07-18T16:02:00.151Z"
   },
   {
    "duration": 6,
    "start_time": "2021-07-18T16:02:00.182Z"
   },
   {
    "duration": 4353,
    "start_time": "2021-07-18T16:02:00.190Z"
   },
   {
    "duration": 16,
    "start_time": "2021-07-18T16:02:04.545Z"
   },
   {
    "duration": 14,
    "start_time": "2021-07-18T16:02:04.583Z"
   },
   {
    "duration": 54,
    "start_time": "2021-07-18T16:02:04.600Z"
   },
   {
    "duration": 27,
    "start_time": "2021-07-18T16:02:04.657Z"
   },
   {
    "duration": 15,
    "start_time": "2021-07-18T16:02:04.687Z"
   },
   {
    "duration": 10,
    "start_time": "2021-07-18T16:02:04.709Z"
   },
   {
    "duration": 13,
    "start_time": "2021-07-18T16:02:04.722Z"
   },
   {
    "duration": 1006,
    "start_time": "2021-07-18T16:02:04.737Z"
   },
   {
    "duration": 672,
    "start_time": "2021-07-18T16:02:05.746Z"
   },
   {
    "duration": 6,
    "start_time": "2021-07-18T16:02:06.420Z"
   },
   {
    "duration": 427,
    "start_time": "2021-07-18T16:02:06.429Z"
   },
   {
    "duration": 608,
    "start_time": "2021-07-18T16:02:06.859Z"
   },
   {
    "duration": 403,
    "start_time": "2021-07-18T16:02:07.470Z"
   },
   {
    "duration": 23,
    "start_time": "2021-07-18T16:02:07.883Z"
   },
   {
    "duration": 561,
    "start_time": "2021-07-18T16:02:07.908Z"
   },
   {
    "duration": 22,
    "start_time": "2021-07-18T16:02:08.472Z"
   },
   {
    "duration": 26,
    "start_time": "2021-07-18T16:02:08.497Z"
   },
   {
    "duration": 24,
    "start_time": "2021-07-18T16:02:08.526Z"
   },
   {
    "duration": 34,
    "start_time": "2021-07-18T16:02:08.553Z"
   },
   {
    "duration": 5,
    "start_time": "2021-07-18T16:02:08.590Z"
   },
   {
    "duration": 39,
    "start_time": "2021-07-18T16:02:08.598Z"
   },
   {
    "duration": 7,
    "start_time": "2021-07-18T16:02:08.640Z"
   },
   {
    "duration": 41,
    "start_time": "2021-07-18T16:02:08.650Z"
   },
   {
    "duration": 428,
    "start_time": "2021-07-18T16:02:08.694Z"
   },
   {
    "duration": 426,
    "start_time": "2021-07-18T16:02:09.124Z"
   },
   {
    "duration": 3099,
    "start_time": "2021-07-18T16:03:47.528Z"
   },
   {
    "duration": 2261,
    "start_time": "2021-07-18T16:03:50.629Z"
   },
   {
    "duration": 4,
    "start_time": "2021-07-18T16:03:52.892Z"
   },
   {
    "duration": 61,
    "start_time": "2021-07-18T16:03:52.898Z"
   },
   {
    "duration": 912,
    "start_time": "2021-07-18T16:03:52.961Z"
   },
   {
    "duration": 712,
    "start_time": "2021-07-18T16:03:53.875Z"
   },
   {
    "duration": 4,
    "start_time": "2021-07-18T16:03:54.590Z"
   },
   {
    "duration": 121,
    "start_time": "2021-07-18T16:03:54.597Z"
   },
   {
    "duration": 4,
    "start_time": "2021-07-18T16:03:54.721Z"
   },
   {
    "duration": 23,
    "start_time": "2021-07-18T16:03:54.727Z"
   },
   {
    "duration": 35,
    "start_time": "2021-07-18T16:03:54.752Z"
   },
   {
    "duration": 24,
    "start_time": "2021-07-18T16:03:54.790Z"
   },
   {
    "duration": 3910,
    "start_time": "2021-07-18T16:03:54.816Z"
   },
   {
    "duration": 3969,
    "start_time": "2021-07-18T16:03:58.730Z"
   },
   {
    "duration": 14,
    "start_time": "2021-07-18T16:04:02.702Z"
   },
   {
    "duration": 17,
    "start_time": "2021-07-18T16:04:02.718Z"
   },
   {
    "duration": 4233,
    "start_time": "2021-07-18T16:04:02.737Z"
   },
   {
    "duration": 20,
    "start_time": "2021-07-18T16:04:06.973Z"
   },
   {
    "duration": 14,
    "start_time": "2021-07-18T16:04:06.996Z"
   },
   {
    "duration": 87,
    "start_time": "2021-07-18T16:04:07.013Z"
   },
   {
    "duration": 7,
    "start_time": "2021-07-18T16:04:07.103Z"
   },
   {
    "duration": 12,
    "start_time": "2021-07-18T16:04:07.114Z"
   },
   {
    "duration": 10,
    "start_time": "2021-07-18T16:04:07.133Z"
   },
   {
    "duration": 46,
    "start_time": "2021-07-18T16:04:07.147Z"
   },
   {
    "duration": 933,
    "start_time": "2021-07-18T16:04:07.196Z"
   },
   {
    "duration": 662,
    "start_time": "2021-07-18T16:04:08.132Z"
   },
   {
    "duration": 8,
    "start_time": "2021-07-18T16:04:08.797Z"
   },
   {
    "duration": 428,
    "start_time": "2021-07-18T16:04:08.809Z"
   },
   {
    "duration": 562,
    "start_time": "2021-07-18T16:04:09.241Z"
   },
   {
    "duration": 407,
    "start_time": "2021-07-18T16:04:09.806Z"
   },
   {
    "duration": 24,
    "start_time": "2021-07-18T16:04:10.216Z"
   },
   {
    "duration": 562,
    "start_time": "2021-07-18T16:04:10.242Z"
   },
   {
    "duration": 13,
    "start_time": "2021-07-18T16:04:10.807Z"
   },
   {
    "duration": 17,
    "start_time": "2021-07-18T16:04:10.823Z"
   },
   {
    "duration": 47,
    "start_time": "2021-07-18T16:04:10.843Z"
   },
   {
    "duration": 23,
    "start_time": "2021-07-18T16:04:10.893Z"
   },
   {
    "duration": 4,
    "start_time": "2021-07-18T16:04:10.919Z"
   },
   {
    "duration": 34,
    "start_time": "2021-07-18T16:04:10.926Z"
   },
   {
    "duration": 20,
    "start_time": "2021-07-18T16:04:10.963Z"
   },
   {
    "duration": 13,
    "start_time": "2021-07-18T16:04:10.985Z"
   },
   {
    "duration": 443,
    "start_time": "2021-07-18T16:04:11.001Z"
   },
   {
    "duration": 1020,
    "start_time": "2021-07-18T16:04:11.447Z"
   },
   {
    "duration": 376,
    "start_time": "2021-07-18T16:04:35.550Z"
   },
   {
    "duration": 6882,
    "start_time": "2021-07-21T12:05:48.881Z"
   },
   {
    "duration": 2415,
    "start_time": "2021-07-21T12:05:55.766Z"
   },
   {
    "duration": 3,
    "start_time": "2021-07-21T12:06:00.650Z"
   },
   {
    "duration": 57,
    "start_time": "2021-07-21T12:06:01.057Z"
   },
   {
    "duration": 1021,
    "start_time": "2021-07-21T12:06:01.385Z"
   },
   {
    "duration": 943,
    "start_time": "2021-07-21T12:06:04.721Z"
   },
   {
    "duration": 7,
    "start_time": "2021-07-21T12:06:05.666Z"
   },
   {
    "duration": 115,
    "start_time": "2021-07-21T12:06:16.112Z"
   },
   {
    "duration": 3199,
    "start_time": "2021-07-21T12:08:15.707Z"
   },
   {
    "duration": 2401,
    "start_time": "2021-07-21T12:08:37.352Z"
   },
   {
    "duration": 2388,
    "start_time": "2021-07-21T12:09:45.527Z"
   },
   {
    "duration": 2420,
    "start_time": "2021-07-21T12:10:10.175Z"
   },
   {
    "duration": 392,
    "start_time": "2021-07-21T12:10:26.471Z"
   },
   {
    "duration": 6,
    "start_time": "2021-07-21T12:10:34.463Z"
   },
   {
    "duration": 7,
    "start_time": "2021-07-21T12:11:05.878Z"
   },
   {
    "duration": 73,
    "start_time": "2021-07-21T12:11:21.622Z"
   },
   {
    "duration": 142,
    "start_time": "2021-07-21T12:20:50.924Z"
   },
   {
    "duration": 916,
    "start_time": "2021-07-21T12:26:42.704Z"
   },
   {
    "duration": 899,
    "start_time": "2021-07-21T12:26:52.745Z"
   },
   {
    "duration": 119,
    "start_time": "2021-07-21T12:27:12.234Z"
   },
   {
    "duration": 38,
    "start_time": "2021-07-21T12:27:17.089Z"
   },
   {
    "duration": 800,
    "start_time": "2021-07-21T12:28:43.136Z"
   },
   {
    "duration": 395,
    "start_time": "2021-07-21T12:29:07.865Z"
   },
   {
    "duration": 3430,
    "start_time": "2021-07-21T12:29:36.349Z"
   },
   {
    "duration": 2261,
    "start_time": "2021-07-21T12:29:39.782Z"
   },
   {
    "duration": 3,
    "start_time": "2021-07-21T12:29:42.046Z"
   },
   {
    "duration": 56,
    "start_time": "2021-07-21T12:29:42.061Z"
   },
   {
    "duration": 1761,
    "start_time": "2021-07-21T12:29:42.120Z"
   },
   {
    "duration": 912,
    "start_time": "2021-07-21T12:29:43.883Z"
   },
   {
    "duration": 4,
    "start_time": "2021-07-21T12:29:44.797Z"
   },
   {
    "duration": 87,
    "start_time": "2021-07-21T12:29:44.804Z"
   },
   {
    "duration": 554,
    "start_time": "2021-07-21T12:29:55.020Z"
   },
   {
    "duration": 389,
    "start_time": "2021-07-21T12:30:21.570Z"
   },
   {
    "duration": 3253,
    "start_time": "2021-07-21T12:32:05.200Z"
   },
   {
    "duration": 2417,
    "start_time": "2021-07-21T12:32:08.456Z"
   },
   {
    "duration": 3,
    "start_time": "2021-07-21T12:32:10.876Z"
   },
   {
    "duration": 61,
    "start_time": "2021-07-21T12:32:10.883Z"
   },
   {
    "duration": 579,
    "start_time": "2021-07-21T12:32:10.946Z"
   },
   {
    "duration": -182,
    "start_time": "2021-07-21T12:32:11.709Z"
   },
   {
    "duration": -188,
    "start_time": "2021-07-21T12:32:11.717Z"
   },
   {
    "duration": -193,
    "start_time": "2021-07-21T12:32:11.723Z"
   },
   {
    "duration": 3267,
    "start_time": "2021-07-21T12:32:29.458Z"
   },
   {
    "duration": 2230,
    "start_time": "2021-07-21T12:32:32.728Z"
   },
   {
    "duration": 3,
    "start_time": "2021-07-21T12:32:34.962Z"
   },
   {
    "duration": 58,
    "start_time": "2021-07-21T12:32:34.969Z"
   },
   {
    "duration": 1033,
    "start_time": "2021-07-21T12:32:35.029Z"
   },
   {
    "duration": 655,
    "start_time": "2021-07-21T12:32:36.067Z"
   },
   {
    "duration": 4,
    "start_time": "2021-07-21T12:32:36.725Z"
   },
   {
    "duration": 91,
    "start_time": "2021-07-21T12:32:38.171Z"
   },
   {
    "duration": 598,
    "start_time": "2021-07-21T12:32:55.698Z"
   },
   {
    "duration": 56,
    "start_time": "2021-07-21T12:33:13.382Z"
   },
   {
    "duration": 55,
    "start_time": "2021-07-21T12:33:39.147Z"
   },
   {
    "duration": 8593,
    "start_time": "2021-07-21T12:39:00.394Z"
   },
   {
    "duration": 3286,
    "start_time": "2021-07-21T12:39:18.610Z"
   },
   {
    "duration": 2215,
    "start_time": "2021-07-21T12:39:21.899Z"
   },
   {
    "duration": 3,
    "start_time": "2021-07-21T12:39:24.117Z"
   },
   {
    "duration": 66,
    "start_time": "2021-07-21T12:39:24.123Z"
   },
   {
    "duration": 1473,
    "start_time": "2021-07-21T12:39:24.192Z"
   },
   {
    "duration": 879,
    "start_time": "2021-07-21T12:39:25.667Z"
   },
   {
    "duration": 4,
    "start_time": "2021-07-21T12:39:26.548Z"
   },
   {
    "duration": 137,
    "start_time": "2021-07-21T12:39:26.555Z"
   },
   {
    "duration": 9101,
    "start_time": "2021-07-21T12:39:31.578Z"
   },
   {
    "duration": 35,
    "start_time": "2021-07-21T12:39:47.617Z"
   },
   {
    "duration": 24,
    "start_time": "2021-07-21T12:40:05.167Z"
   },
   {
    "duration": 10288,
    "start_time": "2021-07-21T12:40:14.241Z"
   },
   {
    "duration": 19,
    "start_time": "2021-07-21T12:40:36.912Z"
   },
   {
    "duration": 2435,
    "start_time": "2021-07-21T12:40:49.970Z"
   },
   {
    "duration": 19,
    "start_time": "2021-07-21T12:41:35.320Z"
   },
   {
    "duration": 118,
    "start_time": "2021-07-21T12:41:43.200Z"
   },
   {
    "duration": 12,
    "start_time": "2021-07-21T12:41:48.017Z"
   },
   {
    "duration": 36,
    "start_time": "2021-07-21T12:42:00.945Z"
   },
   {
    "duration": 24,
    "start_time": "2021-07-21T12:42:21.795Z"
   },
   {
    "duration": 127,
    "start_time": "2021-07-21T12:42:35.694Z"
   },
   {
    "duration": 21,
    "start_time": "2021-07-21T12:43:05.788Z"
   },
   {
    "duration": 29,
    "start_time": "2021-07-21T12:43:06.377Z"
   },
   {
    "duration": 161,
    "start_time": "2021-07-21T12:43:15.527Z"
   },
   {
    "duration": 132,
    "start_time": "2021-07-21T12:44:57.711Z"
   },
   {
    "duration": 100,
    "start_time": "2021-07-21T12:45:39.551Z"
   },
   {
    "duration": 116,
    "start_time": "2021-07-21T12:47:16.797Z"
   },
   {
    "duration": 117,
    "start_time": "2021-07-21T12:47:26.941Z"
   },
   {
    "duration": 1104,
    "start_time": "2021-07-21T12:47:55.693Z"
   },
   {
    "duration": 116,
    "start_time": "2021-07-21T12:50:41.239Z"
   },
   {
    "duration": 126,
    "start_time": "2021-07-21T12:51:04.524Z"
   },
   {
    "duration": 382,
    "start_time": "2021-07-21T12:51:49.573Z"
   },
   {
    "duration": 430,
    "start_time": "2021-07-21T12:53:15.757Z"
   },
   {
    "duration": 36,
    "start_time": "2021-07-21T12:54:25.553Z"
   },
   {
    "duration": 413,
    "start_time": "2021-07-21T12:54:56.764Z"
   },
   {
    "duration": 22,
    "start_time": "2021-07-21T12:55:12.603Z"
   },
   {
    "duration": 38,
    "start_time": "2021-07-21T12:55:17.866Z"
   },
   {
    "duration": 41,
    "start_time": "2021-07-21T12:55:27.578Z"
   },
   {
    "duration": 412,
    "start_time": "2021-07-21T12:55:36.880Z"
   },
   {
    "duration": 131,
    "start_time": "2021-07-21T12:56:27.920Z"
   },
   {
    "duration": 380,
    "start_time": "2021-07-21T12:56:39.892Z"
   },
   {
    "duration": 102,
    "start_time": "2021-07-21T12:58:06.386Z"
   },
   {
    "duration": 113,
    "start_time": "2021-07-21T12:58:31.825Z"
   },
   {
    "duration": 3750,
    "start_time": "2021-07-21T12:58:48.169Z"
   },
   {
    "duration": 2399,
    "start_time": "2021-07-21T12:58:51.922Z"
   },
   {
    "duration": 3,
    "start_time": "2021-07-21T12:58:54.324Z"
   },
   {
    "duration": 69,
    "start_time": "2021-07-21T12:58:54.330Z"
   },
   {
    "duration": 1176,
    "start_time": "2021-07-21T12:58:54.401Z"
   },
   {
    "duration": 1113,
    "start_time": "2021-07-21T12:58:55.579Z"
   },
   {
    "duration": 3,
    "start_time": "2021-07-21T12:58:56.695Z"
   },
   {
    "duration": 89,
    "start_time": "2021-07-21T12:58:56.702Z"
   },
   {
    "duration": 39,
    "start_time": "2021-07-21T12:58:56.793Z"
   },
   {
    "duration": 55,
    "start_time": "2021-07-21T12:58:56.835Z"
   },
   {
    "duration": 120,
    "start_time": "2021-07-21T12:59:08.806Z"
   },
   {
    "duration": 3424,
    "start_time": "2021-07-21T13:00:05.430Z"
   },
   {
    "duration": 2882,
    "start_time": "2021-07-21T13:00:08.857Z"
   },
   {
    "duration": 4,
    "start_time": "2021-07-21T13:00:11.743Z"
   },
   {
    "duration": 63,
    "start_time": "2021-07-21T13:00:11.765Z"
   },
   {
    "duration": 834,
    "start_time": "2021-07-21T13:00:11.831Z"
   },
   {
    "duration": 717,
    "start_time": "2021-07-21T13:00:12.668Z"
   },
   {
    "duration": 4,
    "start_time": "2021-07-21T13:00:13.388Z"
   },
   {
    "duration": 94,
    "start_time": "2021-07-21T13:00:13.395Z"
   },
   {
    "duration": 38,
    "start_time": "2021-07-21T13:00:13.492Z"
   },
   {
    "duration": 68,
    "start_time": "2021-07-21T13:00:13.533Z"
   },
   {
    "duration": 128,
    "start_time": "2021-07-21T13:00:13.604Z"
   },
   {
    "duration": 4,
    "start_time": "2021-07-21T13:00:13.734Z"
   },
   {
    "duration": 36,
    "start_time": "2021-07-21T13:00:13.741Z"
   },
   {
    "duration": 6,
    "start_time": "2021-07-21T13:00:13.779Z"
   },
   {
    "duration": 24,
    "start_time": "2021-07-21T13:00:13.788Z"
   },
   {
    "duration": 4540,
    "start_time": "2021-07-21T13:00:13.815Z"
   },
   {
    "duration": 3845,
    "start_time": "2021-07-21T13:00:26.575Z"
   },
   {
    "duration": 12,
    "start_time": "2021-07-21T13:00:30.423Z"
   },
   {
    "duration": 3418,
    "start_time": "2021-07-21T13:01:47.562Z"
   },
   {
    "duration": 2375,
    "start_time": "2021-07-21T13:01:50.983Z"
   },
   {
    "duration": 7,
    "start_time": "2021-07-21T13:01:53.363Z"
   },
   {
    "duration": 75,
    "start_time": "2021-07-21T13:01:53.375Z"
   },
   {
    "duration": 820,
    "start_time": "2021-07-21T13:01:53.453Z"
   },
   {
    "duration": 768,
    "start_time": "2021-07-21T13:01:54.277Z"
   },
   {
    "duration": 4,
    "start_time": "2021-07-21T13:01:55.047Z"
   },
   {
    "duration": 98,
    "start_time": "2021-07-21T13:01:55.054Z"
   },
   {
    "duration": 42,
    "start_time": "2021-07-21T13:02:03.751Z"
   },
   {
    "duration": 32,
    "start_time": "2021-07-21T13:02:07.447Z"
   },
   {
    "duration": 32,
    "start_time": "2021-07-21T13:02:30.495Z"
   },
   {
    "duration": 70,
    "start_time": "2021-07-21T13:02:59.121Z"
   },
   {
    "duration": 60,
    "start_time": "2021-07-21T13:03:37.655Z"
   },
   {
    "duration": 54,
    "start_time": "2021-07-21T13:04:05.816Z"
   },
   {
    "duration": 13,
    "start_time": "2021-07-21T13:05:00.351Z"
   },
   {
    "duration": 3259,
    "start_time": "2021-07-21T13:08:41.957Z"
   },
   {
    "duration": 2491,
    "start_time": "2021-07-21T13:08:45.219Z"
   },
   {
    "duration": 3,
    "start_time": "2021-07-21T13:08:47.713Z"
   },
   {
    "duration": 76,
    "start_time": "2021-07-21T13:08:47.719Z"
   },
   {
    "duration": 1062,
    "start_time": "2021-07-21T13:08:47.798Z"
   },
   {
    "duration": 1032,
    "start_time": "2021-07-21T13:08:48.863Z"
   },
   {
    "duration": 4,
    "start_time": "2021-07-21T13:08:49.897Z"
   },
   {
    "duration": 101,
    "start_time": "2021-07-21T13:08:49.905Z"
   },
   {
    "duration": 5,
    "start_time": "2021-07-21T13:09:02.069Z"
   },
   {
    "duration": 9103,
    "start_time": "2021-07-21T13:11:51.235Z"
   },
   {
    "duration": 8378,
    "start_time": "2021-07-21T13:12:32.450Z"
   },
   {
    "duration": 7,
    "start_time": "2021-07-21T13:12:56.173Z"
   },
   {
    "duration": 10,
    "start_time": "2021-07-21T13:13:12.715Z"
   },
   {
    "duration": 22,
    "start_time": "2021-07-21T13:14:24.332Z"
   },
   {
    "duration": 359,
    "start_time": "2021-07-21T13:14:52.802Z"
   },
   {
    "duration": 22,
    "start_time": "2021-07-21T13:15:02.281Z"
   },
   {
    "duration": 16,
    "start_time": "2021-07-21T13:15:17.826Z"
   },
   {
    "duration": 1583,
    "start_time": "2021-07-21T13:33:11.030Z"
   },
   {
    "duration": 342,
    "start_time": "2021-07-21T13:35:00.031Z"
   },
   {
    "duration": 125,
    "start_time": "2021-07-21T13:42:44.817Z"
   },
   {
    "duration": 114,
    "start_time": "2021-07-21T13:42:50.433Z"
   },
   {
    "duration": 257,
    "start_time": "2021-07-21T13:42:57.000Z"
   },
   {
    "duration": 13,
    "start_time": "2021-07-21T13:43:01.233Z"
   },
   {
    "duration": 6,
    "start_time": "2021-07-21T13:45:03.144Z"
   },
   {
    "duration": 6,
    "start_time": "2021-07-21T13:46:25.675Z"
   },
   {
    "duration": 144,
    "start_time": "2021-07-21T13:47:49.153Z"
   },
   {
    "duration": 943,
    "start_time": "2021-07-21T13:47:57.903Z"
   },
   {
    "duration": -152,
    "start_time": "2021-07-21T13:47:59.000Z"
   },
   {
    "duration": 6,
    "start_time": "2021-07-21T13:48:44.921Z"
   },
   {
    "duration": 746,
    "start_time": "2021-07-21T13:48:47.390Z"
   },
   {
    "duration": 6,
    "start_time": "2021-07-21T13:51:07.000Z"
   },
   {
    "duration": 32970,
    "start_time": "2021-07-21T13:51:13.447Z"
   },
   {
    "duration": 6,
    "start_time": "2021-07-21T13:53:37.446Z"
   },
   {
    "duration": 2744,
    "start_time": "2021-07-21T13:53:38.566Z"
   },
   {
    "duration": 121,
    "start_time": "2021-07-21T13:57:27.707Z"
   },
   {
    "duration": 49,
    "start_time": "2021-07-21T14:00:28.219Z"
   },
   {
    "duration": 118,
    "start_time": "2021-07-21T14:01:32.043Z"
   },
   {
    "duration": 101,
    "start_time": "2021-07-21T14:01:36.602Z"
   },
   {
    "duration": 30,
    "start_time": "2021-07-21T14:01:41.777Z"
   },
   {
    "duration": 29,
    "start_time": "2021-07-21T14:03:04.466Z"
   },
   {
    "duration": 32,
    "start_time": "2021-07-21T14:03:14.642Z"
   },
   {
    "duration": 31,
    "start_time": "2021-07-21T14:04:24.041Z"
   },
   {
    "duration": 41,
    "start_time": "2021-07-21T14:04:51.977Z"
   },
   {
    "duration": 31,
    "start_time": "2021-07-21T14:05:04.002Z"
   },
   {
    "duration": 32,
    "start_time": "2021-07-21T14:05:21.079Z"
   },
   {
    "duration": 346,
    "start_time": "2021-07-21T14:07:35.960Z"
   },
   {
    "duration": 13,
    "start_time": "2021-07-21T14:07:41.487Z"
   },
   {
    "duration": 1144,
    "start_time": "2021-07-21T14:07:50.792Z"
   },
   {
    "duration": 422,
    "start_time": "2021-07-21T14:08:24.089Z"
   },
   {
    "duration": 473,
    "start_time": "2021-07-21T14:11:07.471Z"
   },
   {
    "duration": 6,
    "start_time": "2021-07-21T14:11:26.223Z"
   },
   {
    "duration": 1121,
    "start_time": "2021-07-21T14:11:33.039Z"
   },
   {
    "duration": 1168,
    "start_time": "2021-07-21T14:12:07.686Z"
   },
   {
    "duration": 946,
    "start_time": "2021-07-21T14:13:06.985Z"
   },
   {
    "duration": 605,
    "start_time": "2021-07-21T14:15:29.559Z"
   },
   {
    "duration": 516,
    "start_time": "2021-07-21T14:15:39.078Z"
   },
   {
    "duration": 30,
    "start_time": "2021-07-21T14:16:04.181Z"
   },
   {
    "duration": 35,
    "start_time": "2021-07-21T14:16:46.245Z"
   },
   {
    "duration": 34,
    "start_time": "2021-07-21T14:16:57.245Z"
   },
   {
    "duration": 463,
    "start_time": "2021-07-21T14:17:40.279Z"
   },
   {
    "duration": 962,
    "start_time": "2021-07-21T14:18:16.231Z"
   },
   {
    "duration": 13,
    "start_time": "2021-07-21T14:22:44.107Z"
   },
   {
    "duration": 1093,
    "start_time": "2021-07-21T14:23:18.956Z"
   },
   {
    "duration": 30,
    "start_time": "2021-07-21T14:24:38.730Z"
   },
   {
    "duration": 32,
    "start_time": "2021-07-21T14:24:47.402Z"
   },
   {
    "duration": 305,
    "start_time": "2021-07-21T14:28:31.922Z"
   },
   {
    "duration": 297,
    "start_time": "2021-07-21T14:28:42.370Z"
   },
   {
    "duration": 5,
    "start_time": "2021-07-21T14:29:10.226Z"
   },
   {
    "duration": 1233,
    "start_time": "2021-07-21T14:29:23.449Z"
   },
   {
    "duration": 323,
    "start_time": "2021-07-21T14:29:26.828Z"
   },
   {
    "duration": 5,
    "start_time": "2021-07-21T14:29:31.920Z"
   },
   {
    "duration": 1613,
    "start_time": "2021-07-21T14:32:41.223Z"
   },
   {
    "duration": 13,
    "start_time": "2021-07-21T14:32:57.721Z"
   },
   {
    "duration": 589,
    "start_time": "2021-07-21T14:33:01.833Z"
   },
   {
    "duration": 4,
    "start_time": "2021-07-21T14:35:18.749Z"
   },
   {
    "duration": 147,
    "start_time": "2021-07-21T15:30:15.068Z"
   },
   {
    "duration": 6304,
    "start_time": "2021-07-21T15:30:48.131Z"
   },
   {
    "duration": 77,
    "start_time": "2021-07-21T15:31:32.842Z"
   },
   {
    "duration": 5933,
    "start_time": "2021-07-21T15:32:10.131Z"
   },
   {
    "duration": 5866,
    "start_time": "2021-07-21T15:32:26.394Z"
   },
   {
    "duration": 20,
    "start_time": "2021-07-21T15:32:56.162Z"
   },
   {
    "duration": 3386,
    "start_time": "2021-07-21T15:33:19.497Z"
   },
   {
    "duration": 2267,
    "start_time": "2021-07-21T15:33:22.887Z"
   },
   {
    "duration": 7,
    "start_time": "2021-07-21T15:33:25.157Z"
   },
   {
    "duration": 78,
    "start_time": "2021-07-21T15:33:25.172Z"
   },
   {
    "duration": 1337,
    "start_time": "2021-07-21T15:33:25.253Z"
   },
   {
    "duration": 1071,
    "start_time": "2021-07-21T15:33:26.593Z"
   },
   {
    "duration": 5,
    "start_time": "2021-07-21T15:33:27.667Z"
   },
   {
    "duration": 97,
    "start_time": "2021-07-21T15:33:27.674Z"
   },
   {
    "duration": 9,
    "start_time": "2021-07-21T15:33:32.667Z"
   },
   {
    "duration": 47,
    "start_time": "2021-07-21T15:34:07.691Z"
   },
   {
    "duration": 3814,
    "start_time": "2021-07-21T15:35:05.227Z"
   },
   {
    "duration": 2450,
    "start_time": "2021-07-21T15:35:09.044Z"
   },
   {
    "duration": 5,
    "start_time": "2021-07-21T15:35:11.498Z"
   },
   {
    "duration": 69,
    "start_time": "2021-07-21T15:35:11.506Z"
   },
   {
    "duration": 1024,
    "start_time": "2021-07-21T15:35:11.577Z"
   },
   {
    "duration": 629,
    "start_time": "2021-07-21T15:35:12.604Z"
   },
   {
    "duration": 4,
    "start_time": "2021-07-21T15:35:13.236Z"
   },
   {
    "duration": 83,
    "start_time": "2021-07-21T15:35:13.243Z"
   },
   {
    "duration": 610,
    "start_time": "2021-07-21T15:35:20.428Z"
   },
   {
    "duration": 49,
    "start_time": "2021-07-21T15:35:28.993Z"
   },
   {
    "duration": 3241,
    "start_time": "2021-07-21T15:36:27.062Z"
   },
   {
    "duration": 2338,
    "start_time": "2021-07-21T15:36:30.306Z"
   },
   {
    "duration": 3,
    "start_time": "2021-07-21T15:36:32.648Z"
   },
   {
    "duration": 88,
    "start_time": "2021-07-21T15:36:32.654Z"
   },
   {
    "duration": 1011,
    "start_time": "2021-07-21T15:36:32.745Z"
   },
   {
    "duration": 577,
    "start_time": "2021-07-21T15:36:33.759Z"
   },
   {
    "duration": 4,
    "start_time": "2021-07-21T15:36:34.338Z"
   },
   {
    "duration": 93,
    "start_time": "2021-07-21T15:36:34.346Z"
   },
   {
    "duration": 605,
    "start_time": "2021-07-21T15:36:34.462Z"
   },
   {
    "duration": 3133,
    "start_time": "2021-07-21T15:37:37.795Z"
   },
   {
    "duration": 2314,
    "start_time": "2021-07-21T15:37:40.931Z"
   },
   {
    "duration": 15,
    "start_time": "2021-07-21T15:37:43.248Z"
   },
   {
    "duration": 62,
    "start_time": "2021-07-21T15:37:43.265Z"
   },
   {
    "duration": 874,
    "start_time": "2021-07-21T15:37:43.330Z"
   },
   {
    "duration": 578,
    "start_time": "2021-07-21T15:37:44.206Z"
   },
   {
    "duration": 4,
    "start_time": "2021-07-21T15:37:44.786Z"
   },
   {
    "duration": 98,
    "start_time": "2021-07-21T15:37:44.793Z"
   },
   {
    "duration": 88,
    "start_time": "2021-07-21T15:37:44.895Z"
   },
   {
    "duration": 11,
    "start_time": "2021-07-21T15:37:49.064Z"
   },
   {
    "duration": 13,
    "start_time": "2021-07-21T15:37:49.274Z"
   },
   {
    "duration": 6,
    "start_time": "2021-07-21T15:37:49.474Z"
   },
   {
    "duration": 34,
    "start_time": "2021-07-21T15:37:54.281Z"
   },
   {
    "duration": 35,
    "start_time": "2021-07-21T15:37:54.857Z"
   },
   {
    "duration": 398,
    "start_time": "2021-07-21T15:37:58.538Z"
   },
   {
    "duration": 26,
    "start_time": "2021-07-21T15:37:58.940Z"
   },
   {
    "duration": 19,
    "start_time": "2021-07-21T15:38:13.200Z"
   },
   {
    "duration": 6,
    "start_time": "2021-07-21T15:38:25.866Z"
   },
   {
    "duration": 4246,
    "start_time": "2021-07-21T15:38:28.090Z"
   },
   {
    "duration": 7,
    "start_time": "2021-07-21T15:40:05.799Z"
   },
   {
    "duration": 6674,
    "start_time": "2021-07-21T15:40:07.408Z"
   },
   {
    "duration": 9,
    "start_time": "2021-07-21T15:41:05.720Z"
   },
   {
    "duration": 10050,
    "start_time": "2021-07-21T15:41:06.665Z"
   },
   {
    "duration": 9,
    "start_time": "2021-07-21T15:41:18.343Z"
   },
   {
    "duration": 28642,
    "start_time": "2021-07-21T15:41:18.961Z"
   },
   {
    "duration": 3154,
    "start_time": "2021-07-21T15:41:58.047Z"
   },
   {
    "duration": 3104,
    "start_time": "2021-07-21T15:42:01.204Z"
   },
   {
    "duration": 5,
    "start_time": "2021-07-21T15:42:04.311Z"
   },
   {
    "duration": 89,
    "start_time": "2021-07-21T15:42:04.319Z"
   },
   {
    "duration": 969,
    "start_time": "2021-07-21T15:42:04.411Z"
   },
   {
    "duration": 730,
    "start_time": "2021-07-21T15:42:05.383Z"
   },
   {
    "duration": 5,
    "start_time": "2021-07-21T15:42:06.116Z"
   },
   {
    "duration": 137,
    "start_time": "2021-07-21T15:42:06.126Z"
   },
   {
    "duration": 65,
    "start_time": "2021-07-21T15:42:06.267Z"
   },
   {
    "duration": 31,
    "start_time": "2021-07-21T15:42:06.335Z"
   },
   {
    "duration": 13,
    "start_time": "2021-07-21T15:42:06.369Z"
   },
   {
    "duration": 33,
    "start_time": "2021-07-21T15:42:06.384Z"
   },
   {
    "duration": 42,
    "start_time": "2021-07-21T15:42:06.419Z"
   },
   {
    "duration": 42,
    "start_time": "2021-07-21T15:42:06.463Z"
   },
   {
    "duration": 266,
    "start_time": "2021-07-21T15:42:06.508Z"
   },
   {
    "duration": 14,
    "start_time": "2021-07-21T15:42:15.974Z"
   },
   {
    "duration": 6,
    "start_time": "2021-07-21T15:42:16.391Z"
   },
   {
    "duration": 25430,
    "start_time": "2021-07-21T15:42:23.619Z"
   },
   {
    "duration": 13,
    "start_time": "2021-07-21T15:42:53.071Z"
   },
   {
    "duration": 14,
    "start_time": "2021-07-21T15:43:00.431Z"
   },
   {
    "duration": 61,
    "start_time": "2021-07-21T15:43:51.350Z"
   },
   {
    "duration": 7,
    "start_time": "2021-07-21T15:43:56.007Z"
   },
   {
    "duration": 11,
    "start_time": "2021-07-21T15:43:56.191Z"
   },
   {
    "duration": 11,
    "start_time": "2021-07-21T15:43:56.415Z"
   },
   {
    "duration": 13,
    "start_time": "2021-07-21T15:44:09.176Z"
   },
   {
    "duration": 1058,
    "start_time": "2021-07-21T15:44:10.743Z"
   },
   {
    "duration": 630,
    "start_time": "2021-07-21T15:44:15.719Z"
   },
   {
    "duration": 6,
    "start_time": "2021-07-21T15:44:16.922Z"
   },
   {
    "duration": 749,
    "start_time": "2021-07-21T15:44:17.924Z"
   },
   {
    "duration": 6,
    "start_time": "2021-07-21T15:44:27.854Z"
   },
   {
    "duration": 32,
    "start_time": "2021-07-21T15:44:30.135Z"
   },
   {
    "duration": 450,
    "start_time": "2021-07-21T15:44:31.455Z"
   },
   {
    "duration": 657,
    "start_time": "2021-07-21T15:44:46.358Z"
   },
   {
    "duration": 22,
    "start_time": "2021-07-21T15:44:50.421Z"
   },
   {
    "duration": 433,
    "start_time": "2021-07-21T15:44:50.639Z"
   },
   {
    "duration": 165,
    "start_time": "2021-07-21T15:47:08.028Z"
   },
   {
    "duration": 13,
    "start_time": "2021-07-21T15:47:23.709Z"
   },
   {
    "duration": 18,
    "start_time": "2021-07-21T15:47:24.198Z"
   },
   {
    "duration": 15,
    "start_time": "2021-07-21T15:47:24.710Z"
   },
   {
    "duration": 18,
    "start_time": "2021-07-21T15:47:47.822Z"
   },
   {
    "duration": 6,
    "start_time": "2021-07-21T15:47:48.005Z"
   },
   {
    "duration": 36,
    "start_time": "2021-07-21T15:47:48.213Z"
   },
   {
    "duration": 5,
    "start_time": "2021-07-21T15:47:48.397Z"
   },
   {
    "duration": 15,
    "start_time": "2021-07-21T15:47:48.614Z"
   },
   {
    "duration": 895,
    "start_time": "2021-07-21T15:47:54.214Z"
   },
   {
    "duration": 387,
    "start_time": "2021-07-23T14:30:00.399Z"
   },
   {
    "duration": 537,
    "start_time": "2021-07-23T14:30:04.632Z"
   },
   {
    "duration": 7,
    "start_time": "2021-07-23T14:30:05.959Z"
   },
   {
    "duration": 393,
    "start_time": "2021-07-23T14:30:06.232Z"
   },
   {
    "duration": 4,
    "start_time": "2021-07-23T14:30:07.416Z"
   },
   {
    "duration": 24,
    "start_time": "2021-07-23T14:30:07.656Z"
   },
   {
    "duration": 547,
    "start_time": "2021-07-23T14:30:07.921Z"
   },
   {
    "duration": 92,
    "start_time": "2021-07-23T14:38:24.294Z"
   },
   {
    "duration": 99,
    "start_time": "2021-07-23T14:39:47.494Z"
   },
   {
    "duration": 4,
    "start_time": "2021-07-23T14:39:52.123Z"
   },
   {
    "duration": 92,
    "start_time": "2021-07-23T14:40:18.963Z"
   },
   {
    "duration": 12,
    "start_time": "2021-07-23T14:42:17.159Z"
   },
   {
    "duration": 376,
    "start_time": "2021-07-23T14:43:01.862Z"
   },
   {
    "duration": 322,
    "start_time": "2021-07-23T14:43:05.532Z"
   },
   {
    "duration": 343,
    "start_time": "2021-07-23T14:44:37.463Z"
   },
   {
    "duration": -150,
    "start_time": "2021-07-23T14:44:37.958Z"
   },
   {
    "duration": 354,
    "start_time": "2021-07-23T14:44:37.905Z"
   },
   {
    "duration": -151,
    "start_time": "2021-07-23T14:44:38.412Z"
   },
   {
    "duration": 3566,
    "start_time": "2021-07-23T14:44:46.091Z"
   },
   {
    "duration": 2235,
    "start_time": "2021-07-23T14:44:49.660Z"
   },
   {
    "duration": 4,
    "start_time": "2021-07-23T14:44:51.898Z"
   },
   {
    "duration": 65,
    "start_time": "2021-07-23T14:44:51.904Z"
   },
   {
    "duration": 1391,
    "start_time": "2021-07-23T14:44:51.971Z"
   },
   {
    "duration": 1058,
    "start_time": "2021-07-23T14:44:53.365Z"
   },
   {
    "duration": 3,
    "start_time": "2021-07-23T14:44:54.425Z"
   },
   {
    "duration": 82,
    "start_time": "2021-07-23T14:44:54.432Z"
   },
   {
    "duration": 70,
    "start_time": "2021-07-23T14:44:54.517Z"
   },
   {
    "duration": 8,
    "start_time": "2021-07-23T14:44:54.590Z"
   },
   {
    "duration": 14,
    "start_time": "2021-07-23T14:44:54.600Z"
   },
   {
    "duration": 11,
    "start_time": "2021-07-23T14:44:54.616Z"
   },
   {
    "duration": 23,
    "start_time": "2021-07-23T14:44:54.630Z"
   },
   {
    "duration": 21,
    "start_time": "2021-07-23T14:44:54.682Z"
   },
   {
    "duration": 252,
    "start_time": "2021-07-23T14:44:54.706Z"
   },
   {
    "duration": 24,
    "start_time": "2021-07-23T14:44:54.960Z"
   },
   {
    "duration": 7,
    "start_time": "2021-07-23T14:44:54.988Z"
   },
   {
    "duration": 24821,
    "start_time": "2021-07-23T14:44:55.234Z"
   },
   {
    "duration": 22,
    "start_time": "2021-07-23T14:45:20.059Z"
   },
   {
    "duration": 13,
    "start_time": "2021-07-23T14:45:20.084Z"
   },
   {
    "duration": 54,
    "start_time": "2021-07-23T14:45:20.100Z"
   },
   {
    "duration": 25,
    "start_time": "2021-07-23T14:45:20.157Z"
   },
   {
    "duration": 17,
    "start_time": "2021-07-23T14:45:20.185Z"
   },
   {
    "duration": 10,
    "start_time": "2021-07-23T14:45:20.204Z"
   },
   {
    "duration": 13,
    "start_time": "2021-07-23T14:45:20.217Z"
   },
   {
    "duration": 989,
    "start_time": "2021-07-23T14:45:20.233Z"
   },
   {
    "duration": 662,
    "start_time": "2021-07-23T14:45:21.224Z"
   },
   {
    "duration": 6,
    "start_time": "2021-07-23T14:45:21.889Z"
   },
   {
    "duration": 421,
    "start_time": "2021-07-23T14:45:21.898Z"
   },
   {
    "duration": 5,
    "start_time": "2021-07-23T14:45:22.321Z"
   },
   {
    "duration": 54,
    "start_time": "2021-07-23T14:45:22.328Z"
   },
   {
    "duration": 1081,
    "start_time": "2021-07-23T14:45:22.384Z"
   },
   {
    "duration": -149,
    "start_time": "2021-07-23T14:45:23.617Z"
   },
   {
    "duration": -161,
    "start_time": "2021-07-23T14:45:23.630Z"
   },
   {
    "duration": -181,
    "start_time": "2021-07-23T14:45:23.651Z"
   },
   {
    "duration": -190,
    "start_time": "2021-07-23T14:45:23.662Z"
   },
   {
    "duration": -193,
    "start_time": "2021-07-23T14:45:23.666Z"
   },
   {
    "duration": -204,
    "start_time": "2021-07-23T14:45:23.679Z"
   },
   {
    "duration": 366,
    "start_time": "2021-07-23T14:46:56.178Z"
   },
   {
    "duration": 397,
    "start_time": "2021-07-23T14:47:06.298Z"
   },
   {
    "duration": 13,
    "start_time": "2021-07-23T14:47:49.610Z"
   },
   {
    "duration": 1221,
    "start_time": "2021-07-23T14:48:02.792Z"
   },
   {
    "duration": 1019,
    "start_time": "2021-07-23T14:48:25.099Z"
   },
   {
    "duration": 571,
    "start_time": "2021-07-23T14:48:30.082Z"
   },
   {
    "duration": 395,
    "start_time": "2021-07-23T14:48:48.192Z"
   },
   {
    "duration": 21,
    "start_time": "2021-07-23T14:48:48.936Z"
   },
   {
    "duration": 401,
    "start_time": "2021-07-23T14:48:49.210Z"
   },
   {
    "duration": 13,
    "start_time": "2021-07-23T14:48:50.111Z"
   },
   {
    "duration": 17,
    "start_time": "2021-07-23T14:48:50.377Z"
   },
   {
    "duration": 15,
    "start_time": "2021-07-23T14:48:50.625Z"
   },
   {
    "duration": 17,
    "start_time": "2021-07-23T14:48:51.778Z"
   },
   {
    "duration": 5,
    "start_time": "2021-07-23T14:48:52.001Z"
   },
   {
    "duration": 47,
    "start_time": "2021-07-23T14:48:52.241Z"
   },
   {
    "duration": 5,
    "start_time": "2021-07-23T14:48:52.457Z"
   },
   {
    "duration": 15,
    "start_time": "2021-07-23T14:48:52.698Z"
   },
   {
    "duration": 597,
    "start_time": "2021-07-23T14:48:56.105Z"
   },
   {
    "duration": 13,
    "start_time": "2021-07-23T14:50:11.521Z"
   },
   {
    "duration": 1069,
    "start_time": "2021-07-23T14:50:15.979Z"
   },
   {
    "duration": 14,
    "start_time": "2021-07-23T14:50:32.689Z"
   },
   {
    "duration": 573,
    "start_time": "2021-07-23T14:50:37.257Z"
   },
   {
    "duration": 661,
    "start_time": "2021-07-23T14:50:52.284Z"
   },
   {
    "duration": 7924,
    "start_time": "2021-07-23T14:52:17.697Z"
   },
   {
    "duration": 5,
    "start_time": "2021-07-23T14:52:43.936Z"
   },
   {
    "duration": 670,
    "start_time": "2021-07-23T14:52:50.833Z"
   },
   {
    "duration": 13,
    "start_time": "2021-07-23T14:53:42.249Z"
   },
   {
    "duration": 603,
    "start_time": "2021-07-23T14:53:46.936Z"
   },
   {
    "duration": 12,
    "start_time": "2021-07-23T14:54:19.177Z"
   },
   {
    "duration": 544,
    "start_time": "2021-07-23T14:54:22.912Z"
   },
   {
    "duration": 13,
    "start_time": "2021-07-23T14:54:48.289Z"
   },
   {
    "duration": 877,
    "start_time": "2021-07-23T14:54:59.009Z"
   },
   {
    "duration": 8829,
    "start_time": "2021-07-30T12:46:34.495Z"
   },
   {
    "duration": 2165,
    "start_time": "2021-07-30T12:46:45.994Z"
   },
   {
    "duration": 4,
    "start_time": "2021-07-30T12:46:49.144Z"
   },
   {
    "duration": 56,
    "start_time": "2021-07-30T12:46:49.417Z"
   },
   {
    "duration": 1868,
    "start_time": "2021-07-30T12:46:49.953Z"
   },
   {
    "duration": 1370,
    "start_time": "2021-07-30T12:46:51.823Z"
   },
   {
    "duration": 4,
    "start_time": "2021-07-30T12:46:53.195Z"
   },
   {
    "duration": 77,
    "start_time": "2021-07-30T12:46:53.202Z"
   },
   {
    "duration": 47,
    "start_time": "2021-07-30T12:46:53.281Z"
   },
   {
    "duration": 8,
    "start_time": "2021-07-30T12:46:56.524Z"
   },
   {
    "duration": 9,
    "start_time": "2021-07-30T12:46:56.737Z"
   },
   {
    "duration": 5,
    "start_time": "2021-07-30T12:46:56.968Z"
   },
   {
    "duration": 20,
    "start_time": "2021-07-30T12:47:00.401Z"
   },
   {
    "duration": 21,
    "start_time": "2021-07-30T12:47:00.600Z"
   },
   {
    "duration": 231,
    "start_time": "2021-07-30T12:47:01.401Z"
   },
   {
    "duration": 13,
    "start_time": "2021-07-30T12:47:04.992Z"
   },
   {
    "duration": 6,
    "start_time": "2021-07-30T12:47:05.929Z"
   },
   {
    "duration": 23324,
    "start_time": "2021-07-30T12:47:13.456Z"
   },
   {
    "duration": 13,
    "start_time": "2021-07-30T12:47:36.783Z"
   },
   {
    "duration": 16,
    "start_time": "2021-07-30T12:47:36.800Z"
   },
   {
    "duration": 78,
    "start_time": "2021-07-30T12:47:36.820Z"
   },
   {
    "duration": 7,
    "start_time": "2021-07-30T12:47:36.900Z"
   },
   {
    "duration": 15,
    "start_time": "2021-07-30T12:47:36.910Z"
   },
   {
    "duration": 35,
    "start_time": "2021-07-30T12:47:36.927Z"
   },
   {
    "duration": 13,
    "start_time": "2021-07-30T12:47:36.967Z"
   },
   {
    "duration": 977,
    "start_time": "2021-07-30T12:47:36.983Z"
   },
   {
    "duration": 668,
    "start_time": "2021-07-30T12:47:37.963Z"
   },
   {
    "duration": 6,
    "start_time": "2021-07-30T12:47:38.633Z"
   },
   {
    "duration": 438,
    "start_time": "2021-07-30T12:47:38.641Z"
   },
   {
    "duration": 5,
    "start_time": "2021-07-30T12:47:39.081Z"
   },
   {
    "duration": 38,
    "start_time": "2021-07-30T12:47:39.089Z"
   },
   {
    "duration": 1143,
    "start_time": "2021-07-30T12:47:39.130Z"
   },
   {
    "duration": 383,
    "start_time": "2021-07-30T12:48:22.126Z"
   },
   {
    "duration": 21,
    "start_time": "2021-07-30T12:48:24.672Z"
   },
   {
    "duration": 368,
    "start_time": "2021-07-30T12:48:24.905Z"
   },
   {
    "duration": 13,
    "start_time": "2021-07-30T12:48:38.119Z"
   },
   {
    "duration": 17,
    "start_time": "2021-07-30T12:48:38.336Z"
   },
   {
    "duration": 15,
    "start_time": "2021-07-30T12:48:38.536Z"
   },
   {
    "duration": 18,
    "start_time": "2021-07-30T12:48:40.848Z"
   },
   {
    "duration": 6,
    "start_time": "2021-07-30T12:48:41.103Z"
   },
   {
    "duration": 35,
    "start_time": "2021-07-30T12:48:41.832Z"
   },
   {
    "duration": 6,
    "start_time": "2021-07-30T12:48:42.679Z"
   },
   {
    "duration": 14,
    "start_time": "2021-07-30T12:48:42.952Z"
   },
   {
    "duration": 606,
    "start_time": "2021-07-30T12:48:46.400Z"
   },
   {
    "duration": 381,
    "start_time": "2021-07-30T12:49:15.575Z"
   },
   {
    "duration": 7562,
    "start_time": "2021-12-08T18:18:06.767Z"
   },
   {
    "duration": 1930,
    "start_time": "2021-12-08T18:18:14.331Z"
   },
   {
    "duration": 3,
    "start_time": "2021-12-08T18:18:16.263Z"
   },
   {
    "duration": 67,
    "start_time": "2021-12-08T18:18:16.268Z"
   },
   {
    "duration": 1282,
    "start_time": "2021-12-08T18:18:16.338Z"
   },
   {
    "duration": 1140,
    "start_time": "2021-12-08T18:18:17.622Z"
   },
   {
    "duration": 3,
    "start_time": "2021-12-08T18:18:18.764Z"
   },
   {
    "duration": 71,
    "start_time": "2021-12-08T18:18:18.769Z"
   },
   {
    "duration": 33,
    "start_time": "2021-12-08T18:18:18.841Z"
   },
   {
    "duration": 30,
    "start_time": "2021-12-08T18:18:18.876Z"
   },
   {
    "duration": 8,
    "start_time": "2021-12-08T18:18:18.908Z"
   },
   {
    "duration": 6,
    "start_time": "2021-12-08T18:18:18.917Z"
   },
   {
    "duration": 21,
    "start_time": "2021-12-08T18:18:27.912Z"
   },
   {
    "duration": 15,
    "start_time": "2021-12-08T18:18:29.430Z"
   },
   {
    "duration": 208,
    "start_time": "2021-12-08T18:18:40.956Z"
   },
   {
    "duration": 9,
    "start_time": "2021-12-08T18:18:41.166Z"
   },
   {
    "duration": 5,
    "start_time": "2021-12-08T18:18:42.166Z"
   },
   {
    "duration": 19528,
    "start_time": "2021-12-08T18:18:45.319Z"
   },
   {
    "duration": 12,
    "start_time": "2021-12-08T18:19:04.849Z"
   },
   {
    "duration": 11,
    "start_time": "2021-12-08T18:19:04.863Z"
   },
   {
    "duration": 32,
    "start_time": "2021-12-08T18:19:04.877Z"
   },
   {
    "duration": 4504,
    "start_time": "2022-12-07T13:52:51.506Z"
   },
   {
    "duration": 1925,
    "start_time": "2022-12-07T13:52:56.012Z"
   },
   {
    "duration": 4,
    "start_time": "2022-12-07T13:52:57.939Z"
   },
   {
    "duration": 146,
    "start_time": "2022-12-07T13:52:57.946Z"
   },
   {
    "duration": 1314,
    "start_time": "2022-12-07T13:52:58.095Z"
   },
   {
    "duration": 1088,
    "start_time": "2022-12-07T13:52:59.411Z"
   },
   {
    "duration": 3,
    "start_time": "2022-12-07T13:53:00.501Z"
   },
   {
    "duration": 117,
    "start_time": "2022-12-07T13:53:00.505Z"
   },
   {
    "duration": 36,
    "start_time": "2022-12-07T13:53:00.624Z"
   },
   {
    "duration": 7,
    "start_time": "2022-12-07T13:53:00.681Z"
   },
   {
    "duration": 24,
    "start_time": "2022-12-07T13:53:00.691Z"
   },
   {
    "duration": 21,
    "start_time": "2022-12-07T13:53:00.716Z"
   },
   {
    "duration": 18,
    "start_time": "2022-12-07T13:53:00.739Z"
   },
   {
    "duration": 37,
    "start_time": "2022-12-07T13:53:00.759Z"
   },
   {
    "duration": 309,
    "start_time": "2022-12-07T13:53:00.798Z"
   },
   {
    "duration": 11,
    "start_time": "2022-12-07T13:53:01.108Z"
   },
   {
    "duration": 69,
    "start_time": "2022-12-07T13:53:01.121Z"
   },
   {
    "duration": 8582,
    "start_time": "2022-12-07T13:53:01.193Z"
   },
   {
    "duration": 19,
    "start_time": "2022-12-07T13:53:09.778Z"
   },
   {
    "duration": 17,
    "start_time": "2022-12-07T13:53:09.799Z"
   },
   {
    "duration": 7,
    "start_time": "2022-12-07T13:53:09.818Z"
   },
   {
    "duration": 31,
    "start_time": "2022-12-07T13:53:09.827Z"
   },
   {
    "duration": 5,
    "start_time": "2022-12-07T13:53:09.860Z"
   },
   {
    "duration": 17,
    "start_time": "2022-12-07T13:53:09.867Z"
   },
   {
    "duration": 26,
    "start_time": "2022-12-07T13:53:09.885Z"
   },
   {
    "duration": 10,
    "start_time": "2022-12-07T13:53:09.913Z"
   },
   {
    "duration": 470,
    "start_time": "2022-12-07T13:53:09.924Z"
   },
   {
    "duration": 114,
    "start_time": "2022-12-07T13:53:10.398Z"
   },
   {
    "duration": 5,
    "start_time": "2022-12-07T13:53:10.514Z"
   },
   {
    "duration": 108,
    "start_time": "2022-12-07T13:53:10.521Z"
   },
   {
    "duration": 4,
    "start_time": "2022-12-07T13:53:10.630Z"
   },
   {
    "duration": 21,
    "start_time": "2022-12-07T13:53:10.636Z"
   },
   {
    "duration": 99,
    "start_time": "2022-12-07T13:53:10.659Z"
   },
   {
    "duration": 64,
    "start_time": "2022-12-07T13:53:10.760Z"
   },
   {
    "duration": 15,
    "start_time": "2022-12-07T13:53:10.826Z"
   },
   {
    "duration": 67,
    "start_time": "2022-12-07T13:53:10.843Z"
   },
   {
    "duration": 10,
    "start_time": "2022-12-07T13:53:10.912Z"
   },
   {
    "duration": 11,
    "start_time": "2022-12-07T13:53:10.924Z"
   },
   {
    "duration": 18,
    "start_time": "2022-12-07T13:53:10.937Z"
   },
   {
    "duration": 15,
    "start_time": "2022-12-07T13:53:10.983Z"
   },
   {
    "duration": 4,
    "start_time": "2022-12-07T13:53:10.999Z"
   },
   {
    "duration": 26,
    "start_time": "2022-12-07T13:53:11.005Z"
   },
   {
    "duration": 4,
    "start_time": "2022-12-07T13:53:11.033Z"
   },
   {
    "duration": 28,
    "start_time": "2022-12-07T13:53:11.039Z"
   },
   {
    "duration": 120,
    "start_time": "2022-12-07T13:53:11.068Z"
   },
   {
    "duration": 151,
    "start_time": "2022-12-07T13:53:11.192Z"
   }
  ],
  "kernelspec": {
   "display_name": "Python 3 (ipykernel)",
   "language": "python",
   "name": "python3"
  },
  "language_info": {
   "codemirror_mode": {
    "name": "ipython",
    "version": 3
   },
   "file_extension": ".py",
   "mimetype": "text/x-python",
   "name": "python",
   "nbconvert_exporter": "python",
   "pygments_lexer": "ipython3",
   "version": "3.11.1"
  },
  "toc": {
   "base_numbering": 1,
   "nav_menu": {},
   "number_sections": true,
   "sideBar": true,
   "skip_h1_title": true,
   "title_cell": "Содержание",
   "title_sidebar": "Содержание",
   "toc_cell": true,
   "toc_position": {
    "height": "calc(100% - 180px)",
    "left": "10px",
    "top": "150px",
    "width": "165px"
   },
   "toc_section_display": true,
   "toc_window_display": false
  }
 },
 "nbformat": 4,
 "nbformat_minor": 4
}
