{
 "cells": [
  {
   "cell_type": "markdown",
   "metadata": {},
   "source": [
    "# Оценка A/B-теста\n",
    "* корректность проведения\n",
    "  - пересечение тестовой аудитории с конкурирующим тестом\n",
    "  - совпадение теста и маркетинговых событий, другие проблемы временных границ теста\n",
    "* результат"
   ]
  },
  {
   "cell_type": "markdown",
   "metadata": {
    "toc": true
   },
   "source": [
    "<h1>Содержание<span class=\"tocSkip\"></span></h1>\n",
    "<div class=\"toc\"><ul class=\"toc-item\"><li><span><a href=\"#Загрузка-данных\" data-toc-modified-id=\"Загрузка-данных-1\"><span class=\"toc-item-num\">1&nbsp;&nbsp;</span>Загрузка данных</a></span></li><li><span><a href=\"#Изучение-данных\" data-toc-modified-id=\"Изучение-данных-2\"><span class=\"toc-item-num\">2&nbsp;&nbsp;</span>Изучение данных</a></span></li><li><span><a href=\"#Предобработка-данных\" data-toc-modified-id=\"Предобработка-данных-3\"><span class=\"toc-item-num\">3&nbsp;&nbsp;</span>Предобработка данных</a></span></li><li><span><a href=\"#Исследовательский-анализ-данных\" data-toc-modified-id=\"Исследовательский-анализ-данных-4\"><span class=\"toc-item-num\">4&nbsp;&nbsp;</span>Исследовательский анализ данных</a></span><ul class=\"toc-item\"><li><span><a href=\"#Конкурирующий-тест\" data-toc-modified-id=\"Конкурирующий-тест-4.1\"><span class=\"toc-item-num\">4.1&nbsp;&nbsp;</span>Конкурирующий тест</a></span></li><li><span><a href=\"#Одновременные-мероприятия\" data-toc-modified-id=\"Одновременные-мероприятия-4.2\"><span class=\"toc-item-num\">4.2&nbsp;&nbsp;</span>Одновременные мероприятия</a></span></li><li><span><a href=\"#География-аудитории\" data-toc-modified-id=\"География-аудитории-4.3\"><span class=\"toc-item-num\">4.3&nbsp;&nbsp;</span>География аудитории</a></span></li><li><span><a href=\"#Распределение-по-группам\" data-toc-modified-id=\"Распределение-по-группам-4.4\"><span class=\"toc-item-num\">4.4&nbsp;&nbsp;</span>Распределение по группам</a></span><ul class=\"toc-item\"><li><span><a href=\"#Состав-групп\" data-toc-modified-id=\"Состав-групп-4.4.1\"><span class=\"toc-item-num\">4.4.1&nbsp;&nbsp;</span>Состав групп</a></span></li><li><span><a href=\"#Распеделение-количества-событий\" data-toc-modified-id=\"Распеделение-количества-событий-4.4.2\"><span class=\"toc-item-num\">4.4.2&nbsp;&nbsp;</span>Распеделение количества событий</a></span></li></ul></li></ul></li><li><span><a href=\"#Оценка-результата-A/B-тестрирования\" data-toc-modified-id=\"Оценка-результата-A/B-тестрирования-5\"><span class=\"toc-item-num\">5&nbsp;&nbsp;</span>Оценка результата A/B-тестрирования</a></span></li><li><span><a href=\"#Общий-вывод\" data-toc-modified-id=\"Общий-вывод-6\"><span class=\"toc-item-num\">6&nbsp;&nbsp;</span>Общий вывод</a></span></li></ul></div>"
   ]
  },
  {
   "cell_type": "markdown",
   "metadata": {},
   "source": [
    "## Загрузка данных"
   ]
  },
  {
   "cell_type": "code",
   "execution_count": 1,
   "metadata": {},
   "outputs": [],
   "source": [
    "import pandas as pd\n",
    "import numpy as np\n",
    "import datetime as dt\n",
    "import math as mth\n",
    "import matplotlib.pyplot as plt\n",
    "import plotly.express as px\n",
    "\n",
    "import warnings \n",
    "warnings.filterwarnings('ignore')\n",
    "\n",
    "from plotly.subplots import make_subplots\n",
    "from plotly import graph_objects as go\n",
    "from scipy import stats as st\n",
    "from pandas.api.types import CategoricalDtype"
   ]
  },
  {
   "cell_type": "code",
   "execution_count": 2,
   "metadata": {},
   "outputs": [],
   "source": [
    "calendar = pd.read_csv('/datasets/ab_project_marketing_events.csv')\n",
    "new_users = pd.read_csv('/datasets/final_ab_new_users.csv')\n",
    "new_users_events = pd.read_csv('/datasets/final_ab_events.csv')\n",
    "participants = pd.read_csv('/datasets/final_ab_participants.csv')"
   ]
  },
  {
   "cell_type": "markdown",
   "metadata": {},
   "source": [
    "## Изучение данных"
   ]
  },
  {
   "cell_type": "code",
   "execution_count": 3,
   "metadata": {},
   "outputs": [
    {
     "name": "stdout",
     "output_type": "stream",
     "text": [
      "calendar \n",
      "\n",
      "<class 'pandas.core.frame.DataFrame'>\n",
      "RangeIndex: 14 entries, 0 to 13\n",
      "Data columns (total 5 columns):\n",
      " #   Column      Non-Null Count  Dtype \n",
      "---  ------      --------------  ----- \n",
      " 0   Unnamed: 0  14 non-null     int64 \n",
      " 1   name        14 non-null     object\n",
      " 2   regions     14 non-null     object\n",
      " 3   start_dt    14 non-null     object\n",
      " 4   finish_dt   14 non-null     object\n",
      "dtypes: int64(1), object(4)\n",
      "memory usage: 688.0+ bytes\n",
      "\n",
      "Количество повторяющихся строк в calendar — 0\n"
     ]
    },
    {
     "data": {
      "text/html": [
       "<div>\n",
       "<style scoped>\n",
       "    .dataframe tbody tr th:only-of-type {\n",
       "        vertical-align: middle;\n",
       "    }\n",
       "\n",
       "    .dataframe tbody tr th {\n",
       "        vertical-align: top;\n",
       "    }\n",
       "\n",
       "    .dataframe thead th {\n",
       "        text-align: right;\n",
       "    }\n",
       "</style>\n",
       "<table border=\"1\" class=\"dataframe\">\n",
       "  <thead>\n",
       "    <tr style=\"text-align: right;\">\n",
       "      <th></th>\n",
       "      <th>Unnamed: 0</th>\n",
       "      <th>name</th>\n",
       "      <th>regions</th>\n",
       "      <th>start_dt</th>\n",
       "      <th>finish_dt</th>\n",
       "    </tr>\n",
       "  </thead>\n",
       "  <tbody>\n",
       "    <tr>\n",
       "      <th>0</th>\n",
       "      <td>0</td>\n",
       "      <td>Christmas&amp;New Year Promo</td>\n",
       "      <td>EU, N.America</td>\n",
       "      <td>2020-12-25</td>\n",
       "      <td>2021-01-03</td>\n",
       "    </tr>\n",
       "    <tr>\n",
       "      <th>1</th>\n",
       "      <td>1</td>\n",
       "      <td>St. Valentine's Day Giveaway</td>\n",
       "      <td>EU, CIS, APAC, N.America</td>\n",
       "      <td>2020-02-14</td>\n",
       "      <td>2020-02-16</td>\n",
       "    </tr>\n",
       "    <tr>\n",
       "      <th>2</th>\n",
       "      <td>2</td>\n",
       "      <td>St. Patric's Day Promo</td>\n",
       "      <td>EU, N.America</td>\n",
       "      <td>2020-03-17</td>\n",
       "      <td>2020-03-19</td>\n",
       "    </tr>\n",
       "    <tr>\n",
       "      <th>3</th>\n",
       "      <td>3</td>\n",
       "      <td>Easter Promo</td>\n",
       "      <td>EU, CIS, APAC, N.America</td>\n",
       "      <td>2020-04-12</td>\n",
       "      <td>2020-04-19</td>\n",
       "    </tr>\n",
       "    <tr>\n",
       "      <th>4</th>\n",
       "      <td>4</td>\n",
       "      <td>4th of July Promo</td>\n",
       "      <td>N.America</td>\n",
       "      <td>2020-07-04</td>\n",
       "      <td>2020-07-11</td>\n",
       "    </tr>\n",
       "  </tbody>\n",
       "</table>\n",
       "</div>"
      ],
      "text/plain": [
       "   Unnamed: 0                          name                   regions  \\\n",
       "0           0      Christmas&New Year Promo             EU, N.America   \n",
       "1           1  St. Valentine's Day Giveaway  EU, CIS, APAC, N.America   \n",
       "2           2        St. Patric's Day Promo             EU, N.America   \n",
       "3           3                  Easter Promo  EU, CIS, APAC, N.America   \n",
       "4           4             4th of July Promo                 N.America   \n",
       "\n",
       "     start_dt   finish_dt  \n",
       "0  2020-12-25  2021-01-03  \n",
       "1  2020-02-14  2020-02-16  \n",
       "2  2020-03-17  2020-03-19  \n",
       "3  2020-04-12  2020-04-19  \n",
       "4  2020-07-04  2020-07-11  "
      ]
     },
     "metadata": {},
     "output_type": "display_data"
    },
    {
     "name": "stdout",
     "output_type": "stream",
     "text": [
      "_________________________________________________________________________________________________________\n",
      "\n",
      "new_users \n",
      "\n",
      "<class 'pandas.core.frame.DataFrame'>\n",
      "RangeIndex: 61733 entries, 0 to 61732\n",
      "Data columns (total 5 columns):\n",
      " #   Column      Non-Null Count  Dtype \n",
      "---  ------      --------------  ----- \n",
      " 0   Unnamed: 0  61733 non-null  int64 \n",
      " 1   user_id     61733 non-null  object\n",
      " 2   first_date  61733 non-null  object\n",
      " 3   region      61733 non-null  object\n",
      " 4   device      61733 non-null  object\n",
      "dtypes: int64(1), object(4)\n",
      "memory usage: 2.4+ MB\n",
      "\n",
      "Количество повторяющихся строк в new_users — 0\n"
     ]
    },
    {
     "data": {
      "text/html": [
       "<div>\n",
       "<style scoped>\n",
       "    .dataframe tbody tr th:only-of-type {\n",
       "        vertical-align: middle;\n",
       "    }\n",
       "\n",
       "    .dataframe tbody tr th {\n",
       "        vertical-align: top;\n",
       "    }\n",
       "\n",
       "    .dataframe thead th {\n",
       "        text-align: right;\n",
       "    }\n",
       "</style>\n",
       "<table border=\"1\" class=\"dataframe\">\n",
       "  <thead>\n",
       "    <tr style=\"text-align: right;\">\n",
       "      <th></th>\n",
       "      <th>Unnamed: 0</th>\n",
       "      <th>user_id</th>\n",
       "      <th>first_date</th>\n",
       "      <th>region</th>\n",
       "      <th>device</th>\n",
       "    </tr>\n",
       "  </thead>\n",
       "  <tbody>\n",
       "    <tr>\n",
       "      <th>0</th>\n",
       "      <td>0</td>\n",
       "      <td>D72A72121175D8BE</td>\n",
       "      <td>2020-12-07</td>\n",
       "      <td>EU</td>\n",
       "      <td>PC</td>\n",
       "    </tr>\n",
       "    <tr>\n",
       "      <th>1</th>\n",
       "      <td>1</td>\n",
       "      <td>F1C668619DFE6E65</td>\n",
       "      <td>2020-12-07</td>\n",
       "      <td>N.America</td>\n",
       "      <td>Android</td>\n",
       "    </tr>\n",
       "    <tr>\n",
       "      <th>2</th>\n",
       "      <td>2</td>\n",
       "      <td>2E1BF1D4C37EA01F</td>\n",
       "      <td>2020-12-07</td>\n",
       "      <td>EU</td>\n",
       "      <td>PC</td>\n",
       "    </tr>\n",
       "    <tr>\n",
       "      <th>3</th>\n",
       "      <td>3</td>\n",
       "      <td>50734A22C0C63768</td>\n",
       "      <td>2020-12-07</td>\n",
       "      <td>EU</td>\n",
       "      <td>iPhone</td>\n",
       "    </tr>\n",
       "    <tr>\n",
       "      <th>4</th>\n",
       "      <td>4</td>\n",
       "      <td>E1BDDCE0DAFA2679</td>\n",
       "      <td>2020-12-07</td>\n",
       "      <td>N.America</td>\n",
       "      <td>iPhone</td>\n",
       "    </tr>\n",
       "  </tbody>\n",
       "</table>\n",
       "</div>"
      ],
      "text/plain": [
       "   Unnamed: 0           user_id  first_date     region   device\n",
       "0           0  D72A72121175D8BE  2020-12-07         EU       PC\n",
       "1           1  F1C668619DFE6E65  2020-12-07  N.America  Android\n",
       "2           2  2E1BF1D4C37EA01F  2020-12-07         EU       PC\n",
       "3           3  50734A22C0C63768  2020-12-07         EU   iPhone\n",
       "4           4  E1BDDCE0DAFA2679  2020-12-07  N.America   iPhone"
      ]
     },
     "metadata": {},
     "output_type": "display_data"
    },
    {
     "name": "stdout",
     "output_type": "stream",
     "text": [
      "_________________________________________________________________________________________________________\n",
      "\n",
      "new_users_events \n",
      "\n",
      "<class 'pandas.core.frame.DataFrame'>\n",
      "RangeIndex: 440317 entries, 0 to 440316\n",
      "Data columns (total 5 columns):\n",
      " #   Column      Non-Null Count   Dtype  \n",
      "---  ------      --------------   -----  \n",
      " 0   Unnamed: 0  440317 non-null  int64  \n",
      " 1   user_id     440317 non-null  object \n",
      " 2   event_dt    440317 non-null  object \n",
      " 3   event_name  440317 non-null  object \n",
      " 4   details     62740 non-null   float64\n",
      "dtypes: float64(1), int64(1), object(3)\n",
      "memory usage: 16.8+ MB\n",
      "\n",
      "Количество повторяющихся строк в new_users_events — 0\n"
     ]
    },
    {
     "data": {
      "text/html": [
       "<div>\n",
       "<style scoped>\n",
       "    .dataframe tbody tr th:only-of-type {\n",
       "        vertical-align: middle;\n",
       "    }\n",
       "\n",
       "    .dataframe tbody tr th {\n",
       "        vertical-align: top;\n",
       "    }\n",
       "\n",
       "    .dataframe thead th {\n",
       "        text-align: right;\n",
       "    }\n",
       "</style>\n",
       "<table border=\"1\" class=\"dataframe\">\n",
       "  <thead>\n",
       "    <tr style=\"text-align: right;\">\n",
       "      <th></th>\n",
       "      <th>Unnamed: 0</th>\n",
       "      <th>user_id</th>\n",
       "      <th>event_dt</th>\n",
       "      <th>event_name</th>\n",
       "      <th>details</th>\n",
       "    </tr>\n",
       "  </thead>\n",
       "  <tbody>\n",
       "    <tr>\n",
       "      <th>0</th>\n",
       "      <td>0</td>\n",
       "      <td>E1BDDCE0DAFA2679</td>\n",
       "      <td>2020-12-07 20:22:03</td>\n",
       "      <td>purchase</td>\n",
       "      <td>99.99</td>\n",
       "    </tr>\n",
       "    <tr>\n",
       "      <th>1</th>\n",
       "      <td>1</td>\n",
       "      <td>7B6452F081F49504</td>\n",
       "      <td>2020-12-07 09:22:53</td>\n",
       "      <td>purchase</td>\n",
       "      <td>9.99</td>\n",
       "    </tr>\n",
       "    <tr>\n",
       "      <th>2</th>\n",
       "      <td>2</td>\n",
       "      <td>9CD9F34546DF254C</td>\n",
       "      <td>2020-12-07 12:59:29</td>\n",
       "      <td>purchase</td>\n",
       "      <td>4.99</td>\n",
       "    </tr>\n",
       "    <tr>\n",
       "      <th>3</th>\n",
       "      <td>3</td>\n",
       "      <td>96F27A054B191457</td>\n",
       "      <td>2020-12-07 04:02:40</td>\n",
       "      <td>purchase</td>\n",
       "      <td>4.99</td>\n",
       "    </tr>\n",
       "    <tr>\n",
       "      <th>4</th>\n",
       "      <td>4</td>\n",
       "      <td>1FD7660FDF94CA1F</td>\n",
       "      <td>2020-12-07 10:15:09</td>\n",
       "      <td>purchase</td>\n",
       "      <td>4.99</td>\n",
       "    </tr>\n",
       "  </tbody>\n",
       "</table>\n",
       "</div>"
      ],
      "text/plain": [
       "   Unnamed: 0           user_id             event_dt event_name  details\n",
       "0           0  E1BDDCE0DAFA2679  2020-12-07 20:22:03   purchase    99.99\n",
       "1           1  7B6452F081F49504  2020-12-07 09:22:53   purchase     9.99\n",
       "2           2  9CD9F34546DF254C  2020-12-07 12:59:29   purchase     4.99\n",
       "3           3  96F27A054B191457  2020-12-07 04:02:40   purchase     4.99\n",
       "4           4  1FD7660FDF94CA1F  2020-12-07 10:15:09   purchase     4.99"
      ]
     },
     "metadata": {},
     "output_type": "display_data"
    },
    {
     "name": "stdout",
     "output_type": "stream",
     "text": [
      "_________________________________________________________________________________________________________\n",
      "\n",
      "participants \n",
      "\n",
      "<class 'pandas.core.frame.DataFrame'>\n",
      "RangeIndex: 18268 entries, 0 to 18267\n",
      "Data columns (total 4 columns):\n",
      " #   Column      Non-Null Count  Dtype \n",
      "---  ------      --------------  ----- \n",
      " 0   Unnamed: 0  18268 non-null  int64 \n",
      " 1   user_id     18268 non-null  object\n",
      " 2   group       18268 non-null  object\n",
      " 3   ab_test     18268 non-null  object\n",
      "dtypes: int64(1), object(3)\n",
      "memory usage: 571.0+ KB\n",
      "\n",
      "Количество повторяющихся строк в participants — 0\n"
     ]
    },
    {
     "data": {
      "text/html": [
       "<div>\n",
       "<style scoped>\n",
       "    .dataframe tbody tr th:only-of-type {\n",
       "        vertical-align: middle;\n",
       "    }\n",
       "\n",
       "    .dataframe tbody tr th {\n",
       "        vertical-align: top;\n",
       "    }\n",
       "\n",
       "    .dataframe thead th {\n",
       "        text-align: right;\n",
       "    }\n",
       "</style>\n",
       "<table border=\"1\" class=\"dataframe\">\n",
       "  <thead>\n",
       "    <tr style=\"text-align: right;\">\n",
       "      <th></th>\n",
       "      <th>Unnamed: 0</th>\n",
       "      <th>user_id</th>\n",
       "      <th>group</th>\n",
       "      <th>ab_test</th>\n",
       "    </tr>\n",
       "  </thead>\n",
       "  <tbody>\n",
       "    <tr>\n",
       "      <th>0</th>\n",
       "      <td>0</td>\n",
       "      <td>D1ABA3E2887B6A73</td>\n",
       "      <td>A</td>\n",
       "      <td>recommender_system_test</td>\n",
       "    </tr>\n",
       "    <tr>\n",
       "      <th>1</th>\n",
       "      <td>1</td>\n",
       "      <td>A7A3664BD6242119</td>\n",
       "      <td>A</td>\n",
       "      <td>recommender_system_test</td>\n",
       "    </tr>\n",
       "    <tr>\n",
       "      <th>2</th>\n",
       "      <td>2</td>\n",
       "      <td>DABC14FDDFADD29E</td>\n",
       "      <td>A</td>\n",
       "      <td>recommender_system_test</td>\n",
       "    </tr>\n",
       "    <tr>\n",
       "      <th>3</th>\n",
       "      <td>3</td>\n",
       "      <td>04988C5DF189632E</td>\n",
       "      <td>A</td>\n",
       "      <td>recommender_system_test</td>\n",
       "    </tr>\n",
       "    <tr>\n",
       "      <th>4</th>\n",
       "      <td>4</td>\n",
       "      <td>482F14783456D21B</td>\n",
       "      <td>B</td>\n",
       "      <td>recommender_system_test</td>\n",
       "    </tr>\n",
       "  </tbody>\n",
       "</table>\n",
       "</div>"
      ],
      "text/plain": [
       "   Unnamed: 0           user_id group                  ab_test\n",
       "0           0  D1ABA3E2887B6A73     A  recommender_system_test\n",
       "1           1  A7A3664BD6242119     A  recommender_system_test\n",
       "2           2  DABC14FDDFADD29E     A  recommender_system_test\n",
       "3           3  04988C5DF189632E     A  recommender_system_test\n",
       "4           4  482F14783456D21B     B  recommender_system_test"
      ]
     },
     "metadata": {},
     "output_type": "display_data"
    },
    {
     "name": "stdout",
     "output_type": "stream",
     "text": [
      "_________________________________________________________________________________________________________\n",
      "\n"
     ]
    }
   ],
   "source": [
    "for df, name in zip([calendar, new_users, new_users_events, participants]\n",
    "                    ,['calendar', 'new_users', 'new_users_events', 'participants']):\n",
    "    print(name, '\\n')\n",
    "    df.info() \n",
    "    print('\\nКоличество повторяющихся строк в', name, '—', df.duplicated().sum())\n",
    "    display(df.head())\n",
    "    print('_________________________________________________________________________________________________________\\n')"
   ]
  },
  {
   "cell_type": "markdown",
   "metadata": {},
   "source": [
    "<div style=\"border-radius: 15px; border: 3px solid indigo; padding: 15px;\">\n",
    "<b>Вывод</b><br>\n",
    "<li>обнаружены пропуски в поле <b>details</b> таблицы <b>new_users_events</b></li>\n",
    "<li>дубликатов не обнаружено</li>\n",
    "<li>привести поля с датами к формату <b>datetime</b></li>\n",
    "</div>"
   ]
  },
  {
   "cell_type": "markdown",
   "metadata": {},
   "source": [
    "## Предобработка данных"
   ]
  },
  {
   "cell_type": "code",
   "execution_count": 4,
   "metadata": {},
   "outputs": [
    {
     "name": "stdout",
     "output_type": "stream",
     "text": [
      "calendar — start_dt — datetime64[ns]\n",
      "calendar — finish_dt — datetime64[ns]\n",
      "new_users — first_date — datetime64[ns]\n",
      "new_users_events — event_dt — datetime64[ns]\n"
     ]
    }
   ],
   "source": [
    "for df, name in zip([calendar, new_users, new_users_events, participants]\n",
    "                    ,['calendar', 'new_users', 'new_users_events', 'participants']):\n",
    "    selected_columns = df.filter(like='dt').columns | df.filter(like='date').columns\n",
    "    for column in selected_columns:\n",
    "        df[column] = pd.to_datetime(df[column])\n",
    "        print(name,'—', column,'—', df[column].dtype)"
   ]
  },
  {
   "cell_type": "code",
   "execution_count": 5,
   "metadata": {},
   "outputs": [
    {
     "data": {
      "text/plain": [
       "login           189552\n",
       "product_page    125563\n",
       "product_cart     62462\n",
       "Name: event_name, dtype: int64"
      ]
     },
     "execution_count": 5,
     "metadata": {},
     "output_type": "execute_result"
    }
   ],
   "source": [
    "new_users_events[new_users_events['details'].isna()==True]['event_name'].value_counts()"
   ]
  },
  {
   "cell_type": "markdown",
   "metadata": {},
   "source": [
    "<div style=\"border-radius: 15px; border: 3px solid indigo; padding: 15px;\">\n",
    "<b>Вывод</b><br>\n",
    "<li>поля с датами приведены к формату <b>datetime</b></li>\n",
    "<li>пропуски в поле <b>details</b> таблицы <b>new_users_events</b> относятся к не к покупкам, а к событиям, у которых нет стоимости, поэтому заполнять их не нужно.</li>\n",
    "</div>"
   ]
  },
  {
   "cell_type": "markdown",
   "metadata": {},
   "source": [
    "## Исследовательский анализ данных"
   ]
  },
  {
   "cell_type": "markdown",
   "metadata": {},
   "source": [
    "### Конкурирующий тест"
   ]
  },
  {
   "cell_type": "code",
   "execution_count": 6,
   "metadata": {},
   "outputs": [],
   "source": [
    "participants_rst = participants.query('ab_test == \"recommender_system_test\"')"
   ]
  },
  {
   "cell_type": "code",
   "execution_count": 7,
   "metadata": {},
   "outputs": [],
   "source": [
    "participants_eu = participants.query('ab_test != \"recommender_system_test\"')"
   ]
  },
  {
   "cell_type": "code",
   "execution_count": 8,
   "metadata": {},
   "outputs": [],
   "source": [
    "participants_tests = \\\n",
    "participants_rst[['user_id', 'group']].merge(participants_eu[['user_id', 'group']]\n",
    "                                             , on='user_id', how='outer', suffixes=('_rst', '_eu'))"
   ]
  },
  {
   "cell_type": "code",
   "execution_count": 9,
   "metadata": {},
   "outputs": [],
   "source": [
    "double_test_users = \\\n",
    "participants_tests[(participants_tests['group_rst'].isna()==False)&\\\n",
    "                    (participants_tests['group_eu'].isna()==False)]['user_id'].to_list()"
   ]
  },
  {
   "cell_type": "code",
   "execution_count": 10,
   "metadata": {},
   "outputs": [
    {
     "data": {
      "text/plain": [
       "1602"
      ]
     },
     "execution_count": 10,
     "metadata": {},
     "output_type": "execute_result"
    }
   ],
   "source": [
    "len(double_test_users)"
   ]
  },
  {
   "cell_type": "code",
   "execution_count": 11,
   "metadata": {},
   "outputs": [
    {
     "data": {
      "text/plain": [
       "A    819\n",
       "B    783\n",
       "Name: group, dtype: int64"
      ]
     },
     "execution_count": 11,
     "metadata": {},
     "output_type": "execute_result"
    }
   ],
   "source": [
    "participants_eu[participants_eu['user_id'].isin(double_test_users)]['group'].value_counts()"
   ]
  },
  {
   "cell_type": "code",
   "execution_count": 12,
   "metadata": {},
   "outputs": [],
   "source": [
    "double_test_users_b = participants_eu[(participants_eu['user_id'].isin(double_test_users))&(participants_eu['group']==\"B\")]"
   ]
  },
  {
   "cell_type": "code",
   "execution_count": 13,
   "metadata": {},
   "outputs": [],
   "source": [
    "participants_rst_filtered = \\\n",
    "participants_rst[~(participants_rst['user_id'].isin(double_test_users_b))]"
   ]
  },
  {
   "cell_type": "code",
   "execution_count": 14,
   "metadata": {},
   "outputs": [
    {
     "data": {
      "text/plain": [
       "6701"
      ]
     },
     "execution_count": 14,
     "metadata": {},
     "output_type": "execute_result"
    }
   ],
   "source": [
    "len(participants_rst_filtered)"
   ]
  },
  {
   "cell_type": "markdown",
   "metadata": {},
   "source": [
    "<div style=\"border-radius: 15px; border: 3px solid red; padding: 15px;\">\n",
    "<b>Вывод</b><br>\n",
    "1602 пользователя участвовали в обоих тестах — <b>recommender_system_test</b> и <b>interface_eu_test</b>.<br>819 из них оказались в контрольной группе теста <b>interface_eu_test</b>.<br> А остальных лучше исключить из рассмотрения для корректного анализа результатов теста <b>recommender_system_test</b>.\n",
    "</div>"
   ]
  },
  {
   "cell_type": "markdown",
   "metadata": {},
   "source": [
    "### Одновременные мероприятия"
   ]
  },
  {
   "cell_type": "code",
   "execution_count": 15,
   "metadata": {},
   "outputs": [
    {
     "data": {
      "text/html": [
       "<div>\n",
       "<style scoped>\n",
       "    .dataframe tbody tr th:only-of-type {\n",
       "        vertical-align: middle;\n",
       "    }\n",
       "\n",
       "    .dataframe tbody tr th {\n",
       "        vertical-align: top;\n",
       "    }\n",
       "\n",
       "    .dataframe thead th {\n",
       "        text-align: right;\n",
       "    }\n",
       "</style>\n",
       "<table border=\"1\" class=\"dataframe\">\n",
       "  <thead>\n",
       "    <tr style=\"text-align: right;\">\n",
       "      <th></th>\n",
       "      <th>Unnamed: 0</th>\n",
       "      <th>name</th>\n",
       "      <th>regions</th>\n",
       "      <th>start_dt</th>\n",
       "      <th>finish_dt</th>\n",
       "    </tr>\n",
       "  </thead>\n",
       "  <tbody>\n",
       "    <tr>\n",
       "      <th>0</th>\n",
       "      <td>0</td>\n",
       "      <td>Christmas&amp;New Year Promo</td>\n",
       "      <td>EU, N.America</td>\n",
       "      <td>2020-12-25</td>\n",
       "      <td>2021-01-03</td>\n",
       "    </tr>\n",
       "    <tr>\n",
       "      <th>10</th>\n",
       "      <td>10</td>\n",
       "      <td>CIS New Year Gift Lottery</td>\n",
       "      <td>CIS</td>\n",
       "      <td>2020-12-30</td>\n",
       "      <td>2021-01-07</td>\n",
       "    </tr>\n",
       "  </tbody>\n",
       "</table>\n",
       "</div>"
      ],
      "text/plain": [
       "    Unnamed: 0                       name        regions   start_dt  finish_dt\n",
       "0            0   Christmas&New Year Promo  EU, N.America 2020-12-25 2021-01-03\n",
       "10          10  CIS New Year Gift Lottery            CIS 2020-12-30 2021-01-07"
      ]
     },
     "execution_count": 15,
     "metadata": {},
     "output_type": "execute_result"
    }
   ],
   "source": [
    "calendar.query('finish_dt >= \"2020-12-07\"')"
   ]
  },
  {
   "cell_type": "code",
   "execution_count": 16,
   "metadata": {},
   "outputs": [],
   "source": [
    "new_users_events_filtered = \\\n",
    "new_users_events[~((new_users_events['event_dt'] >= '2020-12-25')&(new_users_events['event_dt'] <= '2021-01-03'))]"
   ]
  },
  {
   "cell_type": "markdown",
   "metadata": {},
   "source": [
    "<div style=\"border-radius: 15px; border: 3px solid red; padding: 15px;\">\n",
    "<b>Вывод</b><br>\n",
    "Одновременно с тестом для пользователей из ЕС (аудитория теста) проходила акция <b>Christmas&New Year Promo</b>.<br> Для корректного анализа результатов теста <b>recommender_system_test</b> события, случившиеся во время акции, следует исключить из рассмотрения.\n",
    "</div>"
   ]
  },
  {
   "cell_type": "markdown",
   "metadata": {},
   "source": [
    "### География аудитории"
   ]
  },
  {
   "cell_type": "code",
   "execution_count": 17,
   "metadata": {},
   "outputs": [],
   "source": [
    "new_users_eu = new_users.query('region==\"EU\" and first_date >=\"2020-12-07\" and first_date <=\"2020-12-21\"')['user_id'].to_list()"
   ]
  },
  {
   "cell_type": "code",
   "execution_count": 18,
   "metadata": {},
   "outputs": [
    {
     "data": {
      "text/plain": [
       "42340"
      ]
     },
     "execution_count": 18,
     "metadata": {},
     "output_type": "execute_result"
    }
   ],
   "source": [
    "len(new_users_eu)"
   ]
  },
  {
   "cell_type": "code",
   "execution_count": 19,
   "metadata": {},
   "outputs": [],
   "source": [
    "new_users_events_filtered_2 = \\\n",
    "new_users_events_filtered[new_users_events_filtered['user_id'].isin(new_users_eu)]"
   ]
  },
  {
   "cell_type": "code",
   "execution_count": 20,
   "metadata": {},
   "outputs": [
    {
     "data": {
      "text/plain": [
       "263547"
      ]
     },
     "execution_count": 20,
     "metadata": {},
     "output_type": "execute_result"
    }
   ],
   "source": [
    "len(new_users_events_filtered_2)"
   ]
  },
  {
   "cell_type": "code",
   "execution_count": 21,
   "metadata": {},
   "outputs": [],
   "source": [
    "participants_rst_filtered_2 = \\\n",
    "participants_rst_filtered[participants_rst_filtered['user_id'].isin(new_users_eu)]"
   ]
  },
  {
   "cell_type": "code",
   "execution_count": 22,
   "metadata": {},
   "outputs": [
    {
     "data": {
      "text/plain": [
       "6351"
      ]
     },
     "execution_count": 22,
     "metadata": {},
     "output_type": "execute_result"
    }
   ],
   "source": [
    "len(participants_rst_filtered_2)"
   ]
  },
  {
   "cell_type": "code",
   "execution_count": 23,
   "metadata": {},
   "outputs": [
    {
     "data": {
      "text/plain": [
       "15.0"
      ]
     },
     "execution_count": 23,
     "metadata": {},
     "output_type": "execute_result"
    }
   ],
   "source": [
    "round(len(participants_rst_filtered_2)/len(new_users_eu)*100,2)"
   ]
  },
  {
   "cell_type": "markdown",
   "metadata": {},
   "source": [
    "<div style=\"border-radius: 15px; border: 3px solid red; padding: 15px;\">\n",
    "<b>Вывод</b><br>\n",
    "Аудиторией теста <b>recommender_system_test</b> являются новые пользователи из ЕС. \n",
    "Следовательно, из рассмотрения нужно исключить пользователей из других регионов. А также пользователей, зарегистрировавшихся не в период с 7-го по 21-е декабря 2020.\n",
    "</div>"
   ]
  },
  {
   "cell_type": "markdown",
   "metadata": {},
   "source": [
    "### Распределение по группам"
   ]
  },
  {
   "cell_type": "markdown",
   "metadata": {},
   "source": [
    "#### Состав групп"
   ]
  },
  {
   "cell_type": "code",
   "execution_count": 24,
   "metadata": {},
   "outputs": [],
   "source": [
    "participants_rst_groups = \\\n",
    "participants_rst_filtered_2 [['user_id', 'group']].query('group==\"A\"')\\\n",
    ".merge(participants_rst_filtered_2 [['user_id', 'group']].query('group==\"B\"')\n",
    "                                             , on='user_id', how='outer', suffixes=('_a', '_b'))"
   ]
  },
  {
   "cell_type": "code",
   "execution_count": 25,
   "metadata": {},
   "outputs": [
    {
     "data": {
      "text/plain": [
       "0"
      ]
     },
     "execution_count": 25,
     "metadata": {},
     "output_type": "execute_result"
    }
   ],
   "source": [
    "len(participants_rst_groups[(participants_rst_groups['group_a'].isna()==False)\\\n",
    "                        &(participants_rst_groups['group_b'].isna()==False)])"
   ]
  },
  {
   "cell_type": "code",
   "execution_count": 26,
   "metadata": {},
   "outputs": [
    {
     "data": {
      "text/plain": [
       "3634"
      ]
     },
     "execution_count": 26,
     "metadata": {},
     "output_type": "execute_result"
    }
   ],
   "source": [
    "len(participants_rst_groups[participants_rst_groups['group_a'].isna()==False])"
   ]
  },
  {
   "cell_type": "code",
   "execution_count": 27,
   "metadata": {},
   "outputs": [
    {
     "data": {
      "text/plain": [
       "2717"
      ]
     },
     "execution_count": 27,
     "metadata": {},
     "output_type": "execute_result"
    }
   ],
   "source": [
    "len(participants_rst_groups[participants_rst_groups['group_b'].isna()==False])"
   ]
  },
  {
   "cell_type": "markdown",
   "metadata": {},
   "source": [
    "<div style=\"border-radius: 15px; border: 3px solid green; padding: 15px;\">\n",
    "<b>Вывод</b><br>\n",
    "Группы A и B участников теста <b>recommender_system_test</b> не пересекаются.\n",
    "</div>"
   ]
  },
  {
   "cell_type": "markdown",
   "metadata": {},
   "source": [
    "#### Распеделение количества событий"
   ]
  },
  {
   "cell_type": "code",
   "execution_count": 28,
   "metadata": {},
   "outputs": [],
   "source": [
    "data = new_users_events_filtered_2.merge(participants_rst_filtered_2, on='user_id', how='inner')\n",
    "data['event_date'] = data['event_dt'].astype('datetime64[D]')"
   ]
  },
  {
   "cell_type": "code",
   "execution_count": 29,
   "metadata": {},
   "outputs": [],
   "source": [
    "data_agg = data.groupby(['group', 'event_date']).agg(events_cnt=('event_dt','nunique')\n",
    "                                                     , users_cnt=('user_id','nunique')).reset_index()\n",
    "data_agg['events_per_user'] = round(data_agg['events_cnt']/data_agg['users_cnt'],2)"
   ]
  },
  {
   "cell_type": "code",
   "execution_count": 30,
   "metadata": {},
   "outputs": [],
   "source": [
    "# Построение графиков\n",
    "def draw_chart(data, marker=None, data_y=None, data_x=None, column_diff=None, title=None, xlabel=None, ylabel = None):\n",
    "    # Двойные\n",
    "    if column_diff is not None:\n",
    "        data_1 = data[data[column_diff] == data[column_diff].unique()[0]]\n",
    "        data_2 = data[data[column_diff] == data[column_diff].unique()[1]]\n",
    "        plt.rcParams['figure.figsize'] = (10, 5)\n",
    "        plt.rcParams['legend.loc']='upper right'\n",
    "        fig = (plt.plot(data_1[data_x], data_1[data_y], label=data_1[column_diff].unique().item(), marker=marker),\n",
    "        plt.plot(data_2[data_x], data_2[data_y], label=data_2[column_diff].unique().item(), marker=marker))\n",
    "    else: \n",
    "        fig = data.plot(x=data_x, y=data_y, figsize = (10,5), legend=False, kind = kind, marker=marker)\n",
    "    plt.legend()\n",
    "    plt.xlabel('%s'%(xlabel), fontsize=14)\n",
    "    plt.ylabel('%s'%(ylabel), fontsize=14)\n",
    "    plt.gcf().autofmt_xdate()\n",
    "    plt.grid()\n",
    "    plt.title(title, fontsize=16)\n",
    "    return fig"
   ]
  },
  {
   "cell_type": "code",
   "execution_count": 31,
   "metadata": {},
   "outputs": [
    {
     "data": {
      "image/png": "[encoded data removed]",
      "text/plain": [
       "<Figure size 720x360 with 1 Axes>"
      ]
     },
     "metadata": {
      "needs_background": "light"
     },
     "output_type": "display_data"
    }
   ],
   "source": [
    "draw_chart(data = data_agg\n",
    "           , marker='o', column_diff='group', data_x ='event_date', data_y='events_cnt'\n",
    "           , title = 'Количество событий по дням', xlabel='Дата', ylabel='');"
   ]
  },
  {
   "cell_type": "code",
   "execution_count": 32,
   "metadata": {},
   "outputs": [
    {
     "data": {
      "image/png": "[encoded data removed]",
      "text/plain": [
       "<Figure size 720x360 with 1 Axes>"
      ]
     },
     "metadata": {
      "needs_background": "light"
     },
     "output_type": "display_data"
    }
   ],
   "source": [
    "draw_chart(data = data_agg\n",
    "           , marker='o', column_diff='group', data_x ='event_date', data_y='events_per_user'\n",
    "           , title = 'Среднее количество событий на пользователя по дням', xlabel='Дата', ylabel='');"
   ]
  },
  {
   "cell_type": "markdown",
   "metadata": {},
   "source": [
    "<div style=\"border-radius: 15px; border: 3px solid green; padding: 15px;\">\n",
    "<b>Вывод</b><br>\n",
    "<li>в группе А после 13-го декабря 2020 значительно больше событий на день, чем в группе B</li>\n",
    "<li>в группе А после 10-го декабря 2020 стабильно больше событий на пользователя в день, чем в группе B</li>\n",
    "</div>"
   ]
  },
  {
   "cell_type": "code",
   "execution_count": 33,
   "metadata": {},
   "outputs": [
    {
     "data": {
      "text/html": [
       "<div>\n",
       "<style scoped>\n",
       "    .dataframe tbody tr th:only-of-type {\n",
       "        vertical-align: middle;\n",
       "    }\n",
       "\n",
       "    .dataframe tbody tr th {\n",
       "        vertical-align: top;\n",
       "    }\n",
       "\n",
       "    .dataframe thead th {\n",
       "        text-align: right;\n",
       "    }\n",
       "</style>\n",
       "<table border=\"1\" class=\"dataframe\">\n",
       "  <thead>\n",
       "    <tr style=\"text-align: right;\">\n",
       "      <th></th>\n",
       "      <th>group</th>\n",
       "      <th>users_cnt</th>\n",
       "    </tr>\n",
       "  </thead>\n",
       "  <tbody>\n",
       "    <tr>\n",
       "      <th>0</th>\n",
       "      <td>A</td>\n",
       "      <td>2604</td>\n",
       "    </tr>\n",
       "    <tr>\n",
       "      <th>1</th>\n",
       "      <td>B</td>\n",
       "      <td>877</td>\n",
       "    </tr>\n",
       "  </tbody>\n",
       "</table>\n",
       "</div>"
      ],
      "text/plain": [
       "  group  users_cnt\n",
       "0     A       2604\n",
       "1     B        877"
      ]
     },
     "execution_count": 33,
     "metadata": {},
     "output_type": "execute_result"
    }
   ],
   "source": [
    "groups_all = data.groupby('group').agg(users_cnt=('user_id','nunique')).reset_index()\n",
    "groups_all"
   ]
  },
  {
   "cell_type": "markdown",
   "metadata": {},
   "source": [
    "<div style=\"border-radius: 15px; border: 3px solid orange; padding: 15px;\">\n",
    "<b>Вывод</b><br>\n",
    "Похоже, в почищенной таблице событий (<b>new_users_events_filtered_2</b>) не оказалось событий, связанных со многими пользователями из очищенной таблицы участников (<b>participants_rst_filtered_2</b>).<br>\n",
    "Т.е. многие пользователи (преимущественно из группы B) зарегистрировались, но ничего не делали на сайте во время теста. Либо их действия совпали по времени с новогодней акцией и были искоючены из рассмотрения.\n",
    "</div>"
   ]
  },
  {
   "cell_type": "markdown",
   "metadata": {},
   "source": [
    "<div style=\"border-radius: 15px; border: 3px solid indigo; padding: 15px;\">\n",
    "<b>Вывод общий</b><br><br>\n",
    "Тест <b>recommender_system_test</b> проведён некорректно, т.к.:\n",
    "<li>некоторые участники теста участвовали ещё и в тесте <b>interface_eu_test</b></li>\n",
    "<li>одновременно с тестом для его аудитории проходила акция <b>Christmas&New Year Promo</b></li><br>\n",
    "Участники теста распределены по группам корректно, т.к.:\n",
    "<li>группы не пересекаются по составу</li>\n",
    "<li>в начале теста количество событий на день и среднее количество событий в день на пользователя в группах примерно совпадают</li>\n",
    "</div>"
   ]
  },
  {
   "cell_type": "markdown",
   "metadata": {},
   "source": [
    "## Оценка результата A/B-тестрирования"
   ]
  },
  {
   "cell_type": "code",
   "execution_count": 34,
   "metadata": {},
   "outputs": [],
   "source": [
    "data = data.merge(new_users[['user_id', 'first_date']], on='user_id', how='left')"
   ]
  },
  {
   "cell_type": "code",
   "execution_count": 35,
   "metadata": {},
   "outputs": [],
   "source": [
    "data_filtered = data[(data['event_date'] - data['first_date']) <= dt.timedelta(days=14)]"
   ]
  },
  {
   "cell_type": "code",
   "execution_count": 36,
   "metadata": {},
   "outputs": [],
   "source": [
    "def count_data_stat(data):\n",
    "    data_stat = data.agg({'event_name':'count', 'user_id':'nunique'}).\\\n",
    "                                           rename(index={'event_name':'events_cnt', 'user_id':'users_cnt'}).to_frame().T\n",
    "    data_stat['min_date'] = data['event_date'].min()\n",
    "    data_stat['max_date'] = data['event_date'].max()\n",
    "    data_stat['period'] = data_stat['max_date']  - data_stat['min_date']\n",
    "    data_stat['mean_events_per_user'] = (data_stat['events_cnt']/data_stat['users_cnt']).round(2)   \n",
    "    return data_stat"
   ]
  },
  {
   "cell_type": "code",
   "execution_count": 37,
   "metadata": {},
   "outputs": [
    {
     "data": {
      "text/html": [
       "<div>\n",
       "<style scoped>\n",
       "    .dataframe tbody tr th:only-of-type {\n",
       "        vertical-align: middle;\n",
       "    }\n",
       "\n",
       "    .dataframe tbody tr th {\n",
       "        vertical-align: top;\n",
       "    }\n",
       "\n",
       "    .dataframe thead th {\n",
       "        text-align: right;\n",
       "    }\n",
       "</style>\n",
       "<table border=\"1\" class=\"dataframe\">\n",
       "  <thead>\n",
       "    <tr style=\"text-align: right;\">\n",
       "      <th></th>\n",
       "      <th>events_cnt</th>\n",
       "      <th>users_cnt</th>\n",
       "      <th>min_date</th>\n",
       "      <th>max_date</th>\n",
       "      <th>period</th>\n",
       "      <th>mean_events_per_user</th>\n",
       "    </tr>\n",
       "  </thead>\n",
       "  <tbody>\n",
       "    <tr>\n",
       "      <th>0</th>\n",
       "      <td>20031</td>\n",
       "      <td>3481</td>\n",
       "      <td>2020-12-07 00:05:57</td>\n",
       "      <td>2020-12-24 23:58:32</td>\n",
       "      <td>17 days 23:52:35</td>\n",
       "      <td>5.75</td>\n",
       "    </tr>\n",
       "  </tbody>\n",
       "</table>\n",
       "</div>"
      ],
      "text/plain": [
       "   events_cnt  users_cnt            min_date            max_date  \\\n",
       "0       20031       3481 2020-12-07 00:05:57 2020-12-24 23:58:32   \n",
       "\n",
       "            period  mean_events_per_user  \n",
       "0 17 days 23:52:35                  5.75  "
      ]
     },
     "execution_count": 37,
     "metadata": {},
     "output_type": "execute_result"
    }
   ],
   "source": [
    "data_stat = count_data_stat(data_filtered)\n",
    "data_stat"
   ]
  },
  {
   "cell_type": "code",
   "execution_count": 38,
   "metadata": {},
   "outputs": [],
   "source": [
    "event_name_order = CategoricalDtype(['login', 'product_page', 'product_cart', 'purchase'], ordered=True)"
   ]
  },
  {
   "cell_type": "code",
   "execution_count": 39,
   "metadata": {},
   "outputs": [],
   "source": [
    "def count_funnel(data):\n",
    "    funnel = data.groupby('event_name').agg(users_cnt=('user_id','nunique')).reset_index().reset_index(drop=True)\n",
    "    funnel['event_name'] = funnel['event_name'].astype(event_name_order)\n",
    "    funnel = funnel.sort_values(by='event_name').reset_index(drop=True)\n",
    "    funnel['users_pct'] = round(funnel['users_cnt']/(data_stat['users_cnt'][0])*100,2)\n",
    "    funnel['users_prev_pct'] = np.nan\n",
    "    for i in range(len(funnel))[1:]:    \n",
    "        funnel['users_prev_pct'][i] = round(funnel['users_cnt'][i]*100/funnel['users_cnt'][i-1],2)\n",
    "    return funnel"
   ]
  },
  {
   "cell_type": "code",
   "execution_count": 40,
   "metadata": {},
   "outputs": [
    {
     "data": {
      "text/html": [
       "<div>\n",
       "<style scoped>\n",
       "    .dataframe tbody tr th:only-of-type {\n",
       "        vertical-align: middle;\n",
       "    }\n",
       "\n",
       "    .dataframe tbody tr th {\n",
       "        vertical-align: top;\n",
       "    }\n",
       "\n",
       "    .dataframe thead th {\n",
       "        text-align: right;\n",
       "    }\n",
       "</style>\n",
       "<table border=\"1\" class=\"dataframe\">\n",
       "  <thead>\n",
       "    <tr style=\"text-align: right;\">\n",
       "      <th></th>\n",
       "      <th>event_name</th>\n",
       "      <th>users_cnt</th>\n",
       "      <th>users_pct</th>\n",
       "      <th>users_prev_pct</th>\n",
       "    </tr>\n",
       "  </thead>\n",
       "  <tbody>\n",
       "    <tr>\n",
       "      <th>0</th>\n",
       "      <td>login</td>\n",
       "      <td>2604</td>\n",
       "      <td>74.81</td>\n",
       "      <td>NaN</td>\n",
       "    </tr>\n",
       "    <tr>\n",
       "      <th>1</th>\n",
       "      <td>product_page</td>\n",
       "      <td>1685</td>\n",
       "      <td>48.41</td>\n",
       "      <td>64.71</td>\n",
       "    </tr>\n",
       "    <tr>\n",
       "      <th>2</th>\n",
       "      <td>product_cart</td>\n",
       "      <td>782</td>\n",
       "      <td>22.46</td>\n",
       "      <td>46.41</td>\n",
       "    </tr>\n",
       "    <tr>\n",
       "      <th>3</th>\n",
       "      <td>purchase</td>\n",
       "      <td>833</td>\n",
       "      <td>23.93</td>\n",
       "      <td>106.52</td>\n",
       "    </tr>\n",
       "  </tbody>\n",
       "</table>\n",
       "</div>"
      ],
      "text/plain": [
       "     event_name  users_cnt  users_pct  users_prev_pct\n",
       "0         login       2604      74.81             NaN\n",
       "1  product_page       1685      48.41           64.71\n",
       "2  product_cart        782      22.46           46.41\n",
       "3      purchase        833      23.93          106.52"
      ]
     },
     "execution_count": 40,
     "metadata": {},
     "output_type": "execute_result"
    }
   ],
   "source": [
    "funnel_a = count_funnel(data_filtered.query('group ==\"A\"'))\n",
    "funnel_a"
   ]
  },
  {
   "cell_type": "code",
   "execution_count": 41,
   "metadata": {},
   "outputs": [
    {
     "data": {
      "text/html": [
       "<div>\n",
       "<style scoped>\n",
       "    .dataframe tbody tr th:only-of-type {\n",
       "        vertical-align: middle;\n",
       "    }\n",
       "\n",
       "    .dataframe tbody tr th {\n",
       "        vertical-align: top;\n",
       "    }\n",
       "\n",
       "    .dataframe thead th {\n",
       "        text-align: right;\n",
       "    }\n",
       "</style>\n",
       "<table border=\"1\" class=\"dataframe\">\n",
       "  <thead>\n",
       "    <tr style=\"text-align: right;\">\n",
       "      <th></th>\n",
       "      <th>event_name</th>\n",
       "      <th>users_cnt</th>\n",
       "      <th>users_pct</th>\n",
       "      <th>users_prev_pct</th>\n",
       "    </tr>\n",
       "  </thead>\n",
       "  <tbody>\n",
       "    <tr>\n",
       "      <th>0</th>\n",
       "      <td>login</td>\n",
       "      <td>876</td>\n",
       "      <td>25.17</td>\n",
       "      <td>NaN</td>\n",
       "    </tr>\n",
       "    <tr>\n",
       "      <th>1</th>\n",
       "      <td>product_page</td>\n",
       "      <td>493</td>\n",
       "      <td>14.16</td>\n",
       "      <td>56.28</td>\n",
       "    </tr>\n",
       "    <tr>\n",
       "      <th>2</th>\n",
       "      <td>product_cart</td>\n",
       "      <td>244</td>\n",
       "      <td>7.01</td>\n",
       "      <td>49.49</td>\n",
       "    </tr>\n",
       "    <tr>\n",
       "      <th>3</th>\n",
       "      <td>purchase</td>\n",
       "      <td>249</td>\n",
       "      <td>7.15</td>\n",
       "      <td>102.05</td>\n",
       "    </tr>\n",
       "  </tbody>\n",
       "</table>\n",
       "</div>"
      ],
      "text/plain": [
       "     event_name  users_cnt  users_pct  users_prev_pct\n",
       "0         login        876      25.17             NaN\n",
       "1  product_page        493      14.16           56.28\n",
       "2  product_cart        244       7.01           49.49\n",
       "3      purchase        249       7.15          102.05"
      ]
     },
     "execution_count": 41,
     "metadata": {},
     "output_type": "execute_result"
    }
   ],
   "source": [
    "funnel_b = count_funnel(data_filtered.query('group ==\"B\"'))\n",
    "funnel_b"
   ]
  },
  {
   "cell_type": "code",
   "execution_count": 42,
   "metadata": {},
   "outputs": [
    {
     "data": {
      "image/png": "[encoded data removed]"
     },
     "metadata": {},
     "output_type": "display_data"
    },
    {
     "data": {
      "image/png": "[encoded data removed]"
     },
     "metadata": {},
     "output_type": "display_data"
    }
   ],
   "source": [
    "for funnel, group in zip([funnel_a, funnel_b], ['Группа А', 'Группа B']):\n",
    "    fig_1 = go.Figure(\n",
    "        go.Funnel(\n",
    "            y=funnel[funnel['event_name']!='Tutorial']['event_name'],\n",
    "            x=funnel['users_cnt']\n",
    "        )\n",
    "    )\n",
    "    fig_1.update_layout(\n",
    "            title='Воронка событий %s'%(group), title_x=0.5, title_font_color = 'black',\n",
    "            width=800,\n",
    "            height=400,\n",
    "            font=dict(family='Calibri, monospace', size=16, color='#7f7f7f'))\n",
    "    fig_1.show('png') "
   ]
  },
  {
   "cell_type": "markdown",
   "metadata": {},
   "source": [
    "<div style=\"border-radius: 15px; border: 3px solid orange; padding: 15px;\">\n",
    "<b>Вывод</b><br>\n",
    "Почему-то в обеих группах покупок (<b>purchase</b>) больше, чем просмотров корзин (<b>product_cart</b>).<br> Возможно, на сайте реально сделать покупку, не заходя в корзину.\n",
    "Порядок событий пришлось задать вручную.\n",
    "</div>"
   ]
  },
  {
   "cell_type": "markdown",
   "metadata": {},
   "source": [
    "**Гипотезы**\n",
    "* H0 — Конверсия групп А и В на шаге **i** НЕ различается\n",
    "* Н1 — Конверсия групп А и В на шаге **i** различается"
   ]
  },
  {
   "cell_type": "code",
   "execution_count": 43,
   "metadata": {},
   "outputs": [],
   "source": [
    "def compare_funnels(data_1, data_2, column, len_1, len_2):\n",
    "    alpha = 1-(1-0.05)**(1/12)\n",
    "    distr = st.norm(0, 1)\n",
    "    i = 0\n",
    "    while i < len(data_1):\n",
    "        p1 = data_1[column][i] / len_1\n",
    "        p2 = data_2[column][i] / len_2\n",
    "        diff = p1 - p2\n",
    "        p_combined = (data_1[column][i] + data_2[column][i]) / (len_1 + len_2)\n",
    "        z = diff / mth.sqrt(p_combined*(1 - p_combined)*(1/len_1 + 1/len_2))\n",
    "        p_value = (1 - distr.cdf(abs(z))) * 2\n",
    "        if p_value < alpha:\n",
    "            print('Шаг {} — p-value = {} — между конверсиями есть значимая разница'.format(i, p_value))\n",
    "        else:\n",
    "            print('Шаг {} — p-value = {} — нет оснований считать конверсии разными'.format(i, p_value))  \n",
    "        i = i+1"
   ]
  },
  {
   "cell_type": "code",
   "execution_count": 44,
   "metadata": {},
   "outputs": [
    {
     "name": "stdout",
     "output_type": "stream",
     "text": [
      "Шаг 0 — p-value = 0.08481837035887363 — нет оснований считать конверсии разными\n",
      "Шаг 1 — p-value = 6.942739359416805e-06 — между конверсиями есть значимая разница\n",
      "Шаг 2 — p-value = 0.21469192029582396 — нет оснований считать конверсии разными\n",
      "Шаг 3 — p-value = 0.04652482738393027 — нет оснований считать конверсии разными\n"
     ]
    }
   ],
   "source": [
    "compare_funnels(funnel_a, funnel_b, 'users_cnt', groups_all['users_cnt'][0],groups_all['users_cnt'][1])"
   ]
  },
  {
   "cell_type": "markdown",
   "metadata": {},
   "source": [
    "## Общий вывод"
   ]
  },
  {
   "cell_type": "markdown",
   "metadata": {},
   "source": [
    "**Ожидания**:\n",
    "\n",
    "За 14 дней с момента регистрации в системе (т.е. с 21-го декабря 2020) пользователи покажут улучшение каждой метрики не менее, чем на 10%:\n",
    "* конверсии в просмотр карточек товаров — событие **product_page**\n",
    "* просмотры корзины — **product_cart**\n",
    "* покупки — **purchase**.\n",
    "\n",
    "**Реальность**:\n",
    "* конверсия в просмотр карточек товаров упала на 8% (64% в группе **А** и 56% в группе **B**, судя по воронкам)\n",
    "* конверсия в просмотры корзины не выросла\n",
    "* конверсия в покупки не выросла.\n",
    "\n",
    "**Замечания**:\n",
    "* при выборе периода проведения теста не учтены маркетинговые акции\n",
    "* при отборе участников для теста не учтено задействование некоторых из них в конкурирующем тесте."
   ]
  }
 ],
 "metadata": {
  "ExecuteTimeLog": [
   {
    "duration": 1283,
    "start_time": "2021-09-17T18:08:06.614Z"
   },
   {
    "duration": 21,
    "start_time": "2021-09-17T18:09:11.142Z"
   },
   {
    "duration": 418,
    "start_time": "2021-09-17T18:29:45.676Z"
   },
   {
    "duration": 1225,
    "start_time": "2021-09-17T18:30:03.689Z"
   },
   {
    "duration": 777,
    "start_time": "2021-09-17T18:30:04.917Z"
   },
   {
    "duration": 527,
    "start_time": "2021-09-17T18:30:05.697Z"
   },
   {
    "duration": 415,
    "start_time": "2021-09-17T18:31:39.328Z"
   },
   {
    "duration": 1286,
    "start_time": "2021-09-17T18:32:49.537Z"
   },
   {
    "duration": 779,
    "start_time": "2021-09-17T18:32:50.826Z"
   },
   {
    "duration": 486,
    "start_time": "2021-09-17T18:32:51.609Z"
   },
   {
    "duration": 584,
    "start_time": "2021-09-17T18:33:22.291Z"
   },
   {
    "duration": 432,
    "start_time": "2021-09-17T18:33:32.270Z"
   },
   {
    "duration": 1347,
    "start_time": "2021-09-17T18:33:49.875Z"
   },
   {
    "duration": 781,
    "start_time": "2021-09-17T18:33:51.225Z"
   },
   {
    "duration": 595,
    "start_time": "2021-09-17T18:33:52.010Z"
   },
   {
    "duration": 1275,
    "start_time": "2021-09-17T18:35:06.047Z"
   },
   {
    "duration": 741,
    "start_time": "2021-09-17T18:35:07.325Z"
   },
   {
    "duration": 525,
    "start_time": "2021-09-17T18:35:08.232Z"
   },
   {
    "duration": 1271,
    "start_time": "2021-09-17T18:36:35.049Z"
   },
   {
    "duration": 760,
    "start_time": "2021-09-17T18:36:36.322Z"
   },
   {
    "duration": 542,
    "start_time": "2021-09-17T18:36:37.227Z"
   },
   {
    "duration": 1302,
    "start_time": "2021-09-17T18:39:38.820Z"
   },
   {
    "duration": 788,
    "start_time": "2021-09-17T18:39:40.125Z"
   },
   {
    "duration": 525,
    "start_time": "2021-09-17T18:39:40.916Z"
   },
   {
    "duration": 1302,
    "start_time": "2021-09-17T18:40:30.024Z"
   },
   {
    "duration": 751,
    "start_time": "2021-09-17T18:40:31.328Z"
   },
   {
    "duration": 630,
    "start_time": "2021-09-17T18:40:32.082Z"
   },
   {
    "duration": 1351,
    "start_time": "2021-09-17T18:40:54.077Z"
   },
   {
    "duration": 765,
    "start_time": "2021-09-17T18:40:55.431Z"
   },
   {
    "duration": 523,
    "start_time": "2021-09-17T18:40:56.199Z"
   },
   {
    "duration": 327,
    "start_time": "2021-09-21T07:30:43.223Z"
   },
   {
    "duration": 1154,
    "start_time": "2021-09-21T07:30:53.046Z"
   },
   {
    "duration": 730,
    "start_time": "2021-09-21T07:30:54.203Z"
   },
   {
    "duration": 531,
    "start_time": "2021-09-21T07:30:54.936Z"
   },
   {
    "duration": 72,
    "start_time": "2021-09-21T07:30:55.469Z"
   },
   {
    "duration": 5102,
    "start_time": "2021-09-21T07:35:13.469Z"
   },
   {
    "duration": 415,
    "start_time": "2021-09-21T07:38:09.768Z"
   },
   {
    "duration": 7454,
    "start_time": "2021-09-21T07:40:04.443Z"
   },
   {
    "duration": 22,
    "start_time": "2021-09-21T07:40:14.977Z"
   },
   {
    "duration": 285,
    "start_time": "2021-09-21T07:40:50.042Z"
   },
   {
    "duration": 40,
    "start_time": "2021-09-21T07:41:02.913Z"
   },
   {
    "duration": 1107,
    "start_time": "2021-09-21T07:41:20.115Z"
   },
   {
    "duration": 713,
    "start_time": "2021-09-21T07:41:21.225Z"
   },
   {
    "duration": 543,
    "start_time": "2021-09-21T07:41:21.940Z"
   },
   {
    "duration": 214,
    "start_time": "2021-09-21T07:41:22.485Z"
   },
   {
    "duration": 12,
    "start_time": "2021-09-21T07:43:41.778Z"
   },
   {
    "duration": 8,
    "start_time": "2021-09-21T07:44:22.171Z"
   },
   {
    "duration": 31,
    "start_time": "2021-09-21T08:06:15.351Z"
   },
   {
    "duration": 31,
    "start_time": "2021-09-21T08:06:58.735Z"
   },
   {
    "duration": 21,
    "start_time": "2021-09-21T08:07:24.640Z"
   },
   {
    "duration": 11,
    "start_time": "2021-09-21T08:07:42.191Z"
   },
   {
    "duration": 14,
    "start_time": "2021-09-21T08:08:48.360Z"
   },
   {
    "duration": 90,
    "start_time": "2021-09-21T08:11:33.567Z"
   },
   {
    "duration": 10,
    "start_time": "2021-09-21T08:11:45.366Z"
   },
   {
    "duration": 10,
    "start_time": "2021-09-21T08:11:57.237Z"
   },
   {
    "duration": 6,
    "start_time": "2021-09-21T08:14:12.004Z"
   },
   {
    "duration": 14,
    "start_time": "2021-09-21T08:14:39.327Z"
   },
   {
    "duration": 9,
    "start_time": "2021-09-21T08:15:01.573Z"
   },
   {
    "duration": 373,
    "start_time": "2021-09-21T08:15:20.694Z"
   },
   {
    "duration": 10,
    "start_time": "2021-09-21T08:15:38.526Z"
   },
   {
    "duration": 10,
    "start_time": "2021-09-21T08:19:32.828Z"
   },
   {
    "duration": 9,
    "start_time": "2021-09-21T08:19:42.083Z"
   },
   {
    "duration": 13,
    "start_time": "2021-09-21T08:19:43.931Z"
   },
   {
    "duration": 11,
    "start_time": "2021-09-21T08:20:06.804Z"
   },
   {
    "duration": 9,
    "start_time": "2021-09-21T08:20:15.690Z"
   },
   {
    "duration": 14,
    "start_time": "2021-09-21T08:20:23.315Z"
   },
   {
    "duration": 11,
    "start_time": "2021-09-21T08:20:28.523Z"
   },
   {
    "duration": 8,
    "start_time": "2021-09-21T08:21:36.842Z"
   },
   {
    "duration": 10,
    "start_time": "2021-09-21T08:21:37.795Z"
   },
   {
    "duration": 22,
    "start_time": "2021-09-21T08:22:18.578Z"
   },
   {
    "duration": 19,
    "start_time": "2021-09-21T08:23:14.218Z"
   },
   {
    "duration": 21,
    "start_time": "2021-09-21T08:24:36.506Z"
   },
   {
    "duration": 187,
    "start_time": "2021-09-21T08:26:06.112Z"
   },
   {
    "duration": 13,
    "start_time": "2021-09-21T08:26:11.477Z"
   },
   {
    "duration": 12,
    "start_time": "2021-09-21T08:26:23.135Z"
   },
   {
    "duration": 5,
    "start_time": "2021-09-21T08:26:24.023Z"
   },
   {
    "duration": 13,
    "start_time": "2021-09-21T08:27:50.344Z"
   },
   {
    "duration": 290,
    "start_time": "2021-09-21T08:32:16.255Z"
   },
   {
    "duration": 786,
    "start_time": "2021-09-21T08:32:28.022Z"
   },
   {
    "duration": 292,
    "start_time": "2021-09-21T08:32:33.893Z"
   },
   {
    "duration": 62,
    "start_time": "2021-09-21T08:32:55.551Z"
   },
   {
    "duration": 21,
    "start_time": "2021-09-21T08:34:35.430Z"
   },
   {
    "duration": 8014,
    "start_time": "2021-09-21T08:34:38.548Z"
   },
   {
    "duration": 21,
    "start_time": "2021-09-21T08:34:53.717Z"
   },
   {
    "duration": 13,
    "start_time": "2021-09-21T08:34:56.814Z"
   },
   {
    "duration": 8,
    "start_time": "2021-09-21T08:34:58.653Z"
   },
   {
    "duration": 9,
    "start_time": "2021-09-21T08:34:59.277Z"
   },
   {
    "duration": 11,
    "start_time": "2021-09-21T08:35:02.365Z"
   },
   {
    "duration": 6,
    "start_time": "2021-09-21T08:35:33.125Z"
   },
   {
    "duration": 5,
    "start_time": "2021-09-21T08:35:46.413Z"
   },
   {
    "duration": 75,
    "start_time": "2021-09-21T08:37:50.732Z"
   },
   {
    "duration": 69,
    "start_time": "2021-09-21T08:38:47.827Z"
   },
   {
    "duration": 9,
    "start_time": "2021-09-21T09:42:28.825Z"
   },
   {
    "duration": 9,
    "start_time": "2021-09-21T09:42:47.378Z"
   },
   {
    "duration": 22,
    "start_time": "2021-09-21T09:42:49.745Z"
   },
   {
    "duration": 6,
    "start_time": "2021-09-21T09:42:58.450Z"
   },
   {
    "duration": 5,
    "start_time": "2021-09-21T09:43:07.633Z"
   },
   {
    "duration": 5,
    "start_time": "2021-09-21T09:43:08.153Z"
   },
   {
    "duration": 20,
    "start_time": "2021-09-21T09:43:19.561Z"
   },
   {
    "duration": 13,
    "start_time": "2021-09-21T09:43:20.234Z"
   },
   {
    "duration": 8,
    "start_time": "2021-09-21T09:43:21.936Z"
   },
   {
    "duration": 8,
    "start_time": "2021-09-21T09:43:22.561Z"
   },
   {
    "duration": 10,
    "start_time": "2021-09-21T09:43:27.889Z"
   },
   {
    "duration": 7,
    "start_time": "2021-09-21T09:44:27.817Z"
   },
   {
    "duration": 5,
    "start_time": "2021-09-21T09:51:20.694Z"
   },
   {
    "duration": 14,
    "start_time": "2021-09-21T09:53:52.772Z"
   },
   {
    "duration": 16,
    "start_time": "2021-09-21T10:31:37.565Z"
   },
   {
    "duration": 16,
    "start_time": "2021-09-21T10:32:50.204Z"
   },
   {
    "duration": 24,
    "start_time": "2021-09-21T10:33:57.851Z"
   },
   {
    "duration": 13,
    "start_time": "2021-09-21T10:34:38.469Z"
   },
   {
    "duration": 15,
    "start_time": "2021-09-21T10:35:20.971Z"
   },
   {
    "duration": 51,
    "start_time": "2021-09-21T10:36:21.131Z"
   },
   {
    "duration": 140,
    "start_time": "2021-09-21T10:39:45.290Z"
   },
   {
    "duration": 101,
    "start_time": "2021-09-21T10:45:13.248Z"
   },
   {
    "duration": 35,
    "start_time": "2021-09-21T10:45:25.941Z"
   },
   {
    "duration": 85,
    "start_time": "2021-09-21T10:49:30.879Z"
   },
   {
    "duration": 93,
    "start_time": "2021-09-21T10:49:37.796Z"
   },
   {
    "duration": 93,
    "start_time": "2021-09-21T10:49:48.759Z"
   },
   {
    "duration": 94,
    "start_time": "2021-09-21T10:49:58.158Z"
   },
   {
    "duration": 4,
    "start_time": "2021-09-21T10:53:34.310Z"
   },
   {
    "duration": 5,
    "start_time": "2021-09-21T10:58:01.899Z"
   },
   {
    "duration": 17,
    "start_time": "2021-09-21T10:58:25.082Z"
   },
   {
    "duration": 12,
    "start_time": "2021-09-21T10:58:25.521Z"
   },
   {
    "duration": 7,
    "start_time": "2021-09-21T10:58:26.418Z"
   },
   {
    "duration": 7,
    "start_time": "2021-09-21T10:58:26.906Z"
   },
   {
    "duration": 10,
    "start_time": "2021-09-21T10:58:29.274Z"
   },
   {
    "duration": 8,
    "start_time": "2021-09-21T10:58:46.290Z"
   },
   {
    "duration": 137,
    "start_time": "2021-09-21T11:30:56.718Z"
   },
   {
    "duration": 6,
    "start_time": "2021-09-21T11:31:12.244Z"
   },
   {
    "duration": 582,
    "start_time": "2021-09-21T11:33:33.604Z"
   },
   {
    "duration": 7,
    "start_time": "2021-09-21T11:33:51.548Z"
   },
   {
    "duration": 27,
    "start_time": "2021-09-21T11:33:52.196Z"
   },
   {
    "duration": 25,
    "start_time": "2021-09-21T11:34:04.931Z"
   },
   {
    "duration": 8,
    "start_time": "2021-09-21T11:36:16.979Z"
   },
   {
    "duration": 446,
    "start_time": "2021-09-21T11:37:53.794Z"
   },
   {
    "duration": 8573,
    "start_time": "2021-09-21T11:37:55.323Z"
   },
   {
    "duration": 8,
    "start_time": "2021-09-21T11:38:18.970Z"
   },
   {
    "duration": 22,
    "start_time": "2021-09-21T11:38:38.290Z"
   },
   {
    "duration": 74,
    "start_time": "2021-09-21T11:38:58.672Z"
   },
   {
    "duration": 9,
    "start_time": "2021-09-21T11:39:01.483Z"
   },
   {
    "duration": 22,
    "start_time": "2021-09-21T11:40:43.786Z"
   },
   {
    "duration": 6,
    "start_time": "2021-09-21T11:41:08.113Z"
   },
   {
    "duration": 5,
    "start_time": "2021-09-21T11:41:41.921Z"
   },
   {
    "duration": 5,
    "start_time": "2021-09-21T11:41:47.039Z"
   },
   {
    "duration": 5,
    "start_time": "2021-09-21T11:41:55.409Z"
   },
   {
    "duration": 87,
    "start_time": "2021-09-21T11:42:26.264Z"
   },
   {
    "duration": 87,
    "start_time": "2021-09-21T11:42:32.489Z"
   },
   {
    "duration": 7,
    "start_time": "2021-09-21T11:42:33.153Z"
   },
   {
    "duration": 13,
    "start_time": "2021-09-21T11:42:46.377Z"
   },
   {
    "duration": 5,
    "start_time": "2021-09-21T11:42:46.864Z"
   },
   {
    "duration": 23,
    "start_time": "2021-09-21T11:43:06.489Z"
   },
   {
    "duration": 13,
    "start_time": "2021-09-21T11:43:06.897Z"
   },
   {
    "duration": 8,
    "start_time": "2021-09-21T11:43:07.441Z"
   },
   {
    "duration": 8,
    "start_time": "2021-09-21T11:43:08.024Z"
   },
   {
    "duration": 10,
    "start_time": "2021-09-21T11:43:09.663Z"
   },
   {
    "duration": 1153,
    "start_time": "2021-09-21T11:43:20.675Z"
   },
   {
    "duration": 782,
    "start_time": "2021-09-21T11:43:21.830Z"
   },
   {
    "duration": 546,
    "start_time": "2021-09-21T11:43:22.614Z"
   },
   {
    "duration": 246,
    "start_time": "2021-09-21T11:43:23.163Z"
   },
   {
    "duration": 12,
    "start_time": "2021-09-21T11:43:27.403Z"
   },
   {
    "duration": 8,
    "start_time": "2021-09-21T11:43:28.148Z"
   },
   {
    "duration": 22,
    "start_time": "2021-09-21T11:43:29.763Z"
   },
   {
    "duration": 429,
    "start_time": "2021-09-21T11:43:30.484Z"
   },
   {
    "duration": 11,
    "start_time": "2021-09-21T11:43:59.332Z"
   },
   {
    "duration": 6,
    "start_time": "2021-09-21T11:44:00.876Z"
   },
   {
    "duration": 7,
    "start_time": "2021-09-21T11:44:03.180Z"
   },
   {
    "duration": 5,
    "start_time": "2021-09-21T11:44:05.636Z"
   },
   {
    "duration": 22,
    "start_time": "2021-09-21T11:44:11.860Z"
   },
   {
    "duration": 36,
    "start_time": "2021-09-21T11:44:14.451Z"
   },
   {
    "duration": 13,
    "start_time": "2021-09-21T11:44:17.964Z"
   },
   {
    "duration": 5,
    "start_time": "2021-09-21T11:44:18.539Z"
   },
   {
    "duration": 93,
    "start_time": "2021-09-21T11:44:19.995Z"
   },
   {
    "duration": 5,
    "start_time": "2021-09-21T11:44:20.755Z"
   },
   {
    "duration": 14,
    "start_time": "2021-09-21T11:44:21.459Z"
   },
   {
    "duration": 5,
    "start_time": "2021-09-21T11:44:21.947Z"
   },
   {
    "duration": 21,
    "start_time": "2021-09-21T11:44:27.332Z"
   },
   {
    "duration": 13,
    "start_time": "2021-09-21T11:44:27.876Z"
   },
   {
    "duration": 8,
    "start_time": "2021-09-21T11:44:28.508Z"
   },
   {
    "duration": 8,
    "start_time": "2021-09-21T11:44:29.123Z"
   },
   {
    "duration": 9,
    "start_time": "2021-09-21T11:44:46.132Z"
   },
   {
    "duration": 9,
    "start_time": "2021-09-21T11:44:49.732Z"
   },
   {
    "duration": 8,
    "start_time": "2021-09-21T11:44:50.458Z"
   },
   {
    "duration": 10,
    "start_time": "2021-09-21T11:44:51.531Z"
   },
   {
    "duration": 94,
    "start_time": "2021-09-21T11:45:05.499Z"
   },
   {
    "duration": 24,
    "start_time": "2021-09-21T11:45:06.187Z"
   },
   {
    "duration": 6,
    "start_time": "2021-09-21T11:45:21.484Z"
   },
   {
    "duration": 35,
    "start_time": "2021-09-21T11:45:22.268Z"
   },
   {
    "duration": 33,
    "start_time": "2021-09-21T11:45:34.939Z"
   },
   {
    "duration": 36,
    "start_time": "2021-09-21T11:45:46.859Z"
   },
   {
    "duration": 1363,
    "start_time": "2021-09-21T11:46:38.121Z"
   },
   {
    "duration": 770,
    "start_time": "2021-09-21T11:46:39.487Z"
   },
   {
    "duration": 608,
    "start_time": "2021-09-21T11:46:40.266Z"
   },
   {
    "duration": 280,
    "start_time": "2021-09-21T11:46:40.878Z"
   },
   {
    "duration": 11,
    "start_time": "2021-09-21T11:46:41.161Z"
   },
   {
    "duration": 16,
    "start_time": "2021-09-21T11:46:41.175Z"
   },
   {
    "duration": 38,
    "start_time": "2021-09-21T11:46:41.194Z"
   },
   {
    "duration": 11,
    "start_time": "2021-09-21T11:46:41.415Z"
   },
   {
    "duration": 6,
    "start_time": "2021-09-21T11:46:42.246Z"
   },
   {
    "duration": 6,
    "start_time": "2021-09-21T11:46:43.118Z"
   },
   {
    "duration": 6,
    "start_time": "2021-09-21T11:46:43.735Z"
   },
   {
    "duration": 16,
    "start_time": "2021-09-21T11:48:46.311Z"
   },
   {
    "duration": 35,
    "start_time": "2021-09-21T11:48:47.782Z"
   },
   {
    "duration": 369,
    "start_time": "2021-09-21T11:49:41.614Z"
   },
   {
    "duration": 14,
    "start_time": "2021-09-21T11:49:48.832Z"
   },
   {
    "duration": 5,
    "start_time": "2021-09-21T11:49:49.262Z"
   },
   {
    "duration": 5,
    "start_time": "2021-09-21T11:50:08.694Z"
   },
   {
    "duration": 101,
    "start_time": "2021-09-21T11:50:09.993Z"
   },
   {
    "duration": 7,
    "start_time": "2021-09-21T11:50:10.097Z"
   },
   {
    "duration": 14,
    "start_time": "2021-09-21T11:50:11.581Z"
   },
   {
    "duration": 6,
    "start_time": "2021-09-21T11:50:14.941Z"
   },
   {
    "duration": 5,
    "start_time": "2021-09-21T11:50:28.772Z"
   },
   {
    "duration": 6,
    "start_time": "2021-09-21T11:53:16.620Z"
   },
   {
    "duration": 325,
    "start_time": "2021-09-21T11:54:12.708Z"
   },
   {
    "duration": 19,
    "start_time": "2021-09-21T11:54:18.844Z"
   },
   {
    "duration": 10,
    "start_time": "2021-09-21T11:54:19.060Z"
   },
   {
    "duration": 9,
    "start_time": "2021-09-21T11:54:19.268Z"
   },
   {
    "duration": 8,
    "start_time": "2021-09-21T11:54:19.838Z"
   },
   {
    "duration": 11,
    "start_time": "2021-09-21T11:54:20.349Z"
   },
   {
    "duration": 95,
    "start_time": "2021-09-21T11:58:28.914Z"
   },
   {
    "duration": 299,
    "start_time": "2021-09-21T12:01:21.465Z"
   },
   {
    "duration": 270,
    "start_time": "2021-09-21T12:01:41.921Z"
   },
   {
    "duration": 303,
    "start_time": "2021-09-21T12:01:48.401Z"
   },
   {
    "duration": 612,
    "start_time": "2021-09-21T12:02:15.450Z"
   },
   {
    "duration": 23,
    "start_time": "2021-09-21T12:02:39.305Z"
   },
   {
    "duration": 26,
    "start_time": "2021-09-21T12:02:48.529Z"
   },
   {
    "duration": 286,
    "start_time": "2021-09-21T12:03:08.577Z"
   },
   {
    "duration": 427,
    "start_time": "2021-09-21T12:03:37.584Z"
   },
   {
    "duration": 1992,
    "start_time": "2021-09-21T12:04:50.999Z"
   },
   {
    "duration": 414,
    "start_time": "2021-09-21T12:05:11.496Z"
   },
   {
    "duration": 291,
    "start_time": "2021-09-21T12:06:43.534Z"
   },
   {
    "duration": 415,
    "start_time": "2021-09-21T12:06:58.719Z"
   },
   {
    "duration": 713,
    "start_time": "2021-09-21T12:07:12.558Z"
   },
   {
    "duration": 792,
    "start_time": "2021-09-21T12:07:21.454Z"
   },
   {
    "duration": 730,
    "start_time": "2021-09-21T12:07:35.335Z"
   },
   {
    "duration": 295,
    "start_time": "2021-09-21T12:14:39.725Z"
   },
   {
    "duration": 8,
    "start_time": "2021-09-21T12:14:43.547Z"
   },
   {
    "duration": 7929,
    "start_time": "2021-09-21T12:14:44.021Z"
   },
   {
    "duration": 4,
    "start_time": "2021-09-21T12:15:08.579Z"
   },
   {
    "duration": 876,
    "start_time": "2021-09-21T12:15:32.964Z"
   },
   {
    "duration": 32,
    "start_time": "2021-09-21T12:16:04.627Z"
   },
   {
    "duration": 92,
    "start_time": "2021-09-21T12:16:23.523Z"
   },
   {
    "duration": 9,
    "start_time": "2021-09-21T12:16:24.555Z"
   },
   {
    "duration": 38,
    "start_time": "2021-09-21T12:16:25.149Z"
   },
   {
    "duration": 7368,
    "start_time": "2021-09-21T12:16:28.268Z"
   },
   {
    "duration": 7206,
    "start_time": "2021-09-21T12:17:11.308Z"
   },
   {
    "duration": 9,
    "start_time": "2021-09-21T12:18:19.643Z"
   },
   {
    "duration": 6,
    "start_time": "2021-09-21T12:21:12.131Z"
   },
   {
    "duration": 33,
    "start_time": "2021-09-21T12:21:25.569Z"
   },
   {
    "duration": 9,
    "start_time": "2021-09-21T12:21:27.306Z"
   },
   {
    "duration": 7742,
    "start_time": "2021-09-21T12:21:39.194Z"
   },
   {
    "duration": 8500,
    "start_time": "2021-09-21T12:21:54.642Z"
   },
   {
    "duration": 16,
    "start_time": "2021-09-21T12:22:53.705Z"
   },
   {
    "duration": 7062,
    "start_time": "2021-09-21T12:23:21.842Z"
   },
   {
    "duration": 10,
    "start_time": "2021-09-21T12:25:00.848Z"
   },
   {
    "duration": 833,
    "start_time": "2021-09-21T12:25:01.074Z"
   },
   {
    "duration": 8,
    "start_time": "2021-09-21T12:25:29.824Z"
   },
   {
    "duration": 1393,
    "start_time": "2021-09-21T12:25:30.448Z"
   },
   {
    "duration": 8,
    "start_time": "2021-09-21T12:25:45.680Z"
   },
   {
    "duration": 795,
    "start_time": "2021-09-21T12:25:46.104Z"
   },
   {
    "duration": 9,
    "start_time": "2021-09-21T12:27:16.655Z"
   },
   {
    "duration": 815,
    "start_time": "2021-09-21T12:27:17.144Z"
   },
   {
    "duration": 17,
    "start_time": "2021-09-21T12:27:38.455Z"
   },
   {
    "duration": 267,
    "start_time": "2021-09-21T12:30:24.742Z"
   },
   {
    "duration": 28,
    "start_time": "2021-09-21T12:30:45.613Z"
   },
   {
    "duration": 37,
    "start_time": "2021-09-21T12:30:51.942Z"
   },
   {
    "duration": 16,
    "start_time": "2021-09-21T12:30:53.454Z"
   },
   {
    "duration": 37,
    "start_time": "2021-09-21T12:32:10.112Z"
   },
   {
    "duration": 16,
    "start_time": "2021-09-21T12:32:10.814Z"
   },
   {
    "duration": 41,
    "start_time": "2021-09-21T12:32:29.134Z"
   },
   {
    "duration": 17,
    "start_time": "2021-09-21T12:32:29.828Z"
   },
   {
    "duration": 38,
    "start_time": "2021-09-21T12:32:42.365Z"
   },
   {
    "duration": 17,
    "start_time": "2021-09-21T12:32:44.822Z"
   },
   {
    "duration": 9,
    "start_time": "2021-09-21T12:32:50.644Z"
   },
   {
    "duration": 338,
    "start_time": "2021-09-21T12:33:01.659Z"
   },
   {
    "duration": 307,
    "start_time": "2021-09-21T12:33:06.468Z"
   },
   {
    "duration": 349,
    "start_time": "2021-09-21T12:34:02.621Z"
   },
   {
    "duration": 10,
    "start_time": "2021-09-21T12:35:22.580Z"
   },
   {
    "duration": 347,
    "start_time": "2021-09-21T12:35:23.370Z"
   },
   {
    "duration": 378,
    "start_time": "2021-09-21T12:35:34.419Z"
   },
   {
    "duration": 9,
    "start_time": "2021-09-21T12:37:43.298Z"
   },
   {
    "duration": 363,
    "start_time": "2021-09-21T12:37:43.986Z"
   },
   {
    "duration": 456,
    "start_time": "2021-09-21T12:37:45.227Z"
   },
   {
    "duration": 369,
    "start_time": "2021-09-21T12:46:48.088Z"
   },
   {
    "duration": 408,
    "start_time": "2021-09-21T12:46:48.460Z"
   },
   {
    "duration": 6,
    "start_time": "2021-09-21T12:51:02.430Z"
   },
   {
    "duration": 42,
    "start_time": "2021-09-21T12:51:03.166Z"
   },
   {
    "duration": 25,
    "start_time": "2021-09-21T12:51:04.605Z"
   },
   {
    "duration": 41,
    "start_time": "2021-09-21T12:51:27.725Z"
   },
   {
    "duration": 31,
    "start_time": "2021-09-21T12:51:34.101Z"
   },
   {
    "duration": 8,
    "start_time": "2021-09-21T12:53:23.798Z"
   },
   {
    "duration": 27,
    "start_time": "2021-09-21T12:53:24.989Z"
   },
   {
    "duration": 9,
    "start_time": "2021-09-21T12:53:26.277Z"
   },
   {
    "duration": 775,
    "start_time": "2021-09-21T12:53:29.533Z"
   },
   {
    "duration": 5,
    "start_time": "2021-09-21T12:53:56.020Z"
   },
   {
    "duration": 9,
    "start_time": "2021-09-21T12:54:05.252Z"
   },
   {
    "duration": 29,
    "start_time": "2021-09-21T12:54:05.764Z"
   },
   {
    "duration": 9,
    "start_time": "2021-09-21T12:54:06.349Z"
   },
   {
    "duration": 8,
    "start_time": "2021-09-21T12:54:06.886Z"
   },
   {
    "duration": 11,
    "start_time": "2021-09-21T12:54:42.814Z"
   },
   {
    "duration": 26,
    "start_time": "2021-09-21T12:54:43.340Z"
   },
   {
    "duration": 9,
    "start_time": "2021-09-21T12:54:43.860Z"
   },
   {
    "duration": 8,
    "start_time": "2021-09-21T12:54:44.740Z"
   },
   {
    "duration": 10,
    "start_time": "2021-09-21T12:56:37.228Z"
   },
   {
    "duration": 42,
    "start_time": "2021-09-21T12:56:37.699Z"
   },
   {
    "duration": 9,
    "start_time": "2021-09-21T12:56:38.276Z"
   },
   {
    "duration": 9,
    "start_time": "2021-09-21T12:56:48.861Z"
   },
   {
    "duration": 8,
    "start_time": "2021-09-21T12:56:49.395Z"
   },
   {
    "duration": 10288,
    "start_time": "2021-09-21T13:09:09.807Z"
   },
   {
    "duration": 111598,
    "start_time": "2021-09-21T13:09:43.112Z"
   },
   {
    "duration": 6755,
    "start_time": "2021-09-21T13:13:51.444Z"
   },
   {
    "duration": 16,
    "start_time": "2021-09-21T13:14:20.796Z"
   },
   {
    "duration": 40,
    "start_time": "2021-09-21T13:14:34.016Z"
   },
   {
    "duration": 18,
    "start_time": "2021-09-21T13:14:41.948Z"
   },
   {
    "duration": 22,
    "start_time": "2021-09-21T13:15:58.700Z"
   },
   {
    "duration": 111469,
    "start_time": "2021-09-21T13:16:05.402Z"
   },
   {
    "duration": 19,
    "start_time": "2021-09-21T13:17:56.874Z"
   },
   {
    "duration": 57,
    "start_time": "2021-09-21T13:17:56.896Z"
   },
   {
    "duration": 17,
    "start_time": "2021-09-21T13:17:56.956Z"
   },
   {
    "duration": 355,
    "start_time": "2021-09-21T13:21:04.418Z"
   },
   {
    "duration": 1495,
    "start_time": "2021-09-21T13:28:26.498Z"
   },
   {
    "duration": 769,
    "start_time": "2021-09-21T13:28:27.996Z"
   },
   {
    "duration": 533,
    "start_time": "2021-09-21T13:28:28.768Z"
   },
   {
    "duration": 209,
    "start_time": "2021-09-21T13:28:29.304Z"
   },
   {
    "duration": 13,
    "start_time": "2021-09-21T13:28:29.523Z"
   },
   {
    "duration": 34,
    "start_time": "2021-09-21T13:28:29.538Z"
   },
   {
    "duration": 31,
    "start_time": "2021-09-21T13:28:29.575Z"
   },
   {
    "duration": 11,
    "start_time": "2021-09-21T13:28:29.624Z"
   },
   {
    "duration": 5,
    "start_time": "2021-09-21T13:28:29.849Z"
   },
   {
    "duration": 7,
    "start_time": "2021-09-21T13:28:30.073Z"
   },
   {
    "duration": 5,
    "start_time": "2021-09-21T13:28:30.649Z"
   },
   {
    "duration": 16,
    "start_time": "2021-09-21T13:28:42.289Z"
   },
   {
    "duration": 35,
    "start_time": "2021-09-21T13:28:42.898Z"
   },
   {
    "duration": 13,
    "start_time": "2021-09-21T13:28:46.209Z"
   },
   {
    "duration": 4,
    "start_time": "2021-09-21T13:28:46.640Z"
   },
   {
    "duration": 157,
    "start_time": "2021-09-21T13:28:47.720Z"
   },
   {
    "duration": 5,
    "start_time": "2021-09-21T13:28:49.529Z"
   },
   {
    "duration": 14,
    "start_time": "2021-09-21T13:28:54.857Z"
   },
   {
    "duration": 7,
    "start_time": "2021-09-21T13:28:55.225Z"
   },
   {
    "duration": 5,
    "start_time": "2021-09-21T13:28:55.785Z"
   },
   {
    "duration": 42,
    "start_time": "2021-09-21T13:29:26.872Z"
   },
   {
    "duration": 14,
    "start_time": "2021-09-21T13:29:40.344Z"
   },
   {
    "duration": 5,
    "start_time": "2021-09-21T13:29:41.056Z"
   },
   {
    "duration": 6,
    "start_time": "2021-09-21T13:29:41.723Z"
   },
   {
    "duration": 20,
    "start_time": "2021-09-21T13:29:49.457Z"
   },
   {
    "duration": 11,
    "start_time": "2021-09-21T13:29:49.705Z"
   },
   {
    "duration": 8,
    "start_time": "2021-09-21T13:29:49.961Z"
   },
   {
    "duration": 8,
    "start_time": "2021-09-21T13:29:50.337Z"
   },
   {
    "duration": 12,
    "start_time": "2021-09-21T13:29:50.873Z"
   },
   {
    "duration": 92,
    "start_time": "2021-09-21T13:29:52.288Z"
   },
   {
    "duration": 6,
    "start_time": "2021-09-21T13:29:53.416Z"
   },
   {
    "duration": 42,
    "start_time": "2021-09-21T13:30:05.290Z"
   },
   {
    "duration": 9,
    "start_time": "2021-09-21T13:30:05.696Z"
   },
   {
    "duration": 365,
    "start_time": "2021-09-21T13:30:09.965Z"
   },
   {
    "duration": 360,
    "start_time": "2021-09-21T13:30:11.056Z"
   },
   {
    "duration": 6,
    "start_time": "2021-09-21T13:30:26.031Z"
   },
   {
    "duration": 40,
    "start_time": "2021-09-21T13:30:26.776Z"
   },
   {
    "duration": 6,
    "start_time": "2021-09-21T13:30:38.800Z"
   },
   {
    "duration": 41,
    "start_time": "2021-09-21T13:30:39.288Z"
   },
   {
    "duration": 30,
    "start_time": "2021-09-21T13:30:40.512Z"
   },
   {
    "duration": 5,
    "start_time": "2021-09-21T13:35:05.982Z"
   },
   {
    "duration": 4,
    "start_time": "2021-09-21T13:37:05.254Z"
   },
   {
    "duration": 5,
    "start_time": "2021-09-21T13:37:06.980Z"
   },
   {
    "duration": 38,
    "start_time": "2021-09-21T13:37:07.438Z"
   },
   {
    "duration": 6,
    "start_time": "2021-09-21T13:37:30.398Z"
   },
   {
    "duration": 15,
    "start_time": "2021-09-21T13:37:38.933Z"
   },
   {
    "duration": 4,
    "start_time": "2021-09-21T13:37:59.293Z"
   },
   {
    "duration": 8,
    "start_time": "2021-09-21T13:37:59.726Z"
   },
   {
    "duration": 41,
    "start_time": "2021-09-21T13:38:00.150Z"
   },
   {
    "duration": 5,
    "start_time": "2021-09-21T13:38:01.636Z"
   },
   {
    "duration": 13,
    "start_time": "2021-09-21T13:38:02.582Z"
   },
   {
    "duration": 4,
    "start_time": "2021-09-21T13:38:21.581Z"
   },
   {
    "duration": 6,
    "start_time": "2021-09-21T13:38:22.718Z"
   },
   {
    "duration": 60,
    "start_time": "2021-09-21T13:38:24.157Z"
   },
   {
    "duration": 5,
    "start_time": "2021-09-21T13:38:30.814Z"
   },
   {
    "duration": 12,
    "start_time": "2021-09-21T13:38:32.846Z"
   },
   {
    "duration": 9,
    "start_time": "2021-09-21T13:39:38.197Z"
   },
   {
    "duration": 48,
    "start_time": "2021-09-21T13:39:39.549Z"
   },
   {
    "duration": 4,
    "start_time": "2021-09-21T13:40:05.293Z"
   },
   {
    "duration": 6,
    "start_time": "2021-09-21T13:40:06.477Z"
   },
   {
    "duration": 41,
    "start_time": "2021-09-21T13:40:06.941Z"
   },
   {
    "duration": 6,
    "start_time": "2021-09-21T13:40:17.943Z"
   },
   {
    "duration": 42,
    "start_time": "2021-09-21T13:40:18.464Z"
   },
   {
    "duration": 6,
    "start_time": "2021-09-21T13:40:36.373Z"
   },
   {
    "duration": 695,
    "start_time": "2021-09-21T13:40:37.084Z"
   },
   {
    "duration": 6,
    "start_time": "2021-09-21T13:43:43.587Z"
   },
   {
    "duration": 7710,
    "start_time": "2021-09-21T13:43:49.843Z"
   },
   {
    "duration": 5,
    "start_time": "2021-09-21T13:44:04.091Z"
   },
   {
    "duration": 7439,
    "start_time": "2021-09-21T13:44:04.276Z"
   },
   {
    "duration": 7,
    "start_time": "2021-09-21T13:44:24.835Z"
   },
   {
    "duration": 25,
    "start_time": "2021-09-21T13:44:27.988Z"
   },
   {
    "duration": 7,
    "start_time": "2021-09-21T13:44:58.571Z"
   },
   {
    "duration": 554,
    "start_time": "2021-09-21T13:45:06.074Z"
   },
   {
    "duration": 276,
    "start_time": "2021-09-21T13:45:27.569Z"
   },
   {
    "duration": 535,
    "start_time": "2021-09-21T13:45:32.338Z"
   },
   {
    "duration": 274,
    "start_time": "2021-09-21T13:45:40.978Z"
   },
   {
    "duration": 18,
    "start_time": "2021-09-21T13:45:52.866Z"
   },
   {
    "duration": 6,
    "start_time": "2021-09-21T13:45:56.506Z"
   },
   {
    "duration": 6,
    "start_time": "2021-09-21T13:46:22.881Z"
   },
   {
    "duration": 15,
    "start_time": "2021-09-21T13:46:28.706Z"
   },
   {
    "duration": 6,
    "start_time": "2021-09-21T13:46:29.194Z"
   },
   {
    "duration": 5,
    "start_time": "2021-09-21T13:46:30.450Z"
   },
   {
    "duration": 7,
    "start_time": "2021-09-21T13:46:30.897Z"
   },
   {
    "duration": 81,
    "start_time": "2021-09-21T13:46:31.443Z"
   },
   {
    "duration": 34,
    "start_time": "2021-09-21T13:46:59.451Z"
   },
   {
    "duration": 25,
    "start_time": "2021-09-21T13:48:32.393Z"
   },
   {
    "duration": 9,
    "start_time": "2021-09-21T13:48:32.913Z"
   },
   {
    "duration": 8,
    "start_time": "2021-09-21T13:48:40.321Z"
   },
   {
    "duration": 7,
    "start_time": "2021-09-21T13:48:54.009Z"
   },
   {
    "duration": 9,
    "start_time": "2021-09-21T13:48:54.977Z"
   },
   {
    "duration": 25,
    "start_time": "2021-09-21T13:49:28.368Z"
   },
   {
    "duration": 7,
    "start_time": "2021-09-21T13:49:52.928Z"
   },
   {
    "duration": 24,
    "start_time": "2021-09-21T13:49:55.905Z"
   },
   {
    "duration": 7,
    "start_time": "2021-09-21T13:49:58.121Z"
   },
   {
    "duration": 36,
    "start_time": "2021-09-21T13:51:53.024Z"
   },
   {
    "duration": 7,
    "start_time": "2021-09-21T13:53:57.112Z"
   },
   {
    "duration": 42,
    "start_time": "2021-09-21T13:53:57.575Z"
   },
   {
    "duration": 34,
    "start_time": "2021-09-21T13:53:59.512Z"
   },
   {
    "duration": 32,
    "start_time": "2021-09-21T13:54:41.537Z"
   },
   {
    "duration": 30,
    "start_time": "2021-09-21T13:56:27.575Z"
   },
   {
    "duration": 7,
    "start_time": "2021-09-21T13:56:28.407Z"
   },
   {
    "duration": 8,
    "start_time": "2021-09-21T13:56:32.502Z"
   },
   {
    "duration": 7,
    "start_time": "2021-09-21T13:57:07.878Z"
   },
   {
    "duration": 9,
    "start_time": "2021-09-21T13:57:08.302Z"
   },
   {
    "duration": 10,
    "start_time": "2021-09-21T14:00:46.406Z"
   },
   {
    "duration": 7,
    "start_time": "2021-09-21T14:00:58.798Z"
   },
   {
    "duration": 9,
    "start_time": "2021-09-21T14:03:50.588Z"
   },
   {
    "duration": 10,
    "start_time": "2021-09-21T14:04:02.837Z"
   },
   {
    "duration": 172,
    "start_time": "2021-09-21T14:04:53.291Z"
   },
   {
    "duration": 529,
    "start_time": "2021-09-21T14:04:53.476Z"
   },
   {
    "duration": 11,
    "start_time": "2021-09-21T14:04:54.012Z"
   },
   {
    "duration": 347,
    "start_time": "2021-09-21T14:04:54.651Z"
   },
   {
    "duration": 354,
    "start_time": "2021-09-21T14:04:55.077Z"
   },
   {
    "duration": 6,
    "start_time": "2021-09-21T14:05:00.139Z"
   },
   {
    "duration": 76,
    "start_time": "2021-09-21T14:05:00.674Z"
   },
   {
    "duration": 8,
    "start_time": "2021-09-21T14:05:07.178Z"
   },
   {
    "duration": 6,
    "start_time": "2021-09-21T14:05:08.371Z"
   },
   {
    "duration": 51,
    "start_time": "2021-09-21T14:05:12.604Z"
   },
   {
    "duration": 39,
    "start_time": "2021-09-21T14:05:13.347Z"
   },
   {
    "duration": 407,
    "start_time": "2021-09-21T14:05:19.595Z"
   },
   {
    "duration": 8,
    "start_time": "2021-09-21T14:05:40.610Z"
   },
   {
    "duration": 8,
    "start_time": "2021-09-21T14:05:42.187Z"
   },
   {
    "duration": 90,
    "start_time": "2021-09-21T14:06:13.026Z"
   },
   {
    "duration": 184,
    "start_time": "2021-09-21T14:06:37.667Z"
   },
   {
    "duration": 25,
    "start_time": "2021-09-21T14:06:47.019Z"
   },
   {
    "duration": 655,
    "start_time": "2021-09-21T14:07:23.466Z"
   },
   {
    "duration": 187,
    "start_time": "2021-09-21T14:07:29.563Z"
   },
   {
    "duration": 26,
    "start_time": "2021-09-21T14:07:30.179Z"
   },
   {
    "duration": 116,
    "start_time": "2021-09-21T14:08:22.916Z"
   },
   {
    "duration": 46,
    "start_time": "2021-09-21T14:09:08.978Z"
   },
   {
    "duration": 155,
    "start_time": "2021-09-21T14:21:01.493Z"
   },
   {
    "duration": 526,
    "start_time": "2021-09-21T14:21:01.958Z"
   },
   {
    "duration": 9,
    "start_time": "2021-09-21T14:21:02.486Z"
   },
   {
    "duration": 381,
    "start_time": "2021-09-21T14:21:03.196Z"
   },
   {
    "duration": 360,
    "start_time": "2021-09-21T14:21:06.829Z"
   },
   {
    "duration": 1306,
    "start_time": "2021-09-21T14:22:02.569Z"
   },
   {
    "duration": 744,
    "start_time": "2021-09-21T14:22:03.878Z"
   },
   {
    "duration": 547,
    "start_time": "2021-09-21T14:22:04.626Z"
   },
   {
    "duration": 232,
    "start_time": "2021-09-21T14:22:05.177Z"
   },
   {
    "duration": 21,
    "start_time": "2021-09-21T14:22:05.411Z"
   },
   {
    "duration": 9,
    "start_time": "2021-09-21T14:22:05.435Z"
   },
   {
    "duration": 26,
    "start_time": "2021-09-21T14:22:05.447Z"
   },
   {
    "duration": 10,
    "start_time": "2021-09-21T14:22:05.513Z"
   },
   {
    "duration": 5,
    "start_time": "2021-09-21T14:22:05.736Z"
   },
   {
    "duration": 7,
    "start_time": "2021-09-21T14:22:06.584Z"
   },
   {
    "duration": 5,
    "start_time": "2021-09-21T14:22:07.129Z"
   },
   {
    "duration": 15,
    "start_time": "2021-09-21T14:22:09.978Z"
   },
   {
    "duration": 35,
    "start_time": "2021-09-21T14:22:11.112Z"
   },
   {
    "duration": 14,
    "start_time": "2021-09-21T14:22:13.807Z"
   },
   {
    "duration": 5,
    "start_time": "2021-09-21T14:22:14.464Z"
   },
   {
    "duration": 100,
    "start_time": "2021-09-21T14:22:15.353Z"
   },
   {
    "duration": 6,
    "start_time": "2021-09-21T14:22:16.169Z"
   },
   {
    "duration": 15,
    "start_time": "2021-09-21T14:22:16.697Z"
   },
   {
    "duration": 5,
    "start_time": "2021-09-21T14:22:17.201Z"
   },
   {
    "duration": 6,
    "start_time": "2021-09-21T14:22:17.705Z"
   },
   {
    "duration": 20,
    "start_time": "2021-09-21T14:22:19.673Z"
   },
   {
    "duration": 10,
    "start_time": "2021-09-21T14:22:20.089Z"
   },
   {
    "duration": 174,
    "start_time": "2021-09-21T14:22:20.872Z"
   },
   {
    "duration": 559,
    "start_time": "2021-09-21T14:22:21.104Z"
   },
   {
    "duration": 8,
    "start_time": "2021-09-21T14:22:21.666Z"
   },
   {
    "duration": 380,
    "start_time": "2021-09-21T14:22:21.677Z"
   },
   {
    "duration": 404,
    "start_time": "2021-09-21T14:22:22.060Z"
   },
   {
    "duration": 6,
    "start_time": "2021-09-21T14:23:34.216Z"
   },
   {
    "duration": 73,
    "start_time": "2021-09-21T14:23:34.791Z"
   },
   {
    "duration": 4,
    "start_time": "2021-09-21T14:23:52.840Z"
   },
   {
    "duration": 7,
    "start_time": "2021-09-21T14:23:53.304Z"
   },
   {
    "duration": 53,
    "start_time": "2021-09-21T14:23:53.928Z"
   },
   {
    "duration": 42,
    "start_time": "2021-09-21T14:23:55.712Z"
   },
   {
    "duration": 399,
    "start_time": "2021-09-21T14:23:58.727Z"
   },
   {
    "duration": 9,
    "start_time": "2021-09-21T14:27:00.111Z"
   },
   {
    "duration": 9,
    "start_time": "2021-09-21T14:27:01.167Z"
   },
   {
    "duration": 89,
    "start_time": "2021-09-21T14:32:34.197Z"
   },
   {
    "duration": 99,
    "start_time": "2021-09-21T14:32:38.965Z"
   },
   {
    "duration": 86,
    "start_time": "2021-09-21T14:32:48.924Z"
   },
   {
    "duration": 9,
    "start_time": "2021-09-21T14:33:01.174Z"
   },
   {
    "duration": 9,
    "start_time": "2021-09-21T14:33:14.292Z"
   },
   {
    "duration": 1905,
    "start_time": "2021-09-21T14:33:59.393Z"
   },
   {
    "duration": 815,
    "start_time": "2021-09-21T14:34:01.301Z"
   },
   {
    "duration": 580,
    "start_time": "2021-09-21T14:34:02.120Z"
   },
   {
    "duration": 326,
    "start_time": "2021-09-21T14:34:02.704Z"
   },
   {
    "duration": 15,
    "start_time": "2021-09-21T14:34:03.033Z"
   },
   {
    "duration": 25,
    "start_time": "2021-09-21T14:34:03.051Z"
   },
   {
    "duration": 57,
    "start_time": "2021-09-21T14:34:03.079Z"
   },
   {
    "duration": 14,
    "start_time": "2021-09-21T14:34:03.140Z"
   },
   {
    "duration": 17,
    "start_time": "2021-09-21T14:34:03.157Z"
   },
   {
    "duration": 26,
    "start_time": "2021-09-21T14:34:03.177Z"
   },
   {
    "duration": 18,
    "start_time": "2021-09-21T14:34:03.206Z"
   },
   {
    "duration": 17,
    "start_time": "2021-09-21T14:34:03.375Z"
   },
   {
    "duration": 37,
    "start_time": "2021-09-21T14:34:03.584Z"
   },
   {
    "duration": 14,
    "start_time": "2021-09-21T14:34:04.264Z"
   },
   {
    "duration": 5,
    "start_time": "2021-09-21T14:34:06.000Z"
   },
   {
    "duration": 95,
    "start_time": "2021-09-21T14:34:06.831Z"
   },
   {
    "duration": 5,
    "start_time": "2021-09-21T14:34:07.464Z"
   },
   {
    "duration": 14,
    "start_time": "2021-09-21T14:34:07.833Z"
   },
   {
    "duration": 7,
    "start_time": "2021-09-21T14:34:08.104Z"
   },
   {
    "duration": 5,
    "start_time": "2021-09-21T14:34:08.344Z"
   },
   {
    "duration": 22,
    "start_time": "2021-09-21T14:34:09.902Z"
   },
   {
    "duration": 10,
    "start_time": "2021-09-21T14:34:09.926Z"
   },
   {
    "duration": 27,
    "start_time": "2021-09-21T14:34:09.939Z"
   },
   {
    "duration": 22,
    "start_time": "2021-09-21T14:34:09.969Z"
   },
   {
    "duration": 167,
    "start_time": "2021-09-21T14:34:11.423Z"
   },
   {
    "duration": 548,
    "start_time": "2021-09-21T14:34:11.634Z"
   },
   {
    "duration": 9,
    "start_time": "2021-09-21T14:34:12.185Z"
   },
   {
    "duration": 376,
    "start_time": "2021-09-21T14:34:12.198Z"
   },
   {
    "duration": 478,
    "start_time": "2021-09-21T14:34:12.576Z"
   },
   {
    "duration": 6,
    "start_time": "2021-09-21T14:34:13.384Z"
   },
   {
    "duration": 71,
    "start_time": "2021-09-21T14:34:13.839Z"
   },
   {
    "duration": 4,
    "start_time": "2021-09-21T14:34:14.112Z"
   },
   {
    "duration": 7,
    "start_time": "2021-09-21T14:34:14.336Z"
   },
   {
    "duration": 52,
    "start_time": "2021-09-21T14:34:14.872Z"
   },
   {
    "duration": 40,
    "start_time": "2021-09-21T14:34:15.313Z"
   },
   {
    "duration": 417,
    "start_time": "2021-09-21T14:34:16.961Z"
   },
   {
    "duration": 9,
    "start_time": "2021-09-21T14:34:18.664Z"
   },
   {
    "duration": 8,
    "start_time": "2021-09-21T14:34:19.295Z"
   },
   {
    "duration": 324,
    "start_time": "2021-09-22T09:01:36.970Z"
   },
   {
    "duration": 1282,
    "start_time": "2021-09-22T09:01:50.156Z"
   },
   {
    "duration": 746,
    "start_time": "2021-09-22T09:01:51.441Z"
   },
   {
    "duration": 537,
    "start_time": "2021-09-22T09:01:52.190Z"
   },
   {
    "duration": 231,
    "start_time": "2021-09-22T09:01:52.730Z"
   },
   {
    "duration": 46,
    "start_time": "2021-09-22T09:01:53.723Z"
   },
   {
    "duration": 80,
    "start_time": "2021-09-22T09:02:17.281Z"
   },
   {
    "duration": 20,
    "start_time": "2021-09-22T09:11:06.999Z"
   },
   {
    "duration": 14,
    "start_time": "2021-09-22T09:12:17.872Z"
   },
   {
    "duration": 28,
    "start_time": "2021-09-22T09:13:01.253Z"
   },
   {
    "duration": 14,
    "start_time": "2021-09-22T09:17:37.474Z"
   },
   {
    "duration": 6,
    "start_time": "2021-09-22T09:18:14.330Z"
   },
   {
    "duration": 94,
    "start_time": "2021-09-22T09:20:11.091Z"
   },
   {
    "duration": 6,
    "start_time": "2021-09-22T09:20:11.525Z"
   },
   {
    "duration": 399,
    "start_time": "2021-09-22T09:20:12.960Z"
   },
   {
    "duration": -89,
    "start_time": "2021-09-22T09:20:13.452Z"
   },
   {
    "duration": 1320,
    "start_time": "2021-09-22T09:20:36.354Z"
   },
   {
    "duration": 768,
    "start_time": "2021-09-22T09:20:37.677Z"
   },
   {
    "duration": 657,
    "start_time": "2021-09-22T09:20:38.448Z"
   },
   {
    "duration": 223,
    "start_time": "2021-09-22T09:20:39.122Z"
   },
   {
    "duration": 95,
    "start_time": "2021-09-22T09:20:39.347Z"
   },
   {
    "duration": 11,
    "start_time": "2021-09-22T09:20:39.445Z"
   },
   {
    "duration": 7,
    "start_time": "2021-09-22T09:20:42.611Z"
   },
   {
    "duration": 25,
    "start_time": "2021-09-22T09:20:42.802Z"
   },
   {
    "duration": 10,
    "start_time": "2021-09-22T09:20:43.063Z"
   },
   {
    "duration": 5,
    "start_time": "2021-09-22T09:20:43.355Z"
   },
   {
    "duration": 7,
    "start_time": "2021-09-22T09:20:43.589Z"
   },
   {
    "duration": 6,
    "start_time": "2021-09-22T09:20:43.826Z"
   },
   {
    "duration": 15,
    "start_time": "2021-09-22T09:20:50.091Z"
   },
   {
    "duration": 31,
    "start_time": "2021-09-22T09:20:50.762Z"
   },
   {
    "duration": 15,
    "start_time": "2021-09-22T09:20:55.730Z"
   },
   {
    "duration": 6,
    "start_time": "2021-09-22T09:21:08.474Z"
   },
   {
    "duration": 115,
    "start_time": "2021-09-22T09:21:09.107Z"
   },
   {
    "duration": 6,
    "start_time": "2021-09-22T09:21:10.794Z"
   },
   {
    "duration": 16,
    "start_time": "2021-09-22T09:21:11.724Z"
   },
   {
    "duration": 5,
    "start_time": "2021-09-22T09:21:12.595Z"
   },
   {
    "duration": 6,
    "start_time": "2021-09-22T09:21:16.362Z"
   },
   {
    "duration": 16,
    "start_time": "2021-09-22T09:23:10.498Z"
   },
   {
    "duration": 5,
    "start_time": "2021-09-22T09:23:11.338Z"
   },
   {
    "duration": 86,
    "start_time": "2021-09-22T09:23:12.828Z"
   },
   {
    "duration": 6,
    "start_time": "2021-09-22T09:23:13.593Z"
   },
   {
    "duration": 12,
    "start_time": "2021-09-22T09:23:15.267Z"
   },
   {
    "duration": 5,
    "start_time": "2021-09-22T09:23:15.722Z"
   },
   {
    "duration": 6,
    "start_time": "2021-09-22T09:23:16.473Z"
   },
   {
    "duration": 20,
    "start_time": "2021-09-22T09:24:59.482Z"
   },
   {
    "duration": 10,
    "start_time": "2021-09-22T09:25:00.345Z"
   },
   {
    "duration": 9,
    "start_time": "2021-09-22T09:25:01.001Z"
   },
   {
    "duration": 9,
    "start_time": "2021-09-22T09:25:01.690Z"
   },
   {
    "duration": 137,
    "start_time": "2021-09-22T09:25:21.321Z"
   },
   {
    "duration": 509,
    "start_time": "2021-09-22T09:25:22.448Z"
   },
   {
    "duration": 9,
    "start_time": "2021-09-22T09:25:23.753Z"
   },
   {
    "duration": 361,
    "start_time": "2021-09-22T09:25:24.523Z"
   },
   {
    "duration": 355,
    "start_time": "2021-09-22T09:25:26.833Z"
   },
   {
    "duration": 388,
    "start_time": "2021-09-22T09:26:24.807Z"
   },
   {
    "duration": 16,
    "start_time": "2021-09-22T09:29:44.318Z"
   },
   {
    "duration": 2742,
    "start_time": "2021-09-22T09:36:50.938Z"
   },
   {
    "duration": 783,
    "start_time": "2021-09-22T09:36:53.682Z"
   },
   {
    "duration": 515,
    "start_time": "2021-09-22T09:36:54.469Z"
   },
   {
    "duration": 222,
    "start_time": "2021-09-22T09:36:54.987Z"
   },
   {
    "duration": 85,
    "start_time": "2021-09-22T09:36:55.212Z"
   },
   {
    "duration": 12,
    "start_time": "2021-09-22T09:36:58.913Z"
   },
   {
    "duration": 8,
    "start_time": "2021-09-22T09:36:59.313Z"
   },
   {
    "duration": 22,
    "start_time": "2021-09-22T09:36:59.715Z"
   },
   {
    "duration": 11,
    "start_time": "2021-09-22T09:37:00.104Z"
   },
   {
    "duration": 5,
    "start_time": "2021-09-22T09:37:00.554Z"
   },
   {
    "duration": 13,
    "start_time": "2021-09-22T09:37:01.289Z"
   },
   {
    "duration": 9,
    "start_time": "2021-09-22T09:38:00.096Z"
   },
   {
    "duration": 5,
    "start_time": "2021-09-22T09:38:15.337Z"
   },
   {
    "duration": 6,
    "start_time": "2021-09-22T09:38:21.730Z"
   },
   {
    "duration": 5,
    "start_time": "2021-09-22T09:38:22.752Z"
   },
   {
    "duration": 15,
    "start_time": "2021-09-22T09:38:42.858Z"
   },
   {
    "duration": 29,
    "start_time": "2021-09-22T09:38:43.865Z"
   },
   {
    "duration": 20,
    "start_time": "2021-09-22T09:39:00.929Z"
   },
   {
    "duration": 5,
    "start_time": "2021-09-22T09:39:01.360Z"
   },
   {
    "duration": 90,
    "start_time": "2021-09-22T09:39:02.009Z"
   },
   {
    "duration": 5,
    "start_time": "2021-09-22T09:39:02.650Z"
   },
   {
    "duration": 13,
    "start_time": "2021-09-22T09:39:03.945Z"
   },
   {
    "duration": 6,
    "start_time": "2021-09-22T09:39:04.424Z"
   },
   {
    "duration": 5,
    "start_time": "2021-09-22T09:39:08.248Z"
   },
   {
    "duration": 21,
    "start_time": "2021-09-22T09:39:37.985Z"
   },
   {
    "duration": 10,
    "start_time": "2021-09-22T09:39:38.713Z"
   },
   {
    "duration": 8,
    "start_time": "2021-09-22T09:39:39.505Z"
   },
   {
    "duration": 8,
    "start_time": "2021-09-22T09:39:40.481Z"
   },
   {
    "duration": 150,
    "start_time": "2021-09-22T09:39:46.312Z"
   },
   {
    "duration": 488,
    "start_time": "2021-09-22T09:39:46.913Z"
   },
   {
    "duration": 9,
    "start_time": "2021-09-22T09:39:47.529Z"
   },
   {
    "duration": 365,
    "start_time": "2021-09-22T09:39:49.184Z"
   },
   {
    "duration": 358,
    "start_time": "2021-09-22T09:39:50.384Z"
   },
   {
    "duration": 382,
    "start_time": "2021-09-22T09:39:56.385Z"
   },
   {
    "duration": 5,
    "start_time": "2021-09-22T09:40:34.505Z"
   },
   {
    "duration": 72,
    "start_time": "2021-09-22T09:40:38.153Z"
   },
   {
    "duration": 57,
    "start_time": "2021-09-22T10:05:21.970Z"
   },
   {
    "duration": 452,
    "start_time": "2021-09-22T10:06:39.194Z"
   },
   {
    "duration": 43,
    "start_time": "2021-09-22T10:07:09.753Z"
   },
   {
    "duration": 38,
    "start_time": "2021-09-22T10:08:16.415Z"
   },
   {
    "duration": 22,
    "start_time": "2021-09-22T10:08:44.063Z"
   },
   {
    "duration": 31,
    "start_time": "2021-09-22T10:10:22.432Z"
   },
   {
    "duration": 1284,
    "start_time": "2021-09-22T10:11:21.297Z"
   },
   {
    "duration": 763,
    "start_time": "2021-09-22T10:11:22.583Z"
   },
   {
    "duration": 531,
    "start_time": "2021-09-22T10:11:23.349Z"
   },
   {
    "duration": 214,
    "start_time": "2021-09-22T10:11:23.883Z"
   },
   {
    "duration": 113,
    "start_time": "2021-09-22T10:11:24.099Z"
   },
   {
    "duration": 12,
    "start_time": "2021-09-22T10:11:24.849Z"
   },
   {
    "duration": 8,
    "start_time": "2021-09-22T10:11:25.129Z"
   },
   {
    "duration": 22,
    "start_time": "2021-09-22T10:11:25.547Z"
   },
   {
    "duration": 10,
    "start_time": "2021-09-22T10:11:25.793Z"
   },
   {
    "duration": 5,
    "start_time": "2021-09-22T10:11:25.992Z"
   },
   {
    "duration": 12,
    "start_time": "2021-09-22T10:11:26.209Z"
   },
   {
    "duration": 8,
    "start_time": "2021-09-22T10:11:26.425Z"
   },
   {
    "duration": 6,
    "start_time": "2021-09-22T10:11:26.631Z"
   },
   {
    "duration": 5,
    "start_time": "2021-09-22T10:11:27.656Z"
   },
   {
    "duration": 16,
    "start_time": "2021-09-22T10:11:35.095Z"
   },
   {
    "duration": 29,
    "start_time": "2021-09-22T10:11:35.409Z"
   },
   {
    "duration": 17,
    "start_time": "2021-09-22T10:11:37.448Z"
   },
   {
    "duration": 5,
    "start_time": "2021-09-22T10:11:37.751Z"
   },
   {
    "duration": 90,
    "start_time": "2021-09-22T10:11:38.424Z"
   },
   {
    "duration": 5,
    "start_time": "2021-09-22T10:11:39.064Z"
   },
   {
    "duration": 13,
    "start_time": "2021-09-22T10:11:39.752Z"
   },
   {
    "duration": 5,
    "start_time": "2021-09-22T10:11:40.833Z"
   },
   {
    "duration": 6,
    "start_time": "2021-09-22T10:11:41.568Z"
   },
   {
    "duration": 21,
    "start_time": "2021-09-22T10:11:44.065Z"
   },
   {
    "duration": 10,
    "start_time": "2021-09-22T10:11:45.822Z"
   },
   {
    "duration": 9,
    "start_time": "2021-09-22T10:11:46.600Z"
   },
   {
    "duration": 8,
    "start_time": "2021-09-22T10:11:47.264Z"
   },
   {
    "duration": 98,
    "start_time": "2021-09-22T10:11:51.562Z"
   },
   {
    "duration": 48,
    "start_time": "2021-09-22T10:11:53.465Z"
   },
   {
    "duration": 9,
    "start_time": "2021-09-22T10:11:54.136Z"
   },
   {
    "duration": 357,
    "start_time": "2021-09-22T10:11:55.200Z"
   },
   {
    "duration": 373,
    "start_time": "2021-09-22T10:11:59.426Z"
   },
   {
    "duration": 39,
    "start_time": "2021-09-22T10:12:09.321Z"
   },
   {
    "duration": 5,
    "start_time": "2021-09-22T10:12:39.712Z"
   },
   {
    "duration": 28,
    "start_time": "2021-09-22T10:12:40.768Z"
   },
   {
    "duration": 4,
    "start_time": "2021-09-22T10:13:25.184Z"
   },
   {
    "duration": 7,
    "start_time": "2021-09-22T10:13:28.056Z"
   },
   {
    "duration": 48,
    "start_time": "2021-09-22T10:13:28.736Z"
   },
   {
    "duration": 34,
    "start_time": "2021-09-22T10:13:33.344Z"
   },
   {
    "duration": 8,
    "start_time": "2021-09-22T10:13:41.912Z"
   },
   {
    "duration": 8,
    "start_time": "2021-09-22T10:13:43.225Z"
   },
   {
    "duration": 8,
    "start_time": "2021-09-22T10:15:50.287Z"
   },
   {
    "duration": 6,
    "start_time": "2021-09-22T10:15:59.327Z"
   },
   {
    "duration": 5,
    "start_time": "2021-09-22T10:19:22.886Z"
   },
   {
    "duration": 495,
    "start_time": "2021-09-22T10:20:42.654Z"
   },
   {
    "duration": 1877,
    "start_time": "2021-09-22T10:20:48.819Z"
   },
   {
    "duration": 723,
    "start_time": "2021-09-22T10:20:50.699Z"
   },
   {
    "duration": 513,
    "start_time": "2021-09-22T10:20:51.425Z"
   },
   {
    "duration": 211,
    "start_time": "2021-09-22T10:20:51.941Z"
   },
   {
    "duration": 91,
    "start_time": "2021-09-22T10:20:52.155Z"
   },
   {
    "duration": 12,
    "start_time": "2021-09-22T10:20:52.249Z"
   },
   {
    "duration": 23,
    "start_time": "2021-09-22T10:20:52.264Z"
   },
   {
    "duration": 35,
    "start_time": "2021-09-22T10:20:52.289Z"
   },
   {
    "duration": 10,
    "start_time": "2021-09-22T10:20:52.426Z"
   },
   {
    "duration": 5,
    "start_time": "2021-09-22T10:20:52.626Z"
   },
   {
    "duration": 11,
    "start_time": "2021-09-22T10:20:52.834Z"
   },
   {
    "duration": 9,
    "start_time": "2021-09-22T10:20:53.067Z"
   },
   {
    "duration": 6,
    "start_time": "2021-09-22T10:20:53.274Z"
   },
   {
    "duration": 5,
    "start_time": "2021-09-22T10:20:53.466Z"
   },
   {
    "duration": 14,
    "start_time": "2021-09-22T10:20:54.523Z"
   },
   {
    "duration": 28,
    "start_time": "2021-09-22T10:20:54.851Z"
   },
   {
    "duration": 16,
    "start_time": "2021-09-22T10:20:57.987Z"
   },
   {
    "duration": 5,
    "start_time": "2021-09-22T10:20:58.194Z"
   },
   {
    "duration": 84,
    "start_time": "2021-09-22T10:20:58.403Z"
   },
   {
    "duration": 5,
    "start_time": "2021-09-22T10:20:58.577Z"
   },
   {
    "duration": 11,
    "start_time": "2021-09-22T10:20:58.786Z"
   },
   {
    "duration": 5,
    "start_time": "2021-09-22T10:20:59.010Z"
   },
   {
    "duration": 6,
    "start_time": "2021-09-22T10:20:59.226Z"
   },
   {
    "duration": 23,
    "start_time": "2021-09-22T10:21:00.363Z"
   },
   {
    "duration": 10,
    "start_time": "2021-09-22T10:21:00.610Z"
   },
   {
    "duration": 8,
    "start_time": "2021-09-22T10:21:00.826Z"
   },
   {
    "duration": 8,
    "start_time": "2021-09-22T10:21:01.098Z"
   },
   {
    "duration": 86,
    "start_time": "2021-09-22T10:21:02.505Z"
   },
   {
    "duration": 56,
    "start_time": "2021-09-22T10:21:02.722Z"
   },
   {
    "duration": 10,
    "start_time": "2021-09-22T10:21:02.956Z"
   },
   {
    "duration": 361,
    "start_time": "2021-09-22T10:21:03.161Z"
   },
   {
    "duration": 348,
    "start_time": "2021-09-22T10:21:03.658Z"
   },
   {
    "duration": 36,
    "start_time": "2021-09-22T10:21:08.651Z"
   },
   {
    "duration": 6,
    "start_time": "2021-09-22T10:21:14.722Z"
   },
   {
    "duration": 25,
    "start_time": "2021-09-22T10:21:14.914Z"
   },
   {
    "duration": 5,
    "start_time": "2021-09-22T10:21:20.466Z"
   },
   {
    "duration": 6,
    "start_time": "2021-09-22T10:21:23.850Z"
   },
   {
    "duration": 46,
    "start_time": "2021-09-22T10:21:24.955Z"
   },
   {
    "duration": 118,
    "start_time": "2021-09-22T10:22:14.842Z"
   },
   {
    "duration": 729,
    "start_time": "2021-09-22T10:22:22.418Z"
   },
   {
    "duration": 36,
    "start_time": "2021-09-22T10:22:27.635Z"
   },
   {
    "duration": 1160,
    "start_time": "2021-09-22T10:22:28.339Z"
   },
   {
    "duration": 370,
    "start_time": "2021-09-22T10:24:08.795Z"
   },
   {
    "duration": 16,
    "start_time": "2021-09-22T10:38:24.853Z"
   },
   {
    "duration": 11,
    "start_time": "2021-09-22T10:40:45.429Z"
   },
   {
    "duration": 19,
    "start_time": "2021-09-22T10:41:15.797Z"
   },
   {
    "duration": 68,
    "start_time": "2021-09-22T10:42:50.722Z"
   },
   {
    "duration": 53,
    "start_time": "2021-09-22T10:43:27.835Z"
   },
   {
    "duration": 8017,
    "start_time": "2021-09-22T10:44:05.955Z"
   },
   {
    "duration": 806,
    "start_time": "2021-09-22T11:26:00.117Z"
   },
   {
    "duration": 32,
    "start_time": "2021-09-22T11:26:21.774Z"
   },
   {
    "duration": 10,
    "start_time": "2021-09-22T11:26:54.006Z"
   },
   {
    "duration": 27,
    "start_time": "2021-09-22T11:27:04.565Z"
   },
   {
    "duration": 6,
    "start_time": "2021-09-22T11:27:10.845Z"
   },
   {
    "duration": 7,
    "start_time": "2021-09-22T11:27:11.269Z"
   },
   {
    "duration": 45,
    "start_time": "2021-09-22T11:27:11.741Z"
   },
   {
    "duration": 37,
    "start_time": "2021-09-22T11:27:17.565Z"
   },
   {
    "duration": 568,
    "start_time": "2021-09-22T11:27:18.662Z"
   },
   {
    "duration": 8,
    "start_time": "2021-09-22T11:27:25.653Z"
   },
   {
    "duration": 9,
    "start_time": "2021-09-22T11:27:26.869Z"
   },
   {
    "duration": 44,
    "start_time": "2021-09-22T11:28:10.477Z"
   },
   {
    "duration": 36,
    "start_time": "2021-09-22T11:28:13.024Z"
   },
   {
    "duration": 377,
    "start_time": "2021-09-22T11:28:15.814Z"
   },
   {
    "duration": 8,
    "start_time": "2021-09-22T11:28:23.779Z"
   },
   {
    "duration": 9,
    "start_time": "2021-09-22T11:28:33.124Z"
   },
   {
    "duration": 1895,
    "start_time": "2021-09-22T11:32:28.610Z"
   },
   {
    "duration": 804,
    "start_time": "2021-09-22T11:32:30.508Z"
   },
   {
    "duration": 551,
    "start_time": "2021-09-22T11:32:31.315Z"
   },
   {
    "duration": 217,
    "start_time": "2021-09-22T11:32:31.868Z"
   },
   {
    "duration": 94,
    "start_time": "2021-09-22T11:32:32.087Z"
   },
   {
    "duration": 12,
    "start_time": "2021-09-22T11:32:32.184Z"
   },
   {
    "duration": 25,
    "start_time": "2021-09-22T11:32:32.198Z"
   },
   {
    "duration": 44,
    "start_time": "2021-09-22T11:32:32.225Z"
   },
   {
    "duration": 10,
    "start_time": "2021-09-22T11:32:32.419Z"
   },
   {
    "duration": 6,
    "start_time": "2021-09-22T11:32:32.602Z"
   },
   {
    "duration": 12,
    "start_time": "2021-09-22T11:32:32.794Z"
   },
   {
    "duration": 8,
    "start_time": "2021-09-22T11:32:33.043Z"
   },
   {
    "duration": 7,
    "start_time": "2021-09-22T11:32:33.202Z"
   },
   {
    "duration": 5,
    "start_time": "2021-09-22T11:32:33.411Z"
   },
   {
    "duration": 16,
    "start_time": "2021-09-22T11:32:34.745Z"
   },
   {
    "duration": 28,
    "start_time": "2021-09-22T11:32:34.946Z"
   },
   {
    "duration": 15,
    "start_time": "2021-09-22T11:32:36.186Z"
   },
   {
    "duration": 5,
    "start_time": "2021-09-22T11:32:36.385Z"
   },
   {
    "duration": 87,
    "start_time": "2021-09-22T11:32:36.634Z"
   },
   {
    "duration": 5,
    "start_time": "2021-09-22T11:32:36.849Z"
   },
   {
    "duration": 12,
    "start_time": "2021-09-22T11:32:37.098Z"
   },
   {
    "duration": 6,
    "start_time": "2021-09-22T11:32:37.345Z"
   },
   {
    "duration": 6,
    "start_time": "2021-09-22T11:32:37.554Z"
   },
   {
    "duration": 22,
    "start_time": "2021-09-22T11:32:38.466Z"
   },
   {
    "duration": 10,
    "start_time": "2021-09-22T11:32:38.682Z"
   },
   {
    "duration": 7,
    "start_time": "2021-09-22T11:32:38.906Z"
   },
   {
    "duration": 8,
    "start_time": "2021-09-22T11:32:39.137Z"
   },
   {
    "duration": 93,
    "start_time": "2021-09-22T11:32:40.034Z"
   },
   {
    "duration": 46,
    "start_time": "2021-09-22T11:32:40.266Z"
   },
   {
    "duration": 9,
    "start_time": "2021-09-22T11:32:40.538Z"
   },
   {
    "duration": 362,
    "start_time": "2021-09-22T11:32:40.778Z"
   },
   {
    "duration": 393,
    "start_time": "2021-09-22T11:32:41.142Z"
   },
   {
    "duration": 36,
    "start_time": "2021-09-22T11:32:41.562Z"
   },
   {
    "duration": 50,
    "start_time": "2021-09-22T11:32:43.210Z"
   },
   {
    "duration": 11,
    "start_time": "2021-09-22T11:32:43.466Z"
   },
   {
    "duration": 6,
    "start_time": "2021-09-22T11:32:43.682Z"
   },
   {
    "duration": 26,
    "start_time": "2021-09-22T11:32:43.930Z"
   },
   {
    "duration": 4,
    "start_time": "2021-09-22T11:32:44.665Z"
   },
   {
    "duration": 7,
    "start_time": "2021-09-22T11:32:44.906Z"
   },
   {
    "duration": 47,
    "start_time": "2021-09-22T11:32:45.146Z"
   },
   {
    "duration": 33,
    "start_time": "2021-09-22T11:32:45.390Z"
   },
   {
    "duration": 1116,
    "start_time": "2021-09-22T11:32:45.650Z"
   },
   {
    "duration": 7,
    "start_time": "2021-09-22T11:32:47.538Z"
   },
   {
    "duration": 11,
    "start_time": "2021-09-22T11:32:47.778Z"
   }
  ],
  "kernelspec": {
   "display_name": "Python 3 (ipykernel)",
   "language": "python",
   "name": "python3"
  },
  "language_info": {
   "codemirror_mode": {
    "name": "ipython",
    "version": 3
   },
   "file_extension": ".py",
   "mimetype": "text/x-python",
   "name": "python",
   "nbconvert_exporter": "python",
   "pygments_lexer": "ipython3",
   "version": "3.11.1"
  },
  "toc": {
   "base_numbering": 1,
   "nav_menu": {},
   "number_sections": true,
   "sideBar": true,
   "skip_h1_title": true,
   "title_cell": "Содержание",
   "title_sidebar": "Содержание",
   "toc_cell": true,
   "toc_position": {},
   "toc_section_display": true,
   "toc_window_display": true
  }
 },
 "nbformat": 4,
 "nbformat_minor": 4
}
