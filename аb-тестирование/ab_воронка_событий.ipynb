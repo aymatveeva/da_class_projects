{
 "cells": [
  {
   "cell_type": "markdown",
   "metadata": {},
   "source": [
    "# Поведение клиентов мобильного приложения для покупки продуктов\n",
    "* воронка продаж\n",
    "* A/A/B-тест"
   ]
  },
  {
   "cell_type": "markdown",
   "metadata": {
    "toc": true
   },
   "source": [
    "<h1>Содержание<span class=\"tocSkip\"></span></h1>\n",
    "<div class=\"toc\"><ul class=\"toc-item\"><li><span><a href=\"#Загрузка-данных\" data-toc-modified-id=\"Загрузка-данных-1\"><span class=\"toc-item-num\">1&nbsp;&nbsp;</span>Загрузка данных</a></span></li><li><span><a href=\"#Изучение-данных\" data-toc-modified-id=\"Изучение-данных-2\"><span class=\"toc-item-num\">2&nbsp;&nbsp;</span>Изучение данных</a></span></li><li><span><a href=\"#Предобработка-данных\" data-toc-modified-id=\"Предобработка-данных-3\"><span class=\"toc-item-num\">3&nbsp;&nbsp;</span>Предобработка данных</a></span></li><li><span><a href=\"#Исследовательский-анализ-данных\" data-toc-modified-id=\"Исследовательский-анализ-данных-4\"><span class=\"toc-item-num\">4&nbsp;&nbsp;</span>Исследовательский анализ данных</a></span></li><li><span><a href=\"#Воронка-событий\" data-toc-modified-id=\"Воронка-событий-5\"><span class=\"toc-item-num\">5&nbsp;&nbsp;</span>Воронка событий</a></span></li><li><span><a href=\"#A/B-тестирование\" data-toc-modified-id=\"A/B-тестирование-6\"><span class=\"toc-item-num\">6&nbsp;&nbsp;</span>A/B-тестирование</a></span></li><li><span><a href=\"#Общий-вывод\" data-toc-modified-id=\"Общий-вывод-7\"><span class=\"toc-item-num\">7&nbsp;&nbsp;</span>Общий вывод</a></span></li></ul></div>"
   ]
  },
  {
   "cell_type": "markdown",
   "metadata": {},
   "source": [
    "## Загрузка данных"
   ]
  },
  {
   "cell_type": "code",
   "execution_count": 1,
   "metadata": {},
   "outputs": [],
   "source": [
    "import pandas as pd\n",
    "import numpy as np\n",
    "import datetime as dt\n",
    "\n",
    "import seaborn as sns\n",
    "import math as mth\n",
    "import matplotlib.pyplot as plt\n",
    "import plotly.express as px\n",
    "\n",
    "from plotly.subplots import make_subplots\n",
    "from plotly import graph_objects as go \n",
    "from scipy import stats as st\n",
    "from io import StringIO \n",
    "\n",
    "import re\n",
    "import requests\n",
    "import warnings \n",
    "import openpyxl\n",
    "import kaleido"
   ]
  },
  {
   "cell_type": "code",
   "execution_count": 2,
   "metadata": {},
   "outputs": [],
   "source": [
    "pd.set_option('chained_assignment', None)"
   ]
  },
  {
   "cell_type": "code",
   "execution_count": 3,
   "metadata": {},
   "outputs": [],
   "source": [
    "data = pd.read_csv('/datasets/logs_exp.csv', sep ='\\t')"
   ]
  },
  {
   "cell_type": "markdown",
   "metadata": {},
   "source": [
    "## Изучение данных "
   ]
  },
  {
   "cell_type": "code",
   "execution_count": 4,
   "metadata": {},
   "outputs": [
    {
     "name": "stdout",
     "output_type": "stream",
     "text": [
      "<class 'pandas.core.frame.DataFrame'>\n",
      "RangeIndex: 244126 entries, 0 to 244125\n",
      "Data columns (total 4 columns):\n",
      " #   Column          Non-Null Count   Dtype \n",
      "---  ------          --------------   ----- \n",
      " 0   EventName       244126 non-null  object\n",
      " 1   DeviceIDHash    244126 non-null  int64 \n",
      " 2   EventTimestamp  244126 non-null  int64 \n",
      " 3   ExpId           244126 non-null  int64 \n",
      "dtypes: int64(3), object(1)\n",
      "memory usage: 7.5+ MB\n",
      "\n",
      "Количество повторяющихся строк — 413\n"
     ]
    },
    {
     "data": {
      "text/html": [
       "<div>\n",
       "<style scoped>\n",
       "    .dataframe tbody tr th:only-of-type {\n",
       "        vertical-align: middle;\n",
       "    }\n",
       "\n",
       "    .dataframe tbody tr th {\n",
       "        vertical-align: top;\n",
       "    }\n",
       "\n",
       "    .dataframe thead th {\n",
       "        text-align: right;\n",
       "    }\n",
       "</style>\n",
       "<table border=\"1\" class=\"dataframe\">\n",
       "  <thead>\n",
       "    <tr style=\"text-align: right;\">\n",
       "      <th></th>\n",
       "      <th>EventName</th>\n",
       "      <th>DeviceIDHash</th>\n",
       "      <th>EventTimestamp</th>\n",
       "      <th>ExpId</th>\n",
       "    </tr>\n",
       "  </thead>\n",
       "  <tbody>\n",
       "    <tr>\n",
       "      <th>0</th>\n",
       "      <td>MainScreenAppear</td>\n",
       "      <td>4575588528974610257</td>\n",
       "      <td>1564029816</td>\n",
       "      <td>246</td>\n",
       "    </tr>\n",
       "    <tr>\n",
       "      <th>1</th>\n",
       "      <td>MainScreenAppear</td>\n",
       "      <td>7416695313311560658</td>\n",
       "      <td>1564053102</td>\n",
       "      <td>246</td>\n",
       "    </tr>\n",
       "    <tr>\n",
       "      <th>2</th>\n",
       "      <td>PaymentScreenSuccessful</td>\n",
       "      <td>3518123091307005509</td>\n",
       "      <td>1564054127</td>\n",
       "      <td>248</td>\n",
       "    </tr>\n",
       "    <tr>\n",
       "      <th>3</th>\n",
       "      <td>CartScreenAppear</td>\n",
       "      <td>3518123091307005509</td>\n",
       "      <td>1564054127</td>\n",
       "      <td>248</td>\n",
       "    </tr>\n",
       "    <tr>\n",
       "      <th>4</th>\n",
       "      <td>PaymentScreenSuccessful</td>\n",
       "      <td>6217807653094995999</td>\n",
       "      <td>1564055322</td>\n",
       "      <td>248</td>\n",
       "    </tr>\n",
       "  </tbody>\n",
       "</table>\n",
       "</div>"
      ],
      "text/plain": [
       "                 EventName         DeviceIDHash  EventTimestamp  ExpId\n",
       "0         MainScreenAppear  4575588528974610257      1564029816    246\n",
       "1         MainScreenAppear  7416695313311560658      1564053102    246\n",
       "2  PaymentScreenSuccessful  3518123091307005509      1564054127    248\n",
       "3         CartScreenAppear  3518123091307005509      1564054127    248\n",
       "4  PaymentScreenSuccessful  6217807653094995999      1564055322    248"
      ]
     },
     "metadata": {},
     "output_type": "display_data"
    }
   ],
   "source": [
    "data.info() \n",
    "print('\\nКоличество повторяющихся строк —', data.duplicated().sum())\n",
    "display(data.head())"
   ]
  },
  {
   "cell_type": "markdown",
   "metadata": {},
   "source": [
    "<div style=\"border-radius: 15px; border: 3px solid indigo; padding: 15px;\">\n",
    "<b>Вывод</b><br>\n",
    "<li>удалить дубликаты</li>\n",
    "<li>переименовать столбцы по <b>snake case</b></li>\n",
    "<li>добавить столбец с датой и временем</li>\n",
    "<li>добавить столбец с датой</li>\n",
    "</div>"
   ]
  },
  {
   "cell_type": "markdown",
   "metadata": {},
   "source": [
    "## Предобработка данных"
   ]
  },
  {
   "cell_type": "code",
   "execution_count": 5,
   "metadata": {},
   "outputs": [
    {
     "data": {
      "text/plain": [
       "Index(['event_name', 'device_id_hash', 'event_timestamp', 'exp_id'], dtype='object')"
      ]
     },
     "execution_count": 5,
     "metadata": {},
     "output_type": "execute_result"
    }
   ],
   "source": [
    "column_names=[]\n",
    "for column_name in data.columns:\n",
    "    column_name = re.sub('(.)([A-Z][a-z]+)', r'\\1_\\2', column_name)\n",
    "    column_name = re.sub('([a-z0-9])([A-Z])', r'\\1_\\2', column_name).lower()\n",
    "    column_names.append(column_name)\n",
    "data.columns = column_names\n",
    "data.columns"
   ]
  },
  {
   "cell_type": "code",
   "execution_count": 6,
   "metadata": {},
   "outputs": [
    {
     "name": "stdout",
     "output_type": "stream",
     "text": [
      "Количество повторяющихся строк — 0\n"
     ]
    }
   ],
   "source": [
    "data = data.drop_duplicates()\n",
    "print('Количество повторяющихся строк —', data.duplicated().sum())"
   ]
  },
  {
   "cell_type": "code",
   "execution_count": 7,
   "metadata": {},
   "outputs": [],
   "source": [
    "data['event_datetime'] = data['event_timestamp'].apply(lambda x: dt.datetime.fromtimestamp(x))"
   ]
  },
  {
   "cell_type": "code",
   "execution_count": 8,
   "metadata": {},
   "outputs": [],
   "source": [
    "data['event_date'] = data['event_datetime'].dt.date"
   ]
  },
  {
   "cell_type": "code",
   "execution_count": 9,
   "metadata": {},
   "outputs": [
    {
     "data": {
      "text/html": [
       "<div>\n",
       "<style scoped>\n",
       "    .dataframe tbody tr th:only-of-type {\n",
       "        vertical-align: middle;\n",
       "    }\n",
       "\n",
       "    .dataframe tbody tr th {\n",
       "        vertical-align: top;\n",
       "    }\n",
       "\n",
       "    .dataframe thead th {\n",
       "        text-align: right;\n",
       "    }\n",
       "</style>\n",
       "<table border=\"1\" class=\"dataframe\">\n",
       "  <thead>\n",
       "    <tr style=\"text-align: right;\">\n",
       "      <th></th>\n",
       "      <th>event_name</th>\n",
       "      <th>device_id_hash</th>\n",
       "      <th>event_timestamp</th>\n",
       "      <th>exp_id</th>\n",
       "      <th>event_datetime</th>\n",
       "      <th>event_date</th>\n",
       "    </tr>\n",
       "  </thead>\n",
       "  <tbody>\n",
       "    <tr>\n",
       "      <th>0</th>\n",
       "      <td>MainScreenAppear</td>\n",
       "      <td>4575588528974610257</td>\n",
       "      <td>1564029816</td>\n",
       "      <td>246</td>\n",
       "      <td>2019-07-25 07:43:36</td>\n",
       "      <td>2019-07-25</td>\n",
       "    </tr>\n",
       "    <tr>\n",
       "      <th>1</th>\n",
       "      <td>MainScreenAppear</td>\n",
       "      <td>7416695313311560658</td>\n",
       "      <td>1564053102</td>\n",
       "      <td>246</td>\n",
       "      <td>2019-07-25 14:11:42</td>\n",
       "      <td>2019-07-25</td>\n",
       "    </tr>\n",
       "    <tr>\n",
       "      <th>2</th>\n",
       "      <td>PaymentScreenSuccessful</td>\n",
       "      <td>3518123091307005509</td>\n",
       "      <td>1564054127</td>\n",
       "      <td>248</td>\n",
       "      <td>2019-07-25 14:28:47</td>\n",
       "      <td>2019-07-25</td>\n",
       "    </tr>\n",
       "    <tr>\n",
       "      <th>3</th>\n",
       "      <td>CartScreenAppear</td>\n",
       "      <td>3518123091307005509</td>\n",
       "      <td>1564054127</td>\n",
       "      <td>248</td>\n",
       "      <td>2019-07-25 14:28:47</td>\n",
       "      <td>2019-07-25</td>\n",
       "    </tr>\n",
       "    <tr>\n",
       "      <th>4</th>\n",
       "      <td>PaymentScreenSuccessful</td>\n",
       "      <td>6217807653094995999</td>\n",
       "      <td>1564055322</td>\n",
       "      <td>248</td>\n",
       "      <td>2019-07-25 14:48:42</td>\n",
       "      <td>2019-07-25</td>\n",
       "    </tr>\n",
       "  </tbody>\n",
       "</table>\n",
       "</div>"
      ],
      "text/plain": [
       "                event_name       device_id_hash  event_timestamp  exp_id  \\\n",
       "0         MainScreenAppear  4575588528974610257       1564029816     246   \n",
       "1         MainScreenAppear  7416695313311560658       1564053102     246   \n",
       "2  PaymentScreenSuccessful  3518123091307005509       1564054127     248   \n",
       "3         CartScreenAppear  3518123091307005509       1564054127     248   \n",
       "4  PaymentScreenSuccessful  6217807653094995999       1564055322     248   \n",
       "\n",
       "       event_datetime  event_date  \n",
       "0 2019-07-25 07:43:36  2019-07-25  \n",
       "1 2019-07-25 14:11:42  2019-07-25  \n",
       "2 2019-07-25 14:28:47  2019-07-25  \n",
       "3 2019-07-25 14:28:47  2019-07-25  \n",
       "4 2019-07-25 14:48:42  2019-07-25  "
      ]
     },
     "execution_count": 9,
     "metadata": {},
     "output_type": "execute_result"
    }
   ],
   "source": [
    "data.head()"
   ]
  },
  {
   "cell_type": "markdown",
   "metadata": {},
   "source": [
    "<div style=\"border-radius: 15px; border: 3px solid indigo; padding: 15px;\">\n",
    "<b>Вывод</b><br>\n",
    "<li>дубликаты удалены</li>\n",
    "<li>столбцы переименованы по <b>snake case</b></li>\n",
    "<li>добавлен столбец с датой и временем <b>event_datetime</b></li>\n",
    "<li>добавлен столбец с датой <b>event_date</b></li>\n",
    "</div>"
   ]
  },
  {
   "cell_type": "markdown",
   "metadata": {},
   "source": [
    "## Исследовательский анализ данных"
   ]
  },
  {
   "cell_type": "code",
   "execution_count": 10,
   "metadata": {
    "scrolled": true
   },
   "outputs": [],
   "source": [
    "def data_stat(data):\n",
    "    data_stat = data.agg({'event_name':'count', 'device_id_hash':'nunique'}).\\\n",
    "                                           rename(index={'event_name':'events_cnt', 'device_id_hash':'users_cnt'}).to_frame().T\n",
    "    data_stat['min_date'] = data['event_date'].min()\n",
    "    data_stat['max_date'] = data['event_date'].max()\n",
    "    data_stat['period'] = data_stat['max_date']  - data_stat['min_date']\n",
    "    data_stat['events_per_user'] = (data_stat['events_cnt']/data_stat['users_cnt']).round(2)   \n",
    "    return data_stat"
   ]
  },
  {
   "cell_type": "code",
   "execution_count": 11,
   "metadata": {},
   "outputs": [
    {
     "data": {
      "text/html": [
       "<div>\n",
       "<style scoped>\n",
       "    .dataframe tbody tr th:only-of-type {\n",
       "        vertical-align: middle;\n",
       "    }\n",
       "\n",
       "    .dataframe tbody tr th {\n",
       "        vertical-align: top;\n",
       "    }\n",
       "\n",
       "    .dataframe thead th {\n",
       "        text-align: right;\n",
       "    }\n",
       "</style>\n",
       "<table border=\"1\" class=\"dataframe\">\n",
       "  <thead>\n",
       "    <tr style=\"text-align: right;\">\n",
       "      <th></th>\n",
       "      <th>events_cnt</th>\n",
       "      <th>users_cnt</th>\n",
       "      <th>min_date</th>\n",
       "      <th>max_date</th>\n",
       "      <th>period</th>\n",
       "      <th>events_per_user</th>\n",
       "    </tr>\n",
       "  </thead>\n",
       "  <tbody>\n",
       "    <tr>\n",
       "      <th>0</th>\n",
       "      <td>243713</td>\n",
       "      <td>7551</td>\n",
       "      <td>2019-07-25</td>\n",
       "      <td>2019-08-08</td>\n",
       "      <td>14 days</td>\n",
       "      <td>32.28</td>\n",
       "    </tr>\n",
       "  </tbody>\n",
       "</table>\n",
       "</div>"
      ],
      "text/plain": [
       "   events_cnt  users_cnt    min_date    max_date  period  events_per_user\n",
       "0      243713       7551  2019-07-25  2019-08-08 14 days            32.28"
      ]
     },
     "execution_count": 11,
     "metadata": {},
     "output_type": "execute_result"
    }
   ],
   "source": [
    "data_stat(data)"
   ]
  },
  {
   "cell_type": "code",
   "execution_count": 12,
   "metadata": {},
   "outputs": [
    {
     "data": {
      "image/png": "[encoded data removed]"
     },
     "metadata": {},
     "output_type": "display_data"
    }
   ],
   "source": [
    "fig = px.histogram(data, x ='event_datetime', nbins=1000)\n",
    "fig.update_layout(\n",
    "        title='<b>Распределение по %s</b>'%('event_datetime'), title_x=0.5, title_font_color = 'black',\n",
    "        xaxis_title='Значение', xaxis_title_font_color = 'black',\n",
    "        yaxis_title='Частота', yaxis_title_font_color = 'black',\n",
    "        width=800,\n",
    "        height=400,\n",
    "        font=dict(family='Calibri, monospace', size=16, color='#7f7f7f'))\n",
    "fig.show('png')"
   ]
  },
  {
   "cell_type": "code",
   "execution_count": 13,
   "metadata": {},
   "outputs": [],
   "source": [
    "data_2 = data[data['event_date'].astype(str)>='2019-08-01']"
   ]
  },
  {
   "cell_type": "code",
   "execution_count": 14,
   "metadata": {},
   "outputs": [
    {
     "data": {
      "text/html": [
       "<div>\n",
       "<style scoped>\n",
       "    .dataframe tbody tr th:only-of-type {\n",
       "        vertical-align: middle;\n",
       "    }\n",
       "\n",
       "    .dataframe tbody tr th {\n",
       "        vertical-align: top;\n",
       "    }\n",
       "\n",
       "    .dataframe thead th {\n",
       "        text-align: right;\n",
       "    }\n",
       "</style>\n",
       "<table border=\"1\" class=\"dataframe\">\n",
       "  <thead>\n",
       "    <tr style=\"text-align: right;\">\n",
       "      <th></th>\n",
       "      <th>events_cnt</th>\n",
       "      <th>users_cnt</th>\n",
       "      <th>min_date</th>\n",
       "      <th>max_date</th>\n",
       "      <th>period</th>\n",
       "      <th>events_per_user</th>\n",
       "    </tr>\n",
       "  </thead>\n",
       "  <tbody>\n",
       "    <tr>\n",
       "      <th>0</th>\n",
       "      <td>241724</td>\n",
       "      <td>7538</td>\n",
       "      <td>2019-08-01</td>\n",
       "      <td>2019-08-08</td>\n",
       "      <td>7 days</td>\n",
       "      <td>32.07</td>\n",
       "    </tr>\n",
       "  </tbody>\n",
       "</table>\n",
       "</div>"
      ],
      "text/plain": [
       "   events_cnt  users_cnt   min_date   max_date period  events_per_user\n",
       "0      241724       7538 2019-08-01 2019-08-08 7 days            32.07"
      ]
     },
     "execution_count": 14,
     "metadata": {},
     "output_type": "execute_result"
    }
   ],
   "source": [
    "data_2['event_date'] = pd.to_datetime(data_2['event_date'])\n",
    "data_stat(data_2)"
   ]
  },
  {
   "cell_type": "code",
   "execution_count": 15,
   "metadata": {},
   "outputs": [
    {
     "name": "stdout",
     "output_type": "stream",
     "text": [
      "Выпало событий — 2826 , 1.1731641807154392 \n",
      "Выпало пользователей — 17 , 0.22513574361011787\n"
     ]
    }
   ],
   "source": [
    "print('Выпало событий —', 243713 - 240887,',', ((243713 - 240887)*100/240887), \n",
    "      '\\nВыпало пользователей —',7551 - 7534,',', (7551 - 7534)*100/7551)"
   ]
  },
  {
   "cell_type": "code",
   "execution_count": 16,
   "metadata": {},
   "outputs": [
    {
     "data": {
      "text/plain": [
       "248    84875\n",
       "246    79556\n",
       "247    77293\n",
       "Name: exp_id, dtype: int64"
      ]
     },
     "execution_count": 16,
     "metadata": {},
     "output_type": "execute_result"
    }
   ],
   "source": [
    "data_2['exp_id'].value_counts()"
   ]
  },
  {
   "cell_type": "markdown",
   "metadata": {},
   "source": [
    "<div style=\"border-radius: 15px; border: 3px solid indigo; padding: 15px;\">\n",
    "<b>Вывод</b><br>\n",
    "<li>данные относятся к периоду с 25 июля по 8 августа 2019 (13 дней)</li>\n",
    "<li>распределение данных по дате и времени скошено вправо, до 1 августа логов очень мало</li>\n",
    "<li>т.е. следует рассматривать только август — <b>data_2</b></li>\n",
    "<li>при удалении старых данных выпало меньше 2% событий и меньше 1% процента пользователей</li>\n",
    "<li>и остались пользователи из всех трёх экспериментальных групп</li>\n",
    "</div>"
   ]
  },
  {
   "cell_type": "markdown",
   "metadata": {},
   "source": [
    "## Воронка событий"
   ]
  },
  {
   "cell_type": "code",
   "execution_count": 17,
   "metadata": {},
   "outputs": [
    {
     "data": {
      "text/html": [
       "<div>\n",
       "<style scoped>\n",
       "    .dataframe tbody tr th:only-of-type {\n",
       "        vertical-align: middle;\n",
       "    }\n",
       "\n",
       "    .dataframe tbody tr th {\n",
       "        vertical-align: top;\n",
       "    }\n",
       "\n",
       "    .dataframe thead th {\n",
       "        text-align: right;\n",
       "    }\n",
       "</style>\n",
       "<table border=\"1\" class=\"dataframe\">\n",
       "  <thead>\n",
       "    <tr style=\"text-align: right;\">\n",
       "      <th></th>\n",
       "      <th>event_name</th>\n",
       "      <th>events_cnt</th>\n",
       "    </tr>\n",
       "  </thead>\n",
       "  <tbody>\n",
       "    <tr>\n",
       "      <th>0</th>\n",
       "      <td>MainScreenAppear</td>\n",
       "      <td>117889</td>\n",
       "    </tr>\n",
       "    <tr>\n",
       "      <th>1</th>\n",
       "      <td>OffersScreenAppear</td>\n",
       "      <td>46531</td>\n",
       "    </tr>\n",
       "    <tr>\n",
       "      <th>2</th>\n",
       "      <td>CartScreenAppear</td>\n",
       "      <td>42343</td>\n",
       "    </tr>\n",
       "    <tr>\n",
       "      <th>3</th>\n",
       "      <td>PaymentScreenSuccessful</td>\n",
       "      <td>33951</td>\n",
       "    </tr>\n",
       "    <tr>\n",
       "      <th>4</th>\n",
       "      <td>Tutorial</td>\n",
       "      <td>1010</td>\n",
       "    </tr>\n",
       "  </tbody>\n",
       "</table>\n",
       "</div>"
      ],
      "text/plain": [
       "                event_name  events_cnt\n",
       "0         MainScreenAppear      117889\n",
       "1       OffersScreenAppear       46531\n",
       "2         CartScreenAppear       42343\n",
       "3  PaymentScreenSuccessful       33951\n",
       "4                 Tutorial        1010"
      ]
     },
     "execution_count": 17,
     "metadata": {},
     "output_type": "execute_result"
    }
   ],
   "source": [
    "data_2['event_name'].value_counts().to_frame().reset_index().rename(columns={'index':'event_name', 'event_name':'events_cnt'})"
   ]
  },
  {
   "cell_type": "code",
   "execution_count": 18,
   "metadata": {},
   "outputs": [],
   "source": [
    "def count_funnel(data):\n",
    "    funnel = data.groupby('event_name').agg(users_cnt=('device_id_hash','nunique')).reset_index().sort_values(by='users_cnt'\n",
    "                                                                                                   ,ascending=False).\\\n",
    "                                                                                                    reset_index(drop=True) [:-1]\n",
    "    funnel['users_pct'] = round(funnel['users_cnt']/(7534)*100,2)\n",
    "    funnel['users_prev_pct'] = np.nan\n",
    "    for i in range(len(funnel))[1:]:    \n",
    "        funnel['users_prev_pct'][i] = round(funnel['users_cnt'][i]*100/funnel['users_cnt'][i-1],2)\n",
    "    return funnel"
   ]
  },
  {
   "cell_type": "code",
   "execution_count": 19,
   "metadata": {},
   "outputs": [
    {
     "data": {
      "text/html": [
       "<div>\n",
       "<style scoped>\n",
       "    .dataframe tbody tr th:only-of-type {\n",
       "        vertical-align: middle;\n",
       "    }\n",
       "\n",
       "    .dataframe tbody tr th {\n",
       "        vertical-align: top;\n",
       "    }\n",
       "\n",
       "    .dataframe thead th {\n",
       "        text-align: right;\n",
       "    }\n",
       "</style>\n",
       "<table border=\"1\" class=\"dataframe\">\n",
       "  <thead>\n",
       "    <tr style=\"text-align: right;\">\n",
       "      <th></th>\n",
       "      <th>event_name</th>\n",
       "      <th>users_cnt</th>\n",
       "      <th>users_pct</th>\n",
       "      <th>users_prev_pct</th>\n",
       "    </tr>\n",
       "  </thead>\n",
       "  <tbody>\n",
       "    <tr>\n",
       "      <th>0</th>\n",
       "      <td>MainScreenAppear</td>\n",
       "      <td>7423</td>\n",
       "      <td>98.53</td>\n",
       "      <td>NaN</td>\n",
       "    </tr>\n",
       "    <tr>\n",
       "      <th>1</th>\n",
       "      <td>OffersScreenAppear</td>\n",
       "      <td>4597</td>\n",
       "      <td>61.02</td>\n",
       "      <td>61.93</td>\n",
       "    </tr>\n",
       "    <tr>\n",
       "      <th>2</th>\n",
       "      <td>CartScreenAppear</td>\n",
       "      <td>3736</td>\n",
       "      <td>49.59</td>\n",
       "      <td>81.27</td>\n",
       "    </tr>\n",
       "    <tr>\n",
       "      <th>3</th>\n",
       "      <td>PaymentScreenSuccessful</td>\n",
       "      <td>3540</td>\n",
       "      <td>46.99</td>\n",
       "      <td>94.75</td>\n",
       "    </tr>\n",
       "  </tbody>\n",
       "</table>\n",
       "</div>"
      ],
      "text/plain": [
       "                event_name  users_cnt  users_pct  users_prev_pct\n",
       "0         MainScreenAppear       7423      98.53             NaN\n",
       "1       OffersScreenAppear       4597      61.02           61.93\n",
       "2         CartScreenAppear       3736      49.59           81.27\n",
       "3  PaymentScreenSuccessful       3540      46.99           94.75"
      ]
     },
     "execution_count": 19,
     "metadata": {},
     "output_type": "execute_result"
    }
   ],
   "source": [
    "funnel = count_funnel(data_2) # [:-1]\n",
    "funnel"
   ]
  },
  {
   "cell_type": "code",
   "execution_count": 20,
   "metadata": {},
   "outputs": [
    {
     "data": {
      "image/png": "[encoded data removed]"
     },
     "metadata": {},
     "output_type": "display_data"
    }
   ],
   "source": [
    "fig = go.Figure(\n",
    "    go.Funnel(\n",
    "        y=funnel[funnel['event_name']!='Tutorial']['event_name'],\n",
    "        x=funnel['users_cnt']\n",
    "    )\n",
    ")\n",
    "fig.update_layout(\n",
    "        title='Воронка событий', title_x=0.5, title_font_color = 'black',\n",
    "        width=800,\n",
    "        height=400,\n",
    "        font=dict(family='Calibri, monospace', size=16, color='#7f7f7f'))\n",
    "fig.show('png')"
   ]
  },
  {
   "cell_type": "markdown",
   "metadata": {},
   "source": [
    "<div style=\"border-radius: 15px; border: 3px solid indigo; padding: 15px;\">\n",
    "<b>Вывод</b><br>\n",
    "<li>самые частые события в приложении совпадают с самыми популярными у пользователей</li>\n",
    "<li>в воронку не входит только событие <b>Tutorial</b> — обучение работе с приложением, оно же самое редкое</li>\n",
    "<li>больше всего пользователей отпадает на этапе перехода с главного экрана на экран каталога</li>\n",
    "<li>от главного экрана (первое событие) до оплаты доходит чуть меньше половмны пользователей (около 47%)</li>\n",
    "</div>"
   ]
  },
  {
   "cell_type": "markdown",
   "metadata": {},
   "source": [
    "## A/B-тестирование\n",
    "* А — 246 и 247\n",
    "* B — 248"
   ]
  },
  {
   "cell_type": "code",
   "execution_count": 21,
   "metadata": {},
   "outputs": [],
   "source": [
    "group_users_all = list()\n",
    "for group in data_2['exp_id'].unique():\n",
    "    group_users = data_2[data_2['exp_id']==group]['device_id_hash'].to_list()\n",
    "    group_users_all.append(group_users)"
   ]
  },
  {
   "cell_type": "code",
   "execution_count": 22,
   "metadata": {},
   "outputs": [
    {
     "data": {
      "text/plain": [
       "0"
      ]
     },
     "execution_count": 22,
     "metadata": {},
     "output_type": "execute_result"
    }
   ],
   "source": [
    "len(set(group_users_all[0]).intersection(set(group_users_all[1]))) \n",
    "+ len(set(group_users_all[0]).intersection(set(group_users_all[2]))) \n",
    "+ len(set(group_users_all[1]).intersection(set(group_users_all[2])))"
   ]
  },
  {
   "cell_type": "markdown",
   "metadata": {},
   "source": [
    "<div style=\"border-radius: 15px; border: 3px solid green; padding: 15px;\">\n",
    "<b>Вывод</b><br>\n",
    "Пользователей, попавших в более чем одну группу, не обнаружено.\n",
    "</div>"
   ]
  },
  {
   "cell_type": "code",
   "execution_count": 23,
   "metadata": {},
   "outputs": [
    {
     "data": {
      "text/html": [
       "<div>\n",
       "<style scoped>\n",
       "    .dataframe tbody tr th:only-of-type {\n",
       "        vertical-align: middle;\n",
       "    }\n",
       "\n",
       "    .dataframe tbody tr th {\n",
       "        vertical-align: top;\n",
       "    }\n",
       "\n",
       "    .dataframe thead th {\n",
       "        text-align: right;\n",
       "    }\n",
       "</style>\n",
       "<table border=\"1\" class=\"dataframe\">\n",
       "  <thead>\n",
       "    <tr style=\"text-align: right;\">\n",
       "      <th></th>\n",
       "      <th>exp_id</th>\n",
       "      <th>users_cnt</th>\n",
       "    </tr>\n",
       "  </thead>\n",
       "  <tbody>\n",
       "    <tr>\n",
       "      <th>0</th>\n",
       "      <td>246</td>\n",
       "      <td>2484</td>\n",
       "    </tr>\n",
       "    <tr>\n",
       "      <th>1</th>\n",
       "      <td>247</td>\n",
       "      <td>2517</td>\n",
       "    </tr>\n",
       "    <tr>\n",
       "      <th>2</th>\n",
       "      <td>248</td>\n",
       "      <td>2537</td>\n",
       "    </tr>\n",
       "  </tbody>\n",
       "</table>\n",
       "</div>"
      ],
      "text/plain": [
       "   exp_id  users_cnt\n",
       "0     246       2484\n",
       "1     247       2517\n",
       "2     248       2537"
      ]
     },
     "execution_count": 23,
     "metadata": {},
     "output_type": "execute_result"
    }
   ],
   "source": [
    "groups_all = data_2.groupby('exp_id').agg(users_cnt=('device_id_hash','nunique')).reset_index()\n",
    "groups_all"
   ]
  },
  {
   "cell_type": "markdown",
   "metadata": {},
   "source": [
    "<div style=\"border-radius: 15px; border: 3px solid green; padding: 15px;\">\n",
    "<b>Вывод</b><br>\n",
    "В группах примерно одинаковое количество пользователей. Стоит утонить механику разбиения пользователей на группы.\n",
    "</div>"
   ]
  },
  {
   "cell_type": "code",
   "execution_count": 24,
   "metadata": {},
   "outputs": [],
   "source": [
    "funnel_246 = count_funnel(data_2.query('exp_id ==246'))\n",
    "funnel_247 = count_funnel(data_2.query('exp_id ==247'))"
   ]
  },
  {
   "cell_type": "code",
   "execution_count": 25,
   "metadata": {},
   "outputs": [
    {
     "data": {
      "text/html": [
       "<div>\n",
       "<style scoped>\n",
       "    .dataframe tbody tr th:only-of-type {\n",
       "        vertical-align: middle;\n",
       "    }\n",
       "\n",
       "    .dataframe tbody tr th {\n",
       "        vertical-align: top;\n",
       "    }\n",
       "\n",
       "    .dataframe thead th {\n",
       "        text-align: right;\n",
       "    }\n",
       "</style>\n",
       "<table border=\"1\" class=\"dataframe\">\n",
       "  <thead>\n",
       "    <tr style=\"text-align: right;\">\n",
       "      <th></th>\n",
       "      <th>event_name</th>\n",
       "      <th>users_cnt</th>\n",
       "      <th>users_pct</th>\n",
       "      <th>users_prev_pct</th>\n",
       "    </tr>\n",
       "  </thead>\n",
       "  <tbody>\n",
       "    <tr>\n",
       "      <th>0</th>\n",
       "      <td>MainScreenAppear</td>\n",
       "      <td>2450</td>\n",
       "      <td>32.52</td>\n",
       "      <td>NaN</td>\n",
       "    </tr>\n",
       "    <tr>\n",
       "      <th>1</th>\n",
       "      <td>OffersScreenAppear</td>\n",
       "      <td>1542</td>\n",
       "      <td>20.47</td>\n",
       "      <td>62.94</td>\n",
       "    </tr>\n",
       "    <tr>\n",
       "      <th>2</th>\n",
       "      <td>CartScreenAppear</td>\n",
       "      <td>1266</td>\n",
       "      <td>16.80</td>\n",
       "      <td>82.10</td>\n",
       "    </tr>\n",
       "    <tr>\n",
       "      <th>3</th>\n",
       "      <td>PaymentScreenSuccessful</td>\n",
       "      <td>1200</td>\n",
       "      <td>15.93</td>\n",
       "      <td>94.79</td>\n",
       "    </tr>\n",
       "  </tbody>\n",
       "</table>\n",
       "</div>"
      ],
      "text/plain": [
       "                event_name  users_cnt  users_pct  users_prev_pct\n",
       "0         MainScreenAppear       2450      32.52             NaN\n",
       "1       OffersScreenAppear       1542      20.47           62.94\n",
       "2         CartScreenAppear       1266      16.80           82.10\n",
       "3  PaymentScreenSuccessful       1200      15.93           94.79"
      ]
     },
     "execution_count": 25,
     "metadata": {},
     "output_type": "execute_result"
    }
   ],
   "source": [
    "funnel_246"
   ]
  },
  {
   "cell_type": "code",
   "execution_count": 26,
   "metadata": {},
   "outputs": [
    {
     "data": {
      "text/html": [
       "<div>\n",
       "<style scoped>\n",
       "    .dataframe tbody tr th:only-of-type {\n",
       "        vertical-align: middle;\n",
       "    }\n",
       "\n",
       "    .dataframe tbody tr th {\n",
       "        vertical-align: top;\n",
       "    }\n",
       "\n",
       "    .dataframe thead th {\n",
       "        text-align: right;\n",
       "    }\n",
       "</style>\n",
       "<table border=\"1\" class=\"dataframe\">\n",
       "  <thead>\n",
       "    <tr style=\"text-align: right;\">\n",
       "      <th></th>\n",
       "      <th>event_name</th>\n",
       "      <th>users_cnt</th>\n",
       "      <th>users_pct</th>\n",
       "      <th>users_prev_pct</th>\n",
       "    </tr>\n",
       "  </thead>\n",
       "  <tbody>\n",
       "    <tr>\n",
       "      <th>0</th>\n",
       "      <td>MainScreenAppear</td>\n",
       "      <td>2479</td>\n",
       "      <td>32.90</td>\n",
       "      <td>NaN</td>\n",
       "    </tr>\n",
       "    <tr>\n",
       "      <th>1</th>\n",
       "      <td>OffersScreenAppear</td>\n",
       "      <td>1524</td>\n",
       "      <td>20.23</td>\n",
       "      <td>61.48</td>\n",
       "    </tr>\n",
       "    <tr>\n",
       "      <th>2</th>\n",
       "      <td>CartScreenAppear</td>\n",
       "      <td>1239</td>\n",
       "      <td>16.45</td>\n",
       "      <td>81.30</td>\n",
       "    </tr>\n",
       "    <tr>\n",
       "      <th>3</th>\n",
       "      <td>PaymentScreenSuccessful</td>\n",
       "      <td>1158</td>\n",
       "      <td>15.37</td>\n",
       "      <td>93.46</td>\n",
       "    </tr>\n",
       "  </tbody>\n",
       "</table>\n",
       "</div>"
      ],
      "text/plain": [
       "                event_name  users_cnt  users_pct  users_prev_pct\n",
       "0         MainScreenAppear       2479      32.90             NaN\n",
       "1       OffersScreenAppear       1524      20.23           61.48\n",
       "2         CartScreenAppear       1239      16.45           81.30\n",
       "3  PaymentScreenSuccessful       1158      15.37           93.46"
      ]
     },
     "execution_count": 26,
     "metadata": {},
     "output_type": "execute_result"
    }
   ],
   "source": [
    "funnel_247"
   ]
  },
  {
   "cell_type": "code",
   "execution_count": 27,
   "metadata": {},
   "outputs": [],
   "source": [
    "def compare_funnels(data_1, data_2, column, len_1, len_2):\n",
    "    alpha = 1-(1-0.05)**(1/16)\n",
    "    distr = st.norm(0, 1)\n",
    "    i = 0\n",
    "    while i < len(data_1):\n",
    "        p1 = data_1[column][i] / len_1\n",
    "        p2 = data_2[column][i] / len_2\n",
    "        diff = p1 - p2\n",
    "        p_combined = (data_1[column][i] + data_2[column][i]) / (len_1 + len_2)\n",
    "        z = diff / mth.sqrt(p_combined*(1 - p_combined)*(1/len_1 + 1/len_2))\n",
    "        p_value = (1 - distr.cdf(abs(z))) * 2\n",
    "        if p_value < alpha:\n",
    "            print('Шаг {} — p-value = {} — между конверсиями есть значимая разница'.format(i, p_value))\n",
    "        else:\n",
    "            print('Шаг {} — p-value = {} — нет оснований считать конверсии разными'.format(i, p_value))  \n",
    "        i = i+1"
   ]
  },
  {
   "cell_type": "code",
   "execution_count": 28,
   "metadata": {},
   "outputs": [
    {
     "name": "stdout",
     "output_type": "stream",
     "text": [
      "Шаг 0 — p-value = 0.6756217702005545 — нет оснований считать конверсии разными\n",
      "Шаг 1 — p-value = 0.26698769175859516 — нет оснований считать конверсии разными\n",
      "Шаг 2 — p-value = 0.2182812140633792 — нет оснований считать конверсии разными\n",
      "Шаг 3 — p-value = 0.10298394982948822 — нет оснований считать конверсии разными\n"
     ]
    }
   ],
   "source": [
    "compare_funnels(funnel_246, funnel_247, 'users_cnt', groups_all['users_cnt'][0],groups_all['users_cnt'][1])"
   ]
  },
  {
   "cell_type": "markdown",
   "metadata": {},
   "source": [
    "<div style=\"border-radius: 15px; border: 3px solid green; padding: 15px;\">\n",
    "<b>Вывод</b><br>\n",
    "Выборки 246 и 247 не отличаются.\n",
    "</div>"
   ]
  },
  {
   "cell_type": "code",
   "execution_count": 29,
   "metadata": {},
   "outputs": [],
   "source": [
    "funnel_248 = count_funnel(data_2.query('exp_id ==248'))\n",
    "funnel_246_247 = count_funnel(data_2.query('exp_id !=248'))"
   ]
  },
  {
   "cell_type": "code",
   "execution_count": 30,
   "metadata": {},
   "outputs": [
    {
     "name": "stdout",
     "output_type": "stream",
     "text": [
      "Шаг 0 — p-value = 0.34705881021236484 — нет оснований считать конверсии разными\n",
      "Шаг 1 — p-value = 0.20836205402738917 — нет оснований считать конверсии разными\n",
      "Шаг 2 — p-value = 0.08328412977507749 — нет оснований считать конверсии разными\n",
      "Шаг 3 — p-value = 0.22269358994682742 — нет оснований считать конверсии разными\n"
     ]
    }
   ],
   "source": [
    "compare_funnels(funnel_246, funnel_248, 'users_cnt', groups_all['users_cnt'][0],groups_all['users_cnt'][2])"
   ]
  },
  {
   "cell_type": "code",
   "execution_count": 31,
   "metadata": {},
   "outputs": [
    {
     "name": "stdout",
     "output_type": "stream",
     "text": [
      "Шаг 0 — p-value = 0.6001661582453706 — нет оснований считать конверсии разными\n",
      "Шаг 1 — p-value = 0.8835956656016957 — нет оснований считать конверсии разными\n",
      "Шаг 2 — p-value = 0.6169517476996997 — нет оснований считать конверсии разными\n",
      "Шаг 3 — p-value = 0.6775413642906454 — нет оснований считать конверсии разными\n"
     ]
    }
   ],
   "source": [
    "compare_funnels(funnel_247, funnel_248, 'users_cnt', groups_all['users_cnt'][1],groups_all['users_cnt'][2])"
   ]
  },
  {
   "cell_type": "code",
   "execution_count": 32,
   "metadata": {},
   "outputs": [
    {
     "name": "stdout",
     "output_type": "stream",
     "text": [
      "Шаг 0 — p-value = 0.39298914928006035 — нет оснований считать конверсии разными\n",
      "Шаг 1 — p-value = 0.418998284007599 — нет оснований считать конверсии разными\n",
      "Шаг 2 — p-value = 0.19819340844527744 — нет оснований считать конверсии разными\n",
      "Шаг 3 — p-value = 0.6452057673098244 — нет оснований считать конверсии разными\n"
     ]
    }
   ],
   "source": [
    "compare_funnels(funnel_246_247, funnel_248, 'users_cnt', groups_all['users_cnt'][0]+groups_all['users_cnt'][1]\n",
    "                ,groups_all['users_cnt'][2])"
   ]
  },
  {
   "cell_type": "markdown",
   "metadata": {},
   "source": [
    "<div style=\"border-radius: 15px; border: 3px solid purple; padding: 15px;\">\n",
    "<b>Вывод</b><br>\n",
    "Изменение шрифта не повлияло на конверсию: конверсии в каждой из контрольных и объединённой контрольной группах не отличаются от конверсий в экспериментальной группе.\n",
    "</div>"
   ]
  },
  {
   "cell_type": "markdown",
   "metadata": {},
   "source": [
    "## Общий вывод"
   ]
  },
  {
   "cell_type": "markdown",
   "metadata": {},
   "source": [
    "* в логах обнаружены дубликаты, стоит проверить логирование\n",
    "* группы A/B теста не одникового размера, нужно уточнить механизм разбиения пользователей на группы\n",
    "* не все пользователи попадают на главный экран (около 98%): не открывают приложение или экран не загружается\n",
    "* больше всего пользователей отваливается на этапе перехода с главного экрана на экран каталога\n",
    "* от главного экрана до оплаты доходит чуть меньше половмны пользователей (около 47%)\n",
    "* изменение шрифта не повлияло на конверсию, т.е. не испугало пользователей, но и не привлекло: можно поменять, если хочется, но толка от этого не будет"
   ]
  }
 ],
 "metadata": {
  "ExecuteTimeLog": [
   {
    "duration": 2462,
    "start_time": "2021-07-23T10:12:34.113Z"
   },
   {
    "duration": 5357,
    "start_time": "2021-07-23T10:16:05.427Z"
   },
   {
    "duration": 218,
    "start_time": "2021-07-23T10:16:10.787Z"
   },
   {
    "duration": 330,
    "start_time": "2021-07-23T10:17:51.842Z"
   },
   {
    "duration": 295,
    "start_time": "2021-07-23T10:18:45.879Z"
   },
   {
    "duration": 283,
    "start_time": "2021-07-23T10:19:14.010Z"
   },
   {
    "duration": 4,
    "start_time": "2021-07-23T10:19:25.081Z"
   },
   {
    "duration": 271,
    "start_time": "2021-07-23T10:19:26.426Z"
   },
   {
    "duration": 34,
    "start_time": "2021-07-23T10:20:24.034Z"
   },
   {
    "duration": 96,
    "start_time": "2021-07-23T10:27:24.412Z"
   },
   {
    "duration": 164,
    "start_time": "2021-07-23T10:27:30.111Z"
   },
   {
    "duration": 4,
    "start_time": "2021-07-23T10:27:30.630Z"
   },
   {
    "duration": 88,
    "start_time": "2021-07-23T10:27:35.207Z"
   },
   {
    "duration": 107,
    "start_time": "2021-07-23T10:28:01.527Z"
   },
   {
    "duration": 3074,
    "start_time": "2021-07-23T11:10:42.298Z"
   },
   {
    "duration": 2307,
    "start_time": "2021-07-23T11:10:45.375Z"
   },
   {
    "duration": 165,
    "start_time": "2021-07-23T11:10:47.686Z"
   },
   {
    "duration": 3,
    "start_time": "2021-07-23T11:10:47.853Z"
   },
   {
    "duration": 110,
    "start_time": "2021-07-23T11:10:47.859Z"
   },
   {
    "duration": 439,
    "start_time": "2021-07-23T11:10:47.983Z"
   },
   {
    "duration": 90,
    "start_time": "2021-07-23T11:21:53.978Z"
   },
   {
    "duration": 312,
    "start_time": "2021-07-23T11:23:05.014Z"
   },
   {
    "duration": 7,
    "start_time": "2021-07-23T11:24:23.849Z"
   },
   {
    "duration": 105,
    "start_time": "2021-07-23T11:25:05.766Z"
   },
   {
    "duration": 297,
    "start_time": "2021-07-23T11:25:09.900Z"
   },
   {
    "duration": 6,
    "start_time": "2021-07-23T11:27:24.628Z"
   },
   {
    "duration": 6,
    "start_time": "2021-07-23T11:31:45.658Z"
   },
   {
    "duration": 79,
    "start_time": "2021-07-23T11:31:50.034Z"
   },
   {
    "duration": 484,
    "start_time": "2021-07-23T11:32:06.593Z"
   },
   {
    "duration": 248,
    "start_time": "2021-07-23T11:32:34.866Z"
   },
   {
    "duration": 244,
    "start_time": "2021-07-23T11:32:41.738Z"
   },
   {
    "duration": 98,
    "start_time": "2021-07-23T11:36:24.178Z"
   },
   {
    "duration": 356,
    "start_time": "2021-07-23T11:44:01.965Z"
   },
   {
    "duration": 98,
    "start_time": "2021-07-23T11:46:08.958Z"
   },
   {
    "duration": 3452,
    "start_time": "2021-07-23T11:46:28.113Z"
   },
   {
    "duration": 2190,
    "start_time": "2021-07-23T11:46:31.568Z"
   },
   {
    "duration": 160,
    "start_time": "2021-07-23T11:46:33.760Z"
   },
   {
    "duration": 106,
    "start_time": "2021-07-23T11:46:33.922Z"
   },
   {
    "duration": 5,
    "start_time": "2021-07-23T11:46:34.031Z"
   },
   {
    "duration": 137,
    "start_time": "2021-07-23T11:46:38.216Z"
   },
   {
    "duration": 137,
    "start_time": "2021-07-23T11:46:45.345Z"
   },
   {
    "duration": 677,
    "start_time": "2021-07-23T11:47:37.265Z"
   },
   {
    "duration": 273,
    "start_time": "2021-07-23T11:49:04.992Z"
   },
   {
    "duration": 1024,
    "start_time": "2021-07-23T11:49:28.416Z"
   },
   {
    "duration": 1073,
    "start_time": "2021-07-23T11:49:48.327Z"
   },
   {
    "duration": 8,
    "start_time": "2021-07-23T11:50:16.679Z"
   },
   {
    "duration": 3014,
    "start_time": "2021-07-23T11:50:54.852Z"
   },
   {
    "duration": 2115,
    "start_time": "2021-07-23T11:50:57.870Z"
   },
   {
    "duration": 160,
    "start_time": "2021-07-23T11:50:59.988Z"
   },
   {
    "duration": 113,
    "start_time": "2021-07-23T11:51:00.151Z"
   },
   {
    "duration": 18,
    "start_time": "2021-07-23T11:51:00.266Z"
   },
   {
    "duration": 179,
    "start_time": "2021-07-23T11:51:00.287Z"
   },
   {
    "duration": 3370,
    "start_time": "2021-07-23T11:51:24.326Z"
   },
   {
    "duration": 2165,
    "start_time": "2021-07-23T11:51:27.700Z"
   },
   {
    "duration": 167,
    "start_time": "2021-07-23T11:51:29.869Z"
   },
   {
    "duration": 109,
    "start_time": "2021-07-23T11:51:30.038Z"
   },
   {
    "duration": 7,
    "start_time": "2021-07-23T11:51:30.149Z"
   },
   {
    "duration": 179,
    "start_time": "2021-07-23T11:51:30.158Z"
   },
   {
    "duration": 8,
    "start_time": "2021-07-23T11:53:29.638Z"
   },
   {
    "duration": 7,
    "start_time": "2021-07-23T11:54:15.269Z"
   },
   {
    "duration": 3109,
    "start_time": "2021-07-23T11:54:24.924Z"
   },
   {
    "duration": 2377,
    "start_time": "2021-07-23T11:54:28.036Z"
   },
   {
    "duration": 163,
    "start_time": "2021-07-23T11:54:30.416Z"
   },
   {
    "duration": 103,
    "start_time": "2021-07-23T11:54:30.581Z"
   },
   {
    "duration": 6,
    "start_time": "2021-07-23T11:54:30.686Z"
   },
   {
    "duration": 172,
    "start_time": "2021-07-23T11:54:30.695Z"
   },
   {
    "duration": 3530,
    "start_time": "2021-07-23T11:55:16.278Z"
   },
   {
    "duration": 2066,
    "start_time": "2021-07-23T11:55:19.811Z"
   },
   {
    "duration": 161,
    "start_time": "2021-07-23T11:55:21.882Z"
   },
   {
    "duration": 101,
    "start_time": "2021-07-23T11:55:22.046Z"
   },
   {
    "duration": 7,
    "start_time": "2021-07-23T11:55:22.149Z"
   },
   {
    "duration": 165,
    "start_time": "2021-07-23T11:55:22.158Z"
   },
   {
    "duration": 7,
    "start_time": "2021-07-23T11:55:40.214Z"
   },
   {
    "duration": 456,
    "start_time": "2021-07-23T11:57:17.604Z"
   },
   {
    "duration": 4307,
    "start_time": "2021-07-23T11:57:36.155Z"
   },
   {
    "duration": 2158,
    "start_time": "2021-07-23T11:57:40.466Z"
   },
   {
    "duration": 167,
    "start_time": "2021-07-23T11:57:42.627Z"
   },
   {
    "duration": 107,
    "start_time": "2021-07-23T11:57:42.796Z"
   },
   {
    "duration": 7,
    "start_time": "2021-07-23T11:57:42.905Z"
   },
   {
    "duration": 166,
    "start_time": "2021-07-23T11:57:42.915Z"
   },
   {
    "duration": 3055,
    "start_time": "2021-07-23T12:00:24.747Z"
   },
   {
    "duration": 2327,
    "start_time": "2021-07-23T12:00:27.805Z"
   },
   {
    "duration": 171,
    "start_time": "2021-07-23T12:00:30.135Z"
   },
   {
    "duration": 117,
    "start_time": "2021-07-23T12:00:30.308Z"
   },
   {
    "duration": 9,
    "start_time": "2021-07-23T12:00:30.428Z"
   },
   {
    "duration": 176,
    "start_time": "2021-07-23T12:00:30.440Z"
   },
   {
    "duration": 473,
    "start_time": "2021-07-23T12:01:04.683Z"
   },
   {
    "duration": 3177,
    "start_time": "2021-07-23T12:01:26.231Z"
   },
   {
    "duration": 2191,
    "start_time": "2021-07-23T12:01:29.412Z"
   },
   {
    "duration": 169,
    "start_time": "2021-07-23T12:01:31.606Z"
   },
   {
    "duration": 108,
    "start_time": "2021-07-23T12:01:31.777Z"
   },
   {
    "duration": 499,
    "start_time": "2021-07-23T12:01:31.888Z"
   },
   {
    "duration": -98,
    "start_time": "2021-07-23T12:01:32.487Z"
   },
   {
    "duration": 3090,
    "start_time": "2021-07-23T12:01:45.085Z"
   },
   {
    "duration": 2186,
    "start_time": "2021-07-23T12:01:48.179Z"
   },
   {
    "duration": 162,
    "start_time": "2021-07-23T12:01:50.368Z"
   },
   {
    "duration": 110,
    "start_time": "2021-07-23T12:01:50.533Z"
   },
   {
    "duration": 9,
    "start_time": "2021-07-23T12:01:50.646Z"
   },
   {
    "duration": 165,
    "start_time": "2021-07-23T12:01:50.658Z"
   },
   {
    "duration": 46,
    "start_time": "2021-07-23T12:09:02.036Z"
   },
   {
    "duration": 103,
    "start_time": "2021-07-23T12:16:09.017Z"
   },
   {
    "duration": 15,
    "start_time": "2021-07-23T12:16:22.832Z"
   },
   {
    "duration": 472,
    "start_time": "2021-07-23T12:22:07.062Z"
   },
   {
    "duration": 260,
    "start_time": "2021-07-23T12:22:16.503Z"
   },
   {
    "duration": 243,
    "start_time": "2021-07-23T12:22:25.078Z"
   },
   {
    "duration": 293,
    "start_time": "2021-07-23T12:22:31.544Z"
   },
   {
    "duration": 303,
    "start_time": "2021-07-23T12:22:42.575Z"
   },
   {
    "duration": 3206,
    "start_time": "2021-07-23T12:23:10.775Z"
   },
   {
    "duration": 2238,
    "start_time": "2021-07-23T12:23:13.984Z"
   },
   {
    "duration": 166,
    "start_time": "2021-07-23T12:23:16.225Z"
   },
   {
    "duration": 115,
    "start_time": "2021-07-23T12:23:16.393Z"
   },
   {
    "duration": 8,
    "start_time": "2021-07-23T12:23:16.511Z"
   },
   {
    "duration": 185,
    "start_time": "2021-07-23T12:23:16.523Z"
   },
   {
    "duration": 536,
    "start_time": "2021-07-23T12:23:16.711Z"
   },
   {
    "duration": 249,
    "start_time": "2021-07-23T12:24:05.695Z"
   },
   {
    "duration": 107,
    "start_time": "2021-07-23T12:24:07.399Z"
   },
   {
    "duration": 14,
    "start_time": "2021-07-23T12:24:08.159Z"
   },
   {
    "duration": 235,
    "start_time": "2021-07-23T12:29:11.565Z"
   },
   {
    "duration": 138,
    "start_time": "2021-07-23T12:29:11.802Z"
   },
   {
    "duration": 13,
    "start_time": "2021-07-23T12:29:11.949Z"
   },
   {
    "duration": 244,
    "start_time": "2021-07-23T12:29:22.396Z"
   },
   {
    "duration": 125,
    "start_time": "2021-07-23T12:29:22.642Z"
   },
   {
    "duration": 14,
    "start_time": "2021-07-23T12:29:22.828Z"
   },
   {
    "duration": 1146,
    "start_time": "2021-07-23T12:30:49.748Z"
   },
   {
    "duration": 266,
    "start_time": "2021-07-23T12:30:51.949Z"
   },
   {
    "duration": 14,
    "start_time": "2021-07-23T12:30:52.469Z"
   },
   {
    "duration": 250,
    "start_time": "2021-07-23T12:31:14.908Z"
   },
   {
    "duration": 118,
    "start_time": "2021-07-23T12:31:15.460Z"
   },
   {
    "duration": 13,
    "start_time": "2021-07-23T12:31:16.492Z"
   },
   {
    "duration": 29,
    "start_time": "2021-07-23T12:54:54.087Z"
   },
   {
    "duration": 32,
    "start_time": "2021-07-23T12:55:06.907Z"
   },
   {
    "duration": 29,
    "start_time": "2021-07-23T12:56:38.850Z"
   },
   {
    "duration": 97,
    "start_time": "2021-07-23T12:57:44.819Z"
   },
   {
    "duration": 8,
    "start_time": "2021-07-23T12:57:50.275Z"
   },
   {
    "duration": 14,
    "start_time": "2021-07-23T12:59:00.979Z"
   },
   {
    "duration": 266,
    "start_time": "2021-07-23T13:00:22.826Z"
   },
   {
    "duration": 82,
    "start_time": "2021-07-23T13:01:06.898Z"
   },
   {
    "duration": 22,
    "start_time": "2021-07-23T13:01:13.378Z"
   },
   {
    "duration": 96,
    "start_time": "2021-07-23T13:01:58.441Z"
   },
   {
    "duration": 713,
    "start_time": "2021-07-23T13:02:37.850Z"
   },
   {
    "duration": 20,
    "start_time": "2021-07-23T13:02:58.297Z"
   },
   {
    "duration": 33,
    "start_time": "2021-07-23T13:03:10.770Z"
   },
   {
    "duration": 80,
    "start_time": "2021-07-23T13:06:39.141Z"
   },
   {
    "duration": 731,
    "start_time": "2021-07-23T13:06:53.391Z"
   },
   {
    "duration": 281,
    "start_time": "2021-07-23T13:07:03.759Z"
   },
   {
    "duration": 92,
    "start_time": "2021-07-23T13:08:56.495Z"
   },
   {
    "duration": 126,
    "start_time": "2021-07-23T13:09:56.911Z"
   },
   {
    "duration": 280,
    "start_time": "2021-07-23T13:10:23.702Z"
   },
   {
    "duration": 251,
    "start_time": "2021-07-23T13:12:04.309Z"
   },
   {
    "duration": 242,
    "start_time": "2021-07-23T13:12:24.749Z"
   },
   {
    "duration": 255,
    "start_time": "2021-07-23T13:12:31.597Z"
   },
   {
    "duration": 89,
    "start_time": "2021-07-23T13:14:39.245Z"
   },
   {
    "duration": 21,
    "start_time": "2021-07-23T13:14:48.684Z"
   },
   {
    "duration": 23,
    "start_time": "2021-07-23T13:15:46.180Z"
   },
   {
    "duration": 23,
    "start_time": "2021-07-23T13:16:02.173Z"
   },
   {
    "duration": 26,
    "start_time": "2021-07-23T13:16:16.257Z"
   },
   {
    "duration": 340,
    "start_time": "2021-07-23T13:19:07.474Z"
   },
   {
    "duration": 354,
    "start_time": "2021-07-23T13:19:21.643Z"
   },
   {
    "duration": 67,
    "start_time": "2021-07-23T13:20:00.851Z"
   },
   {
    "duration": 26,
    "start_time": "2021-07-23T13:20:39.251Z"
   },
   {
    "duration": 21,
    "start_time": "2021-07-23T13:22:02.424Z"
   },
   {
    "duration": 27,
    "start_time": "2021-07-23T13:22:09.600Z"
   },
   {
    "duration": 27,
    "start_time": "2021-07-23T13:22:22.402Z"
   },
   {
    "duration": 26,
    "start_time": "2021-07-23T13:22:29.724Z"
   },
   {
    "duration": 66,
    "start_time": "2021-07-23T13:23:44.906Z"
   },
   {
    "duration": 68,
    "start_time": "2021-07-23T13:24:22.170Z"
   },
   {
    "duration": 71,
    "start_time": "2021-07-23T13:24:40.170Z"
   },
   {
    "duration": 20,
    "start_time": "2021-07-23T13:28:11.944Z"
   },
   {
    "duration": 56,
    "start_time": "2021-07-23T13:28:16.288Z"
   },
   {
    "duration": 14,
    "start_time": "2021-07-23T13:29:33.872Z"
   },
   {
    "duration": 1009,
    "start_time": "2021-07-23T13:31:31.516Z"
   },
   {
    "duration": 741,
    "start_time": "2021-07-23T13:32:00.934Z"
   },
   {
    "duration": 32,
    "start_time": "2021-07-23T13:34:06.811Z"
   },
   {
    "duration": 82,
    "start_time": "2021-07-23T13:34:33.653Z"
   },
   {
    "duration": 481,
    "start_time": "2021-07-23T13:34:41.412Z"
   },
   {
    "duration": 621,
    "start_time": "2021-07-23T13:35:11.174Z"
   },
   {
    "duration": 340,
    "start_time": "2021-07-23T13:35:22.766Z"
   },
   {
    "duration": 327,
    "start_time": "2021-07-23T13:35:49.222Z"
   },
   {
    "duration": 320,
    "start_time": "2021-07-23T13:36:05.229Z"
   },
   {
    "duration": 324,
    "start_time": "2021-07-23T13:36:10.429Z"
   },
   {
    "duration": 380,
    "start_time": "2021-07-23T14:00:09.281Z"
   },
   {
    "duration": 561,
    "start_time": "2021-07-23T14:00:19.045Z"
   },
   {
    "duration": 308,
    "start_time": "2021-07-23T14:02:01.269Z"
   },
   {
    "duration": 853,
    "start_time": "2021-07-23T14:02:10.260Z"
   },
   {
    "duration": 5961,
    "start_time": "2021-07-23T14:02:31.988Z"
   },
   {
    "duration": 10731,
    "start_time": "2021-07-23T14:02:53.042Z"
   },
   {
    "duration": 10960,
    "start_time": "2021-07-23T14:05:55.630Z"
   },
   {
    "duration": 10976,
    "start_time": "2021-07-23T14:06:20.789Z"
   },
   {
    "duration": 10684,
    "start_time": "2021-07-23T14:06:57.831Z"
   },
   {
    "duration": 10775,
    "start_time": "2021-07-23T14:08:13.412Z"
   },
   {
    "duration": 1349,
    "start_time": "2021-07-23T14:17:48.652Z"
   },
   {
    "duration": 1278,
    "start_time": "2021-07-23T14:18:27.979Z"
   },
   {
    "duration": 467,
    "start_time": "2021-07-23T14:18:57.998Z"
   },
   {
    "duration": 3086,
    "start_time": "2021-07-23T14:19:08.297Z"
   },
   {
    "duration": 2224,
    "start_time": "2021-07-23T14:19:11.386Z"
   },
   {
    "duration": 158,
    "start_time": "2021-07-23T14:19:13.613Z"
   },
   {
    "duration": 110,
    "start_time": "2021-07-23T14:19:13.774Z"
   },
   {
    "duration": 8,
    "start_time": "2021-07-23T14:19:13.886Z"
   },
   {
    "duration": 165,
    "start_time": "2021-07-23T14:19:13.896Z"
   },
   {
    "duration": 245,
    "start_time": "2021-07-23T14:19:14.064Z"
   },
   {
    "duration": 405,
    "start_time": "2021-07-23T14:19:14.312Z"
   },
   {
    "duration": 14,
    "start_time": "2021-07-23T14:19:14.720Z"
   },
   {
    "duration": 22,
    "start_time": "2021-07-23T14:19:14.737Z"
   },
   {
    "duration": 566,
    "start_time": "2021-07-23T14:19:14.762Z"
   },
   {
    "duration": -138,
    "start_time": "2021-07-23T14:19:15.469Z"
   },
   {
    "duration": -146,
    "start_time": "2021-07-23T14:19:15.478Z"
   },
   {
    "duration": 288,
    "start_time": "2021-07-23T14:21:30.513Z"
   },
   {
    "duration": 404,
    "start_time": "2021-07-23T14:21:44.497Z"
   },
   {
    "duration": 305,
    "start_time": "2021-07-23T14:22:56.768Z"
   },
   {
    "duration": 338,
    "start_time": "2021-07-23T14:23:22.808Z"
   },
   {
    "duration": 327,
    "start_time": "2021-07-23T14:24:09.647Z"
   },
   {
    "duration": 113,
    "start_time": "2021-07-23T14:24:26.806Z"
   },
   {
    "duration": 56,
    "start_time": "2021-07-23T14:24:36.871Z"
   },
   {
    "duration": 11701,
    "start_time": "2021-07-23T14:24:41.470Z"
   },
   {
    "duration": 272,
    "start_time": "2021-07-23T14:25:08.038Z"
   },
   {
    "duration": 3357,
    "start_time": "2021-07-23T14:26:13.879Z"
   },
   {
    "duration": 2201,
    "start_time": "2021-07-23T14:26:17.239Z"
   },
   {
    "duration": 165,
    "start_time": "2021-07-23T14:26:19.443Z"
   },
   {
    "duration": 146,
    "start_time": "2021-07-23T14:26:19.611Z"
   },
   {
    "duration": 24,
    "start_time": "2021-07-23T14:26:19.761Z"
   },
   {
    "duration": 218,
    "start_time": "2021-07-23T14:26:19.788Z"
   },
   {
    "duration": 407,
    "start_time": "2021-07-23T14:26:20.009Z"
   },
   {
    "duration": 115,
    "start_time": "2021-07-23T14:26:20.420Z"
   },
   {
    "duration": 15,
    "start_time": "2021-07-23T14:26:20.538Z"
   },
   {
    "duration": 42,
    "start_time": "2021-07-23T14:26:20.556Z"
   },
   {
    "duration": 61,
    "start_time": "2021-07-23T14:26:20.600Z"
   },
   {
    "duration": 12247,
    "start_time": "2021-07-23T14:26:20.664Z"
   },
   {
    "duration": 579,
    "start_time": "2021-07-23T14:26:32.914Z"
   },
   {
    "duration": 5,
    "start_time": "2021-07-23T14:56:40.910Z"
   },
   {
    "duration": 59,
    "start_time": "2021-07-23T14:56:48.927Z"
   },
   {
    "duration": 589,
    "start_time": "2021-07-23T14:57:01.102Z"
   },
   {
    "duration": 5,
    "start_time": "2021-07-23T14:57:21.982Z"
   },
   {
    "duration": 311,
    "start_time": "2021-07-23T14:57:22.958Z"
   },
   {
    "duration": 68,
    "start_time": "2021-07-23T14:57:27.350Z"
   },
   {
    "duration": 18,
    "start_time": "2021-07-23T14:57:39.606Z"
   },
   {
    "duration": 314,
    "start_time": "2021-07-23T14:57:46.574Z"
   },
   {
    "duration": 150,
    "start_time": "2021-07-23T14:57:47.022Z"
   },
   {
    "duration": 3066,
    "start_time": "2021-07-23T14:57:58.285Z"
   },
   {
    "duration": 2339,
    "start_time": "2021-07-23T14:58:01.354Z"
   },
   {
    "duration": 172,
    "start_time": "2021-07-23T14:58:03.697Z"
   },
   {
    "duration": 114,
    "start_time": "2021-07-23T14:58:03.873Z"
   },
   {
    "duration": 8,
    "start_time": "2021-07-23T14:58:03.989Z"
   },
   {
    "duration": 165,
    "start_time": "2021-07-23T14:58:04.000Z"
   },
   {
    "duration": 247,
    "start_time": "2021-07-23T14:58:04.167Z"
   },
   {
    "duration": 114,
    "start_time": "2021-07-23T14:58:04.417Z"
   },
   {
    "duration": 15,
    "start_time": "2021-07-23T14:58:06.254Z"
   },
   {
    "duration": 6,
    "start_time": "2021-07-23T14:58:12.374Z"
   },
   {
    "duration": 72,
    "start_time": "2021-07-23T14:58:12.869Z"
   },
   {
    "duration": 11533,
    "start_time": "2021-07-23T14:58:15.273Z"
   },
   {
    "duration": 578,
    "start_time": "2021-07-23T14:58:26.811Z"
   },
   {
    "duration": 10,
    "start_time": "2021-07-23T14:58:34.421Z"
   },
   {
    "duration": 303,
    "start_time": "2021-07-23T14:59:25.196Z"
   },
   {
    "duration": 9,
    "start_time": "2021-07-23T14:59:26.084Z"
   },
   {
    "duration": 67,
    "start_time": "2021-07-23T14:59:44.621Z"
   },
   {
    "duration": 14,
    "start_time": "2021-07-23T14:59:45.173Z"
   },
   {
    "duration": 937,
    "start_time": "2021-07-23T14:59:46.044Z"
   },
   {
    "duration": 6,
    "start_time": "2021-07-23T15:00:46.132Z"
   },
   {
    "duration": 216,
    "start_time": "2021-07-23T15:02:44.340Z"
   },
   {
    "duration": 5,
    "start_time": "2021-07-23T15:03:27.619Z"
   },
   {
    "duration": 6,
    "start_time": "2021-07-23T15:03:51.299Z"
   },
   {
    "duration": 5,
    "start_time": "2021-07-23T15:05:41.055Z"
   },
   {
    "duration": 4,
    "start_time": "2021-07-23T15:05:54.601Z"
   },
   {
    "duration": 6,
    "start_time": "2021-07-23T15:06:04.190Z"
   },
   {
    "duration": 6,
    "start_time": "2021-07-23T15:07:15.913Z"
   },
   {
    "duration": 324,
    "start_time": "2021-07-23T15:07:30.473Z"
   },
   {
    "duration": 6,
    "start_time": "2021-07-23T15:07:37.225Z"
   },
   {
    "duration": 6,
    "start_time": "2021-07-23T15:07:49.919Z"
   },
   {
    "duration": 6,
    "start_time": "2021-07-23T15:08:01.089Z"
   },
   {
    "duration": 6,
    "start_time": "2021-07-23T15:08:06.248Z"
   },
   {
    "duration": 6,
    "start_time": "2021-07-23T15:08:24.665Z"
   },
   {
    "duration": 7,
    "start_time": "2021-07-23T15:08:36.359Z"
   },
   {
    "duration": 102,
    "start_time": "2021-07-23T15:09:23.553Z"
   },
   {
    "duration": 100,
    "start_time": "2021-07-23T15:09:28.016Z"
   },
   {
    "duration": 6,
    "start_time": "2021-07-23T15:09:44.616Z"
   },
   {
    "duration": 6,
    "start_time": "2021-07-23T15:10:01.585Z"
   },
   {
    "duration": 278,
    "start_time": "2021-07-23T15:10:36.352Z"
   },
   {
    "duration": 93,
    "start_time": "2021-07-23T15:10:47.696Z"
   },
   {
    "duration": 101,
    "start_time": "2021-07-23T15:10:56.464Z"
   },
   {
    "duration": 6,
    "start_time": "2021-07-23T15:11:08.336Z"
   },
   {
    "duration": 12,
    "start_time": "2021-07-23T15:12:43.597Z"
   },
   {
    "duration": 31,
    "start_time": "2021-07-23T15:16:39.606Z"
   },
   {
    "duration": 42,
    "start_time": "2021-07-23T15:20:27.748Z"
   },
   {
    "duration": 34,
    "start_time": "2021-07-23T15:20:45.380Z"
   },
   {
    "duration": 56,
    "start_time": "2021-07-23T15:20:59.953Z"
   },
   {
    "duration": 37,
    "start_time": "2021-07-23T15:22:04.476Z"
   },
   {
    "duration": 37,
    "start_time": "2021-07-23T15:22:27.588Z"
   },
   {
    "duration": 104,
    "start_time": "2021-07-23T15:22:54.931Z"
   },
   {
    "duration": 96,
    "start_time": "2021-07-23T15:22:59.468Z"
   },
   {
    "duration": 124,
    "start_time": "2021-07-23T15:23:09.669Z"
   },
   {
    "duration": 122,
    "start_time": "2021-07-23T15:23:18.228Z"
   },
   {
    "duration": 69,
    "start_time": "2021-07-23T15:45:25.539Z"
   },
   {
    "duration": 72,
    "start_time": "2021-07-23T15:45:41.092Z"
   },
   {
    "duration": 7,
    "start_time": "2021-07-23T15:48:00.515Z"
   },
   {
    "duration": 249,
    "start_time": "2021-07-23T15:51:01.879Z"
   },
   {
    "duration": 71,
    "start_time": "2021-07-23T15:52:20.447Z"
   },
   {
    "duration": 171,
    "start_time": "2021-07-23T15:52:43.848Z"
   },
   {
    "duration": 175,
    "start_time": "2021-07-23T15:54:38.722Z"
   },
   {
    "duration": 185,
    "start_time": "2021-07-23T15:58:09.921Z"
   },
   {
    "duration": 68,
    "start_time": "2021-07-23T16:20:41.017Z"
   },
   {
    "duration": 73,
    "start_time": "2021-07-23T16:20:50.358Z"
   },
   {
    "duration": 72,
    "start_time": "2021-07-23T16:21:09.318Z"
   },
   {
    "duration": 72,
    "start_time": "2021-07-23T16:23:01.815Z"
   },
   {
    "duration": 65,
    "start_time": "2021-07-23T16:26:37.199Z"
   },
   {
    "duration": 293,
    "start_time": "2021-07-23T16:29:39.212Z"
   },
   {
    "duration": 4049,
    "start_time": "2021-07-23T16:29:45.596Z"
   },
   {
    "duration": 6878,
    "start_time": "2021-07-23T16:30:24.859Z"
   },
   {
    "duration": 95,
    "start_time": "2021-07-23T16:31:09.931Z"
   },
   {
    "duration": 5,
    "start_time": "2021-07-23T16:31:13.674Z"
   },
   {
    "duration": 4250,
    "start_time": "2021-07-23T16:31:26.211Z"
   },
   {
    "duration": 5,
    "start_time": "2021-07-23T16:31:42.306Z"
   },
   {
    "duration": 6,
    "start_time": "2021-07-23T16:32:05.506Z"
   },
   {
    "duration": 5,
    "start_time": "2021-07-23T16:32:17.274Z"
   },
   {
    "duration": 6586,
    "start_time": "2021-07-23T16:32:29.623Z"
   },
   {
    "duration": 17,
    "start_time": "2021-07-23T16:33:02.206Z"
   },
   {
    "duration": 67,
    "start_time": "2021-07-23T16:33:36.994Z"
   },
   {
    "duration": 72,
    "start_time": "2021-07-23T16:33:41.202Z"
   },
   {
    "duration": 76,
    "start_time": "2021-07-23T16:33:51.618Z"
   },
   {
    "duration": 72,
    "start_time": "2021-07-23T16:34:05.450Z"
   },
   {
    "duration": 16,
    "start_time": "2021-07-23T16:34:14.474Z"
   },
   {
    "duration": 65,
    "start_time": "2021-07-23T16:34:29.426Z"
   },
   {
    "duration": 16,
    "start_time": "2021-07-23T16:34:32.192Z"
   },
   {
    "duration": 85,
    "start_time": "2021-07-23T16:35:06.025Z"
   },
   {
    "duration": 16,
    "start_time": "2021-07-23T16:35:08.657Z"
   },
   {
    "duration": 67,
    "start_time": "2021-07-23T16:35:24.362Z"
   },
   {
    "duration": 72,
    "start_time": "2021-07-23T16:35:42.463Z"
   },
   {
    "duration": 15,
    "start_time": "2021-07-23T16:35:44.857Z"
   },
   {
    "duration": 98,
    "start_time": "2021-07-23T16:37:02.743Z"
   },
   {
    "duration": 14,
    "start_time": "2021-07-23T16:37:03.001Z"
   },
   {
    "duration": 67,
    "start_time": "2021-07-23T16:37:27.248Z"
   },
   {
    "duration": 16,
    "start_time": "2021-07-23T16:37:27.936Z"
   },
   {
    "duration": 97,
    "start_time": "2021-07-23T16:43:57.876Z"
   },
   {
    "duration": 54,
    "start_time": "2021-07-23T16:44:06.278Z"
   },
   {
    "duration": 52,
    "start_time": "2021-07-23T16:44:14.372Z"
   },
   {
    "duration": 54,
    "start_time": "2021-07-23T16:44:18.351Z"
   },
   {
    "duration": 46,
    "start_time": "2021-07-23T16:44:24.222Z"
   },
   {
    "duration": 31,
    "start_time": "2021-07-23T16:55:09.407Z"
   },
   {
    "duration": 37,
    "start_time": "2021-07-23T16:55:19.122Z"
   },
   {
    "duration": 343,
    "start_time": "2021-07-23T17:00:23.762Z"
   },
   {
    "duration": 80,
    "start_time": "2021-07-23T17:04:58.804Z"
   },
   {
    "duration": 95,
    "start_time": "2021-07-23T17:05:18.703Z"
   },
   {
    "duration": 95,
    "start_time": "2021-07-23T17:05:33.959Z"
   },
   {
    "duration": 81,
    "start_time": "2021-07-23T17:06:10.767Z"
   },
   {
    "duration": 80,
    "start_time": "2021-07-23T17:09:48.210Z"
   },
   {
    "duration": 11,
    "start_time": "2021-07-23T17:09:56.542Z"
   },
   {
    "duration": 287,
    "start_time": "2021-07-23T17:10:39.654Z"
   },
   {
    "duration": 87,
    "start_time": "2021-07-23T17:10:51.565Z"
   },
   {
    "duration": 17,
    "start_time": "2021-07-23T17:10:57.245Z"
   },
   {
    "duration": 81,
    "start_time": "2021-07-23T17:14:22.849Z"
   },
   {
    "duration": 88,
    "start_time": "2021-07-23T17:14:36.316Z"
   },
   {
    "duration": 95,
    "start_time": "2021-07-23T17:14:51.684Z"
   },
   {
    "duration": 92,
    "start_time": "2021-07-23T17:15:11.587Z"
   },
   {
    "duration": 88,
    "start_time": "2021-07-23T17:15:28.532Z"
   },
   {
    "duration": 71,
    "start_time": "2021-07-23T17:15:49.370Z"
   },
   {
    "duration": 105,
    "start_time": "2021-07-23T17:16:36.572Z"
   },
   {
    "duration": 91,
    "start_time": "2021-07-23T17:16:49.138Z"
   },
   {
    "duration": 88,
    "start_time": "2021-07-23T17:16:54.779Z"
   },
   {
    "duration": 118,
    "start_time": "2021-07-23T17:17:23.891Z"
   },
   {
    "duration": 99,
    "start_time": "2021-07-23T17:17:27.467Z"
   },
   {
    "duration": 103,
    "start_time": "2021-07-23T17:17:32.915Z"
   },
   {
    "duration": 94,
    "start_time": "2021-07-23T17:17:38.323Z"
   },
   {
    "duration": 85,
    "start_time": "2021-07-23T17:17:48.947Z"
   },
   {
    "duration": 9,
    "start_time": "2021-07-23T17:17:59.710Z"
   },
   {
    "duration": 86,
    "start_time": "2021-07-23T17:18:11.283Z"
   },
   {
    "duration": 10,
    "start_time": "2021-07-23T17:18:14.499Z"
   },
   {
    "duration": 83,
    "start_time": "2021-07-23T17:18:18.810Z"
   },
   {
    "duration": 10,
    "start_time": "2021-07-23T17:18:19.018Z"
   },
   {
    "duration": 78,
    "start_time": "2021-07-23T17:18:39.756Z"
   },
   {
    "duration": 10,
    "start_time": "2021-07-23T17:18:40.218Z"
   },
   {
    "duration": -103,
    "start_time": "2021-07-23T17:18:58.794Z"
   },
   {
    "duration": 6768,
    "start_time": "2021-07-23T17:19:04.026Z"
   },
   {
    "duration": 108,
    "start_time": "2021-07-23T17:19:37.619Z"
   },
   {
    "duration": 7,
    "start_time": "2021-07-23T17:19:39.786Z"
   },
   {
    "duration": 84,
    "start_time": "2021-07-23T17:19:50.930Z"
   },
   {
    "duration": 9,
    "start_time": "2021-07-23T17:19:53.810Z"
   },
   {
    "duration": 13,
    "start_time": "2021-07-23T17:20:26.738Z"
   },
   {
    "duration": 461,
    "start_time": "2021-07-23T17:23:28.506Z"
   },
   {
    "duration": 82,
    "start_time": "2021-07-23T17:24:29.781Z"
   },
   {
    "duration": 14,
    "start_time": "2021-07-23T17:24:39.490Z"
   },
   {
    "duration": 317,
    "start_time": "2021-07-23T17:25:30.983Z"
   },
   {
    "duration": 369,
    "start_time": "2021-07-23T17:25:47.456Z"
   },
   {
    "duration": 11,
    "start_time": "2021-07-23T17:26:44.808Z"
   },
   {
    "duration": 469,
    "start_time": "2021-07-23T17:27:30.136Z"
   },
   {
    "duration": 248,
    "start_time": "2021-07-23T17:27:38.847Z"
   },
   {
    "duration": 6,
    "start_time": "2021-07-23T17:27:42.416Z"
   },
   {
    "duration": 499,
    "start_time": "2021-07-23T17:29:44.421Z"
   },
   {
    "duration": 445,
    "start_time": "2021-07-23T17:29:53.079Z"
   },
   {
    "duration": 10,
    "start_time": "2021-07-23T17:30:38.094Z"
   },
   {
    "duration": 473,
    "start_time": "2021-07-23T17:30:59.157Z"
   },
   {
    "duration": 545,
    "start_time": "2021-07-23T17:31:09.863Z"
   },
   {
    "duration": 620,
    "start_time": "2021-07-23T17:31:12.726Z"
   },
   {
    "duration": 415,
    "start_time": "2021-07-23T17:31:16.895Z"
   },
   {
    "duration": 9,
    "start_time": "2021-07-23T17:32:05.878Z"
   },
   {
    "duration": 93,
    "start_time": "2021-07-23T17:32:57.021Z"
   },
   {
    "duration": 9,
    "start_time": "2021-07-23T17:33:09.760Z"
   },
   {
    "duration": 496,
    "start_time": "2021-07-23T17:33:26.892Z"
   },
   {
    "duration": 9,
    "start_time": "2021-07-23T17:33:55.093Z"
   },
   {
    "duration": 10,
    "start_time": "2021-07-23T17:34:13.156Z"
   },
   {
    "duration": 10,
    "start_time": "2021-07-23T17:34:19.700Z"
   },
   {
    "duration": 64,
    "start_time": "2021-07-23T17:36:21.051Z"
   },
   {
    "duration": 39,
    "start_time": "2021-07-23T17:40:47.802Z"
   },
   {
    "duration": 42,
    "start_time": "2021-07-23T17:40:54.602Z"
   },
   {
    "duration": 295,
    "start_time": "2021-07-23T17:41:01.698Z"
   },
   {
    "duration": 208,
    "start_time": "2021-07-23T17:41:09.810Z"
   },
   {
    "duration": 68,
    "start_time": "2021-07-23T17:41:30.699Z"
   },
   {
    "duration": 43,
    "start_time": "2021-07-23T17:43:24.265Z"
   },
   {
    "duration": 62,
    "start_time": "2021-07-23T17:43:27.362Z"
   },
   {
    "duration": 9,
    "start_time": "2021-07-23T17:45:01.776Z"
   },
   {
    "duration": 15,
    "start_time": "2021-07-23T17:45:04.768Z"
   },
   {
    "duration": 7800,
    "start_time": "2021-07-23T17:45:47.849Z"
   },
   {
    "duration": 12,
    "start_time": "2021-07-23T17:46:12.321Z"
   },
   {
    "duration": 12,
    "start_time": "2021-07-23T17:46:24.728Z"
   },
   {
    "duration": 42,
    "start_time": "2021-07-23T17:46:30.150Z"
   },
   {
    "duration": 63,
    "start_time": "2021-07-23T17:46:30.360Z"
   },
   {
    "duration": 12,
    "start_time": "2021-07-23T17:46:30.576Z"
   },
   {
    "duration": 11,
    "start_time": "2021-07-23T17:46:30.729Z"
   },
   {
    "duration": 43,
    "start_time": "2021-07-28T07:01:15.712Z"
   },
   {
    "duration": 6,
    "start_time": "2021-07-29T14:59:56.610Z"
   },
   {
    "duration": 71,
    "start_time": "2021-07-29T15:00:11.462Z"
   },
   {
    "duration": 67,
    "start_time": "2021-07-29T15:00:37.708Z"
   },
   {
    "duration": 73,
    "start_time": "2021-07-29T15:00:42.558Z"
   },
   {
    "duration": 3038,
    "start_time": "2021-07-29T15:01:19.511Z"
   },
   {
    "duration": 2194,
    "start_time": "2021-07-29T15:01:22.551Z"
   },
   {
    "duration": 153,
    "start_time": "2021-07-29T15:01:24.748Z"
   },
   {
    "duration": 101,
    "start_time": "2021-07-29T15:01:24.903Z"
   },
   {
    "duration": 7,
    "start_time": "2021-07-29T15:01:25.007Z"
   },
   {
    "duration": 154,
    "start_time": "2021-07-29T15:01:25.017Z"
   },
   {
    "duration": 233,
    "start_time": "2021-07-29T15:01:25.174Z"
   },
   {
    "duration": 110,
    "start_time": "2021-07-29T15:01:25.411Z"
   },
   {
    "duration": 13,
    "start_time": "2021-07-29T15:01:25.523Z"
   },
   {
    "duration": 5,
    "start_time": "2021-07-29T15:01:25.539Z"
   },
   {
    "duration": 99,
    "start_time": "2021-07-29T15:01:25.546Z"
   },
   {
    "duration": 11114,
    "start_time": "2021-07-29T15:01:25.648Z"
   },
   {
    "duration": 539,
    "start_time": "2021-07-29T15:01:36.765Z"
   },
   {
    "duration": 181,
    "start_time": "2021-07-29T15:01:37.307Z"
   },
   {
    "duration": 6,
    "start_time": "2021-07-29T15:01:37.490Z"
   },
   {
    "duration": 12,
    "start_time": "2021-07-29T15:01:37.498Z"
   },
   {
    "duration": 86,
    "start_time": "2021-07-29T15:01:37.512Z"
   },
   {
    "duration": 299,
    "start_time": "2021-07-29T15:01:37.600Z"
   },
   {
    "duration": 137,
    "start_time": "2021-07-29T15:01:37.903Z"
   },
   {
    "duration": 195,
    "start_time": "2021-07-29T15:01:38.042Z"
   },
   {
    "duration": 7478,
    "start_time": "2021-07-29T15:03:24.147Z"
   },
   {
    "duration": 286,
    "start_time": "2021-07-29T15:03:39.107Z"
   },
   {
    "duration": 286,
    "start_time": "2021-07-29T15:04:39.205Z"
   },
   {
    "duration": 324,
    "start_time": "2021-07-29T15:05:04.749Z"
   },
   {
    "duration": 34,
    "start_time": "2021-07-29T15:05:30.621Z"
   },
   {
    "duration": 259,
    "start_time": "2021-07-29T15:06:58.127Z"
   },
   {
    "duration": 8,
    "start_time": "2021-07-29T15:08:05.589Z"
   },
   {
    "duration": 75,
    "start_time": "2021-07-29T15:08:06.932Z"
   },
   {
    "duration": 6,
    "start_time": "2021-07-29T15:08:23.268Z"
   },
   {
    "duration": 65,
    "start_time": "2021-07-29T15:08:23.899Z"
   },
   {
    "duration": 8,
    "start_time": "2021-07-29T15:08:37.279Z"
   },
   {
    "duration": 115,
    "start_time": "2021-07-29T15:08:37.291Z"
   },
   {
    "duration": 253,
    "start_time": "2021-07-29T15:09:09.379Z"
   },
   {
    "duration": 7,
    "start_time": "2021-07-29T15:09:12.995Z"
   },
   {
    "duration": 85,
    "start_time": "2021-07-29T15:09:14.987Z"
   },
   {
    "duration": 48,
    "start_time": "2021-07-29T15:09:34.443Z"
   },
   {
    "duration": 91,
    "start_time": "2021-07-29T15:09:49.571Z"
   },
   {
    "duration": 12,
    "start_time": "2021-07-29T15:12:58.774Z"
   },
   {
    "duration": 6,
    "start_time": "2021-07-29T15:13:42.609Z"
   },
   {
    "duration": 75,
    "start_time": "2021-07-29T15:13:43.562Z"
   },
   {
    "duration": 71,
    "start_time": "2021-07-29T15:13:48.314Z"
   },
   {
    "duration": 191,
    "start_time": "2021-07-29T15:13:55.203Z"
   },
   {
    "duration": 6,
    "start_time": "2021-07-29T15:15:40.454Z"
   },
   {
    "duration": 79,
    "start_time": "2021-07-29T15:15:41.040Z"
   },
   {
    "duration": 193,
    "start_time": "2021-07-29T15:15:43.057Z"
   },
   {
    "duration": 77,
    "start_time": "2021-07-29T15:15:47.191Z"
   },
   {
    "duration": 10,
    "start_time": "2021-07-29T15:15:47.518Z"
   },
   {
    "duration": 51,
    "start_time": "2021-07-29T15:15:50.090Z"
   },
   {
    "duration": 95,
    "start_time": "2021-07-29T15:15:50.490Z"
   },
   {
    "duration": 16,
    "start_time": "2021-07-29T15:15:50.721Z"
   },
   {
    "duration": 147,
    "start_time": "2021-07-29T15:15:50.944Z"
   },
   {
    "duration": 11,
    "start_time": "2021-07-29T15:16:06.166Z"
   },
   {
    "duration": 74,
    "start_time": "2021-07-29T15:34:13.170Z"
   },
   {
    "duration": 7,
    "start_time": "2021-07-29T15:34:25.138Z"
   },
   {
    "duration": 4666,
    "start_time": "2021-07-29T15:35:01.014Z"
   },
   {
    "duration": 8,
    "start_time": "2021-07-29T15:37:05.403Z"
   },
   {
    "duration": 4630,
    "start_time": "2021-07-29T15:37:07.634Z"
   },
   {
    "duration": 8,
    "start_time": "2021-07-29T15:37:45.329Z"
   },
   {
    "duration": 493,
    "start_time": "2021-07-29T15:37:45.763Z"
   },
   {
    "duration": 6,
    "start_time": "2021-07-29T15:38:11.000Z"
   },
   {
    "duration": 7,
    "start_time": "2021-07-29T15:38:17.337Z"
   },
   {
    "duration": 4301,
    "start_time": "2021-07-29T15:38:17.816Z"
   },
   {
    "duration": 7,
    "start_time": "2021-07-29T15:40:01.545Z"
   },
   {
    "duration": 7,
    "start_time": "2021-07-29T15:40:03.065Z"
   },
   {
    "duration": 7,
    "start_time": "2021-07-29T16:03:35.176Z"
   },
   {
    "duration": 7,
    "start_time": "2021-07-29T16:03:35.839Z"
   },
   {
    "duration": 8,
    "start_time": "2021-07-29T16:05:38.796Z"
   },
   {
    "duration": 4307,
    "start_time": "2021-07-29T16:05:40.487Z"
   },
   {
    "duration": 8,
    "start_time": "2021-07-29T16:05:53.879Z"
   },
   {
    "duration": 7,
    "start_time": "2021-07-29T16:05:55.431Z"
   },
   {
    "duration": 12,
    "start_time": "2021-07-29T16:12:22.338Z"
   },
   {
    "duration": 8,
    "start_time": "2021-07-29T16:12:26.581Z"
   },
   {
    "duration": 5,
    "start_time": "2021-07-29T16:15:32.500Z"
   },
   {
    "duration": 8,
    "start_time": "2021-07-29T16:16:17.580Z"
   },
   {
    "duration": 5,
    "start_time": "2021-07-29T16:16:23.203Z"
   },
   {
    "duration": 7,
    "start_time": "2021-07-29T16:16:28.803Z"
   },
   {
    "duration": 108,
    "start_time": "2021-07-29T16:17:29.650Z"
   },
   {
    "duration": 7,
    "start_time": "2021-07-29T16:20:31.991Z"
   },
   {
    "duration": 7,
    "start_time": "2021-07-29T16:20:43.680Z"
   },
   {
    "duration": 8,
    "start_time": "2021-07-29T16:21:05.626Z"
   },
   {
    "duration": 5,
    "start_time": "2021-07-29T16:24:58.584Z"
   },
   {
    "duration": 6,
    "start_time": "2021-07-29T16:25:03.125Z"
   },
   {
    "duration": 6,
    "start_time": "2021-07-29T16:26:01.624Z"
   },
   {
    "duration": 6,
    "start_time": "2021-07-29T16:29:48.935Z"
   },
   {
    "duration": 8,
    "start_time": "2021-07-29T16:31:31.668Z"
   },
   {
    "duration": 109,
    "start_time": "2021-07-29T16:31:37.030Z"
   },
   {
    "duration": 7,
    "start_time": "2021-07-29T16:31:37.460Z"
   },
   {
    "duration": 8,
    "start_time": "2021-07-29T16:31:38.494Z"
   },
   {
    "duration": 8,
    "start_time": "2021-07-29T16:31:39.469Z"
   },
   {
    "duration": 7,
    "start_time": "2021-07-29T16:31:46.374Z"
   },
   {
    "duration": 8,
    "start_time": "2021-07-29T16:31:46.622Z"
   },
   {
    "duration": 103,
    "start_time": "2021-07-29T16:31:48.518Z"
   },
   {
    "duration": 7,
    "start_time": "2021-07-29T16:31:50.124Z"
   },
   {
    "duration": 7,
    "start_time": "2021-07-29T16:31:52.213Z"
   },
   {
    "duration": 8,
    "start_time": "2021-07-29T16:31:53.141Z"
   },
   {
    "duration": 8,
    "start_time": "2021-07-29T16:35:15.522Z"
   },
   {
    "duration": 7,
    "start_time": "2021-07-29T16:35:16.459Z"
   },
   {
    "duration": 7,
    "start_time": "2021-07-29T16:35:38.749Z"
   },
   {
    "duration": 8,
    "start_time": "2021-07-29T16:35:43.420Z"
   },
   {
    "duration": 7,
    "start_time": "2021-07-29T16:35:46.892Z"
   },
   {
    "duration": 9,
    "start_time": "2021-07-29T16:45:56.255Z"
   },
   {
    "duration": 8,
    "start_time": "2021-07-29T16:45:59.002Z"
   },
   {
    "duration": 7,
    "start_time": "2021-07-29T16:46:06.419Z"
   },
   {
    "duration": 8,
    "start_time": "2021-07-29T16:46:08.416Z"
   },
   {
    "duration": 7,
    "start_time": "2021-07-29T16:46:12.000Z"
   },
   {
    "duration": 9,
    "start_time": "2021-07-29T16:46:29.560Z"
   },
   {
    "duration": 7,
    "start_time": "2021-07-29T16:46:36.239Z"
   },
   {
    "duration": 7,
    "start_time": "2021-07-29T16:46:38.679Z"
   },
   {
    "duration": 7,
    "start_time": "2021-07-29T16:46:40.960Z"
   },
   {
    "duration": 8,
    "start_time": "2021-07-29T16:46:43.592Z"
   },
   {
    "duration": 107,
    "start_time": "2021-07-29T16:47:45.631Z"
   },
   {
    "duration": 2894,
    "start_time": "2021-07-29T16:56:14.403Z"
   },
   {
    "duration": 2097,
    "start_time": "2021-07-29T16:56:17.300Z"
   },
   {
    "duration": 154,
    "start_time": "2021-07-29T16:56:19.399Z"
   },
   {
    "duration": 99,
    "start_time": "2021-07-29T16:56:19.556Z"
   },
   {
    "duration": 8,
    "start_time": "2021-07-29T16:56:19.657Z"
   },
   {
    "duration": 146,
    "start_time": "2021-07-29T16:56:19.683Z"
   },
   {
    "duration": 244,
    "start_time": "2021-07-29T16:56:19.832Z"
   },
   {
    "duration": 114,
    "start_time": "2021-07-29T16:56:20.079Z"
   },
   {
    "duration": 12,
    "start_time": "2021-07-29T16:56:20.197Z"
   },
   {
    "duration": 6,
    "start_time": "2021-07-29T16:56:20.211Z"
   },
   {
    "duration": 97,
    "start_time": "2021-07-29T16:56:20.219Z"
   },
   {
    "duration": 11349,
    "start_time": "2021-07-29T16:56:20.318Z"
   },
   {
    "duration": 644,
    "start_time": "2021-07-29T16:56:31.670Z"
   },
   {
    "duration": 185,
    "start_time": "2021-07-29T16:56:32.316Z"
   },
   {
    "duration": 7,
    "start_time": "2021-07-29T16:56:32.504Z"
   },
   {
    "duration": 70,
    "start_time": "2021-07-29T16:56:32.514Z"
   },
   {
    "duration": 106,
    "start_time": "2021-07-29T16:56:32.588Z"
   },
   {
    "duration": 312,
    "start_time": "2021-07-29T16:56:32.696Z"
   },
   {
    "duration": 100,
    "start_time": "2021-07-29T16:56:33.010Z"
   },
   {
    "duration": 184,
    "start_time": "2021-07-29T16:56:33.112Z"
   },
   {
    "duration": 94,
    "start_time": "2021-07-29T16:56:33.299Z"
   },
   {
    "duration": 9,
    "start_time": "2021-07-29T16:56:33.395Z"
   },
   {
    "duration": 51,
    "start_time": "2021-07-29T16:56:33.406Z"
   },
   {
    "duration": 98,
    "start_time": "2021-07-29T16:56:33.459Z"
   },
   {
    "duration": 8,
    "start_time": "2021-07-29T16:56:33.559Z"
   },
   {
    "duration": 18,
    "start_time": "2021-07-29T16:56:33.570Z"
   },
   {
    "duration": 124,
    "start_time": "2021-07-29T16:56:33.591Z"
   },
   {
    "duration": 7,
    "start_time": "2021-07-29T16:56:33.718Z"
   },
   {
    "duration": 9,
    "start_time": "2021-07-29T16:56:33.728Z"
   },
   {
    "duration": 7,
    "start_time": "2021-07-29T16:56:33.739Z"
   },
   {
    "duration": 63780,
    "start_time": "2021-07-30T05:30:31.029Z"
   },
   {
    "duration": -4025,
    "start_time": "2021-07-30T05:31:38.839Z"
   },
   {
    "duration": -4027,
    "start_time": "2021-07-30T05:31:38.842Z"
   },
   {
    "duration": -4027,
    "start_time": "2021-07-30T05:31:38.844Z"
   },
   {
    "duration": -4029,
    "start_time": "2021-07-30T05:31:38.847Z"
   },
   {
    "duration": -4030,
    "start_time": "2021-07-30T05:31:38.850Z"
   },
   {
    "duration": -4039,
    "start_time": "2021-07-30T05:31:38.860Z"
   },
   {
    "duration": -4041,
    "start_time": "2021-07-30T05:31:38.863Z"
   },
   {
    "duration": -4042,
    "start_time": "2021-07-30T05:31:38.866Z"
   },
   {
    "duration": -4043,
    "start_time": "2021-07-30T05:31:38.868Z"
   },
   {
    "duration": -4044,
    "start_time": "2021-07-30T05:31:38.871Z"
   },
   {
    "duration": -4045,
    "start_time": "2021-07-30T05:31:38.873Z"
   },
   {
    "duration": -4045,
    "start_time": "2021-07-30T05:31:38.875Z"
   },
   {
    "duration": -4046,
    "start_time": "2021-07-30T05:31:38.877Z"
   },
   {
    "duration": -4046,
    "start_time": "2021-07-30T05:31:38.879Z"
   },
   {
    "duration": -4047,
    "start_time": "2021-07-30T05:31:38.881Z"
   },
   {
    "duration": -4047,
    "start_time": "2021-07-30T05:31:38.883Z"
   },
   {
    "duration": -4049,
    "start_time": "2021-07-30T05:31:38.886Z"
   },
   {
    "duration": -4049,
    "start_time": "2021-07-30T05:31:38.888Z"
   },
   {
    "duration": -4051,
    "start_time": "2021-07-30T05:31:38.891Z"
   },
   {
    "duration": -4059,
    "start_time": "2021-07-30T05:31:38.901Z"
   },
   {
    "duration": -4061,
    "start_time": "2021-07-30T05:31:38.904Z"
   },
   {
    "duration": -4062,
    "start_time": "2021-07-30T05:31:38.907Z"
   },
   {
    "duration": -4063,
    "start_time": "2021-07-30T05:31:38.909Z"
   },
   {
    "duration": -4092,
    "start_time": "2021-07-30T05:31:38.939Z"
   },
   {
    "duration": -4093,
    "start_time": "2021-07-30T05:31:38.942Z"
   },
   {
    "duration": -4101,
    "start_time": "2021-07-30T05:31:38.951Z"
   },
   {
    "duration": -4103,
    "start_time": "2021-07-30T05:31:38.955Z"
   },
   {
    "duration": -4104,
    "start_time": "2021-07-30T05:31:38.957Z"
   },
   {
    "duration": 348497,
    "start_time": "2021-07-30T05:33:52.021Z"
   },
   {
    "duration": 62765,
    "start_time": "2021-07-30T05:39:40.521Z"
   },
   {
    "duration": 187,
    "start_time": "2021-07-30T05:40:43.289Z"
   },
   {
    "duration": 98,
    "start_time": "2021-07-30T05:40:43.478Z"
   },
   {
    "duration": 8,
    "start_time": "2021-07-30T05:40:43.578Z"
   },
   {
    "duration": 171,
    "start_time": "2021-07-30T05:40:43.588Z"
   },
   {
    "duration": 244,
    "start_time": "2021-07-30T05:40:43.762Z"
   },
   {
    "duration": 110,
    "start_time": "2021-07-30T05:40:44.010Z"
   },
   {
    "duration": 14,
    "start_time": "2021-07-30T05:40:44.123Z"
   },
   {
    "duration": 7,
    "start_time": "2021-07-30T05:40:44.139Z"
   },
   {
    "duration": 74,
    "start_time": "2021-07-30T05:40:44.148Z"
   },
   {
    "duration": 12372,
    "start_time": "2021-07-30T05:40:44.225Z"
   },
   {
    "duration": 531,
    "start_time": "2021-07-30T05:40:56.601Z"
   },
   {
    "duration": 192,
    "start_time": "2021-07-30T05:40:57.134Z"
   },
   {
    "duration": 5,
    "start_time": "2021-07-30T05:40:57.329Z"
   },
   {
    "duration": 65,
    "start_time": "2021-07-30T05:40:57.336Z"
   },
   {
    "duration": 37,
    "start_time": "2021-07-30T05:40:57.403Z"
   },
   {
    "duration": 60,
    "start_time": "2021-07-30T05:40:57.443Z"
   },
   {
    "duration": 196,
    "start_time": "2021-07-30T05:40:57.506Z"
   },
   {
    "duration": 282,
    "start_time": "2021-07-30T05:40:57.704Z"
   },
   {
    "duration": 90,
    "start_time": "2021-07-30T05:40:57.989Z"
   },
   {
    "duration": 21,
    "start_time": "2021-07-30T05:40:58.081Z"
   },
   {
    "duration": 45,
    "start_time": "2021-07-30T05:40:58.106Z"
   },
   {
    "duration": 102,
    "start_time": "2021-07-30T05:40:58.154Z"
   },
   {
    "duration": 9,
    "start_time": "2021-07-30T05:40:58.258Z"
   },
   {
    "duration": 17,
    "start_time": "2021-07-30T05:40:58.270Z"
   },
   {
    "duration": 111,
    "start_time": "2021-07-30T05:40:58.301Z"
   },
   {
    "duration": 7,
    "start_time": "2021-07-30T05:40:58.414Z"
   },
   {
    "duration": 9,
    "start_time": "2021-07-30T05:40:58.423Z"
   },
   {
    "duration": 9,
    "start_time": "2021-07-30T05:40:58.434Z"
   },
   {
    "duration": 5608,
    "start_time": "2021-07-30T07:14:06.929Z"
   },
   {
    "duration": 2284,
    "start_time": "2021-07-30T07:14:12.540Z"
   },
   {
    "duration": 168,
    "start_time": "2021-07-30T07:14:18.401Z"
   },
   {
    "duration": 98,
    "start_time": "2021-07-30T07:14:21.138Z"
   },
   {
    "duration": 10,
    "start_time": "2021-07-30T07:14:30.130Z"
   },
   {
    "duration": 160,
    "start_time": "2021-07-30T07:14:30.505Z"
   },
   {
    "duration": 254,
    "start_time": "2021-07-30T07:14:30.913Z"
   },
   {
    "duration": 113,
    "start_time": "2021-07-30T07:14:31.993Z"
   },
   {
    "duration": 14,
    "start_time": "2021-07-30T07:14:32.633Z"
   },
   {
    "duration": 5,
    "start_time": "2021-07-30T07:22:52.647Z"
   },
   {
    "duration": 86,
    "start_time": "2021-07-30T07:22:53.342Z"
   },
   {
    "duration": 537,
    "start_time": "2021-07-30T07:24:40.612Z"
   },
   {
    "duration": -104,
    "start_time": "2021-07-30T07:24:41.255Z"
   },
   {
    "duration": 485,
    "start_time": "2021-07-30T07:24:56.772Z"
   },
   {
    "duration": 335,
    "start_time": "2021-07-30T07:25:07.198Z"
   },
   {
    "duration": 15,
    "start_time": "2021-07-30T07:25:41.005Z"
   },
   {
    "duration": 3509,
    "start_time": "2021-07-30T07:25:49.300Z"
   },
   {
    "duration": 2198,
    "start_time": "2021-07-30T07:25:52.812Z"
   },
   {
    "duration": 166,
    "start_time": "2021-07-30T07:25:55.013Z"
   },
   {
    "duration": 157,
    "start_time": "2021-07-30T07:26:36.036Z"
   },
   {
    "duration": 103,
    "start_time": "2021-07-30T07:26:36.858Z"
   },
   {
    "duration": 10,
    "start_time": "2021-07-30T07:26:39.989Z"
   },
   {
    "duration": 158,
    "start_time": "2021-07-30T07:26:40.523Z"
   },
   {
    "duration": 242,
    "start_time": "2021-07-30T07:26:40.948Z"
   },
   {
    "duration": 113,
    "start_time": "2021-07-30T07:26:41.196Z"
   },
   {
    "duration": 14,
    "start_time": "2021-07-30T07:26:41.388Z"
   },
   {
    "duration": 6,
    "start_time": "2021-07-30T07:28:03.339Z"
   },
   {
    "duration": 75,
    "start_time": "2021-07-30T07:28:03.795Z"
   },
   {
    "duration": 549,
    "start_time": "2021-07-30T07:28:09.820Z"
   },
   {
    "duration": 11939,
    "start_time": "2021-07-30T07:28:20.115Z"
   },
   {
    "duration": 281,
    "start_time": "2021-07-30T07:28:38.003Z"
   },
   {
    "duration": 84,
    "start_time": "2021-07-30T07:28:47.939Z"
   },
   {
    "duration": 5,
    "start_time": "2021-07-30T07:28:50.100Z"
   },
   {
    "duration": 10,
    "start_time": "2021-07-30T07:29:03.586Z"
   },
   {
    "duration": 36,
    "start_time": "2021-07-30T07:29:08.907Z"
   },
   {
    "duration": 157,
    "start_time": "2021-07-30T07:29:09.819Z"
   },
   {
    "duration": 95,
    "start_time": "2021-07-30T07:29:10.980Z"
   },
   {
    "duration": 192,
    "start_time": "2021-07-30T07:32:03.697Z"
   },
   {
    "duration": 84,
    "start_time": "2021-07-30T07:32:16.784Z"
   },
   {
    "duration": 11,
    "start_time": "2021-07-30T07:32:17.425Z"
   },
   {
    "duration": 46,
    "start_time": "2021-07-30T07:32:22.545Z"
   },
   {
    "duration": 88,
    "start_time": "2021-07-30T07:32:48.515Z"
   },
   {
    "duration": 9,
    "start_time": "2021-07-30T07:32:49.546Z"
   },
   {
    "duration": 14,
    "start_time": "2021-07-30T09:23:34.904Z"
   },
   {
    "duration": 9,
    "start_time": "2021-07-30T10:25:06.712Z"
   },
   {
    "duration": 10,
    "start_time": "2021-07-30T10:25:14.337Z"
   },
   {
    "duration": 11,
    "start_time": "2021-07-30T10:25:53.594Z"
   },
   {
    "duration": 668,
    "start_time": "2021-07-30T10:25:56.713Z"
   },
   {
    "duration": 8,
    "start_time": "2021-07-30T10:26:08.130Z"
   },
   {
    "duration": 11,
    "start_time": "2021-07-30T10:26:10.816Z"
   },
   {
    "duration": 116,
    "start_time": "2021-07-30T10:26:17.665Z"
   },
   {
    "duration": 12,
    "start_time": "2021-07-30T10:26:19.696Z"
   },
   {
    "duration": 11,
    "start_time": "2021-07-30T10:26:22.368Z"
   },
   {
    "duration": 11,
    "start_time": "2021-07-30T10:26:26.999Z"
   },
   {
    "duration": 8,
    "start_time": "2021-07-30T10:34:26.141Z"
   },
   {
    "duration": 8,
    "start_time": "2021-07-30T10:35:10.868Z"
   },
   {
    "duration": 8,
    "start_time": "2021-07-30T10:35:49.070Z"
   },
   {
    "duration": 10,
    "start_time": "2021-07-30T10:35:59.997Z"
   },
   {
    "duration": 8,
    "start_time": "2021-07-30T10:36:26.814Z"
   },
   {
    "duration": 111,
    "start_time": "2021-07-30T10:37:06.933Z"
   },
   {
    "duration": 228679,
    "start_time": "2021-07-30T15:40:19.028Z"
   },
   {
    "duration": 48626,
    "start_time": "2021-07-30T15:44:07.709Z"
   },
   {
    "duration": 138,
    "start_time": "2021-07-30T15:44:56.337Z"
   },
   {
    "duration": 75,
    "start_time": "2021-07-30T15:44:56.477Z"
   },
   {
    "duration": 5,
    "start_time": "2021-07-30T15:44:56.553Z"
   },
   {
    "duration": 110,
    "start_time": "2021-07-30T15:44:56.560Z"
   },
   {
    "duration": 145,
    "start_time": "2021-07-30T15:44:56.672Z"
   },
   {
    "duration": 72,
    "start_time": "2021-07-30T15:44:56.819Z"
   },
   {
    "duration": 8,
    "start_time": "2021-07-30T15:44:56.894Z"
   },
   {
    "duration": 5,
    "start_time": "2021-07-30T15:44:56.904Z"
   },
   {
    "duration": 50,
    "start_time": "2021-07-30T15:44:56.911Z"
   },
   {
    "duration": 6939,
    "start_time": "2021-07-30T15:44:56.962Z"
   },
   {
    "duration": 331,
    "start_time": "2021-07-30T15:45:03.903Z"
   },
   {
    "duration": 161,
    "start_time": "2021-07-30T15:45:04.235Z"
   },
   {
    "duration": 3,
    "start_time": "2021-07-30T15:45:04.397Z"
   },
   {
    "duration": 8,
    "start_time": "2021-07-30T15:45:04.402Z"
   },
   {
    "duration": 82,
    "start_time": "2021-07-30T15:45:04.411Z"
   },
   {
    "duration": 4,
    "start_time": "2021-07-30T15:45:04.495Z"
   },
   {
    "duration": 116,
    "start_time": "2021-07-30T15:45:04.501Z"
   },
   {
    "duration": 176,
    "start_time": "2021-07-30T15:45:04.618Z"
   },
   {
    "duration": 52,
    "start_time": "2021-07-30T15:45:04.796Z"
   },
   {
    "duration": 6,
    "start_time": "2021-07-30T15:45:04.850Z"
   },
   {
    "duration": 50,
    "start_time": "2021-07-30T15:45:04.858Z"
   },
   {
    "duration": 417,
    "start_time": "2021-07-30T15:45:04.909Z"
   },
   {
    "duration": -46772,
    "start_time": "2021-07-30T15:45:52.100Z"
   },
   {
    "duration": -46773,
    "start_time": "2021-07-30T15:45:52.102Z"
   },
   {
    "duration": -46774,
    "start_time": "2021-07-30T15:45:52.104Z"
   },
   {
    "duration": -46774,
    "start_time": "2021-07-30T15:45:52.105Z"
   },
   {
    "duration": -46775,
    "start_time": "2021-07-30T15:45:52.107Z"
   },
   {
    "duration": -46776,
    "start_time": "2021-07-30T15:45:52.109Z"
   },
   {
    "duration": -46777,
    "start_time": "2021-07-30T15:45:52.111Z"
   },
   {
    "duration": -46778,
    "start_time": "2021-07-30T15:45:52.113Z"
   },
   {
    "duration": 54,
    "start_time": "2021-07-30T15:46:42.904Z"
   },
   {
    "duration": 8,
    "start_time": "2021-07-30T15:46:43.916Z"
   },
   {
    "duration": 5,
    "start_time": "2021-07-30T15:46:44.709Z"
   },
   {
    "duration": 2,
    "start_time": "2021-07-30T15:46:46.090Z"
   },
   {
    "duration": 6,
    "start_time": "2021-07-30T15:46:46.900Z"
   },
   {
    "duration": 73,
    "start_time": "2021-07-30T15:46:47.957Z"
   },
   {
    "duration": 5,
    "start_time": "2021-07-30T15:46:48.372Z"
   },
   {
    "duration": 5,
    "start_time": "2021-07-30T15:46:48.887Z"
   },
   {
    "duration": 6,
    "start_time": "2021-07-30T15:46:49.262Z"
   },
   {
    "duration": 9,
    "start_time": "2021-07-30T16:35:06.592Z"
   },
   {
    "duration": 5511,
    "start_time": "2021-07-30T16:35:22.298Z"
   },
   {
    "duration": 2441,
    "start_time": "2021-07-30T16:35:27.812Z"
   },
   {
    "duration": 178,
    "start_time": "2021-07-30T16:35:30.256Z"
   },
   {
    "duration": 115,
    "start_time": "2021-07-30T16:35:30.437Z"
   },
   {
    "duration": 12,
    "start_time": "2021-07-30T16:35:30.563Z"
   },
   {
    "duration": 176,
    "start_time": "2021-07-30T16:35:30.578Z"
   },
   {
    "duration": 272,
    "start_time": "2021-07-30T16:35:30.756Z"
   },
   {
    "duration": 130,
    "start_time": "2021-07-30T16:35:31.032Z"
   },
   {
    "duration": 17,
    "start_time": "2021-07-30T16:35:31.164Z"
   },
   {
    "duration": 29,
    "start_time": "2021-07-30T16:35:31.184Z"
   },
   {
    "duration": 128,
    "start_time": "2021-07-30T16:35:31.215Z"
   },
   {
    "duration": 12567,
    "start_time": "2021-07-30T16:35:31.346Z"
   },
   {
    "duration": 661,
    "start_time": "2021-07-30T16:35:43.917Z"
   },
   {
    "duration": 203,
    "start_time": "2021-07-30T16:35:44.580Z"
   },
   {
    "duration": 6,
    "start_time": "2021-07-30T16:35:44.786Z"
   },
   {
    "duration": 67,
    "start_time": "2021-07-30T16:35:44.795Z"
   },
   {
    "duration": 102,
    "start_time": "2021-07-30T16:35:44.875Z"
   },
   {
    "duration": 303,
    "start_time": "2021-07-30T16:35:44.981Z"
   },
   {
    "duration": 119,
    "start_time": "2021-07-30T16:35:45.286Z"
   },
   {
    "duration": 218,
    "start_time": "2021-07-30T16:35:45.410Z"
   },
   {
    "duration": 110,
    "start_time": "2021-07-30T16:35:45.631Z"
   },
   {
    "duration": 25,
    "start_time": "2021-07-30T16:35:45.743Z"
   },
   {
    "duration": 49,
    "start_time": "2021-07-30T16:35:45.771Z"
   },
   {
    "duration": 119,
    "start_time": "2021-07-30T16:35:45.823Z"
   },
   {
    "duration": 20,
    "start_time": "2021-07-30T16:35:45.945Z"
   },
   {
    "duration": 11,
    "start_time": "2021-07-30T16:35:45.972Z"
   },
   {
    "duration": 12,
    "start_time": "2021-07-30T16:35:45.986Z"
   },
   {
    "duration": 12,
    "start_time": "2021-07-30T16:35:46.000Z"
   },
   {
    "duration": 209,
    "start_time": "2021-07-30T16:35:46.014Z"
   },
   {
    "duration": 9,
    "start_time": "2021-07-30T16:35:46.226Z"
   },
   {
    "duration": 15,
    "start_time": "2021-07-30T16:35:46.237Z"
   },
   {
    "duration": 19,
    "start_time": "2021-07-30T16:35:46.255Z"
   },
   {
    "duration": 5324,
    "start_time": "2021-08-03T07:09:03.513Z"
   },
   {
    "duration": 2345,
    "start_time": "2021-08-03T07:09:08.839Z"
   },
   {
    "duration": 160,
    "start_time": "2021-08-03T07:09:11.187Z"
   },
   {
    "duration": 118,
    "start_time": "2021-08-03T07:09:11.349Z"
   },
   {
    "duration": 9,
    "start_time": "2021-08-03T07:09:11.469Z"
   },
   {
    "duration": 169,
    "start_time": "2021-08-03T07:09:11.480Z"
   },
   {
    "duration": 234,
    "start_time": "2021-08-03T07:09:11.655Z"
   },
   {
    "duration": 111,
    "start_time": "2021-08-03T07:09:11.893Z"
   },
   {
    "duration": 16,
    "start_time": "2021-08-03T07:09:12.007Z"
   },
   {
    "duration": 32,
    "start_time": "2021-08-03T07:09:12.026Z"
   },
   {
    "duration": 77,
    "start_time": "2021-08-03T07:09:12.061Z"
   },
   {
    "duration": 11293,
    "start_time": "2021-08-03T07:09:12.155Z"
   },
   {
    "duration": 526,
    "start_time": "2021-08-03T07:09:23.455Z"
   },
   {
    "duration": 189,
    "start_time": "2021-08-03T07:09:23.984Z"
   },
   {
    "duration": 7,
    "start_time": "2021-08-03T07:09:24.175Z"
   },
   {
    "duration": 76,
    "start_time": "2021-08-03T07:09:24.185Z"
   },
   {
    "duration": 112,
    "start_time": "2021-08-03T07:09:24.263Z"
   },
   {
    "duration": 144,
    "start_time": "2021-08-03T07:09:52.110Z"
   },
   {
    "duration": 94,
    "start_time": "2021-08-03T07:09:58.021Z"
   },
   {
    "duration": 6,
    "start_time": "2021-08-03T07:11:48.438Z"
   },
   {
    "duration": 77,
    "start_time": "2021-08-03T07:11:48.836Z"
   },
   {
    "duration": 524,
    "start_time": "2021-11-12T09:02:52.165Z"
   },
   {
    "duration": 5623,
    "start_time": "2021-11-12T09:02:59.443Z"
   },
   {
    "duration": 2327,
    "start_time": "2021-11-12T09:03:05.069Z"
   },
   {
    "duration": 1409,
    "start_time": "2021-11-12T09:03:07.399Z"
   },
   {
    "duration": 100,
    "start_time": "2021-11-12T09:03:08.811Z"
   },
   {
    "duration": 7,
    "start_time": "2021-11-12T09:03:08.914Z"
   },
   {
    "duration": 164,
    "start_time": "2021-11-12T09:03:08.924Z"
   },
   {
    "duration": 240,
    "start_time": "2021-11-12T09:03:09.091Z"
   },
   {
    "duration": 106,
    "start_time": "2021-11-12T09:03:09.334Z"
   },
   {
    "duration": 22,
    "start_time": "2021-11-12T09:03:09.443Z"
   },
   {
    "duration": 5,
    "start_time": "2021-11-12T09:03:09.467Z"
   },
   {
    "duration": 88,
    "start_time": "2021-11-12T09:03:09.475Z"
   },
   {
    "duration": 11271,
    "start_time": "2021-11-12T09:03:09.565Z"
   },
   {
    "duration": 278,
    "start_time": "2021-11-12T09:10:10.071Z"
   },
   {
    "duration": 70,
    "start_time": "2021-11-12T09:10:16.137Z"
   },
   {
    "duration": 6,
    "start_time": "2021-11-12T09:10:16.344Z"
   },
   {
    "duration": 10,
    "start_time": "2021-11-12T09:10:16.806Z"
   },
   {
    "duration": 37,
    "start_time": "2021-11-12T09:10:18.168Z"
   },
   {
    "duration": 6,
    "start_time": "2021-11-12T09:10:18.406Z"
   },
   {
    "duration": 94,
    "start_time": "2021-11-12T09:10:19.366Z"
   },
   {
    "duration": 192,
    "start_time": "2021-11-12T09:10:22.160Z"
   },
   {
    "duration": 79,
    "start_time": "2021-11-12T09:10:24.104Z"
   },
   {
    "duration": 10,
    "start_time": "2021-11-12T09:10:24.295Z"
   },
   {
    "duration": 46,
    "start_time": "2021-11-12T09:10:24.752Z"
   },
   {
    "duration": 81,
    "start_time": "2021-11-12T09:10:27.919Z"
   },
   {
    "duration": 10,
    "start_time": "2021-11-12T09:10:28.335Z"
   },
   {
    "duration": 10,
    "start_time": "2021-11-12T09:10:29.567Z"
   },
   {
    "duration": 2075,
    "start_time": "2022-12-07T13:56:07.402Z"
   },
   {
    "duration": 1371,
    "start_time": "2022-12-07T13:56:09.483Z"
   },
   {
    "duration": 895,
    "start_time": "2022-12-07T13:56:10.855Z"
   },
   {
    "duration": 98,
    "start_time": "2022-12-07T13:56:11.754Z"
   },
   {
    "duration": 6,
    "start_time": "2022-12-07T13:56:11.854Z"
   },
   {
    "duration": 165,
    "start_time": "2022-12-07T13:56:11.862Z"
   },
   {
    "duration": 163,
    "start_time": "2022-12-07T13:56:12.028Z"
   },
   {
    "duration": 63,
    "start_time": "2022-12-07T13:56:12.193Z"
   },
   {
    "duration": 12,
    "start_time": "2022-12-07T13:56:12.259Z"
   },
   {
    "duration": 18,
    "start_time": "2022-12-07T13:56:12.284Z"
   },
   {
    "duration": 91,
    "start_time": "2022-12-07T13:56:12.304Z"
   },
   {
    "duration": 7899,
    "start_time": "2022-12-07T13:56:12.397Z"
   },
   {
    "duration": 605,
    "start_time": "2022-12-07T13:56:20.299Z"
   },
   {
    "duration": 188,
    "start_time": "2022-12-07T13:56:20.906Z"
   },
   {
    "duration": 5,
    "start_time": "2022-12-07T13:56:21.098Z"
   },
   {
    "duration": 13,
    "start_time": "2022-12-07T13:56:21.105Z"
   },
   {
    "duration": 78,
    "start_time": "2022-12-07T13:56:21.121Z"
   },
   {
    "duration": 6,
    "start_time": "2022-12-07T13:56:21.202Z"
   },
   {
    "duration": 104,
    "start_time": "2022-12-07T13:56:21.209Z"
   },
   {
    "duration": 18,
    "start_time": "2022-12-07T13:56:21.316Z"
   },
   {
    "duration": 276,
    "start_time": "2022-12-07T13:56:21.336Z"
   },
   {
    "duration": 1,
    "start_time": "2022-12-07T13:56:21.614Z"
   },
   {
    "duration": 0,
    "start_time": "2022-12-07T13:56:21.616Z"
   },
   {
    "duration": 0,
    "start_time": "2022-12-07T13:56:21.618Z"
   },
   {
    "duration": 0,
    "start_time": "2022-12-07T13:56:21.620Z"
   },
   {
    "duration": 0,
    "start_time": "2022-12-07T13:56:21.622Z"
   },
   {
    "duration": 1,
    "start_time": "2022-12-07T13:56:21.623Z"
   },
   {
    "duration": 0,
    "start_time": "2022-12-07T13:56:21.626Z"
   },
   {
    "duration": 0,
    "start_time": "2022-12-07T13:56:21.628Z"
   },
   {
    "duration": 0,
    "start_time": "2022-12-07T13:56:21.629Z"
   },
   {
    "duration": 0,
    "start_time": "2022-12-07T13:56:21.631Z"
   },
   {
    "duration": 0,
    "start_time": "2022-12-07T13:56:21.633Z"
   },
   {
    "duration": 34,
    "start_time": "2022-12-07T17:39:46.819Z"
   },
   {
    "duration": 44,
    "start_time": "2022-12-08T17:02:31.766Z"
   },
   {
    "duration": 48,
    "start_time": "2022-12-08T17:03:31.006Z"
   },
   {
    "duration": 52,
    "start_time": "2022-12-08T17:04:41.361Z"
   },
   {
    "duration": 44,
    "start_time": "2022-12-08T17:07:29.812Z"
   },
   {
    "duration": 45,
    "start_time": "2022-12-08T17:07:35.183Z"
   },
   {
    "duration": 66,
    "start_time": "2022-12-08T17:09:47.740Z"
   },
   {
    "duration": 51,
    "start_time": "2022-12-08T17:10:11.130Z"
   },
   {
    "duration": 45,
    "start_time": "2022-12-08T17:10:18.878Z"
   },
   {
    "duration": 6,
    "start_time": "2022-12-08T17:25:44.482Z"
   },
   {
    "duration": 41,
    "start_time": "2022-12-08T17:25:59.312Z"
   },
   {
    "duration": 34,
    "start_time": "2022-12-08T17:26:15.661Z"
   },
   {
    "duration": 46,
    "start_time": "2022-12-08T17:26:23.379Z"
   },
   {
    "duration": 48,
    "start_time": "2022-12-08T17:27:42.312Z"
   },
   {
    "duration": 48,
    "start_time": "2022-12-08T17:27:49.265Z"
   },
   {
    "duration": 125,
    "start_time": "2022-12-08T17:29:54.593Z"
   },
   {
    "duration": 6,
    "start_time": "2022-12-08T17:29:55.940Z"
   },
   {
    "duration": 7,
    "start_time": "2022-12-08T17:30:01.936Z"
   },
   {
    "duration": 1938,
    "start_time": "2022-12-08T17:30:48.522Z"
   },
   {
    "duration": 1381,
    "start_time": "2022-12-08T17:30:50.462Z"
   },
   {
    "duration": 143,
    "start_time": "2022-12-08T17:30:51.844Z"
   },
   {
    "duration": 114,
    "start_time": "2022-12-08T17:30:51.989Z"
   },
   {
    "duration": 5,
    "start_time": "2022-12-08T17:30:52.105Z"
   },
   {
    "duration": 156,
    "start_time": "2022-12-08T17:30:52.112Z"
   },
   {
    "duration": 151,
    "start_time": "2022-12-08T17:30:52.270Z"
   },
   {
    "duration": 68,
    "start_time": "2022-12-08T17:30:52.422Z"
   },
   {
    "duration": 13,
    "start_time": "2022-12-08T17:30:52.491Z"
   },
   {
    "duration": 5,
    "start_time": "2022-12-08T17:30:52.506Z"
   },
   {
    "duration": 47,
    "start_time": "2022-12-08T17:30:52.513Z"
   },
   {
    "duration": 6320,
    "start_time": "2022-12-08T17:30:52.562Z"
   },
   {
    "duration": 407,
    "start_time": "2022-12-08T17:30:58.884Z"
   },
   {
    "duration": 120,
    "start_time": "2022-12-08T17:30:59.293Z"
   },
   {
    "duration": 4,
    "start_time": "2022-12-08T17:30:59.415Z"
   },
   {
    "duration": 61,
    "start_time": "2022-12-08T17:30:59.421Z"
   },
   {
    "duration": 29,
    "start_time": "2022-12-08T17:30:59.484Z"
   },
   {
    "duration": 9,
    "start_time": "2022-12-08T17:30:59.516Z"
   },
   {
    "duration": 99,
    "start_time": "2022-12-08T17:30:59.527Z"
   },
   {
    "duration": 15,
    "start_time": "2022-12-08T17:30:59.627Z"
   },
   {
    "duration": 135,
    "start_time": "2022-12-08T17:30:59.644Z"
   },
   {
    "duration": 184,
    "start_time": "2022-12-08T17:30:59.780Z"
   },
   {
    "duration": 0,
    "start_time": "2022-12-08T17:30:59.965Z"
   },
   {
    "duration": 0,
    "start_time": "2022-12-08T17:30:59.966Z"
   },
   {
    "duration": 0,
    "start_time": "2022-12-08T17:30:59.967Z"
   },
   {
    "duration": 0,
    "start_time": "2022-12-08T17:30:59.978Z"
   },
   {
    "duration": 0,
    "start_time": "2022-12-08T17:30:59.979Z"
   },
   {
    "duration": 0,
    "start_time": "2022-12-08T17:30:59.980Z"
   },
   {
    "duration": 0,
    "start_time": "2022-12-08T17:30:59.982Z"
   },
   {
    "duration": 0,
    "start_time": "2022-12-08T17:30:59.983Z"
   },
   {
    "duration": 0,
    "start_time": "2022-12-08T17:30:59.984Z"
   },
   {
    "duration": 0,
    "start_time": "2022-12-08T17:30:59.985Z"
   },
   {
    "duration": 11,
    "start_time": "2022-12-08T17:31:32.191Z"
   },
   {
    "duration": 12,
    "start_time": "2022-12-08T17:32:07.111Z"
   },
   {
    "duration": 23,
    "start_time": "2022-12-08T17:34:44.367Z"
   },
   {
    "duration": 26,
    "start_time": "2022-12-08T17:34:51.128Z"
   },
   {
    "duration": 25,
    "start_time": "2022-12-08T17:35:18.687Z"
   },
   {
    "duration": 31,
    "start_time": "2022-12-08T17:35:42.559Z"
   },
   {
    "duration": 74,
    "start_time": "2022-12-08T17:38:20.405Z"
   },
   {
    "duration": 20,
    "start_time": "2022-12-08T17:38:39.896Z"
   },
   {
    "duration": 21,
    "start_time": "2022-12-08T17:38:53.177Z"
   },
   {
    "duration": 22,
    "start_time": "2022-12-08T17:39:40.589Z"
   },
   {
    "duration": 45,
    "start_time": "2022-12-08T17:39:54.438Z"
   },
   {
    "duration": 13,
    "start_time": "2022-12-08T17:39:55.300Z"
   },
   {
    "duration": 24,
    "start_time": "2022-12-08T17:40:00.637Z"
   },
   {
    "duration": 34,
    "start_time": "2022-12-08T17:44:53.651Z"
   },
   {
    "duration": 15,
    "start_time": "2022-12-08T17:44:54.429Z"
   },
   {
    "duration": 24,
    "start_time": "2022-12-08T17:45:20.516Z"
   },
   {
    "duration": 39,
    "start_time": "2022-12-08T17:45:39.618Z"
   },
   {
    "duration": 62,
    "start_time": "2022-12-08T17:45:51.562Z"
   },
   {
    "duration": 7,
    "start_time": "2022-12-08T17:45:51.907Z"
   },
   {
    "duration": 8,
    "start_time": "2022-12-08T17:45:52.266Z"
   },
   {
    "duration": 5,
    "start_time": "2022-12-08T17:45:53.123Z"
   },
   {
    "duration": 7,
    "start_time": "2022-12-08T17:45:54.003Z"
   },
   {
    "duration": 81,
    "start_time": "2022-12-08T17:45:57.815Z"
   },
   {
    "duration": 6,
    "start_time": "2022-12-08T17:45:58.065Z"
   },
   {
    "duration": 6,
    "start_time": "2022-12-08T17:45:58.749Z"
   },
   {
    "duration": 7,
    "start_time": "2022-12-08T17:45:59.954Z"
   },
   {
    "duration": 35,
    "start_time": "2022-12-08T17:46:57.001Z"
   },
   {
    "duration": 10,
    "start_time": "2022-12-08T17:46:57.038Z"
   },
   {
    "duration": 32,
    "start_time": "2022-12-08T17:47:07.315Z"
   },
   {
    "duration": 10,
    "start_time": "2022-12-08T17:47:08.170Z"
   },
   {
    "duration": 21,
    "start_time": "2022-12-08T17:47:08.858Z"
   },
   {
    "duration": 10,
    "start_time": "2022-12-08T17:47:16.930Z"
   },
   {
    "duration": 35,
    "start_time": "2022-12-08T17:47:33.625Z"
   },
   {
    "duration": 10,
    "start_time": "2022-12-08T17:47:34.347Z"
   },
   {
    "duration": 20,
    "start_time": "2022-12-08T17:47:34.882Z"
   },
   {
    "duration": 73,
    "start_time": "2022-12-08T17:49:01.779Z"
   },
   {
    "duration": 68,
    "start_time": "2022-12-08T17:49:28.137Z"
   },
   {
    "duration": 22,
    "start_time": "2022-12-08T17:49:38.922Z"
   },
   {
    "duration": 21,
    "start_time": "2022-12-08T17:50:07.880Z"
   },
   {
    "duration": 54,
    "start_time": "2022-12-08T17:50:23.265Z"
   },
   {
    "duration": 6,
    "start_time": "2022-12-08T17:51:26.553Z"
   },
   {
    "duration": 35,
    "start_time": "2022-12-08T17:52:11.905Z"
   },
   {
    "duration": 10,
    "start_time": "2022-12-08T17:52:12.432Z"
   },
   {
    "duration": 21,
    "start_time": "2022-12-08T17:52:13.192Z"
   },
   {
    "duration": 26,
    "start_time": "2022-12-08T17:53:18.344Z"
   },
   {
    "duration": 26,
    "start_time": "2022-12-08T17:53:52.986Z"
   },
   {
    "duration": 27,
    "start_time": "2022-12-08T17:54:30.703Z"
   },
   {
    "duration": 24,
    "start_time": "2022-12-08T17:55:55.291Z"
   },
   {
    "duration": 12,
    "start_time": "2022-12-08T17:55:56.309Z"
   },
   {
    "duration": 27,
    "start_time": "2022-12-08T17:56:01.687Z"
   },
   {
    "duration": 13,
    "start_time": "2022-12-08T17:56:09.366Z"
   },
   {
    "duration": 109,
    "start_time": "2022-12-08T17:56:19.559Z"
   },
   {
    "duration": 14,
    "start_time": "2022-12-08T17:56:31.102Z"
   },
   {
    "duration": 35,
    "start_time": "2022-12-08T17:57:03.839Z"
   },
   {
    "duration": 1919,
    "start_time": "2022-12-08T17:57:10.517Z"
   },
   {
    "duration": 1280,
    "start_time": "2022-12-08T17:57:12.438Z"
   },
   {
    "duration": 144,
    "start_time": "2022-12-08T17:57:13.720Z"
   },
   {
    "duration": 115,
    "start_time": "2022-12-08T17:57:13.866Z"
   },
   {
    "duration": 7,
    "start_time": "2022-12-08T17:57:13.983Z"
   },
   {
    "duration": 170,
    "start_time": "2022-12-08T17:57:13.992Z"
   },
   {
    "duration": 154,
    "start_time": "2022-12-08T17:57:14.164Z"
   },
   {
    "duration": 65,
    "start_time": "2022-12-08T17:57:14.320Z"
   },
   {
    "duration": 16,
    "start_time": "2022-12-08T17:57:14.388Z"
   },
   {
    "duration": 5,
    "start_time": "2022-12-08T17:57:14.408Z"
   },
   {
    "duration": 71,
    "start_time": "2022-12-08T17:57:14.415Z"
   },
   {
    "duration": 6114,
    "start_time": "2022-12-08T17:57:14.488Z"
   },
   {
    "duration": 402,
    "start_time": "2022-12-08T17:57:20.605Z"
   },
   {
    "duration": 170,
    "start_time": "2022-12-08T17:57:21.010Z"
   },
   {
    "duration": 5,
    "start_time": "2022-12-08T17:57:21.182Z"
   },
   {
    "duration": 17,
    "start_time": "2022-12-08T17:57:21.189Z"
   },
   {
    "duration": 71,
    "start_time": "2022-12-08T17:57:21.208Z"
   },
   {
    "duration": 28,
    "start_time": "2022-12-08T17:57:21.281Z"
   },
   {
    "duration": 113,
    "start_time": "2022-12-08T17:57:21.311Z"
   },
   {
    "duration": 16,
    "start_time": "2022-12-08T17:57:21.425Z"
   },
   {
    "duration": 55,
    "start_time": "2022-12-08T17:57:21.443Z"
   },
   {
    "duration": 27,
    "start_time": "2022-12-08T17:57:21.500Z"
   },
   {
    "duration": 54,
    "start_time": "2022-12-08T17:57:21.529Z"
   },
   {
    "duration": 74,
    "start_time": "2022-12-08T17:57:21.585Z"
   },
   {
    "duration": 8,
    "start_time": "2022-12-08T17:57:21.661Z"
   },
   {
    "duration": 21,
    "start_time": "2022-12-08T17:57:21.670Z"
   },
   {
    "duration": 20,
    "start_time": "2022-12-08T17:57:21.693Z"
   },
   {
    "duration": 34,
    "start_time": "2022-12-08T17:57:21.716Z"
   },
   {
    "duration": 119,
    "start_time": "2022-12-08T17:57:21.752Z"
   },
   {
    "duration": 7,
    "start_time": "2022-12-08T17:57:21.873Z"
   },
   {
    "duration": 22,
    "start_time": "2022-12-08T17:57:21.882Z"
   },
   {
    "duration": 31,
    "start_time": "2022-12-08T17:57:21.906Z"
   }
  ],
  "kernelspec": {
   "display_name": "Python 3 (ipykernel)",
   "language": "python",
   "name": "python3"
  },
  "language_info": {
   "codemirror_mode": {
    "name": "ipython",
    "version": 3
   },
   "file_extension": ".py",
   "mimetype": "text/x-python",
   "name": "python",
   "nbconvert_exporter": "python",
   "pygments_lexer": "ipython3",
   "version": "3.11.1"
  },
  "toc": {
   "base_numbering": 1,
   "nav_menu": {},
   "number_sections": true,
   "sideBar": true,
   "skip_h1_title": true,
   "title_cell": "Содержание",
   "title_sidebar": "Содержание",
   "toc_cell": true,
   "toc_position": {},
   "toc_section_display": true,
   "toc_window_display": false
  }
 },
 "nbformat": 4,
 "nbformat_minor": 4
}
