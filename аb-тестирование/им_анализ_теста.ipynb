{
 "cells": [
  {
   "cell_type": "markdown",
   "metadata": {},
   "source": [
    "# Меры по увеличению выручки интернет-магазина\n",
    "* приоритизация гипотез\n",
    "* анализ результатов A/B-теста"
   ]
  },
  {
   "cell_type": "markdown",
   "metadata": {
    "toc": true
   },
   "source": [
    "<h1>Содержание<span class=\"tocSkip\"></span></h1>\n",
    "<div class=\"toc\"><ul class=\"toc-item\"><li><span><a href=\"#Загрузка-данных\" data-toc-modified-id=\"Загрузка-данных-1\"><span class=\"toc-item-num\">1&nbsp;&nbsp;</span>Загрузка данных</a></span></li><li><span><a href=\"#Изучение-данных\" data-toc-modified-id=\"Изучение-данных-2\"><span class=\"toc-item-num\">2&nbsp;&nbsp;</span>Изучение данных</a></span><ul class=\"toc-item\"><li><span><a href=\"#hypothesis\" data-toc-modified-id=\"hypothesis-2.1\"><span class=\"toc-item-num\">2.1&nbsp;&nbsp;</span>hypothesis</a></span></li><li><span><a href=\"#visitors\" data-toc-modified-id=\"visitors-2.2\"><span class=\"toc-item-num\">2.2&nbsp;&nbsp;</span>visitors</a></span></li><li><span><a href=\"#orders\" data-toc-modified-id=\"orders-2.3\"><span class=\"toc-item-num\">2.3&nbsp;&nbsp;</span>orders</a></span></li><li><span><a href=\"#Общее\" data-toc-modified-id=\"Общее-2.4\"><span class=\"toc-item-num\">2.4&nbsp;&nbsp;</span>Общее</a></span></li></ul></li><li><span><a href=\"#Предобработка-данных\" data-toc-modified-id=\"Предобработка-данных-3\"><span class=\"toc-item-num\">3&nbsp;&nbsp;</span>Предобработка данных</a></span></li><li><span><a href=\"#Приоритизация-гипотез\" data-toc-modified-id=\"Приоритизация-гипотез-4\"><span class=\"toc-item-num\">4&nbsp;&nbsp;</span>Приоритизация гипотез</a></span><ul class=\"toc-item\"><li><span><a href=\"#ICE\" data-toc-modified-id=\"ICE-4.1\"><span class=\"toc-item-num\">4.1&nbsp;&nbsp;</span>ICE</a></span></li><li><span><a href=\"#RICE\" data-toc-modified-id=\"RICE-4.2\"><span class=\"toc-item-num\">4.2&nbsp;&nbsp;</span>RICE</a></span></li><li><span><a href=\"#Сравнение\" data-toc-modified-id=\"Сравнение-4.3\"><span class=\"toc-item-num\">4.3&nbsp;&nbsp;</span>Сравнение</a></span></li></ul></li><li><span><a href=\"#Анализ-A/B-теста\" data-toc-modified-id=\"Анализ-A/B-теста-5\"><span class=\"toc-item-num\">5&nbsp;&nbsp;</span>Анализ A/B-теста</a></span><ul class=\"toc-item\"><li><span><a href=\"#На-сырых-данных\" data-toc-modified-id=\"На-сырых-данных-5.1\"><span class=\"toc-item-num\">5.1&nbsp;&nbsp;</span>На сырых данных</a></span><ul class=\"toc-item\"><li><span><a href=\"#Выручка\" data-toc-modified-id=\"Выручка-5.1.1\"><span class=\"toc-item-num\">5.1.1&nbsp;&nbsp;</span>Выручка</a></span></li><li><span><a href=\"#Средний-чек\" data-toc-modified-id=\"Средний-чек-5.1.2\"><span class=\"toc-item-num\">5.1.2&nbsp;&nbsp;</span>Средний чек</a></span></li><li><span><a href=\"#Конверсия\" data-toc-modified-id=\"Конверсия-5.1.3\"><span class=\"toc-item-num\">5.1.3&nbsp;&nbsp;</span>Конверсия</a></span></li><li><span><a href=\"#Заказы\" data-toc-modified-id=\"Заказы-5.1.4\"><span class=\"toc-item-num\">5.1.4&nbsp;&nbsp;</span>Заказы</a></span><ul class=\"toc-item\"><li><span><a href=\"#Количество\" data-toc-modified-id=\"Количество-5.1.4.1\"><span class=\"toc-item-num\">5.1.4.1&nbsp;&nbsp;</span>Количество</a></span></li><li><span><a href=\"#Стоимость\" data-toc-modified-id=\"Стоимость-5.1.4.2\"><span class=\"toc-item-num\">5.1.4.2&nbsp;&nbsp;</span>Стоимость</a></span></li></ul></li><li><span><a href=\"#Статистическая-значимость-различий\" data-toc-modified-id=\"Статистическая-значимость-различий-5.1.5\"><span class=\"toc-item-num\">5.1.5&nbsp;&nbsp;</span>Статистическая значимость различий</a></span><ul class=\"toc-item\"><li><span><a href=\"#Конверсия\" data-toc-modified-id=\"Конверсия-5.1.5.1\"><span class=\"toc-item-num\">5.1.5.1&nbsp;&nbsp;</span>Конверсия</a></span></li><li><span><a href=\"#Средний-чек\" data-toc-modified-id=\"Средний-чек-5.1.5.2\"><span class=\"toc-item-num\">5.1.5.2&nbsp;&nbsp;</span>Средний чек</a></span></li></ul></li></ul></li><li><span><a href=\"#На-очищенных-данных\" data-toc-modified-id=\"На-очищенных-данных-5.2\"><span class=\"toc-item-num\">5.2&nbsp;&nbsp;</span>На очищенных данных</a></span><ul class=\"toc-item\"><li><span><a href=\"#Конверсия\" data-toc-modified-id=\"Конверсия-5.2.1\"><span class=\"toc-item-num\">5.2.1&nbsp;&nbsp;</span>Конверсия</a></span></li><li><span><a href=\"#Средний-чек\" data-toc-modified-id=\"Средний-чек-5.2.2\"><span class=\"toc-item-num\">5.2.2&nbsp;&nbsp;</span>Средний чек</a></span></li></ul></li></ul></li><li><span><a href=\"#Общий-вывод\" data-toc-modified-id=\"Общий-вывод-6\"><span class=\"toc-item-num\">6&nbsp;&nbsp;</span>Общий вывод</a></span></li></ul></div>"
   ]
  },
  {
   "cell_type": "markdown",
   "metadata": {},
   "source": [
    "## Загрузка данных"
   ]
  },
  {
   "cell_type": "code",
   "execution_count": 1,
   "metadata": {},
   "outputs": [],
   "source": [
    "import pandas as pd\n",
    "import numpy as np\n",
    "import seaborn as sns\n",
    "import matplotlib.pyplot as plt\n",
    "import plotly.express as px\n",
    "from scipy import stats as st\n",
    "import warnings \n",
    "warnings.filterwarnings('ignore')"
   ]
  },
  {
   "cell_type": "code",
   "execution_count": 2,
   "metadata": {},
   "outputs": [],
   "source": [
    "try:\n",
    "    hypothesis = pd.read_csv('/datasets/hypothesis.csv')\n",
    "    visitors = pd.read_csv('/datasets/visitors.csv')\n",
    "    orders = pd.read_csv('/datasets/orders.csv')\n",
    "except (IOError, OSError, MemoryError) as e:\n",
    "    print (e.message)"
   ]
  },
  {
   "cell_type": "code",
   "execution_count": 3,
   "metadata": {},
   "outputs": [],
   "source": [
    "hypothesis.name = 'hypothesis'\n",
    "visitors.name = 'visitors'\n",
    "orders.name = 'orders'"
   ]
  },
  {
   "cell_type": "markdown",
   "metadata": {},
   "source": [
    "## Изучение данных"
   ]
  },
  {
   "cell_type": "code",
   "execution_count": 4,
   "metadata": {},
   "outputs": [],
   "source": [
    "pd.set_option('display.max_colwidth', -1) "
   ]
  },
  {
   "cell_type": "markdown",
   "metadata": {},
   "source": [
    "### hypothesis"
   ]
  },
  {
   "cell_type": "code",
   "execution_count": 5,
   "metadata": {},
   "outputs": [
    {
     "name": "stdout",
     "output_type": "stream",
     "text": [
      "<class 'pandas.core.frame.DataFrame'>\n",
      "RangeIndex: 9 entries, 0 to 8\n",
      "Data columns (total 5 columns):\n",
      "Hypothesis    9 non-null object\n",
      "Reach         9 non-null int64\n",
      "Impact        9 non-null int64\n",
      "Confidence    9 non-null int64\n",
      "Efforts       9 non-null int64\n",
      "dtypes: int64(4), object(1)\n",
      "memory usage: 488.0+ bytes\n"
     ]
    }
   ],
   "source": [
    "hypothesis.info()"
   ]
  },
  {
   "cell_type": "code",
   "execution_count": 6,
   "metadata": {},
   "outputs": [
    {
     "data": {
      "text/html": [
       "<div>\n",
       "<style scoped>\n",
       "    .dataframe tbody tr th:only-of-type {\n",
       "        vertical-align: middle;\n",
       "    }\n",
       "\n",
       "    .dataframe tbody tr th {\n",
       "        vertical-align: top;\n",
       "    }\n",
       "\n",
       "    .dataframe thead th {\n",
       "        text-align: right;\n",
       "    }\n",
       "</style>\n",
       "<table border=\"1\" class=\"dataframe\">\n",
       "  <thead>\n",
       "    <tr style=\"text-align: right;\">\n",
       "      <th></th>\n",
       "      <th>Hypothesis</th>\n",
       "      <th>Reach</th>\n",
       "      <th>Impact</th>\n",
       "      <th>Confidence</th>\n",
       "      <th>Efforts</th>\n",
       "    </tr>\n",
       "  </thead>\n",
       "  <tbody>\n",
       "    <tr>\n",
       "      <td>0</td>\n",
       "      <td>Добавить два новых канала привлечения трафика, что позволит привлекать на 30% больше пользователей</td>\n",
       "      <td>3</td>\n",
       "      <td>10</td>\n",
       "      <td>8</td>\n",
       "      <td>6</td>\n",
       "    </tr>\n",
       "    <tr>\n",
       "      <td>1</td>\n",
       "      <td>Запустить собственную службу доставки, что сократит срок доставки заказов</td>\n",
       "      <td>2</td>\n",
       "      <td>5</td>\n",
       "      <td>4</td>\n",
       "      <td>10</td>\n",
       "    </tr>\n",
       "    <tr>\n",
       "      <td>2</td>\n",
       "      <td>Добавить блоки рекомендаций товаров на сайт интернет магазина, чтобы повысить конверсию и средний чек заказа</td>\n",
       "      <td>8</td>\n",
       "      <td>3</td>\n",
       "      <td>7</td>\n",
       "      <td>3</td>\n",
       "    </tr>\n",
       "    <tr>\n",
       "      <td>3</td>\n",
       "      <td>Изменить структура категорий, что увеличит конверсию, т.к. пользователи быстрее найдут нужный товар</td>\n",
       "      <td>8</td>\n",
       "      <td>3</td>\n",
       "      <td>3</td>\n",
       "      <td>8</td>\n",
       "    </tr>\n",
       "    <tr>\n",
       "      <td>4</td>\n",
       "      <td>Изменить цвет фона главной страницы, чтобы увеличить вовлеченность пользователей</td>\n",
       "      <td>3</td>\n",
       "      <td>1</td>\n",
       "      <td>1</td>\n",
       "      <td>1</td>\n",
       "    </tr>\n",
       "    <tr>\n",
       "      <td>5</td>\n",
       "      <td>Добавить страницу отзывов клиентов о магазине, что позволит увеличить количество заказов</td>\n",
       "      <td>3</td>\n",
       "      <td>2</td>\n",
       "      <td>2</td>\n",
       "      <td>3</td>\n",
       "    </tr>\n",
       "    <tr>\n",
       "      <td>6</td>\n",
       "      <td>Показать на главной странице баннеры с актуальными акциями и распродажами, чтобы увеличить конверсию</td>\n",
       "      <td>5</td>\n",
       "      <td>3</td>\n",
       "      <td>8</td>\n",
       "      <td>3</td>\n",
       "    </tr>\n",
       "    <tr>\n",
       "      <td>7</td>\n",
       "      <td>Добавить форму подписки на все основные страницы, чтобы собрать базу клиентов для email-рассылок</td>\n",
       "      <td>10</td>\n",
       "      <td>7</td>\n",
       "      <td>8</td>\n",
       "      <td>5</td>\n",
       "    </tr>\n",
       "    <tr>\n",
       "      <td>8</td>\n",
       "      <td>Запустить акцию, дающую скидку на товар в день рождения</td>\n",
       "      <td>1</td>\n",
       "      <td>9</td>\n",
       "      <td>9</td>\n",
       "      <td>5</td>\n",
       "    </tr>\n",
       "  </tbody>\n",
       "</table>\n",
       "</div>"
      ],
      "text/plain": [
       "                                                                                                     Hypothesis  \\\n",
       "0  Добавить два новых канала привлечения трафика, что позволит привлекать на 30% больше пользователей             \n",
       "1  Запустить собственную службу доставки, что сократит срок доставки заказов                                      \n",
       "2  Добавить блоки рекомендаций товаров на сайт интернет магазина, чтобы повысить конверсию и средний чек заказа   \n",
       "3  Изменить структура категорий, что увеличит конверсию, т.к. пользователи быстрее найдут нужный товар            \n",
       "4  Изменить цвет фона главной страницы, чтобы увеличить вовлеченность пользователей                               \n",
       "5  Добавить страницу отзывов клиентов о магазине, что позволит увеличить количество заказов                       \n",
       "6  Показать на главной странице баннеры с актуальными акциями и распродажами, чтобы увеличить конверсию           \n",
       "7  Добавить форму подписки на все основные страницы, чтобы собрать базу клиентов для email-рассылок               \n",
       "8  Запустить акцию, дающую скидку на товар в день рождения                                                        \n",
       "\n",
       "   Reach  Impact  Confidence  Efforts  \n",
       "0  3      10      8           6        \n",
       "1  2      5       4           10       \n",
       "2  8      3       7           3        \n",
       "3  8      3       3           8        \n",
       "4  3      1       1           1        \n",
       "5  3      2       2           3        \n",
       "6  5      3       8           3        \n",
       "7  10     7       8           5        \n",
       "8  1      9       9           5        "
      ]
     },
     "execution_count": 6,
     "metadata": {},
     "output_type": "execute_result"
    }
   ],
   "source": [
    "hypothesis"
   ]
  },
  {
   "cell_type": "markdown",
   "metadata": {},
   "source": [
    "### visitors"
   ]
  },
  {
   "cell_type": "code",
   "execution_count": 7,
   "metadata": {},
   "outputs": [
    {
     "name": "stdout",
     "output_type": "stream",
     "text": [
      "<class 'pandas.core.frame.DataFrame'>\n",
      "RangeIndex: 62 entries, 0 to 61\n",
      "Data columns (total 3 columns):\n",
      "date        62 non-null object\n",
      "group       62 non-null object\n",
      "visitors    62 non-null int64\n",
      "dtypes: int64(1), object(2)\n",
      "memory usage: 1.6+ KB\n"
     ]
    }
   ],
   "source": [
    "visitors.info()"
   ]
  },
  {
   "cell_type": "markdown",
   "metadata": {},
   "source": [
    "### orders"
   ]
  },
  {
   "cell_type": "code",
   "execution_count": 8,
   "metadata": {},
   "outputs": [
    {
     "name": "stdout",
     "output_type": "stream",
     "text": [
      "<class 'pandas.core.frame.DataFrame'>\n",
      "RangeIndex: 1197 entries, 0 to 1196\n",
      "Data columns (total 5 columns):\n",
      "transactionId    1197 non-null int64\n",
      "visitorId        1197 non-null int64\n",
      "date             1197 non-null object\n",
      "revenue          1197 non-null int64\n",
      "group            1197 non-null object\n",
      "dtypes: int64(3), object(2)\n",
      "memory usage: 46.9+ KB\n"
     ]
    }
   ],
   "source": [
    "orders.info()"
   ]
  },
  {
   "cell_type": "code",
   "execution_count": 9,
   "metadata": {},
   "outputs": [
    {
     "data": {
      "text/html": [
       "<div>\n",
       "<style scoped>\n",
       "    .dataframe tbody tr th:only-of-type {\n",
       "        vertical-align: middle;\n",
       "    }\n",
       "\n",
       "    .dataframe tbody tr th {\n",
       "        vertical-align: top;\n",
       "    }\n",
       "\n",
       "    .dataframe thead th {\n",
       "        text-align: right;\n",
       "    }\n",
       "</style>\n",
       "<table border=\"1\" class=\"dataframe\">\n",
       "  <thead>\n",
       "    <tr style=\"text-align: right;\">\n",
       "      <th></th>\n",
       "      <th>transactionId</th>\n",
       "      <th>visitorId</th>\n",
       "      <th>date</th>\n",
       "      <th>revenue</th>\n",
       "      <th>group</th>\n",
       "    </tr>\n",
       "  </thead>\n",
       "  <tbody>\n",
       "    <tr>\n",
       "      <td>0</td>\n",
       "      <td>3667963787</td>\n",
       "      <td>3312258926</td>\n",
       "      <td>2019-08-15</td>\n",
       "      <td>1650</td>\n",
       "      <td>B</td>\n",
       "    </tr>\n",
       "    <tr>\n",
       "      <td>1</td>\n",
       "      <td>2804400009</td>\n",
       "      <td>3642806036</td>\n",
       "      <td>2019-08-15</td>\n",
       "      <td>730</td>\n",
       "      <td>B</td>\n",
       "    </tr>\n",
       "    <tr>\n",
       "      <td>2</td>\n",
       "      <td>2961555356</td>\n",
       "      <td>4069496402</td>\n",
       "      <td>2019-08-15</td>\n",
       "      <td>400</td>\n",
       "      <td>A</td>\n",
       "    </tr>\n",
       "    <tr>\n",
       "      <td>3</td>\n",
       "      <td>3797467345</td>\n",
       "      <td>1196621759</td>\n",
       "      <td>2019-08-15</td>\n",
       "      <td>9759</td>\n",
       "      <td>B</td>\n",
       "    </tr>\n",
       "    <tr>\n",
       "      <td>4</td>\n",
       "      <td>2282983706</td>\n",
       "      <td>2322279887</td>\n",
       "      <td>2019-08-15</td>\n",
       "      <td>2308</td>\n",
       "      <td>B</td>\n",
       "    </tr>\n",
       "  </tbody>\n",
       "</table>\n",
       "</div>"
      ],
      "text/plain": [
       "   transactionId   visitorId        date  revenue group\n",
       "0  3667963787     3312258926  2019-08-15  1650     B   \n",
       "1  2804400009     3642806036  2019-08-15  730      B   \n",
       "2  2961555356     4069496402  2019-08-15  400      A   \n",
       "3  3797467345     1196621759  2019-08-15  9759     B   \n",
       "4  2282983706     2322279887  2019-08-15  2308     B   "
      ]
     },
     "execution_count": 9,
     "metadata": {},
     "output_type": "execute_result"
    }
   ],
   "source": [
    "orders.head()"
   ]
  },
  {
   "cell_type": "code",
   "execution_count": 10,
   "metadata": {},
   "outputs": [],
   "source": [
    "multi_group_visitors =\\\n",
    "orders[orders['group']=='A'][['visitorId', 'date']].merge(orders[orders['group']=='B'][['visitorId','date']], on='visitorId'\n",
    "                                                          ,suffixes=('_a','_b'))"
   ]
  },
  {
   "cell_type": "code",
   "execution_count": 11,
   "metadata": {},
   "outputs": [],
   "source": [
    "multi_group_visitors_cnt = len(multi_group_visitors )"
   ]
  },
  {
   "cell_type": "code",
   "execution_count": 12,
   "metadata": {},
   "outputs": [
    {
     "data": {
      "text/plain": [
       "15.288220551378446"
      ]
     },
     "execution_count": 12,
     "metadata": {},
     "output_type": "execute_result"
    }
   ],
   "source": [
    "multi_group_visitors_cnt / orders['transactionId'].nunique()*100"
   ]
  },
  {
   "cell_type": "markdown",
   "metadata": {},
   "source": [
    "### Общее"
   ]
  },
  {
   "cell_type": "code",
   "execution_count": 13,
   "metadata": {},
   "outputs": [
    {
     "name": "stdout",
     "output_type": "stream",
     "text": [
      "Количество повторяющихся строк в hypothesis — 0\n",
      "Количество повторяющихся строк в visitors — 0\n",
      "Количество повторяющихся строк в orders — 0\n"
     ]
    }
   ],
   "source": [
    "for data in (hypothesis, visitors, orders):\n",
    "    print('Количество повторяющихся строк в', data.name, '—', data.duplicated().sum())"
   ]
  },
  {
   "cell_type": "markdown",
   "metadata": {},
   "source": [
    "<div style=\"border-radius: 15px; border: 3px solid indigo; padding: 15px;\">\n",
    "<b>Вывод</b><br>\n",
    "<li>пропусков не обнаружено</li>\n",
    "<li>дубликатов не обнаружено</li>\n",
    "<li>привести поля к нижнему регистру в таблице <b>hypothesis</b></li>\n",
    "<li>привести поля с датами к типу <b>datetime</b> в таблицах <b>visitors</b> и <b>orders</b></li>\n",
    "<li>удалить пользователей, попавших в обе группы АВ-теста, из таблицы <b>orders</b></li>\n",
    "</div>"
   ]
  },
  {
   "cell_type": "markdown",
   "metadata": {},
   "source": [
    "## Предобработка данных"
   ]
  },
  {
   "cell_type": "code",
   "execution_count": 14,
   "metadata": {},
   "outputs": [
    {
     "data": {
      "text/plain": [
       "Index(['hypothesis', 'reach', 'impact', 'confidence', 'efforts'], dtype='object')"
      ]
     },
     "execution_count": 14,
     "metadata": {},
     "output_type": "execute_result"
    }
   ],
   "source": [
    "hypothesis.columns = hypothesis.columns.str.lower()\n",
    "hypothesis.columns"
   ]
  },
  {
   "cell_type": "code",
   "execution_count": 15,
   "metadata": {},
   "outputs": [
    {
     "name": "stdout",
     "output_type": "stream",
     "text": [
      "visitors — date — datetime64[ns]\n",
      "orders — date — datetime64[ns]\n"
     ]
    }
   ],
   "source": [
    "for data in ([visitors, orders]):\n",
    "    selected_columns = data.select_dtypes(include=['object']).columns\n",
    "    for column in selected_columns:\n",
    "        if column == 'date':\n",
    "            data[column] = pd.to_datetime(data[column])\n",
    "            print(data.name,'—', column,'—', data[column].dtype)"
   ]
  },
  {
   "cell_type": "code",
   "execution_count": 16,
   "metadata": {},
   "outputs": [],
   "source": [
    "orders = orders.drop(orders[orders['visitorId'].isin(multi_group_visitors['visitorId'])].index)"
   ]
  },
  {
   "cell_type": "markdown",
   "metadata": {},
   "source": [
    "<div style=\"border-radius: 15px; border: 3px solid indigo; padding: 15px;\">\n",
    "<b>Вывод</b><br>\n",
    "<li>в таблице <b>hypothesis</b> приведены к нижнему регистру</li>\n",
    "<li>в таблицах <b>visitors</b> и <b>orders</b> поля с датами приведены к нужному типу данных <b>datetime</b></li>\n",
    "<li>пользователи, попавшие в обе группы AB-теста, удалены из таблицы <b>orders</b></li>\n",
    "</div>"
   ]
  },
  {
   "cell_type": "markdown",
   "metadata": {},
   "source": [
    "## Приоритизация гипотез"
   ]
  },
  {
   "cell_type": "markdown",
   "metadata": {},
   "source": [
    "### ICE"
   ]
  },
  {
   "cell_type": "code",
   "execution_count": 17,
   "metadata": {},
   "outputs": [],
   "source": [
    "hypothesis['ice'] = ((hypothesis['impact']*hypothesis['confidence'])/hypothesis['efforts']).round(1)"
   ]
  },
  {
   "cell_type": "code",
   "execution_count": 18,
   "metadata": {},
   "outputs": [],
   "source": [
    "ice = hypothesis[['hypothesis', 'ice']].sort_values(by='ice', ascending = False).reset_index()"
   ]
  },
  {
   "cell_type": "code",
   "execution_count": 19,
   "metadata": {},
   "outputs": [],
   "source": [
    "ice = ice.rename(columns={'index': 'hypothesis_id'})"
   ]
  },
  {
   "cell_type": "markdown",
   "metadata": {},
   "source": [
    "### RICE"
   ]
  },
  {
   "cell_type": "code",
   "execution_count": 20,
   "metadata": {},
   "outputs": [],
   "source": [
    "hypothesis['rice'] = hypothesis['reach']*hypothesis['impact']*hypothesis['confidence']/hypothesis['efforts']"
   ]
  },
  {
   "cell_type": "code",
   "execution_count": 21,
   "metadata": {},
   "outputs": [],
   "source": [
    "rice = hypothesis[['hypothesis', 'rice']].sort_values(by='rice', ascending = False).reset_index()"
   ]
  },
  {
   "cell_type": "code",
   "execution_count": 22,
   "metadata": {
    "scrolled": true
   },
   "outputs": [],
   "source": [
    "rice = rice.rename(columns={'index': 'hypothesis_id'})"
   ]
  },
  {
   "cell_type": "markdown",
   "metadata": {},
   "source": [
    "### Сравнение"
   ]
  },
  {
   "cell_type": "code",
   "execution_count": 23,
   "metadata": {},
   "outputs": [
    {
     "data": {
      "text/html": [
       "<div>\n",
       "<style scoped>\n",
       "    .dataframe tbody tr th:only-of-type {\n",
       "        vertical-align: middle;\n",
       "    }\n",
       "\n",
       "    .dataframe tbody tr th {\n",
       "        vertical-align: top;\n",
       "    }\n",
       "\n",
       "    .dataframe thead th {\n",
       "        text-align: right;\n",
       "    }\n",
       "</style>\n",
       "<table border=\"1\" class=\"dataframe\">\n",
       "  <thead>\n",
       "    <tr style=\"text-align: right;\">\n",
       "      <th></th>\n",
       "      <th>hypothesis_id_ice</th>\n",
       "      <th>hypothesis_ice</th>\n",
       "      <th>hypothesis_id_rice</th>\n",
       "      <th>hypothesis_rice</th>\n",
       "    </tr>\n",
       "  </thead>\n",
       "  <tbody>\n",
       "    <tr>\n",
       "      <td>0</td>\n",
       "      <td>8</td>\n",
       "      <td>Запустить акцию, дающую скидку на товар в день рождения</td>\n",
       "      <td>7</td>\n",
       "      <td>Добавить форму подписки на все основные страницы, чтобы собрать базу клиентов для email-рассылок</td>\n",
       "    </tr>\n",
       "    <tr>\n",
       "      <td>1</td>\n",
       "      <td>0</td>\n",
       "      <td>Добавить два новых канала привлечения трафика, что позволит привлекать на 30% больше пользователей</td>\n",
       "      <td>2</td>\n",
       "      <td>Добавить блоки рекомендаций товаров на сайт интернет магазина, чтобы повысить конверсию и средний чек заказа</td>\n",
       "    </tr>\n",
       "    <tr>\n",
       "      <td>2</td>\n",
       "      <td>7</td>\n",
       "      <td>Добавить форму подписки на все основные страницы, чтобы собрать базу клиентов для email-рассылок</td>\n",
       "      <td>0</td>\n",
       "      <td>Добавить два новых канала привлечения трафика, что позволит привлекать на 30% больше пользователей</td>\n",
       "    </tr>\n",
       "    <tr>\n",
       "      <td>3</td>\n",
       "      <td>6</td>\n",
       "      <td>Показать на главной странице баннеры с актуальными акциями и распродажами, чтобы увеличить конверсию</td>\n",
       "      <td>6</td>\n",
       "      <td>Показать на главной странице баннеры с актуальными акциями и распродажами, чтобы увеличить конверсию</td>\n",
       "    </tr>\n",
       "    <tr>\n",
       "      <td>4</td>\n",
       "      <td>2</td>\n",
       "      <td>Добавить блоки рекомендаций товаров на сайт интернет магазина, чтобы повысить конверсию и средний чек заказа</td>\n",
       "      <td>8</td>\n",
       "      <td>Запустить акцию, дающую скидку на товар в день рождения</td>\n",
       "    </tr>\n",
       "    <tr>\n",
       "      <td>5</td>\n",
       "      <td>1</td>\n",
       "      <td>Запустить собственную службу доставки, что сократит срок доставки заказов</td>\n",
       "      <td>3</td>\n",
       "      <td>Изменить структура категорий, что увеличит конверсию, т.к. пользователи быстрее найдут нужный товар</td>\n",
       "    </tr>\n",
       "    <tr>\n",
       "      <td>6</td>\n",
       "      <td>5</td>\n",
       "      <td>Добавить страницу отзывов клиентов о магазине, что позволит увеличить количество заказов</td>\n",
       "      <td>1</td>\n",
       "      <td>Запустить собственную службу доставки, что сократит срок доставки заказов</td>\n",
       "    </tr>\n",
       "    <tr>\n",
       "      <td>7</td>\n",
       "      <td>3</td>\n",
       "      <td>Изменить структура категорий, что увеличит конверсию, т.к. пользователи быстрее найдут нужный товар</td>\n",
       "      <td>5</td>\n",
       "      <td>Добавить страницу отзывов клиентов о магазине, что позволит увеличить количество заказов</td>\n",
       "    </tr>\n",
       "    <tr>\n",
       "      <td>8</td>\n",
       "      <td>4</td>\n",
       "      <td>Изменить цвет фона главной страницы, чтобы увеличить вовлеченность пользователей</td>\n",
       "      <td>4</td>\n",
       "      <td>Изменить цвет фона главной страницы, чтобы увеличить вовлеченность пользователей</td>\n",
       "    </tr>\n",
       "  </tbody>\n",
       "</table>\n",
       "</div>"
      ],
      "text/plain": [
       "   hypothesis_id_ice  \\\n",
       "0  8                   \n",
       "1  0                   \n",
       "2  7                   \n",
       "3  6                   \n",
       "4  2                   \n",
       "5  1                   \n",
       "6  5                   \n",
       "7  3                   \n",
       "8  4                   \n",
       "\n",
       "                                                                                                 hypothesis_ice  \\\n",
       "0  Запустить акцию, дающую скидку на товар в день рождения                                                        \n",
       "1  Добавить два новых канала привлечения трафика, что позволит привлекать на 30% больше пользователей             \n",
       "2  Добавить форму подписки на все основные страницы, чтобы собрать базу клиентов для email-рассылок               \n",
       "3  Показать на главной странице баннеры с актуальными акциями и распродажами, чтобы увеличить конверсию           \n",
       "4  Добавить блоки рекомендаций товаров на сайт интернет магазина, чтобы повысить конверсию и средний чек заказа   \n",
       "5  Запустить собственную службу доставки, что сократит срок доставки заказов                                      \n",
       "6  Добавить страницу отзывов клиентов о магазине, что позволит увеличить количество заказов                       \n",
       "7  Изменить структура категорий, что увеличит конверсию, т.к. пользователи быстрее найдут нужный товар            \n",
       "8  Изменить цвет фона главной страницы, чтобы увеличить вовлеченность пользователей                               \n",
       "\n",
       "   hypothesis_id_rice  \\\n",
       "0  7                    \n",
       "1  2                    \n",
       "2  0                    \n",
       "3  6                    \n",
       "4  8                    \n",
       "5  3                    \n",
       "6  1                    \n",
       "7  5                    \n",
       "8  4                    \n",
       "\n",
       "                                                                                                hypothesis_rice  \n",
       "0  Добавить форму подписки на все основные страницы, чтобы собрать базу клиентов для email-рассылок              \n",
       "1  Добавить блоки рекомендаций товаров на сайт интернет магазина, чтобы повысить конверсию и средний чек заказа  \n",
       "2  Добавить два новых канала привлечения трафика, что позволит привлекать на 30% больше пользователей            \n",
       "3  Показать на главной странице баннеры с актуальными акциями и распродажами, чтобы увеличить конверсию          \n",
       "4  Запустить акцию, дающую скидку на товар в день рождения                                                       \n",
       "5  Изменить структура категорий, что увеличит конверсию, т.к. пользователи быстрее найдут нужный товар           \n",
       "6  Запустить собственную службу доставки, что сократит срок доставки заказов                                     \n",
       "7  Добавить страницу отзывов клиентов о магазине, что позволит увеличить количество заказов                      \n",
       "8  Изменить цвет фона главной страницы, чтобы увеличить вовлеченность пользователей                              "
      ]
     },
     "execution_count": 23,
     "metadata": {},
     "output_type": "execute_result"
    }
   ],
   "source": [
    "ice_rice = ice[['hypothesis_id', 'hypothesis']].join(rice[['hypothesis_id','hypothesis']], lsuffix='_ice', rsuffix = '_rice')\n",
    "ice_rice"
   ]
  },
  {
   "cell_type": "code",
   "execution_count": 24,
   "metadata": {},
   "outputs": [
    {
     "data": {
      "text/html": [
       "<div>\n",
       "<style scoped>\n",
       "    .dataframe tbody tr th:only-of-type {\n",
       "        vertical-align: middle;\n",
       "    }\n",
       "\n",
       "    .dataframe tbody tr th {\n",
       "        vertical-align: top;\n",
       "    }\n",
       "\n",
       "    .dataframe thead th {\n",
       "        text-align: right;\n",
       "    }\n",
       "</style>\n",
       "<table border=\"1\" class=\"dataframe\">\n",
       "  <thead>\n",
       "    <tr style=\"text-align: right;\">\n",
       "      <th></th>\n",
       "      <th>hypothesis_id</th>\n",
       "      <th>hypothesis</th>\n",
       "    </tr>\n",
       "  </thead>\n",
       "  <tbody>\n",
       "    <tr>\n",
       "      <td>0</td>\n",
       "      <td>False</td>\n",
       "      <td>False</td>\n",
       "    </tr>\n",
       "    <tr>\n",
       "      <td>1</td>\n",
       "      <td>False</td>\n",
       "      <td>False</td>\n",
       "    </tr>\n",
       "    <tr>\n",
       "      <td>2</td>\n",
       "      <td>False</td>\n",
       "      <td>False</td>\n",
       "    </tr>\n",
       "    <tr>\n",
       "      <td>3</td>\n",
       "      <td>True</td>\n",
       "      <td>True</td>\n",
       "    </tr>\n",
       "    <tr>\n",
       "      <td>4</td>\n",
       "      <td>False</td>\n",
       "      <td>False</td>\n",
       "    </tr>\n",
       "    <tr>\n",
       "      <td>5</td>\n",
       "      <td>False</td>\n",
       "      <td>False</td>\n",
       "    </tr>\n",
       "    <tr>\n",
       "      <td>6</td>\n",
       "      <td>False</td>\n",
       "      <td>False</td>\n",
       "    </tr>\n",
       "    <tr>\n",
       "      <td>7</td>\n",
       "      <td>False</td>\n",
       "      <td>False</td>\n",
       "    </tr>\n",
       "    <tr>\n",
       "      <td>8</td>\n",
       "      <td>True</td>\n",
       "      <td>True</td>\n",
       "    </tr>\n",
       "  </tbody>\n",
       "</table>\n",
       "</div>"
      ],
      "text/plain": [
       "   hypothesis_id  hypothesis\n",
       "0  False          False     \n",
       "1  False          False     \n",
       "2  False          False     \n",
       "3  True           True      \n",
       "4  False          False     \n",
       "5  False          False     \n",
       "6  False          False     \n",
       "7  False          False     \n",
       "8  True           True      "
      ]
     },
     "execution_count": 24,
     "metadata": {},
     "output_type": "execute_result"
    }
   ],
   "source": [
    "ice[['hypothesis_id', 'hypothesis']].eq(rice[['hypothesis_id','hypothesis']])"
   ]
  },
  {
   "cell_type": "markdown",
   "metadata": {},
   "source": [
    "<div style=\"border-radius: 15px; border: 3px solid indigo; padding: 15px;\">\n",
    "<b>Вывод</b><br>\n",
    "<li>приоритеты почти всех гипотез поменялись при переходе с ICE на RICE</li>\n",
    "<li>на своих местах остались только гипотезы 4 (последняя) и 6 (третья)</li>\n",
    "<li>на первое место вышла гипотеза 7, у неё самый высокий охват</li>\n",
    "<li>также поднялись в рейтинге гипотезы 2 и 3, со следующим по величине охватом</li>\n",
    "<li>а опустились — гипотезы 0, 8, 1 и 5 </li>\n",
    "<li>самое значительное падение — у гипотезы 8, из-за наименьшего охвата </li>\n",
    "</div>"
   ]
  },
  {
   "cell_type": "markdown",
   "metadata": {},
   "source": [
    "## Анализ A/B-теста"
   ]
  },
  {
   "cell_type": "code",
   "execution_count": 25,
   "metadata": {},
   "outputs": [],
   "source": [
    "# Построение графиков\n",
    "def draw_chart(data, kind, marker=None, data_y=None, data_x=None, column_diff=None, title=None, xlabel=None, ylabel = None\n",
    "               , vmax=None, fmt=None):\n",
    "    # Двойные\n",
    "    if column_diff is not None:\n",
    "        data_1 = data[data[column_diff] == data[column_diff].unique()[0]]\n",
    "        data_2 = data[data[column_diff] == data[column_diff].unique()[1]]\n",
    "        column_x = data_1[column]\n",
    "        column_y = data_2[column]\n",
    "        # Гистограмма\n",
    "        if kind == 'hist':\n",
    "                # График\n",
    "                plt.hist([column_x, column_y], label=data[column_diff].unique())\n",
    "        # Линия\n",
    "        if kind == 'line':\n",
    "                plt.rcParams['figure.figsize'] = (10, 5)\n",
    "                plt.rcParams['legend.loc']='upper right'\n",
    "                plt.plot(data_1[data_x], data_1[data_y], label=data_1[column_diff].unique().item(), marker=marker)\n",
    "                plt.plot(data_2[data_x], data_2[data_y], label=data_2[column_diff].unique().item(), marker=marker)\n",
    "        plt.legend()\n",
    "    # Одинарные\n",
    "    else:\n",
    "        # Гистограмма\n",
    "        if kind == 'hist':\n",
    "            # Количество корзин\n",
    "            def calc_bins (data, data_y):\n",
    "                if data[data_y].max() < 20:\n",
    "                    return 100\n",
    "                else: return 50\n",
    "            # График\n",
    "            calculated_bins = calc_bins(data, data_y)\n",
    "            data[data_y].hist(bins=calculated_bins)\n",
    "        # Тепловая карта     \n",
    "        elif kind == 'heatmap':\n",
    "            sns.set(style='white')\n",
    "            plt.figure(figsize=(13, 9))\n",
    "            sns.heatmap(data, annot=True, linewidths=1, linecolor='gray', fmt=fmt).set_yticklabels(data.index.date)\n",
    "        # Точечная\n",
    "        elif kind == 'scatter':\n",
    "            plt.scatter(x = data.index, y=data[data_y])\n",
    "        # Остальные графики\n",
    "        else:\n",
    "            data.plot(x=data_x, y=data_y, figsize = (10,5), legend=False, kind = kind, marker=marker)\n",
    "    if kind !='hist':\n",
    "        plt.xlabel('%s'%(xlabel), fontsize=14)\n",
    "        plt.ylabel('%s'%(ylabel), fontsize=14)\n",
    "        plt.gcf().autofmt_xdate()\n",
    "        plt.grid()\n",
    "        plt.title(title, fontsize=16)\n",
    "    else:\n",
    "        plt.xlabel('Значение', fontsize=14)\n",
    "        plt.ylabel('Частота', fontsize=14)\n",
    "        plt.title('Распределение по {}'.format(data_y), fontsize=16)"
   ]
  },
  {
   "cell_type": "code",
   "execution_count": 26,
   "metadata": {},
   "outputs": [],
   "source": [
    "# Относительное различие величин в двух группах\n",
    "def ratio(data, new_column, column):\n",
    "    data[new_column] = np.nan\n",
    "    i = len(data) -1\n",
    "    while i >= 0:\n",
    "        data[new_column][i] = (data[column][i]/data[column][i-1]) -1\n",
    "        data[new_column][i-1] = (data[column][i]/data[column][i-1]) -1\n",
    "        i = i-2 "
   ]
  },
  {
   "cell_type": "markdown",
   "metadata": {},
   "source": [
    "### На сырых данных"
   ]
  },
  {
   "cell_type": "code",
   "execution_count": 27,
   "metadata": {},
   "outputs": [],
   "source": [
    "orders_dates = orders[['date','group']].drop_duplicates() "
   ]
  },
  {
   "cell_type": "code",
   "execution_count": 28,
   "metadata": {},
   "outputs": [],
   "source": [
    "orders_agg = orders_dates.apply(lambda x: orders[np.logical_and(orders['date'] <= x['date'], orders['group'] == x['group'])]\\\n",
    "            .agg({'date':'max', 'group':'max', 'transactionId':'nunique', 'visitorId':'nunique', 'revenue':'sum'}), axis=1).\\\n",
    "                                                                                                sort_values(by=['date','group'])"
   ]
  },
  {
   "cell_type": "code",
   "execution_count": 29,
   "metadata": {},
   "outputs": [],
   "source": [
    "visitors_dates = visitors[['date','group']].drop_duplicates() "
   ]
  },
  {
   "cell_type": "code",
   "execution_count": 30,
   "metadata": {},
   "outputs": [],
   "source": [
    "visitors_agg = visitors_dates.apply(lambda x: visitors[np.logical_and(visitors['date'] <= x['date']\n",
    "                                                                      , visitors['group'] == x['group'])]\\\n",
    "                             .agg({'date':'max', 'group':'max', 'visitors':'sum'}), axis=1).sort_values(by=['date','group'])"
   ]
  },
  {
   "cell_type": "code",
   "execution_count": 31,
   "metadata": {},
   "outputs": [],
   "source": [
    "cumulative = orders_agg.merge(visitors_agg, left_on=['date', 'group'], right_on=['date', 'group'])\n",
    "cumulative.columns = ['date', 'group', 'orders', 'buyers', 'revenue', 'visitors']"
   ]
  },
  {
   "cell_type": "code",
   "execution_count": 32,
   "metadata": {},
   "outputs": [
    {
     "data": {
      "text/plain": [
       "(Timestamp('2019-08-01 00:00:00'), '—', Timestamp('2019-08-31 00:00:00'))"
      ]
     },
     "execution_count": 32,
     "metadata": {},
     "output_type": "execute_result"
    }
   ],
   "source": [
    "cumulative['date'].min(),'—', cumulative['date'].max()"
   ]
  },
  {
   "cell_type": "markdown",
   "metadata": {},
   "source": [
    "#### Выручка"
   ]
  },
  {
   "cell_type": "code",
   "execution_count": 33,
   "metadata": {},
   "outputs": [
    {
     "data": {
      "image/png": "[encoded data removed]",
      "text/plain": [
       "<Figure size 720x360 with 1 Axes>"
      ]
     },
     "metadata": {
      "needs_background": "light"
     },
     "output_type": "display_data"
    }
   ],
   "source": [
    "draw_chart(data = cumulative, kind='line', marker='o', column_diff='group', data_x ='date', data_y='revenue'\n",
    "           , title = 'Выручка', xlabel='Дата', ylabel='')"
   ]
  },
  {
   "cell_type": "markdown",
   "metadata": {},
   "source": [
    "<div style=\"border-radius: 15px; border: 3px solid indigo; padding: 15px;\">\n",
    "<b>Вывод</b><br>\n",
    "Кумулятивная выручка в группе B стабильно выше, чем в группе А, после 13 августа 2019.\n",
    "</div>"
   ]
  },
  {
   "cell_type": "markdown",
   "metadata": {},
   "source": [
    "#### Средний чек"
   ]
  },
  {
   "cell_type": "code",
   "execution_count": 34,
   "metadata": {},
   "outputs": [],
   "source": [
    "cumulative['mean_revenue'] = cumulative['revenue']/cumulative['orders']"
   ]
  },
  {
   "cell_type": "code",
   "execution_count": 35,
   "metadata": {},
   "outputs": [
    {
     "data": {
      "image/png": "[encoded data removed]",
      "text/plain": [
       "<Figure size 720x360 with 1 Axes>"
      ]
     },
     "metadata": {
      "needs_background": "light"
     },
     "output_type": "display_data"
    }
   ],
   "source": [
    "draw_chart(data = cumulative, kind='line', marker='o', column_diff='group', data_x ='date', data_y='mean_revenue'\n",
    "           , title='Средний чек', xlabel='Дата', ylabel='')"
   ]
  },
  {
   "cell_type": "markdown",
   "metadata": {},
   "source": [
    "<div style=\"border-radius: 15px; border: 3px solid indigo; padding: 15px;\">\n",
    "<b>Вывод</b><br>\n",
    "Средний чек в группе В стабильно выше, чем в группе А, примерно после 18 августа 2019.\n",
    "</div>"
   ]
  },
  {
   "cell_type": "code",
   "execution_count": 36,
   "metadata": {},
   "outputs": [],
   "source": [
    "ratio(cumulative, 'mean_revenue_ratio', 'mean_revenue')"
   ]
  },
  {
   "cell_type": "code",
   "execution_count": 37,
   "metadata": {},
   "outputs": [
    {
     "data": {
      "image/png": "[encoded data removed]",
      "text/plain": [
       "<Figure size 720x360 with 1 Axes>"
      ]
     },
     "metadata": {
      "needs_background": "light"
     },
     "output_type": "display_data"
    }
   ],
   "source": [
    "draw_chart(data = cumulative, kind='line', marker='o', data_x ='date', data_y='mean_revenue_ratio'\n",
    "           , title='Относительное различие среднего чека группы В к группе А', xlabel='Дата', ylabel='')\n",
    "plt.axhline(y=0, color='black', linestyle='--');"
   ]
  },
  {
   "cell_type": "markdown",
   "metadata": {},
   "source": [
    "<div style=\"border-radius: 15px; border: 3px solid indigo; padding: 15px;\">\n",
    "<b>Вывод</b><br>\n",
    "<li>относительное различие среднего чека почти всё время теста — в пользу группы В, стабильно после 18 августа 2019.</li>\n",
    "<li>при этом 19 августа наблюдается всплеск дорогих покупок.</li>\n",
    "</div>"
   ]
  },
  {
   "cell_type": "markdown",
   "metadata": {},
   "source": [
    "#### Конверсия"
   ]
  },
  {
   "cell_type": "code",
   "execution_count": 38,
   "metadata": {},
   "outputs": [],
   "source": [
    "cumulative['conversion'] = cumulative['orders']/cumulative['visitors']"
   ]
  },
  {
   "cell_type": "code",
   "execution_count": 39,
   "metadata": {},
   "outputs": [
    {
     "data": {
      "image/png": "[encoded data removed]",
      "text/plain": [
       "<Figure size 720x360 with 1 Axes>"
      ]
     },
     "metadata": {
      "needs_background": "light"
     },
     "output_type": "display_data"
    }
   ],
   "source": [
    "draw_chart(data = cumulative, kind='line', marker='o', column_diff='group', data_x ='date', data_y='conversion'\n",
    "           , title = 'Конверсия', xlabel='Дата', ylabel='')"
   ]
  },
  {
   "cell_type": "markdown",
   "metadata": {},
   "source": [
    "<div style=\"border-radius: 15px; border: 3px solid indigo; padding: 15px;\">\n",
    "<b>Вывод</b><br>\n",
    "Конверсия в группе В стабильно выше, чем в группе А, примерно после 6 августа 2019.\n",
    "</div>"
   ]
  },
  {
   "cell_type": "code",
   "execution_count": 40,
   "metadata": {},
   "outputs": [],
   "source": [
    "ratio(cumulative, 'conversion_ratio', 'conversion')"
   ]
  },
  {
   "cell_type": "code",
   "execution_count": 41,
   "metadata": {},
   "outputs": [
    {
     "data": {
      "image/png": "[encoded data removed]",
      "text/plain": [
       "<Figure size 720x360 with 1 Axes>"
      ]
     },
     "metadata": {
      "needs_background": "light"
     },
     "output_type": "display_data"
    }
   ],
   "source": [
    "draw_chart(data = cumulative, kind='line', marker='o', data_x ='date', data_y='conversion_ratio'\n",
    "           , title = 'Относительное различие конверсии группы В к группе А', xlabel='Дата', ylabel='')\n",
    "plt.axhline(y=0.0, color='black', linestyle='--')\n",
    "plt.axhline(y=0.1, color='grey', linestyle='--');"
   ]
  },
  {
   "cell_type": "markdown",
   "metadata": {},
   "source": [
    "<div style=\"border-radius: 15px; border: 3px solid indigo; padding: 15px;\">\n",
    "<b>Вывод</b><br>\n",
    "На первой неделе теста конверсия группы В уступала конверсии группы А, но потом вырвалась вперёд и стабилизировалась примерно на середине второй недели.\n",
    "</div>"
   ]
  },
  {
   "cell_type": "markdown",
   "metadata": {},
   "source": [
    "#### Заказы"
   ]
  },
  {
   "cell_type": "markdown",
   "metadata": {},
   "source": [
    "##### Количество"
   ]
  },
  {
   "cell_type": "code",
   "execution_count": 42,
   "metadata": {},
   "outputs": [],
   "source": [
    "orders_per_user = orders.groupby('visitorId', as_index=False).agg({'transactionId':'nunique', 'revenue':'sum'})"
   ]
  },
  {
   "cell_type": "code",
   "execution_count": 43,
   "metadata": {},
   "outputs": [],
   "source": [
    "orders_per_user.columns = ['user_id','orders_cnt', 'orders_sum']"
   ]
  },
  {
   "cell_type": "code",
   "execution_count": 44,
   "metadata": {},
   "outputs": [
    {
     "data": {
      "image/png": "[encoded data removed]",
      "text/plain": [
       "<Figure size 720x360 with 1 Axes>"
      ]
     },
     "metadata": {
      "needs_background": "light"
     },
     "output_type": "display_data"
    }
   ],
   "source": [
    "draw_chart(orders_per_user, kind='scatter', data_y='orders_cnt', ylabel='Заказы', title='Количество заказов на пользователя')"
   ]
  },
  {
   "cell_type": "code",
   "execution_count": 45,
   "metadata": {},
   "outputs": [
    {
     "name": "stdout",
     "output_type": "stream",
     "text": [
      "[1. 2.]\n"
     ]
    }
   ],
   "source": [
    "print(np.percentile(orders_per_user['orders_cnt'], [95, 99])) "
   ]
  },
  {
   "cell_type": "markdown",
   "metadata": {},
   "source": [
    "<div style=\"border-radius: 15px; border: 3px solid indigo; padding: 15px;\">\n",
    "<b>Вывод</b><br>\n",
    "<li>в основном пользователи делали по 1 заказу.</li>\n",
    "<li>не более 5% пользователей делали более 1 заказа.</li>\n",
    "<li>не более 1% пользователей делали более 2 заказов.</li>\n",
    "<li>т.о. пользователи с 2 и более заказами — аномальные.</li>    \n",
    "</div>"
   ]
  },
  {
   "cell_type": "markdown",
   "metadata": {},
   "source": [
    "##### Стоимость"
   ]
  },
  {
   "cell_type": "code",
   "execution_count": 46,
   "metadata": {},
   "outputs": [
    {
     "data": {
      "image/png": "[encoded data removed]",
      "text/plain": [
       "<Figure size 720x360 with 1 Axes>"
      ]
     },
     "metadata": {
      "needs_background": "light"
     },
     "output_type": "display_data"
    }
   ],
   "source": [
    "draw_chart(orders, kind='scatter', data_y='revenue', ylabel='', title='Суммы заказов')"
   ]
  },
  {
   "cell_type": "code",
   "execution_count": 47,
   "metadata": {},
   "outputs": [
    {
     "name": "stdout",
     "output_type": "stream",
     "text": [
      "[26785. 53904.]\n"
     ]
    }
   ],
   "source": [
    "print(np.percentile(orders['revenue'], [95, 99])) "
   ]
  },
  {
   "cell_type": "markdown",
   "metadata": {},
   "source": [
    "<div style=\"border-radius: 15px; border: 3px solid indigo; padding: 15px;\">\n",
    "<b>Вывод</b><br>\n",
    "<li>в основном пользователи покупали на сумму до 200 тыс.</li>\n",
    "<li>сделаны 2 безумно дорогих заказа: на 200 тыс. и 1.2 млн.</li>\n",
    "<li>не более 5% заказов стоили более 26 тыс.</li>\n",
    "<li>не более 1% заказов стоили более 53 тыс.</li>   \n",
    "<li>т.о. заказы стоимостью более 28 тыс. можно считать аномальными.</li>\n",
    "</div>"
   ]
  },
  {
   "cell_type": "markdown",
   "metadata": {},
   "source": [
    "#### Статистическая значимость различий"
   ]
  },
  {
   "cell_type": "markdown",
   "metadata": {},
   "source": [
    "##### Конверсия\n",
    "* H0 — Конверсия групп А и В не различается\n",
    "* Н1 — Конверсия группы В выше конверсии группы А"
   ]
  },
  {
   "cell_type": "code",
   "execution_count": 48,
   "metadata": {},
   "outputs": [],
   "source": [
    "groups = orders.group.unique()"
   ]
  },
  {
   "cell_type": "code",
   "execution_count": 49,
   "metadata": {},
   "outputs": [],
   "source": [
    "orders_per_user_groups = {i : pd.DataFrame() for i in groups}\n",
    "samples = {i : pd.DataFrame() for i in groups}"
   ]
  },
  {
   "cell_type": "code",
   "execution_count": 50,
   "metadata": {},
   "outputs": [],
   "source": [
    "for key in orders_per_user_groups.keys():\n",
    "    orders_per_user_groups[key] =\\\n",
    "                        orders[:][orders.group == key].groupby(['visitorId'], as_index=False).agg({'transactionId':'nunique'})\n",
    "    orders_per_user_groups[key].columns = ['user_id', 'orders_cnt'] "
   ]
  },
  {
   "cell_type": "code",
   "execution_count": 51,
   "metadata": {},
   "outputs": [],
   "source": [
    "for key in samples.keys():\n",
    "    samples[key] = pd.concat([orders_per_user_groups[key]['orders_cnt']\n",
    "                    , pd.Series(0, index=np.arange(visitors.query('group==@key')['visitors'].sum() -\\\n",
    "                                                                                 len(orders_per_user_groups[key]))\n",
    "                    , name='orders')], axis=0)"
   ]
  },
  {
   "cell_type": "code",
   "execution_count": 52,
   "metadata": {},
   "outputs": [
    {
     "name": "stdout",
     "output_type": "stream",
     "text": [
      "p-value = 0.011\n",
      "diff = 15.98%\n"
     ]
    }
   ],
   "source": [
    "print('p-value = {0:.3f}'.format(st.mannwhitneyu(samples['A'],samples['B'], alternative='two-sided')[1]))\n",
    "print('diff = {0:.2%}'.format(samples['B'].mean() / samples['A'].mean() - 1))"
   ]
  },
  {
   "cell_type": "markdown",
   "metadata": {},
   "source": [
    "<div style=\"border-radius: 15px; border: 3px solid indigo; padding: 15px;\">\n",
    "<b>Вывод</b><br>\n",
    "<li>p-value меньше 0.05 —> отвергаем нулевую гипотезу —> статистически значимые различия в конверсии между группами есть.</li>\n",
    "<li>относительный выигрыш группы B составляет почти 16%</li>\n",
    "</div>"
   ]
  },
  {
   "cell_type": "markdown",
   "metadata": {},
   "source": [
    "##### Средний чек\n",
    "* H0 — Средний чек групп А и В не различается\n",
    "* Н1 — Средний чек группы В выше среднего чека группы А"
   ]
  },
  {
   "cell_type": "code",
   "execution_count": 53,
   "metadata": {},
   "outputs": [
    {
     "name": "stdout",
     "output_type": "stream",
     "text": [
      "p-value = 0.829\n",
      "diff = 28.66%\n"
     ]
    }
   ],
   "source": [
    "print('p-value = {0:.3f}'.format(st.mannwhitneyu(orders[orders['group']=='A']['revenue']\n",
    "                                                                                 , orders[orders['group']=='B']['revenue']\n",
    "                                                                                 , alternative='two-sided')[1]))\n",
    "print('diff = {0:.2%}'.format(orders[orders['group']=='B']['revenue'].mean()/orders[orders['group']=='A']['revenue'].mean()-1))"
   ]
  },
  {
   "cell_type": "markdown",
   "metadata": {},
   "source": [
    "<div style=\"border-radius: 15px; border: 3px solid indigo; padding: 15px;\">\n",
    "<b>Вывод</b><br>\n",
    "<li>p-value больше 0.05 —> не отвергаем нулевую гипотезу —> статистически значимых различий с среднем чеке между группами нет.</li>\n",
    "<li>относительный выигрыш группы B составляет 28%</li>\n",
    "</div>"
   ]
  },
  {
   "cell_type": "markdown",
   "metadata": {},
   "source": [
    "### На очищенных данных\n",
    "Статистическая значимость различий"
   ]
  },
  {
   "cell_type": "code",
   "execution_count": 54,
   "metadata": {},
   "outputs": [],
   "source": [
    "users_many_orders = pd.concat([orders_per_user_groups['A'].query('orders_cnt > 2')['user_id'],\n",
    "                                 orders_per_user_groups['B'].query('orders_cnt > 2')['user_id']], axis=0)"
   ]
  },
  {
   "cell_type": "code",
   "execution_count": 55,
   "metadata": {},
   "outputs": [],
   "source": [
    "users_expensive_orders = orders[orders['revenue'] > 28000]['visitorId']"
   ]
  },
  {
   "cell_type": "code",
   "execution_count": 56,
   "metadata": {},
   "outputs": [],
   "source": [
    "abnormal_users = pd.concat([users_many_orders, users_expensive_orders], axis=0).drop_duplicates().sort_values()"
   ]
  },
  {
   "cell_type": "code",
   "execution_count": 57,
   "metadata": {},
   "outputs": [
    {
     "data": {
      "text/plain": [
       "55"
      ]
     },
     "execution_count": 57,
     "metadata": {},
     "output_type": "execute_result"
    }
   ],
   "source": [
    "len(abnormal_users)"
   ]
  },
  {
   "cell_type": "markdown",
   "metadata": {},
   "source": [
    "<div style=\"border-radius: 15px; border: 3px solid indigo; padding: 15px;\">\n",
    "<b>Вывод</b><br>\n",
    "Обнаружены 55 аномальных пользователей, которых надо отфильтровать.\n",
    "</div>"
   ]
  },
  {
   "cell_type": "markdown",
   "metadata": {},
   "source": [
    "#### Конверсия\n",
    "* H0 — Конверсия групп А и В на очищенных данных не различается\n",
    "* Н1 — Конверсия группы В на очищенных данных выше конверсии группы А"
   ]
  },
  {
   "cell_type": "code",
   "execution_count": 58,
   "metadata": {},
   "outputs": [],
   "source": [
    "samples_filtered = {i : pd.DataFrame() for i in groups}"
   ]
  },
  {
   "cell_type": "code",
   "execution_count": 59,
   "metadata": {},
   "outputs": [],
   "source": [
    "for key in samples_filtered.keys():\n",
    "    samples_filtered[key] = pd.concat([\n",
    "        orders_per_user_groups[key][np.logical_not(orders_per_user_groups[key]['user_id'].isin(abnormal_users))]['orders_cnt']\n",
    "        , pd.Series(0, index=np.arange(visitors.query('group==@key')['visitors'].sum() - len(orders_per_user_groups[key]))\n",
    "        , name='orders')], axis=0)"
   ]
  },
  {
   "cell_type": "code",
   "execution_count": 60,
   "metadata": {},
   "outputs": [
    {
     "name": "stdout",
     "output_type": "stream",
     "text": [
      "p-value = 0.009\n",
      "diff = 18.86%\n"
     ]
    }
   ],
   "source": [
    "print('p-value = {0:.3f}'.format(st.mannwhitneyu(samples_filtered['A'],samples_filtered['B'], alternative='two-sided')[1]))\n",
    "print('diff = {0:.2%}'.format(samples_filtered['B'].mean() / samples_filtered['A'].mean() - 1))"
   ]
  },
  {
   "cell_type": "markdown",
   "metadata": {},
   "source": [
    "<div style=\"border-radius: 15px; border: 3px solid indigo; padding: 15px;\">\n",
    "<b>Вывод</b><br>\n",
    "<li>по-прежнему отвергаем нулевую гипотезу —> на отфильтрованных данных значимые различия в конверсии между группами есть.</li>\n",
    "<li>относительный выигрыш группы B на отфильтрованных данных составляет 18% (около 4% прироста)</li>\n",
    "</div>"
   ]
  },
  {
   "cell_type": "markdown",
   "metadata": {},
   "source": [
    "#### Средний чек\n",
    "* H0 — Средний чек групп А и В на очищенных данных не различается\n",
    "* Н1 — Средний чек группы В на очищенных данных выше среднего чека группы А"
   ]
  },
  {
   "cell_type": "code",
   "execution_count": 61,
   "metadata": {},
   "outputs": [
    {
     "name": "stdout",
     "output_type": "stream",
     "text": [
      "p-value = 0.762\n",
      "diff = -2.24%\n"
     ]
    }
   ],
   "source": [
    "print('p-value = {0:.3f}'.format(st.mannwhitneyu(orders[np.logical_and(orders['group'] == 'A'\n",
    "                                                , np.logical_not(orders['visitorId'].isin(abnormal_users)))]['revenue'],\n",
    "                                       orders[np.logical_and(orders['group'] == 'B'\n",
    "                                                , np.logical_not(orders['visitorId'].isin(abnormal_users)))]['revenue']\n",
    "                                      , alternative='two-sided')[1]))\n",
    "\n",
    "print('diff = {0:.2%}'.format(orders[np.logical_and(orders['group'] == 'B'\n",
    "                                        , np.logical_not(orders['visitorId'].isin(abnormal_users)))]['revenue'].mean()\n",
    "                            / orders[np.logical_and(orders['group'] == 'A'\n",
    "                                        , np.logical_not(orders['visitorId'].isin(abnormal_users)))]['revenue'].mean() - 1 ))"
   ]
  },
  {
   "cell_type": "markdown",
   "metadata": {},
   "source": [
    "<div style=\"border-radius: 15px; border: 3px solid indigo; padding: 15px;\">\n",
    "<b>Вывод</b><br>\n",
    "<li>по-прежнему не отвергаем нулевую гипотезу —> статистически значимых различий с среднем чеке между группами нет.</li>\n",
    "<li>но теперь группа B проигрывает группе А 2% в относительных показателях</li>\n",
    "</div>"
   ]
  },
  {
   "cell_type": "markdown",
   "metadata": {},
   "source": [
    "## Общий вывод"
   ]
  },
  {
   "cell_type": "markdown",
   "metadata": {},
   "source": [
    "* Считать наиболее приоритетными гипотезы 7, 0 и 6.\n",
    "* Тест признать успешным ввиду однозначного увеличения конверсии в группе В и остановить."
   ]
  }
 ],
 "metadata": {
  "ExecuteTimeLog": [
   {
    "duration": 2030,
    "start_time": "2021-07-02T15:08:13.979Z"
   },
   {
    "duration": 60,
    "start_time": "2021-07-02T15:10:40.049Z"
   },
   {
    "duration": 10,
    "start_time": "2021-07-02T15:11:50.244Z"
   },
   {
    "duration": 9,
    "start_time": "2021-07-02T15:12:15.179Z"
   },
   {
    "duration": 9,
    "start_time": "2021-07-02T15:12:30.978Z"
   },
   {
    "duration": 525,
    "start_time": "2021-07-02T15:16:23.097Z"
   },
   {
    "duration": 13,
    "start_time": "2021-07-02T15:16:35.833Z"
   },
   {
    "duration": 15,
    "start_time": "2021-07-02T15:18:54.536Z"
   },
   {
    "duration": 116,
    "start_time": "2021-07-02T15:20:00.816Z"
   },
   {
    "duration": 23,
    "start_time": "2021-07-02T15:20:05.456Z"
   },
   {
    "duration": 1942,
    "start_time": "2021-07-02T15:22:35.758Z"
   },
   {
    "duration": 62,
    "start_time": "2021-07-02T15:22:37.703Z"
   },
   {
    "duration": 11,
    "start_time": "2021-07-02T15:22:37.769Z"
   },
   {
    "duration": 12,
    "start_time": "2021-07-02T15:22:37.783Z"
   },
   {
    "duration": 12,
    "start_time": "2021-07-02T15:22:37.809Z"
   },
   {
    "duration": 13,
    "start_time": "2021-07-02T15:22:41.276Z"
   },
   {
    "duration": 4,
    "start_time": "2021-07-02T15:22:43.908Z"
   },
   {
    "duration": 20,
    "start_time": "2021-07-02T15:22:44.724Z"
   },
   {
    "duration": 8,
    "start_time": "2021-07-02T15:22:58.948Z"
   },
   {
    "duration": 690,
    "start_time": "2021-07-02T15:23:18.829Z"
   },
   {
    "duration": 398,
    "start_time": "2021-07-02T15:23:25.156Z"
   },
   {
    "duration": 6,
    "start_time": "2021-07-02T15:23:28.980Z"
   },
   {
    "duration": 4,
    "start_time": "2021-07-02T15:25:20.003Z"
   },
   {
    "duration": 1995,
    "start_time": "2021-07-02T15:25:27.770Z"
   },
   {
    "duration": 59,
    "start_time": "2021-07-02T15:25:29.768Z"
   },
   {
    "duration": 4,
    "start_time": "2021-07-02T15:25:29.830Z"
   },
   {
    "duration": 15,
    "start_time": "2021-07-02T15:25:29.837Z"
   },
   {
    "duration": 17,
    "start_time": "2021-07-02T15:25:29.854Z"
   },
   {
    "duration": 9,
    "start_time": "2021-07-02T15:25:33.868Z"
   },
   {
    "duration": 15,
    "start_time": "2021-07-02T15:25:35.092Z"
   },
   {
    "duration": 13,
    "start_time": "2021-07-02T15:26:23.128Z"
   },
   {
    "duration": 20,
    "start_time": "2021-07-02T15:27:18.235Z"
   },
   {
    "duration": 12,
    "start_time": "2021-07-02T15:27:34.443Z"
   },
   {
    "duration": 11,
    "start_time": "2021-07-02T15:27:40.707Z"
   },
   {
    "duration": 11,
    "start_time": "2021-07-02T15:27:48.427Z"
   },
   {
    "duration": 1992,
    "start_time": "2021-07-02T15:27:57.910Z"
   },
   {
    "duration": 61,
    "start_time": "2021-07-02T15:27:59.905Z"
   },
   {
    "duration": 16,
    "start_time": "2021-07-02T15:27:59.969Z"
   },
   {
    "duration": 15,
    "start_time": "2021-07-02T15:27:59.988Z"
   },
   {
    "duration": 19,
    "start_time": "2021-07-02T15:28:00.005Z"
   },
   {
    "duration": 19,
    "start_time": "2021-07-02T15:28:00.026Z"
   },
   {
    "duration": 13,
    "start_time": "2021-07-02T15:28:00.359Z"
   },
   {
    "duration": 10,
    "start_time": "2021-07-02T15:28:03.678Z"
   },
   {
    "duration": 20,
    "start_time": "2021-07-02T15:28:04.751Z"
   },
   {
    "duration": 2117,
    "start_time": "2021-07-02T15:28:20.731Z"
   },
   {
    "duration": 60,
    "start_time": "2021-07-02T15:28:22.851Z"
   },
   {
    "duration": 5,
    "start_time": "2021-07-02T15:28:22.914Z"
   },
   {
    "duration": 24,
    "start_time": "2021-07-02T15:28:22.921Z"
   },
   {
    "duration": 8,
    "start_time": "2021-07-02T15:28:23.238Z"
   },
   {
    "duration": 10,
    "start_time": "2021-07-02T15:28:34.683Z"
   },
   {
    "duration": 13,
    "start_time": "2021-07-02T15:28:35.868Z"
   },
   {
    "duration": 9,
    "start_time": "2021-07-02T15:28:37.387Z"
   },
   {
    "duration": 21,
    "start_time": "2021-07-02T15:28:38.011Z"
   },
   {
    "duration": 14,
    "start_time": "2021-07-02T15:35:55.778Z"
   },
   {
    "duration": 15,
    "start_time": "2021-07-02T15:40:03.045Z"
   },
   {
    "duration": 14,
    "start_time": "2021-07-02T15:40:28.696Z"
   },
   {
    "duration": 7,
    "start_time": "2021-07-02T15:41:01.327Z"
   },
   {
    "duration": 10,
    "start_time": "2021-07-02T15:41:07.759Z"
   },
   {
    "duration": 5,
    "start_time": "2021-07-02T15:41:56.487Z"
   },
   {
    "duration": 7,
    "start_time": "2021-07-02T15:41:56.822Z"
   },
   {
    "duration": 24,
    "start_time": "2021-07-02T15:41:57.310Z"
   },
   {
    "duration": 6,
    "start_time": "2021-07-02T15:42:15.838Z"
   },
   {
    "duration": 8,
    "start_time": "2021-07-02T15:42:16.118Z"
   },
   {
    "duration": 11,
    "start_time": "2021-07-02T15:42:16.526Z"
   },
   {
    "duration": 6,
    "start_time": "2021-07-02T15:43:08.678Z"
   },
   {
    "duration": 9,
    "start_time": "2021-07-02T15:43:36.878Z"
   },
   {
    "duration": 11,
    "start_time": "2021-07-02T15:43:43.261Z"
   },
   {
    "duration": 11,
    "start_time": "2021-07-02T15:44:04.614Z"
   },
   {
    "duration": 5,
    "start_time": "2021-07-02T15:44:21.533Z"
   },
   {
    "duration": 8,
    "start_time": "2021-07-02T15:44:21.741Z"
   },
   {
    "duration": 10,
    "start_time": "2021-07-02T15:44:23.070Z"
   },
   {
    "duration": 6,
    "start_time": "2021-07-02T15:44:53.925Z"
   },
   {
    "duration": 6,
    "start_time": "2021-07-02T15:44:54.117Z"
   },
   {
    "duration": 10,
    "start_time": "2021-07-02T15:44:54.325Z"
   },
   {
    "duration": 5,
    "start_time": "2021-07-02T15:45:03.269Z"
   },
   {
    "duration": 6,
    "start_time": "2021-07-02T15:45:03.477Z"
   },
   {
    "duration": 10,
    "start_time": "2021-07-02T15:45:03.701Z"
   },
   {
    "duration": 8,
    "start_time": "2021-07-02T15:45:52.924Z"
   },
   {
    "duration": 11,
    "start_time": "2021-07-02T15:45:53.349Z"
   },
   {
    "duration": 8,
    "start_time": "2021-07-02T15:46:07.789Z"
   },
   {
    "duration": 11,
    "start_time": "2021-07-02T15:46:08.205Z"
   },
   {
    "duration": 6,
    "start_time": "2021-07-02T15:57:48.754Z"
   },
   {
    "duration": 10,
    "start_time": "2021-07-02T15:57:55.673Z"
   },
   {
    "duration": 4,
    "start_time": "2021-07-02T15:58:11.657Z"
   },
   {
    "duration": 11,
    "start_time": "2021-07-02T15:58:25.472Z"
   },
   {
    "duration": 519,
    "start_time": "2021-07-02T16:00:49.934Z"
   },
   {
    "duration": 16,
    "start_time": "2021-07-02T16:01:23.783Z"
   },
   {
    "duration": 17,
    "start_time": "2021-07-02T16:01:39.736Z"
   },
   {
    "duration": 394,
    "start_time": "2021-07-02T16:02:17.704Z"
   },
   {
    "duration": 17,
    "start_time": "2021-07-02T16:03:03.703Z"
   },
   {
    "duration": 11,
    "start_time": "2021-07-02T16:03:39.576Z"
   },
   {
    "duration": 12,
    "start_time": "2021-07-02T16:03:46.998Z"
   },
   {
    "duration": 18,
    "start_time": "2021-07-02T16:04:52.143Z"
   },
   {
    "duration": 16,
    "start_time": "2021-07-02T16:05:17.007Z"
   },
   {
    "duration": 8,
    "start_time": "2021-07-02T16:06:10.166Z"
   },
   {
    "duration": 15,
    "start_time": "2021-07-02T16:06:29.852Z"
   },
   {
    "duration": 16,
    "start_time": "2021-07-02T16:06:44.349Z"
   },
   {
    "duration": 1990,
    "start_time": "2021-07-02T16:06:55.097Z"
   },
   {
    "duration": 59,
    "start_time": "2021-07-02T16:06:57.090Z"
   },
   {
    "duration": 5,
    "start_time": "2021-07-02T16:06:57.154Z"
   },
   {
    "duration": 12,
    "start_time": "2021-07-02T16:06:57.162Z"
   },
   {
    "duration": 15,
    "start_time": "2021-07-02T16:06:57.176Z"
   },
   {
    "duration": 9,
    "start_time": "2021-07-02T16:06:57.233Z"
   },
   {
    "duration": 13,
    "start_time": "2021-07-02T16:06:57.624Z"
   },
   {
    "duration": 9,
    "start_time": "2021-07-02T16:06:58.273Z"
   },
   {
    "duration": 21,
    "start_time": "2021-07-02T16:06:58.489Z"
   },
   {
    "duration": 12,
    "start_time": "2021-07-02T16:06:59.354Z"
   },
   {
    "duration": 8,
    "start_time": "2021-07-02T16:06:59.593Z"
   },
   {
    "duration": 5,
    "start_time": "2021-07-02T16:06:59.834Z"
   },
   {
    "duration": 13,
    "start_time": "2021-07-02T16:07:00.032Z"
   },
   {
    "duration": 7,
    "start_time": "2021-07-02T16:07:00.497Z"
   },
   {
    "duration": 8,
    "start_time": "2021-07-02T16:07:00.729Z"
   },
   {
    "duration": 6,
    "start_time": "2021-07-02T16:07:01.105Z"
   },
   {
    "duration": 12,
    "start_time": "2021-07-02T16:07:04.385Z"
   },
   {
    "duration": 16,
    "start_time": "2021-07-02T16:07:11.450Z"
   },
   {
    "duration": 15,
    "start_time": "2021-07-02T16:07:11.953Z"
   },
   {
    "duration": 15,
    "start_time": "2021-07-02T16:08:26.983Z"
   },
   {
    "duration": 1978,
    "start_time": "2021-07-02T16:12:19.418Z"
   },
   {
    "duration": 61,
    "start_time": "2021-07-02T16:12:21.399Z"
   },
   {
    "duration": 3,
    "start_time": "2021-07-02T16:12:21.463Z"
   },
   {
    "duration": 12,
    "start_time": "2021-07-02T16:12:21.469Z"
   },
   {
    "duration": 25,
    "start_time": "2021-07-02T16:12:21.484Z"
   },
   {
    "duration": 8,
    "start_time": "2021-07-02T16:12:21.511Z"
   },
   {
    "duration": 14,
    "start_time": "2021-07-02T16:12:21.522Z"
   },
   {
    "duration": 14,
    "start_time": "2021-07-02T16:12:21.705Z"
   },
   {
    "duration": 6,
    "start_time": "2021-07-02T16:12:23.141Z"
   },
   {
    "duration": 30,
    "start_time": "2021-07-02T16:12:23.150Z"
   },
   {
    "duration": 8,
    "start_time": "2021-07-02T16:12:23.729Z"
   },
   {
    "duration": 8,
    "start_time": "2021-07-02T16:12:23.929Z"
   },
   {
    "duration": 5,
    "start_time": "2021-07-02T16:12:24.137Z"
   },
   {
    "duration": 6,
    "start_time": "2021-07-02T16:12:24.522Z"
   },
   {
    "duration": 9,
    "start_time": "2021-07-02T16:12:24.737Z"
   },
   {
    "duration": 5,
    "start_time": "2021-07-02T16:12:24.945Z"
   },
   {
    "duration": 16,
    "start_time": "2021-07-02T16:12:25.362Z"
   },
   {
    "duration": 16,
    "start_time": "2021-07-02T16:12:25.569Z"
   },
   {
    "duration": 16,
    "start_time": "2021-07-02T16:20:47.305Z"
   },
   {
    "duration": 7,
    "start_time": "2021-07-02T16:25:45.828Z"
   },
   {
    "duration": 10,
    "start_time": "2021-07-02T16:43:35.542Z"
   },
   {
    "duration": 9,
    "start_time": "2021-07-02T16:44:04.145Z"
   },
   {
    "duration": 8,
    "start_time": "2021-07-02T16:48:58.695Z"
   },
   {
    "duration": 9742,
    "start_time": "2021-07-02T16:48:58.927Z"
   },
   {
    "duration": 328,
    "start_time": "2021-07-02T16:50:23.036Z"
   },
   {
    "duration": 8,
    "start_time": "2021-07-02T16:53:02.558Z"
   },
   {
    "duration": 9102,
    "start_time": "2021-07-02T16:53:02.998Z"
   },
   {
    "duration": 281,
    "start_time": "2021-07-02T16:54:40.766Z"
   },
   {
    "duration": 10,
    "start_time": "2021-07-02T16:55:53.438Z"
   },
   {
    "duration": 7,
    "start_time": "2021-07-02T17:06:07.129Z"
   },
   {
    "duration": 10,
    "start_time": "2021-07-02T17:06:08.121Z"
   },
   {
    "duration": 15,
    "start_time": "2021-07-02T17:17:14.884Z"
   },
   {
    "duration": 14,
    "start_time": "2021-07-02T17:17:57.331Z"
   },
   {
    "duration": 15,
    "start_time": "2021-07-02T17:18:50.723Z"
   },
   {
    "duration": 132,
    "start_time": "2021-07-02T17:21:02.954Z"
   },
   {
    "duration": 15,
    "start_time": "2021-07-02T17:21:29.170Z"
   },
   {
    "duration": 1018,
    "start_time": "2021-07-02T17:21:32.306Z"
   },
   {
    "duration": 14,
    "start_time": "2021-07-02T17:23:42.601Z"
   },
   {
    "duration": 954,
    "start_time": "2021-07-02T17:23:46.378Z"
   },
   {
    "duration": 16,
    "start_time": "2021-07-02T17:29:06.769Z"
   },
   {
    "duration": 9910,
    "start_time": "2021-07-02T17:29:10.384Z"
   },
   {
    "duration": 1002,
    "start_time": "2021-07-02T17:30:05.241Z"
   },
   {
    "duration": 15,
    "start_time": "2021-07-02T17:30:32.017Z"
   },
   {
    "duration": 1116,
    "start_time": "2021-07-02T17:30:34.975Z"
   },
   {
    "duration": 15,
    "start_time": "2021-07-02T17:30:45.551Z"
   },
   {
    "duration": 307,
    "start_time": "2021-07-02T17:30:48.768Z"
   },
   {
    "duration": 18,
    "start_time": "2021-07-02T17:31:16.680Z"
   },
   {
    "duration": 342,
    "start_time": "2021-07-02T17:31:20.183Z"
   },
   {
    "duration": 15,
    "start_time": "2021-07-02T17:31:35.104Z"
   },
   {
    "duration": 326,
    "start_time": "2021-07-02T17:31:38.087Z"
   },
   {
    "duration": 321,
    "start_time": "2021-07-02T17:31:57.680Z"
   },
   {
    "duration": 319,
    "start_time": "2021-07-02T17:32:06.569Z"
   },
   {
    "duration": 407,
    "start_time": "2021-07-02T17:32:13.576Z"
   },
   {
    "duration": 18,
    "start_time": "2021-07-02T17:34:18.783Z"
   },
   {
    "duration": 926,
    "start_time": "2021-07-02T17:34:23.036Z"
   },
   {
    "duration": 106,
    "start_time": "2021-07-02T17:34:44.504Z"
   },
   {
    "duration": 317,
    "start_time": "2021-07-02T17:34:48.576Z"
   },
   {
    "duration": 702,
    "start_time": "2021-07-02T17:36:12.887Z"
   },
   {
    "duration": 654,
    "start_time": "2021-07-02T17:36:24.111Z"
   },
   {
    "duration": 664,
    "start_time": "2021-07-02T17:37:08.702Z"
   },
   {
    "duration": 15,
    "start_time": "2021-07-02T17:37:41.478Z"
   },
   {
    "duration": 1083,
    "start_time": "2021-07-02T17:37:45.870Z"
   },
   {
    "duration": 15,
    "start_time": "2021-07-02T17:39:04.134Z"
   },
   {
    "duration": 1027,
    "start_time": "2021-07-02T17:39:07.397Z"
   },
   {
    "duration": 15,
    "start_time": "2021-07-02T17:40:17.597Z"
   },
   {
    "duration": 301,
    "start_time": "2021-07-02T17:40:21.084Z"
   },
   {
    "duration": 16,
    "start_time": "2021-07-02T17:40:43.252Z"
   },
   {
    "duration": 342,
    "start_time": "2021-07-02T17:40:45.940Z"
   },
   {
    "duration": 15,
    "start_time": "2021-07-02T17:41:04.044Z"
   },
   {
    "duration": 416,
    "start_time": "2021-07-02T17:41:07.107Z"
   },
   {
    "duration": 17,
    "start_time": "2021-07-02T17:41:26.123Z"
   },
   {
    "duration": 331,
    "start_time": "2021-07-02T17:41:29.660Z"
   },
   {
    "duration": 6,
    "start_time": "2021-07-02T17:43:27.805Z"
   },
   {
    "duration": 340,
    "start_time": "2021-07-02T17:43:45.299Z"
   },
   {
    "duration": 20,
    "start_time": "2021-07-02T17:44:57.035Z"
   },
   {
    "duration": 356,
    "start_time": "2021-07-02T17:45:00.099Z"
   },
   {
    "duration": 17,
    "start_time": "2021-07-02T17:45:11.914Z"
   },
   {
    "duration": 405,
    "start_time": "2021-07-02T17:45:14.818Z"
   },
   {
    "duration": 16,
    "start_time": "2021-07-02T17:45:27.605Z"
   },
   {
    "duration": 471,
    "start_time": "2021-07-02T17:45:29.963Z"
   },
   {
    "duration": 21,
    "start_time": "2021-07-02T17:45:39.340Z"
   },
   {
    "duration": 480,
    "start_time": "2021-07-02T17:45:42.338Z"
   },
   {
    "duration": 136,
    "start_time": "2021-07-02T17:45:55.588Z"
   },
   {
    "duration": 625,
    "start_time": "2021-07-02T17:45:58.859Z"
   },
   {
    "duration": 16,
    "start_time": "2021-07-02T17:46:06.875Z"
   },
   {
    "duration": 559,
    "start_time": "2021-07-02T17:46:10.434Z"
   },
   {
    "duration": 17,
    "start_time": "2021-07-02T17:46:20.164Z"
   },
   {
    "duration": 437,
    "start_time": "2021-07-02T17:46:23.167Z"
   },
   {
    "duration": 16,
    "start_time": "2021-07-02T17:46:40.484Z"
   },
   {
    "duration": 412,
    "start_time": "2021-07-02T17:46:43.291Z"
   },
   {
    "duration": 358,
    "start_time": "2021-07-02T17:46:47.947Z"
   },
   {
    "duration": 16,
    "start_time": "2021-07-02T17:47:04.308Z"
   },
   {
    "duration": 360,
    "start_time": "2021-07-02T17:47:07.451Z"
   },
   {
    "duration": 16,
    "start_time": "2021-07-02T17:47:46.188Z"
   },
   {
    "duration": 390,
    "start_time": "2021-07-02T17:47:51.683Z"
   },
   {
    "duration": 391,
    "start_time": "2021-07-02T17:47:54.883Z"
   },
   {
    "duration": 19,
    "start_time": "2021-07-02T17:49:37.564Z"
   },
   {
    "duration": 131,
    "start_time": "2021-07-02T17:50:49.051Z"
   },
   {
    "duration": 376,
    "start_time": "2021-07-02T17:50:58.747Z"
   },
   {
    "duration": 17,
    "start_time": "2021-07-02T17:51:43.331Z"
   },
   {
    "duration": 1104,
    "start_time": "2021-07-02T17:51:46.266Z"
   },
   {
    "duration": 16,
    "start_time": "2021-07-02T17:52:55.818Z"
   },
   {
    "duration": 1087,
    "start_time": "2021-07-02T17:53:30.977Z"
   },
   {
    "duration": 16,
    "start_time": "2021-07-02T17:53:45.522Z"
   },
   {
    "duration": 824,
    "start_time": "2021-07-02T17:53:48.826Z"
   },
   {
    "duration": 2147,
    "start_time": "2021-07-02T17:55:10.930Z"
   },
   {
    "duration": 57,
    "start_time": "2021-07-02T17:55:13.080Z"
   },
   {
    "duration": 30,
    "start_time": "2021-07-02T17:55:13.140Z"
   },
   {
    "duration": 32,
    "start_time": "2021-07-02T17:55:13.172Z"
   },
   {
    "duration": 57,
    "start_time": "2021-07-02T17:55:13.207Z"
   },
   {
    "duration": 22,
    "start_time": "2021-07-02T17:55:13.267Z"
   },
   {
    "duration": 48,
    "start_time": "2021-07-02T17:55:13.292Z"
   },
   {
    "duration": 42,
    "start_time": "2021-07-02T17:55:13.343Z"
   },
   {
    "duration": 8,
    "start_time": "2021-07-02T17:55:13.889Z"
   },
   {
    "duration": 29,
    "start_time": "2021-07-02T17:55:14.098Z"
   },
   {
    "duration": 12,
    "start_time": "2021-07-02T17:55:14.920Z"
   },
   {
    "duration": 8,
    "start_time": "2021-07-02T17:55:15.130Z"
   },
   {
    "duration": 6,
    "start_time": "2021-07-02T17:55:15.345Z"
   },
   {
    "duration": 6,
    "start_time": "2021-07-02T17:55:15.930Z"
   },
   {
    "duration": 9,
    "start_time": "2021-07-02T17:55:16.153Z"
   },
   {
    "duration": 6,
    "start_time": "2021-07-02T17:55:16.377Z"
   },
   {
    "duration": 15,
    "start_time": "2021-07-02T17:55:16.786Z"
   },
   {
    "duration": 15,
    "start_time": "2021-07-02T17:55:17.010Z"
   },
   {
    "duration": 16,
    "start_time": "2021-07-02T17:55:17.635Z"
   },
   {
    "duration": 9,
    "start_time": "2021-07-02T17:55:18.273Z"
   },
   {
    "duration": 315,
    "start_time": "2021-07-02T17:55:18.730Z"
   },
   {
    "duration": 7,
    "start_time": "2021-07-02T17:55:19.048Z"
   },
   {
    "duration": 273,
    "start_time": "2021-07-02T17:55:19.153Z"
   },
   {
    "duration": 9,
    "start_time": "2021-07-02T17:55:19.428Z"
   },
   {
    "duration": 396,
    "start_time": "2021-07-02T17:55:19.793Z"
   },
   {
    "duration": 1919,
    "start_time": "2021-07-02T17:56:50.049Z"
   },
   {
    "duration": 58,
    "start_time": "2021-07-02T17:56:51.970Z"
   },
   {
    "duration": 4,
    "start_time": "2021-07-02T17:56:52.031Z"
   },
   {
    "duration": 13,
    "start_time": "2021-07-02T17:56:52.037Z"
   },
   {
    "duration": 23,
    "start_time": "2021-07-02T17:56:52.053Z"
   },
   {
    "duration": 32,
    "start_time": "2021-07-02T17:56:52.078Z"
   },
   {
    "duration": 18,
    "start_time": "2021-07-02T17:56:52.113Z"
   },
   {
    "duration": 16,
    "start_time": "2021-07-02T17:56:52.313Z"
   },
   {
    "duration": 7,
    "start_time": "2021-07-02T17:56:52.881Z"
   },
   {
    "duration": 18,
    "start_time": "2021-07-02T17:56:53.097Z"
   },
   {
    "duration": 13,
    "start_time": "2021-07-02T17:56:53.929Z"
   },
   {
    "duration": 8,
    "start_time": "2021-07-02T17:56:54.153Z"
   },
   {
    "duration": 6,
    "start_time": "2021-07-02T17:56:54.393Z"
   },
   {
    "duration": 6,
    "start_time": "2021-07-02T17:56:54.828Z"
   },
   {
    "duration": 8,
    "start_time": "2021-07-02T17:56:55.036Z"
   },
   {
    "duration": 6,
    "start_time": "2021-07-02T17:56:55.265Z"
   },
   {
    "duration": 17,
    "start_time": "2021-07-02T17:56:55.697Z"
   },
   {
    "duration": 16,
    "start_time": "2021-07-02T17:56:55.897Z"
   },
   {
    "duration": 17,
    "start_time": "2021-07-02T17:56:56.554Z"
   },
   {
    "duration": 8,
    "start_time": "2021-07-02T17:56:57.160Z"
   },
   {
    "duration": 327,
    "start_time": "2021-07-02T17:56:57.409Z"
   },
   {
    "duration": 8,
    "start_time": "2021-07-02T17:56:57.738Z"
   },
   {
    "duration": 268,
    "start_time": "2021-07-02T17:56:57.800Z"
   },
   {
    "duration": 9,
    "start_time": "2021-07-02T17:56:58.071Z"
   },
   {
    "duration": 387,
    "start_time": "2021-07-02T17:56:58.417Z"
   },
   {
    "duration": 22,
    "start_time": "2021-07-02T17:57:33.364Z"
   },
   {
    "duration": 424,
    "start_time": "2021-07-02T17:57:36.057Z"
   },
   {
    "duration": 9455,
    "start_time": "2021-07-02T17:57:40.568Z"
   },
   {
    "duration": 5,
    "start_time": "2021-07-02T17:58:02.009Z"
   },
   {
    "duration": 386,
    "start_time": "2021-07-02T17:58:51.250Z"
   },
   {
    "duration": 18,
    "start_time": "2021-07-02T18:03:13.831Z"
   },
   {
    "duration": 138,
    "start_time": "2021-07-02T18:03:34.469Z"
   },
   {
    "duration": 14,
    "start_time": "2021-07-02T18:03:47.767Z"
   },
   {
    "duration": 382,
    "start_time": "2021-07-02T18:05:41.998Z"
   },
   {
    "duration": 320,
    "start_time": "2021-07-02T18:05:51.958Z"
   },
   {
    "duration": 604,
    "start_time": "2021-07-02T18:06:28.389Z"
   },
   {
    "duration": 20,
    "start_time": "2021-07-02T18:06:43.093Z"
   },
   {
    "duration": 13,
    "start_time": "2021-07-02T18:06:49.285Z"
   },
   {
    "duration": 20,
    "start_time": "2021-07-02T18:06:50.131Z"
   },
   {
    "duration": 13,
    "start_time": "2021-07-02T18:07:03.524Z"
   },
   {
    "duration": 28,
    "start_time": "2021-07-02T18:07:03.989Z"
   },
   {
    "duration": 14,
    "start_time": "2021-07-02T18:07:08.413Z"
   },
   {
    "duration": 21,
    "start_time": "2021-07-02T18:07:08.997Z"
   },
   {
    "duration": 1946,
    "start_time": "2021-07-02T18:07:19.956Z"
   },
   {
    "duration": 59,
    "start_time": "2021-07-02T18:07:21.905Z"
   },
   {
    "duration": 5,
    "start_time": "2021-07-02T18:07:21.967Z"
   },
   {
    "duration": 13,
    "start_time": "2021-07-02T18:07:21.975Z"
   },
   {
    "duration": 25,
    "start_time": "2021-07-02T18:07:21.990Z"
   },
   {
    "duration": 8,
    "start_time": "2021-07-02T18:07:22.018Z"
   },
   {
    "duration": 11,
    "start_time": "2021-07-02T18:07:22.029Z"
   },
   {
    "duration": 15,
    "start_time": "2021-07-02T18:07:22.452Z"
   },
   {
    "duration": 7,
    "start_time": "2021-07-02T18:07:23.116Z"
   },
   {
    "duration": 18,
    "start_time": "2021-07-02T18:07:23.348Z"
   },
   {
    "duration": 14,
    "start_time": "2021-07-02T18:07:24.180Z"
   },
   {
    "duration": 11,
    "start_time": "2021-07-02T18:07:24.388Z"
   },
   {
    "duration": 5,
    "start_time": "2021-07-02T18:07:24.588Z"
   },
   {
    "duration": 13,
    "start_time": "2021-07-02T18:07:24.954Z"
   },
   {
    "duration": 10,
    "start_time": "2021-07-02T18:07:25.164Z"
   },
   {
    "duration": 5,
    "start_time": "2021-07-02T18:07:26.148Z"
   },
   {
    "duration": 17,
    "start_time": "2021-07-02T18:07:26.683Z"
   },
   {
    "duration": 16,
    "start_time": "2021-07-02T18:07:26.916Z"
   },
   {
    "duration": 18,
    "start_time": "2021-07-02T18:07:29.589Z"
   },
   {
    "duration": 13,
    "start_time": "2021-07-02T18:07:33.748Z"
   },
   {
    "duration": 591,
    "start_time": "2021-07-02T18:07:33.956Z"
   },
   {
    "duration": 11,
    "start_time": "2021-07-02T18:07:34.551Z"
   },
   {
    "duration": 487,
    "start_time": "2021-07-02T18:07:34.567Z"
   },
   {
    "duration": 15,
    "start_time": "2021-07-02T18:07:35.058Z"
   },
   {
    "duration": 690,
    "start_time": "2021-07-02T18:07:35.076Z"
   },
   {
    "duration": 5,
    "start_time": "2021-07-02T18:07:48.972Z"
   },
   {
    "duration": 384,
    "start_time": "2021-07-02T18:07:49.196Z"
   },
   {
    "duration": 14,
    "start_time": "2021-07-02T18:07:52.316Z"
   },
   {
    "duration": 22,
    "start_time": "2021-07-02T18:07:52.588Z"
   },
   {
    "duration": 15,
    "start_time": "2021-07-02T18:08:16.771Z"
   },
   {
    "duration": 8,
    "start_time": "2021-07-02T18:08:25.987Z"
   },
   {
    "duration": 12,
    "start_time": "2021-07-02T18:10:44.411Z"
   },
   {
    "duration": 129,
    "start_time": "2021-07-02T18:12:10.354Z"
   },
   {
    "duration": 9,
    "start_time": "2021-07-02T18:12:29.522Z"
   },
   {
    "duration": 22,
    "start_time": "2021-07-02T18:12:32.915Z"
   },
   {
    "duration": 10,
    "start_time": "2021-07-02T18:12:45.017Z"
   },
   {
    "duration": 14,
    "start_time": "2021-07-02T18:12:45.826Z"
   },
   {
    "duration": 23,
    "start_time": "2021-07-02T18:12:46.538Z"
   },
   {
    "duration": 9,
    "start_time": "2021-07-02T18:13:04.506Z"
   },
   {
    "duration": 22,
    "start_time": "2021-07-02T18:13:10.906Z"
   },
   {
    "duration": 21,
    "start_time": "2021-07-02T18:15:13.433Z"
   },
   {
    "duration": 2739,
    "start_time": "2021-07-02T18:15:36.849Z"
   },
   {
    "duration": 58,
    "start_time": "2021-07-02T18:15:39.591Z"
   },
   {
    "duration": 8,
    "start_time": "2021-07-02T18:15:39.652Z"
   },
   {
    "duration": 21,
    "start_time": "2021-07-02T18:15:39.663Z"
   },
   {
    "duration": 37,
    "start_time": "2021-07-02T18:15:39.686Z"
   },
   {
    "duration": 12,
    "start_time": "2021-07-02T18:15:39.725Z"
   },
   {
    "duration": 14,
    "start_time": "2021-07-02T18:15:39.739Z"
   },
   {
    "duration": 15,
    "start_time": "2021-07-02T18:15:39.930Z"
   },
   {
    "duration": 7,
    "start_time": "2021-07-02T18:15:40.562Z"
   },
   {
    "duration": 19,
    "start_time": "2021-07-02T18:15:40.769Z"
   },
   {
    "duration": 12,
    "start_time": "2021-07-02T18:15:41.880Z"
   },
   {
    "duration": 8,
    "start_time": "2021-07-02T18:15:42.092Z"
   },
   {
    "duration": 6,
    "start_time": "2021-07-02T18:15:42.300Z"
   },
   {
    "duration": 6,
    "start_time": "2021-07-02T18:15:42.977Z"
   },
   {
    "duration": 9,
    "start_time": "2021-07-02T18:15:43.200Z"
   },
   {
    "duration": 6,
    "start_time": "2021-07-02T18:15:43.621Z"
   },
   {
    "duration": 17,
    "start_time": "2021-07-02T18:15:44.096Z"
   },
   {
    "duration": 16,
    "start_time": "2021-07-02T18:15:44.296Z"
   },
   {
    "duration": 17,
    "start_time": "2021-07-02T18:15:49.002Z"
   },
   {
    "duration": 8,
    "start_time": "2021-07-02T18:15:49.656Z"
   },
   {
    "duration": 327,
    "start_time": "2021-07-02T18:15:49.873Z"
   },
   {
    "duration": 8,
    "start_time": "2021-07-02T18:15:50.202Z"
   },
   {
    "duration": 289,
    "start_time": "2021-07-02T18:15:50.291Z"
   },
   {
    "duration": 10,
    "start_time": "2021-07-02T18:15:50.729Z"
   },
   {
    "duration": 412,
    "start_time": "2021-07-02T18:15:51.200Z"
   },
   {
    "duration": 5,
    "start_time": "2021-07-02T18:15:55.496Z"
   },
   {
    "duration": 20,
    "start_time": "2021-07-02T18:16:01.344Z"
   },
   {
    "duration": 390,
    "start_time": "2021-07-02T18:16:16.192Z"
   },
   {
    "duration": 1103,
    "start_time": "2021-07-04T09:35:33.431Z"
   },
   {
    "duration": 2520,
    "start_time": "2021-07-04T09:35:59.652Z"
   },
   {
    "duration": 56,
    "start_time": "2021-07-04T09:36:02.175Z"
   },
   {
    "duration": 26,
    "start_time": "2021-07-04T09:36:02.234Z"
   },
   {
    "duration": 17,
    "start_time": "2021-07-04T09:36:02.263Z"
   },
   {
    "duration": 28,
    "start_time": "2021-07-04T09:36:02.282Z"
   },
   {
    "duration": 16,
    "start_time": "2021-07-04T09:36:02.313Z"
   },
   {
    "duration": 18,
    "start_time": "2021-07-04T09:36:02.331Z"
   },
   {
    "duration": 60,
    "start_time": "2021-07-04T09:36:02.353Z"
   },
   {
    "duration": 8,
    "start_time": "2021-07-04T09:36:09.653Z"
   },
   {
    "duration": 2458,
    "start_time": "2021-07-04T09:36:25.081Z"
   },
   {
    "duration": 57,
    "start_time": "2021-07-04T09:36:27.545Z"
   },
   {
    "duration": 4,
    "start_time": "2021-07-04T09:36:27.608Z"
   },
   {
    "duration": 9,
    "start_time": "2021-07-04T09:36:27.617Z"
   },
   {
    "duration": 19,
    "start_time": "2021-07-04T09:36:27.629Z"
   },
   {
    "duration": 57,
    "start_time": "2021-07-04T09:36:27.652Z"
   },
   {
    "duration": 11,
    "start_time": "2021-07-04T09:36:27.712Z"
   },
   {
    "duration": 18,
    "start_time": "2021-07-04T09:36:27.725Z"
   },
   {
    "duration": 6,
    "start_time": "2021-07-04T09:36:27.745Z"
   },
   {
    "duration": 69,
    "start_time": "2021-07-04T09:36:27.753Z"
   },
   {
    "duration": 7,
    "start_time": "2021-07-04T09:36:28.265Z"
   },
   {
    "duration": 8,
    "start_time": "2021-07-04T09:36:28.481Z"
   },
   {
    "duration": 6,
    "start_time": "2021-07-04T09:36:29.353Z"
   },
   {
    "duration": 6,
    "start_time": "2021-07-04T09:36:29.833Z"
   },
   {
    "duration": 8,
    "start_time": "2021-07-04T09:36:30.033Z"
   },
   {
    "duration": 5,
    "start_time": "2021-07-04T09:36:30.281Z"
   },
   {
    "duration": 18,
    "start_time": "2021-07-04T09:36:30.721Z"
   },
   {
    "duration": 14,
    "start_time": "2021-07-04T09:36:37.153Z"
   },
   {
    "duration": 19,
    "start_time": "2021-07-04T09:36:41.898Z"
   },
   {
    "duration": 9,
    "start_time": "2021-07-04T09:36:43.752Z"
   },
   {
    "duration": 320,
    "start_time": "2021-07-04T09:36:44.665Z"
   },
   {
    "duration": 8,
    "start_time": "2021-07-04T09:36:45.119Z"
   },
   {
    "duration": 310,
    "start_time": "2021-07-04T09:36:45.441Z"
   },
   {
    "duration": 12,
    "start_time": "2021-07-04T09:36:45.755Z"
   },
   {
    "duration": 10,
    "start_time": "2021-07-04T09:37:00.081Z"
   },
   {
    "duration": 394,
    "start_time": "2021-07-04T09:37:02.329Z"
   },
   {
    "duration": 6,
    "start_time": "2021-07-04T09:37:05.568Z"
   },
   {
    "duration": 385,
    "start_time": "2021-07-04T09:37:05.912Z"
   },
   {
    "duration": 7,
    "start_time": "2021-07-04T09:37:11.193Z"
   },
   {
    "duration": 9,
    "start_time": "2021-07-04T09:37:11.376Z"
   },
   {
    "duration": 948,
    "start_time": "2021-07-04T09:37:11.514Z"
   },
   {
    "duration": 20,
    "start_time": "2021-07-04T09:38:07.736Z"
   },
   {
    "duration": 10,
    "start_time": "2021-07-04T09:44:43.035Z"
   },
   {
    "duration": 12,
    "start_time": "2021-07-04T09:45:13.395Z"
   },
   {
    "duration": 10,
    "start_time": "2021-07-04T09:45:36.644Z"
   },
   {
    "duration": 9,
    "start_time": "2021-07-04T09:45:40.227Z"
   },
   {
    "duration": 372,
    "start_time": "2021-07-04T09:46:36.970Z"
   },
   {
    "duration": 15,
    "start_time": "2021-07-04T09:46:50.426Z"
   },
   {
    "duration": 16,
    "start_time": "2021-07-04T09:47:11.354Z"
   },
   {
    "duration": 5,
    "start_time": "2021-07-04T09:52:02.622Z"
   },
   {
    "duration": 5,
    "start_time": "2021-07-04T09:54:52.045Z"
   },
   {
    "duration": 4,
    "start_time": "2021-07-04T09:56:50.157Z"
   },
   {
    "duration": 10777,
    "start_time": "2021-07-04T09:57:00.668Z"
   },
   {
    "duration": 23,
    "start_time": "2021-07-04T09:57:28.365Z"
   },
   {
    "duration": 4,
    "start_time": "2021-07-04T09:57:59.834Z"
   },
   {
    "duration": 5,
    "start_time": "2021-07-04T09:58:10.787Z"
   },
   {
    "duration": 5,
    "start_time": "2021-07-04T09:58:18.866Z"
   },
   {
    "duration": 4,
    "start_time": "2021-07-04T09:58:27.923Z"
   },
   {
    "duration": 5,
    "start_time": "2021-07-04T09:58:28.123Z"
   },
   {
    "duration": 365,
    "start_time": "2021-07-04T09:58:53.787Z"
   },
   {
    "duration": 3,
    "start_time": "2021-07-04T09:58:54.267Z"
   },
   {
    "duration": 5,
    "start_time": "2021-07-04T10:02:44.816Z"
   },
   {
    "duration": 22,
    "start_time": "2021-07-04T10:02:49.360Z"
   },
   {
    "duration": 1960,
    "start_time": "2021-07-04T10:05:08.330Z"
   },
   {
    "duration": 54,
    "start_time": "2021-07-04T10:05:10.294Z"
   },
   {
    "duration": 18,
    "start_time": "2021-07-04T10:05:10.351Z"
   },
   {
    "duration": 27,
    "start_time": "2021-07-04T10:05:10.371Z"
   },
   {
    "duration": 38,
    "start_time": "2021-07-04T10:05:10.400Z"
   },
   {
    "duration": 27,
    "start_time": "2021-07-04T10:05:10.441Z"
   },
   {
    "duration": 28,
    "start_time": "2021-07-04T10:05:10.471Z"
   },
   {
    "duration": 14,
    "start_time": "2021-07-04T10:05:10.657Z"
   },
   {
    "duration": 6,
    "start_time": "2021-07-04T10:05:11.282Z"
   },
   {
    "duration": 18,
    "start_time": "2021-07-04T10:05:11.489Z"
   },
   {
    "duration": 12,
    "start_time": "2021-07-04T10:05:12.370Z"
   },
   {
    "duration": 9,
    "start_time": "2021-07-04T10:05:12.584Z"
   },
   {
    "duration": 6,
    "start_time": "2021-07-04T10:05:12.784Z"
   },
   {
    "duration": 6,
    "start_time": "2021-07-04T10:05:13.177Z"
   },
   {
    "duration": 8,
    "start_time": "2021-07-04T10:05:13.401Z"
   },
   {
    "duration": 6,
    "start_time": "2021-07-04T10:05:13.623Z"
   },
   {
    "duration": 16,
    "start_time": "2021-07-04T10:05:14.082Z"
   },
   {
    "duration": 15,
    "start_time": "2021-07-04T10:05:14.297Z"
   },
   {
    "duration": 16,
    "start_time": "2021-07-04T10:05:14.930Z"
   },
   {
    "duration": 8,
    "start_time": "2021-07-04T10:05:15.424Z"
   },
   {
    "duration": 321,
    "start_time": "2021-07-04T10:05:15.689Z"
   },
   {
    "duration": 8,
    "start_time": "2021-07-04T10:05:16.012Z"
   },
   {
    "duration": 280,
    "start_time": "2021-07-04T10:05:16.089Z"
   },
   {
    "duration": 13,
    "start_time": "2021-07-04T10:05:16.372Z"
   },
   {
    "duration": 397,
    "start_time": "2021-07-04T10:05:16.737Z"
   },
   {
    "duration": 5,
    "start_time": "2021-07-04T10:05:17.152Z"
   },
   {
    "duration": 381,
    "start_time": "2021-07-04T10:05:17.368Z"
   },
   {
    "duration": 19,
    "start_time": "2021-07-04T10:05:17.752Z"
   },
   {
    "duration": 541,
    "start_time": "2021-07-04T10:05:17.827Z"
   },
   {
    "duration": -131,
    "start_time": "2021-07-04T10:05:18.502Z"
   },
   {
    "duration": -133,
    "start_time": "2021-07-04T10:05:18.506Z"
   },
   {
    "duration": 26,
    "start_time": "2021-07-04T10:05:31.858Z"
   },
   {
    "duration": 342,
    "start_time": "2021-07-04T10:05:51.296Z"
   },
   {
    "duration": 67567,
    "start_time": "2021-07-04T10:06:26.584Z"
   },
   {
    "duration": 19,
    "start_time": "2021-07-04T10:09:09.310Z"
   },
   {
    "duration": 21,
    "start_time": "2021-07-04T10:09:17.192Z"
   },
   {
    "duration": 1945,
    "start_time": "2021-07-04T10:19:01.747Z"
   },
   {
    "duration": 55,
    "start_time": "2021-07-04T10:19:03.694Z"
   },
   {
    "duration": 4,
    "start_time": "2021-07-04T10:19:03.752Z"
   },
   {
    "duration": 12,
    "start_time": "2021-07-04T10:19:03.759Z"
   },
   {
    "duration": 22,
    "start_time": "2021-07-04T10:19:03.774Z"
   },
   {
    "duration": 17,
    "start_time": "2021-07-04T10:19:03.798Z"
   },
   {
    "duration": 17,
    "start_time": "2021-07-04T10:19:03.817Z"
   },
   {
    "duration": 13,
    "start_time": "2021-07-04T10:19:04.027Z"
   },
   {
    "duration": 6,
    "start_time": "2021-07-04T10:19:04.619Z"
   },
   {
    "duration": 22,
    "start_time": "2021-07-04T10:19:04.835Z"
   },
   {
    "duration": 14,
    "start_time": "2021-07-04T10:19:05.634Z"
   },
   {
    "duration": 8,
    "start_time": "2021-07-04T10:19:05.834Z"
   },
   {
    "duration": 5,
    "start_time": "2021-07-04T10:19:06.026Z"
   },
   {
    "duration": 6,
    "start_time": "2021-07-04T10:19:06.442Z"
   },
   {
    "duration": 9,
    "start_time": "2021-07-04T10:19:06.650Z"
   },
   {
    "duration": 5,
    "start_time": "2021-07-04T10:19:06.858Z"
   },
   {
    "duration": 17,
    "start_time": "2021-07-04T10:19:07.258Z"
   },
   {
    "duration": 15,
    "start_time": "2021-07-04T10:19:07.459Z"
   },
   {
    "duration": 17,
    "start_time": "2021-07-04T10:19:08.267Z"
   },
   {
    "duration": 9,
    "start_time": "2021-07-04T10:19:08.705Z"
   },
   {
    "duration": 470,
    "start_time": "2021-07-04T10:19:08.930Z"
   },
   {
    "duration": 9,
    "start_time": "2021-07-04T10:19:09.403Z"
   },
   {
    "duration": 328,
    "start_time": "2021-07-04T10:19:09.415Z"
   },
   {
    "duration": 18,
    "start_time": "2021-07-04T10:19:09.747Z"
   },
   {
    "duration": 400,
    "start_time": "2021-07-04T10:19:09.978Z"
   },
   {
    "duration": 5,
    "start_time": "2021-07-04T10:19:14.947Z"
   },
   {
    "duration": 364,
    "start_time": "2021-07-04T10:19:15.162Z"
   },
   {
    "duration": 20,
    "start_time": "2021-07-04T10:19:16.482Z"
   },
   {
    "duration": 539,
    "start_time": "2021-07-04T10:19:16.698Z"
   },
   {
    "duration": 19,
    "start_time": "2021-07-04T10:19:28.426Z"
   },
   {
    "duration": 22,
    "start_time": "2021-07-04T10:19:32.475Z"
   },
   {
    "duration": 622,
    "start_time": "2021-07-04T10:21:43.979Z"
   },
   {
    "duration": 377,
    "start_time": "2021-07-04T10:22:40.288Z"
   },
   {
    "duration": 644,
    "start_time": "2021-07-04T10:22:44.568Z"
   },
   {
    "duration": 21,
    "start_time": "2021-07-04T10:23:24.335Z"
   },
   {
    "duration": 122,
    "start_time": "2021-07-04T10:26:00.606Z"
   },
   {
    "duration": 347,
    "start_time": "2021-07-04T10:26:06.662Z"
   },
   {
    "duration": 453,
    "start_time": "2021-07-04T10:27:22.470Z"
   },
   {
    "duration": 474,
    "start_time": "2021-07-04T10:27:41.196Z"
   },
   {
    "duration": 729,
    "start_time": "2021-07-04T10:28:22.084Z"
   },
   {
    "duration": 17,
    "start_time": "2021-07-04T10:29:50.860Z"
   },
   {
    "duration": 488,
    "start_time": "2021-07-04T10:29:55.556Z"
   },
   {
    "duration": 17,
    "start_time": "2021-07-04T10:30:46.899Z"
   },
   {
    "duration": 15,
    "start_time": "2021-07-04T10:35:06.088Z"
   },
   {
    "duration": 1175,
    "start_time": "2021-07-04T10:35:10.230Z"
   },
   {
    "duration": 25,
    "start_time": "2021-07-04T10:35:35.257Z"
   },
   {
    "duration": 430,
    "start_time": "2021-07-04T10:35:38.409Z"
   },
   {
    "duration": 408,
    "start_time": "2021-07-04T10:35:54.687Z"
   },
   {
    "duration": 7,
    "start_time": "2021-07-04T10:38:18.238Z"
   },
   {
    "duration": 412,
    "start_time": "2021-07-04T10:38:40.334Z"
   },
   {
    "duration": 7,
    "start_time": "2021-07-04T10:38:50.621Z"
   },
   {
    "duration": 139,
    "start_time": "2021-07-04T10:48:56.541Z"
   },
   {
    "duration": 119,
    "start_time": "2021-07-04T10:49:15.479Z"
   },
   {
    "duration": 340,
    "start_time": "2021-07-04T10:49:21.432Z"
   },
   {
    "duration": 18,
    "start_time": "2021-07-04T10:49:37.287Z"
   },
   {
    "duration": 1430,
    "start_time": "2021-07-04T10:49:40.381Z"
   },
   {
    "duration": 18,
    "start_time": "2021-07-04T10:51:26.198Z"
   },
   {
    "duration": 412,
    "start_time": "2021-07-04T10:51:30.485Z"
   },
   {
    "duration": 18,
    "start_time": "2021-07-04T10:52:23.356Z"
   },
   {
    "duration": 410,
    "start_time": "2021-07-04T10:52:38.221Z"
   },
   {
    "duration": 398,
    "start_time": "2021-07-04T10:52:54.533Z"
   },
   {
    "duration": 481,
    "start_time": "2021-07-04T10:53:30.628Z"
   },
   {
    "duration": 121,
    "start_time": "2021-07-04T10:53:44.034Z"
   },
   {
    "duration": 489,
    "start_time": "2021-07-04T10:53:49.292Z"
   },
   {
    "duration": 5,
    "start_time": "2021-07-04T11:01:05.459Z"
   },
   {
    "duration": 8871,
    "start_time": "2021-07-04T11:02:43.974Z"
   },
   {
    "duration": 413,
    "start_time": "2021-07-04T11:02:55.232Z"
   },
   {
    "duration": 571,
    "start_time": "2021-07-04T11:03:16.710Z"
   },
   {
    "duration": 517,
    "start_time": "2021-07-04T11:04:06.565Z"
   },
   {
    "duration": 434,
    "start_time": "2021-07-04T11:04:16.974Z"
   },
   {
    "duration": 383,
    "start_time": "2021-07-04T11:04:27.437Z"
   },
   {
    "duration": 452,
    "start_time": "2021-07-04T11:04:33.003Z"
   },
   {
    "duration": 426,
    "start_time": "2021-07-04T11:06:01.277Z"
   },
   {
    "duration": 9176,
    "start_time": "2021-07-04T11:08:01.674Z"
   },
   {
    "duration": 7,
    "start_time": "2021-07-04T11:08:19.083Z"
   },
   {
    "duration": 9,
    "start_time": "2021-07-04T11:08:41.954Z"
   },
   {
    "duration": 598,
    "start_time": "2021-07-04T11:09:02.074Z"
   },
   {
    "duration": 405,
    "start_time": "2021-07-04T11:09:47.345Z"
   },
   {
    "duration": 7,
    "start_time": "2021-07-04T11:10:33.792Z"
   },
   {
    "duration": 416,
    "start_time": "2021-07-04T11:10:49.696Z"
   },
   {
    "duration": 475,
    "start_time": "2021-07-04T11:11:10.377Z"
   },
   {
    "duration": 26,
    "start_time": "2021-07-04T11:20:23.223Z"
   },
   {
    "duration": 20,
    "start_time": "2021-07-04T11:22:02.600Z"
   },
   {
    "duration": 23,
    "start_time": "2021-07-04T11:22:03.720Z"
   },
   {
    "duration": 433,
    "start_time": "2021-07-04T11:24:13.049Z"
   },
   {
    "duration": 361,
    "start_time": "2021-07-04T11:24:45.489Z"
   },
   {
    "duration": 492,
    "start_time": "2021-07-04T12:17:42.189Z"
   },
   {
    "duration": 481,
    "start_time": "2021-07-04T12:17:50.421Z"
   },
   {
    "duration": 938,
    "start_time": "2021-07-04T12:18:32.693Z"
   },
   {
    "duration": 707,
    "start_time": "2021-07-04T12:22:57.970Z"
   },
   {
    "duration": 480,
    "start_time": "2021-07-04T12:23:22.441Z"
   },
   {
    "duration": 718,
    "start_time": "2021-07-04T12:24:05.562Z"
   },
   {
    "duration": 485,
    "start_time": "2021-07-04T12:24:30.217Z"
   },
   {
    "duration": 6,
    "start_time": "2021-07-04T12:32:39.009Z"
   },
   {
    "duration": 18,
    "start_time": "2021-07-04T12:33:43.163Z"
   },
   {
    "duration": 1986,
    "start_time": "2021-07-04T12:33:53.937Z"
   },
   {
    "duration": 57,
    "start_time": "2021-07-04T12:33:55.926Z"
   },
   {
    "duration": 5,
    "start_time": "2021-07-04T12:33:55.985Z"
   },
   {
    "duration": 17,
    "start_time": "2021-07-04T12:33:55.992Z"
   },
   {
    "duration": 32,
    "start_time": "2021-07-04T12:33:56.011Z"
   },
   {
    "duration": 12,
    "start_time": "2021-07-04T12:33:56.046Z"
   },
   {
    "duration": 13,
    "start_time": "2021-07-04T12:33:56.061Z"
   },
   {
    "duration": 14,
    "start_time": "2021-07-04T12:33:56.377Z"
   },
   {
    "duration": 7,
    "start_time": "2021-07-04T12:33:57.026Z"
   },
   {
    "duration": 21,
    "start_time": "2021-07-04T12:33:57.233Z"
   },
   {
    "duration": 13,
    "start_time": "2021-07-04T12:33:59.393Z"
   },
   {
    "duration": 9,
    "start_time": "2021-07-04T12:33:59.602Z"
   },
   {
    "duration": 6,
    "start_time": "2021-07-04T12:33:59.776Z"
   },
   {
    "duration": 6,
    "start_time": "2021-07-04T12:34:00.153Z"
   },
   {
    "duration": 9,
    "start_time": "2021-07-04T12:34:00.345Z"
   },
   {
    "duration": 6,
    "start_time": "2021-07-04T12:34:00.529Z"
   },
   {
    "duration": 18,
    "start_time": "2021-07-04T12:34:00.977Z"
   },
   {
    "duration": 15,
    "start_time": "2021-07-04T12:34:01.218Z"
   },
   {
    "duration": 17,
    "start_time": "2021-07-04T12:34:07.322Z"
   },
   {
    "duration": 8,
    "start_time": "2021-07-04T12:34:07.737Z"
   },
   {
    "duration": 339,
    "start_time": "2021-07-04T12:34:12.289Z"
   },
   {
    "duration": 8,
    "start_time": "2021-07-04T12:34:12.630Z"
   },
   {
    "duration": 296,
    "start_time": "2021-07-04T12:34:12.672Z"
   },
   {
    "duration": 38,
    "start_time": "2021-07-04T12:34:12.972Z"
   },
   {
    "duration": 8,
    "start_time": "2021-07-04T12:34:13.057Z"
   },
   {
    "duration": 541,
    "start_time": "2021-07-04T12:34:34.265Z"
   },
   {
    "duration": 7,
    "start_time": "2021-07-04T12:34:48.768Z"
   },
   {
    "duration": 525,
    "start_time": "2021-07-04T12:34:49.777Z"
   },
   {
    "duration": 6,
    "start_time": "2021-07-04T12:34:53.056Z"
   },
   {
    "duration": 402,
    "start_time": "2021-07-04T12:34:53.248Z"
   },
   {
    "duration": 6,
    "start_time": "2021-07-04T12:34:57.305Z"
   },
   {
    "duration": 19,
    "start_time": "2021-07-04T12:34:58.488Z"
   },
   {
    "duration": 501,
    "start_time": "2021-07-04T12:35:01.617Z"
   },
   {
    "duration": 21,
    "start_time": "2021-07-04T12:38:32.126Z"
   },
   {
    "duration": 6,
    "start_time": "2021-07-04T12:40:45.653Z"
   },
   {
    "duration": 414,
    "start_time": "2021-07-04T12:40:46.341Z"
   },
   {
    "duration": 22,
    "start_time": "2021-07-04T12:41:19.044Z"
   },
   {
    "duration": 466,
    "start_time": "2021-07-04T12:41:21.116Z"
   },
   {
    "duration": 29,
    "start_time": "2021-07-04T12:47:33.210Z"
   },
   {
    "duration": 8,
    "start_time": "2021-07-04T12:50:49.367Z"
   },
   {
    "duration": 9,
    "start_time": "2021-07-04T12:51:12.557Z"
   },
   {
    "duration": 12,
    "start_time": "2021-07-04T12:51:17.598Z"
   },
   {
    "duration": 13,
    "start_time": "2021-07-04T12:51:35.278Z"
   },
   {
    "duration": 18,
    "start_time": "2021-07-04T12:51:35.917Z"
   },
   {
    "duration": 112,
    "start_time": "2021-07-04T12:53:02.486Z"
   },
   {
    "duration": 362,
    "start_time": "2021-07-04T12:53:14.623Z"
   },
   {
    "duration": 18,
    "start_time": "2021-07-04T12:53:22.006Z"
   },
   {
    "duration": 4,
    "start_time": "2021-07-04T12:54:26.158Z"
   },
   {
    "duration": 448,
    "start_time": "2021-07-04T12:55:51.699Z"
   },
   {
    "duration": 516,
    "start_time": "2021-07-04T12:56:04.421Z"
   },
   {
    "duration": 782,
    "start_time": "2021-07-04T12:57:52.434Z"
   },
   {
    "duration": 968,
    "start_time": "2021-07-04T13:00:08.105Z"
   },
   {
    "duration": 20,
    "start_time": "2021-07-04T13:05:12.574Z"
   },
   {
    "duration": 9104,
    "start_time": "2021-07-04T13:05:27.606Z"
   },
   {
    "duration": 26,
    "start_time": "2021-07-04T13:06:12.214Z"
   },
   {
    "duration": 909,
    "start_time": "2021-07-04T13:06:18.724Z"
   },
   {
    "duration": 10,
    "start_time": "2021-07-04T13:06:56.355Z"
   },
   {
    "duration": 19,
    "start_time": "2021-07-04T13:07:53.357Z"
   },
   {
    "duration": 976,
    "start_time": "2021-07-04T13:07:59.987Z"
   },
   {
    "duration": 4,
    "start_time": "2021-07-04T13:09:05.082Z"
   },
   {
    "duration": 9,
    "start_time": "2021-07-04T13:09:20.018Z"
   },
   {
    "duration": 1157,
    "start_time": "2021-07-04T13:09:27.258Z"
   },
   {
    "duration": 5,
    "start_time": "2021-07-04T13:10:26.393Z"
   },
   {
    "duration": 6,
    "start_time": "2021-07-04T13:10:47.785Z"
   },
   {
    "duration": 19,
    "start_time": "2021-07-04T13:13:25.352Z"
   },
   {
    "duration": 5,
    "start_time": "2021-07-04T13:13:25.430Z"
   },
   {
    "duration": 423,
    "start_time": "2021-07-04T13:13:31.535Z"
   },
   {
    "duration": 17,
    "start_time": "2021-07-04T13:23:17.890Z"
   },
   {
    "duration": 405,
    "start_time": "2021-07-04T13:23:21.977Z"
   },
   {
    "duration": 403,
    "start_time": "2021-07-04T13:23:35.889Z"
   },
   {
    "duration": 505,
    "start_time": "2021-07-04T13:24:27.016Z"
   },
   {
    "duration": 17,
    "start_time": "2021-07-04T13:26:26.031Z"
   },
   {
    "duration": 399,
    "start_time": "2021-07-04T13:26:30.094Z"
   },
   {
    "duration": 401,
    "start_time": "2021-07-04T13:26:34.582Z"
   },
   {
    "duration": 17,
    "start_time": "2021-07-04T13:29:48.278Z"
   },
   {
    "duration": 739,
    "start_time": "2021-07-04T13:29:51.764Z"
   },
   {
    "duration": 696,
    "start_time": "2021-07-04T13:30:12.908Z"
   },
   {
    "duration": 17,
    "start_time": "2021-07-04T13:30:40.100Z"
   },
   {
    "duration": 407,
    "start_time": "2021-07-04T13:30:43.588Z"
   },
   {
    "duration": 377,
    "start_time": "2021-07-04T13:30:54.435Z"
   },
   {
    "duration": 486,
    "start_time": "2021-07-04T13:30:59.300Z"
   },
   {
    "duration": 502,
    "start_time": "2021-07-04T13:31:08.196Z"
   },
   {
    "duration": 20,
    "start_time": "2021-07-04T13:31:59.956Z"
   },
   {
    "duration": 375,
    "start_time": "2021-07-04T13:32:03.459Z"
   },
   {
    "duration": 17,
    "start_time": "2021-07-04T13:32:38.892Z"
   },
   {
    "duration": 396,
    "start_time": "2021-07-04T13:32:43.354Z"
   },
   {
    "duration": 508,
    "start_time": "2021-07-04T13:32:48.662Z"
   },
   {
    "duration": 500,
    "start_time": "2021-07-04T13:32:52.770Z"
   },
   {
    "duration": 18,
    "start_time": "2021-07-04T13:33:34.618Z"
   },
   {
    "duration": 464,
    "start_time": "2021-07-04T13:33:40.801Z"
   },
   {
    "duration": 16,
    "start_time": "2021-07-04T13:33:57.962Z"
   },
   {
    "duration": 490,
    "start_time": "2021-07-04T13:34:01.802Z"
   },
   {
    "duration": 423,
    "start_time": "2021-07-04T13:34:16.961Z"
   },
   {
    "duration": 489,
    "start_time": "2021-07-04T13:34:25.337Z"
   },
   {
    "duration": 428,
    "start_time": "2021-07-04T13:36:02.858Z"
   },
   {
    "duration": 6,
    "start_time": "2021-07-04T13:42:20.386Z"
   },
   {
    "duration": 6,
    "start_time": "2021-07-04T13:43:08.308Z"
   },
   {
    "duration": 452,
    "start_time": "2021-07-04T13:52:14.332Z"
   },
   {
    "duration": 463,
    "start_time": "2021-07-04T13:52:23.668Z"
   },
   {
    "duration": 7,
    "start_time": "2021-07-04T13:54:22.733Z"
   },
   {
    "duration": 6,
    "start_time": "2021-07-04T13:54:53.324Z"
   },
   {
    "duration": 110,
    "start_time": "2021-07-04T13:57:34.330Z"
   },
   {
    "duration": 383,
    "start_time": "2021-07-04T13:59:52.930Z"
   },
   {
    "duration": 714,
    "start_time": "2021-07-04T14:00:04.746Z"
   },
   {
    "duration": 438,
    "start_time": "2021-07-04T14:00:13.257Z"
   },
   {
    "duration": 760,
    "start_time": "2021-07-04T14:00:49.512Z"
   },
   {
    "duration": 396,
    "start_time": "2021-07-04T14:01:56.278Z"
   },
   {
    "duration": 7,
    "start_time": "2021-07-04T14:01:56.677Z"
   },
   {
    "duration": 809,
    "start_time": "2021-07-04T14:02:51.575Z"
   },
   {
    "duration": 127,
    "start_time": "2021-07-04T14:03:57.830Z"
   },
   {
    "duration": 924,
    "start_time": "2021-07-04T14:04:04.726Z"
   },
   {
    "duration": 136,
    "start_time": "2021-07-04T14:07:19.357Z"
   },
   {
    "duration": 404,
    "start_time": "2021-07-04T14:07:23.084Z"
   },
   {
    "duration": 481,
    "start_time": "2021-07-04T14:08:32.603Z"
   },
   {
    "duration": 495,
    "start_time": "2021-07-04T14:08:58.165Z"
   },
   {
    "duration": 453,
    "start_time": "2021-07-04T14:09:02.570Z"
   },
   {
    "duration": 454,
    "start_time": "2021-07-04T14:09:12.019Z"
   },
   {
    "duration": 18,
    "start_time": "2021-07-04T14:37:06.917Z"
   },
   {
    "duration": 391,
    "start_time": "2021-07-04T14:37:23.758Z"
   },
   {
    "duration": 12,
    "start_time": "2021-07-04T14:37:30.192Z"
   },
   {
    "duration": 10,
    "start_time": "2021-07-04T14:40:04.856Z"
   },
   {
    "duration": 13,
    "start_time": "2021-07-04T14:43:32.766Z"
   },
   {
    "duration": 8743,
    "start_time": "2021-07-04T14:43:52.021Z"
   },
   {
    "duration": 10,
    "start_time": "2021-07-04T14:44:10.428Z"
   },
   {
    "duration": 17,
    "start_time": "2021-07-04T14:44:47.564Z"
   },
   {
    "duration": 13,
    "start_time": "2021-07-04T14:45:46.371Z"
   },
   {
    "duration": 16,
    "start_time": "2021-07-04T14:46:53.642Z"
   },
   {
    "duration": 19,
    "start_time": "2021-07-04T14:46:59.410Z"
   },
   {
    "duration": 17,
    "start_time": "2021-07-04T14:59:49.727Z"
   },
   {
    "duration": 437,
    "start_time": "2021-07-04T15:00:01.889Z"
   },
   {
    "duration": 359,
    "start_time": "2021-07-04T15:00:07.691Z"
   },
   {
    "duration": 13,
    "start_time": "2021-07-04T15:00:12.018Z"
   },
   {
    "duration": 363,
    "start_time": "2021-07-04T15:03:26.168Z"
   },
   {
    "duration": 5,
    "start_time": "2021-07-04T15:04:50.975Z"
   },
   {
    "duration": 22,
    "start_time": "2021-07-04T15:04:51.159Z"
   },
   {
    "duration": 10,
    "start_time": "2021-07-04T15:04:55.528Z"
   },
   {
    "duration": 7,
    "start_time": "2021-07-04T15:05:08.335Z"
   },
   {
    "duration": 18,
    "start_time": "2021-07-04T15:05:22.992Z"
   },
   {
    "duration": 7,
    "start_time": "2021-07-04T15:05:23.671Z"
   },
   {
    "duration": 5,
    "start_time": "2021-07-04T15:07:44.715Z"
   },
   {
    "duration": 8,
    "start_time": "2021-07-04T15:07:46.612Z"
   },
   {
    "duration": 17,
    "start_time": "2021-07-04T15:08:08.597Z"
   },
   {
    "duration": 8,
    "start_time": "2021-07-04T15:08:09.140Z"
   },
   {
    "duration": 5,
    "start_time": "2021-07-04T15:09:13.082Z"
   },
   {
    "duration": 20,
    "start_time": "2021-07-04T15:09:14.927Z"
   },
   {
    "duration": 10,
    "start_time": "2021-07-04T15:09:16.684Z"
   },
   {
    "duration": 22,
    "start_time": "2021-07-04T15:09:37.779Z"
   },
   {
    "duration": 21,
    "start_time": "2021-07-04T15:09:39.180Z"
   },
   {
    "duration": 6,
    "start_time": "2021-07-04T15:09:41.916Z"
   },
   {
    "duration": 20,
    "start_time": "2021-07-04T15:09:42.859Z"
   },
   {
    "duration": 7,
    "start_time": "2021-07-04T15:09:43.412Z"
   },
   {
    "duration": 8,
    "start_time": "2021-07-04T15:11:29.979Z"
   },
   {
    "duration": 7,
    "start_time": "2021-07-04T15:11:55.434Z"
   },
   {
    "duration": 8,
    "start_time": "2021-07-04T15:11:55.666Z"
   },
   {
    "duration": 25,
    "start_time": "2021-07-04T15:11:55.898Z"
   },
   {
    "duration": 10,
    "start_time": "2021-07-04T15:11:56.803Z"
   },
   {
    "duration": 20,
    "start_time": "2021-07-04T15:16:39.905Z"
   },
   {
    "duration": 7,
    "start_time": "2021-07-04T15:16:40.823Z"
   },
   {
    "duration": 17,
    "start_time": "2021-07-04T15:16:52.470Z"
   },
   {
    "duration": 7,
    "start_time": "2021-07-04T15:16:53.071Z"
   },
   {
    "duration": 17,
    "start_time": "2021-07-04T15:18:45.398Z"
   },
   {
    "duration": 9,
    "start_time": "2021-07-04T15:18:45.982Z"
   },
   {
    "duration": 5,
    "start_time": "2021-07-04T15:19:04.622Z"
   },
   {
    "duration": 7,
    "start_time": "2021-07-04T15:19:04.860Z"
   },
   {
    "duration": 20,
    "start_time": "2021-07-04T15:19:05.141Z"
   },
   {
    "duration": 8,
    "start_time": "2021-07-04T15:19:05.725Z"
   },
   {
    "duration": 2074,
    "start_time": "2021-07-04T15:19:19.383Z"
   },
   {
    "duration": 55,
    "start_time": "2021-07-04T15:19:21.460Z"
   },
   {
    "duration": 5,
    "start_time": "2021-07-04T15:19:21.519Z"
   },
   {
    "duration": 15,
    "start_time": "2021-07-04T15:19:21.527Z"
   },
   {
    "duration": 67,
    "start_time": "2021-07-04T15:19:21.546Z"
   },
   {
    "duration": 12,
    "start_time": "2021-07-04T15:19:21.617Z"
   },
   {
    "duration": 14,
    "start_time": "2021-07-04T15:19:21.633Z"
   },
   {
    "duration": 19,
    "start_time": "2021-07-04T15:19:21.983Z"
   },
   {
    "duration": 9,
    "start_time": "2021-07-04T15:19:22.647Z"
   },
   {
    "duration": 21,
    "start_time": "2021-07-04T15:19:22.887Z"
   },
   {
    "duration": 13,
    "start_time": "2021-07-04T15:19:23.725Z"
   },
   {
    "duration": 8,
    "start_time": "2021-07-04T15:19:23.950Z"
   },
   {
    "duration": 5,
    "start_time": "2021-07-04T15:19:24.167Z"
   },
   {
    "duration": 6,
    "start_time": "2021-07-04T15:19:24.638Z"
   },
   {
    "duration": 9,
    "start_time": "2021-07-04T15:19:24.862Z"
   },
   {
    "duration": 5,
    "start_time": "2021-07-04T15:19:25.087Z"
   },
   {
    "duration": 38,
    "start_time": "2021-07-04T15:19:25.536Z"
   },
   {
    "duration": 16,
    "start_time": "2021-07-04T15:19:25.751Z"
   },
   {
    "duration": 24,
    "start_time": "2021-07-04T15:19:26.473Z"
   },
   {
    "duration": 9,
    "start_time": "2021-07-04T15:19:26.711Z"
   },
   {
    "duration": 8,
    "start_time": "2021-07-04T15:19:27.231Z"
   },
   {
    "duration": 348,
    "start_time": "2021-07-04T15:19:27.464Z"
   },
   {
    "duration": 7,
    "start_time": "2021-07-04T15:19:27.815Z"
   },
   {
    "duration": 279,
    "start_time": "2021-07-04T15:19:27.982Z"
   },
   {
    "duration": 10,
    "start_time": "2021-07-04T15:19:28.263Z"
   },
   {
    "duration": 7,
    "start_time": "2021-07-04T15:19:28.422Z"
   },
   {
    "duration": 424,
    "start_time": "2021-07-04T15:19:28.871Z"
   },
   {
    "duration": 5,
    "start_time": "2021-07-04T15:19:29.559Z"
   },
   {
    "duration": 404,
    "start_time": "2021-07-04T15:19:29.766Z"
   },
   {
    "duration": 20,
    "start_time": "2021-07-04T15:19:30.236Z"
   },
   {
    "duration": 507,
    "start_time": "2021-07-04T15:19:30.479Z"
   },
   {
    "duration": 5,
    "start_time": "2021-07-04T15:19:31.143Z"
   },
   {
    "duration": 414,
    "start_time": "2021-07-04T15:19:31.366Z"
   },
   {
    "duration": 22,
    "start_time": "2021-07-04T15:19:31.857Z"
   },
   {
    "duration": 537,
    "start_time": "2021-07-04T15:19:32.055Z"
   },
   {
    "duration": 11,
    "start_time": "2021-07-04T15:19:33.046Z"
   },
   {
    "duration": 4,
    "start_time": "2021-07-04T15:19:33.329Z"
   },
   {
    "duration": 658,
    "start_time": "2021-07-04T15:19:33.567Z"
   },
   {
    "duration": 8,
    "start_time": "2021-07-04T15:19:34.230Z"
   },
   {
    "duration": 648,
    "start_time": "2021-07-04T15:19:34.561Z"
   },
   {
    "duration": 6,
    "start_time": "2021-07-04T15:19:35.211Z"
   },
   {
    "duration": 5,
    "start_time": "2021-07-04T15:19:35.838Z"
   },
   {
    "duration": 6,
    "start_time": "2021-07-04T15:19:36.102Z"
   },
   {
    "duration": 21,
    "start_time": "2021-07-04T15:19:36.375Z"
   },
   {
    "duration": 7,
    "start_time": "2021-07-04T15:19:36.647Z"
   },
   {
    "duration": 1527,
    "start_time": "2021-07-04T15:19:36.864Z"
   },
   {
    "duration": 18,
    "start_time": "2021-07-04T15:20:07.607Z"
   },
   {
    "duration": 7,
    "start_time": "2021-07-04T15:20:11.959Z"
   },
   {
    "duration": 22,
    "start_time": "2021-07-04T15:20:20.479Z"
   },
   {
    "duration": 12,
    "start_time": "2021-07-04T15:20:20.695Z"
   },
   {
    "duration": 17,
    "start_time": "2021-07-04T15:21:42.044Z"
   },
   {
    "duration": 13,
    "start_time": "2021-07-04T15:21:42.621Z"
   },
   {
    "duration": 14,
    "start_time": "2021-07-04T15:21:46.628Z"
   },
   {
    "duration": 7,
    "start_time": "2021-07-04T15:25:03.794Z"
   },
   {
    "duration": 18,
    "start_time": "2021-07-04T15:25:06.002Z"
   },
   {
    "duration": 26,
    "start_time": "2021-07-04T15:25:10.403Z"
   },
   {
    "duration": 383,
    "start_time": "2021-07-04T15:26:08.475Z"
   },
   {
    "duration": 372,
    "start_time": "2021-07-04T15:50:25.442Z"
   },
   {
    "duration": 343,
    "start_time": "2021-07-04T15:50:38.202Z"
   },
   {
    "duration": 339,
    "start_time": "2021-07-04T15:50:45.882Z"
   },
   {
    "duration": 355,
    "start_time": "2021-07-04T15:51:06.530Z"
   },
   {
    "duration": 21,
    "start_time": "2021-07-04T15:51:15.301Z"
   },
   {
    "duration": 27,
    "start_time": "2021-07-04T15:51:16.073Z"
   },
   {
    "duration": 26,
    "start_time": "2021-07-04T15:51:57.458Z"
   },
   {
    "duration": 32,
    "start_time": "2021-07-04T15:51:57.945Z"
   },
   {
    "duration": 5,
    "start_time": "2021-07-04T15:52:22.216Z"
   },
   {
    "duration": 22,
    "start_time": "2021-07-04T15:52:22.889Z"
   },
   {
    "duration": 8,
    "start_time": "2021-07-04T15:52:24.466Z"
   },
   {
    "duration": 23,
    "start_time": "2021-07-04T15:52:28.009Z"
   },
   {
    "duration": 9,
    "start_time": "2021-07-04T15:52:28.265Z"
   },
   {
    "duration": 5,
    "start_time": "2021-07-04T15:53:05.258Z"
   },
   {
    "duration": 7,
    "start_time": "2021-07-04T15:53:05.449Z"
   },
   {
    "duration": 20,
    "start_time": "2021-07-04T15:53:05.663Z"
   },
   {
    "duration": 11,
    "start_time": "2021-07-04T15:53:05.855Z"
   },
   {
    "duration": 4,
    "start_time": "2021-07-04T15:54:36.879Z"
   },
   {
    "duration": 2058,
    "start_time": "2021-07-04T15:54:50.236Z"
   },
   {
    "duration": 60,
    "start_time": "2021-07-04T15:54:52.298Z"
   },
   {
    "duration": 4,
    "start_time": "2021-07-04T15:54:52.362Z"
   },
   {
    "duration": 24,
    "start_time": "2021-07-04T15:54:52.368Z"
   },
   {
    "duration": 32,
    "start_time": "2021-07-04T15:54:52.395Z"
   },
   {
    "duration": 9,
    "start_time": "2021-07-04T15:54:52.430Z"
   },
   {
    "duration": 24,
    "start_time": "2021-07-04T15:54:52.441Z"
   },
   {
    "duration": 19,
    "start_time": "2021-07-04T15:54:52.684Z"
   },
   {
    "duration": 7,
    "start_time": "2021-07-04T15:54:53.378Z"
   },
   {
    "duration": 24,
    "start_time": "2021-07-04T15:54:53.612Z"
   },
   {
    "duration": 14,
    "start_time": "2021-07-04T15:54:54.435Z"
   },
   {
    "duration": 8,
    "start_time": "2021-07-04T15:54:54.658Z"
   },
   {
    "duration": 6,
    "start_time": "2021-07-04T15:54:54.890Z"
   },
   {
    "duration": 6,
    "start_time": "2021-07-04T15:54:55.323Z"
   },
   {
    "duration": 9,
    "start_time": "2021-07-04T15:54:55.586Z"
   },
   {
    "duration": 5,
    "start_time": "2021-07-04T15:54:55.828Z"
   },
   {
    "duration": 25,
    "start_time": "2021-07-04T15:54:56.244Z"
   },
   {
    "duration": 17,
    "start_time": "2021-07-04T15:54:56.411Z"
   },
   {
    "duration": 15,
    "start_time": "2021-07-04T15:54:58.452Z"
   },
   {
    "duration": 5,
    "start_time": "2021-07-04T15:54:58.666Z"
   },
   {
    "duration": 9,
    "start_time": "2021-07-04T15:54:59.074Z"
   },
   {
    "duration": 340,
    "start_time": "2021-07-04T15:54:59.275Z"
   },
   {
    "duration": 10,
    "start_time": "2021-07-04T15:54:59.618Z"
   },
   {
    "duration": 279,
    "start_time": "2021-07-04T15:54:59.674Z"
   },
   {
    "duration": 10,
    "start_time": "2021-07-04T15:54:59.955Z"
   },
   {
    "duration": 6,
    "start_time": "2021-07-04T15:55:00.082Z"
   },
   {
    "duration": 425,
    "start_time": "2021-07-04T15:55:00.515Z"
   },
   {
    "duration": 5,
    "start_time": "2021-07-04T15:55:01.235Z"
   },
   {
    "duration": 478,
    "start_time": "2021-07-04T15:55:01.475Z"
   },
   {
    "duration": 19,
    "start_time": "2021-07-04T15:55:01.956Z"
   },
   {
    "duration": 517,
    "start_time": "2021-07-04T15:55:02.081Z"
   },
   {
    "duration": 6,
    "start_time": "2021-07-04T15:55:02.757Z"
   },
   {
    "duration": 530,
    "start_time": "2021-07-04T15:55:02.955Z"
   },
   {
    "duration": 42,
    "start_time": "2021-07-04T15:55:03.488Z"
   },
   {
    "duration": 547,
    "start_time": "2021-07-04T15:55:03.652Z"
   },
   {
    "duration": 10,
    "start_time": "2021-07-04T15:55:04.531Z"
   },
   {
    "duration": 4,
    "start_time": "2021-07-04T15:55:04.754Z"
   },
   {
    "duration": 479,
    "start_time": "2021-07-04T15:55:04.955Z"
   },
   {
    "duration": 6,
    "start_time": "2021-07-04T15:55:05.436Z"
   },
   {
    "duration": 607,
    "start_time": "2021-07-04T15:55:09.474Z"
   },
   {
    "duration": 7,
    "start_time": "2021-07-04T15:55:10.083Z"
   },
   {
    "duration": 8,
    "start_time": "2021-07-04T15:55:25.090Z"
   },
   {
    "duration": 5,
    "start_time": "2021-07-04T15:55:43.954Z"
   },
   {
    "duration": 7,
    "start_time": "2021-07-04T15:55:49.866Z"
   },
   {
    "duration": 16,
    "start_time": "2021-07-04T15:56:59.651Z"
   },
   {
    "duration": 12,
    "start_time": "2021-07-04T15:57:00.818Z"
   },
   {
    "duration": 700,
    "start_time": "2021-07-04T15:57:09.202Z"
   },
   {
    "duration": 9,
    "start_time": "2021-07-04T15:57:17.890Z"
   },
   {
    "duration": 18,
    "start_time": "2021-07-04T15:57:33.938Z"
   },
   {
    "duration": 9,
    "start_time": "2021-07-04T15:57:34.442Z"
   },
   {
    "duration": 1001,
    "start_time": "2021-07-04T15:58:06.138Z"
   },
   {
    "duration": -158,
    "start_time": "2021-07-04T15:58:07.300Z"
   },
   {
    "duration": 18,
    "start_time": "2021-07-04T15:58:47.968Z"
   },
   {
    "duration": 9,
    "start_time": "2021-07-04T15:58:48.985Z"
   },
   {
    "duration": 4,
    "start_time": "2021-07-04T15:59:30.777Z"
   },
   {
    "duration": 19,
    "start_time": "2021-07-04T15:59:34.152Z"
   },
   {
    "duration": 18,
    "start_time": "2021-07-04T15:59:38.056Z"
   },
   {
    "duration": 18,
    "start_time": "2021-07-04T15:59:38.728Z"
   },
   {
    "duration": 370,
    "start_time": "2021-07-04T16:24:05.010Z"
   },
   {
    "duration": 10,
    "start_time": "2021-07-04T16:24:12.646Z"
   },
   {
    "duration": 11,
    "start_time": "2021-07-04T16:25:06.176Z"
   },
   {
    "duration": 9,
    "start_time": "2021-07-04T16:25:19.080Z"
   },
   {
    "duration": 11,
    "start_time": "2021-07-04T16:25:31.263Z"
   },
   {
    "duration": 12,
    "start_time": "2021-07-04T16:25:42.559Z"
   },
   {
    "duration": 9,
    "start_time": "2021-07-04T16:25:48.816Z"
   },
   {
    "duration": 327,
    "start_time": "2021-07-04T16:27:26.630Z"
   },
   {
    "duration": 117,
    "start_time": "2021-07-04T16:27:43.174Z"
   },
   {
    "duration": 18,
    "start_time": "2021-07-04T16:27:51.119Z"
   },
   {
    "duration": 584,
    "start_time": "2021-07-04T16:32:28.451Z"
   },
   {
    "duration": 5,
    "start_time": "2021-07-04T16:32:49.083Z"
   },
   {
    "duration": 6,
    "start_time": "2021-07-04T16:34:18.658Z"
   },
   {
    "duration": 18,
    "start_time": "2021-07-04T16:38:16.135Z"
   },
   {
    "duration": 26,
    "start_time": "2021-07-04T16:38:22.193Z"
   },
   {
    "duration": 21,
    "start_time": "2021-07-04T16:38:40.928Z"
   },
   {
    "duration": 18,
    "start_time": "2021-07-04T16:38:44.078Z"
   },
   {
    "duration": 1952,
    "start_time": "2021-07-04T16:38:59.145Z"
   },
   {
    "duration": 58,
    "start_time": "2021-07-04T16:39:01.100Z"
   },
   {
    "duration": 4,
    "start_time": "2021-07-04T16:39:01.161Z"
   },
   {
    "duration": 22,
    "start_time": "2021-07-04T16:39:01.168Z"
   },
   {
    "duration": 45,
    "start_time": "2021-07-04T16:39:01.193Z"
   },
   {
    "duration": 27,
    "start_time": "2021-07-04T16:39:01.240Z"
   },
   {
    "duration": 9,
    "start_time": "2021-07-04T16:39:01.298Z"
   },
   {
    "duration": 15,
    "start_time": "2021-07-04T16:39:01.737Z"
   },
   {
    "duration": 7,
    "start_time": "2021-07-04T16:39:02.364Z"
   },
   {
    "duration": 19,
    "start_time": "2021-07-04T16:39:02.649Z"
   },
   {
    "duration": 12,
    "start_time": "2021-07-04T16:39:03.586Z"
   },
   {
    "duration": 8,
    "start_time": "2021-07-04T16:39:03.801Z"
   },
   {
    "duration": 5,
    "start_time": "2021-07-04T16:39:04.002Z"
   },
   {
    "duration": 6,
    "start_time": "2021-07-04T16:39:04.479Z"
   },
   {
    "duration": 8,
    "start_time": "2021-07-04T16:39:04.743Z"
   },
   {
    "duration": 6,
    "start_time": "2021-07-04T16:39:04.953Z"
   },
   {
    "duration": 19,
    "start_time": "2021-07-04T16:39:05.401Z"
   },
   {
    "duration": 16,
    "start_time": "2021-07-04T16:39:05.831Z"
   },
   {
    "duration": 16,
    "start_time": "2021-07-04T16:39:06.547Z"
   },
   {
    "duration": 5,
    "start_time": "2021-07-04T16:39:06.770Z"
   },
   {
    "duration": 9,
    "start_time": "2021-07-04T16:39:07.233Z"
   },
   {
    "duration": 330,
    "start_time": "2021-07-04T16:39:07.466Z"
   },
   {
    "duration": 13,
    "start_time": "2021-07-04T16:39:07.799Z"
   },
   {
    "duration": 280,
    "start_time": "2021-07-04T16:39:07.904Z"
   },
   {
    "duration": 22,
    "start_time": "2021-07-04T16:39:08.186Z"
   },
   {
    "duration": 8,
    "start_time": "2021-07-04T16:39:08.312Z"
   },
   {
    "duration": 424,
    "start_time": "2021-07-04T16:39:08.992Z"
   },
   {
    "duration": 6,
    "start_time": "2021-07-04T16:39:09.701Z"
   },
   {
    "duration": 404,
    "start_time": "2021-07-04T16:39:09.914Z"
   },
   {
    "duration": 24,
    "start_time": "2021-07-04T16:39:10.332Z"
   },
   {
    "duration": 543,
    "start_time": "2021-07-04T16:39:10.538Z"
   },
   {
    "duration": 8,
    "start_time": "2021-07-04T16:39:11.257Z"
   },
   {
    "duration": 413,
    "start_time": "2021-07-04T16:39:11.481Z"
   },
   {
    "duration": 21,
    "start_time": "2021-07-04T16:39:11.933Z"
   },
   {
    "duration": 507,
    "start_time": "2021-07-04T16:39:12.176Z"
   },
   {
    "duration": 10,
    "start_time": "2021-07-04T16:39:13.081Z"
   },
   {
    "duration": 4,
    "start_time": "2021-07-04T16:39:13.304Z"
   },
   {
    "duration": 429,
    "start_time": "2021-07-04T16:39:13.545Z"
   },
   {
    "duration": 7,
    "start_time": "2021-07-04T16:39:13.978Z"
   },
   {
    "duration": 570,
    "start_time": "2021-07-04T16:39:15.321Z"
   },
   {
    "duration": 6,
    "start_time": "2021-07-04T16:39:15.893Z"
   },
   {
    "duration": 5,
    "start_time": "2021-07-04T16:39:16.448Z"
   },
   {
    "duration": 8,
    "start_time": "2021-07-04T16:39:16.673Z"
   },
   {
    "duration": 16,
    "start_time": "2021-07-04T16:39:16.784Z"
   },
   {
    "duration": 520,
    "start_time": "2021-07-04T16:39:24.953Z"
   },
   {
    "duration": 16,
    "start_time": "2021-07-04T16:39:42.610Z"
   },
   {
    "duration": 23,
    "start_time": "2021-07-04T16:39:57.810Z"
   },
   {
    "duration": 11,
    "start_time": "2021-07-04T16:40:02.585Z"
   },
   {
    "duration": 389,
    "start_time": "2021-07-04T16:40:16.817Z"
   },
   {
    "duration": 2062,
    "start_time": "2021-07-04T16:41:02.425Z"
   },
   {
    "duration": 57,
    "start_time": "2021-07-04T16:41:04.490Z"
   },
   {
    "duration": 4,
    "start_time": "2021-07-04T16:41:04.550Z"
   },
   {
    "duration": 13,
    "start_time": "2021-07-04T16:41:04.556Z"
   },
   {
    "duration": 20,
    "start_time": "2021-07-04T16:41:04.572Z"
   },
   {
    "duration": 10,
    "start_time": "2021-07-04T16:41:04.610Z"
   },
   {
    "duration": 9,
    "start_time": "2021-07-04T16:41:04.648Z"
   },
   {
    "duration": 15,
    "start_time": "2021-07-04T16:41:05.041Z"
   },
   {
    "duration": 8,
    "start_time": "2021-07-04T16:41:05.745Z"
   },
   {
    "duration": 23,
    "start_time": "2021-07-04T16:41:05.961Z"
   },
   {
    "duration": 13,
    "start_time": "2021-07-04T16:41:06.838Z"
   },
   {
    "duration": 8,
    "start_time": "2021-07-04T16:41:07.064Z"
   },
   {
    "duration": 6,
    "start_time": "2021-07-04T16:41:07.278Z"
   },
   {
    "duration": 6,
    "start_time": "2021-07-04T16:41:07.728Z"
   },
   {
    "duration": 8,
    "start_time": "2021-07-04T16:41:07.926Z"
   },
   {
    "duration": 7,
    "start_time": "2021-07-04T16:41:08.144Z"
   },
   {
    "duration": 17,
    "start_time": "2021-07-04T16:41:08.560Z"
   },
   {
    "duration": 15,
    "start_time": "2021-07-04T16:41:08.762Z"
   },
   {
    "duration": 23,
    "start_time": "2021-07-04T16:41:09.378Z"
   },
   {
    "duration": 5,
    "start_time": "2021-07-04T16:41:09.584Z"
   },
   {
    "duration": 8,
    "start_time": "2021-07-04T16:41:10.073Z"
   },
   {
    "duration": 356,
    "start_time": "2021-07-04T16:41:10.296Z"
   },
   {
    "duration": 8,
    "start_time": "2021-07-04T16:41:10.655Z"
   },
   {
    "duration": 289,
    "start_time": "2021-07-04T16:41:10.745Z"
   },
   {
    "duration": 11,
    "start_time": "2021-07-04T16:41:11.037Z"
   },
   {
    "duration": 7,
    "start_time": "2021-07-04T16:41:11.192Z"
   },
   {
    "duration": 441,
    "start_time": "2021-07-04T16:41:11.606Z"
   },
   {
    "duration": 6,
    "start_time": "2021-07-04T16:41:12.288Z"
   },
   {
    "duration": 414,
    "start_time": "2021-07-04T16:41:12.505Z"
   },
   {
    "duration": 23,
    "start_time": "2021-07-04T16:41:12.991Z"
   },
   {
    "duration": 501,
    "start_time": "2021-07-04T16:41:13.224Z"
   },
   {
    "duration": 5,
    "start_time": "2021-07-04T16:41:15.024Z"
   },
   {
    "duration": 432,
    "start_time": "2021-07-04T16:41:16.120Z"
   },
   {
    "duration": 20,
    "start_time": "2021-07-04T16:41:17.849Z"
   },
   {
    "duration": 517,
    "start_time": "2021-07-04T16:41:18.080Z"
   },
   {
    "duration": 11,
    "start_time": "2021-07-04T16:41:19.921Z"
   },
   {
    "duration": 4,
    "start_time": "2021-07-04T16:41:20.160Z"
   },
   {
    "duration": 491,
    "start_time": "2021-07-04T16:41:20.384Z"
   },
   {
    "duration": 6,
    "start_time": "2021-07-04T16:41:20.878Z"
   },
   {
    "duration": 581,
    "start_time": "2021-07-04T16:41:21.248Z"
   },
   {
    "duration": 6,
    "start_time": "2021-07-04T16:41:21.832Z"
   },
   {
    "duration": 5,
    "start_time": "2021-07-04T16:41:27.167Z"
   },
   {
    "duration": 108,
    "start_time": "2021-07-04T16:42:13.184Z"
   },
   {
    "duration": 115,
    "start_time": "2021-07-04T16:43:35.471Z"
   },
   {
    "duration": 561,
    "start_time": "2021-07-04T16:43:41.112Z"
   },
   {
    "duration": 64,
    "start_time": "2021-07-04T16:44:02.855Z"
   },
   {
    "duration": 332,
    "start_time": "2021-07-04T16:44:06.232Z"
   },
   {
    "duration": 61,
    "start_time": "2021-07-04T16:45:49.630Z"
   },
   {
    "duration": 345,
    "start_time": "2021-07-04T16:45:52.108Z"
   },
   {
    "duration": 121,
    "start_time": "2021-07-04T16:45:56.147Z"
   },
   {
    "duration": 5,
    "start_time": "2021-07-04T16:46:14.373Z"
   },
   {
    "duration": 7,
    "start_time": "2021-07-04T16:46:18.587Z"
   },
   {
    "duration": 360,
    "start_time": "2021-07-04T16:46:32.107Z"
   },
   {
    "duration": 7,
    "start_time": "2021-07-04T16:46:46.468Z"
   },
   {
    "duration": 66,
    "start_time": "2021-07-04T16:47:05.492Z"
   },
   {
    "duration": 357,
    "start_time": "2021-07-04T16:47:09.347Z"
   },
   {
    "duration": 8,
    "start_time": "2021-07-04T16:47:20.827Z"
   },
   {
    "duration": 27,
    "start_time": "2021-07-04T16:47:44.686Z"
   },
   {
    "duration": 384,
    "start_time": "2021-07-04T16:47:47.180Z"
   },
   {
    "duration": 7,
    "start_time": "2021-07-04T16:48:19.100Z"
   },
   {
    "duration": 354,
    "start_time": "2021-07-04T16:52:12.257Z"
   },
   {
    "duration": 4,
    "start_time": "2021-07-04T16:52:17.132Z"
   },
   {
    "duration": 5,
    "start_time": "2021-07-04T16:52:49.416Z"
   },
   {
    "duration": 355,
    "start_time": "2021-07-04T16:54:37.445Z"
   },
   {
    "duration": 324,
    "start_time": "2021-07-04T16:54:57.487Z"
   },
   {
    "duration": 364,
    "start_time": "2021-07-04T16:55:27.719Z"
   },
   {
    "duration": 9,
    "start_time": "2021-07-04T16:55:49.653Z"
   },
   {
    "duration": 19,
    "start_time": "2021-07-04T16:56:05.692Z"
   },
   {
    "duration": 16,
    "start_time": "2021-07-04T16:56:44.133Z"
   },
   {
    "duration": 12,
    "start_time": "2021-07-04T16:56:45.189Z"
   },
   {
    "duration": 10,
    "start_time": "2021-07-04T16:57:01.597Z"
   },
   {
    "duration": 18,
    "start_time": "2021-07-04T16:57:02.062Z"
   },
   {
    "duration": 16,
    "start_time": "2021-07-04T16:57:41.904Z"
   },
   {
    "duration": 11,
    "start_time": "2021-07-04T16:57:42.933Z"
   },
   {
    "duration": 366,
    "start_time": "2021-07-04T16:58:25.149Z"
   },
   {
    "duration": 5,
    "start_time": "2021-07-04T16:58:30.652Z"
   },
   {
    "duration": 13,
    "start_time": "2021-07-04T16:58:46.315Z"
   },
   {
    "duration": 4,
    "start_time": "2021-07-04T16:59:49.043Z"
   },
   {
    "duration": 5,
    "start_time": "2021-07-04T16:59:49.278Z"
   },
   {
    "duration": 18,
    "start_time": "2021-07-04T16:59:49.531Z"
   },
   {
    "duration": 349,
    "start_time": "2021-07-04T16:59:50.906Z"
   },
   {
    "duration": 6,
    "start_time": "2021-07-04T16:59:56.450Z"
   },
   {
    "duration": 6,
    "start_time": "2021-07-04T17:00:28.722Z"
   },
   {
    "duration": 5,
    "start_time": "2021-07-04T17:00:34.153Z"
   },
   {
    "duration": 5,
    "start_time": "2021-07-04T17:00:34.363Z"
   },
   {
    "duration": 18,
    "start_time": "2021-07-04T17:00:34.579Z"
   },
   {
    "duration": 5,
    "start_time": "2021-07-04T17:00:34.780Z"
   },
   {
    "duration": 6,
    "start_time": "2021-07-04T17:00:44.002Z"
   },
   {
    "duration": 944,
    "start_time": "2021-07-04T17:01:44.330Z"
   },
   {
    "duration": 5,
    "start_time": "2021-07-04T17:02:00.875Z"
   },
   {
    "duration": 4,
    "start_time": "2021-07-04T17:03:05.034Z"
   },
   {
    "duration": 5,
    "start_time": "2021-07-04T17:03:05.248Z"
   },
   {
    "duration": 397,
    "start_time": "2021-07-04T17:03:47.241Z"
   },
   {
    "duration": 5,
    "start_time": "2021-07-04T17:04:06.937Z"
   },
   {
    "duration": 5,
    "start_time": "2021-07-04T17:04:10.823Z"
   },
   {
    "duration": 16,
    "start_time": "2021-07-04T17:04:19.664Z"
   },
   {
    "duration": 4,
    "start_time": "2021-07-04T17:05:06.120Z"
   },
   {
    "duration": 5,
    "start_time": "2021-07-04T17:05:06.320Z"
   },
   {
    "duration": 17,
    "start_time": "2021-07-04T17:05:06.503Z"
   },
   {
    "duration": 5,
    "start_time": "2021-07-04T17:05:06.728Z"
   },
   {
    "duration": 4,
    "start_time": "2021-07-04T17:05:06.950Z"
   },
   {
    "duration": 12,
    "start_time": "2021-07-04T17:05:38.287Z"
   },
   {
    "duration": 7,
    "start_time": "2021-07-04T17:05:54.660Z"
   },
   {
    "duration": 6,
    "start_time": "2021-07-04T17:06:07.462Z"
   },
   {
    "duration": 12,
    "start_time": "2021-07-04T17:06:12.121Z"
   },
   {
    "duration": 12,
    "start_time": "2021-07-04T17:08:23.012Z"
   },
   {
    "duration": 4,
    "start_time": "2021-07-04T17:09:02.963Z"
   },
   {
    "duration": 4,
    "start_time": "2021-07-04T17:09:09.317Z"
   },
   {
    "duration": 12,
    "start_time": "2021-07-04T17:10:13.154Z"
   },
   {
    "duration": 2206,
    "start_time": "2021-07-04T17:10:42.104Z"
   },
   {
    "duration": 55,
    "start_time": "2021-07-04T17:10:44.323Z"
   },
   {
    "duration": 22,
    "start_time": "2021-07-04T17:10:44.380Z"
   },
   {
    "duration": 17,
    "start_time": "2021-07-04T17:10:44.406Z"
   },
   {
    "duration": 28,
    "start_time": "2021-07-04T17:10:44.425Z"
   },
   {
    "duration": 12,
    "start_time": "2021-07-04T17:10:44.455Z"
   },
   {
    "duration": 44,
    "start_time": "2021-07-04T17:10:44.469Z"
   },
   {
    "duration": 16,
    "start_time": "2021-07-04T17:10:44.599Z"
   },
   {
    "duration": 6,
    "start_time": "2021-07-04T17:10:45.240Z"
   },
   {
    "duration": 19,
    "start_time": "2021-07-04T17:10:45.448Z"
   },
   {
    "duration": 13,
    "start_time": "2021-07-04T17:10:46.329Z"
   },
   {
    "duration": 8,
    "start_time": "2021-07-04T17:10:46.441Z"
   },
   {
    "duration": 5,
    "start_time": "2021-07-04T17:10:46.696Z"
   },
   {
    "duration": 6,
    "start_time": "2021-07-04T17:10:47.127Z"
   },
   {
    "duration": 9,
    "start_time": "2021-07-04T17:10:47.366Z"
   },
   {
    "duration": 5,
    "start_time": "2021-07-04T17:10:47.607Z"
   },
   {
    "duration": 16,
    "start_time": "2021-07-04T17:10:48.008Z"
   },
   {
    "duration": 17,
    "start_time": "2021-07-04T17:10:48.217Z"
   },
   {
    "duration": 16,
    "start_time": "2021-07-04T17:10:48.875Z"
   },
   {
    "duration": 6,
    "start_time": "2021-07-04T17:10:49.121Z"
   },
   {
    "duration": 9,
    "start_time": "2021-07-04T17:10:49.528Z"
   },
   {
    "duration": 323,
    "start_time": "2021-07-04T17:10:49.736Z"
   },
   {
    "duration": 7,
    "start_time": "2021-07-04T17:10:50.061Z"
   },
   {
    "duration": 280,
    "start_time": "2021-07-04T17:10:50.192Z"
   },
   {
    "duration": 9,
    "start_time": "2021-07-04T17:10:50.475Z"
   },
   {
    "duration": 7,
    "start_time": "2021-07-04T17:10:50.625Z"
   },
   {
    "duration": 398,
    "start_time": "2021-07-04T17:10:51.088Z"
   },
   {
    "duration": 6,
    "start_time": "2021-07-04T17:10:51.767Z"
   },
   {
    "duration": 391,
    "start_time": "2021-07-04T17:10:51.927Z"
   },
   {
    "duration": 21,
    "start_time": "2021-07-04T17:10:52.431Z"
   },
   {
    "duration": 499,
    "start_time": "2021-07-04T17:10:52.672Z"
   },
   {
    "duration": 6,
    "start_time": "2021-07-04T17:10:53.424Z"
   },
   {
    "duration": 396,
    "start_time": "2021-07-04T17:10:53.649Z"
   },
   {
    "duration": 22,
    "start_time": "2021-07-04T17:10:54.055Z"
   },
   {
    "duration": 490,
    "start_time": "2021-07-04T17:10:54.281Z"
   },
   {
    "duration": 10,
    "start_time": "2021-07-04T17:10:55.166Z"
   },
   {
    "duration": 4,
    "start_time": "2021-07-04T17:10:55.382Z"
   },
   {
    "duration": 480,
    "start_time": "2021-07-04T17:10:55.609Z"
   },
   {
    "duration": 6,
    "start_time": "2021-07-04T17:10:56.092Z"
   },
   {
    "duration": 588,
    "start_time": "2021-07-04T17:10:56.296Z"
   },
   {
    "duration": 7,
    "start_time": "2021-07-04T17:10:56.888Z"
   },
   {
    "duration": 4,
    "start_time": "2021-07-04T17:10:57.432Z"
   },
   {
    "duration": 5,
    "start_time": "2021-07-04T17:10:57.673Z"
   },
   {
    "duration": 502,
    "start_time": "2021-07-04T17:10:57.897Z"
   },
   {
    "duration": -129,
    "start_time": "2021-07-04T17:10:58.531Z"
   },
   {
    "duration": 16,
    "start_time": "2021-07-04T17:11:18.807Z"
   },
   {
    "duration": 13,
    "start_time": "2021-07-04T17:18:49.202Z"
   },
   {
    "duration": 23,
    "start_time": "2021-07-04T17:20:17.417Z"
   },
   {
    "duration": 35,
    "start_time": "2021-07-04T17:22:13.507Z"
   },
   {
    "duration": 17,
    "start_time": "2021-07-04T17:23:18.795Z"
   },
   {
    "duration": 9,
    "start_time": "2021-07-04T17:23:25.928Z"
   },
   {
    "duration": 9,
    "start_time": "2021-07-04T17:26:26.299Z"
   },
   {
    "duration": 114,
    "start_time": "2021-07-04T17:26:45.534Z"
   },
   {
    "duration": 6,
    "start_time": "2021-07-04T17:26:52.398Z"
   },
   {
    "duration": 6,
    "start_time": "2021-07-04T17:28:09.510Z"
   },
   {
    "duration": 15927,
    "start_time": "2021-07-04T17:30:20.452Z"
   },
   {
    "duration": 7,
    "start_time": "2021-07-04T17:31:34.747Z"
   },
   {
    "duration": 6,
    "start_time": "2021-07-04T17:31:47.211Z"
   },
   {
    "duration": 6,
    "start_time": "2021-07-04T17:31:47.395Z"
   },
   {
    "duration": 22,
    "start_time": "2021-07-04T17:31:47.619Z"
   },
   {
    "duration": 13,
    "start_time": "2021-07-04T17:31:47.803Z"
   },
   {
    "duration": 23,
    "start_time": "2021-07-04T17:31:52.873Z"
   },
   {
    "duration": 6,
    "start_time": "2021-07-04T17:32:11.859Z"
   },
   {
    "duration": 7,
    "start_time": "2021-07-04T17:32:22.307Z"
   },
   {
    "duration": 7,
    "start_time": "2021-07-04T17:32:34.827Z"
   },
   {
    "duration": 25,
    "start_time": "2021-07-04T17:32:56.332Z"
   },
   {
    "duration": 7,
    "start_time": "2021-07-04T17:32:57.619Z"
   },
   {
    "duration": 7,
    "start_time": "2021-07-04T17:33:04.161Z"
   },
   {
    "duration": 8,
    "start_time": "2021-07-04T17:33:10.219Z"
   },
   {
    "duration": 352,
    "start_time": "2021-07-04T17:33:27.514Z"
   },
   {
    "duration": 73,
    "start_time": "2021-07-04T17:35:46.888Z"
   },
   {
    "duration": 76,
    "start_time": "2021-07-04T17:36:38.423Z"
   },
   {
    "duration": 70,
    "start_time": "2021-07-04T17:37:03.640Z"
   },
   {
    "duration": 16,
    "start_time": "2021-07-04T17:43:52.128Z"
   },
   {
    "duration": 9246,
    "start_time": "2021-07-04T17:53:45.029Z"
   },
   {
    "duration": 19,
    "start_time": "2021-07-04T17:58:24.042Z"
   },
   {
    "duration": 16,
    "start_time": "2021-07-04T18:00:06.288Z"
   },
   {
    "duration": 13,
    "start_time": "2021-07-04T18:00:24.864Z"
   },
   {
    "duration": 10,
    "start_time": "2021-07-04T18:00:26.432Z"
   },
   {
    "duration": 15727,
    "start_time": "2021-07-04T18:07:21.449Z"
   },
   {
    "duration": 10,
    "start_time": "2021-07-04T18:07:58.956Z"
   },
   {
    "duration": 10119,
    "start_time": "2021-07-04T18:09:22.266Z"
   },
   {
    "duration": 6,
    "start_time": "2021-07-04T18:09:46.449Z"
   },
   {
    "duration": 7,
    "start_time": "2021-07-04T18:11:19.720Z"
   },
   {
    "duration": 7,
    "start_time": "2021-07-04T18:11:32.874Z"
   },
   {
    "duration": 626,
    "start_time": "2021-07-04T18:12:10.559Z"
   },
   {
    "duration": 7,
    "start_time": "2021-07-04T18:13:32.760Z"
   },
   {
    "duration": 381,
    "start_time": "2021-07-04T18:13:33.311Z"
   },
   {
    "duration": 5,
    "start_time": "2021-07-04T18:13:40.352Z"
   },
   {
    "duration": 7,
    "start_time": "2021-07-04T18:13:49.367Z"
   },
   {
    "duration": 6,
    "start_time": "2021-07-04T18:13:50.250Z"
   },
   {
    "duration": 7,
    "start_time": "2021-07-04T18:13:57.448Z"
   },
   {
    "duration": 6,
    "start_time": "2021-07-04T18:14:08.503Z"
   },
   {
    "duration": 6,
    "start_time": "2021-07-04T18:21:25.113Z"
   },
   {
    "duration": 358,
    "start_time": "2021-07-04T18:27:17.102Z"
   },
   {
    "duration": 20,
    "start_time": "2021-07-04T18:27:29.405Z"
   },
   {
    "duration": 11,
    "start_time": "2021-07-04T18:28:44.350Z"
   },
   {
    "duration": 10790,
    "start_time": "2021-07-04T18:39:36.381Z"
   },
   {
    "duration": 8764,
    "start_time": "2021-07-04T18:39:48.848Z"
   },
   {
    "duration": 9819,
    "start_time": "2021-07-04T18:40:01.168Z"
   },
   {
    "duration": 9283,
    "start_time": "2021-07-04T18:40:28.576Z"
   },
   {
    "duration": 9097,
    "start_time": "2021-07-04T18:40:41.630Z"
   },
   {
    "duration": 8536,
    "start_time": "2021-07-04T18:40:52.358Z"
   },
   {
    "duration": 23,
    "start_time": "2021-07-04T18:41:26.605Z"
   },
   {
    "duration": 3062,
    "start_time": "2021-07-05T10:20:52.449Z"
   },
   {
    "duration": 58,
    "start_time": "2021-07-05T10:20:55.514Z"
   },
   {
    "duration": 5,
    "start_time": "2021-07-05T10:20:55.575Z"
   },
   {
    "duration": 18,
    "start_time": "2021-07-05T10:20:55.584Z"
   },
   {
    "duration": 28,
    "start_time": "2021-07-05T10:20:55.605Z"
   },
   {
    "duration": 22,
    "start_time": "2021-07-05T10:20:55.636Z"
   },
   {
    "duration": 23,
    "start_time": "2021-07-05T10:20:55.661Z"
   },
   {
    "duration": 25,
    "start_time": "2021-07-05T10:20:55.689Z"
   },
   {
    "duration": 24,
    "start_time": "2021-07-05T10:20:55.717Z"
   },
   {
    "duration": 34,
    "start_time": "2021-07-05T10:20:55.743Z"
   },
   {
    "duration": 12,
    "start_time": "2021-07-05T10:20:55.781Z"
   },
   {
    "duration": 18,
    "start_time": "2021-07-05T10:20:55.795Z"
   },
   {
    "duration": 9,
    "start_time": "2021-07-05T10:20:55.816Z"
   },
   {
    "duration": 15,
    "start_time": "2021-07-05T10:20:55.828Z"
   },
   {
    "duration": 19,
    "start_time": "2021-07-05T10:20:55.846Z"
   },
   {
    "duration": 20,
    "start_time": "2021-07-05T10:20:55.867Z"
   },
   {
    "duration": 25,
    "start_time": "2021-07-05T10:20:55.889Z"
   },
   {
    "duration": 19,
    "start_time": "2021-07-05T10:20:55.917Z"
   },
   {
    "duration": 16,
    "start_time": "2021-07-05T10:20:55.939Z"
   },
   {
    "duration": 14,
    "start_time": "2021-07-05T10:20:55.957Z"
   },
   {
    "duration": 16,
    "start_time": "2021-07-05T10:20:55.973Z"
   },
   {
    "duration": 247,
    "start_time": "2021-07-05T10:20:55.991Z"
   },
   {
    "duration": 6,
    "start_time": "2021-07-05T10:20:56.243Z"
   },
   {
    "duration": 214,
    "start_time": "2021-07-05T10:20:56.252Z"
   },
   {
    "duration": 9,
    "start_time": "2021-07-05T10:20:56.468Z"
   },
   {
    "duration": 29,
    "start_time": "2021-07-05T10:20:56.480Z"
   },
   {
    "duration": 401,
    "start_time": "2021-07-05T10:20:56.511Z"
   },
   {
    "duration": 5,
    "start_time": "2021-07-05T10:20:56.914Z"
   },
   {
    "duration": 447,
    "start_time": "2021-07-05T10:20:56.922Z"
   },
   {
    "duration": 69,
    "start_time": "2021-07-05T10:20:57.372Z"
   },
   {
    "duration": 1539,
    "start_time": "2021-07-05T10:20:57.444Z"
   },
   {
    "duration": 6,
    "start_time": "2021-07-05T10:20:58.985Z"
   },
   {
    "duration": 494,
    "start_time": "2021-07-05T10:20:58.993Z"
   },
   {
    "duration": 52,
    "start_time": "2021-07-05T10:20:59.490Z"
   },
   {
    "duration": 549,
    "start_time": "2021-07-05T10:20:59.545Z"
   },
   {
    "duration": 19,
    "start_time": "2021-07-05T10:21:00.097Z"
   },
   {
    "duration": 14,
    "start_time": "2021-07-05T10:21:00.118Z"
   },
   {
    "duration": 457,
    "start_time": "2021-07-05T10:21:00.135Z"
   },
   {
    "duration": 17,
    "start_time": "2021-07-05T10:21:00.595Z"
   },
   {
    "duration": 485,
    "start_time": "2021-07-05T10:21:00.614Z"
   },
   {
    "duration": 5,
    "start_time": "2021-07-05T10:21:01.109Z"
   },
   {
    "duration": 15,
    "start_time": "2021-07-05T10:21:01.117Z"
   },
   {
    "duration": 24,
    "start_time": "2021-07-05T10:21:01.134Z"
   },
   {
    "duration": 21,
    "start_time": "2021-07-05T10:21:01.161Z"
   },
   {
    "duration": 17,
    "start_time": "2021-07-05T10:21:01.185Z"
   },
   {
    "duration": 33,
    "start_time": "2021-07-05T10:21:01.205Z"
   },
   {
    "duration": 38,
    "start_time": "2021-07-05T10:21:01.241Z"
   },
   {
    "duration": 25,
    "start_time": "2021-07-05T10:21:01.281Z"
   },
   {
    "duration": 27,
    "start_time": "2021-07-05T10:21:01.308Z"
   },
   {
    "duration": 31,
    "start_time": "2021-07-05T10:21:01.337Z"
   },
   {
    "duration": 27,
    "start_time": "2021-07-05T10:21:01.370Z"
   },
   {
    "duration": 19,
    "start_time": "2021-07-05T10:21:01.400Z"
   },
   {
    "duration": 38,
    "start_time": "2021-07-05T10:21:01.421Z"
   },
   {
    "duration": 33,
    "start_time": "2021-07-05T10:21:01.461Z"
   },
   {
    "duration": 25,
    "start_time": "2021-07-05T10:21:01.496Z"
   },
   {
    "duration": 2019,
    "start_time": "2021-07-05T13:30:58.236Z"
   },
   {
    "duration": 123,
    "start_time": "2021-07-05T13:31:00.258Z"
   },
   {
    "duration": 4,
    "start_time": "2021-07-05T13:31:00.682Z"
   },
   {
    "duration": 10,
    "start_time": "2021-07-05T13:31:04.978Z"
   },
   {
    "duration": 16,
    "start_time": "2021-07-05T13:31:09.032Z"
   },
   {
    "duration": 9,
    "start_time": "2021-07-05T13:31:10.786Z"
   },
   {
    "duration": 14,
    "start_time": "2021-07-05T13:31:20.337Z"
   },
   {
    "duration": 11,
    "start_time": "2021-07-05T13:31:30.858Z"
   },
   {
    "duration": 15,
    "start_time": "2021-07-05T13:31:40.145Z"
   },
   {
    "duration": 13,
    "start_time": "2021-07-05T13:40:27.147Z"
   },
   {
    "duration": 21,
    "start_time": "2021-07-05T13:40:32.063Z"
   },
   {
    "duration": 19,
    "start_time": "2021-07-05T13:42:07.500Z"
   },
   {
    "duration": 544,
    "start_time": "2021-07-05T13:43:25.461Z"
   },
   {
    "duration": 25,
    "start_time": "2021-07-05T13:44:15.382Z"
   },
   {
    "duration": 25,
    "start_time": "2021-07-05T13:44:45.878Z"
   },
   {
    "duration": 18,
    "start_time": "2021-07-05T13:45:45.372Z"
   },
   {
    "duration": 8,
    "start_time": "2021-07-05T13:46:27.876Z"
   },
   {
    "duration": 7,
    "start_time": "2021-07-05T13:46:47.396Z"
   },
   {
    "duration": 6,
    "start_time": "2021-07-05T13:46:55.076Z"
   },
   {
    "duration": 333,
    "start_time": "2021-07-05T13:47:10.012Z"
   },
   {
    "duration": 8,
    "start_time": "2021-07-05T13:47:18.053Z"
   },
   {
    "duration": 21,
    "start_time": "2021-07-05T13:49:57.651Z"
   },
   {
    "duration": 6,
    "start_time": "2021-07-05T13:50:09.657Z"
   },
   {
    "duration": 7,
    "start_time": "2021-07-05T13:50:10.185Z"
   },
   {
    "duration": 7,
    "start_time": "2021-07-05T13:51:45.298Z"
   },
   {
    "duration": 18,
    "start_time": "2021-07-05T13:51:45.482Z"
   },
   {
    "duration": 6959,
    "start_time": "2021-07-05T13:56:32.173Z"
   },
   {
    "duration": 18,
    "start_time": "2021-07-05T13:56:56.376Z"
   },
   {
    "duration": 16,
    "start_time": "2021-07-05T13:57:08.224Z"
   },
   {
    "duration": 21,
    "start_time": "2021-07-05T13:57:24.640Z"
   },
   {
    "duration": 9,
    "start_time": "2021-07-05T13:58:11.231Z"
   },
   {
    "duration": 7,
    "start_time": "2021-07-05T13:58:17.928Z"
   },
   {
    "duration": 9,
    "start_time": "2021-07-05T13:58:18.358Z"
   },
   {
    "duration": 5,
    "start_time": "2021-07-05T13:59:00.463Z"
   },
   {
    "duration": 90,
    "start_time": "2021-07-05T13:59:32.608Z"
   },
   {
    "duration": 21,
    "start_time": "2021-07-05T13:59:38.566Z"
   },
   {
    "duration": 11,
    "start_time": "2021-07-05T13:59:54.183Z"
   },
   {
    "duration": 8,
    "start_time": "2021-07-05T13:59:54.359Z"
   },
   {
    "duration": 6,
    "start_time": "2021-07-05T13:59:54.551Z"
   },
   {
    "duration": 6,
    "start_time": "2021-07-05T13:59:54.935Z"
   },
   {
    "duration": 9,
    "start_time": "2021-07-05T13:59:55.136Z"
   },
   {
    "duration": 5,
    "start_time": "2021-07-05T13:59:55.318Z"
   },
   {
    "duration": 15,
    "start_time": "2021-07-05T13:59:55.719Z"
   },
   {
    "duration": 16,
    "start_time": "2021-07-05T13:59:55.911Z"
   },
   {
    "duration": 15,
    "start_time": "2021-07-05T13:59:58.721Z"
   },
   {
    "duration": 6,
    "start_time": "2021-07-05T14:00:04.910Z"
   },
   {
    "duration": 9,
    "start_time": "2021-07-05T14:00:09.878Z"
   },
   {
    "duration": 427,
    "start_time": "2021-07-05T14:00:10.069Z"
   },
   {
    "duration": 8,
    "start_time": "2021-07-05T14:00:10.499Z"
   },
   {
    "duration": 273,
    "start_time": "2021-07-05T14:00:10.540Z"
   },
   {
    "duration": 10,
    "start_time": "2021-07-05T14:00:10.860Z"
   },
   {
    "duration": 7,
    "start_time": "2021-07-05T14:00:11.486Z"
   },
   {
    "duration": 387,
    "start_time": "2021-07-05T14:00:13.494Z"
   },
   {
    "duration": 5,
    "start_time": "2021-07-05T14:00:21.390Z"
   },
   {
    "duration": 373,
    "start_time": "2021-07-05T14:00:21.967Z"
   },
   {
    "duration": 28,
    "start_time": "2021-07-05T14:00:47.471Z"
   },
   {
    "duration": 488,
    "start_time": "2021-07-05T14:00:47.999Z"
   },
   {
    "duration": 5,
    "start_time": "2021-07-05T14:01:06.509Z"
   },
   {
    "duration": 382,
    "start_time": "2021-07-05T14:01:06.941Z"
   },
   {
    "duration": 18,
    "start_time": "2021-07-05T14:01:14.404Z"
   },
   {
    "duration": 471,
    "start_time": "2021-07-05T14:01:15.262Z"
   },
   {
    "duration": 10,
    "start_time": "2021-07-05T14:01:30.310Z"
   },
   {
    "duration": 4,
    "start_time": "2021-07-05T14:01:30.846Z"
   },
   {
    "duration": 463,
    "start_time": "2021-07-05T14:01:31.318Z"
   },
   {
    "duration": 5,
    "start_time": "2021-07-05T14:01:40.230Z"
   },
   {
    "duration": 518,
    "start_time": "2021-07-05T14:02:43.606Z"
   },
   {
    "duration": 5,
    "start_time": "2021-07-05T14:02:51.981Z"
   },
   {
    "duration": 4,
    "start_time": "2021-07-05T14:03:37.647Z"
   },
   {
    "duration": 6,
    "start_time": "2021-07-05T14:03:37.845Z"
   },
   {
    "duration": 23,
    "start_time": "2021-07-05T14:03:38.093Z"
   },
   {
    "duration": 4,
    "start_time": "2021-07-05T14:05:21.181Z"
   },
   {
    "duration": 6,
    "start_time": "2021-07-05T14:05:21.389Z"
   },
   {
    "duration": 19,
    "start_time": "2021-07-05T14:05:21.604Z"
   },
   {
    "duration": 14,
    "start_time": "2021-07-05T14:05:21.805Z"
   },
   {
    "duration": 10,
    "start_time": "2021-07-05T14:05:22.036Z"
   },
   {
    "duration": 10,
    "start_time": "2021-07-05T14:05:34.076Z"
   },
   {
    "duration": 10,
    "start_time": "2021-07-05T14:05:41.637Z"
   },
   {
    "duration": 15,
    "start_time": "2021-07-05T14:10:56.542Z"
   },
   {
    "duration": 14,
    "start_time": "2021-07-05T14:11:08.450Z"
   },
   {
    "duration": 14,
    "start_time": "2021-07-05T14:11:25.906Z"
   },
   {
    "duration": 5,
    "start_time": "2021-07-05T14:11:26.354Z"
   },
   {
    "duration": 7,
    "start_time": "2021-07-05T14:11:26.809Z"
   },
   {
    "duration": 6,
    "start_time": "2021-07-05T14:11:27.370Z"
   },
   {
    "duration": 6,
    "start_time": "2021-07-05T14:11:40.529Z"
   },
   {
    "duration": 17,
    "start_time": "2021-07-05T14:11:41.178Z"
   },
   {
    "duration": 10,
    "start_time": "2021-07-05T14:11:44.546Z"
   },
   {
    "duration": 12,
    "start_time": "2021-07-05T14:13:42.728Z"
   },
   {
    "duration": 6,
    "start_time": "2021-07-05T14:14:53.713Z"
   },
   {
    "duration": 16,
    "start_time": "2021-07-05T14:14:53.953Z"
   },
   {
    "duration": 13,
    "start_time": "2021-07-05T14:14:54.224Z"
   },
   {
    "duration": 23,
    "start_time": "2021-07-05T14:15:18.225Z"
   },
   {
    "duration": 20,
    "start_time": "2021-07-05T14:15:26.890Z"
   },
   {
    "duration": 91,
    "start_time": "2021-07-05T14:19:58.912Z"
   },
   {
    "duration": 1870,
    "start_time": "2021-07-05T14:22:40.486Z"
   },
   {
    "duration": 70,
    "start_time": "2021-07-05T14:22:42.359Z"
   },
   {
    "duration": 4,
    "start_time": "2021-07-05T14:22:42.432Z"
   },
   {
    "duration": 22,
    "start_time": "2021-07-05T14:22:42.439Z"
   },
   {
    "duration": 28,
    "start_time": "2021-07-05T14:22:42.464Z"
   },
   {
    "duration": 13,
    "start_time": "2021-07-05T14:22:42.495Z"
   },
   {
    "duration": 28,
    "start_time": "2021-07-05T14:22:42.510Z"
   },
   {
    "duration": 25,
    "start_time": "2021-07-05T14:22:42.542Z"
   },
   {
    "duration": 24,
    "start_time": "2021-07-05T14:22:42.571Z"
   },
   {
    "duration": 24,
    "start_time": "2021-07-05T14:22:42.597Z"
   },
   {
    "duration": 19,
    "start_time": "2021-07-05T14:22:42.623Z"
   },
   {
    "duration": 26,
    "start_time": "2021-07-05T14:22:42.645Z"
   },
   {
    "duration": 11,
    "start_time": "2021-07-05T14:22:42.674Z"
   },
   {
    "duration": 34,
    "start_time": "2021-07-05T14:22:42.688Z"
   },
   {
    "duration": 7,
    "start_time": "2021-07-05T14:22:42.725Z"
   },
   {
    "duration": 23,
    "start_time": "2021-07-05T14:22:42.734Z"
   },
   {
    "duration": 12,
    "start_time": "2021-07-05T14:22:42.760Z"
   },
   {
    "duration": 20,
    "start_time": "2021-07-05T14:22:42.775Z"
   },
   {
    "duration": 17,
    "start_time": "2021-07-05T14:22:42.797Z"
   },
   {
    "duration": 26,
    "start_time": "2021-07-05T14:22:42.816Z"
   },
   {
    "duration": 15,
    "start_time": "2021-07-05T14:22:42.844Z"
   },
   {
    "duration": 26,
    "start_time": "2021-07-05T14:22:42.861Z"
   },
   {
    "duration": 23,
    "start_time": "2021-07-05T14:22:42.894Z"
   },
   {
    "duration": 14,
    "start_time": "2021-07-05T14:22:42.921Z"
   },
   {
    "duration": 30,
    "start_time": "2021-07-05T14:22:42.938Z"
   },
   {
    "duration": 26,
    "start_time": "2021-07-05T14:22:42.971Z"
   },
   {
    "duration": 320,
    "start_time": "2021-07-05T14:22:43.000Z"
   },
   {
    "duration": 7,
    "start_time": "2021-07-05T14:22:43.322Z"
   },
   {
    "duration": 279,
    "start_time": "2021-07-05T14:22:43.332Z"
   },
   {
    "duration": 22,
    "start_time": "2021-07-05T14:22:43.613Z"
   },
   {
    "duration": 26,
    "start_time": "2021-07-05T14:22:43.637Z"
   },
   {
    "duration": 389,
    "start_time": "2021-07-05T14:22:43.666Z"
   },
   {
    "duration": 6,
    "start_time": "2021-07-05T14:22:44.057Z"
   },
   {
    "duration": 391,
    "start_time": "2021-07-05T14:22:44.066Z"
   },
   {
    "duration": 24,
    "start_time": "2021-07-05T14:22:44.459Z"
   },
   {
    "duration": 502,
    "start_time": "2021-07-05T14:22:44.486Z"
   },
   {
    "duration": 5,
    "start_time": "2021-07-05T14:22:44.991Z"
   },
   {
    "duration": 523,
    "start_time": "2021-07-05T14:22:44.999Z"
   },
   {
    "duration": 42,
    "start_time": "2021-07-05T14:22:45.528Z"
   },
   {
    "duration": 457,
    "start_time": "2021-07-05T14:22:45.574Z"
   },
   {
    "duration": 24,
    "start_time": "2021-07-05T14:22:46.033Z"
   },
   {
    "duration": 4,
    "start_time": "2021-07-05T14:22:46.059Z"
   },
   {
    "duration": 461,
    "start_time": "2021-07-05T14:22:46.065Z"
   },
   {
    "duration": 6,
    "start_time": "2021-07-05T14:22:46.528Z"
   },
   {
    "duration": 571,
    "start_time": "2021-07-05T14:22:46.555Z"
   },
   {
    "duration": 6,
    "start_time": "2021-07-05T14:22:47.128Z"
   },
   {
    "duration": 18,
    "start_time": "2021-07-05T14:22:47.136Z"
   },
   {
    "duration": 7,
    "start_time": "2021-07-05T14:22:47.157Z"
   },
   {
    "duration": 21,
    "start_time": "2021-07-05T14:22:47.166Z"
   },
   {
    "duration": 12,
    "start_time": "2021-07-05T14:22:47.190Z"
   },
   {
    "duration": 11,
    "start_time": "2021-07-05T14:22:47.205Z"
   },
   {
    "duration": 59,
    "start_time": "2021-07-05T14:22:47.219Z"
   },
   {
    "duration": 12,
    "start_time": "2021-07-05T14:22:47.281Z"
   },
   {
    "duration": 16,
    "start_time": "2021-07-05T14:22:47.296Z"
   },
   {
    "duration": 10,
    "start_time": "2021-07-05T14:22:47.315Z"
   },
   {
    "duration": 13,
    "start_time": "2021-07-05T14:22:47.327Z"
   },
   {
    "duration": 15,
    "start_time": "2021-07-05T14:22:47.342Z"
   },
   {
    "duration": 37,
    "start_time": "2021-07-05T14:22:47.359Z"
   },
   {
    "duration": 17,
    "start_time": "2021-07-05T14:22:47.399Z"
   },
   {
    "duration": 19,
    "start_time": "2021-07-05T14:22:47.419Z"
   },
   {
    "duration": 553,
    "start_time": "2021-07-05T14:29:30.696Z"
   },
   {
    "duration": 15,
    "start_time": "2021-07-05T14:29:40.585Z"
   },
   {
    "duration": 4,
    "start_time": "2021-07-05T14:31:35.320Z"
   },
   {
    "duration": 16,
    "start_time": "2021-07-05T14:31:38.279Z"
   },
   {
    "duration": 5,
    "start_time": "2021-07-05T14:32:44.071Z"
   },
   {
    "duration": 562,
    "start_time": "2021-07-05T14:32:56.480Z"
   },
   {
    "duration": 13,
    "start_time": "2021-07-05T14:33:10.599Z"
   },
   {
    "duration": 15,
    "start_time": "2021-07-05T14:33:22.582Z"
   },
   {
    "duration": 293,
    "start_time": "2021-07-05T14:34:16.008Z"
   },
   {
    "duration": 14,
    "start_time": "2021-07-05T14:34:25.927Z"
   },
   {
    "duration": 305,
    "start_time": "2021-07-05T14:35:55.885Z"
   },
   {
    "duration": 5,
    "start_time": "2021-07-05T14:36:01.669Z"
   },
   {
    "duration": 16,
    "start_time": "2021-07-05T14:36:05.894Z"
   },
   {
    "duration": 4,
    "start_time": "2021-07-05T14:36:30.782Z"
   },
   {
    "duration": 13,
    "start_time": "2021-07-05T14:36:33.286Z"
   },
   {
    "duration": 47,
    "start_time": "2021-07-05T14:41:43.881Z"
   },
   {
    "duration": 56,
    "start_time": "2021-07-05T14:42:30.940Z"
   },
   {
    "duration": 90,
    "start_time": "2021-07-05T14:46:36.082Z"
   },
   {
    "duration": 60,
    "start_time": "2021-07-05T14:46:46.194Z"
   },
   {
    "duration": 343,
    "start_time": "2021-07-05T15:04:06.885Z"
   },
   {
    "duration": 119,
    "start_time": "2021-07-05T15:06:52.768Z"
   },
   {
    "duration": 1949,
    "start_time": "2021-07-05T15:07:22.891Z"
   },
   {
    "duration": 71,
    "start_time": "2021-07-05T15:07:24.843Z"
   },
   {
    "duration": 5,
    "start_time": "2021-07-05T15:07:24.918Z"
   },
   {
    "duration": 13,
    "start_time": "2021-07-05T15:07:24.926Z"
   },
   {
    "duration": 16,
    "start_time": "2021-07-05T15:07:24.941Z"
   },
   {
    "duration": 22,
    "start_time": "2021-07-05T15:07:24.959Z"
   },
   {
    "duration": 8,
    "start_time": "2021-07-05T15:07:24.984Z"
   },
   {
    "duration": 10,
    "start_time": "2021-07-05T15:07:24.996Z"
   },
   {
    "duration": 46,
    "start_time": "2021-07-05T15:07:25.009Z"
   },
   {
    "duration": 20,
    "start_time": "2021-07-05T15:07:25.057Z"
   },
   {
    "duration": 3,
    "start_time": "2021-07-05T15:07:25.080Z"
   },
   {
    "duration": 11,
    "start_time": "2021-07-05T15:07:25.085Z"
   },
   {
    "duration": 27,
    "start_time": "2021-07-05T15:07:25.098Z"
   },
   {
    "duration": 6,
    "start_time": "2021-07-05T15:07:25.128Z"
   },
   {
    "duration": 18,
    "start_time": "2021-07-05T15:07:25.155Z"
   },
   {
    "duration": 13,
    "start_time": "2021-07-05T15:07:25.175Z"
   },
   {
    "duration": 10,
    "start_time": "2021-07-05T15:07:25.190Z"
   },
   {
    "duration": 16,
    "start_time": "2021-07-05T15:07:25.202Z"
   },
   {
    "duration": 18,
    "start_time": "2021-07-05T15:07:25.220Z"
   },
   {
    "duration": 22,
    "start_time": "2021-07-05T15:07:25.240Z"
   },
   {
    "duration": 19,
    "start_time": "2021-07-05T15:07:25.264Z"
   },
   {
    "duration": 11,
    "start_time": "2021-07-05T15:07:25.286Z"
   },
   {
    "duration": 26,
    "start_time": "2021-07-05T15:07:25.302Z"
   },
   {
    "duration": 19,
    "start_time": "2021-07-05T15:07:25.332Z"
   },
   {
    "duration": 16,
    "start_time": "2021-07-05T15:07:25.355Z"
   },
   {
    "duration": 16,
    "start_time": "2021-07-05T15:07:25.373Z"
   },
   {
    "duration": 25,
    "start_time": "2021-07-05T15:07:25.391Z"
   },
   {
    "duration": 322,
    "start_time": "2021-07-05T15:07:25.418Z"
   },
   {
    "duration": 13,
    "start_time": "2021-07-05T15:07:25.742Z"
   },
   {
    "duration": 281,
    "start_time": "2021-07-05T15:07:25.758Z"
   },
   {
    "duration": 20,
    "start_time": "2021-07-05T15:07:26.042Z"
   },
   {
    "duration": 11,
    "start_time": "2021-07-05T15:07:26.065Z"
   },
   {
    "duration": 395,
    "start_time": "2021-07-05T15:07:26.079Z"
   },
   {
    "duration": 6,
    "start_time": "2021-07-05T15:07:26.478Z"
   },
   {
    "duration": 390,
    "start_time": "2021-07-05T15:07:26.487Z"
   },
   {
    "duration": 18,
    "start_time": "2021-07-05T15:07:26.879Z"
   },
   {
    "duration": 485,
    "start_time": "2021-07-05T15:07:26.900Z"
   },
   {
    "duration": 5,
    "start_time": "2021-07-05T15:07:27.387Z"
   },
   {
    "duration": 392,
    "start_time": "2021-07-05T15:07:27.394Z"
   },
   {
    "duration": 22,
    "start_time": "2021-07-05T15:07:27.788Z"
   },
   {
    "duration": 546,
    "start_time": "2021-07-05T15:07:27.812Z"
   },
   {
    "duration": 11,
    "start_time": "2021-07-05T15:07:28.361Z"
   },
   {
    "duration": 7,
    "start_time": "2021-07-05T15:07:28.375Z"
   },
   {
    "duration": 455,
    "start_time": "2021-07-05T15:07:28.385Z"
   },
   {
    "duration": 15,
    "start_time": "2021-07-05T15:07:28.843Z"
   },
   {
    "duration": 612,
    "start_time": "2021-07-05T15:07:28.861Z"
   },
   {
    "duration": 5,
    "start_time": "2021-07-05T15:07:29.475Z"
   },
   {
    "duration": 18,
    "start_time": "2021-07-05T15:07:29.483Z"
   },
   {
    "duration": 18,
    "start_time": "2021-07-05T15:07:29.503Z"
   },
   {
    "duration": 23,
    "start_time": "2021-07-05T15:07:29.524Z"
   },
   {
    "duration": 12,
    "start_time": "2021-07-05T15:07:29.555Z"
   },
   {
    "duration": 28,
    "start_time": "2021-07-05T15:07:29.569Z"
   },
   {
    "duration": 14,
    "start_time": "2021-07-05T15:07:29.600Z"
   },
   {
    "duration": 9,
    "start_time": "2021-07-05T15:07:29.617Z"
   },
   {
    "duration": 33,
    "start_time": "2021-07-05T15:07:29.629Z"
   },
   {
    "duration": 18,
    "start_time": "2021-07-05T15:07:29.664Z"
   },
   {
    "duration": 14,
    "start_time": "2021-07-05T15:07:29.684Z"
   },
   {
    "duration": 13,
    "start_time": "2021-07-05T15:07:29.700Z"
   },
   {
    "duration": 21,
    "start_time": "2021-07-05T15:07:29.715Z"
   },
   {
    "duration": 16,
    "start_time": "2021-07-05T15:07:29.738Z"
   },
   {
    "duration": 20,
    "start_time": "2021-07-05T15:07:29.757Z"
   },
   {
    "duration": 1470,
    "start_time": "2021-07-06T08:25:11.812Z"
   },
   {
    "duration": 80,
    "start_time": "2021-07-06T08:25:13.283Z"
   },
   {
    "duration": 3,
    "start_time": "2021-07-06T08:25:13.364Z"
   },
   {
    "duration": 5,
    "start_time": "2021-07-06T08:25:13.368Z"
   },
   {
    "duration": 8,
    "start_time": "2021-07-06T08:25:13.375Z"
   },
   {
    "duration": 10,
    "start_time": "2021-07-06T08:25:13.385Z"
   },
   {
    "duration": 4,
    "start_time": "2021-07-06T08:25:13.397Z"
   },
   {
    "duration": 8,
    "start_time": "2021-07-06T08:25:13.403Z"
   },
   {
    "duration": 9,
    "start_time": "2021-07-06T08:25:13.413Z"
   },
   {
    "duration": 12,
    "start_time": "2021-07-06T08:25:13.423Z"
   },
   {
    "duration": 2,
    "start_time": "2021-07-06T08:25:13.436Z"
   },
   {
    "duration": 8,
    "start_time": "2021-07-06T08:25:13.440Z"
   },
   {
    "duration": 12,
    "start_time": "2021-07-06T08:25:13.450Z"
   },
   {
    "duration": 3,
    "start_time": "2021-07-06T08:25:13.485Z"
   },
   {
    "duration": 13,
    "start_time": "2021-07-06T08:25:13.490Z"
   },
   {
    "duration": 7,
    "start_time": "2021-07-06T08:25:13.505Z"
   },
   {
    "duration": 6,
    "start_time": "2021-07-06T08:25:13.514Z"
   },
   {
    "duration": 6,
    "start_time": "2021-07-06T08:25:13.522Z"
   },
   {
    "duration": 6,
    "start_time": "2021-07-06T08:25:13.529Z"
   },
   {
    "duration": 8,
    "start_time": "2021-07-06T08:25:13.536Z"
   },
   {
    "duration": 11,
    "start_time": "2021-07-06T08:25:13.545Z"
   },
   {
    "duration": 7,
    "start_time": "2021-07-06T08:25:13.557Z"
   },
   {
    "duration": 11,
    "start_time": "2021-07-06T08:25:13.586Z"
   },
   {
    "duration": 10,
    "start_time": "2021-07-06T08:25:13.599Z"
   },
   {
    "duration": 9,
    "start_time": "2021-07-06T08:25:13.611Z"
   },
   {
    "duration": 7,
    "start_time": "2021-07-06T08:25:13.621Z"
   },
   {
    "duration": 6,
    "start_time": "2021-07-06T08:25:13.630Z"
   },
   {
    "duration": 205,
    "start_time": "2021-07-06T08:25:13.638Z"
   },
   {
    "duration": 5,
    "start_time": "2021-07-06T08:25:13.844Z"
   },
   {
    "duration": 161,
    "start_time": "2021-07-06T08:25:13.850Z"
   },
   {
    "duration": 5,
    "start_time": "2021-07-06T08:25:14.013Z"
   },
   {
    "duration": 6,
    "start_time": "2021-07-06T08:25:14.020Z"
   },
   {
    "duration": 250,
    "start_time": "2021-07-06T08:25:14.028Z"
   },
   {
    "duration": 8,
    "start_time": "2021-07-06T08:25:14.279Z"
   },
   {
    "duration": 240,
    "start_time": "2021-07-06T08:25:14.288Z"
   },
   {
    "duration": 11,
    "start_time": "2021-07-06T08:25:14.530Z"
   },
   {
    "duration": 362,
    "start_time": "2021-07-06T08:25:14.542Z"
   },
   {
    "duration": 4,
    "start_time": "2021-07-06T08:25:14.905Z"
   },
   {
    "duration": 257,
    "start_time": "2021-07-06T08:25:14.911Z"
   },
   {
    "duration": 21,
    "start_time": "2021-07-06T08:25:15.170Z"
   },
   {
    "duration": 344,
    "start_time": "2021-07-06T08:25:15.192Z"
   },
   {
    "duration": 8,
    "start_time": "2021-07-06T08:25:15.538Z"
   },
   {
    "duration": 3,
    "start_time": "2021-07-06T08:25:15.547Z"
   },
   {
    "duration": 357,
    "start_time": "2021-07-06T08:25:15.552Z"
   },
   {
    "duration": 5,
    "start_time": "2021-07-06T08:25:15.911Z"
   },
   {
    "duration": 412,
    "start_time": "2021-07-06T08:25:15.918Z"
   },
   {
    "duration": 5,
    "start_time": "2021-07-06T08:25:16.332Z"
   },
   {
    "duration": 5,
    "start_time": "2021-07-06T08:25:16.339Z"
   },
   {
    "duration": 6,
    "start_time": "2021-07-06T08:25:16.345Z"
   },
   {
    "duration": 33,
    "start_time": "2021-07-06T08:25:16.352Z"
   },
   {
    "duration": 10,
    "start_time": "2021-07-06T08:25:16.387Z"
   },
   {
    "duration": 8,
    "start_time": "2021-07-06T08:25:16.398Z"
   },
   {
    "duration": 7,
    "start_time": "2021-07-06T08:25:16.408Z"
   },
   {
    "duration": 10,
    "start_time": "2021-07-06T08:25:16.417Z"
   },
   {
    "duration": 6,
    "start_time": "2021-07-06T08:25:16.428Z"
   },
   {
    "duration": 6,
    "start_time": "2021-07-06T08:25:16.436Z"
   },
   {
    "duration": 5,
    "start_time": "2021-07-06T08:25:16.443Z"
   },
   {
    "duration": 4,
    "start_time": "2021-07-06T08:25:16.450Z"
   },
   {
    "duration": 10,
    "start_time": "2021-07-06T08:25:16.484Z"
   },
   {
    "duration": 6,
    "start_time": "2021-07-06T08:25:16.496Z"
   },
   {
    "duration": 11,
    "start_time": "2021-07-06T08:25:16.504Z"
   },
   {
    "duration": 1980,
    "start_time": "2021-07-15T12:22:24.276Z"
   },
   {
    "duration": 55,
    "start_time": "2021-07-15T12:22:26.259Z"
   },
   {
    "duration": 6,
    "start_time": "2021-07-15T12:22:26.317Z"
   },
   {
    "duration": 10,
    "start_time": "2021-07-15T12:22:26.325Z"
   },
   {
    "duration": 10,
    "start_time": "2021-07-15T12:22:26.749Z"
   },
   {
    "duration": 15,
    "start_time": "2021-07-15T12:22:26.991Z"
   },
   {
    "duration": 8,
    "start_time": "2021-07-15T12:22:27.438Z"
   },
   {
    "duration": 9,
    "start_time": "2021-07-15T12:22:28.135Z"
   },
   {
    "duration": 11,
    "start_time": "2021-07-15T12:22:28.351Z"
   },
   {
    "duration": 16,
    "start_time": "2021-07-15T12:22:28.574Z"
   },
   {
    "duration": 4,
    "start_time": "2021-07-15T12:22:28.805Z"
   },
   {
    "duration": 6,
    "start_time": "2021-07-15T12:22:29.029Z"
   },
   {
    "duration": 13,
    "start_time": "2021-07-15T12:22:29.470Z"
   },
   {
    "duration": 6,
    "start_time": "2021-07-15T12:22:30.134Z"
   },
   {
    "duration": 20,
    "start_time": "2021-07-15T12:22:30.366Z"
   },
   {
    "duration": 7,
    "start_time": "2021-07-15T12:22:30.574Z"
   },
   {
    "duration": 12,
    "start_time": "2021-07-15T12:22:32.598Z"
   },
   {
    "duration": 8,
    "start_time": "2021-07-15T12:22:32.830Z"
   },
   {
    "duration": 5,
    "start_time": "2021-07-15T12:22:33.509Z"
   },
   {
    "duration": 6,
    "start_time": "2021-07-15T12:22:33.982Z"
   },
   {
    "duration": 8,
    "start_time": "2021-07-15T12:22:34.198Z"
   },
   {
    "duration": 6,
    "start_time": "2021-07-15T12:22:34.421Z"
   },
   {
    "duration": 16,
    "start_time": "2021-07-15T12:22:34.854Z"
   },
   {
    "duration": 14,
    "start_time": "2021-07-15T12:22:35.062Z"
   },
   {
    "duration": 16,
    "start_time": "2021-07-15T12:22:38.189Z"
   },
   {
    "duration": 5,
    "start_time": "2021-07-15T12:22:38.429Z"
   },
   {
    "duration": 8,
    "start_time": "2021-07-15T12:22:39.550Z"
   },
   {
    "duration": 308,
    "start_time": "2021-07-15T12:22:39.814Z"
   },
   {
    "duration": 8,
    "start_time": "2021-07-15T12:22:40.124Z"
   },
   {
    "duration": 277,
    "start_time": "2021-07-15T12:22:40.318Z"
   },
   {
    "duration": 9,
    "start_time": "2021-07-15T12:22:40.597Z"
   },
   {
    "duration": 6,
    "start_time": "2021-07-15T12:22:40.982Z"
   },
   {
    "duration": 370,
    "start_time": "2021-07-15T12:22:41.479Z"
   },
   {
    "duration": 5,
    "start_time": "2021-07-15T12:22:42.270Z"
   },
   {
    "duration": 390,
    "start_time": "2021-07-15T12:22:42.541Z"
   },
   {
    "duration": 19,
    "start_time": "2021-07-15T12:22:46.885Z"
   },
   {
    "duration": 502,
    "start_time": "2021-07-15T12:22:47.333Z"
   },
   {
    "duration": 5,
    "start_time": "2021-07-15T12:22:50.766Z"
   },
   {
    "duration": 389,
    "start_time": "2021-07-15T12:22:50.982Z"
   },
   {
    "duration": 19,
    "start_time": "2021-07-15T12:22:53.965Z"
   },
   {
    "duration": 441,
    "start_time": "2021-07-15T12:22:54.182Z"
   },
   {
    "duration": 10,
    "start_time": "2021-07-15T12:22:58.279Z"
   },
   {
    "duration": 4,
    "start_time": "2021-07-15T12:22:58.527Z"
   },
   {
    "duration": 461,
    "start_time": "2021-07-15T12:22:59.182Z"
   },
   {
    "duration": 6,
    "start_time": "2021-07-15T12:22:59.645Z"
   },
   {
    "duration": 546,
    "start_time": "2021-07-15T12:23:00.373Z"
   },
   {
    "duration": 7,
    "start_time": "2021-07-15T12:23:00.922Z"
   },
   {
    "duration": 4,
    "start_time": "2021-07-15T12:23:02.830Z"
   },
   {
    "duration": 6,
    "start_time": "2021-07-15T12:23:03.309Z"
   },
   {
    "duration": 16,
    "start_time": "2021-07-15T12:23:03.821Z"
   },
   {
    "duration": 14,
    "start_time": "2021-07-15T12:23:04.117Z"
   },
   {
    "duration": 11,
    "start_time": "2021-07-15T12:23:04.389Z"
   },
   {
    "duration": 15,
    "start_time": "2021-07-15T12:23:05.238Z"
   },
   {
    "duration": 10,
    "start_time": "2021-07-15T12:23:06.036Z"
   },
   {
    "duration": 5,
    "start_time": "2021-07-15T12:23:06.310Z"
   },
   {
    "duration": 6,
    "start_time": "2021-07-15T12:23:06.548Z"
   },
   {
    "duration": 5,
    "start_time": "2021-07-15T12:23:07.037Z"
   },
   {
    "duration": 5,
    "start_time": "2021-07-15T12:23:07.939Z"
   },
   {
    "duration": 15,
    "start_time": "2021-07-15T12:23:08.382Z"
   },
   {
    "duration": 11,
    "start_time": "2021-07-15T12:23:08.837Z"
   },
   {
    "duration": 21,
    "start_time": "2021-07-15T12:23:09.974Z"
   }
  ],
  "kernelspec": {
   "display_name": "Python 3 (ipykernel)",
   "language": "python",
   "name": "python3"
  },
  "language_info": {
   "codemirror_mode": {
    "name": "ipython",
    "version": 3
   },
   "file_extension": ".py",
   "mimetype": "text/x-python",
   "name": "python",
   "nbconvert_exporter": "python",
   "pygments_lexer": "ipython3",
   "version": "3.9.5"
  },
  "toc": {
   "base_numbering": 1,
   "nav_menu": {},
   "number_sections": true,
   "sideBar": true,
   "skip_h1_title": true,
   "title_cell": "Содержание",
   "title_sidebar": "Содержание",
   "toc_cell": true,
   "toc_position": {},
   "toc_section_display": true,
   "toc_window_display": false
  }
 },
 "nbformat": 4,
 "nbformat_minor": 2
}
